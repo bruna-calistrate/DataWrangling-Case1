{
  "nbformat": 4,
  "nbformat_minor": 0,
  "metadata": {
    "colab": {
      "name": "Case 1 - Data Wrangling - Daily Happiness & Employee Turnover.ipynb",
      "provenance": [],
      "authorship_tag": "ABX9TyOBAg/iSQfjrRlBCcmueu3r",
      "include_colab_link": true
    },
    "kernelspec": {
      "name": "python3",
      "display_name": "Python 3"
    },
    "language_info": {
      "name": "python"
    }
  },
  "cells": [
    {
      "cell_type": "markdown",
      "metadata": {
        "id": "view-in-github",
        "colab_type": "text"
      },
      "source": [
        "<a href=\"https://colab.research.google.com/github/bruna-calistrate/DataWrangling-Case1/blob/main/Case_1_Data_Wrangling_Daily_Happiness_%26_Employee_Turnover.ipynb\" target=\"_parent\"><img src=\"https://colab.research.google.com/assets/colab-badge.svg\" alt=\"Open In Colab\"/></a>"
      ]
    },
    {
      "cell_type": "markdown",
      "source": [
        "# Data Wrangling e Data Cleaning\n",
        "\n",
        "Se você fosse gerente em uma empresa, o que você faria\n",
        "de diferente caso descobrisse que alguns de seus\n",
        "funcionários estão pensando em sair? \n",
        "\n",
        "Daria um aumento, buscaria contratar outro ou tentaria ver como melhorar? De toda forma, ter essa informação seria útil e evitaria muitos problemas!\n",
        "\n",
        "Neste exercício simularemos a etapa de Data Preparation através da limpeza e estruturação dos dados que servirão de insumo para a construção do modelo preditivo mencionado acima.\n",
        "\n"
      ],
      "metadata": {
        "id": "Ehow-8mLUZoj"
      }
    },
    {
      "cell_type": "markdown",
      "source": [
        "Daily Happiness & Employee Turnover\n",
        "\n",
        "\n",
        "Is There a Relationship Between Employee Happiness and Job Turnover?\n",
        "\n",
        "\n",
        "Dataset: https://www.kaggle.com/harriken/employeeturnover\n"
      ],
      "metadata": {
        "id": "l1uqSRCYiC3y"
      }
    },
    {
      "cell_type": "markdown",
      "source": [
        "## Importar bibliotecas"
      ],
      "metadata": {
        "id": "vrFNEh58ZWRQ"
      }
    },
    {
      "cell_type": "code",
      "execution_count": 1,
      "metadata": {
        "id": "zMOjXQtiUQjI"
      },
      "outputs": [],
      "source": [
        "import pandas as pd\n",
        "import numpy as np\n",
        "import datetime as dt\n",
        "import matplotlib.pyplot as plt\n",
        "import seaborn as sns \n",
        "from scipy import stats"
      ]
    },
    {
      "cell_type": "markdown",
      "source": [
        "## Data Understanding"
      ],
      "metadata": {
        "id": "JuxuJ9a4aAzx"
      }
    },
    {
      "cell_type": "markdown",
      "source": [
        "### Contextualização\n",
        "\n",
        "> No verão de 2016, em Barcelona, o CEO da myhappyforce, Alex Rios, explica o funcionamento de seu aplicativo onde funcionários registram diariamente o seu nível de felicidade no trabalho. Esse aplicativo é utilizado por empresas para rastrear a felicidade de seus empregados. \n",
        ">\n",
        ">Os dados foram disponibilidados de forma anonimizada para melhor entendimento do turnover de funcionários e para possibilitar a criação de um modelo que consiga predizer quais empregados irão sair da empresa.\n",
        "\n",
        "### Problema do negócio\n",
        "\n",
        "Se você fosse gerente em uma empresa, o que você faria diferente caso descobrisse que alguns de seus funcionários estão pensando em sair? Daria um aumento, buscaria contratar outro ou tentaria ver como melhorar? De toda forma, seria útil e evitaria muitos problemas!"
      ],
      "metadata": {
        "id": "GBqVRWKL5b8O"
      }
    },
    {
      "cell_type": "markdown",
      "source": [
        "### Importar arquivos\n",
        "\n",
        "**df_votes** - voto de um funcionário ao abrir o aplicativo e responder à pergunta \"Quão feliz você está no trabalho hoje?\". Para votar, o funcionário indica o seu sentimento tocando em um dos quatro ícones na tela.\n",
        "\n",
        "**Tamanho** - 4 colunas e 221.232 linhas\n",
        "* **employee**: número do funcionário (1-999)\n",
        "  * tipo int, sem valores nulos\n",
        "* **companyAlias**: código hash da empresa\n",
        "  * tipo object, sem valores nulos\n",
        "* **voteDate**: data da votação \n",
        "  * tipo object deve ser convertido pra datetime, sem valores nulos\n",
        "* **vote**: voto do empregado (1-4)\n",
        "  * tipo int, sem valores nulos\n"
      ],
      "metadata": {
        "id": "QTtScj3pZlKr"
      }
    },
    {
      "cell_type": "code",
      "source": [
        "df_votes = pd.read_csv(\n",
        "    'https://raw.githubusercontent.com/bruna-calistrate/DataWrangling-Case1/main/dados/votes.csv'\n",
        "    )\n",
        "\n",
        "df_votes.head(3)"
      ],
      "metadata": {
        "colab": {
          "base_uri": "https://localhost:8080/",
          "height": 143
        },
        "id": "pnt6MIqPZzb4",
        "outputId": "fc997e4d-79a2-4a7b-e4be-c45143967659"
      },
      "execution_count": 2,
      "outputs": [
        {
          "output_type": "execute_result",
          "data": {
            "text/plain": [
              "   employee              companyAlias                      voteDate  vote\n",
              "0        31  56aec740f1ef260003e307d6  Mon Feb 01 01:00:00 CET 2016     4\n",
              "1        33  56aec740f1ef260003e307d6  Mon Feb 01 01:00:00 CET 2016     4\n",
              "2        79  56aec740f1ef260003e307d6  Mon Feb 01 01:00:00 CET 2016     4"
            ],
            "text/html": [
              "\n",
              "  <div id=\"df-d4f3c3c8-84da-40fa-9f74-0c95a6dc1a22\">\n",
              "    <div class=\"colab-df-container\">\n",
              "      <div>\n",
              "<style scoped>\n",
              "    .dataframe tbody tr th:only-of-type {\n",
              "        vertical-align: middle;\n",
              "    }\n",
              "\n",
              "    .dataframe tbody tr th {\n",
              "        vertical-align: top;\n",
              "    }\n",
              "\n",
              "    .dataframe thead th {\n",
              "        text-align: right;\n",
              "    }\n",
              "</style>\n",
              "<table border=\"1\" class=\"dataframe\">\n",
              "  <thead>\n",
              "    <tr style=\"text-align: right;\">\n",
              "      <th></th>\n",
              "      <th>employee</th>\n",
              "      <th>companyAlias</th>\n",
              "      <th>voteDate</th>\n",
              "      <th>vote</th>\n",
              "    </tr>\n",
              "  </thead>\n",
              "  <tbody>\n",
              "    <tr>\n",
              "      <th>0</th>\n",
              "      <td>31</td>\n",
              "      <td>56aec740f1ef260003e307d6</td>\n",
              "      <td>Mon Feb 01 01:00:00 CET 2016</td>\n",
              "      <td>4</td>\n",
              "    </tr>\n",
              "    <tr>\n",
              "      <th>1</th>\n",
              "      <td>33</td>\n",
              "      <td>56aec740f1ef260003e307d6</td>\n",
              "      <td>Mon Feb 01 01:00:00 CET 2016</td>\n",
              "      <td>4</td>\n",
              "    </tr>\n",
              "    <tr>\n",
              "      <th>2</th>\n",
              "      <td>79</td>\n",
              "      <td>56aec740f1ef260003e307d6</td>\n",
              "      <td>Mon Feb 01 01:00:00 CET 2016</td>\n",
              "      <td>4</td>\n",
              "    </tr>\n",
              "  </tbody>\n",
              "</table>\n",
              "</div>\n",
              "      <button class=\"colab-df-convert\" onclick=\"convertToInteractive('df-d4f3c3c8-84da-40fa-9f74-0c95a6dc1a22')\"\n",
              "              title=\"Convert this dataframe to an interactive table.\"\n",
              "              style=\"display:none;\">\n",
              "        \n",
              "  <svg xmlns=\"http://www.w3.org/2000/svg\" height=\"24px\"viewBox=\"0 0 24 24\"\n",
              "       width=\"24px\">\n",
              "    <path d=\"M0 0h24v24H0V0z\" fill=\"none\"/>\n",
              "    <path d=\"M18.56 5.44l.94 2.06.94-2.06 2.06-.94-2.06-.94-.94-2.06-.94 2.06-2.06.94zm-11 1L8.5 8.5l.94-2.06 2.06-.94-2.06-.94L8.5 2.5l-.94 2.06-2.06.94zm10 10l.94 2.06.94-2.06 2.06-.94-2.06-.94-.94-2.06-.94 2.06-2.06.94z\"/><path d=\"M17.41 7.96l-1.37-1.37c-.4-.4-.92-.59-1.43-.59-.52 0-1.04.2-1.43.59L10.3 9.45l-7.72 7.72c-.78.78-.78 2.05 0 2.83L4 21.41c.39.39.9.59 1.41.59.51 0 1.02-.2 1.41-.59l7.78-7.78 2.81-2.81c.8-.78.8-2.07 0-2.86zM5.41 20L4 18.59l7.72-7.72 1.47 1.35L5.41 20z\"/>\n",
              "  </svg>\n",
              "      </button>\n",
              "      \n",
              "  <style>\n",
              "    .colab-df-container {\n",
              "      display:flex;\n",
              "      flex-wrap:wrap;\n",
              "      gap: 12px;\n",
              "    }\n",
              "\n",
              "    .colab-df-convert {\n",
              "      background-color: #E8F0FE;\n",
              "      border: none;\n",
              "      border-radius: 50%;\n",
              "      cursor: pointer;\n",
              "      display: none;\n",
              "      fill: #1967D2;\n",
              "      height: 32px;\n",
              "      padding: 0 0 0 0;\n",
              "      width: 32px;\n",
              "    }\n",
              "\n",
              "    .colab-df-convert:hover {\n",
              "      background-color: #E2EBFA;\n",
              "      box-shadow: 0px 1px 2px rgba(60, 64, 67, 0.3), 0px 1px 3px 1px rgba(60, 64, 67, 0.15);\n",
              "      fill: #174EA6;\n",
              "    }\n",
              "\n",
              "    [theme=dark] .colab-df-convert {\n",
              "      background-color: #3B4455;\n",
              "      fill: #D2E3FC;\n",
              "    }\n",
              "\n",
              "    [theme=dark] .colab-df-convert:hover {\n",
              "      background-color: #434B5C;\n",
              "      box-shadow: 0px 1px 3px 1px rgba(0, 0, 0, 0.15);\n",
              "      filter: drop-shadow(0px 1px 2px rgba(0, 0, 0, 0.3));\n",
              "      fill: #FFFFFF;\n",
              "    }\n",
              "  </style>\n",
              "\n",
              "      <script>\n",
              "        const buttonEl =\n",
              "          document.querySelector('#df-d4f3c3c8-84da-40fa-9f74-0c95a6dc1a22 button.colab-df-convert');\n",
              "        buttonEl.style.display =\n",
              "          google.colab.kernel.accessAllowed ? 'block' : 'none';\n",
              "\n",
              "        async function convertToInteractive(key) {\n",
              "          const element = document.querySelector('#df-d4f3c3c8-84da-40fa-9f74-0c95a6dc1a22');\n",
              "          const dataTable =\n",
              "            await google.colab.kernel.invokeFunction('convertToInteractive',\n",
              "                                                     [key], {});\n",
              "          if (!dataTable) return;\n",
              "\n",
              "          const docLinkHtml = 'Like what you see? Visit the ' +\n",
              "            '<a target=\"_blank\" href=https://colab.research.google.com/notebooks/data_table.ipynb>data table notebook</a>'\n",
              "            + ' to learn more about interactive tables.';\n",
              "          element.innerHTML = '';\n",
              "          dataTable['output_type'] = 'display_data';\n",
              "          await google.colab.output.renderOutput(dataTable, element);\n",
              "          const docLink = document.createElement('div');\n",
              "          docLink.innerHTML = docLinkHtml;\n",
              "          element.appendChild(docLink);\n",
              "        }\n",
              "      </script>\n",
              "    </div>\n",
              "  </div>\n",
              "  "
            ]
          },
          "metadata": {},
          "execution_count": 2
        }
      ]
    },
    {
      "cell_type": "code",
      "source": [
        "df_votes.info()"
      ],
      "metadata": {
        "colab": {
          "base_uri": "https://localhost:8080/"
        },
        "id": "Q9F9fLRxY07H",
        "outputId": "dca7d9a0-db2a-40da-b1ec-ba30eae7fd50"
      },
      "execution_count": 3,
      "outputs": [
        {
          "output_type": "stream",
          "name": "stdout",
          "text": [
            "<class 'pandas.core.frame.DataFrame'>\n",
            "RangeIndex: 221232 entries, 0 to 221231\n",
            "Data columns (total 4 columns):\n",
            " #   Column        Non-Null Count   Dtype \n",
            "---  ------        --------------   ----- \n",
            " 0   employee      221232 non-null  int64 \n",
            " 1   companyAlias  221232 non-null  object\n",
            " 2   voteDate      221232 non-null  object\n",
            " 3   vote          221232 non-null  int64 \n",
            "dtypes: int64(2), object(2)\n",
            "memory usage: 6.8+ MB\n"
          ]
        }
      ]
    },
    {
      "cell_type": "code",
      "source": [
        "df_votes.describe()"
      ],
      "metadata": {
        "colab": {
          "base_uri": "https://localhost:8080/",
          "height": 300
        },
        "id": "D4_Ke_KqI4vy",
        "outputId": "78a4e711-7564-403a-fc82-c430a4ec5fdc"
      },
      "execution_count": 4,
      "outputs": [
        {
          "output_type": "execute_result",
          "data": {
            "text/plain": [
              "            employee           vote\n",
              "count  221232.000000  221232.000000\n",
              "mean      172.119562       2.861530\n",
              "std       172.723491       0.986078\n",
              "min         1.000000       1.000000\n",
              "25%        50.000000       2.000000\n",
              "50%       127.000000       3.000000\n",
              "75%       222.000000       4.000000\n",
              "max       999.000000       4.000000"
            ],
            "text/html": [
              "\n",
              "  <div id=\"df-aa0993ad-fb6f-43c2-8241-e9c92eabf620\">\n",
              "    <div class=\"colab-df-container\">\n",
              "      <div>\n",
              "<style scoped>\n",
              "    .dataframe tbody tr th:only-of-type {\n",
              "        vertical-align: middle;\n",
              "    }\n",
              "\n",
              "    .dataframe tbody tr th {\n",
              "        vertical-align: top;\n",
              "    }\n",
              "\n",
              "    .dataframe thead th {\n",
              "        text-align: right;\n",
              "    }\n",
              "</style>\n",
              "<table border=\"1\" class=\"dataframe\">\n",
              "  <thead>\n",
              "    <tr style=\"text-align: right;\">\n",
              "      <th></th>\n",
              "      <th>employee</th>\n",
              "      <th>vote</th>\n",
              "    </tr>\n",
              "  </thead>\n",
              "  <tbody>\n",
              "    <tr>\n",
              "      <th>count</th>\n",
              "      <td>221232.000000</td>\n",
              "      <td>221232.000000</td>\n",
              "    </tr>\n",
              "    <tr>\n",
              "      <th>mean</th>\n",
              "      <td>172.119562</td>\n",
              "      <td>2.861530</td>\n",
              "    </tr>\n",
              "    <tr>\n",
              "      <th>std</th>\n",
              "      <td>172.723491</td>\n",
              "      <td>0.986078</td>\n",
              "    </tr>\n",
              "    <tr>\n",
              "      <th>min</th>\n",
              "      <td>1.000000</td>\n",
              "      <td>1.000000</td>\n",
              "    </tr>\n",
              "    <tr>\n",
              "      <th>25%</th>\n",
              "      <td>50.000000</td>\n",
              "      <td>2.000000</td>\n",
              "    </tr>\n",
              "    <tr>\n",
              "      <th>50%</th>\n",
              "      <td>127.000000</td>\n",
              "      <td>3.000000</td>\n",
              "    </tr>\n",
              "    <tr>\n",
              "      <th>75%</th>\n",
              "      <td>222.000000</td>\n",
              "      <td>4.000000</td>\n",
              "    </tr>\n",
              "    <tr>\n",
              "      <th>max</th>\n",
              "      <td>999.000000</td>\n",
              "      <td>4.000000</td>\n",
              "    </tr>\n",
              "  </tbody>\n",
              "</table>\n",
              "</div>\n",
              "      <button class=\"colab-df-convert\" onclick=\"convertToInteractive('df-aa0993ad-fb6f-43c2-8241-e9c92eabf620')\"\n",
              "              title=\"Convert this dataframe to an interactive table.\"\n",
              "              style=\"display:none;\">\n",
              "        \n",
              "  <svg xmlns=\"http://www.w3.org/2000/svg\" height=\"24px\"viewBox=\"0 0 24 24\"\n",
              "       width=\"24px\">\n",
              "    <path d=\"M0 0h24v24H0V0z\" fill=\"none\"/>\n",
              "    <path d=\"M18.56 5.44l.94 2.06.94-2.06 2.06-.94-2.06-.94-.94-2.06-.94 2.06-2.06.94zm-11 1L8.5 8.5l.94-2.06 2.06-.94-2.06-.94L8.5 2.5l-.94 2.06-2.06.94zm10 10l.94 2.06.94-2.06 2.06-.94-2.06-.94-.94-2.06-.94 2.06-2.06.94z\"/><path d=\"M17.41 7.96l-1.37-1.37c-.4-.4-.92-.59-1.43-.59-.52 0-1.04.2-1.43.59L10.3 9.45l-7.72 7.72c-.78.78-.78 2.05 0 2.83L4 21.41c.39.39.9.59 1.41.59.51 0 1.02-.2 1.41-.59l7.78-7.78 2.81-2.81c.8-.78.8-2.07 0-2.86zM5.41 20L4 18.59l7.72-7.72 1.47 1.35L5.41 20z\"/>\n",
              "  </svg>\n",
              "      </button>\n",
              "      \n",
              "  <style>\n",
              "    .colab-df-container {\n",
              "      display:flex;\n",
              "      flex-wrap:wrap;\n",
              "      gap: 12px;\n",
              "    }\n",
              "\n",
              "    .colab-df-convert {\n",
              "      background-color: #E8F0FE;\n",
              "      border: none;\n",
              "      border-radius: 50%;\n",
              "      cursor: pointer;\n",
              "      display: none;\n",
              "      fill: #1967D2;\n",
              "      height: 32px;\n",
              "      padding: 0 0 0 0;\n",
              "      width: 32px;\n",
              "    }\n",
              "\n",
              "    .colab-df-convert:hover {\n",
              "      background-color: #E2EBFA;\n",
              "      box-shadow: 0px 1px 2px rgba(60, 64, 67, 0.3), 0px 1px 3px 1px rgba(60, 64, 67, 0.15);\n",
              "      fill: #174EA6;\n",
              "    }\n",
              "\n",
              "    [theme=dark] .colab-df-convert {\n",
              "      background-color: #3B4455;\n",
              "      fill: #D2E3FC;\n",
              "    }\n",
              "\n",
              "    [theme=dark] .colab-df-convert:hover {\n",
              "      background-color: #434B5C;\n",
              "      box-shadow: 0px 1px 3px 1px rgba(0, 0, 0, 0.15);\n",
              "      filter: drop-shadow(0px 1px 2px rgba(0, 0, 0, 0.3));\n",
              "      fill: #FFFFFF;\n",
              "    }\n",
              "  </style>\n",
              "\n",
              "      <script>\n",
              "        const buttonEl =\n",
              "          document.querySelector('#df-aa0993ad-fb6f-43c2-8241-e9c92eabf620 button.colab-df-convert');\n",
              "        buttonEl.style.display =\n",
              "          google.colab.kernel.accessAllowed ? 'block' : 'none';\n",
              "\n",
              "        async function convertToInteractive(key) {\n",
              "          const element = document.querySelector('#df-aa0993ad-fb6f-43c2-8241-e9c92eabf620');\n",
              "          const dataTable =\n",
              "            await google.colab.kernel.invokeFunction('convertToInteractive',\n",
              "                                                     [key], {});\n",
              "          if (!dataTable) return;\n",
              "\n",
              "          const docLinkHtml = 'Like what you see? Visit the ' +\n",
              "            '<a target=\"_blank\" href=https://colab.research.google.com/notebooks/data_table.ipynb>data table notebook</a>'\n",
              "            + ' to learn more about interactive tables.';\n",
              "          element.innerHTML = '';\n",
              "          dataTable['output_type'] = 'display_data';\n",
              "          await google.colab.output.renderOutput(dataTable, element);\n",
              "          const docLink = document.createElement('div');\n",
              "          docLink.innerHTML = docLinkHtml;\n",
              "          element.appendChild(docLink);\n",
              "        }\n",
              "      </script>\n",
              "    </div>\n",
              "  </div>\n",
              "  "
            ]
          },
          "metadata": {},
          "execution_count": 4
        }
      ]
    },
    {
      "cell_type": "markdown",
      "source": [
        "**df_comments** - após votar, uma nova tela aparece onde o funcionário pode incluir um comentário explicando o seu sentimento. Aqui os comentários estão anonimizados.\n",
        "\n",
        "**Tamanho** - 7 colunas e 82.756 linhas\n",
        "* **employee**: número do funcionário (-217-999)\n",
        "  * tipo int, sem valores nulos\n",
        "  * não pode ser negativo, deve ser tratado\n",
        "* **companyAlias**: código hash da empresa\n",
        "  * tipo object, sem valores nulos\n",
        "* **commentId**: código hash do comentário\n",
        " * tipo object, sem valores nulos\n",
        "* **txt**: conteúdo anonimizado do comentário, com a mesma quantidade de caracteres original\n",
        " * tipo object, com alguns valores nulos\n",
        "* **likes**: quantidade de curtidas (0-86)\n",
        "  * tipo float deve ser convertido para int, contém 1 valor nulo\n",
        "  * média de 6,9, sendo que até 75% dos funcionários obtiveram 9 curtidas\n",
        "* **dislikes**: quantidade de descurtidas (0-53)\n",
        "  * tipo float, deve ser convertido para int, contém 1 valor nulo\n",
        "  * média de 1,3, sendo que até 75% dos funcionários obtiveram 1 descurtida\n",
        "* **commentDate**: data de postagem do comentário\n",
        "  * tipo object deve ser convertido para datetime, contém 1 valor nulo"
      ],
      "metadata": {
        "id": "5IwaKZxhz7DZ"
      }
    },
    {
      "cell_type": "code",
      "source": [
        "df_comments = pd.read_csv(\n",
        "    'https://raw.githubusercontent.com/bruna-calistrate/DataWrangling-Case1/main/dados/comments_clean_anonimized.csv'\n",
        "    )\n",
        "\n",
        "df_comments.head(3)"
      ],
      "metadata": {
        "colab": {
          "base_uri": "https://localhost:8080/",
          "height": 143
        },
        "id": "IV01PFllw3C_",
        "outputId": "c04ca216-3b22-4018-f0b4-eed2ff76579d"
      },
      "execution_count": 5,
      "outputs": [
        {
          "output_type": "execute_result",
          "data": {
            "text/plain": [
              "   employee              companyAlias                 commentId  \\\n",
              "0       307  56aec740f1ef260003e307d6  58d018d7e010990004e38070   \n",
              "1       382  56aec740f1ef260003e307d6  58d0179ae010990004e3806d   \n",
              "2       172  56aec740f1ef260003e307d6  58cff8cde010990004e37f6a   \n",
              "\n",
              "                                                 txt  likes  dislikes  \\\n",
              "0  **********************************************...    4.0       0.0   \n",
              "1                      *****************************    1.0       2.0   \n",
              "2                        ***************************    3.0       0.0   \n",
              "\n",
              "                    commentDate  \n",
              "0  Mon Mar 20 19:00:17 CET 2017  \n",
              "1  Mon Mar 20 18:55:16 CET 2017  \n",
              "2  Mon Mar 20 16:44:02 CET 2017  "
            ],
            "text/html": [
              "\n",
              "  <div id=\"df-6526789e-e19c-4768-97b5-d7aae21b85e8\">\n",
              "    <div class=\"colab-df-container\">\n",
              "      <div>\n",
              "<style scoped>\n",
              "    .dataframe tbody tr th:only-of-type {\n",
              "        vertical-align: middle;\n",
              "    }\n",
              "\n",
              "    .dataframe tbody tr th {\n",
              "        vertical-align: top;\n",
              "    }\n",
              "\n",
              "    .dataframe thead th {\n",
              "        text-align: right;\n",
              "    }\n",
              "</style>\n",
              "<table border=\"1\" class=\"dataframe\">\n",
              "  <thead>\n",
              "    <tr style=\"text-align: right;\">\n",
              "      <th></th>\n",
              "      <th>employee</th>\n",
              "      <th>companyAlias</th>\n",
              "      <th>commentId</th>\n",
              "      <th>txt</th>\n",
              "      <th>likes</th>\n",
              "      <th>dislikes</th>\n",
              "      <th>commentDate</th>\n",
              "    </tr>\n",
              "  </thead>\n",
              "  <tbody>\n",
              "    <tr>\n",
              "      <th>0</th>\n",
              "      <td>307</td>\n",
              "      <td>56aec740f1ef260003e307d6</td>\n",
              "      <td>58d018d7e010990004e38070</td>\n",
              "      <td>**********************************************...</td>\n",
              "      <td>4.0</td>\n",
              "      <td>0.0</td>\n",
              "      <td>Mon Mar 20 19:00:17 CET 2017</td>\n",
              "    </tr>\n",
              "    <tr>\n",
              "      <th>1</th>\n",
              "      <td>382</td>\n",
              "      <td>56aec740f1ef260003e307d6</td>\n",
              "      <td>58d0179ae010990004e3806d</td>\n",
              "      <td>*****************************</td>\n",
              "      <td>1.0</td>\n",
              "      <td>2.0</td>\n",
              "      <td>Mon Mar 20 18:55:16 CET 2017</td>\n",
              "    </tr>\n",
              "    <tr>\n",
              "      <th>2</th>\n",
              "      <td>172</td>\n",
              "      <td>56aec740f1ef260003e307d6</td>\n",
              "      <td>58cff8cde010990004e37f6a</td>\n",
              "      <td>***************************</td>\n",
              "      <td>3.0</td>\n",
              "      <td>0.0</td>\n",
              "      <td>Mon Mar 20 16:44:02 CET 2017</td>\n",
              "    </tr>\n",
              "  </tbody>\n",
              "</table>\n",
              "</div>\n",
              "      <button class=\"colab-df-convert\" onclick=\"convertToInteractive('df-6526789e-e19c-4768-97b5-d7aae21b85e8')\"\n",
              "              title=\"Convert this dataframe to an interactive table.\"\n",
              "              style=\"display:none;\">\n",
              "        \n",
              "  <svg xmlns=\"http://www.w3.org/2000/svg\" height=\"24px\"viewBox=\"0 0 24 24\"\n",
              "       width=\"24px\">\n",
              "    <path d=\"M0 0h24v24H0V0z\" fill=\"none\"/>\n",
              "    <path d=\"M18.56 5.44l.94 2.06.94-2.06 2.06-.94-2.06-.94-.94-2.06-.94 2.06-2.06.94zm-11 1L8.5 8.5l.94-2.06 2.06-.94-2.06-.94L8.5 2.5l-.94 2.06-2.06.94zm10 10l.94 2.06.94-2.06 2.06-.94-2.06-.94-.94-2.06-.94 2.06-2.06.94z\"/><path d=\"M17.41 7.96l-1.37-1.37c-.4-.4-.92-.59-1.43-.59-.52 0-1.04.2-1.43.59L10.3 9.45l-7.72 7.72c-.78.78-.78 2.05 0 2.83L4 21.41c.39.39.9.59 1.41.59.51 0 1.02-.2 1.41-.59l7.78-7.78 2.81-2.81c.8-.78.8-2.07 0-2.86zM5.41 20L4 18.59l7.72-7.72 1.47 1.35L5.41 20z\"/>\n",
              "  </svg>\n",
              "      </button>\n",
              "      \n",
              "  <style>\n",
              "    .colab-df-container {\n",
              "      display:flex;\n",
              "      flex-wrap:wrap;\n",
              "      gap: 12px;\n",
              "    }\n",
              "\n",
              "    .colab-df-convert {\n",
              "      background-color: #E8F0FE;\n",
              "      border: none;\n",
              "      border-radius: 50%;\n",
              "      cursor: pointer;\n",
              "      display: none;\n",
              "      fill: #1967D2;\n",
              "      height: 32px;\n",
              "      padding: 0 0 0 0;\n",
              "      width: 32px;\n",
              "    }\n",
              "\n",
              "    .colab-df-convert:hover {\n",
              "      background-color: #E2EBFA;\n",
              "      box-shadow: 0px 1px 2px rgba(60, 64, 67, 0.3), 0px 1px 3px 1px rgba(60, 64, 67, 0.15);\n",
              "      fill: #174EA6;\n",
              "    }\n",
              "\n",
              "    [theme=dark] .colab-df-convert {\n",
              "      background-color: #3B4455;\n",
              "      fill: #D2E3FC;\n",
              "    }\n",
              "\n",
              "    [theme=dark] .colab-df-convert:hover {\n",
              "      background-color: #434B5C;\n",
              "      box-shadow: 0px 1px 3px 1px rgba(0, 0, 0, 0.15);\n",
              "      filter: drop-shadow(0px 1px 2px rgba(0, 0, 0, 0.3));\n",
              "      fill: #FFFFFF;\n",
              "    }\n",
              "  </style>\n",
              "\n",
              "      <script>\n",
              "        const buttonEl =\n",
              "          document.querySelector('#df-6526789e-e19c-4768-97b5-d7aae21b85e8 button.colab-df-convert');\n",
              "        buttonEl.style.display =\n",
              "          google.colab.kernel.accessAllowed ? 'block' : 'none';\n",
              "\n",
              "        async function convertToInteractive(key) {\n",
              "          const element = document.querySelector('#df-6526789e-e19c-4768-97b5-d7aae21b85e8');\n",
              "          const dataTable =\n",
              "            await google.colab.kernel.invokeFunction('convertToInteractive',\n",
              "                                                     [key], {});\n",
              "          if (!dataTable) return;\n",
              "\n",
              "          const docLinkHtml = 'Like what you see? Visit the ' +\n",
              "            '<a target=\"_blank\" href=https://colab.research.google.com/notebooks/data_table.ipynb>data table notebook</a>'\n",
              "            + ' to learn more about interactive tables.';\n",
              "          element.innerHTML = '';\n",
              "          dataTable['output_type'] = 'display_data';\n",
              "          await google.colab.output.renderOutput(dataTable, element);\n",
              "          const docLink = document.createElement('div');\n",
              "          docLink.innerHTML = docLinkHtml;\n",
              "          element.appendChild(docLink);\n",
              "        }\n",
              "      </script>\n",
              "    </div>\n",
              "  </div>\n",
              "  "
            ]
          },
          "metadata": {},
          "execution_count": 5
        }
      ]
    },
    {
      "cell_type": "code",
      "source": [
        "df_comments.info()"
      ],
      "metadata": {
        "colab": {
          "base_uri": "https://localhost:8080/"
        },
        "id": "TpfYOUEoXGkf",
        "outputId": "9abcd5b9-6979-4767-e79a-29e9ed9a63ee"
      },
      "execution_count": 6,
      "outputs": [
        {
          "output_type": "stream",
          "name": "stdout",
          "text": [
            "<class 'pandas.core.frame.DataFrame'>\n",
            "RangeIndex: 82756 entries, 0 to 82755\n",
            "Data columns (total 7 columns):\n",
            " #   Column        Non-Null Count  Dtype  \n",
            "---  ------        --------------  -----  \n",
            " 0   employee      82756 non-null  int64  \n",
            " 1   companyAlias  82756 non-null  object \n",
            " 2   commentId     82756 non-null  object \n",
            " 3   txt           82539 non-null  object \n",
            " 4   likes         82755 non-null  float64\n",
            " 5   dislikes      82755 non-null  float64\n",
            " 6   commentDate   82755 non-null  object \n",
            "dtypes: float64(2), int64(1), object(4)\n",
            "memory usage: 4.4+ MB\n"
          ]
        }
      ]
    },
    {
      "cell_type": "code",
      "source": [
        "df_comments.describe()"
      ],
      "metadata": {
        "colab": {
          "base_uri": "https://localhost:8080/",
          "height": 300
        },
        "id": "wcW5l-ZJhhAC",
        "outputId": "6fc1d087-d09b-4ea5-a9e9-959a182fb898"
      },
      "execution_count": 7,
      "outputs": [
        {
          "output_type": "execute_result",
          "data": {
            "text/plain": [
              "           employee         likes      dislikes\n",
              "count  82756.000000  82755.000000  82755.000000\n",
              "mean     135.108427      6.873107      1.270534\n",
              "std      161.530227      7.704659      2.715937\n",
              "min     -217.000000      0.000000      0.000000\n",
              "25%       29.000000      2.000000      0.000000\n",
              "50%      102.000000      4.000000      0.000000\n",
              "75%      197.000000      9.000000      1.000000\n",
              "max      999.000000     86.000000     53.000000"
            ],
            "text/html": [
              "\n",
              "  <div id=\"df-a77bddc2-ace1-4205-997d-098fb4f4e0fe\">\n",
              "    <div class=\"colab-df-container\">\n",
              "      <div>\n",
              "<style scoped>\n",
              "    .dataframe tbody tr th:only-of-type {\n",
              "        vertical-align: middle;\n",
              "    }\n",
              "\n",
              "    .dataframe tbody tr th {\n",
              "        vertical-align: top;\n",
              "    }\n",
              "\n",
              "    .dataframe thead th {\n",
              "        text-align: right;\n",
              "    }\n",
              "</style>\n",
              "<table border=\"1\" class=\"dataframe\">\n",
              "  <thead>\n",
              "    <tr style=\"text-align: right;\">\n",
              "      <th></th>\n",
              "      <th>employee</th>\n",
              "      <th>likes</th>\n",
              "      <th>dislikes</th>\n",
              "    </tr>\n",
              "  </thead>\n",
              "  <tbody>\n",
              "    <tr>\n",
              "      <th>count</th>\n",
              "      <td>82756.000000</td>\n",
              "      <td>82755.000000</td>\n",
              "      <td>82755.000000</td>\n",
              "    </tr>\n",
              "    <tr>\n",
              "      <th>mean</th>\n",
              "      <td>135.108427</td>\n",
              "      <td>6.873107</td>\n",
              "      <td>1.270534</td>\n",
              "    </tr>\n",
              "    <tr>\n",
              "      <th>std</th>\n",
              "      <td>161.530227</td>\n",
              "      <td>7.704659</td>\n",
              "      <td>2.715937</td>\n",
              "    </tr>\n",
              "    <tr>\n",
              "      <th>min</th>\n",
              "      <td>-217.000000</td>\n",
              "      <td>0.000000</td>\n",
              "      <td>0.000000</td>\n",
              "    </tr>\n",
              "    <tr>\n",
              "      <th>25%</th>\n",
              "      <td>29.000000</td>\n",
              "      <td>2.000000</td>\n",
              "      <td>0.000000</td>\n",
              "    </tr>\n",
              "    <tr>\n",
              "      <th>50%</th>\n",
              "      <td>102.000000</td>\n",
              "      <td>4.000000</td>\n",
              "      <td>0.000000</td>\n",
              "    </tr>\n",
              "    <tr>\n",
              "      <th>75%</th>\n",
              "      <td>197.000000</td>\n",
              "      <td>9.000000</td>\n",
              "      <td>1.000000</td>\n",
              "    </tr>\n",
              "    <tr>\n",
              "      <th>max</th>\n",
              "      <td>999.000000</td>\n",
              "      <td>86.000000</td>\n",
              "      <td>53.000000</td>\n",
              "    </tr>\n",
              "  </tbody>\n",
              "</table>\n",
              "</div>\n",
              "      <button class=\"colab-df-convert\" onclick=\"convertToInteractive('df-a77bddc2-ace1-4205-997d-098fb4f4e0fe')\"\n",
              "              title=\"Convert this dataframe to an interactive table.\"\n",
              "              style=\"display:none;\">\n",
              "        \n",
              "  <svg xmlns=\"http://www.w3.org/2000/svg\" height=\"24px\"viewBox=\"0 0 24 24\"\n",
              "       width=\"24px\">\n",
              "    <path d=\"M0 0h24v24H0V0z\" fill=\"none\"/>\n",
              "    <path d=\"M18.56 5.44l.94 2.06.94-2.06 2.06-.94-2.06-.94-.94-2.06-.94 2.06-2.06.94zm-11 1L8.5 8.5l.94-2.06 2.06-.94-2.06-.94L8.5 2.5l-.94 2.06-2.06.94zm10 10l.94 2.06.94-2.06 2.06-.94-2.06-.94-.94-2.06-.94 2.06-2.06.94z\"/><path d=\"M17.41 7.96l-1.37-1.37c-.4-.4-.92-.59-1.43-.59-.52 0-1.04.2-1.43.59L10.3 9.45l-7.72 7.72c-.78.78-.78 2.05 0 2.83L4 21.41c.39.39.9.59 1.41.59.51 0 1.02-.2 1.41-.59l7.78-7.78 2.81-2.81c.8-.78.8-2.07 0-2.86zM5.41 20L4 18.59l7.72-7.72 1.47 1.35L5.41 20z\"/>\n",
              "  </svg>\n",
              "      </button>\n",
              "      \n",
              "  <style>\n",
              "    .colab-df-container {\n",
              "      display:flex;\n",
              "      flex-wrap:wrap;\n",
              "      gap: 12px;\n",
              "    }\n",
              "\n",
              "    .colab-df-convert {\n",
              "      background-color: #E8F0FE;\n",
              "      border: none;\n",
              "      border-radius: 50%;\n",
              "      cursor: pointer;\n",
              "      display: none;\n",
              "      fill: #1967D2;\n",
              "      height: 32px;\n",
              "      padding: 0 0 0 0;\n",
              "      width: 32px;\n",
              "    }\n",
              "\n",
              "    .colab-df-convert:hover {\n",
              "      background-color: #E2EBFA;\n",
              "      box-shadow: 0px 1px 2px rgba(60, 64, 67, 0.3), 0px 1px 3px 1px rgba(60, 64, 67, 0.15);\n",
              "      fill: #174EA6;\n",
              "    }\n",
              "\n",
              "    [theme=dark] .colab-df-convert {\n",
              "      background-color: #3B4455;\n",
              "      fill: #D2E3FC;\n",
              "    }\n",
              "\n",
              "    [theme=dark] .colab-df-convert:hover {\n",
              "      background-color: #434B5C;\n",
              "      box-shadow: 0px 1px 3px 1px rgba(0, 0, 0, 0.15);\n",
              "      filter: drop-shadow(0px 1px 2px rgba(0, 0, 0, 0.3));\n",
              "      fill: #FFFFFF;\n",
              "    }\n",
              "  </style>\n",
              "\n",
              "      <script>\n",
              "        const buttonEl =\n",
              "          document.querySelector('#df-a77bddc2-ace1-4205-997d-098fb4f4e0fe button.colab-df-convert');\n",
              "        buttonEl.style.display =\n",
              "          google.colab.kernel.accessAllowed ? 'block' : 'none';\n",
              "\n",
              "        async function convertToInteractive(key) {\n",
              "          const element = document.querySelector('#df-a77bddc2-ace1-4205-997d-098fb4f4e0fe');\n",
              "          const dataTable =\n",
              "            await google.colab.kernel.invokeFunction('convertToInteractive',\n",
              "                                                     [key], {});\n",
              "          if (!dataTable) return;\n",
              "\n",
              "          const docLinkHtml = 'Like what you see? Visit the ' +\n",
              "            '<a target=\"_blank\" href=https://colab.research.google.com/notebooks/data_table.ipynb>data table notebook</a>'\n",
              "            + ' to learn more about interactive tables.';\n",
              "          element.innerHTML = '';\n",
              "          dataTable['output_type'] = 'display_data';\n",
              "          await google.colab.output.renderOutput(dataTable, element);\n",
              "          const docLink = document.createElement('div');\n",
              "          docLink.innerHTML = docLinkHtml;\n",
              "          element.appendChild(docLink);\n",
              "        }\n",
              "      </script>\n",
              "    </div>\n",
              "  </div>\n",
              "  "
            ]
          },
          "metadata": {},
          "execution_count": 7
        }
      ]
    },
    {
      "cell_type": "markdown",
      "source": [
        "**df_interactions** - depois de comentar, uma nova tela aparece onde o funcionário pode ver os comentários de seus colegas com as ações de curtir ou descurtir.\n",
        "\n",
        "**Tamanho** - 5 colunas e 336.960 linhas\n",
        "* **employee**: número do funcionário (-218-999)\n",
        " * tipo int, sem valores nulos \n",
        " * não pode conter valores negativos\n",
        "* **companyAlias**: código hash da empresa\n",
        " * tipo object, sem valores nulos\n",
        "* **liked**: com ou sem curtida\n",
        " * tipo object deve ser convertido em bool, com 1 valor nulo\n",
        "* **disliked**: com ou sem descurtida\n",
        " * tipo object deve ser convertido em bool, com 1 valor nulo\n",
        "* **commentId**: código do comentário\n",
        " * tipo object, com 1 valor nulo"
      ],
      "metadata": {
        "id": "APu4QCch1vLy"
      }
    },
    {
      "cell_type": "code",
      "source": [
        "df_interactions = pd.read_csv(\n",
        "    'https://raw.githubusercontent.com/bruna-calistrate/DataWrangling-Case1/main/dados/commentInteractions.csv'\n",
        "    )\n",
        "\n",
        "df_interactions.head(3)"
      ],
      "metadata": {
        "colab": {
          "base_uri": "https://localhost:8080/",
          "height": 198
        },
        "id": "sJ47c_ZRxPxf",
        "outputId": "7f47288f-ccf4-4aaa-8b8c-799b823d3dae"
      },
      "execution_count": 8,
      "outputs": [
        {
          "output_type": "stream",
          "name": "stderr",
          "text": [
            "/usr/local/lib/python3.7/dist-packages/IPython/core/interactiveshell.py:2882: DtypeWarning: Columns (2,3) have mixed types.Specify dtype option on import or set low_memory=False.\n",
            "  exec(code_obj, self.user_global_ns, self.user_ns)\n"
          ]
        },
        {
          "output_type": "execute_result",
          "data": {
            "text/plain": [
              "   employee              companyAlias liked disliked                 commentId\n",
              "0       307  56aec740f1ef260003e307d6  True    False  58d018d7e010990004e38070\n",
              "1        36  56aec740f1ef260003e307d6  True    False  58d018d7e010990004e38070\n",
              "2       276  56aec740f1ef260003e307d6  True    False  58d018d7e010990004e38070"
            ],
            "text/html": [
              "\n",
              "  <div id=\"df-4bdfc40e-737e-490a-b9eb-274608861803\">\n",
              "    <div class=\"colab-df-container\">\n",
              "      <div>\n",
              "<style scoped>\n",
              "    .dataframe tbody tr th:only-of-type {\n",
              "        vertical-align: middle;\n",
              "    }\n",
              "\n",
              "    .dataframe tbody tr th {\n",
              "        vertical-align: top;\n",
              "    }\n",
              "\n",
              "    .dataframe thead th {\n",
              "        text-align: right;\n",
              "    }\n",
              "</style>\n",
              "<table border=\"1\" class=\"dataframe\">\n",
              "  <thead>\n",
              "    <tr style=\"text-align: right;\">\n",
              "      <th></th>\n",
              "      <th>employee</th>\n",
              "      <th>companyAlias</th>\n",
              "      <th>liked</th>\n",
              "      <th>disliked</th>\n",
              "      <th>commentId</th>\n",
              "    </tr>\n",
              "  </thead>\n",
              "  <tbody>\n",
              "    <tr>\n",
              "      <th>0</th>\n",
              "      <td>307</td>\n",
              "      <td>56aec740f1ef260003e307d6</td>\n",
              "      <td>True</td>\n",
              "      <td>False</td>\n",
              "      <td>58d018d7e010990004e38070</td>\n",
              "    </tr>\n",
              "    <tr>\n",
              "      <th>1</th>\n",
              "      <td>36</td>\n",
              "      <td>56aec740f1ef260003e307d6</td>\n",
              "      <td>True</td>\n",
              "      <td>False</td>\n",
              "      <td>58d018d7e010990004e38070</td>\n",
              "    </tr>\n",
              "    <tr>\n",
              "      <th>2</th>\n",
              "      <td>276</td>\n",
              "      <td>56aec740f1ef260003e307d6</td>\n",
              "      <td>True</td>\n",
              "      <td>False</td>\n",
              "      <td>58d018d7e010990004e38070</td>\n",
              "    </tr>\n",
              "  </tbody>\n",
              "</table>\n",
              "</div>\n",
              "      <button class=\"colab-df-convert\" onclick=\"convertToInteractive('df-4bdfc40e-737e-490a-b9eb-274608861803')\"\n",
              "              title=\"Convert this dataframe to an interactive table.\"\n",
              "              style=\"display:none;\">\n",
              "        \n",
              "  <svg xmlns=\"http://www.w3.org/2000/svg\" height=\"24px\"viewBox=\"0 0 24 24\"\n",
              "       width=\"24px\">\n",
              "    <path d=\"M0 0h24v24H0V0z\" fill=\"none\"/>\n",
              "    <path d=\"M18.56 5.44l.94 2.06.94-2.06 2.06-.94-2.06-.94-.94-2.06-.94 2.06-2.06.94zm-11 1L8.5 8.5l.94-2.06 2.06-.94-2.06-.94L8.5 2.5l-.94 2.06-2.06.94zm10 10l.94 2.06.94-2.06 2.06-.94-2.06-.94-.94-2.06-.94 2.06-2.06.94z\"/><path d=\"M17.41 7.96l-1.37-1.37c-.4-.4-.92-.59-1.43-.59-.52 0-1.04.2-1.43.59L10.3 9.45l-7.72 7.72c-.78.78-.78 2.05 0 2.83L4 21.41c.39.39.9.59 1.41.59.51 0 1.02-.2 1.41-.59l7.78-7.78 2.81-2.81c.8-.78.8-2.07 0-2.86zM5.41 20L4 18.59l7.72-7.72 1.47 1.35L5.41 20z\"/>\n",
              "  </svg>\n",
              "      </button>\n",
              "      \n",
              "  <style>\n",
              "    .colab-df-container {\n",
              "      display:flex;\n",
              "      flex-wrap:wrap;\n",
              "      gap: 12px;\n",
              "    }\n",
              "\n",
              "    .colab-df-convert {\n",
              "      background-color: #E8F0FE;\n",
              "      border: none;\n",
              "      border-radius: 50%;\n",
              "      cursor: pointer;\n",
              "      display: none;\n",
              "      fill: #1967D2;\n",
              "      height: 32px;\n",
              "      padding: 0 0 0 0;\n",
              "      width: 32px;\n",
              "    }\n",
              "\n",
              "    .colab-df-convert:hover {\n",
              "      background-color: #E2EBFA;\n",
              "      box-shadow: 0px 1px 2px rgba(60, 64, 67, 0.3), 0px 1px 3px 1px rgba(60, 64, 67, 0.15);\n",
              "      fill: #174EA6;\n",
              "    }\n",
              "\n",
              "    [theme=dark] .colab-df-convert {\n",
              "      background-color: #3B4455;\n",
              "      fill: #D2E3FC;\n",
              "    }\n",
              "\n",
              "    [theme=dark] .colab-df-convert:hover {\n",
              "      background-color: #434B5C;\n",
              "      box-shadow: 0px 1px 3px 1px rgba(0, 0, 0, 0.15);\n",
              "      filter: drop-shadow(0px 1px 2px rgba(0, 0, 0, 0.3));\n",
              "      fill: #FFFFFF;\n",
              "    }\n",
              "  </style>\n",
              "\n",
              "      <script>\n",
              "        const buttonEl =\n",
              "          document.querySelector('#df-4bdfc40e-737e-490a-b9eb-274608861803 button.colab-df-convert');\n",
              "        buttonEl.style.display =\n",
              "          google.colab.kernel.accessAllowed ? 'block' : 'none';\n",
              "\n",
              "        async function convertToInteractive(key) {\n",
              "          const element = document.querySelector('#df-4bdfc40e-737e-490a-b9eb-274608861803');\n",
              "          const dataTable =\n",
              "            await google.colab.kernel.invokeFunction('convertToInteractive',\n",
              "                                                     [key], {});\n",
              "          if (!dataTable) return;\n",
              "\n",
              "          const docLinkHtml = 'Like what you see? Visit the ' +\n",
              "            '<a target=\"_blank\" href=https://colab.research.google.com/notebooks/data_table.ipynb>data table notebook</a>'\n",
              "            + ' to learn more about interactive tables.';\n",
              "          element.innerHTML = '';\n",
              "          dataTable['output_type'] = 'display_data';\n",
              "          await google.colab.output.renderOutput(dataTable, element);\n",
              "          const docLink = document.createElement('div');\n",
              "          docLink.innerHTML = docLinkHtml;\n",
              "          element.appendChild(docLink);\n",
              "        }\n",
              "      </script>\n",
              "    </div>\n",
              "  </div>\n",
              "  "
            ]
          },
          "metadata": {},
          "execution_count": 8
        }
      ]
    },
    {
      "cell_type": "code",
      "source": [
        "df_interactions.info()"
      ],
      "metadata": {
        "colab": {
          "base_uri": "https://localhost:8080/"
        },
        "id": "rrxjkGtsXXzw",
        "outputId": "ad55d414-6a3d-41fc-c6c5-18171012a3c0"
      },
      "execution_count": 9,
      "outputs": [
        {
          "output_type": "stream",
          "name": "stdout",
          "text": [
            "<class 'pandas.core.frame.DataFrame'>\n",
            "RangeIndex: 336960 entries, 0 to 336959\n",
            "Data columns (total 5 columns):\n",
            " #   Column        Non-Null Count   Dtype \n",
            "---  ------        --------------   ----- \n",
            " 0   employee      336960 non-null  int64 \n",
            " 1   companyAlias  336960 non-null  object\n",
            " 2   liked         336959 non-null  object\n",
            " 3   disliked      336959 non-null  object\n",
            " 4   commentId     336959 non-null  object\n",
            "dtypes: int64(1), object(4)\n",
            "memory usage: 12.9+ MB\n"
          ]
        }
      ]
    },
    {
      "cell_type": "code",
      "source": [
        "df_interactions.describe()"
      ],
      "metadata": {
        "colab": {
          "base_uri": "https://localhost:8080/",
          "height": 300
        },
        "id": "vs-dgzU6J5v5",
        "outputId": "b996d016-fd67-4f06-c546-41808b8e643c"
      },
      "execution_count": 10,
      "outputs": [
        {
          "output_type": "execute_result",
          "data": {
            "text/plain": [
              "            employee\n",
              "count  336960.000000\n",
              "mean      162.879475\n",
              "std       182.069656\n",
              "min      -218.000000\n",
              "25%        38.000000\n",
              "50%       122.000000\n",
              "75%       212.000000\n",
              "max       999.000000"
            ],
            "text/html": [
              "\n",
              "  <div id=\"df-bc40a62b-59a2-4181-ba36-644017784d07\">\n",
              "    <div class=\"colab-df-container\">\n",
              "      <div>\n",
              "<style scoped>\n",
              "    .dataframe tbody tr th:only-of-type {\n",
              "        vertical-align: middle;\n",
              "    }\n",
              "\n",
              "    .dataframe tbody tr th {\n",
              "        vertical-align: top;\n",
              "    }\n",
              "\n",
              "    .dataframe thead th {\n",
              "        text-align: right;\n",
              "    }\n",
              "</style>\n",
              "<table border=\"1\" class=\"dataframe\">\n",
              "  <thead>\n",
              "    <tr style=\"text-align: right;\">\n",
              "      <th></th>\n",
              "      <th>employee</th>\n",
              "    </tr>\n",
              "  </thead>\n",
              "  <tbody>\n",
              "    <tr>\n",
              "      <th>count</th>\n",
              "      <td>336960.000000</td>\n",
              "    </tr>\n",
              "    <tr>\n",
              "      <th>mean</th>\n",
              "      <td>162.879475</td>\n",
              "    </tr>\n",
              "    <tr>\n",
              "      <th>std</th>\n",
              "      <td>182.069656</td>\n",
              "    </tr>\n",
              "    <tr>\n",
              "      <th>min</th>\n",
              "      <td>-218.000000</td>\n",
              "    </tr>\n",
              "    <tr>\n",
              "      <th>25%</th>\n",
              "      <td>38.000000</td>\n",
              "    </tr>\n",
              "    <tr>\n",
              "      <th>50%</th>\n",
              "      <td>122.000000</td>\n",
              "    </tr>\n",
              "    <tr>\n",
              "      <th>75%</th>\n",
              "      <td>212.000000</td>\n",
              "    </tr>\n",
              "    <tr>\n",
              "      <th>max</th>\n",
              "      <td>999.000000</td>\n",
              "    </tr>\n",
              "  </tbody>\n",
              "</table>\n",
              "</div>\n",
              "      <button class=\"colab-df-convert\" onclick=\"convertToInteractive('df-bc40a62b-59a2-4181-ba36-644017784d07')\"\n",
              "              title=\"Convert this dataframe to an interactive table.\"\n",
              "              style=\"display:none;\">\n",
              "        \n",
              "  <svg xmlns=\"http://www.w3.org/2000/svg\" height=\"24px\"viewBox=\"0 0 24 24\"\n",
              "       width=\"24px\">\n",
              "    <path d=\"M0 0h24v24H0V0z\" fill=\"none\"/>\n",
              "    <path d=\"M18.56 5.44l.94 2.06.94-2.06 2.06-.94-2.06-.94-.94-2.06-.94 2.06-2.06.94zm-11 1L8.5 8.5l.94-2.06 2.06-.94-2.06-.94L8.5 2.5l-.94 2.06-2.06.94zm10 10l.94 2.06.94-2.06 2.06-.94-2.06-.94-.94-2.06-.94 2.06-2.06.94z\"/><path d=\"M17.41 7.96l-1.37-1.37c-.4-.4-.92-.59-1.43-.59-.52 0-1.04.2-1.43.59L10.3 9.45l-7.72 7.72c-.78.78-.78 2.05 0 2.83L4 21.41c.39.39.9.59 1.41.59.51 0 1.02-.2 1.41-.59l7.78-7.78 2.81-2.81c.8-.78.8-2.07 0-2.86zM5.41 20L4 18.59l7.72-7.72 1.47 1.35L5.41 20z\"/>\n",
              "  </svg>\n",
              "      </button>\n",
              "      \n",
              "  <style>\n",
              "    .colab-df-container {\n",
              "      display:flex;\n",
              "      flex-wrap:wrap;\n",
              "      gap: 12px;\n",
              "    }\n",
              "\n",
              "    .colab-df-convert {\n",
              "      background-color: #E8F0FE;\n",
              "      border: none;\n",
              "      border-radius: 50%;\n",
              "      cursor: pointer;\n",
              "      display: none;\n",
              "      fill: #1967D2;\n",
              "      height: 32px;\n",
              "      padding: 0 0 0 0;\n",
              "      width: 32px;\n",
              "    }\n",
              "\n",
              "    .colab-df-convert:hover {\n",
              "      background-color: #E2EBFA;\n",
              "      box-shadow: 0px 1px 2px rgba(60, 64, 67, 0.3), 0px 1px 3px 1px rgba(60, 64, 67, 0.15);\n",
              "      fill: #174EA6;\n",
              "    }\n",
              "\n",
              "    [theme=dark] .colab-df-convert {\n",
              "      background-color: #3B4455;\n",
              "      fill: #D2E3FC;\n",
              "    }\n",
              "\n",
              "    [theme=dark] .colab-df-convert:hover {\n",
              "      background-color: #434B5C;\n",
              "      box-shadow: 0px 1px 3px 1px rgba(0, 0, 0, 0.15);\n",
              "      filter: drop-shadow(0px 1px 2px rgba(0, 0, 0, 0.3));\n",
              "      fill: #FFFFFF;\n",
              "    }\n",
              "  </style>\n",
              "\n",
              "      <script>\n",
              "        const buttonEl =\n",
              "          document.querySelector('#df-bc40a62b-59a2-4181-ba36-644017784d07 button.colab-df-convert');\n",
              "        buttonEl.style.display =\n",
              "          google.colab.kernel.accessAllowed ? 'block' : 'none';\n",
              "\n",
              "        async function convertToInteractive(key) {\n",
              "          const element = document.querySelector('#df-bc40a62b-59a2-4181-ba36-644017784d07');\n",
              "          const dataTable =\n",
              "            await google.colab.kernel.invokeFunction('convertToInteractive',\n",
              "                                                     [key], {});\n",
              "          if (!dataTable) return;\n",
              "\n",
              "          const docLinkHtml = 'Like what you see? Visit the ' +\n",
              "            '<a target=\"_blank\" href=https://colab.research.google.com/notebooks/data_table.ipynb>data table notebook</a>'\n",
              "            + ' to learn more about interactive tables.';\n",
              "          element.innerHTML = '';\n",
              "          dataTable['output_type'] = 'display_data';\n",
              "          await google.colab.output.renderOutput(dataTable, element);\n",
              "          const docLink = document.createElement('div');\n",
              "          docLink.innerHTML = docLinkHtml;\n",
              "          element.appendChild(docLink);\n",
              "        }\n",
              "      </script>\n",
              "    </div>\n",
              "  </div>\n",
              "  "
            ]
          },
          "metadata": {},
          "execution_count": 10
        }
      ]
    },
    {
      "cell_type": "markdown",
      "source": [
        "**df_churn** - status do funcionário, se continua ou não na empresa (saiu ou foi demitido)\n",
        "\n",
        "**Tamanho** - 5 colunas e 4.847 linhas\n",
        "* **employee**: número do funcionário (-218-999)\n",
        "  * tipo int, sem valores nulos\n",
        "  * não pode ser negativo\n",
        "* **companyAlias**: código hash da empresa\n",
        " * tipo object, sem valores nulos\n",
        "* **numVotes**: quantidade de votos (0-740)\n",
        "  * tipo int, sem valores nulos\n",
        "  * média de 45,9 votos, sendo que 75% dos funcionários votaram até 59 vezes\n",
        "* **lastPartcipationDate**: data da última participação\n",
        " * tipo object deve ser convertido para datetime, com 1 valor nulo\n",
        "* **stillExists**: se o funcionário ainda trabalha na empresa ou não\n",
        " * tipo bool, sem valores nulos"
      ],
      "metadata": {
        "id": "A_gHOKdS1LnL"
      }
    },
    {
      "cell_type": "code",
      "source": [
        "df_churn = pd.read_csv(\n",
        "    'https://raw.githubusercontent.com/bruna-calistrate/DataWrangling-Case1/main/dados/churn.csv'\n",
        "    )\n",
        "\n",
        "df_churn.head(3)"
      ],
      "metadata": {
        "colab": {
          "base_uri": "https://localhost:8080/",
          "height": 143
        },
        "id": "OJDumocvxbSa",
        "outputId": "63d8f530-e9ec-490f-e1fd-1498de0cc490"
      },
      "execution_count": 11,
      "outputs": [
        {
          "output_type": "execute_result",
          "data": {
            "text/plain": [
              "   employee              companyAlias  numVotes         lastParticipationDate  \\\n",
              "0       512  56aec740f1ef260003e307d6         4  Thu Feb 23 12:48:04 CET 2017   \n",
              "1        -2  56aec740f1ef260003e307d6         0  Wed Jan 18 14:00:55 CET 2017   \n",
              "2         2  56aec740f1ef260003e307d6        72  Fri Mar 17 01:00:00 CET 2017   \n",
              "\n",
              "   stillExists  \n",
              "0         True  \n",
              "1        False  \n",
              "2         True  "
            ],
            "text/html": [
              "\n",
              "  <div id=\"df-81a401bd-10d1-43ce-bfce-6fd42e7ef3bf\">\n",
              "    <div class=\"colab-df-container\">\n",
              "      <div>\n",
              "<style scoped>\n",
              "    .dataframe tbody tr th:only-of-type {\n",
              "        vertical-align: middle;\n",
              "    }\n",
              "\n",
              "    .dataframe tbody tr th {\n",
              "        vertical-align: top;\n",
              "    }\n",
              "\n",
              "    .dataframe thead th {\n",
              "        text-align: right;\n",
              "    }\n",
              "</style>\n",
              "<table border=\"1\" class=\"dataframe\">\n",
              "  <thead>\n",
              "    <tr style=\"text-align: right;\">\n",
              "      <th></th>\n",
              "      <th>employee</th>\n",
              "      <th>companyAlias</th>\n",
              "      <th>numVotes</th>\n",
              "      <th>lastParticipationDate</th>\n",
              "      <th>stillExists</th>\n",
              "    </tr>\n",
              "  </thead>\n",
              "  <tbody>\n",
              "    <tr>\n",
              "      <th>0</th>\n",
              "      <td>512</td>\n",
              "      <td>56aec740f1ef260003e307d6</td>\n",
              "      <td>4</td>\n",
              "      <td>Thu Feb 23 12:48:04 CET 2017</td>\n",
              "      <td>True</td>\n",
              "    </tr>\n",
              "    <tr>\n",
              "      <th>1</th>\n",
              "      <td>-2</td>\n",
              "      <td>56aec740f1ef260003e307d6</td>\n",
              "      <td>0</td>\n",
              "      <td>Wed Jan 18 14:00:55 CET 2017</td>\n",
              "      <td>False</td>\n",
              "    </tr>\n",
              "    <tr>\n",
              "      <th>2</th>\n",
              "      <td>2</td>\n",
              "      <td>56aec740f1ef260003e307d6</td>\n",
              "      <td>72</td>\n",
              "      <td>Fri Mar 17 01:00:00 CET 2017</td>\n",
              "      <td>True</td>\n",
              "    </tr>\n",
              "  </tbody>\n",
              "</table>\n",
              "</div>\n",
              "      <button class=\"colab-df-convert\" onclick=\"convertToInteractive('df-81a401bd-10d1-43ce-bfce-6fd42e7ef3bf')\"\n",
              "              title=\"Convert this dataframe to an interactive table.\"\n",
              "              style=\"display:none;\">\n",
              "        \n",
              "  <svg xmlns=\"http://www.w3.org/2000/svg\" height=\"24px\"viewBox=\"0 0 24 24\"\n",
              "       width=\"24px\">\n",
              "    <path d=\"M0 0h24v24H0V0z\" fill=\"none\"/>\n",
              "    <path d=\"M18.56 5.44l.94 2.06.94-2.06 2.06-.94-2.06-.94-.94-2.06-.94 2.06-2.06.94zm-11 1L8.5 8.5l.94-2.06 2.06-.94-2.06-.94L8.5 2.5l-.94 2.06-2.06.94zm10 10l.94 2.06.94-2.06 2.06-.94-2.06-.94-.94-2.06-.94 2.06-2.06.94z\"/><path d=\"M17.41 7.96l-1.37-1.37c-.4-.4-.92-.59-1.43-.59-.52 0-1.04.2-1.43.59L10.3 9.45l-7.72 7.72c-.78.78-.78 2.05 0 2.83L4 21.41c.39.39.9.59 1.41.59.51 0 1.02-.2 1.41-.59l7.78-7.78 2.81-2.81c.8-.78.8-2.07 0-2.86zM5.41 20L4 18.59l7.72-7.72 1.47 1.35L5.41 20z\"/>\n",
              "  </svg>\n",
              "      </button>\n",
              "      \n",
              "  <style>\n",
              "    .colab-df-container {\n",
              "      display:flex;\n",
              "      flex-wrap:wrap;\n",
              "      gap: 12px;\n",
              "    }\n",
              "\n",
              "    .colab-df-convert {\n",
              "      background-color: #E8F0FE;\n",
              "      border: none;\n",
              "      border-radius: 50%;\n",
              "      cursor: pointer;\n",
              "      display: none;\n",
              "      fill: #1967D2;\n",
              "      height: 32px;\n",
              "      padding: 0 0 0 0;\n",
              "      width: 32px;\n",
              "    }\n",
              "\n",
              "    .colab-df-convert:hover {\n",
              "      background-color: #E2EBFA;\n",
              "      box-shadow: 0px 1px 2px rgba(60, 64, 67, 0.3), 0px 1px 3px 1px rgba(60, 64, 67, 0.15);\n",
              "      fill: #174EA6;\n",
              "    }\n",
              "\n",
              "    [theme=dark] .colab-df-convert {\n",
              "      background-color: #3B4455;\n",
              "      fill: #D2E3FC;\n",
              "    }\n",
              "\n",
              "    [theme=dark] .colab-df-convert:hover {\n",
              "      background-color: #434B5C;\n",
              "      box-shadow: 0px 1px 3px 1px rgba(0, 0, 0, 0.15);\n",
              "      filter: drop-shadow(0px 1px 2px rgba(0, 0, 0, 0.3));\n",
              "      fill: #FFFFFF;\n",
              "    }\n",
              "  </style>\n",
              "\n",
              "      <script>\n",
              "        const buttonEl =\n",
              "          document.querySelector('#df-81a401bd-10d1-43ce-bfce-6fd42e7ef3bf button.colab-df-convert');\n",
              "        buttonEl.style.display =\n",
              "          google.colab.kernel.accessAllowed ? 'block' : 'none';\n",
              "\n",
              "        async function convertToInteractive(key) {\n",
              "          const element = document.querySelector('#df-81a401bd-10d1-43ce-bfce-6fd42e7ef3bf');\n",
              "          const dataTable =\n",
              "            await google.colab.kernel.invokeFunction('convertToInteractive',\n",
              "                                                     [key], {});\n",
              "          if (!dataTable) return;\n",
              "\n",
              "          const docLinkHtml = 'Like what you see? Visit the ' +\n",
              "            '<a target=\"_blank\" href=https://colab.research.google.com/notebooks/data_table.ipynb>data table notebook</a>'\n",
              "            + ' to learn more about interactive tables.';\n",
              "          element.innerHTML = '';\n",
              "          dataTable['output_type'] = 'display_data';\n",
              "          await google.colab.output.renderOutput(dataTable, element);\n",
              "          const docLink = document.createElement('div');\n",
              "          docLink.innerHTML = docLinkHtml;\n",
              "          element.appendChild(docLink);\n",
              "        }\n",
              "      </script>\n",
              "    </div>\n",
              "  </div>\n",
              "  "
            ]
          },
          "metadata": {},
          "execution_count": 11
        }
      ]
    },
    {
      "cell_type": "code",
      "source": [
        "df_churn.info()"
      ],
      "metadata": {
        "colab": {
          "base_uri": "https://localhost:8080/"
        },
        "id": "FFuQxf-lXmBk",
        "outputId": "9669c47e-5e45-4092-c0f9-2ea21235a51a"
      },
      "execution_count": 12,
      "outputs": [
        {
          "output_type": "stream",
          "name": "stdout",
          "text": [
            "<class 'pandas.core.frame.DataFrame'>\n",
            "RangeIndex: 4847 entries, 0 to 4846\n",
            "Data columns (total 5 columns):\n",
            " #   Column                 Non-Null Count  Dtype \n",
            "---  ------                 --------------  ----- \n",
            " 0   employee               4847 non-null   int64 \n",
            " 1   companyAlias           4847 non-null   object\n",
            " 2   numVotes               4847 non-null   int64 \n",
            " 3   lastParticipationDate  4847 non-null   object\n",
            " 4   stillExists            4847 non-null   bool  \n",
            "dtypes: bool(1), int64(2), object(2)\n",
            "memory usage: 156.3+ KB\n"
          ]
        }
      ]
    },
    {
      "cell_type": "code",
      "source": [
        "df_churn.describe()"
      ],
      "metadata": {
        "colab": {
          "base_uri": "https://localhost:8080/",
          "height": 300
        },
        "id": "8EujuBWzg7PM",
        "outputId": "c59ebed6-a912-43aa-adee-16ca18a28663"
      },
      "execution_count": 13,
      "outputs": [
        {
          "output_type": "execute_result",
          "data": {
            "text/plain": [
              "          employee     numVotes\n",
              "count  4847.000000  4847.000000\n",
              "mean    167.375490    45.896431\n",
              "std     208.271041    71.302128\n",
              "min    -218.000000     0.000000\n",
              "25%      33.000000     3.000000\n",
              "50%     113.000000    16.000000\n",
              "75%     231.000000    59.000000\n",
              "max     999.000000   740.000000"
            ],
            "text/html": [
              "\n",
              "  <div id=\"df-527a5362-7c41-48f3-89be-debc48a9e651\">\n",
              "    <div class=\"colab-df-container\">\n",
              "      <div>\n",
              "<style scoped>\n",
              "    .dataframe tbody tr th:only-of-type {\n",
              "        vertical-align: middle;\n",
              "    }\n",
              "\n",
              "    .dataframe tbody tr th {\n",
              "        vertical-align: top;\n",
              "    }\n",
              "\n",
              "    .dataframe thead th {\n",
              "        text-align: right;\n",
              "    }\n",
              "</style>\n",
              "<table border=\"1\" class=\"dataframe\">\n",
              "  <thead>\n",
              "    <tr style=\"text-align: right;\">\n",
              "      <th></th>\n",
              "      <th>employee</th>\n",
              "      <th>numVotes</th>\n",
              "    </tr>\n",
              "  </thead>\n",
              "  <tbody>\n",
              "    <tr>\n",
              "      <th>count</th>\n",
              "      <td>4847.000000</td>\n",
              "      <td>4847.000000</td>\n",
              "    </tr>\n",
              "    <tr>\n",
              "      <th>mean</th>\n",
              "      <td>167.375490</td>\n",
              "      <td>45.896431</td>\n",
              "    </tr>\n",
              "    <tr>\n",
              "      <th>std</th>\n",
              "      <td>208.271041</td>\n",
              "      <td>71.302128</td>\n",
              "    </tr>\n",
              "    <tr>\n",
              "      <th>min</th>\n",
              "      <td>-218.000000</td>\n",
              "      <td>0.000000</td>\n",
              "    </tr>\n",
              "    <tr>\n",
              "      <th>25%</th>\n",
              "      <td>33.000000</td>\n",
              "      <td>3.000000</td>\n",
              "    </tr>\n",
              "    <tr>\n",
              "      <th>50%</th>\n",
              "      <td>113.000000</td>\n",
              "      <td>16.000000</td>\n",
              "    </tr>\n",
              "    <tr>\n",
              "      <th>75%</th>\n",
              "      <td>231.000000</td>\n",
              "      <td>59.000000</td>\n",
              "    </tr>\n",
              "    <tr>\n",
              "      <th>max</th>\n",
              "      <td>999.000000</td>\n",
              "      <td>740.000000</td>\n",
              "    </tr>\n",
              "  </tbody>\n",
              "</table>\n",
              "</div>\n",
              "      <button class=\"colab-df-convert\" onclick=\"convertToInteractive('df-527a5362-7c41-48f3-89be-debc48a9e651')\"\n",
              "              title=\"Convert this dataframe to an interactive table.\"\n",
              "              style=\"display:none;\">\n",
              "        \n",
              "  <svg xmlns=\"http://www.w3.org/2000/svg\" height=\"24px\"viewBox=\"0 0 24 24\"\n",
              "       width=\"24px\">\n",
              "    <path d=\"M0 0h24v24H0V0z\" fill=\"none\"/>\n",
              "    <path d=\"M18.56 5.44l.94 2.06.94-2.06 2.06-.94-2.06-.94-.94-2.06-.94 2.06-2.06.94zm-11 1L8.5 8.5l.94-2.06 2.06-.94-2.06-.94L8.5 2.5l-.94 2.06-2.06.94zm10 10l.94 2.06.94-2.06 2.06-.94-2.06-.94-.94-2.06-.94 2.06-2.06.94z\"/><path d=\"M17.41 7.96l-1.37-1.37c-.4-.4-.92-.59-1.43-.59-.52 0-1.04.2-1.43.59L10.3 9.45l-7.72 7.72c-.78.78-.78 2.05 0 2.83L4 21.41c.39.39.9.59 1.41.59.51 0 1.02-.2 1.41-.59l7.78-7.78 2.81-2.81c.8-.78.8-2.07 0-2.86zM5.41 20L4 18.59l7.72-7.72 1.47 1.35L5.41 20z\"/>\n",
              "  </svg>\n",
              "      </button>\n",
              "      \n",
              "  <style>\n",
              "    .colab-df-container {\n",
              "      display:flex;\n",
              "      flex-wrap:wrap;\n",
              "      gap: 12px;\n",
              "    }\n",
              "\n",
              "    .colab-df-convert {\n",
              "      background-color: #E8F0FE;\n",
              "      border: none;\n",
              "      border-radius: 50%;\n",
              "      cursor: pointer;\n",
              "      display: none;\n",
              "      fill: #1967D2;\n",
              "      height: 32px;\n",
              "      padding: 0 0 0 0;\n",
              "      width: 32px;\n",
              "    }\n",
              "\n",
              "    .colab-df-convert:hover {\n",
              "      background-color: #E2EBFA;\n",
              "      box-shadow: 0px 1px 2px rgba(60, 64, 67, 0.3), 0px 1px 3px 1px rgba(60, 64, 67, 0.15);\n",
              "      fill: #174EA6;\n",
              "    }\n",
              "\n",
              "    [theme=dark] .colab-df-convert {\n",
              "      background-color: #3B4455;\n",
              "      fill: #D2E3FC;\n",
              "    }\n",
              "\n",
              "    [theme=dark] .colab-df-convert:hover {\n",
              "      background-color: #434B5C;\n",
              "      box-shadow: 0px 1px 3px 1px rgba(0, 0, 0, 0.15);\n",
              "      filter: drop-shadow(0px 1px 2px rgba(0, 0, 0, 0.3));\n",
              "      fill: #FFFFFF;\n",
              "    }\n",
              "  </style>\n",
              "\n",
              "      <script>\n",
              "        const buttonEl =\n",
              "          document.querySelector('#df-527a5362-7c41-48f3-89be-debc48a9e651 button.colab-df-convert');\n",
              "        buttonEl.style.display =\n",
              "          google.colab.kernel.accessAllowed ? 'block' : 'none';\n",
              "\n",
              "        async function convertToInteractive(key) {\n",
              "          const element = document.querySelector('#df-527a5362-7c41-48f3-89be-debc48a9e651');\n",
              "          const dataTable =\n",
              "            await google.colab.kernel.invokeFunction('convertToInteractive',\n",
              "                                                     [key], {});\n",
              "          if (!dataTable) return;\n",
              "\n",
              "          const docLinkHtml = 'Like what you see? Visit the ' +\n",
              "            '<a target=\"_blank\" href=https://colab.research.google.com/notebooks/data_table.ipynb>data table notebook</a>'\n",
              "            + ' to learn more about interactive tables.';\n",
              "          element.innerHTML = '';\n",
              "          dataTable['output_type'] = 'display_data';\n",
              "          await google.colab.output.renderOutput(dataTable, element);\n",
              "          const docLink = document.createElement('div');\n",
              "          docLink.innerHTML = docLinkHtml;\n",
              "          element.appendChild(docLink);\n",
              "        }\n",
              "      </script>\n",
              "    </div>\n",
              "  </div>\n",
              "  "
            ]
          },
          "metadata": {},
          "execution_count": 13
        }
      ]
    },
    {
      "cell_type": "markdown",
      "source": [
        "#### a) Qual a sua variável target?\n",
        "\n",
        "Como o cliente quer prever o churn de seus funcionários, as features **stillExists** e **lastParticipationDate** do dataset **df_churn** são de maior importância para o treinamento dos dados."
      ],
      "metadata": {
        "id": "68_bGfIlb2Rk"
      }
    },
    {
      "cell_type": "markdown",
      "source": [
        "#### b) Quais as colunas do seu dataset e podem te ajudar a prever a informação desejada?\n",
        "\n",
        "* **df_votes**:\n",
        "  * **vote**: para avaliar a sensação de felicidade diária dos funcionários\n",
        "  * há quanto tempo o funcionário avaliou pela última vez\n",
        "* **df_comments**:\n",
        "  * **commentId**: código de cada comentário\n",
        "  * **likes** e **dislikes**: para avaliar o quanto outros colegas concordam com a avaliação individual\n",
        "  * quantidade de dias entre comentário e churn\n",
        "* **df_interactions**:\n",
        "  * **liked** e **disliked**: funcionários que curtiram ou descurtiram comentários de seus colegas\n",
        "* **df_churn**:\n",
        "  * **numVotes**: quantidade de avaliações por funcionário"
      ],
      "metadata": {
        "id": "2RPZuxAGcG7x"
      }
    },
    {
      "cell_type": "markdown",
      "source": [
        "#### c) Existem outras informações que poderiam te ajudar a prever?\n",
        "\n",
        "* Informações sobre o mercado de trabalho na Espanha em 2016\n",
        "* Média de avaliação da empresa em sites coorporativos\n",
        "* Número de funcionados da companhia no LinkedIn"
      ],
      "metadata": {
        "id": "pEnZxC7ucNaa"
      }
    },
    {
      "cell_type": "markdown",
      "source": [
        "#### d) Como os 4 datasets se relacionam? Quais as chaves de cada um?\n",
        "\n",
        "Todos datasets se relacionam através da combinação das features **employee** e **companyAlias**. Em complemento, as bases **df_comments** e **df_interations** também se relacionam através da feature **commentId**."
      ],
      "metadata": {
        "id": "mrfOJCRycR1i"
      }
    },
    {
      "cell_type": "markdown",
      "source": [
        "#### e) Filtre o comentário de id **58cff8cde010990004e37f6a** nas bases **df_comments** e **df_interactions**. Qual a diferença?\n",
        "\n",
        "Na base **df_comments**, está listado o comentário realizado pelo funcionário, sua data de publicação, quantos **likes** e **dislikes** e o seu conteúdo anonimizado. Também é possível perceber que a entrada deste comentário está duplicada no dataset.\n",
        "\n",
        "Já na base **df_interactions**, estão listadas as interações com esse comentário, indicando quais funcionários interagiram, se curtiram ou não e a data."
      ],
      "metadata": {
        "id": "Xb2drwgbZe0M"
      }
    },
    {
      "cell_type": "code",
      "source": [
        "df_comments.loc[df_comments['commentId'] == \n",
        "                '58cff8cde010990004e37f6a']"
      ],
      "metadata": {
        "colab": {
          "base_uri": "https://localhost:8080/",
          "height": 112
        },
        "id": "0pOiA_fkaM0g",
        "outputId": "e1221968-dd8a-4dd3-841b-120b420d7162"
      },
      "execution_count": 14,
      "outputs": [
        {
          "output_type": "execute_result",
          "data": {
            "text/plain": [
              "      employee              companyAlias                 commentId  \\\n",
              "2          172  56aec740f1ef260003e307d6  58cff8cde010990004e37f6a   \n",
              "5115       172  56aec740f1ef260003e307d6  58cff8cde010990004e37f6a   \n",
              "\n",
              "                              txt  likes  dislikes  \\\n",
              "2     ***************************    3.0       0.0   \n",
              "5115  ***************************    3.0       0.0   \n",
              "\n",
              "                       commentDate  \n",
              "2     Mon Mar 20 16:44:02 CET 2017  \n",
              "5115  Mon Mar 20 16:44:02 CET 2017  "
            ],
            "text/html": [
              "\n",
              "  <div id=\"df-6b321f8f-2409-4f00-b9e1-b9520d7f3548\">\n",
              "    <div class=\"colab-df-container\">\n",
              "      <div>\n",
              "<style scoped>\n",
              "    .dataframe tbody tr th:only-of-type {\n",
              "        vertical-align: middle;\n",
              "    }\n",
              "\n",
              "    .dataframe tbody tr th {\n",
              "        vertical-align: top;\n",
              "    }\n",
              "\n",
              "    .dataframe thead th {\n",
              "        text-align: right;\n",
              "    }\n",
              "</style>\n",
              "<table border=\"1\" class=\"dataframe\">\n",
              "  <thead>\n",
              "    <tr style=\"text-align: right;\">\n",
              "      <th></th>\n",
              "      <th>employee</th>\n",
              "      <th>companyAlias</th>\n",
              "      <th>commentId</th>\n",
              "      <th>txt</th>\n",
              "      <th>likes</th>\n",
              "      <th>dislikes</th>\n",
              "      <th>commentDate</th>\n",
              "    </tr>\n",
              "  </thead>\n",
              "  <tbody>\n",
              "    <tr>\n",
              "      <th>2</th>\n",
              "      <td>172</td>\n",
              "      <td>56aec740f1ef260003e307d6</td>\n",
              "      <td>58cff8cde010990004e37f6a</td>\n",
              "      <td>***************************</td>\n",
              "      <td>3.0</td>\n",
              "      <td>0.0</td>\n",
              "      <td>Mon Mar 20 16:44:02 CET 2017</td>\n",
              "    </tr>\n",
              "    <tr>\n",
              "      <th>5115</th>\n",
              "      <td>172</td>\n",
              "      <td>56aec740f1ef260003e307d6</td>\n",
              "      <td>58cff8cde010990004e37f6a</td>\n",
              "      <td>***************************</td>\n",
              "      <td>3.0</td>\n",
              "      <td>0.0</td>\n",
              "      <td>Mon Mar 20 16:44:02 CET 2017</td>\n",
              "    </tr>\n",
              "  </tbody>\n",
              "</table>\n",
              "</div>\n",
              "      <button class=\"colab-df-convert\" onclick=\"convertToInteractive('df-6b321f8f-2409-4f00-b9e1-b9520d7f3548')\"\n",
              "              title=\"Convert this dataframe to an interactive table.\"\n",
              "              style=\"display:none;\">\n",
              "        \n",
              "  <svg xmlns=\"http://www.w3.org/2000/svg\" height=\"24px\"viewBox=\"0 0 24 24\"\n",
              "       width=\"24px\">\n",
              "    <path d=\"M0 0h24v24H0V0z\" fill=\"none\"/>\n",
              "    <path d=\"M18.56 5.44l.94 2.06.94-2.06 2.06-.94-2.06-.94-.94-2.06-.94 2.06-2.06.94zm-11 1L8.5 8.5l.94-2.06 2.06-.94-2.06-.94L8.5 2.5l-.94 2.06-2.06.94zm10 10l.94 2.06.94-2.06 2.06-.94-2.06-.94-.94-2.06-.94 2.06-2.06.94z\"/><path d=\"M17.41 7.96l-1.37-1.37c-.4-.4-.92-.59-1.43-.59-.52 0-1.04.2-1.43.59L10.3 9.45l-7.72 7.72c-.78.78-.78 2.05 0 2.83L4 21.41c.39.39.9.59 1.41.59.51 0 1.02-.2 1.41-.59l7.78-7.78 2.81-2.81c.8-.78.8-2.07 0-2.86zM5.41 20L4 18.59l7.72-7.72 1.47 1.35L5.41 20z\"/>\n",
              "  </svg>\n",
              "      </button>\n",
              "      \n",
              "  <style>\n",
              "    .colab-df-container {\n",
              "      display:flex;\n",
              "      flex-wrap:wrap;\n",
              "      gap: 12px;\n",
              "    }\n",
              "\n",
              "    .colab-df-convert {\n",
              "      background-color: #E8F0FE;\n",
              "      border: none;\n",
              "      border-radius: 50%;\n",
              "      cursor: pointer;\n",
              "      display: none;\n",
              "      fill: #1967D2;\n",
              "      height: 32px;\n",
              "      padding: 0 0 0 0;\n",
              "      width: 32px;\n",
              "    }\n",
              "\n",
              "    .colab-df-convert:hover {\n",
              "      background-color: #E2EBFA;\n",
              "      box-shadow: 0px 1px 2px rgba(60, 64, 67, 0.3), 0px 1px 3px 1px rgba(60, 64, 67, 0.15);\n",
              "      fill: #174EA6;\n",
              "    }\n",
              "\n",
              "    [theme=dark] .colab-df-convert {\n",
              "      background-color: #3B4455;\n",
              "      fill: #D2E3FC;\n",
              "    }\n",
              "\n",
              "    [theme=dark] .colab-df-convert:hover {\n",
              "      background-color: #434B5C;\n",
              "      box-shadow: 0px 1px 3px 1px rgba(0, 0, 0, 0.15);\n",
              "      filter: drop-shadow(0px 1px 2px rgba(0, 0, 0, 0.3));\n",
              "      fill: #FFFFFF;\n",
              "    }\n",
              "  </style>\n",
              "\n",
              "      <script>\n",
              "        const buttonEl =\n",
              "          document.querySelector('#df-6b321f8f-2409-4f00-b9e1-b9520d7f3548 button.colab-df-convert');\n",
              "        buttonEl.style.display =\n",
              "          google.colab.kernel.accessAllowed ? 'block' : 'none';\n",
              "\n",
              "        async function convertToInteractive(key) {\n",
              "          const element = document.querySelector('#df-6b321f8f-2409-4f00-b9e1-b9520d7f3548');\n",
              "          const dataTable =\n",
              "            await google.colab.kernel.invokeFunction('convertToInteractive',\n",
              "                                                     [key], {});\n",
              "          if (!dataTable) return;\n",
              "\n",
              "          const docLinkHtml = 'Like what you see? Visit the ' +\n",
              "            '<a target=\"_blank\" href=https://colab.research.google.com/notebooks/data_table.ipynb>data table notebook</a>'\n",
              "            + ' to learn more about interactive tables.';\n",
              "          element.innerHTML = '';\n",
              "          dataTable['output_type'] = 'display_data';\n",
              "          await google.colab.output.renderOutput(dataTable, element);\n",
              "          const docLink = document.createElement('div');\n",
              "          docLink.innerHTML = docLinkHtml;\n",
              "          element.appendChild(docLink);\n",
              "        }\n",
              "      </script>\n",
              "    </div>\n",
              "  </div>\n",
              "  "
            ]
          },
          "metadata": {},
          "execution_count": 14
        }
      ]
    },
    {
      "cell_type": "code",
      "source": [
        "df_interactions.loc[df_interactions['commentId'] == \n",
        "                    '58cff8cde010990004e37f6a']"
      ],
      "metadata": {
        "colab": {
          "base_uri": "https://localhost:8080/",
          "height": 143
        },
        "id": "OPfUMuFXagRq",
        "outputId": "2082a0eb-e369-43c8-8ebe-96bae00fecb2"
      },
      "execution_count": 15,
      "outputs": [
        {
          "output_type": "execute_result",
          "data": {
            "text/plain": [
              "   employee              companyAlias liked disliked                 commentId\n",
              "7       164  56aec740f1ef260003e307d6  True    False  58cff8cde010990004e37f6a\n",
              "8        34  56aec740f1ef260003e307d6  True    False  58cff8cde010990004e37f6a\n",
              "9       152  56aec740f1ef260003e307d6  True    False  58cff8cde010990004e37f6a"
            ],
            "text/html": [
              "\n",
              "  <div id=\"df-ab91ab32-e867-4590-9bb9-fb4d0e69f87f\">\n",
              "    <div class=\"colab-df-container\">\n",
              "      <div>\n",
              "<style scoped>\n",
              "    .dataframe tbody tr th:only-of-type {\n",
              "        vertical-align: middle;\n",
              "    }\n",
              "\n",
              "    .dataframe tbody tr th {\n",
              "        vertical-align: top;\n",
              "    }\n",
              "\n",
              "    .dataframe thead th {\n",
              "        text-align: right;\n",
              "    }\n",
              "</style>\n",
              "<table border=\"1\" class=\"dataframe\">\n",
              "  <thead>\n",
              "    <tr style=\"text-align: right;\">\n",
              "      <th></th>\n",
              "      <th>employee</th>\n",
              "      <th>companyAlias</th>\n",
              "      <th>liked</th>\n",
              "      <th>disliked</th>\n",
              "      <th>commentId</th>\n",
              "    </tr>\n",
              "  </thead>\n",
              "  <tbody>\n",
              "    <tr>\n",
              "      <th>7</th>\n",
              "      <td>164</td>\n",
              "      <td>56aec740f1ef260003e307d6</td>\n",
              "      <td>True</td>\n",
              "      <td>False</td>\n",
              "      <td>58cff8cde010990004e37f6a</td>\n",
              "    </tr>\n",
              "    <tr>\n",
              "      <th>8</th>\n",
              "      <td>34</td>\n",
              "      <td>56aec740f1ef260003e307d6</td>\n",
              "      <td>True</td>\n",
              "      <td>False</td>\n",
              "      <td>58cff8cde010990004e37f6a</td>\n",
              "    </tr>\n",
              "    <tr>\n",
              "      <th>9</th>\n",
              "      <td>152</td>\n",
              "      <td>56aec740f1ef260003e307d6</td>\n",
              "      <td>True</td>\n",
              "      <td>False</td>\n",
              "      <td>58cff8cde010990004e37f6a</td>\n",
              "    </tr>\n",
              "  </tbody>\n",
              "</table>\n",
              "</div>\n",
              "      <button class=\"colab-df-convert\" onclick=\"convertToInteractive('df-ab91ab32-e867-4590-9bb9-fb4d0e69f87f')\"\n",
              "              title=\"Convert this dataframe to an interactive table.\"\n",
              "              style=\"display:none;\">\n",
              "        \n",
              "  <svg xmlns=\"http://www.w3.org/2000/svg\" height=\"24px\"viewBox=\"0 0 24 24\"\n",
              "       width=\"24px\">\n",
              "    <path d=\"M0 0h24v24H0V0z\" fill=\"none\"/>\n",
              "    <path d=\"M18.56 5.44l.94 2.06.94-2.06 2.06-.94-2.06-.94-.94-2.06-.94 2.06-2.06.94zm-11 1L8.5 8.5l.94-2.06 2.06-.94-2.06-.94L8.5 2.5l-.94 2.06-2.06.94zm10 10l.94 2.06.94-2.06 2.06-.94-2.06-.94-.94-2.06-.94 2.06-2.06.94z\"/><path d=\"M17.41 7.96l-1.37-1.37c-.4-.4-.92-.59-1.43-.59-.52 0-1.04.2-1.43.59L10.3 9.45l-7.72 7.72c-.78.78-.78 2.05 0 2.83L4 21.41c.39.39.9.59 1.41.59.51 0 1.02-.2 1.41-.59l7.78-7.78 2.81-2.81c.8-.78.8-2.07 0-2.86zM5.41 20L4 18.59l7.72-7.72 1.47 1.35L5.41 20z\"/>\n",
              "  </svg>\n",
              "      </button>\n",
              "      \n",
              "  <style>\n",
              "    .colab-df-container {\n",
              "      display:flex;\n",
              "      flex-wrap:wrap;\n",
              "      gap: 12px;\n",
              "    }\n",
              "\n",
              "    .colab-df-convert {\n",
              "      background-color: #E8F0FE;\n",
              "      border: none;\n",
              "      border-radius: 50%;\n",
              "      cursor: pointer;\n",
              "      display: none;\n",
              "      fill: #1967D2;\n",
              "      height: 32px;\n",
              "      padding: 0 0 0 0;\n",
              "      width: 32px;\n",
              "    }\n",
              "\n",
              "    .colab-df-convert:hover {\n",
              "      background-color: #E2EBFA;\n",
              "      box-shadow: 0px 1px 2px rgba(60, 64, 67, 0.3), 0px 1px 3px 1px rgba(60, 64, 67, 0.15);\n",
              "      fill: #174EA6;\n",
              "    }\n",
              "\n",
              "    [theme=dark] .colab-df-convert {\n",
              "      background-color: #3B4455;\n",
              "      fill: #D2E3FC;\n",
              "    }\n",
              "\n",
              "    [theme=dark] .colab-df-convert:hover {\n",
              "      background-color: #434B5C;\n",
              "      box-shadow: 0px 1px 3px 1px rgba(0, 0, 0, 0.15);\n",
              "      filter: drop-shadow(0px 1px 2px rgba(0, 0, 0, 0.3));\n",
              "      fill: #FFFFFF;\n",
              "    }\n",
              "  </style>\n",
              "\n",
              "      <script>\n",
              "        const buttonEl =\n",
              "          document.querySelector('#df-ab91ab32-e867-4590-9bb9-fb4d0e69f87f button.colab-df-convert');\n",
              "        buttonEl.style.display =\n",
              "          google.colab.kernel.accessAllowed ? 'block' : 'none';\n",
              "\n",
              "        async function convertToInteractive(key) {\n",
              "          const element = document.querySelector('#df-ab91ab32-e867-4590-9bb9-fb4d0e69f87f');\n",
              "          const dataTable =\n",
              "            await google.colab.kernel.invokeFunction('convertToInteractive',\n",
              "                                                     [key], {});\n",
              "          if (!dataTable) return;\n",
              "\n",
              "          const docLinkHtml = 'Like what you see? Visit the ' +\n",
              "            '<a target=\"_blank\" href=https://colab.research.google.com/notebooks/data_table.ipynb>data table notebook</a>'\n",
              "            + ' to learn more about interactive tables.';\n",
              "          element.innerHTML = '';\n",
              "          dataTable['output_type'] = 'display_data';\n",
              "          await google.colab.output.renderOutput(dataTable, element);\n",
              "          const docLink = document.createElement('div');\n",
              "          docLink.innerHTML = docLinkHtml;\n",
              "          element.appendChild(docLink);\n",
              "        }\n",
              "      </script>\n",
              "    </div>\n",
              "  </div>\n",
              "  "
            ]
          },
          "metadata": {},
          "execution_count": 15
        }
      ]
    },
    {
      "cell_type": "markdown",
      "source": [
        "#### f) Qual(is) chave(s) se relaciona(m) entre elas?\n",
        "\n",
        "As features **commentId** e **companyAlias**"
      ],
      "metadata": {
        "id": "CO9ijKDigc0E"
      }
    },
    {
      "cell_type": "markdown",
      "source": [
        "## Data Preparation\n",
        "\n",
        "\n"
      ],
      "metadata": {
        "id": "IGtirhphdUt1"
      }
    },
    {
      "cell_type": "markdown",
      "source": [
        "### Formatação e ajuste dos dados\n",
        "\n",
        "#### Correção das informações de data"
      ],
      "metadata": {
        "id": "KoES4MbM4939"
      }
    },
    {
      "cell_type": "code",
      "source": [
        "df_votes['voteDate'] = pd.to_datetime(\n",
        "    df_votes['voteDate'], infer_datetime_format=True\n",
        "    )\n",
        "df_comments['commentDate'] = pd.to_datetime(\n",
        "    df_comments['commentDate'], infer_datetime_format=True\n",
        "    )\n",
        "df_churn['lastParticipationDate'] = pd.to_datetime(\n",
        "    df_churn['lastParticipationDate'], infer_datetime_format=True\n",
        "    )"
      ],
      "metadata": {
        "id": "of3hs2CKrjD3",
        "colab": {
          "base_uri": "https://localhost:8080/"
        },
        "outputId": "93395b49-989b-48c4-898a-83154c02a320"
      },
      "execution_count": 16,
      "outputs": [
        {
          "output_type": "stream",
          "name": "stderr",
          "text": [
            "/usr/local/lib/python3.7/dist-packages/dateutil/parser/_parser.py:1212: UnknownTimezoneWarning: tzname CET identified but not understood.  Pass `tzinfos` argument in order to correctly return a timezone-aware datetime.  In a future version, this will raise an exception.\n",
            "  category=UnknownTimezoneWarning)\n",
            "/usr/local/lib/python3.7/dist-packages/dateutil/parser/_parser.py:1212: UnknownTimezoneWarning: tzname CEST identified but not understood.  Pass `tzinfos` argument in order to correctly return a timezone-aware datetime.  In a future version, this will raise an exception.\n",
            "  category=UnknownTimezoneWarning)\n"
          ]
        }
      ]
    },
    {
      "cell_type": "code",
      "source": [
        "df_churn.head(3)"
      ],
      "metadata": {
        "colab": {
          "base_uri": "https://localhost:8080/",
          "height": 143
        },
        "id": "zlOyNuynnVA_",
        "outputId": "217611e0-bc76-4525-941a-e03094803dc3"
      },
      "execution_count": 17,
      "outputs": [
        {
          "output_type": "execute_result",
          "data": {
            "text/plain": [
              "   employee              companyAlias  numVotes lastParticipationDate  \\\n",
              "0       512  56aec740f1ef260003e307d6         4   2017-02-23 12:48:04   \n",
              "1        -2  56aec740f1ef260003e307d6         0   2017-01-18 14:00:55   \n",
              "2         2  56aec740f1ef260003e307d6        72   2017-03-17 01:00:00   \n",
              "\n",
              "   stillExists  \n",
              "0         True  \n",
              "1        False  \n",
              "2         True  "
            ],
            "text/html": [
              "\n",
              "  <div id=\"df-8a3aa7c9-8dc4-46d3-94fa-d9b3ca1aa1f6\">\n",
              "    <div class=\"colab-df-container\">\n",
              "      <div>\n",
              "<style scoped>\n",
              "    .dataframe tbody tr th:only-of-type {\n",
              "        vertical-align: middle;\n",
              "    }\n",
              "\n",
              "    .dataframe tbody tr th {\n",
              "        vertical-align: top;\n",
              "    }\n",
              "\n",
              "    .dataframe thead th {\n",
              "        text-align: right;\n",
              "    }\n",
              "</style>\n",
              "<table border=\"1\" class=\"dataframe\">\n",
              "  <thead>\n",
              "    <tr style=\"text-align: right;\">\n",
              "      <th></th>\n",
              "      <th>employee</th>\n",
              "      <th>companyAlias</th>\n",
              "      <th>numVotes</th>\n",
              "      <th>lastParticipationDate</th>\n",
              "      <th>stillExists</th>\n",
              "    </tr>\n",
              "  </thead>\n",
              "  <tbody>\n",
              "    <tr>\n",
              "      <th>0</th>\n",
              "      <td>512</td>\n",
              "      <td>56aec740f1ef260003e307d6</td>\n",
              "      <td>4</td>\n",
              "      <td>2017-02-23 12:48:04</td>\n",
              "      <td>True</td>\n",
              "    </tr>\n",
              "    <tr>\n",
              "      <th>1</th>\n",
              "      <td>-2</td>\n",
              "      <td>56aec740f1ef260003e307d6</td>\n",
              "      <td>0</td>\n",
              "      <td>2017-01-18 14:00:55</td>\n",
              "      <td>False</td>\n",
              "    </tr>\n",
              "    <tr>\n",
              "      <th>2</th>\n",
              "      <td>2</td>\n",
              "      <td>56aec740f1ef260003e307d6</td>\n",
              "      <td>72</td>\n",
              "      <td>2017-03-17 01:00:00</td>\n",
              "      <td>True</td>\n",
              "    </tr>\n",
              "  </tbody>\n",
              "</table>\n",
              "</div>\n",
              "      <button class=\"colab-df-convert\" onclick=\"convertToInteractive('df-8a3aa7c9-8dc4-46d3-94fa-d9b3ca1aa1f6')\"\n",
              "              title=\"Convert this dataframe to an interactive table.\"\n",
              "              style=\"display:none;\">\n",
              "        \n",
              "  <svg xmlns=\"http://www.w3.org/2000/svg\" height=\"24px\"viewBox=\"0 0 24 24\"\n",
              "       width=\"24px\">\n",
              "    <path d=\"M0 0h24v24H0V0z\" fill=\"none\"/>\n",
              "    <path d=\"M18.56 5.44l.94 2.06.94-2.06 2.06-.94-2.06-.94-.94-2.06-.94 2.06-2.06.94zm-11 1L8.5 8.5l.94-2.06 2.06-.94-2.06-.94L8.5 2.5l-.94 2.06-2.06.94zm10 10l.94 2.06.94-2.06 2.06-.94-2.06-.94-.94-2.06-.94 2.06-2.06.94z\"/><path d=\"M17.41 7.96l-1.37-1.37c-.4-.4-.92-.59-1.43-.59-.52 0-1.04.2-1.43.59L10.3 9.45l-7.72 7.72c-.78.78-.78 2.05 0 2.83L4 21.41c.39.39.9.59 1.41.59.51 0 1.02-.2 1.41-.59l7.78-7.78 2.81-2.81c.8-.78.8-2.07 0-2.86zM5.41 20L4 18.59l7.72-7.72 1.47 1.35L5.41 20z\"/>\n",
              "  </svg>\n",
              "      </button>\n",
              "      \n",
              "  <style>\n",
              "    .colab-df-container {\n",
              "      display:flex;\n",
              "      flex-wrap:wrap;\n",
              "      gap: 12px;\n",
              "    }\n",
              "\n",
              "    .colab-df-convert {\n",
              "      background-color: #E8F0FE;\n",
              "      border: none;\n",
              "      border-radius: 50%;\n",
              "      cursor: pointer;\n",
              "      display: none;\n",
              "      fill: #1967D2;\n",
              "      height: 32px;\n",
              "      padding: 0 0 0 0;\n",
              "      width: 32px;\n",
              "    }\n",
              "\n",
              "    .colab-df-convert:hover {\n",
              "      background-color: #E2EBFA;\n",
              "      box-shadow: 0px 1px 2px rgba(60, 64, 67, 0.3), 0px 1px 3px 1px rgba(60, 64, 67, 0.15);\n",
              "      fill: #174EA6;\n",
              "    }\n",
              "\n",
              "    [theme=dark] .colab-df-convert {\n",
              "      background-color: #3B4455;\n",
              "      fill: #D2E3FC;\n",
              "    }\n",
              "\n",
              "    [theme=dark] .colab-df-convert:hover {\n",
              "      background-color: #434B5C;\n",
              "      box-shadow: 0px 1px 3px 1px rgba(0, 0, 0, 0.15);\n",
              "      filter: drop-shadow(0px 1px 2px rgba(0, 0, 0, 0.3));\n",
              "      fill: #FFFFFF;\n",
              "    }\n",
              "  </style>\n",
              "\n",
              "      <script>\n",
              "        const buttonEl =\n",
              "          document.querySelector('#df-8a3aa7c9-8dc4-46d3-94fa-d9b3ca1aa1f6 button.colab-df-convert');\n",
              "        buttonEl.style.display =\n",
              "          google.colab.kernel.accessAllowed ? 'block' : 'none';\n",
              "\n",
              "        async function convertToInteractive(key) {\n",
              "          const element = document.querySelector('#df-8a3aa7c9-8dc4-46d3-94fa-d9b3ca1aa1f6');\n",
              "          const dataTable =\n",
              "            await google.colab.kernel.invokeFunction('convertToInteractive',\n",
              "                                                     [key], {});\n",
              "          if (!dataTable) return;\n",
              "\n",
              "          const docLinkHtml = 'Like what you see? Visit the ' +\n",
              "            '<a target=\"_blank\" href=https://colab.research.google.com/notebooks/data_table.ipynb>data table notebook</a>'\n",
              "            + ' to learn more about interactive tables.';\n",
              "          element.innerHTML = '';\n",
              "          dataTable['output_type'] = 'display_data';\n",
              "          await google.colab.output.renderOutput(dataTable, element);\n",
              "          const docLink = document.createElement('div');\n",
              "          docLink.innerHTML = docLinkHtml;\n",
              "          element.appendChild(docLink);\n",
              "        }\n",
              "      </script>\n",
              "    </div>\n",
              "  </div>\n",
              "  "
            ]
          },
          "metadata": {},
          "execution_count": 17
        }
      ]
    },
    {
      "cell_type": "markdown",
      "source": [
        "#### Remoção de valores nulos e tratamento de colunas\n",
        "\n",
        "* As linhas com apenas valores nulos das tabelas **df_interactions** e **df_comments**"
      ],
      "metadata": {
        "id": "Ttcmtgmj9jPJ"
      }
    },
    {
      "cell_type": "code",
      "source": [
        "df_interactions.shape"
      ],
      "metadata": {
        "colab": {
          "base_uri": "https://localhost:8080/"
        },
        "id": "Kj8HAP0QLhMl",
        "outputId": "c09c5b21-41e4-4267-c771-4bb64658c84e"
      },
      "execution_count": 18,
      "outputs": [
        {
          "output_type": "execute_result",
          "data": {
            "text/plain": [
              "(336960, 5)"
            ]
          },
          "metadata": {},
          "execution_count": 18
        }
      ]
    },
    {
      "cell_type": "code",
      "source": [
        "df_interactions.dropna(axis=0,\n",
        "                       how='any',\n",
        "                       inplace=True)"
      ],
      "metadata": {
        "id": "dccXMzhcAPmn"
      },
      "execution_count": 19,
      "outputs": []
    },
    {
      "cell_type": "code",
      "source": [
        "df_interactions.info()"
      ],
      "metadata": {
        "colab": {
          "base_uri": "https://localhost:8080/"
        },
        "id": "-GG3DwEY1aS7",
        "outputId": "61bab87d-e48e-4e3b-bf03-7c2840dbd3fd"
      },
      "execution_count": 20,
      "outputs": [
        {
          "output_type": "stream",
          "name": "stdout",
          "text": [
            "<class 'pandas.core.frame.DataFrame'>\n",
            "Int64Index: 336959 entries, 0 to 336958\n",
            "Data columns (total 5 columns):\n",
            " #   Column        Non-Null Count   Dtype \n",
            "---  ------        --------------   ----- \n",
            " 0   employee      336959 non-null  int64 \n",
            " 1   companyAlias  336959 non-null  object\n",
            " 2   liked         336959 non-null  object\n",
            " 3   disliked      336959 non-null  object\n",
            " 4   commentId     336959 non-null  object\n",
            "dtypes: int64(1), object(4)\n",
            "memory usage: 15.4+ MB\n"
          ]
        }
      ]
    },
    {
      "cell_type": "code",
      "source": [
        "df_interactions.head(3)"
      ],
      "metadata": {
        "colab": {
          "base_uri": "https://localhost:8080/",
          "height": 143
        },
        "id": "IKWt6wz-QVgq",
        "outputId": "44b77fef-cde2-42af-88c2-993997e62b5a"
      },
      "execution_count": 21,
      "outputs": [
        {
          "output_type": "execute_result",
          "data": {
            "text/plain": [
              "   employee              companyAlias liked disliked                 commentId\n",
              "0       307  56aec740f1ef260003e307d6  True    False  58d018d7e010990004e38070\n",
              "1        36  56aec740f1ef260003e307d6  True    False  58d018d7e010990004e38070\n",
              "2       276  56aec740f1ef260003e307d6  True    False  58d018d7e010990004e38070"
            ],
            "text/html": [
              "\n",
              "  <div id=\"df-927bf65c-e423-49fa-b4ae-bdfce30e82af\">\n",
              "    <div class=\"colab-df-container\">\n",
              "      <div>\n",
              "<style scoped>\n",
              "    .dataframe tbody tr th:only-of-type {\n",
              "        vertical-align: middle;\n",
              "    }\n",
              "\n",
              "    .dataframe tbody tr th {\n",
              "        vertical-align: top;\n",
              "    }\n",
              "\n",
              "    .dataframe thead th {\n",
              "        text-align: right;\n",
              "    }\n",
              "</style>\n",
              "<table border=\"1\" class=\"dataframe\">\n",
              "  <thead>\n",
              "    <tr style=\"text-align: right;\">\n",
              "      <th></th>\n",
              "      <th>employee</th>\n",
              "      <th>companyAlias</th>\n",
              "      <th>liked</th>\n",
              "      <th>disliked</th>\n",
              "      <th>commentId</th>\n",
              "    </tr>\n",
              "  </thead>\n",
              "  <tbody>\n",
              "    <tr>\n",
              "      <th>0</th>\n",
              "      <td>307</td>\n",
              "      <td>56aec740f1ef260003e307d6</td>\n",
              "      <td>True</td>\n",
              "      <td>False</td>\n",
              "      <td>58d018d7e010990004e38070</td>\n",
              "    </tr>\n",
              "    <tr>\n",
              "      <th>1</th>\n",
              "      <td>36</td>\n",
              "      <td>56aec740f1ef260003e307d6</td>\n",
              "      <td>True</td>\n",
              "      <td>False</td>\n",
              "      <td>58d018d7e010990004e38070</td>\n",
              "    </tr>\n",
              "    <tr>\n",
              "      <th>2</th>\n",
              "      <td>276</td>\n",
              "      <td>56aec740f1ef260003e307d6</td>\n",
              "      <td>True</td>\n",
              "      <td>False</td>\n",
              "      <td>58d018d7e010990004e38070</td>\n",
              "    </tr>\n",
              "  </tbody>\n",
              "</table>\n",
              "</div>\n",
              "      <button class=\"colab-df-convert\" onclick=\"convertToInteractive('df-927bf65c-e423-49fa-b4ae-bdfce30e82af')\"\n",
              "              title=\"Convert this dataframe to an interactive table.\"\n",
              "              style=\"display:none;\">\n",
              "        \n",
              "  <svg xmlns=\"http://www.w3.org/2000/svg\" height=\"24px\"viewBox=\"0 0 24 24\"\n",
              "       width=\"24px\">\n",
              "    <path d=\"M0 0h24v24H0V0z\" fill=\"none\"/>\n",
              "    <path d=\"M18.56 5.44l.94 2.06.94-2.06 2.06-.94-2.06-.94-.94-2.06-.94 2.06-2.06.94zm-11 1L8.5 8.5l.94-2.06 2.06-.94-2.06-.94L8.5 2.5l-.94 2.06-2.06.94zm10 10l.94 2.06.94-2.06 2.06-.94-2.06-.94-.94-2.06-.94 2.06-2.06.94z\"/><path d=\"M17.41 7.96l-1.37-1.37c-.4-.4-.92-.59-1.43-.59-.52 0-1.04.2-1.43.59L10.3 9.45l-7.72 7.72c-.78.78-.78 2.05 0 2.83L4 21.41c.39.39.9.59 1.41.59.51 0 1.02-.2 1.41-.59l7.78-7.78 2.81-2.81c.8-.78.8-2.07 0-2.86zM5.41 20L4 18.59l7.72-7.72 1.47 1.35L5.41 20z\"/>\n",
              "  </svg>\n",
              "      </button>\n",
              "      \n",
              "  <style>\n",
              "    .colab-df-container {\n",
              "      display:flex;\n",
              "      flex-wrap:wrap;\n",
              "      gap: 12px;\n",
              "    }\n",
              "\n",
              "    .colab-df-convert {\n",
              "      background-color: #E8F0FE;\n",
              "      border: none;\n",
              "      border-radius: 50%;\n",
              "      cursor: pointer;\n",
              "      display: none;\n",
              "      fill: #1967D2;\n",
              "      height: 32px;\n",
              "      padding: 0 0 0 0;\n",
              "      width: 32px;\n",
              "    }\n",
              "\n",
              "    .colab-df-convert:hover {\n",
              "      background-color: #E2EBFA;\n",
              "      box-shadow: 0px 1px 2px rgba(60, 64, 67, 0.3), 0px 1px 3px 1px rgba(60, 64, 67, 0.15);\n",
              "      fill: #174EA6;\n",
              "    }\n",
              "\n",
              "    [theme=dark] .colab-df-convert {\n",
              "      background-color: #3B4455;\n",
              "      fill: #D2E3FC;\n",
              "    }\n",
              "\n",
              "    [theme=dark] .colab-df-convert:hover {\n",
              "      background-color: #434B5C;\n",
              "      box-shadow: 0px 1px 3px 1px rgba(0, 0, 0, 0.15);\n",
              "      filter: drop-shadow(0px 1px 2px rgba(0, 0, 0, 0.3));\n",
              "      fill: #FFFFFF;\n",
              "    }\n",
              "  </style>\n",
              "\n",
              "      <script>\n",
              "        const buttonEl =\n",
              "          document.querySelector('#df-927bf65c-e423-49fa-b4ae-bdfce30e82af button.colab-df-convert');\n",
              "        buttonEl.style.display =\n",
              "          google.colab.kernel.accessAllowed ? 'block' : 'none';\n",
              "\n",
              "        async function convertToInteractive(key) {\n",
              "          const element = document.querySelector('#df-927bf65c-e423-49fa-b4ae-bdfce30e82af');\n",
              "          const dataTable =\n",
              "            await google.colab.kernel.invokeFunction('convertToInteractive',\n",
              "                                                     [key], {});\n",
              "          if (!dataTable) return;\n",
              "\n",
              "          const docLinkHtml = 'Like what you see? Visit the ' +\n",
              "            '<a target=\"_blank\" href=https://colab.research.google.com/notebooks/data_table.ipynb>data table notebook</a>'\n",
              "            + ' to learn more about interactive tables.';\n",
              "          element.innerHTML = '';\n",
              "          dataTable['output_type'] = 'display_data';\n",
              "          await google.colab.output.renderOutput(dataTable, element);\n",
              "          const docLink = document.createElement('div');\n",
              "          docLink.innerHTML = docLinkHtml;\n",
              "          element.appendChild(docLink);\n",
              "        }\n",
              "      </script>\n",
              "    </div>\n",
              "  </div>\n",
              "  "
            ]
          },
          "metadata": {},
          "execution_count": 21
        }
      ]
    },
    {
      "cell_type": "code",
      "source": [
        "df_comments.shape"
      ],
      "metadata": {
        "colab": {
          "base_uri": "https://localhost:8080/"
        },
        "id": "qJB2T4scMyf3",
        "outputId": "65dc7f97-96d1-4240-e3c4-6162d7579ac5"
      },
      "execution_count": 22,
      "outputs": [
        {
          "output_type": "execute_result",
          "data": {
            "text/plain": [
              "(82756, 7)"
            ]
          },
          "metadata": {},
          "execution_count": 22
        }
      ]
    },
    {
      "cell_type": "code",
      "source": [
        "df_comments.dropna(axis=0, how='any', thresh=4, inplace=True)"
      ],
      "metadata": {
        "id": "qFdJzpalA5Uk"
      },
      "execution_count": 23,
      "outputs": []
    },
    {
      "cell_type": "code",
      "source": [
        "df_comments['carac'] = df_comments['txt'].str.len()\n",
        "df_comments.drop(columns=['txt'], inplace=True)\n",
        "df_comments['carac'].fillna(value=0,\n",
        "                            inplace=True)"
      ],
      "metadata": {
        "id": "AqbMaw2BD-CD"
      },
      "execution_count": 24,
      "outputs": []
    },
    {
      "cell_type": "code",
      "source": [
        "df_comments.info()"
      ],
      "metadata": {
        "colab": {
          "base_uri": "https://localhost:8080/"
        },
        "id": "TzoYoazKNA_I",
        "outputId": "af9e29da-afdc-40ac-af35-7204809aa753"
      },
      "execution_count": 25,
      "outputs": [
        {
          "output_type": "stream",
          "name": "stdout",
          "text": [
            "<class 'pandas.core.frame.DataFrame'>\n",
            "Int64Index: 82755 entries, 0 to 82754\n",
            "Data columns (total 7 columns):\n",
            " #   Column        Non-Null Count  Dtype         \n",
            "---  ------        --------------  -----         \n",
            " 0   employee      82755 non-null  int64         \n",
            " 1   companyAlias  82755 non-null  object        \n",
            " 2   commentId     82755 non-null  object        \n",
            " 3   likes         82755 non-null  float64       \n",
            " 4   dislikes      82755 non-null  float64       \n",
            " 5   commentDate   82755 non-null  datetime64[ns]\n",
            " 6   carac         82755 non-null  float64       \n",
            "dtypes: datetime64[ns](1), float64(3), int64(1), object(2)\n",
            "memory usage: 5.1+ MB\n"
          ]
        }
      ]
    },
    {
      "cell_type": "code",
      "source": [
        "df_comments[['likes', \n",
        "             'dislikes', \n",
        "             'carac']] = df_comments[['likes', \n",
        "                                      'dislikes', \n",
        "                                      'carac']].astype('int64')"
      ],
      "metadata": {
        "id": "CPLcegED3f8V"
      },
      "execution_count": 26,
      "outputs": []
    },
    {
      "cell_type": "code",
      "source": [
        "df_comments.head(3)"
      ],
      "metadata": {
        "colab": {
          "base_uri": "https://localhost:8080/",
          "height": 143
        },
        "id": "wxzphGeHQaRp",
        "outputId": "3f75619e-bba0-4709-a2a5-c025c043ed14"
      },
      "execution_count": 27,
      "outputs": [
        {
          "output_type": "execute_result",
          "data": {
            "text/plain": [
              "   employee              companyAlias                 commentId  likes  \\\n",
              "0       307  56aec740f1ef260003e307d6  58d018d7e010990004e38070      4   \n",
              "1       382  56aec740f1ef260003e307d6  58d0179ae010990004e3806d      1   \n",
              "2       172  56aec740f1ef260003e307d6  58cff8cde010990004e37f6a      3   \n",
              "\n",
              "   dislikes         commentDate  carac  \n",
              "0         0 2017-03-20 19:00:17     62  \n",
              "1         2 2017-03-20 18:55:16     29  \n",
              "2         0 2017-03-20 16:44:02     27  "
            ],
            "text/html": [
              "\n",
              "  <div id=\"df-70c02827-e3f8-4f80-a8b2-3d0484b668c1\">\n",
              "    <div class=\"colab-df-container\">\n",
              "      <div>\n",
              "<style scoped>\n",
              "    .dataframe tbody tr th:only-of-type {\n",
              "        vertical-align: middle;\n",
              "    }\n",
              "\n",
              "    .dataframe tbody tr th {\n",
              "        vertical-align: top;\n",
              "    }\n",
              "\n",
              "    .dataframe thead th {\n",
              "        text-align: right;\n",
              "    }\n",
              "</style>\n",
              "<table border=\"1\" class=\"dataframe\">\n",
              "  <thead>\n",
              "    <tr style=\"text-align: right;\">\n",
              "      <th></th>\n",
              "      <th>employee</th>\n",
              "      <th>companyAlias</th>\n",
              "      <th>commentId</th>\n",
              "      <th>likes</th>\n",
              "      <th>dislikes</th>\n",
              "      <th>commentDate</th>\n",
              "      <th>carac</th>\n",
              "    </tr>\n",
              "  </thead>\n",
              "  <tbody>\n",
              "    <tr>\n",
              "      <th>0</th>\n",
              "      <td>307</td>\n",
              "      <td>56aec740f1ef260003e307d6</td>\n",
              "      <td>58d018d7e010990004e38070</td>\n",
              "      <td>4</td>\n",
              "      <td>0</td>\n",
              "      <td>2017-03-20 19:00:17</td>\n",
              "      <td>62</td>\n",
              "    </tr>\n",
              "    <tr>\n",
              "      <th>1</th>\n",
              "      <td>382</td>\n",
              "      <td>56aec740f1ef260003e307d6</td>\n",
              "      <td>58d0179ae010990004e3806d</td>\n",
              "      <td>1</td>\n",
              "      <td>2</td>\n",
              "      <td>2017-03-20 18:55:16</td>\n",
              "      <td>29</td>\n",
              "    </tr>\n",
              "    <tr>\n",
              "      <th>2</th>\n",
              "      <td>172</td>\n",
              "      <td>56aec740f1ef260003e307d6</td>\n",
              "      <td>58cff8cde010990004e37f6a</td>\n",
              "      <td>3</td>\n",
              "      <td>0</td>\n",
              "      <td>2017-03-20 16:44:02</td>\n",
              "      <td>27</td>\n",
              "    </tr>\n",
              "  </tbody>\n",
              "</table>\n",
              "</div>\n",
              "      <button class=\"colab-df-convert\" onclick=\"convertToInteractive('df-70c02827-e3f8-4f80-a8b2-3d0484b668c1')\"\n",
              "              title=\"Convert this dataframe to an interactive table.\"\n",
              "              style=\"display:none;\">\n",
              "        \n",
              "  <svg xmlns=\"http://www.w3.org/2000/svg\" height=\"24px\"viewBox=\"0 0 24 24\"\n",
              "       width=\"24px\">\n",
              "    <path d=\"M0 0h24v24H0V0z\" fill=\"none\"/>\n",
              "    <path d=\"M18.56 5.44l.94 2.06.94-2.06 2.06-.94-2.06-.94-.94-2.06-.94 2.06-2.06.94zm-11 1L8.5 8.5l.94-2.06 2.06-.94-2.06-.94L8.5 2.5l-.94 2.06-2.06.94zm10 10l.94 2.06.94-2.06 2.06-.94-2.06-.94-.94-2.06-.94 2.06-2.06.94z\"/><path d=\"M17.41 7.96l-1.37-1.37c-.4-.4-.92-.59-1.43-.59-.52 0-1.04.2-1.43.59L10.3 9.45l-7.72 7.72c-.78.78-.78 2.05 0 2.83L4 21.41c.39.39.9.59 1.41.59.51 0 1.02-.2 1.41-.59l7.78-7.78 2.81-2.81c.8-.78.8-2.07 0-2.86zM5.41 20L4 18.59l7.72-7.72 1.47 1.35L5.41 20z\"/>\n",
              "  </svg>\n",
              "      </button>\n",
              "      \n",
              "  <style>\n",
              "    .colab-df-container {\n",
              "      display:flex;\n",
              "      flex-wrap:wrap;\n",
              "      gap: 12px;\n",
              "    }\n",
              "\n",
              "    .colab-df-convert {\n",
              "      background-color: #E8F0FE;\n",
              "      border: none;\n",
              "      border-radius: 50%;\n",
              "      cursor: pointer;\n",
              "      display: none;\n",
              "      fill: #1967D2;\n",
              "      height: 32px;\n",
              "      padding: 0 0 0 0;\n",
              "      width: 32px;\n",
              "    }\n",
              "\n",
              "    .colab-df-convert:hover {\n",
              "      background-color: #E2EBFA;\n",
              "      box-shadow: 0px 1px 2px rgba(60, 64, 67, 0.3), 0px 1px 3px 1px rgba(60, 64, 67, 0.15);\n",
              "      fill: #174EA6;\n",
              "    }\n",
              "\n",
              "    [theme=dark] .colab-df-convert {\n",
              "      background-color: #3B4455;\n",
              "      fill: #D2E3FC;\n",
              "    }\n",
              "\n",
              "    [theme=dark] .colab-df-convert:hover {\n",
              "      background-color: #434B5C;\n",
              "      box-shadow: 0px 1px 3px 1px rgba(0, 0, 0, 0.15);\n",
              "      filter: drop-shadow(0px 1px 2px rgba(0, 0, 0, 0.3));\n",
              "      fill: #FFFFFF;\n",
              "    }\n",
              "  </style>\n",
              "\n",
              "      <script>\n",
              "        const buttonEl =\n",
              "          document.querySelector('#df-70c02827-e3f8-4f80-a8b2-3d0484b668c1 button.colab-df-convert');\n",
              "        buttonEl.style.display =\n",
              "          google.colab.kernel.accessAllowed ? 'block' : 'none';\n",
              "\n",
              "        async function convertToInteractive(key) {\n",
              "          const element = document.querySelector('#df-70c02827-e3f8-4f80-a8b2-3d0484b668c1');\n",
              "          const dataTable =\n",
              "            await google.colab.kernel.invokeFunction('convertToInteractive',\n",
              "                                                     [key], {});\n",
              "          if (!dataTable) return;\n",
              "\n",
              "          const docLinkHtml = 'Like what you see? Visit the ' +\n",
              "            '<a target=\"_blank\" href=https://colab.research.google.com/notebooks/data_table.ipynb>data table notebook</a>'\n",
              "            + ' to learn more about interactive tables.';\n",
              "          element.innerHTML = '';\n",
              "          dataTable['output_type'] = 'display_data';\n",
              "          await google.colab.output.renderOutput(dataTable, element);\n",
              "          const docLink = document.createElement('div');\n",
              "          docLink.innerHTML = docLinkHtml;\n",
              "          element.appendChild(docLink);\n",
              "        }\n",
              "      </script>\n",
              "    </div>\n",
              "  </div>\n",
              "  "
            ]
          },
          "metadata": {},
          "execution_count": 27
        }
      ]
    },
    {
      "cell_type": "markdown",
      "source": [
        "#### Conversão de valores booleanos para valores numéricos\n",
        "* True: 1\n",
        "* False: 0"
      ],
      "metadata": {
        "id": "Oykkyl7Mn1vT"
      }
    },
    {
      "cell_type": "code",
      "source": [
        "df_interactions[\n",
        "                ['liked', \n",
        "                 'disliked']\n",
        "                ] = (df_interactions[['liked', \n",
        "                                      'disliked']] * 1).astype('int64')\n",
        "df_churn['stillExists'] = (df_churn['stillExists'] * 1).astype('int64')"
      ],
      "metadata": {
        "id": "R7vvPEBln7w5"
      },
      "execution_count": 28,
      "outputs": []
    },
    {
      "cell_type": "code",
      "source": [
        "df_interactions.head(3)"
      ],
      "metadata": {
        "colab": {
          "base_uri": "https://localhost:8080/",
          "height": 143
        },
        "id": "QSzgGWefRWS1",
        "outputId": "003c4b38-8900-4b75-a9f9-418ddf32e307"
      },
      "execution_count": 29,
      "outputs": [
        {
          "output_type": "execute_result",
          "data": {
            "text/plain": [
              "   employee              companyAlias  liked  disliked  \\\n",
              "0       307  56aec740f1ef260003e307d6      1         0   \n",
              "1        36  56aec740f1ef260003e307d6      1         0   \n",
              "2       276  56aec740f1ef260003e307d6      1         0   \n",
              "\n",
              "                  commentId  \n",
              "0  58d018d7e010990004e38070  \n",
              "1  58d018d7e010990004e38070  \n",
              "2  58d018d7e010990004e38070  "
            ],
            "text/html": [
              "\n",
              "  <div id=\"df-515eea85-4ff4-44e4-90c7-65c24353fc21\">\n",
              "    <div class=\"colab-df-container\">\n",
              "      <div>\n",
              "<style scoped>\n",
              "    .dataframe tbody tr th:only-of-type {\n",
              "        vertical-align: middle;\n",
              "    }\n",
              "\n",
              "    .dataframe tbody tr th {\n",
              "        vertical-align: top;\n",
              "    }\n",
              "\n",
              "    .dataframe thead th {\n",
              "        text-align: right;\n",
              "    }\n",
              "</style>\n",
              "<table border=\"1\" class=\"dataframe\">\n",
              "  <thead>\n",
              "    <tr style=\"text-align: right;\">\n",
              "      <th></th>\n",
              "      <th>employee</th>\n",
              "      <th>companyAlias</th>\n",
              "      <th>liked</th>\n",
              "      <th>disliked</th>\n",
              "      <th>commentId</th>\n",
              "    </tr>\n",
              "  </thead>\n",
              "  <tbody>\n",
              "    <tr>\n",
              "      <th>0</th>\n",
              "      <td>307</td>\n",
              "      <td>56aec740f1ef260003e307d6</td>\n",
              "      <td>1</td>\n",
              "      <td>0</td>\n",
              "      <td>58d018d7e010990004e38070</td>\n",
              "    </tr>\n",
              "    <tr>\n",
              "      <th>1</th>\n",
              "      <td>36</td>\n",
              "      <td>56aec740f1ef260003e307d6</td>\n",
              "      <td>1</td>\n",
              "      <td>0</td>\n",
              "      <td>58d018d7e010990004e38070</td>\n",
              "    </tr>\n",
              "    <tr>\n",
              "      <th>2</th>\n",
              "      <td>276</td>\n",
              "      <td>56aec740f1ef260003e307d6</td>\n",
              "      <td>1</td>\n",
              "      <td>0</td>\n",
              "      <td>58d018d7e010990004e38070</td>\n",
              "    </tr>\n",
              "  </tbody>\n",
              "</table>\n",
              "</div>\n",
              "      <button class=\"colab-df-convert\" onclick=\"convertToInteractive('df-515eea85-4ff4-44e4-90c7-65c24353fc21')\"\n",
              "              title=\"Convert this dataframe to an interactive table.\"\n",
              "              style=\"display:none;\">\n",
              "        \n",
              "  <svg xmlns=\"http://www.w3.org/2000/svg\" height=\"24px\"viewBox=\"0 0 24 24\"\n",
              "       width=\"24px\">\n",
              "    <path d=\"M0 0h24v24H0V0z\" fill=\"none\"/>\n",
              "    <path d=\"M18.56 5.44l.94 2.06.94-2.06 2.06-.94-2.06-.94-.94-2.06-.94 2.06-2.06.94zm-11 1L8.5 8.5l.94-2.06 2.06-.94-2.06-.94L8.5 2.5l-.94 2.06-2.06.94zm10 10l.94 2.06.94-2.06 2.06-.94-2.06-.94-.94-2.06-.94 2.06-2.06.94z\"/><path d=\"M17.41 7.96l-1.37-1.37c-.4-.4-.92-.59-1.43-.59-.52 0-1.04.2-1.43.59L10.3 9.45l-7.72 7.72c-.78.78-.78 2.05 0 2.83L4 21.41c.39.39.9.59 1.41.59.51 0 1.02-.2 1.41-.59l7.78-7.78 2.81-2.81c.8-.78.8-2.07 0-2.86zM5.41 20L4 18.59l7.72-7.72 1.47 1.35L5.41 20z\"/>\n",
              "  </svg>\n",
              "      </button>\n",
              "      \n",
              "  <style>\n",
              "    .colab-df-container {\n",
              "      display:flex;\n",
              "      flex-wrap:wrap;\n",
              "      gap: 12px;\n",
              "    }\n",
              "\n",
              "    .colab-df-convert {\n",
              "      background-color: #E8F0FE;\n",
              "      border: none;\n",
              "      border-radius: 50%;\n",
              "      cursor: pointer;\n",
              "      display: none;\n",
              "      fill: #1967D2;\n",
              "      height: 32px;\n",
              "      padding: 0 0 0 0;\n",
              "      width: 32px;\n",
              "    }\n",
              "\n",
              "    .colab-df-convert:hover {\n",
              "      background-color: #E2EBFA;\n",
              "      box-shadow: 0px 1px 2px rgba(60, 64, 67, 0.3), 0px 1px 3px 1px rgba(60, 64, 67, 0.15);\n",
              "      fill: #174EA6;\n",
              "    }\n",
              "\n",
              "    [theme=dark] .colab-df-convert {\n",
              "      background-color: #3B4455;\n",
              "      fill: #D2E3FC;\n",
              "    }\n",
              "\n",
              "    [theme=dark] .colab-df-convert:hover {\n",
              "      background-color: #434B5C;\n",
              "      box-shadow: 0px 1px 3px 1px rgba(0, 0, 0, 0.15);\n",
              "      filter: drop-shadow(0px 1px 2px rgba(0, 0, 0, 0.3));\n",
              "      fill: #FFFFFF;\n",
              "    }\n",
              "  </style>\n",
              "\n",
              "      <script>\n",
              "        const buttonEl =\n",
              "          document.querySelector('#df-515eea85-4ff4-44e4-90c7-65c24353fc21 button.colab-df-convert');\n",
              "        buttonEl.style.display =\n",
              "          google.colab.kernel.accessAllowed ? 'block' : 'none';\n",
              "\n",
              "        async function convertToInteractive(key) {\n",
              "          const element = document.querySelector('#df-515eea85-4ff4-44e4-90c7-65c24353fc21');\n",
              "          const dataTable =\n",
              "            await google.colab.kernel.invokeFunction('convertToInteractive',\n",
              "                                                     [key], {});\n",
              "          if (!dataTable) return;\n",
              "\n",
              "          const docLinkHtml = 'Like what you see? Visit the ' +\n",
              "            '<a target=\"_blank\" href=https://colab.research.google.com/notebooks/data_table.ipynb>data table notebook</a>'\n",
              "            + ' to learn more about interactive tables.';\n",
              "          element.innerHTML = '';\n",
              "          dataTable['output_type'] = 'display_data';\n",
              "          await google.colab.output.renderOutput(dataTable, element);\n",
              "          const docLink = document.createElement('div');\n",
              "          docLink.innerHTML = docLinkHtml;\n",
              "          element.appendChild(docLink);\n",
              "        }\n",
              "      </script>\n",
              "    </div>\n",
              "  </div>\n",
              "  "
            ]
          },
          "metadata": {},
          "execution_count": 29
        }
      ]
    },
    {
      "cell_type": "code",
      "source": [
        "df_churn.head(3)"
      ],
      "metadata": {
        "colab": {
          "base_uri": "https://localhost:8080/",
          "height": 143
        },
        "id": "kUp65LXjowWj",
        "outputId": "9b8e12e5-5228-4b53-ed94-8d9412ae3aa5"
      },
      "execution_count": 30,
      "outputs": [
        {
          "output_type": "execute_result",
          "data": {
            "text/plain": [
              "   employee              companyAlias  numVotes lastParticipationDate  \\\n",
              "0       512  56aec740f1ef260003e307d6         4   2017-02-23 12:48:04   \n",
              "1        -2  56aec740f1ef260003e307d6         0   2017-01-18 14:00:55   \n",
              "2         2  56aec740f1ef260003e307d6        72   2017-03-17 01:00:00   \n",
              "\n",
              "   stillExists  \n",
              "0            1  \n",
              "1            0  \n",
              "2            1  "
            ],
            "text/html": [
              "\n",
              "  <div id=\"df-cad9e436-0ca6-4136-9b27-8650f40b02cb\">\n",
              "    <div class=\"colab-df-container\">\n",
              "      <div>\n",
              "<style scoped>\n",
              "    .dataframe tbody tr th:only-of-type {\n",
              "        vertical-align: middle;\n",
              "    }\n",
              "\n",
              "    .dataframe tbody tr th {\n",
              "        vertical-align: top;\n",
              "    }\n",
              "\n",
              "    .dataframe thead th {\n",
              "        text-align: right;\n",
              "    }\n",
              "</style>\n",
              "<table border=\"1\" class=\"dataframe\">\n",
              "  <thead>\n",
              "    <tr style=\"text-align: right;\">\n",
              "      <th></th>\n",
              "      <th>employee</th>\n",
              "      <th>companyAlias</th>\n",
              "      <th>numVotes</th>\n",
              "      <th>lastParticipationDate</th>\n",
              "      <th>stillExists</th>\n",
              "    </tr>\n",
              "  </thead>\n",
              "  <tbody>\n",
              "    <tr>\n",
              "      <th>0</th>\n",
              "      <td>512</td>\n",
              "      <td>56aec740f1ef260003e307d6</td>\n",
              "      <td>4</td>\n",
              "      <td>2017-02-23 12:48:04</td>\n",
              "      <td>1</td>\n",
              "    </tr>\n",
              "    <tr>\n",
              "      <th>1</th>\n",
              "      <td>-2</td>\n",
              "      <td>56aec740f1ef260003e307d6</td>\n",
              "      <td>0</td>\n",
              "      <td>2017-01-18 14:00:55</td>\n",
              "      <td>0</td>\n",
              "    </tr>\n",
              "    <tr>\n",
              "      <th>2</th>\n",
              "      <td>2</td>\n",
              "      <td>56aec740f1ef260003e307d6</td>\n",
              "      <td>72</td>\n",
              "      <td>2017-03-17 01:00:00</td>\n",
              "      <td>1</td>\n",
              "    </tr>\n",
              "  </tbody>\n",
              "</table>\n",
              "</div>\n",
              "      <button class=\"colab-df-convert\" onclick=\"convertToInteractive('df-cad9e436-0ca6-4136-9b27-8650f40b02cb')\"\n",
              "              title=\"Convert this dataframe to an interactive table.\"\n",
              "              style=\"display:none;\">\n",
              "        \n",
              "  <svg xmlns=\"http://www.w3.org/2000/svg\" height=\"24px\"viewBox=\"0 0 24 24\"\n",
              "       width=\"24px\">\n",
              "    <path d=\"M0 0h24v24H0V0z\" fill=\"none\"/>\n",
              "    <path d=\"M18.56 5.44l.94 2.06.94-2.06 2.06-.94-2.06-.94-.94-2.06-.94 2.06-2.06.94zm-11 1L8.5 8.5l.94-2.06 2.06-.94-2.06-.94L8.5 2.5l-.94 2.06-2.06.94zm10 10l.94 2.06.94-2.06 2.06-.94-2.06-.94-.94-2.06-.94 2.06-2.06.94z\"/><path d=\"M17.41 7.96l-1.37-1.37c-.4-.4-.92-.59-1.43-.59-.52 0-1.04.2-1.43.59L10.3 9.45l-7.72 7.72c-.78.78-.78 2.05 0 2.83L4 21.41c.39.39.9.59 1.41.59.51 0 1.02-.2 1.41-.59l7.78-7.78 2.81-2.81c.8-.78.8-2.07 0-2.86zM5.41 20L4 18.59l7.72-7.72 1.47 1.35L5.41 20z\"/>\n",
              "  </svg>\n",
              "      </button>\n",
              "      \n",
              "  <style>\n",
              "    .colab-df-container {\n",
              "      display:flex;\n",
              "      flex-wrap:wrap;\n",
              "      gap: 12px;\n",
              "    }\n",
              "\n",
              "    .colab-df-convert {\n",
              "      background-color: #E8F0FE;\n",
              "      border: none;\n",
              "      border-radius: 50%;\n",
              "      cursor: pointer;\n",
              "      display: none;\n",
              "      fill: #1967D2;\n",
              "      height: 32px;\n",
              "      padding: 0 0 0 0;\n",
              "      width: 32px;\n",
              "    }\n",
              "\n",
              "    .colab-df-convert:hover {\n",
              "      background-color: #E2EBFA;\n",
              "      box-shadow: 0px 1px 2px rgba(60, 64, 67, 0.3), 0px 1px 3px 1px rgba(60, 64, 67, 0.15);\n",
              "      fill: #174EA6;\n",
              "    }\n",
              "\n",
              "    [theme=dark] .colab-df-convert {\n",
              "      background-color: #3B4455;\n",
              "      fill: #D2E3FC;\n",
              "    }\n",
              "\n",
              "    [theme=dark] .colab-df-convert:hover {\n",
              "      background-color: #434B5C;\n",
              "      box-shadow: 0px 1px 3px 1px rgba(0, 0, 0, 0.15);\n",
              "      filter: drop-shadow(0px 1px 2px rgba(0, 0, 0, 0.3));\n",
              "      fill: #FFFFFF;\n",
              "    }\n",
              "  </style>\n",
              "\n",
              "      <script>\n",
              "        const buttonEl =\n",
              "          document.querySelector('#df-cad9e436-0ca6-4136-9b27-8650f40b02cb button.colab-df-convert');\n",
              "        buttonEl.style.display =\n",
              "          google.colab.kernel.accessAllowed ? 'block' : 'none';\n",
              "\n",
              "        async function convertToInteractive(key) {\n",
              "          const element = document.querySelector('#df-cad9e436-0ca6-4136-9b27-8650f40b02cb');\n",
              "          const dataTable =\n",
              "            await google.colab.kernel.invokeFunction('convertToInteractive',\n",
              "                                                     [key], {});\n",
              "          if (!dataTable) return;\n",
              "\n",
              "          const docLinkHtml = 'Like what you see? Visit the ' +\n",
              "            '<a target=\"_blank\" href=https://colab.research.google.com/notebooks/data_table.ipynb>data table notebook</a>'\n",
              "            + ' to learn more about interactive tables.';\n",
              "          element.innerHTML = '';\n",
              "          dataTable['output_type'] = 'display_data';\n",
              "          await google.colab.output.renderOutput(dataTable, element);\n",
              "          const docLink = document.createElement('div');\n",
              "          docLink.innerHTML = docLinkHtml;\n",
              "          element.appendChild(docLink);\n",
              "        }\n",
              "      </script>\n",
              "    </div>\n",
              "  </div>\n",
              "  "
            ]
          },
          "metadata": {},
          "execution_count": 30
        }
      ]
    },
    {
      "cell_type": "markdown",
      "source": [
        "#### Remoção de valores duplicados"
      ],
      "metadata": {
        "id": "3baN4kOMUngo"
      }
    },
    {
      "cell_type": "markdown",
      "source": [
        "Em **df_votes** mais de 80 entradas estão duplicadas e seão excluídas"
      ],
      "metadata": {
        "id": "8JeyWQXW6zxe"
      }
    },
    {
      "cell_type": "code",
      "source": [
        "df_votes.shape"
      ],
      "metadata": {
        "colab": {
          "base_uri": "https://localhost:8080/"
        },
        "id": "nxNaXrtyUst2",
        "outputId": "64e31838-84d5-43a7-e4a6-ee9f9f7996c1"
      },
      "execution_count": 31,
      "outputs": [
        {
          "output_type": "execute_result",
          "data": {
            "text/plain": [
              "(221232, 4)"
            ]
          },
          "metadata": {},
          "execution_count": 31
        }
      ]
    },
    {
      "cell_type": "code",
      "source": [
        "df_votes.drop_duplicates(inplace=True)\n",
        "df_votes.shape"
      ],
      "metadata": {
        "colab": {
          "base_uri": "https://localhost:8080/"
        },
        "id": "6fq0t5VQVExw",
        "outputId": "067d27a4-a656-4bcb-9e66-e683a299b4b6"
      },
      "execution_count": 32,
      "outputs": [
        {
          "output_type": "execute_result",
          "data": {
            "text/plain": [
              "(221145, 4)"
            ]
          },
          "metadata": {},
          "execution_count": 32
        }
      ]
    },
    {
      "cell_type": "markdown",
      "source": [
        "Em **df_comments** mais de 40.000 entradas estão duplicadas e serão excluídas"
      ],
      "metadata": {
        "id": "AjBMhXpr5drF"
      }
    },
    {
      "cell_type": "code",
      "source": [
        "df_comments.shape"
      ],
      "metadata": {
        "colab": {
          "base_uri": "https://localhost:8080/"
        },
        "id": "5g8ST918VOh6",
        "outputId": "4259ebe6-8742-40b0-880d-b397696aaaaa"
      },
      "execution_count": 33,
      "outputs": [
        {
          "output_type": "execute_result",
          "data": {
            "text/plain": [
              "(82755, 7)"
            ]
          },
          "metadata": {},
          "execution_count": 33
        }
      ]
    },
    {
      "cell_type": "code",
      "source": [
        "df_comments.drop_duplicates(inplace=True)\n",
        "df_comments.shape"
      ],
      "metadata": {
        "colab": {
          "base_uri": "https://localhost:8080/"
        },
        "id": "iYPXY_L3VSgG",
        "outputId": "61ca7541-3f3f-464d-ed39-ce19808e5540"
      },
      "execution_count": 34,
      "outputs": [
        {
          "output_type": "execute_result",
          "data": {
            "text/plain": [
              "(42018, 7)"
            ]
          },
          "metadata": {},
          "execution_count": 34
        }
      ]
    },
    {
      "cell_type": "markdown",
      "source": [
        "Em **df_interactions** existem 7 valores duplicados e serão excluídos"
      ],
      "metadata": {
        "id": "665W_luf7Kwx"
      }
    },
    {
      "cell_type": "code",
      "source": [
        "df_interactions.shape"
      ],
      "metadata": {
        "colab": {
          "base_uri": "https://localhost:8080/"
        },
        "id": "hJ5NbSvXVj5W",
        "outputId": "b81ccabc-dd44-4112-c983-9f99d58cf53c"
      },
      "execution_count": 35,
      "outputs": [
        {
          "output_type": "execute_result",
          "data": {
            "text/plain": [
              "(336959, 5)"
            ]
          },
          "metadata": {},
          "execution_count": 35
        }
      ]
    },
    {
      "cell_type": "code",
      "source": [
        "df_interactions.drop_duplicates(inplace=True)\n",
        "df_interactions.shape"
      ],
      "metadata": {
        "colab": {
          "base_uri": "https://localhost:8080/"
        },
        "id": "ScmQLhPAVnyV",
        "outputId": "7d3c4c7e-2088-4911-a194-56331e27487a"
      },
      "execution_count": 36,
      "outputs": [
        {
          "output_type": "execute_result",
          "data": {
            "text/plain": [
              "(336952, 5)"
            ]
          },
          "metadata": {},
          "execution_count": 36
        }
      ]
    },
    {
      "cell_type": "markdown",
      "source": [
        "Em **df_churn** existem 41 valores duplicados\n",
        "\n",
        "Se houverem entradas para o mesmo funcionário na empresa, será removido a que computar menos votos"
      ],
      "metadata": {
        "id": "OHHUr1Qv7a68"
      }
    },
    {
      "cell_type": "code",
      "source": [
        "df_churn.shape"
      ],
      "metadata": {
        "colab": {
          "base_uri": "https://localhost:8080/"
        },
        "id": "Uqg_mD04YpO9",
        "outputId": "a4a99263-20ab-4008-a7e7-28fbda3f794b"
      },
      "execution_count": 37,
      "outputs": [
        {
          "output_type": "execute_result",
          "data": {
            "text/plain": [
              "(4847, 5)"
            ]
          },
          "metadata": {},
          "execution_count": 37
        }
      ]
    },
    {
      "cell_type": "code",
      "source": [
        "df_churn = df_churn.sort_values(\n",
        "    ['companyAlias',\n",
        "     'numVotes']\n",
        "     ).drop_duplicates(subset=['companyAlias', \n",
        "                               'employee'], \n",
        "                       keep='last')\n",
        "df_churn.shape"
      ],
      "metadata": {
        "colab": {
          "base_uri": "https://localhost:8080/"
        },
        "id": "Jr1mAc3FYrys",
        "outputId": "c02262d1-92d7-4aef-beb0-7a9661af123e"
      },
      "execution_count": 38,
      "outputs": [
        {
          "output_type": "execute_result",
          "data": {
            "text/plain": [
              "(4806, 5)"
            ]
          },
          "metadata": {},
          "execution_count": 38
        }
      ]
    },
    {
      "cell_type": "markdown",
      "source": [
        "#### Remoção de valores da feature **employee** com valor menor que 0\n"
      ],
      "metadata": {
        "id": "KgUd0mleq7Fd"
      }
    },
    {
      "cell_type": "code",
      "source": [
        "df_votes = df_votes.loc[df_votes['employee'] >= 0]\n",
        "df_comments = df_comments.loc[df_comments['employee'] >= 0]\n",
        "df_interactions = df_interactions.loc[df_interactions['employee'] >= 0]\n",
        "df_churn = df_churn.loc[df_churn['employee'] >= 0]"
      ],
      "metadata": {
        "id": "5GoRbjhzrMLM"
      },
      "execution_count": 39,
      "outputs": []
    },
    {
      "cell_type": "markdown",
      "source": [
        "Não haviam entradas inválidas de **employee** em **df_votes**"
      ],
      "metadata": {
        "id": "2akFJs-btCn7"
      }
    },
    {
      "cell_type": "code",
      "source": [
        "df_votes.shape"
      ],
      "metadata": {
        "colab": {
          "base_uri": "https://localhost:8080/"
        },
        "id": "9WZEMSJXsQh9",
        "outputId": "f57f2ed0-bf02-42b9-cfce-72b6473019ef"
      },
      "execution_count": 40,
      "outputs": [
        {
          "output_type": "execute_result",
          "data": {
            "text/plain": [
              "(221145, 4)"
            ]
          },
          "metadata": {},
          "execution_count": 40
        }
      ]
    },
    {
      "cell_type": "markdown",
      "source": [
        "Foram removidas mais de 3.000 entradas inválidas de **employee** em **df_comments**"
      ],
      "metadata": {
        "id": "iPRTv2wLs4mH"
      }
    },
    {
      "cell_type": "code",
      "source": [
        "df_comments.shape"
      ],
      "metadata": {
        "colab": {
          "base_uri": "https://localhost:8080/"
        },
        "id": "TODalaoqsYa0",
        "outputId": "6d029ac3-6fe2-4a86-89ec-b75b97fdfe02"
      },
      "execution_count": 41,
      "outputs": [
        {
          "output_type": "execute_result",
          "data": {
            "text/plain": [
              "(38993, 7)"
            ]
          },
          "metadata": {},
          "execution_count": 41
        }
      ]
    },
    {
      "cell_type": "markdown",
      "source": [
        "Foram removidas mais de 12.400 entradas inválidas de **employee** em  **df_interactions**"
      ],
      "metadata": {
        "id": "riZE-i_qsl2H"
      }
    },
    {
      "cell_type": "code",
      "source": [
        "df_interactions.shape"
      ],
      "metadata": {
        "colab": {
          "base_uri": "https://localhost:8080/"
        },
        "id": "nWa2QxbksYsC",
        "outputId": "645228f6-3e59-47db-cbd4-1302cf76d514"
      },
      "execution_count": 42,
      "outputs": [
        {
          "output_type": "execute_result",
          "data": {
            "text/plain": [
              "(324471, 5)"
            ]
          },
          "metadata": {},
          "execution_count": 42
        }
      ]
    },
    {
      "cell_type": "markdown",
      "source": [
        "Foram removidas mais de 420 entradas inválidas de **employee** em  **df_churn**"
      ],
      "metadata": {
        "id": "Z4qs6CdPshBi"
      }
    },
    {
      "cell_type": "code",
      "source": [
        "df_churn.shape"
      ],
      "metadata": {
        "colab": {
          "base_uri": "https://localhost:8080/"
        },
        "id": "x_g_vekCsY5N",
        "outputId": "f6bd2265-8e7d-458a-fcc7-1c993cc5d27d"
      },
      "execution_count": 43,
      "outputs": [
        {
          "output_type": "execute_result",
          "data": {
            "text/plain": [
              "(4377, 5)"
            ]
          },
          "metadata": {},
          "execution_count": 43
        }
      ]
    },
    {
      "cell_type": "markdown",
      "source": [
        "### Visualização de dados"
      ],
      "metadata": {
        "id": "TWKm8jiv6Ey_"
      }
    },
    {
      "cell_type": "markdown",
      "source": [
        "#### **df_churn**\n",
        "Na distribuição de funcionários por empresa e churn, a quantidade de funcionários varia bastante, assim como suas respectivas taxas de churn. Como não possuem a variável target, não serão alterados"
      ],
      "metadata": {
        "id": "de57BDlByQVr"
      }
    },
    {
      "cell_type": "code",
      "source": [
        "plt.figure(figsize=(15,5))\n",
        "\n",
        "fig = sns.histplot(data=df_churn, \n",
        "                   x='companyAlias',\n",
        "                   hue='stillExists',\n",
        "                   discrete=False,\n",
        "                   element='step',\n",
        "                   bins=37)\n",
        "\n",
        "plt.title(\"Churn de funcionários por empresa\")\n",
        "plt.xticks(rotation=90)\n",
        "plt.xlabel(\"Empresa\")\n",
        "plt.ylabel(\"Quantidade\")\n",
        "\n",
        "plt.show()"
      ],
      "metadata": {
        "colab": {
          "base_uri": "https://localhost:8080/",
          "height": 491
        },
        "id": "PnNs8XGuv0fn",
        "outputId": "ade8ec89-53c8-4f46-ff17-02ad401e65a7"
      },
      "execution_count": 44,
      "outputs": [
        {
          "output_type": "display_data",
          "data": {
            "text/plain": [
              "<Figure size 1080x360 with 1 Axes>"
            ],
            "image/png": "[encoded data removed]"
          },
          "metadata": {
            "needs_background": "light"
          }
        }
      ]
    },
    {
      "cell_type": "code",
      "source": [
        "plt.figure(figsize=(10,6))\n",
        "\n",
        "fig = sns.boxplot(data=df_churn[['companyAlias',\n",
        "                                 'employee', \n",
        "                                 'stillExists']]\n",
        "                  .groupby(['companyAlias'] )\n",
        "                  .agg({'employee':'count'})\n",
        "                  .reset_index(), \n",
        "                  x='employee')\n",
        "\n",
        "plt.title(\"Quantidade de funcionários por empresa\")\n",
        "plt.xlabel(\"Funcionários\")\n",
        "\n",
        "plt.show()"
      ],
      "metadata": {
        "colab": {
          "base_uri": "https://localhost:8080/",
          "height": 404
        },
        "id": "uVVnQbOeF6Jx",
        "outputId": "51111ce8-2ef8-4248-f7ad-7686f94385a0"
      },
      "execution_count": 45,
      "outputs": [
        {
          "output_type": "display_data",
          "data": {
            "text/plain": [
              "<Figure size 720x432 with 1 Axes>"
            ],
            "image/png": "[encoded data removed]"
          },
          "metadata": {
            "needs_background": "light"
          }
        }
      ]
    },
    {
      "cell_type": "markdown",
      "source": [
        "Na distribuição da última data de participação, há uma alta concentração a partir do segundo semestre de 2016"
      ],
      "metadata": {
        "id": "lxGxMwvUSaSN"
      }
    },
    {
      "cell_type": "code",
      "source": [
        "df_churn['lastParticipationDate'].describe(datetime_is_numeric=True)"
      ],
      "metadata": {
        "colab": {
          "base_uri": "https://localhost:8080/"
        },
        "id": "1AfR30uZSQP-",
        "outputId": "e650933b-c7ed-4b83-ce4b-be93e74c325b"
      },
      "execution_count": 46,
      "outputs": [
        {
          "output_type": "execute_result",
          "data": {
            "text/plain": [
              "count                             4377\n",
              "mean     2016-12-12 08:33:31.141421056\n",
              "min                2014-06-07 02:00:00\n",
              "25%                2016-10-21 17:25:40\n",
              "50%                2017-02-22 01:00:00\n",
              "75%                2017-03-17 10:45:55\n",
              "max                2017-03-20 21:25:54\n",
              "Name: lastParticipationDate, dtype: object"
            ]
          },
          "metadata": {},
          "execution_count": 46
        }
      ]
    },
    {
      "cell_type": "code",
      "source": [
        "df_churn['lastParticipationDate'].loc[\n",
        "                                      df_churn['lastParticipationDate'] \n",
        "                                      > '2016-06-01'].shape"
      ],
      "metadata": {
        "colab": {
          "base_uri": "https://localhost:8080/"
        },
        "id": "PVdHSUf9UBIZ",
        "outputId": "80ba5cc1-e628-4fa7-a819-0d23ecf1fd37"
      },
      "execution_count": 47,
      "outputs": [
        {
          "output_type": "execute_result",
          "data": {
            "text/plain": [
              "(3995,)"
            ]
          },
          "metadata": {},
          "execution_count": 47
        }
      ]
    },
    {
      "cell_type": "code",
      "source": [
        "plt.figure(figsize=(10,6))\n",
        "\n",
        "fig = sns.displot(data=df_churn, \n",
        "                   x='lastParticipationDate',\n",
        "                   hue='stillExists',\n",
        "                   multiple='stack',\n",
        "                   height=6, aspect=1.4, bins=25)\n",
        "\n",
        "plt.title(\"Última votação\")\n",
        "plt.xlabel(\"Data\")\n",
        "plt.ylabel(\"Quantidade\")\n",
        "\n",
        "plt.show()"
      ],
      "metadata": {
        "colab": {
          "base_uri": "https://localhost:8080/",
          "height": 476
        },
        "id": "PV7ymKwZSfNP",
        "outputId": "24967ce4-6748-473b-ae29-4e8b174d0fd2"
      },
      "execution_count": 48,
      "outputs": [
        {
          "output_type": "display_data",
          "data": {
            "text/plain": [
              "<Figure size 720x432 with 0 Axes>"
            ]
          },
          "metadata": {}
        },
        {
          "output_type": "display_data",
          "data": {
            "text/plain": [
              "<Figure size 659.925x432 with 1 Axes>"
            ],
            "image/png": "[encoded data removed]"
          },
          "metadata": {
            "needs_background": "light"
          }
        }
      ]
    },
    {
      "cell_type": "markdown",
      "source": [
        "Em relação à quantidade de votos por usuário (**numVotes**), os valores variam de 1 a 740, sendo que 75% dos funcionários votaram até 66 vezes.\n",
        "\n",
        "A distribuição apresenta alguns outliers com calda muito longa"
      ],
      "metadata": {
        "id": "_ut3f65BGrJU"
      }
    },
    {
      "cell_type": "code",
      "source": [
        "df_churn.describe().T"
      ],
      "metadata": {
        "colab": {
          "base_uri": "https://localhost:8080/",
          "height": 143
        },
        "id": "hXJ7hjgNG9a3",
        "outputId": "1dea7b41-30ee-44a3-a140-70684fe79cf2"
      },
      "execution_count": 49,
      "outputs": [
        {
          "output_type": "execute_result",
          "data": {
            "text/plain": [
              "              count        mean         std  min   25%    50%    75%    max\n",
              "employee     4377.0  190.503084  202.257837  1.0  50.0  130.0  246.0  999.0\n",
              "numVotes     4377.0   50.544208   73.246803  1.0   5.0   19.0   66.0  740.0\n",
              "stillExists  4377.0    0.839159    0.367426  0.0   1.0    1.0    1.0    1.0"
            ],
            "text/html": [
              "\n",
              "  <div id=\"df-e82eb16a-bc1a-4ea5-8467-d31d498d5a5b\">\n",
              "    <div class=\"colab-df-container\">\n",
              "      <div>\n",
              "<style scoped>\n",
              "    .dataframe tbody tr th:only-of-type {\n",
              "        vertical-align: middle;\n",
              "    }\n",
              "\n",
              "    .dataframe tbody tr th {\n",
              "        vertical-align: top;\n",
              "    }\n",
              "\n",
              "    .dataframe thead th {\n",
              "        text-align: right;\n",
              "    }\n",
              "</style>\n",
              "<table border=\"1\" class=\"dataframe\">\n",
              "  <thead>\n",
              "    <tr style=\"text-align: right;\">\n",
              "      <th></th>\n",
              "      <th>count</th>\n",
              "      <th>mean</th>\n",
              "      <th>std</th>\n",
              "      <th>min</th>\n",
              "      <th>25%</th>\n",
              "      <th>50%</th>\n",
              "      <th>75%</th>\n",
              "      <th>max</th>\n",
              "    </tr>\n",
              "  </thead>\n",
              "  <tbody>\n",
              "    <tr>\n",
              "      <th>employee</th>\n",
              "      <td>4377.0</td>\n",
              "      <td>190.503084</td>\n",
              "      <td>202.257837</td>\n",
              "      <td>1.0</td>\n",
              "      <td>50.0</td>\n",
              "      <td>130.0</td>\n",
              "      <td>246.0</td>\n",
              "      <td>999.0</td>\n",
              "    </tr>\n",
              "    <tr>\n",
              "      <th>numVotes</th>\n",
              "      <td>4377.0</td>\n",
              "      <td>50.544208</td>\n",
              "      <td>73.246803</td>\n",
              "      <td>1.0</td>\n",
              "      <td>5.0</td>\n",
              "      <td>19.0</td>\n",
              "      <td>66.0</td>\n",
              "      <td>740.0</td>\n",
              "    </tr>\n",
              "    <tr>\n",
              "      <th>stillExists</th>\n",
              "      <td>4377.0</td>\n",
              "      <td>0.839159</td>\n",
              "      <td>0.367426</td>\n",
              "      <td>0.0</td>\n",
              "      <td>1.0</td>\n",
              "      <td>1.0</td>\n",
              "      <td>1.0</td>\n",
              "      <td>1.0</td>\n",
              "    </tr>\n",
              "  </tbody>\n",
              "</table>\n",
              "</div>\n",
              "      <button class=\"colab-df-convert\" onclick=\"convertToInteractive('df-e82eb16a-bc1a-4ea5-8467-d31d498d5a5b')\"\n",
              "              title=\"Convert this dataframe to an interactive table.\"\n",
              "              style=\"display:none;\">\n",
              "        \n",
              "  <svg xmlns=\"http://www.w3.org/2000/svg\" height=\"24px\"viewBox=\"0 0 24 24\"\n",
              "       width=\"24px\">\n",
              "    <path d=\"M0 0h24v24H0V0z\" fill=\"none\"/>\n",
              "    <path d=\"M18.56 5.44l.94 2.06.94-2.06 2.06-.94-2.06-.94-.94-2.06-.94 2.06-2.06.94zm-11 1L8.5 8.5l.94-2.06 2.06-.94-2.06-.94L8.5 2.5l-.94 2.06-2.06.94zm10 10l.94 2.06.94-2.06 2.06-.94-2.06-.94-.94-2.06-.94 2.06-2.06.94z\"/><path d=\"M17.41 7.96l-1.37-1.37c-.4-.4-.92-.59-1.43-.59-.52 0-1.04.2-1.43.59L10.3 9.45l-7.72 7.72c-.78.78-.78 2.05 0 2.83L4 21.41c.39.39.9.59 1.41.59.51 0 1.02-.2 1.41-.59l7.78-7.78 2.81-2.81c.8-.78.8-2.07 0-2.86zM5.41 20L4 18.59l7.72-7.72 1.47 1.35L5.41 20z\"/>\n",
              "  </svg>\n",
              "      </button>\n",
              "      \n",
              "  <style>\n",
              "    .colab-df-container {\n",
              "      display:flex;\n",
              "      flex-wrap:wrap;\n",
              "      gap: 12px;\n",
              "    }\n",
              "\n",
              "    .colab-df-convert {\n",
              "      background-color: #E8F0FE;\n",
              "      border: none;\n",
              "      border-radius: 50%;\n",
              "      cursor: pointer;\n",
              "      display: none;\n",
              "      fill: #1967D2;\n",
              "      height: 32px;\n",
              "      padding: 0 0 0 0;\n",
              "      width: 32px;\n",
              "    }\n",
              "\n",
              "    .colab-df-convert:hover {\n",
              "      background-color: #E2EBFA;\n",
              "      box-shadow: 0px 1px 2px rgba(60, 64, 67, 0.3), 0px 1px 3px 1px rgba(60, 64, 67, 0.15);\n",
              "      fill: #174EA6;\n",
              "    }\n",
              "\n",
              "    [theme=dark] .colab-df-convert {\n",
              "      background-color: #3B4455;\n",
              "      fill: #D2E3FC;\n",
              "    }\n",
              "\n",
              "    [theme=dark] .colab-df-convert:hover {\n",
              "      background-color: #434B5C;\n",
              "      box-shadow: 0px 1px 3px 1px rgba(0, 0, 0, 0.15);\n",
              "      filter: drop-shadow(0px 1px 2px rgba(0, 0, 0, 0.3));\n",
              "      fill: #FFFFFF;\n",
              "    }\n",
              "  </style>\n",
              "\n",
              "      <script>\n",
              "        const buttonEl =\n",
              "          document.querySelector('#df-e82eb16a-bc1a-4ea5-8467-d31d498d5a5b button.colab-df-convert');\n",
              "        buttonEl.style.display =\n",
              "          google.colab.kernel.accessAllowed ? 'block' : 'none';\n",
              "\n",
              "        async function convertToInteractive(key) {\n",
              "          const element = document.querySelector('#df-e82eb16a-bc1a-4ea5-8467-d31d498d5a5b');\n",
              "          const dataTable =\n",
              "            await google.colab.kernel.invokeFunction('convertToInteractive',\n",
              "                                                     [key], {});\n",
              "          if (!dataTable) return;\n",
              "\n",
              "          const docLinkHtml = 'Like what you see? Visit the ' +\n",
              "            '<a target=\"_blank\" href=https://colab.research.google.com/notebooks/data_table.ipynb>data table notebook</a>'\n",
              "            + ' to learn more about interactive tables.';\n",
              "          element.innerHTML = '';\n",
              "          dataTable['output_type'] = 'display_data';\n",
              "          await google.colab.output.renderOutput(dataTable, element);\n",
              "          const docLink = document.createElement('div');\n",
              "          docLink.innerHTML = docLinkHtml;\n",
              "          element.appendChild(docLink);\n",
              "        }\n",
              "      </script>\n",
              "    </div>\n",
              "  </div>\n",
              "  "
            ]
          },
          "metadata": {},
          "execution_count": 49
        }
      ]
    },
    {
      "cell_type": "code",
      "source": [
        "plt.figure(figsize=(10,6))\n",
        "\n",
        "fig = sns.violinplot(data=df_churn, \n",
        "                     x='numVotes')\n",
        "\n",
        "plt.title(\"Quantidade de votos por funcionário\")\n",
        "plt.xlabel(\"Votos\")\n",
        "plt.ylabel(\"Quantidade\")\n",
        "plt.show()"
      ],
      "metadata": {
        "colab": {
          "base_uri": "https://localhost:8080/",
          "height": 404
        },
        "id": "H7pjhQcBGtgt",
        "outputId": "fa7fd3e3-b972-4087-c5f7-8947acd983a0"
      },
      "execution_count": 50,
      "outputs": [
        {
          "output_type": "display_data",
          "data": {
            "text/plain": [
              "<Figure size 720x432 with 1 Axes>"
            ],
            "image/png": "[encoded data removed]"
          },
          "metadata": {
            "needs_background": "light"
          }
        }
      ]
    },
    {
      "cell_type": "markdown",
      "source": [
        "#### **df_votes**\n",
        "\n",
        "Mais de 40% dos funcionários atribuíram nota 3, já aproximadamente 30% votaram entre 1 e 2"
      ],
      "metadata": {
        "id": "S7TtKYCPH3oi"
      }
    },
    {
      "cell_type": "code",
      "source": [
        "plt.figure(figsize=(10,6))\n",
        "\n",
        "sns.histplot(data=df_votes, \n",
        "                   x='vote',\n",
        "                   stat='percent',\n",
        "                   discrete=True,\n",
        "                   shrink=.95)\n",
        "\n",
        "plt.title(\"Votação (1-4)\")\n",
        "plt.xlabel(\"Voto\")\n",
        "plt.xlim([0,5])\n",
        "plt.ylabel(\"%\")\n",
        "plt.show()"
      ],
      "metadata": {
        "colab": {
          "base_uri": "https://localhost:8080/",
          "height": 404
        },
        "id": "P3-uw6pGO8DU",
        "outputId": "8fa51d20-5427-481e-d8a0-ab52f80521f4"
      },
      "execution_count": 51,
      "outputs": [
        {
          "output_type": "display_data",
          "data": {
            "text/plain": [
              "<Figure size 720x432 with 1 Axes>"
            ],
            "image/png": "[encoded data removed]"
          },
          "metadata": {
            "needs_background": "light"
          }
        }
      ]
    },
    {
      "cell_type": "markdown",
      "source": [
        "Na distribuição temporal dos votos, assim como ocorreu no dataset df_churn, há uma maior concentração de votos a partir do segundo semestre de 2016, com predominância de voto 3"
      ],
      "metadata": {
        "id": "5mJTVNxLXURN"
      }
    },
    {
      "cell_type": "code",
      "source": [
        "plt.figure(figsize=(10,6))\n",
        "\n",
        "sns.displot(data=df_votes,\n",
        "            x='voteDate', bins=25,\n",
        "            height=6, aspect=1.4, hue='vote',\n",
        "            palette='Set2')\n",
        "\n",
        "plt.title(\"Votação ao longo do tempo\")\n",
        "plt.xlabel(\"Data\")\n",
        "plt.ylabel(\"Quantidade\")\n",
        "\n",
        "plt.show()"
      ],
      "metadata": {
        "colab": {
          "base_uri": "https://localhost:8080/",
          "height": 474
        },
        "id": "xsIgfMI5XUqV",
        "outputId": "757624c8-5730-423b-db6a-a7f2fd31c921"
      },
      "execution_count": 52,
      "outputs": [
        {
          "output_type": "display_data",
          "data": {
            "text/plain": [
              "<Figure size 720x432 with 0 Axes>"
            ]
          },
          "metadata": {}
        },
        {
          "output_type": "display_data",
          "data": {
            "text/plain": [
              "<Figure size 647.175x432 with 1 Axes>"
            ],
            "image/png": "[encoded data removed]"
          },
          "metadata": {
            "needs_background": "light"
          }
        }
      ]
    },
    {
      "cell_type": "markdown",
      "source": [
        "#### **df_comments**\n",
        "\n",
        "Em relação à distribuição de **likes** e **dislikes** em **df_comments**, a maioria dos comentários não tiveram reações muitas reações; sendo dislike a que menos ocorre"
      ],
      "metadata": {
        "id": "3MvZM6DUFFas"
      }
    },
    {
      "cell_type": "code",
      "source": [
        "df_comments[['likes', \n",
        "             'dislikes', \n",
        "             'carac']\n",
        "            ].describe(percentiles=[0.05,\n",
        "                                    0.15,\n",
        "                                    0.25,\n",
        "                                    0.5,\n",
        "                                    0.75,\n",
        "                                    0.9,\n",
        "                                    0.99]).T"
      ],
      "metadata": {
        "colab": {
          "base_uri": "https://localhost:8080/",
          "height": 143
        },
        "id": "wNN4dkHGKxf9",
        "outputId": "bcd66cd7-4b37-4e54-f313-019478aa3919"
      },
      "execution_count": 53,
      "outputs": [
        {
          "output_type": "execute_result",
          "data": {
            "text/plain": [
              "            count        mean         std  min   5%   15%   25%   50%    75%  \\\n",
              "likes     38993.0    7.002488    7.773628  0.0  0.0   1.0   2.0   4.0   10.0   \n",
              "dislikes  38993.0    1.297977    2.748012  0.0  0.0   0.0   0.0   0.0    1.0   \n",
              "carac     38993.0  102.140128  202.662014  0.0  9.0  18.8  27.0  57.0  118.0   \n",
              "\n",
              "            90%     99%      max  \n",
              "likes      17.0   36.00     86.0  \n",
              "dislikes    4.0   13.00     53.0  \n",
              "carac     229.0  689.08  29057.0  "
            ],
            "text/html": [
              "\n",
              "  <div id=\"df-5dc87d07-35b3-4fc2-ac3c-cf456955f4c6\">\n",
              "    <div class=\"colab-df-container\">\n",
              "      <div>\n",
              "<style scoped>\n",
              "    .dataframe tbody tr th:only-of-type {\n",
              "        vertical-align: middle;\n",
              "    }\n",
              "\n",
              "    .dataframe tbody tr th {\n",
              "        vertical-align: top;\n",
              "    }\n",
              "\n",
              "    .dataframe thead th {\n",
              "        text-align: right;\n",
              "    }\n",
              "</style>\n",
              "<table border=\"1\" class=\"dataframe\">\n",
              "  <thead>\n",
              "    <tr style=\"text-align: right;\">\n",
              "      <th></th>\n",
              "      <th>count</th>\n",
              "      <th>mean</th>\n",
              "      <th>std</th>\n",
              "      <th>min</th>\n",
              "      <th>5%</th>\n",
              "      <th>15%</th>\n",
              "      <th>25%</th>\n",
              "      <th>50%</th>\n",
              "      <th>75%</th>\n",
              "      <th>90%</th>\n",
              "      <th>99%</th>\n",
              "      <th>max</th>\n",
              "    </tr>\n",
              "  </thead>\n",
              "  <tbody>\n",
              "    <tr>\n",
              "      <th>likes</th>\n",
              "      <td>38993.0</td>\n",
              "      <td>7.002488</td>\n",
              "      <td>7.773628</td>\n",
              "      <td>0.0</td>\n",
              "      <td>0.0</td>\n",
              "      <td>1.0</td>\n",
              "      <td>2.0</td>\n",
              "      <td>4.0</td>\n",
              "      <td>10.0</td>\n",
              "      <td>17.0</td>\n",
              "      <td>36.00</td>\n",
              "      <td>86.0</td>\n",
              "    </tr>\n",
              "    <tr>\n",
              "      <th>dislikes</th>\n",
              "      <td>38993.0</td>\n",
              "      <td>1.297977</td>\n",
              "      <td>2.748012</td>\n",
              "      <td>0.0</td>\n",
              "      <td>0.0</td>\n",
              "      <td>0.0</td>\n",
              "      <td>0.0</td>\n",
              "      <td>0.0</td>\n",
              "      <td>1.0</td>\n",
              "      <td>4.0</td>\n",
              "      <td>13.00</td>\n",
              "      <td>53.0</td>\n",
              "    </tr>\n",
              "    <tr>\n",
              "      <th>carac</th>\n",
              "      <td>38993.0</td>\n",
              "      <td>102.140128</td>\n",
              "      <td>202.662014</td>\n",
              "      <td>0.0</td>\n",
              "      <td>9.0</td>\n",
              "      <td>18.8</td>\n",
              "      <td>27.0</td>\n",
              "      <td>57.0</td>\n",
              "      <td>118.0</td>\n",
              "      <td>229.0</td>\n",
              "      <td>689.08</td>\n",
              "      <td>29057.0</td>\n",
              "    </tr>\n",
              "  </tbody>\n",
              "</table>\n",
              "</div>\n",
              "      <button class=\"colab-df-convert\" onclick=\"convertToInteractive('df-5dc87d07-35b3-4fc2-ac3c-cf456955f4c6')\"\n",
              "              title=\"Convert this dataframe to an interactive table.\"\n",
              "              style=\"display:none;\">\n",
              "        \n",
              "  <svg xmlns=\"http://www.w3.org/2000/svg\" height=\"24px\"viewBox=\"0 0 24 24\"\n",
              "       width=\"24px\">\n",
              "    <path d=\"M0 0h24v24H0V0z\" fill=\"none\"/>\n",
              "    <path d=\"M18.56 5.44l.94 2.06.94-2.06 2.06-.94-2.06-.94-.94-2.06-.94 2.06-2.06.94zm-11 1L8.5 8.5l.94-2.06 2.06-.94-2.06-.94L8.5 2.5l-.94 2.06-2.06.94zm10 10l.94 2.06.94-2.06 2.06-.94-2.06-.94-.94-2.06-.94 2.06-2.06.94z\"/><path d=\"M17.41 7.96l-1.37-1.37c-.4-.4-.92-.59-1.43-.59-.52 0-1.04.2-1.43.59L10.3 9.45l-7.72 7.72c-.78.78-.78 2.05 0 2.83L4 21.41c.39.39.9.59 1.41.59.51 0 1.02-.2 1.41-.59l7.78-7.78 2.81-2.81c.8-.78.8-2.07 0-2.86zM5.41 20L4 18.59l7.72-7.72 1.47 1.35L5.41 20z\"/>\n",
              "  </svg>\n",
              "      </button>\n",
              "      \n",
              "  <style>\n",
              "    .colab-df-container {\n",
              "      display:flex;\n",
              "      flex-wrap:wrap;\n",
              "      gap: 12px;\n",
              "    }\n",
              "\n",
              "    .colab-df-convert {\n",
              "      background-color: #E8F0FE;\n",
              "      border: none;\n",
              "      border-radius: 50%;\n",
              "      cursor: pointer;\n",
              "      display: none;\n",
              "      fill: #1967D2;\n",
              "      height: 32px;\n",
              "      padding: 0 0 0 0;\n",
              "      width: 32px;\n",
              "    }\n",
              "\n",
              "    .colab-df-convert:hover {\n",
              "      background-color: #E2EBFA;\n",
              "      box-shadow: 0px 1px 2px rgba(60, 64, 67, 0.3), 0px 1px 3px 1px rgba(60, 64, 67, 0.15);\n",
              "      fill: #174EA6;\n",
              "    }\n",
              "\n",
              "    [theme=dark] .colab-df-convert {\n",
              "      background-color: #3B4455;\n",
              "      fill: #D2E3FC;\n",
              "    }\n",
              "\n",
              "    [theme=dark] .colab-df-convert:hover {\n",
              "      background-color: #434B5C;\n",
              "      box-shadow: 0px 1px 3px 1px rgba(0, 0, 0, 0.15);\n",
              "      filter: drop-shadow(0px 1px 2px rgba(0, 0, 0, 0.3));\n",
              "      fill: #FFFFFF;\n",
              "    }\n",
              "  </style>\n",
              "\n",
              "      <script>\n",
              "        const buttonEl =\n",
              "          document.querySelector('#df-5dc87d07-35b3-4fc2-ac3c-cf456955f4c6 button.colab-df-convert');\n",
              "        buttonEl.style.display =\n",
              "          google.colab.kernel.accessAllowed ? 'block' : 'none';\n",
              "\n",
              "        async function convertToInteractive(key) {\n",
              "          const element = document.querySelector('#df-5dc87d07-35b3-4fc2-ac3c-cf456955f4c6');\n",
              "          const dataTable =\n",
              "            await google.colab.kernel.invokeFunction('convertToInteractive',\n",
              "                                                     [key], {});\n",
              "          if (!dataTable) return;\n",
              "\n",
              "          const docLinkHtml = 'Like what you see? Visit the ' +\n",
              "            '<a target=\"_blank\" href=https://colab.research.google.com/notebooks/data_table.ipynb>data table notebook</a>'\n",
              "            + ' to learn more about interactive tables.';\n",
              "          element.innerHTML = '';\n",
              "          dataTable['output_type'] = 'display_data';\n",
              "          await google.colab.output.renderOutput(dataTable, element);\n",
              "          const docLink = document.createElement('div');\n",
              "          docLink.innerHTML = docLinkHtml;\n",
              "          element.appendChild(docLink);\n",
              "        }\n",
              "      </script>\n",
              "    </div>\n",
              "  </div>\n",
              "  "
            ]
          },
          "metadata": {},
          "execution_count": 53
        }
      ]
    },
    {
      "cell_type": "code",
      "source": [
        "plt.figure(figsize=(10,6))\n",
        "\n",
        "sns.histplot(data=df_comments, \n",
        "             x='likes',\n",
        "             color='mediumseagreen', bins=20\n",
        "             )\n",
        "\n",
        "sns.histplot(data=df_comments, \n",
        "             x='dislikes',\n",
        "             color='slategray', bins=20\n",
        "             )\n",
        "\n",
        "plt.title(\"Distribuição de likes e dislikes\")\n",
        "plt.xlabel(\"Quantidade\")\n",
        "plt.ylabel(\"Comentários\")\n",
        "plt.legend(loc='upper right',  \n",
        "           labels=['likes', 'dislikes'])\n",
        "\n",
        "plt.show()"
      ],
      "metadata": {
        "colab": {
          "base_uri": "https://localhost:8080/",
          "height": 404
        },
        "id": "NvEoMvhW_7JJ",
        "outputId": "17a2cc3d-a9e7-4e98-8c25-8dbd891e673d"
      },
      "execution_count": 54,
      "outputs": [
        {
          "output_type": "display_data",
          "data": {
            "text/plain": [
              "<Figure size 720x432 with 1 Axes>"
            ],
            "image/png": "[encoded data removed]"
          },
          "metadata": {
            "needs_background": "light"
          }
        }
      ]
    },
    {
      "cell_type": "markdown",
      "source": [
        "Assim como ocorreu com as votações, a maior parte dos comentários se concentra a partir do segundo semestre de 2016"
      ],
      "metadata": {
        "id": "qkUKEmpNKHJM"
      }
    },
    {
      "cell_type": "code",
      "source": [
        "plt.figure(figsize=(10,6))\n",
        "\n",
        "sns.displot(data=df_comments,\n",
        "            x='commentDate', bins=25,\n",
        "            height=6, aspect=1.4)\n",
        "\n",
        "plt.title(\"Comentários ao longo do tempo\")\n",
        "plt.xlabel(\"Data\")\n",
        "plt.ylabel(\"Quantidade\")\n",
        "\n",
        "plt.show()"
      ],
      "metadata": {
        "colab": {
          "base_uri": "https://localhost:8080/",
          "height": 474
        },
        "id": "eOxEbfTYI89Y",
        "outputId": "02224aa6-367c-4c5e-ff2a-990b181bf8f3"
      },
      "execution_count": 55,
      "outputs": [
        {
          "output_type": "display_data",
          "data": {
            "text/plain": [
              "<Figure size 720x432 with 0 Axes>"
            ]
          },
          "metadata": {}
        },
        {
          "output_type": "display_data",
          "data": {
            "text/plain": [
              "<Figure size 604.8x432 with 1 Axes>"
            ],
            "image/png": "[encoded data removed]"
          },
          "metadata": {
            "needs_background": "light"
          }
        }
      ]
    },
    {
      "cell_type": "markdown",
      "source": [
        "### Construção de dados\n"
      ],
      "metadata": {
        "id": "devvAVKLBw-X"
      }
    },
    {
      "cell_type": "markdown",
      "source": [
        "#### df_votes e df_churn\n",
        "\n",
        "Unir os dataframes **df_votes** com **df_churn** para visualizar o comportamento dos votos, quando começaram e a última participação e se o funcionário ainda está na empresa.\n"
      ],
      "metadata": {
        "id": "uZdK-5ODZFKM"
      }
    },
    {
      "cell_type": "code",
      "source": [
        "df_churn.shape"
      ],
      "metadata": {
        "colab": {
          "base_uri": "https://localhost:8080/"
        },
        "id": "ljWvuNdNCPa4",
        "outputId": "13016f77-c7f9-4722-b5c8-c3e5a5043a5d"
      },
      "execution_count": 56,
      "outputs": [
        {
          "output_type": "execute_result",
          "data": {
            "text/plain": [
              "(4377, 5)"
            ]
          },
          "metadata": {},
          "execution_count": 56
        }
      ]
    },
    {
      "cell_type": "code",
      "source": [
        "df_votes.shape"
      ],
      "metadata": {
        "colab": {
          "base_uri": "https://localhost:8080/"
        },
        "id": "eEudlQcMPd7x",
        "outputId": "0464a0f3-04d9-4c27-d9d4-c3800756b48e"
      },
      "execution_count": 57,
      "outputs": [
        {
          "output_type": "execute_result",
          "data": {
            "text/plain": [
              "(221145, 4)"
            ]
          },
          "metadata": {},
          "execution_count": 57
        }
      ]
    },
    {
      "cell_type": "code",
      "source": [
        "votes_merge = df_churn.merge(df_votes, \n",
        "                on=['companyAlias', \n",
        "                    'employee'], \n",
        "                how='left')\n",
        "votes_merge.shape"
      ],
      "metadata": {
        "colab": {
          "base_uri": "https://localhost:8080/"
        },
        "id": "TKgGLpf2PA0Q",
        "outputId": "85c5e00a-e21b-4bd9-a461-8dd97fadf7db"
      },
      "execution_count": 58,
      "outputs": [
        {
          "output_type": "execute_result",
          "data": {
            "text/plain": [
              "(221145, 7)"
            ]
          },
          "metadata": {},
          "execution_count": 58
        }
      ]
    },
    {
      "cell_type": "code",
      "source": [
        "votes_merge.info()"
      ],
      "metadata": {
        "colab": {
          "base_uri": "https://localhost:8080/"
        },
        "id": "J7mIZUqZvFB9",
        "outputId": "47b38dd9-5edf-40ac-ae01-d55d4492f07b"
      },
      "execution_count": 59,
      "outputs": [
        {
          "output_type": "stream",
          "name": "stdout",
          "text": [
            "<class 'pandas.core.frame.DataFrame'>\n",
            "Int64Index: 221145 entries, 0 to 221144\n",
            "Data columns (total 7 columns):\n",
            " #   Column                 Non-Null Count   Dtype         \n",
            "---  ------                 --------------   -----         \n",
            " 0   employee               221145 non-null  int64         \n",
            " 1   companyAlias           221145 non-null  object        \n",
            " 2   numVotes               221145 non-null  int64         \n",
            " 3   lastParticipationDate  221145 non-null  datetime64[ns]\n",
            " 4   stillExists            221145 non-null  int64         \n",
            " 5   voteDate               221145 non-null  datetime64[ns]\n",
            " 6   vote                   221145 non-null  int64         \n",
            "dtypes: datetime64[ns](2), int64(4), object(1)\n",
            "memory usage: 13.5+ MB\n"
          ]
        }
      ]
    },
    {
      "cell_type": "markdown",
      "source": [
        "##### Verificar a diferença em dias entre a **lastParticipationDate** e o voto (**voteDate**)\n",
        "\n",
        "Como não existem valores negativos, não será alterada"
      ],
      "metadata": {
        "id": "xqxpWCZzXDDc"
      }
    },
    {
      "cell_type": "code",
      "source": [
        "votes_merge['diffDaysVote'] = (\n",
        "    votes_merge['lastParticipationDate'] \n",
        "    - votes_merge['voteDate']\n",
        "    ).dt.days"
      ],
      "metadata": {
        "id": "45DwhcmKPfhj"
      },
      "execution_count": 60,
      "outputs": []
    },
    {
      "cell_type": "code",
      "source": [
        "votes_merge['diffDaysVote'].describe()"
      ],
      "metadata": {
        "colab": {
          "base_uri": "https://localhost:8080/"
        },
        "id": "4jndODhPUngg",
        "outputId": "c9ce302b-c619-4dfb-862d-12a46d00e06c"
      },
      "execution_count": 61,
      "outputs": [
        {
          "output_type": "execute_result",
          "data": {
            "text/plain": [
              "count    221145.000000\n",
              "mean        145.058107\n",
              "std         135.593954\n",
              "min           0.000000\n",
              "25%          46.000000\n",
              "50%         112.000000\n",
              "75%         200.000000\n",
              "max         770.000000\n",
              "Name: diffDaysVote, dtype: float64"
            ]
          },
          "metadata": {},
          "execution_count": 61
        }
      ]
    },
    {
      "cell_type": "code",
      "source": [
        "votes_merge.head(3)"
      ],
      "metadata": {
        "colab": {
          "base_uri": "https://localhost:8080/",
          "height": 143
        },
        "id": "Sx0qxP9aTcbK",
        "outputId": "e04b7c77-b11f-4e2c-9812-ffe8cc2776dd"
      },
      "execution_count": 62,
      "outputs": [
        {
          "output_type": "execute_result",
          "data": {
            "text/plain": [
              "   employee              companyAlias  numVotes lastParticipationDate  \\\n",
              "0        11  5370af43e4b0cff95558c12a         1   2014-06-07 02:00:00   \n",
              "1        12  5370af43e4b0cff95558c12a         1   2014-06-07 02:00:00   \n",
              "2        13  5370af43e4b0cff95558c12a         1   2014-06-07 02:00:00   \n",
              "\n",
              "   stillExists            voteDate  vote  diffDaysVote  \n",
              "0            0 2014-06-07 02:00:00     3             0  \n",
              "1            0 2014-06-07 02:00:00     1             0  \n",
              "2            0 2014-06-07 02:00:00     2             0  "
            ],
            "text/html": [
              "\n",
              "  <div id=\"df-19fe6da2-c924-4832-8ab2-c8b40e417362\">\n",
              "    <div class=\"colab-df-container\">\n",
              "      <div>\n",
              "<style scoped>\n",
              "    .dataframe tbody tr th:only-of-type {\n",
              "        vertical-align: middle;\n",
              "    }\n",
              "\n",
              "    .dataframe tbody tr th {\n",
              "        vertical-align: top;\n",
              "    }\n",
              "\n",
              "    .dataframe thead th {\n",
              "        text-align: right;\n",
              "    }\n",
              "</style>\n",
              "<table border=\"1\" class=\"dataframe\">\n",
              "  <thead>\n",
              "    <tr style=\"text-align: right;\">\n",
              "      <th></th>\n",
              "      <th>employee</th>\n",
              "      <th>companyAlias</th>\n",
              "      <th>numVotes</th>\n",
              "      <th>lastParticipationDate</th>\n",
              "      <th>stillExists</th>\n",
              "      <th>voteDate</th>\n",
              "      <th>vote</th>\n",
              "      <th>diffDaysVote</th>\n",
              "    </tr>\n",
              "  </thead>\n",
              "  <tbody>\n",
              "    <tr>\n",
              "      <th>0</th>\n",
              "      <td>11</td>\n",
              "      <td>5370af43e4b0cff95558c12a</td>\n",
              "      <td>1</td>\n",
              "      <td>2014-06-07 02:00:00</td>\n",
              "      <td>0</td>\n",
              "      <td>2014-06-07 02:00:00</td>\n",
              "      <td>3</td>\n",
              "      <td>0</td>\n",
              "    </tr>\n",
              "    <tr>\n",
              "      <th>1</th>\n",
              "      <td>12</td>\n",
              "      <td>5370af43e4b0cff95558c12a</td>\n",
              "      <td>1</td>\n",
              "      <td>2014-06-07 02:00:00</td>\n",
              "      <td>0</td>\n",
              "      <td>2014-06-07 02:00:00</td>\n",
              "      <td>1</td>\n",
              "      <td>0</td>\n",
              "    </tr>\n",
              "    <tr>\n",
              "      <th>2</th>\n",
              "      <td>13</td>\n",
              "      <td>5370af43e4b0cff95558c12a</td>\n",
              "      <td>1</td>\n",
              "      <td>2014-06-07 02:00:00</td>\n",
              "      <td>0</td>\n",
              "      <td>2014-06-07 02:00:00</td>\n",
              "      <td>2</td>\n",
              "      <td>0</td>\n",
              "    </tr>\n",
              "  </tbody>\n",
              "</table>\n",
              "</div>\n",
              "      <button class=\"colab-df-convert\" onclick=\"convertToInteractive('df-19fe6da2-c924-4832-8ab2-c8b40e417362')\"\n",
              "              title=\"Convert this dataframe to an interactive table.\"\n",
              "              style=\"display:none;\">\n",
              "        \n",
              "  <svg xmlns=\"http://www.w3.org/2000/svg\" height=\"24px\"viewBox=\"0 0 24 24\"\n",
              "       width=\"24px\">\n",
              "    <path d=\"M0 0h24v24H0V0z\" fill=\"none\"/>\n",
              "    <path d=\"M18.56 5.44l.94 2.06.94-2.06 2.06-.94-2.06-.94-.94-2.06-.94 2.06-2.06.94zm-11 1L8.5 8.5l.94-2.06 2.06-.94-2.06-.94L8.5 2.5l-.94 2.06-2.06.94zm10 10l.94 2.06.94-2.06 2.06-.94-2.06-.94-.94-2.06-.94 2.06-2.06.94z\"/><path d=\"M17.41 7.96l-1.37-1.37c-.4-.4-.92-.59-1.43-.59-.52 0-1.04.2-1.43.59L10.3 9.45l-7.72 7.72c-.78.78-.78 2.05 0 2.83L4 21.41c.39.39.9.59 1.41.59.51 0 1.02-.2 1.41-.59l7.78-7.78 2.81-2.81c.8-.78.8-2.07 0-2.86zM5.41 20L4 18.59l7.72-7.72 1.47 1.35L5.41 20z\"/>\n",
              "  </svg>\n",
              "      </button>\n",
              "      \n",
              "  <style>\n",
              "    .colab-df-container {\n",
              "      display:flex;\n",
              "      flex-wrap:wrap;\n",
              "      gap: 12px;\n",
              "    }\n",
              "\n",
              "    .colab-df-convert {\n",
              "      background-color: #E8F0FE;\n",
              "      border: none;\n",
              "      border-radius: 50%;\n",
              "      cursor: pointer;\n",
              "      display: none;\n",
              "      fill: #1967D2;\n",
              "      height: 32px;\n",
              "      padding: 0 0 0 0;\n",
              "      width: 32px;\n",
              "    }\n",
              "\n",
              "    .colab-df-convert:hover {\n",
              "      background-color: #E2EBFA;\n",
              "      box-shadow: 0px 1px 2px rgba(60, 64, 67, 0.3), 0px 1px 3px 1px rgba(60, 64, 67, 0.15);\n",
              "      fill: #174EA6;\n",
              "    }\n",
              "\n",
              "    [theme=dark] .colab-df-convert {\n",
              "      background-color: #3B4455;\n",
              "      fill: #D2E3FC;\n",
              "    }\n",
              "\n",
              "    [theme=dark] .colab-df-convert:hover {\n",
              "      background-color: #434B5C;\n",
              "      box-shadow: 0px 1px 3px 1px rgba(0, 0, 0, 0.15);\n",
              "      filter: drop-shadow(0px 1px 2px rgba(0, 0, 0, 0.3));\n",
              "      fill: #FFFFFF;\n",
              "    }\n",
              "  </style>\n",
              "\n",
              "      <script>\n",
              "        const buttonEl =\n",
              "          document.querySelector('#df-19fe6da2-c924-4832-8ab2-c8b40e417362 button.colab-df-convert');\n",
              "        buttonEl.style.display =\n",
              "          google.colab.kernel.accessAllowed ? 'block' : 'none';\n",
              "\n",
              "        async function convertToInteractive(key) {\n",
              "          const element = document.querySelector('#df-19fe6da2-c924-4832-8ab2-c8b40e417362');\n",
              "          const dataTable =\n",
              "            await google.colab.kernel.invokeFunction('convertToInteractive',\n",
              "                                                     [key], {});\n",
              "          if (!dataTable) return;\n",
              "\n",
              "          const docLinkHtml = 'Like what you see? Visit the ' +\n",
              "            '<a target=\"_blank\" href=https://colab.research.google.com/notebooks/data_table.ipynb>data table notebook</a>'\n",
              "            + ' to learn more about interactive tables.';\n",
              "          element.innerHTML = '';\n",
              "          dataTable['output_type'] = 'display_data';\n",
              "          await google.colab.output.renderOutput(dataTable, element);\n",
              "          const docLink = document.createElement('div');\n",
              "          docLink.innerHTML = docLinkHtml;\n",
              "          element.appendChild(docLink);\n",
              "        }\n",
              "      </script>\n",
              "    </div>\n",
              "  </div>\n",
              "  "
            ]
          },
          "metadata": {},
          "execution_count": 62
        }
      ]
    },
    {
      "cell_type": "code",
      "source": [
        "plt.figure(figsize=(10,6))\n",
        "\n",
        "sns.displot(data=votes_merge, \n",
        "            x='diffDaysVote',\n",
        "            hue='stillExists',\n",
        "            multiple='stack',\n",
        "            height=6, aspect=1.4, bins=25)\n",
        "\n",
        "plt.title(\"Diferença de dias entre o voto e a última participação\")\n",
        "plt.xlabel(\"Dias\")\n",
        "plt.ylabel(\"Quantidade\")\n",
        "\n",
        "plt.show()"
      ],
      "metadata": {
        "colab": {
          "base_uri": "https://localhost:8080/",
          "height": 474
        },
        "id": "iCfRnaim3v6d",
        "outputId": "5943ec6f-a111-43a1-c9c2-2f5aaa334b42"
      },
      "execution_count": 63,
      "outputs": [
        {
          "output_type": "display_data",
          "data": {
            "text/plain": [
              "<Figure size 720x432 with 0 Axes>"
            ]
          },
          "metadata": {}
        },
        {
          "output_type": "display_data",
          "data": {
            "text/plain": [
              "<Figure size 659.925x432 with 1 Axes>"
            ],
            "image/png": "[encoded data removed]"
          },
          "metadata": {
            "needs_background": "light"
          }
        }
      ]
    },
    {
      "cell_type": "markdown",
      "source": [
        "##### Agrupar a base **votes_merge** por companyAlias e employee\n",
        "* **vote**: mean, mode, min, max e count\n",
        "* **diffDaysVote**: min, max e median"
      ],
      "metadata": {
        "id": "Dqy8S9TxcI5d"
      }
    },
    {
      "cell_type": "code",
      "source": [
        "votes_merge.shape"
      ],
      "metadata": {
        "colab": {
          "base_uri": "https://localhost:8080/"
        },
        "id": "3S5QaINpMd4R",
        "outputId": "76174793-94a5-4ebb-f8dd-f878a6e1f0a0"
      },
      "execution_count": 64,
      "outputs": [
        {
          "output_type": "execute_result",
          "data": {
            "text/plain": [
              "(221145, 8)"
            ]
          },
          "metadata": {},
          "execution_count": 64
        }
      ]
    },
    {
      "cell_type": "code",
      "source": [
        "def mode(x):\n",
        "    return pd.Series.mode(x)[0]"
      ],
      "metadata": {
        "id": "Ojh5FI1IXM7F"
      },
      "execution_count": 65,
      "outputs": []
    },
    {
      "cell_type": "code",
      "source": [
        "votes_group = votes_merge.groupby(\n",
        "    ['companyAlias', \n",
        "     'employee',\n",
        "     'numVotes',\n",
        "     'stillExists',\n",
        "     'lastParticipationDate']\n",
        "     ).agg({'vote': ['mean',\n",
        "                     mode,\n",
        "                     'min',\n",
        "                     'max',\n",
        "                     'count'],\n",
        "            'diffDaysVote': ['min',\n",
        "                             'max',\n",
        "                             'median']}\n",
        "     ).reset_index()\n",
        "\n",
        "votes_group.shape"
      ],
      "metadata": {
        "colab": {
          "base_uri": "https://localhost:8080/"
        },
        "id": "JPXp0h3PPl8O",
        "outputId": "70bb4561-3a0e-4f10-9194-9132ce8840e0"
      },
      "execution_count": 66,
      "outputs": [
        {
          "output_type": "execute_result",
          "data": {
            "text/plain": [
              "(4377, 13)"
            ]
          },
          "metadata": {},
          "execution_count": 66
        }
      ]
    },
    {
      "cell_type": "code",
      "source": [
        "votes_group.columns = [\n",
        "                 '.'.join(map(str, col)).strip() \n",
        "                 if col[1] != \"\" \n",
        "                 else col[0] \n",
        "                 for col in votes_group.columns.values\n",
        "                 ]"
      ],
      "metadata": {
        "id": "m0IjuU_MXVkg"
      },
      "execution_count": 67,
      "outputs": []
    },
    {
      "cell_type": "code",
      "source": [
        "votes_group.describe(datetime_is_numeric=True).T"
      ],
      "metadata": {
        "colab": {
          "base_uri": "https://localhost:8080/",
          "height": 487
        },
        "id": "MGdTBCndOErZ",
        "outputId": "77c41754-2253-4bb5-b430-28f9065c9292"
      },
      "execution_count": 68,
      "outputs": [
        {
          "output_type": "execute_result",
          "data": {
            "text/plain": [
              "                        count                           mean  \\\n",
              "employee               4377.0                     190.503084   \n",
              "numVotes               4377.0                      50.544208   \n",
              "stillExists            4377.0                       0.839159   \n",
              "lastParticipationDate    4377  2016-12-12 08:33:31.141421312   \n",
              "vote.mean              4377.0                       2.945912   \n",
              "vote.mode              4377.0                        2.96573   \n",
              "vote.min               4377.0                       1.908613   \n",
              "vote.max               4377.0                       3.696596   \n",
              "vote.count             4377.0                      50.524332   \n",
              "diffDaysVote.min       4377.0                       0.005026   \n",
              "diffDaysVote.max       4377.0                     142.645419   \n",
              "diffDaysVote.median    4377.0                      77.203564   \n",
              "\n",
              "                                       min                  25%  \\\n",
              "employee                               1.0                 50.0   \n",
              "numVotes                               1.0                  5.0   \n",
              "stillExists                            0.0                  1.0   \n",
              "lastParticipationDate  2014-06-07 02:00:00  2016-10-21 17:25:40   \n",
              "vote.mean                              1.0                 2.64   \n",
              "vote.mode                              1.0                  3.0   \n",
              "vote.min                               1.0                  1.0   \n",
              "vote.max                               1.0                  3.0   \n",
              "vote.count                             1.0                  5.0   \n",
              "diffDaysVote.min                       0.0                  0.0   \n",
              "diffDaysVote.max                       0.0                 19.0   \n",
              "diffDaysVote.median                    0.0                  9.5   \n",
              "\n",
              "                                       50%                  75%  \\\n",
              "employee                             130.0                246.0   \n",
              "numVotes                              19.0                 66.0   \n",
              "stillExists                            1.0                  1.0   \n",
              "lastParticipationDate  2017-02-22 01:00:00  2017-03-17 10:45:55   \n",
              "vote.mean                              3.0             3.333333   \n",
              "vote.mode                              3.0                  4.0   \n",
              "vote.min                               2.0                  3.0   \n",
              "vote.max                               4.0                  4.0   \n",
              "vote.count                            19.0                 66.0   \n",
              "diffDaysVote.min                       0.0                  0.0   \n",
              "diffDaysVote.max                     107.0                215.0   \n",
              "diffDaysVote.median                   54.5                117.0   \n",
              "\n",
              "                                       max         std  \n",
              "employee                             999.0  202.257837  \n",
              "numVotes                             740.0   73.246803  \n",
              "stillExists                            1.0    0.367426  \n",
              "lastParticipationDate  2017-03-20 21:25:54         NaN  \n",
              "vote.mean                              4.0    0.651171  \n",
              "vote.mode                              4.0     0.84693  \n",
              "vote.min                               4.0    0.956246  \n",
              "vote.max                               4.0    0.558522  \n",
              "vote.count                           740.0    73.17527  \n",
              "diffDaysVote.min                       7.0    0.164134  \n",
              "diffDaysVote.max                     770.0  153.462729  \n",
              "diffDaysVote.median                  708.5   87.675123  "
            ],
            "text/html": [
              "\n",
              "  <div id=\"df-ac968774-443d-4005-b4a7-1239dbd27e55\">\n",
              "    <div class=\"colab-df-container\">\n",
              "      <div>\n",
              "<style scoped>\n",
              "    .dataframe tbody tr th:only-of-type {\n",
              "        vertical-align: middle;\n",
              "    }\n",
              "\n",
              "    .dataframe tbody tr th {\n",
              "        vertical-align: top;\n",
              "    }\n",
              "\n",
              "    .dataframe thead th {\n",
              "        text-align: right;\n",
              "    }\n",
              "</style>\n",
              "<table border=\"1\" class=\"dataframe\">\n",
              "  <thead>\n",
              "    <tr style=\"text-align: right;\">\n",
              "      <th></th>\n",
              "      <th>count</th>\n",
              "      <th>mean</th>\n",
              "      <th>min</th>\n",
              "      <th>25%</th>\n",
              "      <th>50%</th>\n",
              "      <th>75%</th>\n",
              "      <th>max</th>\n",
              "      <th>std</th>\n",
              "    </tr>\n",
              "  </thead>\n",
              "  <tbody>\n",
              "    <tr>\n",
              "      <th>employee</th>\n",
              "      <td>4377.0</td>\n",
              "      <td>190.503084</td>\n",
              "      <td>1.0</td>\n",
              "      <td>50.0</td>\n",
              "      <td>130.0</td>\n",
              "      <td>246.0</td>\n",
              "      <td>999.0</td>\n",
              "      <td>202.257837</td>\n",
              "    </tr>\n",
              "    <tr>\n",
              "      <th>numVotes</th>\n",
              "      <td>4377.0</td>\n",
              "      <td>50.544208</td>\n",
              "      <td>1.0</td>\n",
              "      <td>5.0</td>\n",
              "      <td>19.0</td>\n",
              "      <td>66.0</td>\n",
              "      <td>740.0</td>\n",
              "      <td>73.246803</td>\n",
              "    </tr>\n",
              "    <tr>\n",
              "      <th>stillExists</th>\n",
              "      <td>4377.0</td>\n",
              "      <td>0.839159</td>\n",
              "      <td>0.0</td>\n",
              "      <td>1.0</td>\n",
              "      <td>1.0</td>\n",
              "      <td>1.0</td>\n",
              "      <td>1.0</td>\n",
              "      <td>0.367426</td>\n",
              "    </tr>\n",
              "    <tr>\n",
              "      <th>lastParticipationDate</th>\n",
              "      <td>4377</td>\n",
              "      <td>2016-12-12 08:33:31.141421312</td>\n",
              "      <td>2014-06-07 02:00:00</td>\n",
              "      <td>2016-10-21 17:25:40</td>\n",
              "      <td>2017-02-22 01:00:00</td>\n",
              "      <td>2017-03-17 10:45:55</td>\n",
              "      <td>2017-03-20 21:25:54</td>\n",
              "      <td>NaN</td>\n",
              "    </tr>\n",
              "    <tr>\n",
              "      <th>vote.mean</th>\n",
              "      <td>4377.0</td>\n",
              "      <td>2.945912</td>\n",
              "      <td>1.0</td>\n",
              "      <td>2.64</td>\n",
              "      <td>3.0</td>\n",
              "      <td>3.333333</td>\n",
              "      <td>4.0</td>\n",
              "      <td>0.651171</td>\n",
              "    </tr>\n",
              "    <tr>\n",
              "      <th>vote.mode</th>\n",
              "      <td>4377.0</td>\n",
              "      <td>2.96573</td>\n",
              "      <td>1.0</td>\n",
              "      <td>3.0</td>\n",
              "      <td>3.0</td>\n",
              "      <td>4.0</td>\n",
              "      <td>4.0</td>\n",
              "      <td>0.84693</td>\n",
              "    </tr>\n",
              "    <tr>\n",
              "      <th>vote.min</th>\n",
              "      <td>4377.0</td>\n",
              "      <td>1.908613</td>\n",
              "      <td>1.0</td>\n",
              "      <td>1.0</td>\n",
              "      <td>2.0</td>\n",
              "      <td>3.0</td>\n",
              "      <td>4.0</td>\n",
              "      <td>0.956246</td>\n",
              "    </tr>\n",
              "    <tr>\n",
              "      <th>vote.max</th>\n",
              "      <td>4377.0</td>\n",
              "      <td>3.696596</td>\n",
              "      <td>1.0</td>\n",
              "      <td>3.0</td>\n",
              "      <td>4.0</td>\n",
              "      <td>4.0</td>\n",
              "      <td>4.0</td>\n",
              "      <td>0.558522</td>\n",
              "    </tr>\n",
              "    <tr>\n",
              "      <th>vote.count</th>\n",
              "      <td>4377.0</td>\n",
              "      <td>50.524332</td>\n",
              "      <td>1.0</td>\n",
              "      <td>5.0</td>\n",
              "      <td>19.0</td>\n",
              "      <td>66.0</td>\n",
              "      <td>740.0</td>\n",
              "      <td>73.17527</td>\n",
              "    </tr>\n",
              "    <tr>\n",
              "      <th>diffDaysVote.min</th>\n",
              "      <td>4377.0</td>\n",
              "      <td>0.005026</td>\n",
              "      <td>0.0</td>\n",
              "      <td>0.0</td>\n",
              "      <td>0.0</td>\n",
              "      <td>0.0</td>\n",
              "      <td>7.0</td>\n",
              "      <td>0.164134</td>\n",
              "    </tr>\n",
              "    <tr>\n",
              "      <th>diffDaysVote.max</th>\n",
              "      <td>4377.0</td>\n",
              "      <td>142.645419</td>\n",
              "      <td>0.0</td>\n",
              "      <td>19.0</td>\n",
              "      <td>107.0</td>\n",
              "      <td>215.0</td>\n",
              "      <td>770.0</td>\n",
              "      <td>153.462729</td>\n",
              "    </tr>\n",
              "    <tr>\n",
              "      <th>diffDaysVote.median</th>\n",
              "      <td>4377.0</td>\n",
              "      <td>77.203564</td>\n",
              "      <td>0.0</td>\n",
              "      <td>9.5</td>\n",
              "      <td>54.5</td>\n",
              "      <td>117.0</td>\n",
              "      <td>708.5</td>\n",
              "      <td>87.675123</td>\n",
              "    </tr>\n",
              "  </tbody>\n",
              "</table>\n",
              "</div>\n",
              "      <button class=\"colab-df-convert\" onclick=\"convertToInteractive('df-ac968774-443d-4005-b4a7-1239dbd27e55')\"\n",
              "              title=\"Convert this dataframe to an interactive table.\"\n",
              "              style=\"display:none;\">\n",
              "        \n",
              "  <svg xmlns=\"http://www.w3.org/2000/svg\" height=\"24px\"viewBox=\"0 0 24 24\"\n",
              "       width=\"24px\">\n",
              "    <path d=\"M0 0h24v24H0V0z\" fill=\"none\"/>\n",
              "    <path d=\"M18.56 5.44l.94 2.06.94-2.06 2.06-.94-2.06-.94-.94-2.06-.94 2.06-2.06.94zm-11 1L8.5 8.5l.94-2.06 2.06-.94-2.06-.94L8.5 2.5l-.94 2.06-2.06.94zm10 10l.94 2.06.94-2.06 2.06-.94-2.06-.94-.94-2.06-.94 2.06-2.06.94z\"/><path d=\"M17.41 7.96l-1.37-1.37c-.4-.4-.92-.59-1.43-.59-.52 0-1.04.2-1.43.59L10.3 9.45l-7.72 7.72c-.78.78-.78 2.05 0 2.83L4 21.41c.39.39.9.59 1.41.59.51 0 1.02-.2 1.41-.59l7.78-7.78 2.81-2.81c.8-.78.8-2.07 0-2.86zM5.41 20L4 18.59l7.72-7.72 1.47 1.35L5.41 20z\"/>\n",
              "  </svg>\n",
              "      </button>\n",
              "      \n",
              "  <style>\n",
              "    .colab-df-container {\n",
              "      display:flex;\n",
              "      flex-wrap:wrap;\n",
              "      gap: 12px;\n",
              "    }\n",
              "\n",
              "    .colab-df-convert {\n",
              "      background-color: #E8F0FE;\n",
              "      border: none;\n",
              "      border-radius: 50%;\n",
              "      cursor: pointer;\n",
              "      display: none;\n",
              "      fill: #1967D2;\n",
              "      height: 32px;\n",
              "      padding: 0 0 0 0;\n",
              "      width: 32px;\n",
              "    }\n",
              "\n",
              "    .colab-df-convert:hover {\n",
              "      background-color: #E2EBFA;\n",
              "      box-shadow: 0px 1px 2px rgba(60, 64, 67, 0.3), 0px 1px 3px 1px rgba(60, 64, 67, 0.15);\n",
              "      fill: #174EA6;\n",
              "    }\n",
              "\n",
              "    [theme=dark] .colab-df-convert {\n",
              "      background-color: #3B4455;\n",
              "      fill: #D2E3FC;\n",
              "    }\n",
              "\n",
              "    [theme=dark] .colab-df-convert:hover {\n",
              "      background-color: #434B5C;\n",
              "      box-shadow: 0px 1px 3px 1px rgba(0, 0, 0, 0.15);\n",
              "      filter: drop-shadow(0px 1px 2px rgba(0, 0, 0, 0.3));\n",
              "      fill: #FFFFFF;\n",
              "    }\n",
              "  </style>\n",
              "\n",
              "      <script>\n",
              "        const buttonEl =\n",
              "          document.querySelector('#df-ac968774-443d-4005-b4a7-1239dbd27e55 button.colab-df-convert');\n",
              "        buttonEl.style.display =\n",
              "          google.colab.kernel.accessAllowed ? 'block' : 'none';\n",
              "\n",
              "        async function convertToInteractive(key) {\n",
              "          const element = document.querySelector('#df-ac968774-443d-4005-b4a7-1239dbd27e55');\n",
              "          const dataTable =\n",
              "            await google.colab.kernel.invokeFunction('convertToInteractive',\n",
              "                                                     [key], {});\n",
              "          if (!dataTable) return;\n",
              "\n",
              "          const docLinkHtml = 'Like what you see? Visit the ' +\n",
              "            '<a target=\"_blank\" href=https://colab.research.google.com/notebooks/data_table.ipynb>data table notebook</a>'\n",
              "            + ' to learn more about interactive tables.';\n",
              "          element.innerHTML = '';\n",
              "          dataTable['output_type'] = 'display_data';\n",
              "          await google.colab.output.renderOutput(dataTable, element);\n",
              "          const docLink = document.createElement('div');\n",
              "          docLink.innerHTML = docLinkHtml;\n",
              "          element.appendChild(docLink);\n",
              "        }\n",
              "      </script>\n",
              "    </div>\n",
              "  </div>\n",
              "  "
            ]
          },
          "metadata": {},
          "execution_count": 68
        }
      ]
    },
    {
      "cell_type": "markdown",
      "source": [
        "Como há uma diferença entre **numVotes** e **vote.count**, será considerada a coluna **vote.count**"
      ],
      "metadata": {
        "id": "IC2bUg2tVoXM"
      }
    },
    {
      "cell_type": "code",
      "source": [
        "votes_group['diffVotes'] = votes_group['numVotes'] - votes_group['vote.count']\n",
        "votes_group.loc[votes_group['diffVotes'] > 0].shape"
      ],
      "metadata": {
        "colab": {
          "base_uri": "https://localhost:8080/"
        },
        "id": "dK6O4gNhUkj8",
        "outputId": "69755f0b-25c6-447b-ea64-ce4d14a3dad4"
      },
      "execution_count": 69,
      "outputs": [
        {
          "output_type": "execute_result",
          "data": {
            "text/plain": [
              "(21, 14)"
            ]
          },
          "metadata": {},
          "execution_count": 69
        }
      ]
    },
    {
      "cell_type": "code",
      "source": [
        "votes_group.drop(columns=['diffVotes', 'numVotes'], inplace=True)\n",
        "votes_group.shape"
      ],
      "metadata": {
        "colab": {
          "base_uri": "https://localhost:8080/"
        },
        "id": "W1J0MjyBV6Jg",
        "outputId": "31c7f22a-2355-4671-98cf-45e57b88b297"
      },
      "execution_count": 70,
      "outputs": [
        {
          "output_type": "execute_result",
          "data": {
            "text/plain": [
              "(4377, 12)"
            ]
          },
          "metadata": {},
          "execution_count": 70
        }
      ]
    },
    {
      "cell_type": "markdown",
      "source": [
        "#### **df_comments** e **df_churn**\n",
        "\n",
        "Unir esses datasets para calcular a diferença entre **commentDate** e **lastParticipationDate**\n"
      ],
      "metadata": {
        "id": "MSQnaSlPZQTI"
      }
    },
    {
      "cell_type": "code",
      "source": [
        "df_comments.shape"
      ],
      "metadata": {
        "colab": {
          "base_uri": "https://localhost:8080/"
        },
        "id": "pOwfRMmwZsol",
        "outputId": "d13f59bc-dce1-43d1-d8a7-350b5a439c6e"
      },
      "execution_count": 71,
      "outputs": [
        {
          "output_type": "execute_result",
          "data": {
            "text/plain": [
              "(38993, 7)"
            ]
          },
          "metadata": {},
          "execution_count": 71
        }
      ]
    },
    {
      "cell_type": "code",
      "source": [
        "df_churn.shape"
      ],
      "metadata": {
        "colab": {
          "base_uri": "https://localhost:8080/"
        },
        "id": "9wtjFZEuZ00K",
        "outputId": "9f4e02ea-b522-4132-a72e-c0318eb70b9c"
      },
      "execution_count": 72,
      "outputs": [
        {
          "output_type": "execute_result",
          "data": {
            "text/plain": [
              "(4377, 5)"
            ]
          },
          "metadata": {},
          "execution_count": 72
        }
      ]
    },
    {
      "cell_type": "code",
      "source": [
        "comments_merge = df_churn.merge(df_comments,\n",
        "                            on=['companyAlias',\n",
        "                                'employee'],\n",
        "                            how='inner')\n",
        "comments_merge.drop(columns='numVotes', inplace=True)\n",
        "comments_merge.shape"
      ],
      "metadata": {
        "colab": {
          "base_uri": "https://localhost:8080/"
        },
        "id": "lOzES3IQg-MU",
        "outputId": "24792aa0-2616-4cf0-9419-efd39e81fa8f"
      },
      "execution_count": 73,
      "outputs": [
        {
          "output_type": "execute_result",
          "data": {
            "text/plain": [
              "(38993, 9)"
            ]
          },
          "metadata": {},
          "execution_count": 73
        }
      ]
    },
    {
      "cell_type": "code",
      "source": [
        "comments_merge.info()"
      ],
      "metadata": {
        "colab": {
          "base_uri": "https://localhost:8080/"
        },
        "id": "3XtwDuPFh0nJ",
        "outputId": "d961dcbc-e4d0-4623-8d00-3dc689061e02"
      },
      "execution_count": 74,
      "outputs": [
        {
          "output_type": "stream",
          "name": "stdout",
          "text": [
            "<class 'pandas.core.frame.DataFrame'>\n",
            "Int64Index: 38993 entries, 0 to 38992\n",
            "Data columns (total 9 columns):\n",
            " #   Column                 Non-Null Count  Dtype         \n",
            "---  ------                 --------------  -----         \n",
            " 0   employee               38993 non-null  int64         \n",
            " 1   companyAlias           38993 non-null  object        \n",
            " 2   lastParticipationDate  38993 non-null  datetime64[ns]\n",
            " 3   stillExists            38993 non-null  int64         \n",
            " 4   commentId              38993 non-null  object        \n",
            " 5   likes                  38993 non-null  int64         \n",
            " 6   dislikes               38993 non-null  int64         \n",
            " 7   commentDate            38993 non-null  datetime64[ns]\n",
            " 8   carac                  38993 non-null  int64         \n",
            "dtypes: datetime64[ns](2), int64(5), object(2)\n",
            "memory usage: 3.0+ MB\n"
          ]
        }
      ]
    },
    {
      "cell_type": "markdown",
      "source": [
        "##### Verificar a quantidade de dias entre **lastParticipationDate** e **commentDate**\n",
        "\n",
        "Remover os comentários com valores negativos da base"
      ],
      "metadata": {
        "id": "Tx2h1_Sje993"
      }
    },
    {
      "cell_type": "code",
      "source": [
        "comments_merge['diffDaysComment'] = (\n",
        "    comments_merge['lastParticipationDate'] \n",
        "    - comments_merge['commentDate']\n",
        "    ).dt.days"
      ],
      "metadata": {
        "id": "4a3_SDtEjI_b"
      },
      "execution_count": 75,
      "outputs": []
    },
    {
      "cell_type": "code",
      "source": [
        "comments_merge['diffDaysComment'].describe()"
      ],
      "metadata": {
        "colab": {
          "base_uri": "https://localhost:8080/"
        },
        "id": "y0zKIyGajg1w",
        "outputId": "2968b316-7f91-485e-c5c3-e2fa6cdbb5c2"
      },
      "execution_count": 76,
      "outputs": [
        {
          "output_type": "execute_result",
          "data": {
            "text/plain": [
              "count    38993.000000\n",
              "mean       151.719565\n",
              "std        141.744720\n",
              "min        -90.000000\n",
              "25%         46.000000\n",
              "50%        118.000000\n",
              "75%        216.000000\n",
              "max        770.000000\n",
              "Name: diffDaysComment, dtype: float64"
            ]
          },
          "metadata": {},
          "execution_count": 76
        }
      ]
    },
    {
      "cell_type": "code",
      "source": [
        "comments_merge.loc[comments_merge['diffDaysComment'] < 0].shape"
      ],
      "metadata": {
        "colab": {
          "base_uri": "https://localhost:8080/"
        },
        "id": "ljvmhs_cjpkK",
        "outputId": "a661e8cf-1fd9-42ed-d18b-5cf0b21bacd9"
      },
      "execution_count": 77,
      "outputs": [
        {
          "output_type": "execute_result",
          "data": {
            "text/plain": [
              "(17, 10)"
            ]
          },
          "metadata": {},
          "execution_count": 77
        }
      ]
    },
    {
      "cell_type": "code",
      "source": [
        "comments_merge = comments_merge.loc[comments_merge['diffDaysComment'] >= 0]\n",
        "comments_merge.shape"
      ],
      "metadata": {
        "colab": {
          "base_uri": "https://localhost:8080/"
        },
        "id": "ML_aA4HxkNC1",
        "outputId": "569b198d-cd77-45a3-c089-61ff5d4531b2"
      },
      "execution_count": 78,
      "outputs": [
        {
          "output_type": "execute_result",
          "data": {
            "text/plain": [
              "(38976, 10)"
            ]
          },
          "metadata": {},
          "execution_count": 78
        }
      ]
    },
    {
      "cell_type": "code",
      "source": [
        "plt.figure(figsize=(10,6))\n",
        "\n",
        "sns.displot(data=comments_merge, \n",
        "            x='diffDaysComment',\n",
        "            hue='stillExists',\n",
        "            multiple='stack',\n",
        "            height=6, aspect=1.4, bins=25)\n",
        "\n",
        "plt.title(\"Diferença de dias entre o comentário e a última participação\")\n",
        "plt.xlabel(\"Dias\")\n",
        "plt.ylabel(\"Quantidade\")\n",
        "\n",
        "plt.show()"
      ],
      "metadata": {
        "colab": {
          "base_uri": "https://localhost:8080/",
          "height": 474
        },
        "id": "io9ssywelQew",
        "outputId": "08ed1aad-4c0e-4be5-bde6-6ace9e97e9f9"
      },
      "execution_count": 79,
      "outputs": [
        {
          "output_type": "display_data",
          "data": {
            "text/plain": [
              "<Figure size 720x432 with 0 Axes>"
            ]
          },
          "metadata": {}
        },
        {
          "output_type": "display_data",
          "data": {
            "text/plain": [
              "<Figure size 659.925x432 with 1 Axes>"
            ],
            "image/png": "[encoded data removed]"
          },
          "metadata": {
            "needs_background": "light"
          }
        }
      ]
    },
    {
      "cell_type": "code",
      "source": [
        "comments_merge.head(3)"
      ],
      "metadata": {
        "colab": {
          "base_uri": "https://localhost:8080/",
          "height": 260
        },
        "id": "UqjIEWMWk0jV",
        "outputId": "03214cf1-3cf9-430d-e864-2723c5832221"
      },
      "execution_count": 80,
      "outputs": [
        {
          "output_type": "execute_result",
          "data": {
            "text/plain": [
              "   employee              companyAlias lastParticipationDate  stillExists  \\\n",
              "0       319  5370af43e4b0cff95558c12a   2017-03-16 11:38:22            1   \n",
              "1       274  5370af43e4b0cff95558c12a   2016-12-22 21:08:55            1   \n",
              "2       274  5370af43e4b0cff95558c12a   2016-12-22 21:08:55            1   \n",
              "\n",
              "                  commentId  likes  dislikes         commentDate  carac  \\\n",
              "0  58ca6b3992db640004f95491      1         1 2017-03-16 11:38:22     18   \n",
              "1  585c32ffac0fe00004b24d3a      2         0 2016-12-22 21:08:55     28   \n",
              "2  584ff3820b45f50004cb1c36      1         0 2016-12-13 14:10:37     25   \n",
              "\n",
              "   diffDaysComment  \n",
              "0                0  \n",
              "1                0  \n",
              "2                9  "
            ],
            "text/html": [
              "\n",
              "  <div id=\"df-093f3501-c6a7-4998-bcc4-6fe33bfa91a5\">\n",
              "    <div class=\"colab-df-container\">\n",
              "      <div>\n",
              "<style scoped>\n",
              "    .dataframe tbody tr th:only-of-type {\n",
              "        vertical-align: middle;\n",
              "    }\n",
              "\n",
              "    .dataframe tbody tr th {\n",
              "        vertical-align: top;\n",
              "    }\n",
              "\n",
              "    .dataframe thead th {\n",
              "        text-align: right;\n",
              "    }\n",
              "</style>\n",
              "<table border=\"1\" class=\"dataframe\">\n",
              "  <thead>\n",
              "    <tr style=\"text-align: right;\">\n",
              "      <th></th>\n",
              "      <th>employee</th>\n",
              "      <th>companyAlias</th>\n",
              "      <th>lastParticipationDate</th>\n",
              "      <th>stillExists</th>\n",
              "      <th>commentId</th>\n",
              "      <th>likes</th>\n",
              "      <th>dislikes</th>\n",
              "      <th>commentDate</th>\n",
              "      <th>carac</th>\n",
              "      <th>diffDaysComment</th>\n",
              "    </tr>\n",
              "  </thead>\n",
              "  <tbody>\n",
              "    <tr>\n",
              "      <th>0</th>\n",
              "      <td>319</td>\n",
              "      <td>5370af43e4b0cff95558c12a</td>\n",
              "      <td>2017-03-16 11:38:22</td>\n",
              "      <td>1</td>\n",
              "      <td>58ca6b3992db640004f95491</td>\n",
              "      <td>1</td>\n",
              "      <td>1</td>\n",
              "      <td>2017-03-16 11:38:22</td>\n",
              "      <td>18</td>\n",
              "      <td>0</td>\n",
              "    </tr>\n",
              "    <tr>\n",
              "      <th>1</th>\n",
              "      <td>274</td>\n",
              "      <td>5370af43e4b0cff95558c12a</td>\n",
              "      <td>2016-12-22 21:08:55</td>\n",
              "      <td>1</td>\n",
              "      <td>585c32ffac0fe00004b24d3a</td>\n",
              "      <td>2</td>\n",
              "      <td>0</td>\n",
              "      <td>2016-12-22 21:08:55</td>\n",
              "      <td>28</td>\n",
              "      <td>0</td>\n",
              "    </tr>\n",
              "    <tr>\n",
              "      <th>2</th>\n",
              "      <td>274</td>\n",
              "      <td>5370af43e4b0cff95558c12a</td>\n",
              "      <td>2016-12-22 21:08:55</td>\n",
              "      <td>1</td>\n",
              "      <td>584ff3820b45f50004cb1c36</td>\n",
              "      <td>1</td>\n",
              "      <td>0</td>\n",
              "      <td>2016-12-13 14:10:37</td>\n",
              "      <td>25</td>\n",
              "      <td>9</td>\n",
              "    </tr>\n",
              "  </tbody>\n",
              "</table>\n",
              "</div>\n",
              "      <button class=\"colab-df-convert\" onclick=\"convertToInteractive('df-093f3501-c6a7-4998-bcc4-6fe33bfa91a5')\"\n",
              "              title=\"Convert this dataframe to an interactive table.\"\n",
              "              style=\"display:none;\">\n",
              "        \n",
              "  <svg xmlns=\"http://www.w3.org/2000/svg\" height=\"24px\"viewBox=\"0 0 24 24\"\n",
              "       width=\"24px\">\n",
              "    <path d=\"M0 0h24v24H0V0z\" fill=\"none\"/>\n",
              "    <path d=\"M18.56 5.44l.94 2.06.94-2.06 2.06-.94-2.06-.94-.94-2.06-.94 2.06-2.06.94zm-11 1L8.5 8.5l.94-2.06 2.06-.94-2.06-.94L8.5 2.5l-.94 2.06-2.06.94zm10 10l.94 2.06.94-2.06 2.06-.94-2.06-.94-.94-2.06-.94 2.06-2.06.94z\"/><path d=\"M17.41 7.96l-1.37-1.37c-.4-.4-.92-.59-1.43-.59-.52 0-1.04.2-1.43.59L10.3 9.45l-7.72 7.72c-.78.78-.78 2.05 0 2.83L4 21.41c.39.39.9.59 1.41.59.51 0 1.02-.2 1.41-.59l7.78-7.78 2.81-2.81c.8-.78.8-2.07 0-2.86zM5.41 20L4 18.59l7.72-7.72 1.47 1.35L5.41 20z\"/>\n",
              "  </svg>\n",
              "      </button>\n",
              "      \n",
              "  <style>\n",
              "    .colab-df-container {\n",
              "      display:flex;\n",
              "      flex-wrap:wrap;\n",
              "      gap: 12px;\n",
              "    }\n",
              "\n",
              "    .colab-df-convert {\n",
              "      background-color: #E8F0FE;\n",
              "      border: none;\n",
              "      border-radius: 50%;\n",
              "      cursor: pointer;\n",
              "      display: none;\n",
              "      fill: #1967D2;\n",
              "      height: 32px;\n",
              "      padding: 0 0 0 0;\n",
              "      width: 32px;\n",
              "    }\n",
              "\n",
              "    .colab-df-convert:hover {\n",
              "      background-color: #E2EBFA;\n",
              "      box-shadow: 0px 1px 2px rgba(60, 64, 67, 0.3), 0px 1px 3px 1px rgba(60, 64, 67, 0.15);\n",
              "      fill: #174EA6;\n",
              "    }\n",
              "\n",
              "    [theme=dark] .colab-df-convert {\n",
              "      background-color: #3B4455;\n",
              "      fill: #D2E3FC;\n",
              "    }\n",
              "\n",
              "    [theme=dark] .colab-df-convert:hover {\n",
              "      background-color: #434B5C;\n",
              "      box-shadow: 0px 1px 3px 1px rgba(0, 0, 0, 0.15);\n",
              "      filter: drop-shadow(0px 1px 2px rgba(0, 0, 0, 0.3));\n",
              "      fill: #FFFFFF;\n",
              "    }\n",
              "  </style>\n",
              "\n",
              "      <script>\n",
              "        const buttonEl =\n",
              "          document.querySelector('#df-093f3501-c6a7-4998-bcc4-6fe33bfa91a5 button.colab-df-convert');\n",
              "        buttonEl.style.display =\n",
              "          google.colab.kernel.accessAllowed ? 'block' : 'none';\n",
              "\n",
              "        async function convertToInteractive(key) {\n",
              "          const element = document.querySelector('#df-093f3501-c6a7-4998-bcc4-6fe33bfa91a5');\n",
              "          const dataTable =\n",
              "            await google.colab.kernel.invokeFunction('convertToInteractive',\n",
              "                                                     [key], {});\n",
              "          if (!dataTable) return;\n",
              "\n",
              "          const docLinkHtml = 'Like what you see? Visit the ' +\n",
              "            '<a target=\"_blank\" href=https://colab.research.google.com/notebooks/data_table.ipynb>data table notebook</a>'\n",
              "            + ' to learn more about interactive tables.';\n",
              "          element.innerHTML = '';\n",
              "          dataTable['output_type'] = 'display_data';\n",
              "          await google.colab.output.renderOutput(dataTable, element);\n",
              "          const docLink = document.createElement('div');\n",
              "          docLink.innerHTML = docLinkHtml;\n",
              "          element.appendChild(docLink);\n",
              "        }\n",
              "      </script>\n",
              "    </div>\n",
              "  </div>\n",
              "  "
            ]
          },
          "metadata": {},
          "execution_count": 80
        }
      ]
    },
    {
      "cell_type": "markdown",
      "source": [
        "##### Agrupar a base **comments_merge** por **companyAlias**, **employee** e **stillExists**\n",
        "* **commentId**: count\n",
        "* **likes**: mean, min e max\n",
        "* **dislikes**: mean, min e max\n",
        "* **carac**: mean, min e max\n",
        "* **diffDays**: min, max e median"
      ],
      "metadata": {
        "id": "0JHHrsTijfO4"
      }
    },
    {
      "cell_type": "code",
      "source": [
        "comments_group = comments_merge.groupby(\n",
        "    ['companyAlias', \n",
        "     'employee',\n",
        "     'stillExists',\n",
        "     'lastParticipationDate']\n",
        "     ).agg({'likes': ['mean',\n",
        "                      'min',\n",
        "                      'max'],\n",
        "            'dislikes': ['mean',\n",
        "                         'min',\n",
        "                         'max'],\n",
        "            'carac': ['mean',\n",
        "                      'min',\n",
        "                      'max'],\n",
        "            'diffDaysComment': ['min', \n",
        "                                'max',\n",
        "                                'median'],\n",
        "            'commentId': 'count'\n",
        "            }\n",
        "     ).reset_index()\n",
        "\n",
        "comments_group.shape"
      ],
      "metadata": {
        "colab": {
          "base_uri": "https://localhost:8080/"
        },
        "id": "dVEAhsyUZ-fd",
        "outputId": "b6c4ea63-32d8-4715-9f01-ba032f6cfe0e"
      },
      "execution_count": 81,
      "outputs": [
        {
          "output_type": "execute_result",
          "data": {
            "text/plain": [
              "(2879, 17)"
            ]
          },
          "metadata": {},
          "execution_count": 81
        }
      ]
    },
    {
      "cell_type": "code",
      "source": [
        "comments_group.columns = [\n",
        "                 '.'.join(map(str, col)).strip() \n",
        "                 if col[1] != \"\" \n",
        "                 else col[0] \n",
        "                 for col in comments_group.columns.values\n",
        "                 ]"
      ],
      "metadata": {
        "id": "-sFri0d6aw2S"
      },
      "execution_count": 82,
      "outputs": []
    },
    {
      "cell_type": "code",
      "source": [
        "comments_group.describe(datetime_is_numeric=True).T"
      ],
      "metadata": {
        "colab": {
          "base_uri": "https://localhost:8080/",
          "height": 612
        },
        "id": "mr23F7cBoFCy",
        "outputId": "1a7cf41a-b9e5-468f-bc62-c08921043382"
      },
      "execution_count": 83,
      "outputs": [
        {
          "output_type": "execute_result",
          "data": {
            "text/plain": [
              "                         count                           mean  \\\n",
              "employee                2879.0                     170.659951   \n",
              "stillExists             2879.0                       0.936784   \n",
              "lastParticipationDate     2879  2017-01-03 22:34:41.914553600   \n",
              "likes.mean              2879.0                       6.489082   \n",
              "likes.min               2879.0                       2.312956   \n",
              "likes.max               2879.0                      14.293852   \n",
              "dislikes.mean           2879.0                       1.141794   \n",
              "dislikes.min            2879.0                       0.246613   \n",
              "dislikes.max            2879.0                       4.261549   \n",
              "carac.mean              2879.0                      88.236325   \n",
              "carac.min               2879.0                      31.210837   \n",
              "carac.max               2879.0                     247.019799   \n",
              "diffDaysComment.min     2879.0                      39.946162   \n",
              "diffDaysComment.max     2879.0                     152.708927   \n",
              "diffDaysComment.median  2879.0                     106.957103   \n",
              "commentId.count         2879.0                      13.538034   \n",
              "\n",
              "                                        min                  25%  \\\n",
              "employee                                1.0                 42.0   \n",
              "stillExists                             0.0                  1.0   \n",
              "lastParticipationDate   2014-11-25 19:02:25  2016-11-23 01:00:00   \n",
              "likes.mean                              0.0                  2.0   \n",
              "likes.min                               0.0                  0.0   \n",
              "likes.max                               0.0                  4.0   \n",
              "dislikes.mean                           0.0                  0.0   \n",
              "dislikes.min                            0.0                  0.0   \n",
              "dislikes.max                            0.0                  0.0   \n",
              "carac.mean                             0.75            38.207143   \n",
              "carac.min                               0.0                  9.0   \n",
              "carac.max                               1.0                 64.0   \n",
              "diffDaysComment.min                     0.0                  0.0   \n",
              "diffDaysComment.max                     0.0                 27.0   \n",
              "diffDaysComment.median                  0.0                18.75   \n",
              "commentId.count                         1.0                  2.0   \n",
              "\n",
              "                                        50%                  75%  \\\n",
              "employee                              118.0                227.0   \n",
              "stillExists                             1.0                  1.0   \n",
              "lastParticipationDate   2017-03-09 01:00:00  2017-03-19 01:00:00   \n",
              "likes.mean                              5.0             9.256579   \n",
              "likes.min                               1.0                  3.0   \n",
              "likes.max                              11.0                 21.0   \n",
              "dislikes.mean                      0.555556                  1.5   \n",
              "dislikes.min                            0.0                  0.0   \n",
              "dislikes.max                            2.0                  6.0   \n",
              "carac.mean                        66.777778           110.661616   \n",
              "carac.min                              17.0                 35.0   \n",
              "carac.max                             141.0                302.5   \n",
              "diffDaysComment.min                     8.0                 46.0   \n",
              "diffDaysComment.max                   126.0                235.5   \n",
              "diffDaysComment.median                 82.5               155.75   \n",
              "commentId.count                         6.0                 15.0   \n",
              "\n",
              "                                        max         std  \n",
              "employee                              999.0  182.272951  \n",
              "stillExists                             1.0    0.243394  \n",
              "lastParticipationDate   2017-03-20 21:25:54         NaN  \n",
              "likes.mean                             46.0    5.731845  \n",
              "likes.min                              46.0    4.201204  \n",
              "likes.max                              86.0   12.964395  \n",
              "dislikes.mean                          33.0    1.875563  \n",
              "dislikes.min                           33.0    1.367866  \n",
              "dislikes.max                           53.0    5.820038  \n",
              "carac.mean                            880.5   78.714626  \n",
              "carac.min                             672.0   46.426442  \n",
              "carac.max                           29057.0   611.36734  \n",
              "diffDaysComment.min                   751.0   73.713942  \n",
              "diffDaysComment.max                   770.0  148.573563  \n",
              "diffDaysComment.median                751.0   111.38492  \n",
              "commentId.count                       334.0   22.425365  "
            ],
            "text/html": [
              "\n",
              "  <div id=\"df-dd43c0b8-8711-452b-9caf-feb5e56f970e\">\n",
              "    <div class=\"colab-df-container\">\n",
              "      <div>\n",
              "<style scoped>\n",
              "    .dataframe tbody tr th:only-of-type {\n",
              "        vertical-align: middle;\n",
              "    }\n",
              "\n",
              "    .dataframe tbody tr th {\n",
              "        vertical-align: top;\n",
              "    }\n",
              "\n",
              "    .dataframe thead th {\n",
              "        text-align: right;\n",
              "    }\n",
              "</style>\n",
              "<table border=\"1\" class=\"dataframe\">\n",
              "  <thead>\n",
              "    <tr style=\"text-align: right;\">\n",
              "      <th></th>\n",
              "      <th>count</th>\n",
              "      <th>mean</th>\n",
              "      <th>min</th>\n",
              "      <th>25%</th>\n",
              "      <th>50%</th>\n",
              "      <th>75%</th>\n",
              "      <th>max</th>\n",
              "      <th>std</th>\n",
              "    </tr>\n",
              "  </thead>\n",
              "  <tbody>\n",
              "    <tr>\n",
              "      <th>employee</th>\n",
              "      <td>2879.0</td>\n",
              "      <td>170.659951</td>\n",
              "      <td>1.0</td>\n",
              "      <td>42.0</td>\n",
              "      <td>118.0</td>\n",
              "      <td>227.0</td>\n",
              "      <td>999.0</td>\n",
              "      <td>182.272951</td>\n",
              "    </tr>\n",
              "    <tr>\n",
              "      <th>stillExists</th>\n",
              "      <td>2879.0</td>\n",
              "      <td>0.936784</td>\n",
              "      <td>0.0</td>\n",
              "      <td>1.0</td>\n",
              "      <td>1.0</td>\n",
              "      <td>1.0</td>\n",
              "      <td>1.0</td>\n",
              "      <td>0.243394</td>\n",
              "    </tr>\n",
              "    <tr>\n",
              "      <th>lastParticipationDate</th>\n",
              "      <td>2879</td>\n",
              "      <td>2017-01-03 22:34:41.914553600</td>\n",
              "      <td>2014-11-25 19:02:25</td>\n",
              "      <td>2016-11-23 01:00:00</td>\n",
              "      <td>2017-03-09 01:00:00</td>\n",
              "      <td>2017-03-19 01:00:00</td>\n",
              "      <td>2017-03-20 21:25:54</td>\n",
              "      <td>NaN</td>\n",
              "    </tr>\n",
              "    <tr>\n",
              "      <th>likes.mean</th>\n",
              "      <td>2879.0</td>\n",
              "      <td>6.489082</td>\n",
              "      <td>0.0</td>\n",
              "      <td>2.0</td>\n",
              "      <td>5.0</td>\n",
              "      <td>9.256579</td>\n",
              "      <td>46.0</td>\n",
              "      <td>5.731845</td>\n",
              "    </tr>\n",
              "    <tr>\n",
              "      <th>likes.min</th>\n",
              "      <td>2879.0</td>\n",
              "      <td>2.312956</td>\n",
              "      <td>0.0</td>\n",
              "      <td>0.0</td>\n",
              "      <td>1.0</td>\n",
              "      <td>3.0</td>\n",
              "      <td>46.0</td>\n",
              "      <td>4.201204</td>\n",
              "    </tr>\n",
              "    <tr>\n",
              "      <th>likes.max</th>\n",
              "      <td>2879.0</td>\n",
              "      <td>14.293852</td>\n",
              "      <td>0.0</td>\n",
              "      <td>4.0</td>\n",
              "      <td>11.0</td>\n",
              "      <td>21.0</td>\n",
              "      <td>86.0</td>\n",
              "      <td>12.964395</td>\n",
              "    </tr>\n",
              "    <tr>\n",
              "      <th>dislikes.mean</th>\n",
              "      <td>2879.0</td>\n",
              "      <td>1.141794</td>\n",
              "      <td>0.0</td>\n",
              "      <td>0.0</td>\n",
              "      <td>0.555556</td>\n",
              "      <td>1.5</td>\n",
              "      <td>33.0</td>\n",
              "      <td>1.875563</td>\n",
              "    </tr>\n",
              "    <tr>\n",
              "      <th>dislikes.min</th>\n",
              "      <td>2879.0</td>\n",
              "      <td>0.246613</td>\n",
              "      <td>0.0</td>\n",
              "      <td>0.0</td>\n",
              "      <td>0.0</td>\n",
              "      <td>0.0</td>\n",
              "      <td>33.0</td>\n",
              "      <td>1.367866</td>\n",
              "    </tr>\n",
              "    <tr>\n",
              "      <th>dislikes.max</th>\n",
              "      <td>2879.0</td>\n",
              "      <td>4.261549</td>\n",
              "      <td>0.0</td>\n",
              "      <td>0.0</td>\n",
              "      <td>2.0</td>\n",
              "      <td>6.0</td>\n",
              "      <td>53.0</td>\n",
              "      <td>5.820038</td>\n",
              "    </tr>\n",
              "    <tr>\n",
              "      <th>carac.mean</th>\n",
              "      <td>2879.0</td>\n",
              "      <td>88.236325</td>\n",
              "      <td>0.75</td>\n",
              "      <td>38.207143</td>\n",
              "      <td>66.777778</td>\n",
              "      <td>110.661616</td>\n",
              "      <td>880.5</td>\n",
              "      <td>78.714626</td>\n",
              "    </tr>\n",
              "    <tr>\n",
              "      <th>carac.min</th>\n",
              "      <td>2879.0</td>\n",
              "      <td>31.210837</td>\n",
              "      <td>0.0</td>\n",
              "      <td>9.0</td>\n",
              "      <td>17.0</td>\n",
              "      <td>35.0</td>\n",
              "      <td>672.0</td>\n",
              "      <td>46.426442</td>\n",
              "    </tr>\n",
              "    <tr>\n",
              "      <th>carac.max</th>\n",
              "      <td>2879.0</td>\n",
              "      <td>247.019799</td>\n",
              "      <td>1.0</td>\n",
              "      <td>64.0</td>\n",
              "      <td>141.0</td>\n",
              "      <td>302.5</td>\n",
              "      <td>29057.0</td>\n",
              "      <td>611.36734</td>\n",
              "    </tr>\n",
              "    <tr>\n",
              "      <th>diffDaysComment.min</th>\n",
              "      <td>2879.0</td>\n",
              "      <td>39.946162</td>\n",
              "      <td>0.0</td>\n",
              "      <td>0.0</td>\n",
              "      <td>8.0</td>\n",
              "      <td>46.0</td>\n",
              "      <td>751.0</td>\n",
              "      <td>73.713942</td>\n",
              "    </tr>\n",
              "    <tr>\n",
              "      <th>diffDaysComment.max</th>\n",
              "      <td>2879.0</td>\n",
              "      <td>152.708927</td>\n",
              "      <td>0.0</td>\n",
              "      <td>27.0</td>\n",
              "      <td>126.0</td>\n",
              "      <td>235.5</td>\n",
              "      <td>770.0</td>\n",
              "      <td>148.573563</td>\n",
              "    </tr>\n",
              "    <tr>\n",
              "      <th>diffDaysComment.median</th>\n",
              "      <td>2879.0</td>\n",
              "      <td>106.957103</td>\n",
              "      <td>0.0</td>\n",
              "      <td>18.75</td>\n",
              "      <td>82.5</td>\n",
              "      <td>155.75</td>\n",
              "      <td>751.0</td>\n",
              "      <td>111.38492</td>\n",
              "    </tr>\n",
              "    <tr>\n",
              "      <th>commentId.count</th>\n",
              "      <td>2879.0</td>\n",
              "      <td>13.538034</td>\n",
              "      <td>1.0</td>\n",
              "      <td>2.0</td>\n",
              "      <td>6.0</td>\n",
              "      <td>15.0</td>\n",
              "      <td>334.0</td>\n",
              "      <td>22.425365</td>\n",
              "    </tr>\n",
              "  </tbody>\n",
              "</table>\n",
              "</div>\n",
              "      <button class=\"colab-df-convert\" onclick=\"convertToInteractive('df-dd43c0b8-8711-452b-9caf-feb5e56f970e')\"\n",
              "              title=\"Convert this dataframe to an interactive table.\"\n",
              "              style=\"display:none;\">\n",
              "        \n",
              "  <svg xmlns=\"http://www.w3.org/2000/svg\" height=\"24px\"viewBox=\"0 0 24 24\"\n",
              "       width=\"24px\">\n",
              "    <path d=\"M0 0h24v24H0V0z\" fill=\"none\"/>\n",
              "    <path d=\"M18.56 5.44l.94 2.06.94-2.06 2.06-.94-2.06-.94-.94-2.06-.94 2.06-2.06.94zm-11 1L8.5 8.5l.94-2.06 2.06-.94-2.06-.94L8.5 2.5l-.94 2.06-2.06.94zm10 10l.94 2.06.94-2.06 2.06-.94-2.06-.94-.94-2.06-.94 2.06-2.06.94z\"/><path d=\"M17.41 7.96l-1.37-1.37c-.4-.4-.92-.59-1.43-.59-.52 0-1.04.2-1.43.59L10.3 9.45l-7.72 7.72c-.78.78-.78 2.05 0 2.83L4 21.41c.39.39.9.59 1.41.59.51 0 1.02-.2 1.41-.59l7.78-7.78 2.81-2.81c.8-.78.8-2.07 0-2.86zM5.41 20L4 18.59l7.72-7.72 1.47 1.35L5.41 20z\"/>\n",
              "  </svg>\n",
              "      </button>\n",
              "      \n",
              "  <style>\n",
              "    .colab-df-container {\n",
              "      display:flex;\n",
              "      flex-wrap:wrap;\n",
              "      gap: 12px;\n",
              "    }\n",
              "\n",
              "    .colab-df-convert {\n",
              "      background-color: #E8F0FE;\n",
              "      border: none;\n",
              "      border-radius: 50%;\n",
              "      cursor: pointer;\n",
              "      display: none;\n",
              "      fill: #1967D2;\n",
              "      height: 32px;\n",
              "      padding: 0 0 0 0;\n",
              "      width: 32px;\n",
              "    }\n",
              "\n",
              "    .colab-df-convert:hover {\n",
              "      background-color: #E2EBFA;\n",
              "      box-shadow: 0px 1px 2px rgba(60, 64, 67, 0.3), 0px 1px 3px 1px rgba(60, 64, 67, 0.15);\n",
              "      fill: #174EA6;\n",
              "    }\n",
              "\n",
              "    [theme=dark] .colab-df-convert {\n",
              "      background-color: #3B4455;\n",
              "      fill: #D2E3FC;\n",
              "    }\n",
              "\n",
              "    [theme=dark] .colab-df-convert:hover {\n",
              "      background-color: #434B5C;\n",
              "      box-shadow: 0px 1px 3px 1px rgba(0, 0, 0, 0.15);\n",
              "      filter: drop-shadow(0px 1px 2px rgba(0, 0, 0, 0.3));\n",
              "      fill: #FFFFFF;\n",
              "    }\n",
              "  </style>\n",
              "\n",
              "      <script>\n",
              "        const buttonEl =\n",
              "          document.querySelector('#df-dd43c0b8-8711-452b-9caf-feb5e56f970e button.colab-df-convert');\n",
              "        buttonEl.style.display =\n",
              "          google.colab.kernel.accessAllowed ? 'block' : 'none';\n",
              "\n",
              "        async function convertToInteractive(key) {\n",
              "          const element = document.querySelector('#df-dd43c0b8-8711-452b-9caf-feb5e56f970e');\n",
              "          const dataTable =\n",
              "            await google.colab.kernel.invokeFunction('convertToInteractive',\n",
              "                                                     [key], {});\n",
              "          if (!dataTable) return;\n",
              "\n",
              "          const docLinkHtml = 'Like what you see? Visit the ' +\n",
              "            '<a target=\"_blank\" href=https://colab.research.google.com/notebooks/data_table.ipynb>data table notebook</a>'\n",
              "            + ' to learn more about interactive tables.';\n",
              "          element.innerHTML = '';\n",
              "          dataTable['output_type'] = 'display_data';\n",
              "          await google.colab.output.renderOutput(dataTable, element);\n",
              "          const docLink = document.createElement('div');\n",
              "          docLink.innerHTML = docLinkHtml;\n",
              "          element.appendChild(docLink);\n",
              "        }\n",
              "      </script>\n",
              "    </div>\n",
              "  </div>\n",
              "  "
            ]
          },
          "metadata": {},
          "execution_count": 83
        }
      ]
    },
    {
      "cell_type": "code",
      "source": [
        "comments_group.head(3)"
      ],
      "metadata": {
        "colab": {
          "base_uri": "https://localhost:8080/",
          "height": 207
        },
        "id": "JYDUxWAKO-rt",
        "outputId": "84b67a62-48c0-4b47-f0e9-7a2882571fdd"
      },
      "execution_count": 84,
      "outputs": [
        {
          "output_type": "execute_result",
          "data": {
            "text/plain": [
              "               companyAlias  employee  stillExists lastParticipationDate  \\\n",
              "0  5370af43e4b0cff95558c12a        18            1   2017-03-12 01:00:00   \n",
              "1  5370af43e4b0cff95558c12a        20            1   2016-12-16 01:00:00   \n",
              "2  5370af43e4b0cff95558c12a        21            1   2016-12-27 01:00:00   \n",
              "\n",
              "   likes.mean  likes.min  likes.max  dislikes.mean  dislikes.min  \\\n",
              "0    5.480000          1         18       0.580000             0   \n",
              "1    1.400000          0          3       0.200000             0   \n",
              "2    3.416667          0          8       0.333333             0   \n",
              "\n",
              "   dislikes.max  carac.mean  carac.min  carac.max  diffDaysComment.min  \\\n",
              "0             3       51.24         14        139                   37   \n",
              "1             1        8.20          0         30                   16   \n",
              "2             2       53.00          8        168                    5   \n",
              "\n",
              "   diffDaysComment.max  diffDaysComment.median  commentId.count  \n",
              "0                  382                   326.0               50  \n",
              "1                  238                    27.0                5  \n",
              "2                  308                   268.0               12  "
            ],
            "text/html": [
              "\n",
              "  <div id=\"df-c05fde89-2258-480f-8726-829698f8cff6\">\n",
              "    <div class=\"colab-df-container\">\n",
              "      <div>\n",
              "<style scoped>\n",
              "    .dataframe tbody tr th:only-of-type {\n",
              "        vertical-align: middle;\n",
              "    }\n",
              "\n",
              "    .dataframe tbody tr th {\n",
              "        vertical-align: top;\n",
              "    }\n",
              "\n",
              "    .dataframe thead th {\n",
              "        text-align: right;\n",
              "    }\n",
              "</style>\n",
              "<table border=\"1\" class=\"dataframe\">\n",
              "  <thead>\n",
              "    <tr style=\"text-align: right;\">\n",
              "      <th></th>\n",
              "      <th>companyAlias</th>\n",
              "      <th>employee</th>\n",
              "      <th>stillExists</th>\n",
              "      <th>lastParticipationDate</th>\n",
              "      <th>likes.mean</th>\n",
              "      <th>likes.min</th>\n",
              "      <th>likes.max</th>\n",
              "      <th>dislikes.mean</th>\n",
              "      <th>dislikes.min</th>\n",
              "      <th>dislikes.max</th>\n",
              "      <th>carac.mean</th>\n",
              "      <th>carac.min</th>\n",
              "      <th>carac.max</th>\n",
              "      <th>diffDaysComment.min</th>\n",
              "      <th>diffDaysComment.max</th>\n",
              "      <th>diffDaysComment.median</th>\n",
              "      <th>commentId.count</th>\n",
              "    </tr>\n",
              "  </thead>\n",
              "  <tbody>\n",
              "    <tr>\n",
              "      <th>0</th>\n",
              "      <td>5370af43e4b0cff95558c12a</td>\n",
              "      <td>18</td>\n",
              "      <td>1</td>\n",
              "      <td>2017-03-12 01:00:00</td>\n",
              "      <td>5.480000</td>\n",
              "      <td>1</td>\n",
              "      <td>18</td>\n",
              "      <td>0.580000</td>\n",
              "      <td>0</td>\n",
              "      <td>3</td>\n",
              "      <td>51.24</td>\n",
              "      <td>14</td>\n",
              "      <td>139</td>\n",
              "      <td>37</td>\n",
              "      <td>382</td>\n",
              "      <td>326.0</td>\n",
              "      <td>50</td>\n",
              "    </tr>\n",
              "    <tr>\n",
              "      <th>1</th>\n",
              "      <td>5370af43e4b0cff95558c12a</td>\n",
              "      <td>20</td>\n",
              "      <td>1</td>\n",
              "      <td>2016-12-16 01:00:00</td>\n",
              "      <td>1.400000</td>\n",
              "      <td>0</td>\n",
              "      <td>3</td>\n",
              "      <td>0.200000</td>\n",
              "      <td>0</td>\n",
              "      <td>1</td>\n",
              "      <td>8.20</td>\n",
              "      <td>0</td>\n",
              "      <td>30</td>\n",
              "      <td>16</td>\n",
              "      <td>238</td>\n",
              "      <td>27.0</td>\n",
              "      <td>5</td>\n",
              "    </tr>\n",
              "    <tr>\n",
              "      <th>2</th>\n",
              "      <td>5370af43e4b0cff95558c12a</td>\n",
              "      <td>21</td>\n",
              "      <td>1</td>\n",
              "      <td>2016-12-27 01:00:00</td>\n",
              "      <td>3.416667</td>\n",
              "      <td>0</td>\n",
              "      <td>8</td>\n",
              "      <td>0.333333</td>\n",
              "      <td>0</td>\n",
              "      <td>2</td>\n",
              "      <td>53.00</td>\n",
              "      <td>8</td>\n",
              "      <td>168</td>\n",
              "      <td>5</td>\n",
              "      <td>308</td>\n",
              "      <td>268.0</td>\n",
              "      <td>12</td>\n",
              "    </tr>\n",
              "  </tbody>\n",
              "</table>\n",
              "</div>\n",
              "      <button class=\"colab-df-convert\" onclick=\"convertToInteractive('df-c05fde89-2258-480f-8726-829698f8cff6')\"\n",
              "              title=\"Convert this dataframe to an interactive table.\"\n",
              "              style=\"display:none;\">\n",
              "        \n",
              "  <svg xmlns=\"http://www.w3.org/2000/svg\" height=\"24px\"viewBox=\"0 0 24 24\"\n",
              "       width=\"24px\">\n",
              "    <path d=\"M0 0h24v24H0V0z\" fill=\"none\"/>\n",
              "    <path d=\"M18.56 5.44l.94 2.06.94-2.06 2.06-.94-2.06-.94-.94-2.06-.94 2.06-2.06.94zm-11 1L8.5 8.5l.94-2.06 2.06-.94-2.06-.94L8.5 2.5l-.94 2.06-2.06.94zm10 10l.94 2.06.94-2.06 2.06-.94-2.06-.94-.94-2.06-.94 2.06-2.06.94z\"/><path d=\"M17.41 7.96l-1.37-1.37c-.4-.4-.92-.59-1.43-.59-.52 0-1.04.2-1.43.59L10.3 9.45l-7.72 7.72c-.78.78-.78 2.05 0 2.83L4 21.41c.39.39.9.59 1.41.59.51 0 1.02-.2 1.41-.59l7.78-7.78 2.81-2.81c.8-.78.8-2.07 0-2.86zM5.41 20L4 18.59l7.72-7.72 1.47 1.35L5.41 20z\"/>\n",
              "  </svg>\n",
              "      </button>\n",
              "      \n",
              "  <style>\n",
              "    .colab-df-container {\n",
              "      display:flex;\n",
              "      flex-wrap:wrap;\n",
              "      gap: 12px;\n",
              "    }\n",
              "\n",
              "    .colab-df-convert {\n",
              "      background-color: #E8F0FE;\n",
              "      border: none;\n",
              "      border-radius: 50%;\n",
              "      cursor: pointer;\n",
              "      display: none;\n",
              "      fill: #1967D2;\n",
              "      height: 32px;\n",
              "      padding: 0 0 0 0;\n",
              "      width: 32px;\n",
              "    }\n",
              "\n",
              "    .colab-df-convert:hover {\n",
              "      background-color: #E2EBFA;\n",
              "      box-shadow: 0px 1px 2px rgba(60, 64, 67, 0.3), 0px 1px 3px 1px rgba(60, 64, 67, 0.15);\n",
              "      fill: #174EA6;\n",
              "    }\n",
              "\n",
              "    [theme=dark] .colab-df-convert {\n",
              "      background-color: #3B4455;\n",
              "      fill: #D2E3FC;\n",
              "    }\n",
              "\n",
              "    [theme=dark] .colab-df-convert:hover {\n",
              "      background-color: #434B5C;\n",
              "      box-shadow: 0px 1px 3px 1px rgba(0, 0, 0, 0.15);\n",
              "      filter: drop-shadow(0px 1px 2px rgba(0, 0, 0, 0.3));\n",
              "      fill: #FFFFFF;\n",
              "    }\n",
              "  </style>\n",
              "\n",
              "      <script>\n",
              "        const buttonEl =\n",
              "          document.querySelector('#df-c05fde89-2258-480f-8726-829698f8cff6 button.colab-df-convert');\n",
              "        buttonEl.style.display =\n",
              "          google.colab.kernel.accessAllowed ? 'block' : 'none';\n",
              "\n",
              "        async function convertToInteractive(key) {\n",
              "          const element = document.querySelector('#df-c05fde89-2258-480f-8726-829698f8cff6');\n",
              "          const dataTable =\n",
              "            await google.colab.kernel.invokeFunction('convertToInteractive',\n",
              "                                                     [key], {});\n",
              "          if (!dataTable) return;\n",
              "\n",
              "          const docLinkHtml = 'Like what you see? Visit the ' +\n",
              "            '<a target=\"_blank\" href=https://colab.research.google.com/notebooks/data_table.ipynb>data table notebook</a>'\n",
              "            + ' to learn more about interactive tables.';\n",
              "          element.innerHTML = '';\n",
              "          dataTable['output_type'] = 'display_data';\n",
              "          await google.colab.output.renderOutput(dataTable, element);\n",
              "          const docLink = document.createElement('div');\n",
              "          docLink.innerHTML = docLinkHtml;\n",
              "          element.appendChild(docLink);\n",
              "        }\n",
              "      </script>\n",
              "    </div>\n",
              "  </div>\n",
              "  "
            ]
          },
          "metadata": {},
          "execution_count": 84
        }
      ]
    },
    {
      "cell_type": "markdown",
      "source": [
        "#### **votes_group** e **comments_group**\n",
        "\n",
        "Criar uma nova base para transformação do dataset final\n",
        "\n"
      ],
      "metadata": {
        "id": "sXWwn42Ho9eH"
      }
    },
    {
      "cell_type": "code",
      "source": [
        "votes_group.shape"
      ],
      "metadata": {
        "colab": {
          "base_uri": "https://localhost:8080/"
        },
        "id": "Gc98H2I8qtiL",
        "outputId": "3778c6c1-38b5-40ff-a367-286bdfcc2236"
      },
      "execution_count": 85,
      "outputs": [
        {
          "output_type": "execute_result",
          "data": {
            "text/plain": [
              "(4377, 12)"
            ]
          },
          "metadata": {},
          "execution_count": 85
        }
      ]
    },
    {
      "cell_type": "code",
      "source": [
        "comments_group.shape"
      ],
      "metadata": {
        "colab": {
          "base_uri": "https://localhost:8080/"
        },
        "id": "6mKndJSKqwKU",
        "outputId": "193cabe0-6d43-4de6-a337-b78cd06a4dec"
      },
      "execution_count": 86,
      "outputs": [
        {
          "output_type": "execute_result",
          "data": {
            "text/plain": [
              "(2879, 17)"
            ]
          },
          "metadata": {},
          "execution_count": 86
        }
      ]
    },
    {
      "cell_type": "code",
      "source": [
        "churn_merge = votes_group.merge(\n",
        "    comments_group, \n",
        "    on=['companyAlias',\n",
        "        'employee',\n",
        "        'stillExists',\n",
        "        'lastParticipationDate'],\n",
        "    how='left'\n",
        ")\n",
        "churn_merge.shape"
      ],
      "metadata": {
        "colab": {
          "base_uri": "https://localhost:8080/"
        },
        "id": "IT8zHnaoqiE4",
        "outputId": "3ff13465-4b42-446d-eb99-1169ad967864"
      },
      "execution_count": 87,
      "outputs": [
        {
          "output_type": "execute_result",
          "data": {
            "text/plain": [
              "(4377, 25)"
            ]
          },
          "metadata": {},
          "execution_count": 87
        }
      ]
    },
    {
      "cell_type": "code",
      "source": [
        "churn_merge.info()"
      ],
      "metadata": {
        "colab": {
          "base_uri": "https://localhost:8080/"
        },
        "id": "RtRmKaTer3Uq",
        "outputId": "d3fbec9f-c05e-422a-bc33-106d5400d5b3"
      },
      "execution_count": 88,
      "outputs": [
        {
          "output_type": "stream",
          "name": "stdout",
          "text": [
            "<class 'pandas.core.frame.DataFrame'>\n",
            "Int64Index: 4377 entries, 0 to 4376\n",
            "Data columns (total 25 columns):\n",
            " #   Column                  Non-Null Count  Dtype         \n",
            "---  ------                  --------------  -----         \n",
            " 0   companyAlias            4377 non-null   object        \n",
            " 1   employee                4377 non-null   int64         \n",
            " 2   stillExists             4377 non-null   int64         \n",
            " 3   lastParticipationDate   4377 non-null   datetime64[ns]\n",
            " 4   vote.mean               4377 non-null   float64       \n",
            " 5   vote.mode               4377 non-null   int64         \n",
            " 6   vote.min                4377 non-null   int64         \n",
            " 7   vote.max                4377 non-null   int64         \n",
            " 8   vote.count              4377 non-null   int64         \n",
            " 9   diffDaysVote.min        4377 non-null   int64         \n",
            " 10  diffDaysVote.max        4377 non-null   int64         \n",
            " 11  diffDaysVote.median     4377 non-null   float64       \n",
            " 12  likes.mean              2879 non-null   float64       \n",
            " 13  likes.min               2879 non-null   float64       \n",
            " 14  likes.max               2879 non-null   float64       \n",
            " 15  dislikes.mean           2879 non-null   float64       \n",
            " 16  dislikes.min            2879 non-null   float64       \n",
            " 17  dislikes.max            2879 non-null   float64       \n",
            " 18  carac.mean              2879 non-null   float64       \n",
            " 19  carac.min               2879 non-null   float64       \n",
            " 20  carac.max               2879 non-null   float64       \n",
            " 21  diffDaysComment.min     2879 non-null   float64       \n",
            " 22  diffDaysComment.max     2879 non-null   float64       \n",
            " 23  diffDaysComment.median  2879 non-null   float64       \n",
            " 24  commentId.count         2879 non-null   float64       \n",
            "dtypes: datetime64[ns](1), float64(15), int64(8), object(1)\n",
            "memory usage: 889.1+ KB\n"
          ]
        }
      ]
    },
    {
      "cell_type": "code",
      "source": [
        "churn_merge.describe(datetime_is_numeric=True).T"
      ],
      "metadata": {
        "colab": {
          "base_uri": "https://localhost:8080/",
          "height": 863
        },
        "id": "JEHC6Y40PIL9",
        "outputId": "aeadc9be-efa4-48ef-cb68-b7c757139d4f"
      },
      "execution_count": 89,
      "outputs": [
        {
          "output_type": "execute_result",
          "data": {
            "text/plain": [
              "                         count                           mean  \\\n",
              "employee                4377.0                     190.503084   \n",
              "stillExists             4377.0                       0.839159   \n",
              "lastParticipationDate     4377  2016-12-12 08:33:31.141421312   \n",
              "vote.mean               4377.0                       2.945912   \n",
              "vote.mode               4377.0                        2.96573   \n",
              "vote.min                4377.0                       1.908613   \n",
              "vote.max                4377.0                       3.696596   \n",
              "vote.count              4377.0                      50.524332   \n",
              "diffDaysVote.min        4377.0                       0.005026   \n",
              "diffDaysVote.max        4377.0                     142.645419   \n",
              "diffDaysVote.median     4377.0                      77.203564   \n",
              "likes.mean              2879.0                       6.489082   \n",
              "likes.min               2879.0                       2.312956   \n",
              "likes.max               2879.0                      14.293852   \n",
              "dislikes.mean           2879.0                       1.141794   \n",
              "dislikes.min            2879.0                       0.246613   \n",
              "dislikes.max            2879.0                       4.261549   \n",
              "carac.mean              2879.0                      88.236325   \n",
              "carac.min               2879.0                      31.210837   \n",
              "carac.max               2879.0                     247.019799   \n",
              "diffDaysComment.min     2879.0                      39.946162   \n",
              "diffDaysComment.max     2879.0                     152.708927   \n",
              "diffDaysComment.median  2879.0                     106.957103   \n",
              "commentId.count         2879.0                      13.538034   \n",
              "\n",
              "                                        min                  25%  \\\n",
              "employee                                1.0                 50.0   \n",
              "stillExists                             0.0                  1.0   \n",
              "lastParticipationDate   2014-06-07 02:00:00  2016-10-21 17:25:40   \n",
              "vote.mean                               1.0                 2.64   \n",
              "vote.mode                               1.0                  3.0   \n",
              "vote.min                                1.0                  1.0   \n",
              "vote.max                                1.0                  3.0   \n",
              "vote.count                              1.0                  5.0   \n",
              "diffDaysVote.min                        0.0                  0.0   \n",
              "diffDaysVote.max                        0.0                 19.0   \n",
              "diffDaysVote.median                     0.0                  9.5   \n",
              "likes.mean                              0.0                  2.0   \n",
              "likes.min                               0.0                  0.0   \n",
              "likes.max                               0.0                  4.0   \n",
              "dislikes.mean                           0.0                  0.0   \n",
              "dislikes.min                            0.0                  0.0   \n",
              "dislikes.max                            0.0                  0.0   \n",
              "carac.mean                             0.75            38.207143   \n",
              "carac.min                               0.0                  9.0   \n",
              "carac.max                               1.0                 64.0   \n",
              "diffDaysComment.min                     0.0                  0.0   \n",
              "diffDaysComment.max                     0.0                 27.0   \n",
              "diffDaysComment.median                  0.0                18.75   \n",
              "commentId.count                         1.0                  2.0   \n",
              "\n",
              "                                        50%                  75%  \\\n",
              "employee                              130.0                246.0   \n",
              "stillExists                             1.0                  1.0   \n",
              "lastParticipationDate   2017-02-22 01:00:00  2017-03-17 10:45:55   \n",
              "vote.mean                               3.0             3.333333   \n",
              "vote.mode                               3.0                  4.0   \n",
              "vote.min                                2.0                  3.0   \n",
              "vote.max                                4.0                  4.0   \n",
              "vote.count                             19.0                 66.0   \n",
              "diffDaysVote.min                        0.0                  0.0   \n",
              "diffDaysVote.max                      107.0                215.0   \n",
              "diffDaysVote.median                    54.5                117.0   \n",
              "likes.mean                              5.0             9.256579   \n",
              "likes.min                               1.0                  3.0   \n",
              "likes.max                              11.0                 21.0   \n",
              "dislikes.mean                      0.555556                  1.5   \n",
              "dislikes.min                            0.0                  0.0   \n",
              "dislikes.max                            2.0                  6.0   \n",
              "carac.mean                        66.777778           110.661616   \n",
              "carac.min                              17.0                 35.0   \n",
              "carac.max                             141.0                302.5   \n",
              "diffDaysComment.min                     8.0                 46.0   \n",
              "diffDaysComment.max                   126.0                235.5   \n",
              "diffDaysComment.median                 82.5               155.75   \n",
              "commentId.count                         6.0                 15.0   \n",
              "\n",
              "                                        max         std  \n",
              "employee                              999.0  202.257837  \n",
              "stillExists                             1.0    0.367426  \n",
              "lastParticipationDate   2017-03-20 21:25:54         NaN  \n",
              "vote.mean                               4.0    0.651171  \n",
              "vote.mode                               4.0     0.84693  \n",
              "vote.min                                4.0    0.956246  \n",
              "vote.max                                4.0    0.558522  \n",
              "vote.count                            740.0    73.17527  \n",
              "diffDaysVote.min                        7.0    0.164134  \n",
              "diffDaysVote.max                      770.0  153.462729  \n",
              "diffDaysVote.median                   708.5   87.675123  \n",
              "likes.mean                             46.0    5.731845  \n",
              "likes.min                              46.0    4.201204  \n",
              "likes.max                              86.0   12.964395  \n",
              "dislikes.mean                          33.0    1.875563  \n",
              "dislikes.min                           33.0    1.367866  \n",
              "dislikes.max                           53.0    5.820038  \n",
              "carac.mean                            880.5   78.714626  \n",
              "carac.min                             672.0   46.426442  \n",
              "carac.max                           29057.0   611.36734  \n",
              "diffDaysComment.min                   751.0   73.713942  \n",
              "diffDaysComment.max                   770.0  148.573563  \n",
              "diffDaysComment.median                751.0   111.38492  \n",
              "commentId.count                       334.0   22.425365  "
            ],
            "text/html": [
              "\n",
              "  <div id=\"df-ecff05f9-95ca-46cd-a893-afdc3cdecdcd\">\n",
              "    <div class=\"colab-df-container\">\n",
              "      <div>\n",
              "<style scoped>\n",
              "    .dataframe tbody tr th:only-of-type {\n",
              "        vertical-align: middle;\n",
              "    }\n",
              "\n",
              "    .dataframe tbody tr th {\n",
              "        vertical-align: top;\n",
              "    }\n",
              "\n",
              "    .dataframe thead th {\n",
              "        text-align: right;\n",
              "    }\n",
              "</style>\n",
              "<table border=\"1\" class=\"dataframe\">\n",
              "  <thead>\n",
              "    <tr style=\"text-align: right;\">\n",
              "      <th></th>\n",
              "      <th>count</th>\n",
              "      <th>mean</th>\n",
              "      <th>min</th>\n",
              "      <th>25%</th>\n",
              "      <th>50%</th>\n",
              "      <th>75%</th>\n",
              "      <th>max</th>\n",
              "      <th>std</th>\n",
              "    </tr>\n",
              "  </thead>\n",
              "  <tbody>\n",
              "    <tr>\n",
              "      <th>employee</th>\n",
              "      <td>4377.0</td>\n",
              "      <td>190.503084</td>\n",
              "      <td>1.0</td>\n",
              "      <td>50.0</td>\n",
              "      <td>130.0</td>\n",
              "      <td>246.0</td>\n",
              "      <td>999.0</td>\n",
              "      <td>202.257837</td>\n",
              "    </tr>\n",
              "    <tr>\n",
              "      <th>stillExists</th>\n",
              "      <td>4377.0</td>\n",
              "      <td>0.839159</td>\n",
              "      <td>0.0</td>\n",
              "      <td>1.0</td>\n",
              "      <td>1.0</td>\n",
              "      <td>1.0</td>\n",
              "      <td>1.0</td>\n",
              "      <td>0.367426</td>\n",
              "    </tr>\n",
              "    <tr>\n",
              "      <th>lastParticipationDate</th>\n",
              "      <td>4377</td>\n",
              "      <td>2016-12-12 08:33:31.141421312</td>\n",
              "      <td>2014-06-07 02:00:00</td>\n",
              "      <td>2016-10-21 17:25:40</td>\n",
              "      <td>2017-02-22 01:00:00</td>\n",
              "      <td>2017-03-17 10:45:55</td>\n",
              "      <td>2017-03-20 21:25:54</td>\n",
              "      <td>NaN</td>\n",
              "    </tr>\n",
              "    <tr>\n",
              "      <th>vote.mean</th>\n",
              "      <td>4377.0</td>\n",
              "      <td>2.945912</td>\n",
              "      <td>1.0</td>\n",
              "      <td>2.64</td>\n",
              "      <td>3.0</td>\n",
              "      <td>3.333333</td>\n",
              "      <td>4.0</td>\n",
              "      <td>0.651171</td>\n",
              "    </tr>\n",
              "    <tr>\n",
              "      <th>vote.mode</th>\n",
              "      <td>4377.0</td>\n",
              "      <td>2.96573</td>\n",
              "      <td>1.0</td>\n",
              "      <td>3.0</td>\n",
              "      <td>3.0</td>\n",
              "      <td>4.0</td>\n",
              "      <td>4.0</td>\n",
              "      <td>0.84693</td>\n",
              "    </tr>\n",
              "    <tr>\n",
              "      <th>vote.min</th>\n",
              "      <td>4377.0</td>\n",
              "      <td>1.908613</td>\n",
              "      <td>1.0</td>\n",
              "      <td>1.0</td>\n",
              "      <td>2.0</td>\n",
              "      <td>3.0</td>\n",
              "      <td>4.0</td>\n",
              "      <td>0.956246</td>\n",
              "    </tr>\n",
              "    <tr>\n",
              "      <th>vote.max</th>\n",
              "      <td>4377.0</td>\n",
              "      <td>3.696596</td>\n",
              "      <td>1.0</td>\n",
              "      <td>3.0</td>\n",
              "      <td>4.0</td>\n",
              "      <td>4.0</td>\n",
              "      <td>4.0</td>\n",
              "      <td>0.558522</td>\n",
              "    </tr>\n",
              "    <tr>\n",
              "      <th>vote.count</th>\n",
              "      <td>4377.0</td>\n",
              "      <td>50.524332</td>\n",
              "      <td>1.0</td>\n",
              "      <td>5.0</td>\n",
              "      <td>19.0</td>\n",
              "      <td>66.0</td>\n",
              "      <td>740.0</td>\n",
              "      <td>73.17527</td>\n",
              "    </tr>\n",
              "    <tr>\n",
              "      <th>diffDaysVote.min</th>\n",
              "      <td>4377.0</td>\n",
              "      <td>0.005026</td>\n",
              "      <td>0.0</td>\n",
              "      <td>0.0</td>\n",
              "      <td>0.0</td>\n",
              "      <td>0.0</td>\n",
              "      <td>7.0</td>\n",
              "      <td>0.164134</td>\n",
              "    </tr>\n",
              "    <tr>\n",
              "      <th>diffDaysVote.max</th>\n",
              "      <td>4377.0</td>\n",
              "      <td>142.645419</td>\n",
              "      <td>0.0</td>\n",
              "      <td>19.0</td>\n",
              "      <td>107.0</td>\n",
              "      <td>215.0</td>\n",
              "      <td>770.0</td>\n",
              "      <td>153.462729</td>\n",
              "    </tr>\n",
              "    <tr>\n",
              "      <th>diffDaysVote.median</th>\n",
              "      <td>4377.0</td>\n",
              "      <td>77.203564</td>\n",
              "      <td>0.0</td>\n",
              "      <td>9.5</td>\n",
              "      <td>54.5</td>\n",
              "      <td>117.0</td>\n",
              "      <td>708.5</td>\n",
              "      <td>87.675123</td>\n",
              "    </tr>\n",
              "    <tr>\n",
              "      <th>likes.mean</th>\n",
              "      <td>2879.0</td>\n",
              "      <td>6.489082</td>\n",
              "      <td>0.0</td>\n",
              "      <td>2.0</td>\n",
              "      <td>5.0</td>\n",
              "      <td>9.256579</td>\n",
              "      <td>46.0</td>\n",
              "      <td>5.731845</td>\n",
              "    </tr>\n",
              "    <tr>\n",
              "      <th>likes.min</th>\n",
              "      <td>2879.0</td>\n",
              "      <td>2.312956</td>\n",
              "      <td>0.0</td>\n",
              "      <td>0.0</td>\n",
              "      <td>1.0</td>\n",
              "      <td>3.0</td>\n",
              "      <td>46.0</td>\n",
              "      <td>4.201204</td>\n",
              "    </tr>\n",
              "    <tr>\n",
              "      <th>likes.max</th>\n",
              "      <td>2879.0</td>\n",
              "      <td>14.293852</td>\n",
              "      <td>0.0</td>\n",
              "      <td>4.0</td>\n",
              "      <td>11.0</td>\n",
              "      <td>21.0</td>\n",
              "      <td>86.0</td>\n",
              "      <td>12.964395</td>\n",
              "    </tr>\n",
              "    <tr>\n",
              "      <th>dislikes.mean</th>\n",
              "      <td>2879.0</td>\n",
              "      <td>1.141794</td>\n",
              "      <td>0.0</td>\n",
              "      <td>0.0</td>\n",
              "      <td>0.555556</td>\n",
              "      <td>1.5</td>\n",
              "      <td>33.0</td>\n",
              "      <td>1.875563</td>\n",
              "    </tr>\n",
              "    <tr>\n",
              "      <th>dislikes.min</th>\n",
              "      <td>2879.0</td>\n",
              "      <td>0.246613</td>\n",
              "      <td>0.0</td>\n",
              "      <td>0.0</td>\n",
              "      <td>0.0</td>\n",
              "      <td>0.0</td>\n",
              "      <td>33.0</td>\n",
              "      <td>1.367866</td>\n",
              "    </tr>\n",
              "    <tr>\n",
              "      <th>dislikes.max</th>\n",
              "      <td>2879.0</td>\n",
              "      <td>4.261549</td>\n",
              "      <td>0.0</td>\n",
              "      <td>0.0</td>\n",
              "      <td>2.0</td>\n",
              "      <td>6.0</td>\n",
              "      <td>53.0</td>\n",
              "      <td>5.820038</td>\n",
              "    </tr>\n",
              "    <tr>\n",
              "      <th>carac.mean</th>\n",
              "      <td>2879.0</td>\n",
              "      <td>88.236325</td>\n",
              "      <td>0.75</td>\n",
              "      <td>38.207143</td>\n",
              "      <td>66.777778</td>\n",
              "      <td>110.661616</td>\n",
              "      <td>880.5</td>\n",
              "      <td>78.714626</td>\n",
              "    </tr>\n",
              "    <tr>\n",
              "      <th>carac.min</th>\n",
              "      <td>2879.0</td>\n",
              "      <td>31.210837</td>\n",
              "      <td>0.0</td>\n",
              "      <td>9.0</td>\n",
              "      <td>17.0</td>\n",
              "      <td>35.0</td>\n",
              "      <td>672.0</td>\n",
              "      <td>46.426442</td>\n",
              "    </tr>\n",
              "    <tr>\n",
              "      <th>carac.max</th>\n",
              "      <td>2879.0</td>\n",
              "      <td>247.019799</td>\n",
              "      <td>1.0</td>\n",
              "      <td>64.0</td>\n",
              "      <td>141.0</td>\n",
              "      <td>302.5</td>\n",
              "      <td>29057.0</td>\n",
              "      <td>611.36734</td>\n",
              "    </tr>\n",
              "    <tr>\n",
              "      <th>diffDaysComment.min</th>\n",
              "      <td>2879.0</td>\n",
              "      <td>39.946162</td>\n",
              "      <td>0.0</td>\n",
              "      <td>0.0</td>\n",
              "      <td>8.0</td>\n",
              "      <td>46.0</td>\n",
              "      <td>751.0</td>\n",
              "      <td>73.713942</td>\n",
              "    </tr>\n",
              "    <tr>\n",
              "      <th>diffDaysComment.max</th>\n",
              "      <td>2879.0</td>\n",
              "      <td>152.708927</td>\n",
              "      <td>0.0</td>\n",
              "      <td>27.0</td>\n",
              "      <td>126.0</td>\n",
              "      <td>235.5</td>\n",
              "      <td>770.0</td>\n",
              "      <td>148.573563</td>\n",
              "    </tr>\n",
              "    <tr>\n",
              "      <th>diffDaysComment.median</th>\n",
              "      <td>2879.0</td>\n",
              "      <td>106.957103</td>\n",
              "      <td>0.0</td>\n",
              "      <td>18.75</td>\n",
              "      <td>82.5</td>\n",
              "      <td>155.75</td>\n",
              "      <td>751.0</td>\n",
              "      <td>111.38492</td>\n",
              "    </tr>\n",
              "    <tr>\n",
              "      <th>commentId.count</th>\n",
              "      <td>2879.0</td>\n",
              "      <td>13.538034</td>\n",
              "      <td>1.0</td>\n",
              "      <td>2.0</td>\n",
              "      <td>6.0</td>\n",
              "      <td>15.0</td>\n",
              "      <td>334.0</td>\n",
              "      <td>22.425365</td>\n",
              "    </tr>\n",
              "  </tbody>\n",
              "</table>\n",
              "</div>\n",
              "      <button class=\"colab-df-convert\" onclick=\"convertToInteractive('df-ecff05f9-95ca-46cd-a893-afdc3cdecdcd')\"\n",
              "              title=\"Convert this dataframe to an interactive table.\"\n",
              "              style=\"display:none;\">\n",
              "        \n",
              "  <svg xmlns=\"http://www.w3.org/2000/svg\" height=\"24px\"viewBox=\"0 0 24 24\"\n",
              "       width=\"24px\">\n",
              "    <path d=\"M0 0h24v24H0V0z\" fill=\"none\"/>\n",
              "    <path d=\"M18.56 5.44l.94 2.06.94-2.06 2.06-.94-2.06-.94-.94-2.06-.94 2.06-2.06.94zm-11 1L8.5 8.5l.94-2.06 2.06-.94-2.06-.94L8.5 2.5l-.94 2.06-2.06.94zm10 10l.94 2.06.94-2.06 2.06-.94-2.06-.94-.94-2.06-.94 2.06-2.06.94z\"/><path d=\"M17.41 7.96l-1.37-1.37c-.4-.4-.92-.59-1.43-.59-.52 0-1.04.2-1.43.59L10.3 9.45l-7.72 7.72c-.78.78-.78 2.05 0 2.83L4 21.41c.39.39.9.59 1.41.59.51 0 1.02-.2 1.41-.59l7.78-7.78 2.81-2.81c.8-.78.8-2.07 0-2.86zM5.41 20L4 18.59l7.72-7.72 1.47 1.35L5.41 20z\"/>\n",
              "  </svg>\n",
              "      </button>\n",
              "      \n",
              "  <style>\n",
              "    .colab-df-container {\n",
              "      display:flex;\n",
              "      flex-wrap:wrap;\n",
              "      gap: 12px;\n",
              "    }\n",
              "\n",
              "    .colab-df-convert {\n",
              "      background-color: #E8F0FE;\n",
              "      border: none;\n",
              "      border-radius: 50%;\n",
              "      cursor: pointer;\n",
              "      display: none;\n",
              "      fill: #1967D2;\n",
              "      height: 32px;\n",
              "      padding: 0 0 0 0;\n",
              "      width: 32px;\n",
              "    }\n",
              "\n",
              "    .colab-df-convert:hover {\n",
              "      background-color: #E2EBFA;\n",
              "      box-shadow: 0px 1px 2px rgba(60, 64, 67, 0.3), 0px 1px 3px 1px rgba(60, 64, 67, 0.15);\n",
              "      fill: #174EA6;\n",
              "    }\n",
              "\n",
              "    [theme=dark] .colab-df-convert {\n",
              "      background-color: #3B4455;\n",
              "      fill: #D2E3FC;\n",
              "    }\n",
              "\n",
              "    [theme=dark] .colab-df-convert:hover {\n",
              "      background-color: #434B5C;\n",
              "      box-shadow: 0px 1px 3px 1px rgba(0, 0, 0, 0.15);\n",
              "      filter: drop-shadow(0px 1px 2px rgba(0, 0, 0, 0.3));\n",
              "      fill: #FFFFFF;\n",
              "    }\n",
              "  </style>\n",
              "\n",
              "      <script>\n",
              "        const buttonEl =\n",
              "          document.querySelector('#df-ecff05f9-95ca-46cd-a893-afdc3cdecdcd button.colab-df-convert');\n",
              "        buttonEl.style.display =\n",
              "          google.colab.kernel.accessAllowed ? 'block' : 'none';\n",
              "\n",
              "        async function convertToInteractive(key) {\n",
              "          const element = document.querySelector('#df-ecff05f9-95ca-46cd-a893-afdc3cdecdcd');\n",
              "          const dataTable =\n",
              "            await google.colab.kernel.invokeFunction('convertToInteractive',\n",
              "                                                     [key], {});\n",
              "          if (!dataTable) return;\n",
              "\n",
              "          const docLinkHtml = 'Like what you see? Visit the ' +\n",
              "            '<a target=\"_blank\" href=https://colab.research.google.com/notebooks/data_table.ipynb>data table notebook</a>'\n",
              "            + ' to learn more about interactive tables.';\n",
              "          element.innerHTML = '';\n",
              "          dataTable['output_type'] = 'display_data';\n",
              "          await google.colab.output.renderOutput(dataTable, element);\n",
              "          const docLink = document.createElement('div');\n",
              "          docLink.innerHTML = docLinkHtml;\n",
              "          element.appendChild(docLink);\n",
              "        }\n",
              "      </script>\n",
              "    </div>\n",
              "  </div>\n",
              "  "
            ]
          },
          "metadata": {},
          "execution_count": 89
        }
      ]
    },
    {
      "cell_type": "markdown",
      "source": [
        "### Limpeza dos dados\n",
        "\n",
        "Com um dataset estruturado, é necessário terminar de limpar os dados.\n"
      ],
      "metadata": {
        "id": "2LWcRx2jRTa7"
      }
    },
    {
      "cell_type": "markdown",
      "source": [
        "#### a) Seleção do range de data a ser considerado para análise"
      ],
      "metadata": {
        "id": "Q0vgkfFvRz8V"
      }
    },
    {
      "cell_type": "code",
      "source": [
        "plt.figure(figsize=(10,6))\n",
        "\n",
        "sns.displot(data=churn_merge,\n",
        "            x='lastParticipationDate', bins=25,\n",
        "            height=6, aspect=1.4)\n",
        "\n",
        "plt.title(\"Distribuição da última data de participação\")\n",
        "plt.xlabel(\"Data\")\n",
        "plt.ylabel(\"Quantidade\")\n",
        "\n",
        "plt.show()"
      ],
      "metadata": {
        "colab": {
          "base_uri": "https://localhost:8080/",
          "height": 474
        },
        "id": "GdjOPsVWRxVg",
        "outputId": "230598f7-44af-4458-9260-ba5f905bee07"
      },
      "execution_count": 90,
      "outputs": [
        {
          "output_type": "display_data",
          "data": {
            "text/plain": [
              "<Figure size 720x432 with 0 Axes>"
            ]
          },
          "metadata": {}
        },
        {
          "output_type": "display_data",
          "data": {
            "text/plain": [
              "<Figure size 604.8x432 with 1 Axes>"
            ],
            "image/png": "[encoded data removed]"
          },
          "metadata": {
            "needs_background": "light"
          }
        }
      ]
    },
    {
      "cell_type": "markdown",
      "source": [
        "Remover os registros anteriores a Abril de 2016 para considerar histórico de 1 ano"
      ],
      "metadata": {
        "id": "q3Q068T2SOJ-"
      }
    },
    {
      "cell_type": "code",
      "source": [
        "churn_merge.shape"
      ],
      "metadata": {
        "colab": {
          "base_uri": "https://localhost:8080/"
        },
        "id": "T5wCbC-jSwuX",
        "outputId": "2321faac-287c-496d-bc6e-03b260552616"
      },
      "execution_count": 91,
      "outputs": [
        {
          "output_type": "execute_result",
          "data": {
            "text/plain": [
              "(4377, 25)"
            ]
          },
          "metadata": {},
          "execution_count": 91
        }
      ]
    },
    {
      "cell_type": "code",
      "source": [
        "churn_merge = churn_merge.loc[churn_merge['lastParticipationDate'] >= '2016-04-01']\n",
        "churn_merge.shape"
      ],
      "metadata": {
        "colab": {
          "base_uri": "https://localhost:8080/"
        },
        "id": "OB7JUOOpRWXY",
        "outputId": "2366056b-56ab-45d4-b205-2e7a0ec58e40"
      },
      "execution_count": 92,
      "outputs": [
        {
          "output_type": "execute_result",
          "data": {
            "text/plain": [
              "(4118, 25)"
            ]
          },
          "metadata": {},
          "execution_count": 92
        }
      ]
    },
    {
      "cell_type": "code",
      "source": [
        "plt.figure(figsize=(10,6))\n",
        "\n",
        "sns.displot(data=churn_merge,\n",
        "            x='lastParticipationDate', bins=12,\n",
        "            height=6, aspect=1.4)\n",
        "\n",
        "plt.title(\"Distribuição da última data de participação\")\n",
        "plt.xlabel(\"Data\")\n",
        "plt.ylabel(\"Quantidade\")\n",
        "\n",
        "plt.show()"
      ],
      "metadata": {
        "colab": {
          "base_uri": "https://localhost:8080/",
          "height": 474
        },
        "id": "s2TwRjq5S474",
        "outputId": "5f006880-c64d-49d0-dde6-a112202319f1"
      },
      "execution_count": 93,
      "outputs": [
        {
          "output_type": "display_data",
          "data": {
            "text/plain": [
              "<Figure size 720x432 with 0 Axes>"
            ]
          },
          "metadata": {}
        },
        {
          "output_type": "display_data",
          "data": {
            "text/plain": [
              "<Figure size 604.8x432 with 1 Axes>"
            ],
            "image/png": "[encoded data removed]"
          },
          "metadata": {
            "needs_background": "light"
          }
        }
      ]
    },
    {
      "cell_type": "markdown",
      "source": [
        "#### b) Análise dos nulos e como tratá-los\n",
        "\n",
        "Existem mais de 1300 valores nulos, que se referem a funcionários que não comentáram na plataforma:\n",
        "\n",
        "* **likes.mean**: substituir pela média geral para não impactar a feature\n",
        "* **likes.min**: substituir pela média geral para não impactar a feature\n",
        "* **likes.max**: substituir pela média geral para não impactar a feature\n",
        "* **dislikes.mean**: substituir pela média geral para não impactar a feature\n",
        "* **dislikes.min**: substituir pela média geral para não impactar a feature\n",
        "* **dislikes.max**: substituir pela média geral para não impactar a feature\n",
        "* **carac.mean**: substituir pela média geral para não impactar a feature\n",
        "* **carac.min**: substituir pela média geral para não impactar a feature\n",
        "* **carac.max**: substituir pela média geral para não impactar a feature\n",
        "* **diffDaysComment.min**: substituir pela mediana geral para não impactar a feature\n",
        "* **diffDaysComment.max**: substituir pela mediana geral para não impactar a feature\n",
        "* **diffDaysComment.median**: substituir pela mediana geral para não impactar a feature\n",
        "* **commentId.count**: substituir por 0\n"
      ],
      "metadata": {
        "id": "dStYH7OrTAFK"
      }
    },
    {
      "cell_type": "code",
      "source": [
        "churn_merge.info()"
      ],
      "metadata": {
        "colab": {
          "base_uri": "https://localhost:8080/"
        },
        "id": "cs5rSx8YTErW",
        "outputId": "d950c0f6-f7b5-4215-d1bb-f7f8413619cc"
      },
      "execution_count": 94,
      "outputs": [
        {
          "output_type": "stream",
          "name": "stdout",
          "text": [
            "<class 'pandas.core.frame.DataFrame'>\n",
            "Int64Index: 4118 entries, 7 to 4376\n",
            "Data columns (total 25 columns):\n",
            " #   Column                  Non-Null Count  Dtype         \n",
            "---  ------                  --------------  -----         \n",
            " 0   companyAlias            4118 non-null   object        \n",
            " 1   employee                4118 non-null   int64         \n",
            " 2   stillExists             4118 non-null   int64         \n",
            " 3   lastParticipationDate   4118 non-null   datetime64[ns]\n",
            " 4   vote.mean               4118 non-null   float64       \n",
            " 5   vote.mode               4118 non-null   int64         \n",
            " 6   vote.min                4118 non-null   int64         \n",
            " 7   vote.max                4118 non-null   int64         \n",
            " 8   vote.count              4118 non-null   int64         \n",
            " 9   diffDaysVote.min        4118 non-null   int64         \n",
            " 10  diffDaysVote.max        4118 non-null   int64         \n",
            " 11  diffDaysVote.median     4118 non-null   float64       \n",
            " 12  likes.mean              2776 non-null   float64       \n",
            " 13  likes.min               2776 non-null   float64       \n",
            " 14  likes.max               2776 non-null   float64       \n",
            " 15  dislikes.mean           2776 non-null   float64       \n",
            " 16  dislikes.min            2776 non-null   float64       \n",
            " 17  dislikes.max            2776 non-null   float64       \n",
            " 18  carac.mean              2776 non-null   float64       \n",
            " 19  carac.min               2776 non-null   float64       \n",
            " 20  carac.max               2776 non-null   float64       \n",
            " 21  diffDaysComment.min     2776 non-null   float64       \n",
            " 22  diffDaysComment.max     2776 non-null   float64       \n",
            " 23  diffDaysComment.median  2776 non-null   float64       \n",
            " 24  commentId.count         2776 non-null   float64       \n",
            "dtypes: datetime64[ns](1), float64(15), int64(8), object(1)\n",
            "memory usage: 965.5+ KB\n"
          ]
        }
      ]
    },
    {
      "cell_type": "code",
      "source": [
        "churn_merge.loc[churn_merge['likes.mean'].isna()].shape"
      ],
      "metadata": {
        "colab": {
          "base_uri": "https://localhost:8080/"
        },
        "id": "CBCA9w3ibRYZ",
        "outputId": "1ad618b0-0e88-4607-efdb-203e918f0f58"
      },
      "execution_count": 95,
      "outputs": [
        {
          "output_type": "execute_result",
          "data": {
            "text/plain": [
              "(1342, 25)"
            ]
          },
          "metadata": {},
          "execution_count": 95
        }
      ]
    },
    {
      "cell_type": "code",
      "source": [
        "churn_merge.describe().T"
      ],
      "metadata": {
        "colab": {
          "base_uri": "https://localhost:8080/",
          "height": 771
        },
        "id": "VQSxlyKFaJTA",
        "outputId": "2e696a1f-0098-4e73-ff4b-76f75168886a"
      },
      "execution_count": 96,
      "outputs": [
        {
          "output_type": "execute_result",
          "data": {
            "text/plain": [
              "                         count        mean         std   min        25%  \\\n",
              "employee                4118.0  191.079650  204.619376  1.00  51.000000   \n",
              "stillExists             4118.0    0.859641    0.347402  0.00   1.000000   \n",
              "vote.mean               4118.0    2.955089    0.638927  1.00   2.661076   \n",
              "vote.mode               4118.0    2.981302    0.834576  1.00   3.000000   \n",
              "vote.min                4118.0    1.894852    0.947168  1.00   1.000000   \n",
              "vote.max                4118.0    3.715639    0.533095  1.00   3.250000   \n",
              "vote.count              4118.0   52.481302   74.206072  1.00   6.000000   \n",
              "diffDaysVote.min        4118.0    0.004857    0.166332  0.00   0.000000   \n",
              "diffDaysVote.max        4118.0  147.064837  154.740693  0.00  21.000000   \n",
              "diffDaysVote.median     4118.0   79.198397   88.184382  0.00  10.500000   \n",
              "likes.mean              2776.0    6.631448    5.752398  0.00   2.284799   \n",
              "likes.min               2776.0    2.344741    4.232823  0.00   0.000000   \n",
              "likes.max               2776.0   14.630043   13.012053  0.00   5.000000   \n",
              "dislikes.mean           2776.0    1.169380    1.894613  0.00   0.000000   \n",
              "dislikes.min            2776.0    0.247118    1.380753  0.00   0.000000   \n",
              "dislikes.max            2776.0    4.383285    5.878291  0.00   0.000000   \n",
              "carac.mean              2776.0   89.613631   79.201449  0.75  39.250000   \n",
              "carac.min               2776.0   31.292147   46.581526  0.00   9.000000   \n",
              "carac.max               2776.0  252.243876  621.162323  1.00  66.000000   \n",
              "diffDaysComment.min     2776.0   40.425072   73.868811  0.00   0.000000   \n",
              "diffDaysComment.max     2776.0  155.752522  148.939914  0.00  32.000000   \n",
              "diffDaysComment.median  2776.0  108.869236  111.663318  0.00  21.000000   \n",
              "commentId.count         2776.0   13.798991   22.670820  1.00   2.000000   \n",
              "\n",
              "                               50%         75%      max  \n",
              "employee                130.000000  241.000000    999.0  \n",
              "stillExists               1.000000    1.000000      1.0  \n",
              "vote.mean                 3.000000    3.333333      4.0  \n",
              "vote.mode                 3.000000    4.000000      4.0  \n",
              "vote.min                  2.000000    3.000000      4.0  \n",
              "vote.max                  4.000000    4.000000      4.0  \n",
              "vote.count               21.000000   70.000000    740.0  \n",
              "diffDaysVote.min          0.000000    0.000000      7.0  \n",
              "diffDaysVote.max        113.000000  221.750000    770.0  \n",
              "diffDaysVote.median      57.500000  118.500000    708.5  \n",
              "likes.mean                5.000000    9.500000     46.0  \n",
              "likes.min                 1.000000    3.000000     46.0  \n",
              "likes.max                11.000000   21.000000     86.0  \n",
              "dislikes.mean             0.583333    1.540210     33.0  \n",
              "dislikes.min              0.000000    0.000000     33.0  \n",
              "dislikes.max              2.000000    6.000000     53.0  \n",
              "carac.mean               67.633779  112.261029    880.5  \n",
              "carac.min                17.000000   35.000000    672.0  \n",
              "carac.max               144.000000  306.000000  29057.0  \n",
              "diffDaysComment.min       9.000000   47.000000    751.0  \n",
              "diffDaysComment.max     129.000000  237.000000    770.0  \n",
              "diffDaysComment.median   84.500000  157.000000    751.0  \n",
              "commentId.count           6.000000   16.000000    334.0  "
            ],
            "text/html": [
              "\n",
              "  <div id=\"df-219dd29e-5e95-49be-8dff-c50264349fe5\">\n",
              "    <div class=\"colab-df-container\">\n",
              "      <div>\n",
              "<style scoped>\n",
              "    .dataframe tbody tr th:only-of-type {\n",
              "        vertical-align: middle;\n",
              "    }\n",
              "\n",
              "    .dataframe tbody tr th {\n",
              "        vertical-align: top;\n",
              "    }\n",
              "\n",
              "    .dataframe thead th {\n",
              "        text-align: right;\n",
              "    }\n",
              "</style>\n",
              "<table border=\"1\" class=\"dataframe\">\n",
              "  <thead>\n",
              "    <tr style=\"text-align: right;\">\n",
              "      <th></th>\n",
              "      <th>count</th>\n",
              "      <th>mean</th>\n",
              "      <th>std</th>\n",
              "      <th>min</th>\n",
              "      <th>25%</th>\n",
              "      <th>50%</th>\n",
              "      <th>75%</th>\n",
              "      <th>max</th>\n",
              "    </tr>\n",
              "  </thead>\n",
              "  <tbody>\n",
              "    <tr>\n",
              "      <th>employee</th>\n",
              "      <td>4118.0</td>\n",
              "      <td>191.079650</td>\n",
              "      <td>204.619376</td>\n",
              "      <td>1.00</td>\n",
              "      <td>51.000000</td>\n",
              "      <td>130.000000</td>\n",
              "      <td>241.000000</td>\n",
              "      <td>999.0</td>\n",
              "    </tr>\n",
              "    <tr>\n",
              "      <th>stillExists</th>\n",
              "      <td>4118.0</td>\n",
              "      <td>0.859641</td>\n",
              "      <td>0.347402</td>\n",
              "      <td>0.00</td>\n",
              "      <td>1.000000</td>\n",
              "      <td>1.000000</td>\n",
              "      <td>1.000000</td>\n",
              "      <td>1.0</td>\n",
              "    </tr>\n",
              "    <tr>\n",
              "      <th>vote.mean</th>\n",
              "      <td>4118.0</td>\n",
              "      <td>2.955089</td>\n",
              "      <td>0.638927</td>\n",
              "      <td>1.00</td>\n",
              "      <td>2.661076</td>\n",
              "      <td>3.000000</td>\n",
              "      <td>3.333333</td>\n",
              "      <td>4.0</td>\n",
              "    </tr>\n",
              "    <tr>\n",
              "      <th>vote.mode</th>\n",
              "      <td>4118.0</td>\n",
              "      <td>2.981302</td>\n",
              "      <td>0.834576</td>\n",
              "      <td>1.00</td>\n",
              "      <td>3.000000</td>\n",
              "      <td>3.000000</td>\n",
              "      <td>4.000000</td>\n",
              "      <td>4.0</td>\n",
              "    </tr>\n",
              "    <tr>\n",
              "      <th>vote.min</th>\n",
              "      <td>4118.0</td>\n",
              "      <td>1.894852</td>\n",
              "      <td>0.947168</td>\n",
              "      <td>1.00</td>\n",
              "      <td>1.000000</td>\n",
              "      <td>2.000000</td>\n",
              "      <td>3.000000</td>\n",
              "      <td>4.0</td>\n",
              "    </tr>\n",
              "    <tr>\n",
              "      <th>vote.max</th>\n",
              "      <td>4118.0</td>\n",
              "      <td>3.715639</td>\n",
              "      <td>0.533095</td>\n",
              "      <td>1.00</td>\n",
              "      <td>3.250000</td>\n",
              "      <td>4.000000</td>\n",
              "      <td>4.000000</td>\n",
              "      <td>4.0</td>\n",
              "    </tr>\n",
              "    <tr>\n",
              "      <th>vote.count</th>\n",
              "      <td>4118.0</td>\n",
              "      <td>52.481302</td>\n",
              "      <td>74.206072</td>\n",
              "      <td>1.00</td>\n",
              "      <td>6.000000</td>\n",
              "      <td>21.000000</td>\n",
              "      <td>70.000000</td>\n",
              "      <td>740.0</td>\n",
              "    </tr>\n",
              "    <tr>\n",
              "      <th>diffDaysVote.min</th>\n",
              "      <td>4118.0</td>\n",
              "      <td>0.004857</td>\n",
              "      <td>0.166332</td>\n",
              "      <td>0.00</td>\n",
              "      <td>0.000000</td>\n",
              "      <td>0.000000</td>\n",
              "      <td>0.000000</td>\n",
              "      <td>7.0</td>\n",
              "    </tr>\n",
              "    <tr>\n",
              "      <th>diffDaysVote.max</th>\n",
              "      <td>4118.0</td>\n",
              "      <td>147.064837</td>\n",
              "      <td>154.740693</td>\n",
              "      <td>0.00</td>\n",
              "      <td>21.000000</td>\n",
              "      <td>113.000000</td>\n",
              "      <td>221.750000</td>\n",
              "      <td>770.0</td>\n",
              "    </tr>\n",
              "    <tr>\n",
              "      <th>diffDaysVote.median</th>\n",
              "      <td>4118.0</td>\n",
              "      <td>79.198397</td>\n",
              "      <td>88.184382</td>\n",
              "      <td>0.00</td>\n",
              "      <td>10.500000</td>\n",
              "      <td>57.500000</td>\n",
              "      <td>118.500000</td>\n",
              "      <td>708.5</td>\n",
              "    </tr>\n",
              "    <tr>\n",
              "      <th>likes.mean</th>\n",
              "      <td>2776.0</td>\n",
              "      <td>6.631448</td>\n",
              "      <td>5.752398</td>\n",
              "      <td>0.00</td>\n",
              "      <td>2.284799</td>\n",
              "      <td>5.000000</td>\n",
              "      <td>9.500000</td>\n",
              "      <td>46.0</td>\n",
              "    </tr>\n",
              "    <tr>\n",
              "      <th>likes.min</th>\n",
              "      <td>2776.0</td>\n",
              "      <td>2.344741</td>\n",
              "      <td>4.232823</td>\n",
              "      <td>0.00</td>\n",
              "      <td>0.000000</td>\n",
              "      <td>1.000000</td>\n",
              "      <td>3.000000</td>\n",
              "      <td>46.0</td>\n",
              "    </tr>\n",
              "    <tr>\n",
              "      <th>likes.max</th>\n",
              "      <td>2776.0</td>\n",
              "      <td>14.630043</td>\n",
              "      <td>13.012053</td>\n",
              "      <td>0.00</td>\n",
              "      <td>5.000000</td>\n",
              "      <td>11.000000</td>\n",
              "      <td>21.000000</td>\n",
              "      <td>86.0</td>\n",
              "    </tr>\n",
              "    <tr>\n",
              "      <th>dislikes.mean</th>\n",
              "      <td>2776.0</td>\n",
              "      <td>1.169380</td>\n",
              "      <td>1.894613</td>\n",
              "      <td>0.00</td>\n",
              "      <td>0.000000</td>\n",
              "      <td>0.583333</td>\n",
              "      <td>1.540210</td>\n",
              "      <td>33.0</td>\n",
              "    </tr>\n",
              "    <tr>\n",
              "      <th>dislikes.min</th>\n",
              "      <td>2776.0</td>\n",
              "      <td>0.247118</td>\n",
              "      <td>1.380753</td>\n",
              "      <td>0.00</td>\n",
              "      <td>0.000000</td>\n",
              "      <td>0.000000</td>\n",
              "      <td>0.000000</td>\n",
              "      <td>33.0</td>\n",
              "    </tr>\n",
              "    <tr>\n",
              "      <th>dislikes.max</th>\n",
              "      <td>2776.0</td>\n",
              "      <td>4.383285</td>\n",
              "      <td>5.878291</td>\n",
              "      <td>0.00</td>\n",
              "      <td>0.000000</td>\n",
              "      <td>2.000000</td>\n",
              "      <td>6.000000</td>\n",
              "      <td>53.0</td>\n",
              "    </tr>\n",
              "    <tr>\n",
              "      <th>carac.mean</th>\n",
              "      <td>2776.0</td>\n",
              "      <td>89.613631</td>\n",
              "      <td>79.201449</td>\n",
              "      <td>0.75</td>\n",
              "      <td>39.250000</td>\n",
              "      <td>67.633779</td>\n",
              "      <td>112.261029</td>\n",
              "      <td>880.5</td>\n",
              "    </tr>\n",
              "    <tr>\n",
              "      <th>carac.min</th>\n",
              "      <td>2776.0</td>\n",
              "      <td>31.292147</td>\n",
              "      <td>46.581526</td>\n",
              "      <td>0.00</td>\n",
              "      <td>9.000000</td>\n",
              "      <td>17.000000</td>\n",
              "      <td>35.000000</td>\n",
              "      <td>672.0</td>\n",
              "    </tr>\n",
              "    <tr>\n",
              "      <th>carac.max</th>\n",
              "      <td>2776.0</td>\n",
              "      <td>252.243876</td>\n",
              "      <td>621.162323</td>\n",
              "      <td>1.00</td>\n",
              "      <td>66.000000</td>\n",
              "      <td>144.000000</td>\n",
              "      <td>306.000000</td>\n",
              "      <td>29057.0</td>\n",
              "    </tr>\n",
              "    <tr>\n",
              "      <th>diffDaysComment.min</th>\n",
              "      <td>2776.0</td>\n",
              "      <td>40.425072</td>\n",
              "      <td>73.868811</td>\n",
              "      <td>0.00</td>\n",
              "      <td>0.000000</td>\n",
              "      <td>9.000000</td>\n",
              "      <td>47.000000</td>\n",
              "      <td>751.0</td>\n",
              "    </tr>\n",
              "    <tr>\n",
              "      <th>diffDaysComment.max</th>\n",
              "      <td>2776.0</td>\n",
              "      <td>155.752522</td>\n",
              "      <td>148.939914</td>\n",
              "      <td>0.00</td>\n",
              "      <td>32.000000</td>\n",
              "      <td>129.000000</td>\n",
              "      <td>237.000000</td>\n",
              "      <td>770.0</td>\n",
              "    </tr>\n",
              "    <tr>\n",
              "      <th>diffDaysComment.median</th>\n",
              "      <td>2776.0</td>\n",
              "      <td>108.869236</td>\n",
              "      <td>111.663318</td>\n",
              "      <td>0.00</td>\n",
              "      <td>21.000000</td>\n",
              "      <td>84.500000</td>\n",
              "      <td>157.000000</td>\n",
              "      <td>751.0</td>\n",
              "    </tr>\n",
              "    <tr>\n",
              "      <th>commentId.count</th>\n",
              "      <td>2776.0</td>\n",
              "      <td>13.798991</td>\n",
              "      <td>22.670820</td>\n",
              "      <td>1.00</td>\n",
              "      <td>2.000000</td>\n",
              "      <td>6.000000</td>\n",
              "      <td>16.000000</td>\n",
              "      <td>334.0</td>\n",
              "    </tr>\n",
              "  </tbody>\n",
              "</table>\n",
              "</div>\n",
              "      <button class=\"colab-df-convert\" onclick=\"convertToInteractive('df-219dd29e-5e95-49be-8dff-c50264349fe5')\"\n",
              "              title=\"Convert this dataframe to an interactive table.\"\n",
              "              style=\"display:none;\">\n",
              "        \n",
              "  <svg xmlns=\"http://www.w3.org/2000/svg\" height=\"24px\"viewBox=\"0 0 24 24\"\n",
              "       width=\"24px\">\n",
              "    <path d=\"M0 0h24v24H0V0z\" fill=\"none\"/>\n",
              "    <path d=\"M18.56 5.44l.94 2.06.94-2.06 2.06-.94-2.06-.94-.94-2.06-.94 2.06-2.06.94zm-11 1L8.5 8.5l.94-2.06 2.06-.94-2.06-.94L8.5 2.5l-.94 2.06-2.06.94zm10 10l.94 2.06.94-2.06 2.06-.94-2.06-.94-.94-2.06-.94 2.06-2.06.94z\"/><path d=\"M17.41 7.96l-1.37-1.37c-.4-.4-.92-.59-1.43-.59-.52 0-1.04.2-1.43.59L10.3 9.45l-7.72 7.72c-.78.78-.78 2.05 0 2.83L4 21.41c.39.39.9.59 1.41.59.51 0 1.02-.2 1.41-.59l7.78-7.78 2.81-2.81c.8-.78.8-2.07 0-2.86zM5.41 20L4 18.59l7.72-7.72 1.47 1.35L5.41 20z\"/>\n",
              "  </svg>\n",
              "      </button>\n",
              "      \n",
              "  <style>\n",
              "    .colab-df-container {\n",
              "      display:flex;\n",
              "      flex-wrap:wrap;\n",
              "      gap: 12px;\n",
              "    }\n",
              "\n",
              "    .colab-df-convert {\n",
              "      background-color: #E8F0FE;\n",
              "      border: none;\n",
              "      border-radius: 50%;\n",
              "      cursor: pointer;\n",
              "      display: none;\n",
              "      fill: #1967D2;\n",
              "      height: 32px;\n",
              "      padding: 0 0 0 0;\n",
              "      width: 32px;\n",
              "    }\n",
              "\n",
              "    .colab-df-convert:hover {\n",
              "      background-color: #E2EBFA;\n",
              "      box-shadow: 0px 1px 2px rgba(60, 64, 67, 0.3), 0px 1px 3px 1px rgba(60, 64, 67, 0.15);\n",
              "      fill: #174EA6;\n",
              "    }\n",
              "\n",
              "    [theme=dark] .colab-df-convert {\n",
              "      background-color: #3B4455;\n",
              "      fill: #D2E3FC;\n",
              "    }\n",
              "\n",
              "    [theme=dark] .colab-df-convert:hover {\n",
              "      background-color: #434B5C;\n",
              "      box-shadow: 0px 1px 3px 1px rgba(0, 0, 0, 0.15);\n",
              "      filter: drop-shadow(0px 1px 2px rgba(0, 0, 0, 0.3));\n",
              "      fill: #FFFFFF;\n",
              "    }\n",
              "  </style>\n",
              "\n",
              "      <script>\n",
              "        const buttonEl =\n",
              "          document.querySelector('#df-219dd29e-5e95-49be-8dff-c50264349fe5 button.colab-df-convert');\n",
              "        buttonEl.style.display =\n",
              "          google.colab.kernel.accessAllowed ? 'block' : 'none';\n",
              "\n",
              "        async function convertToInteractive(key) {\n",
              "          const element = document.querySelector('#df-219dd29e-5e95-49be-8dff-c50264349fe5');\n",
              "          const dataTable =\n",
              "            await google.colab.kernel.invokeFunction('convertToInteractive',\n",
              "                                                     [key], {});\n",
              "          if (!dataTable) return;\n",
              "\n",
              "          const docLinkHtml = 'Like what you see? Visit the ' +\n",
              "            '<a target=\"_blank\" href=https://colab.research.google.com/notebooks/data_table.ipynb>data table notebook</a>'\n",
              "            + ' to learn more about interactive tables.';\n",
              "          element.innerHTML = '';\n",
              "          dataTable['output_type'] = 'display_data';\n",
              "          await google.colab.output.renderOutput(dataTable, element);\n",
              "          const docLink = document.createElement('div');\n",
              "          docLink.innerHTML = docLinkHtml;\n",
              "          element.appendChild(docLink);\n",
              "        }\n",
              "      </script>\n",
              "    </div>\n",
              "  </div>\n",
              "  "
            ]
          },
          "metadata": {},
          "execution_count": 96
        }
      ]
    },
    {
      "cell_type": "code",
      "source": [
        "mean_cols = ['likes.mean', 'likes.min', 'likes.max', \n",
        "             'dislikes.mean', 'dislikes.min', 'dislikes.max', \n",
        "             'carac.mean', 'carac.min', 'carac.max']\n",
        "median_cols = ['diffDaysComment.min',\n",
        "               'diffDaysComment.max',\n",
        "               'diffDaysComment.median']\n",
        "zero_cols = ['commentId.count']"
      ],
      "metadata": {
        "id": "4Vjv3t5HX4Qw"
      },
      "execution_count": 97,
      "outputs": []
    },
    {
      "cell_type": "code",
      "source": [
        "for col in mean_cols:\n",
        "  mean = churn_merge[col].mean()\n",
        "  churn_merge.loc[churn_merge[col].isna(), col] = mean\n",
        "  print(f\"{col}: substituindo os nulos por {mean}\")"
      ],
      "metadata": {
        "colab": {
          "base_uri": "https://localhost:8080/"
        },
        "id": "NsSJjqJ_Y-R8",
        "outputId": "7e3e26b1-4aa4-4019-d2c0-41ef22c52055"
      },
      "execution_count": 98,
      "outputs": [
        {
          "output_type": "stream",
          "name": "stdout",
          "text": [
            "likes.mean: substituindo os nulos por 6.631448203475065\n",
            "likes.min: substituindo os nulos por 2.3447406340057637\n",
            "likes.max: substituindo os nulos por 14.630043227665706\n",
            "dislikes.mean: substituindo os nulos por 1.1693803788772703\n",
            "dislikes.min: substituindo os nulos por 0.24711815561959655\n",
            "dislikes.max: substituindo os nulos por 4.38328530259366\n",
            "carac.mean: substituindo os nulos por 89.61363089002553\n",
            "carac.min: substituindo os nulos por 31.2921469740634\n",
            "carac.max: substituindo os nulos por 252.24387608069165\n"
          ]
        }
      ]
    },
    {
      "cell_type": "code",
      "source": [
        "for col in median_cols:\n",
        "  median = churn_merge[col].median()\n",
        "  churn_merge.loc[churn_merge[col].isna(), col] = median\n",
        "  print(f\"{col}: substituindo os nulos por {median}\")"
      ],
      "metadata": {
        "colab": {
          "base_uri": "https://localhost:8080/"
        },
        "id": "Sfa9xjhFZvPR",
        "outputId": "006c6d0b-2b3b-4df9-ccbc-cb0f351703fd"
      },
      "execution_count": 99,
      "outputs": [
        {
          "output_type": "stream",
          "name": "stdout",
          "text": [
            "diffDaysComment.min: substituindo os nulos por 9.0\n",
            "diffDaysComment.max: substituindo os nulos por 129.0\n",
            "diffDaysComment.median: substituindo os nulos por 84.5\n"
          ]
        }
      ]
    },
    {
      "cell_type": "code",
      "source": [
        "for col in zero_cols:\n",
        "  churn_merge.loc[churn_merge[col].isna(), col] = 0\n",
        "  print(f\"{col}: substituindo os nulos por 0\")"
      ],
      "metadata": {
        "colab": {
          "base_uri": "https://localhost:8080/"
        },
        "id": "N0gPQYXIZ4J0",
        "outputId": "605536e9-e0bb-4e39-d65a-de7230556614"
      },
      "execution_count": 100,
      "outputs": [
        {
          "output_type": "stream",
          "name": "stdout",
          "text": [
            "commentId.count: substituindo os nulos por 0\n"
          ]
        }
      ]
    },
    {
      "cell_type": "code",
      "source": [
        "churn_merge.loc[churn_merge['likes.mean'].isna()].shape"
      ],
      "metadata": {
        "colab": {
          "base_uri": "https://localhost:8080/"
        },
        "id": "fKBM2nGzaEqM",
        "outputId": "70329a9b-42d2-4dd4-d905-7f9620d05c99"
      },
      "execution_count": 101,
      "outputs": [
        {
          "output_type": "execute_result",
          "data": {
            "text/plain": [
              "(0, 25)"
            ]
          },
          "metadata": {},
          "execution_count": 101
        }
      ]
    },
    {
      "cell_type": "markdown",
      "source": [
        "#### c) Tratamento de outliers\n",
        "\n",
        "Visualizar os percentis: 1%, 10%, 25%, 50%, 75%, 90% e 99%"
      ],
      "metadata": {
        "id": "jntgaZQFcDUs"
      }
    },
    {
      "cell_type": "markdown",
      "source": [
        "Identificar as features com grande diferença entre o percentil 99% e max de acordo com o desvio padrão\n"
      ],
      "metadata": {
        "id": "-ZW7Ju5PczP2"
      }
    },
    {
      "cell_type": "code",
      "source": [
        "outliers = churn_merge.describe(percentiles=[0.01,\n",
        "                                  0.1,\n",
        "                                  0.25,\n",
        "                                  0.5,\n",
        "                                  0.75,\n",
        "                                  0.9,\n",
        "                                  0.99]\n",
        "                     ).T\n",
        "outliers                    "
      ],
      "metadata": {
        "colab": {
          "base_uri": "https://localhost:8080/",
          "height": 815
        },
        "id": "ft-Y_WXOcWSn",
        "outputId": "d91dae58-33cc-4efd-c581-8ecbcf84b05b"
      },
      "execution_count": 102,
      "outputs": [
        {
          "output_type": "execute_result",
          "data": {
            "text/plain": [
              "                         count        mean         std   min        1%  \\\n",
              "employee                4118.0  191.079650  204.619376  1.00  2.170000   \n",
              "stillExists             4118.0    0.859641    0.347402  0.00  0.000000   \n",
              "vote.mean               4118.0    2.955089    0.638927  1.00  1.084565   \n",
              "vote.mode               4118.0    2.981302    0.834576  1.00  1.000000   \n",
              "vote.min                4118.0    1.894852    0.947168  1.00  1.000000   \n",
              "vote.max                4118.0    3.715639    0.533095  1.00  2.000000   \n",
              "vote.count              4118.0   52.481302   74.206072  1.00  1.000000   \n",
              "diffDaysVote.min        4118.0    0.004857    0.166332  0.00  0.000000   \n",
              "diffDaysVote.max        4118.0  147.064837  154.740693  0.00  0.000000   \n",
              "diffDaysVote.median     4118.0   79.198397   88.184382  0.00  0.000000   \n",
              "likes.mean              4118.0    6.631448    4.722696  0.00  0.000000   \n",
              "likes.min               4118.0    2.344741    3.475131  0.00  0.000000   \n",
              "likes.max               4118.0   14.630043   10.682844  0.00  0.000000   \n",
              "dislikes.mean           4118.0    1.169380    1.555470  0.00  0.000000   \n",
              "dislikes.min            4118.0    0.247118    1.133593  0.00  0.000000   \n",
              "dislikes.max            4118.0    4.383285    4.826053  0.00  0.000000   \n",
              "carac.mean              4118.0   89.613631   65.024076  0.75  6.085000   \n",
              "carac.min               4118.0   31.292147   38.243248  0.00  1.000000   \n",
              "carac.max               4118.0  252.243876  509.971805  1.00  7.000000   \n",
              "diffDaysComment.min     4118.0   30.184070   62.409424  0.00  0.000000   \n",
              "diffDaysComment.max     4118.0  147.034240  122.920458  0.00  0.000000   \n",
              "diffDaysComment.median  4118.0  100.927635   92.384116  0.00  0.000000   \n",
              "commentId.count         4118.0    9.302088   19.704609  0.00  0.000000   \n",
              "\n",
              "                              10%        25%         50%         75%  \\\n",
              "employee                19.000000  51.000000  130.000000  241.000000   \n",
              "stillExists              0.000000   1.000000    1.000000    1.000000   \n",
              "vote.mean                2.045602   2.661076    3.000000    3.333333   \n",
              "vote.mode                2.000000   3.000000    3.000000    4.000000   \n",
              "vote.min                 1.000000   1.000000    2.000000    3.000000   \n",
              "vote.max                 3.000000   3.250000    4.000000    4.000000   \n",
              "vote.count               2.000000   6.000000   21.000000   70.000000   \n",
              "diffDaysVote.min         0.000000   0.000000    0.000000    0.000000   \n",
              "diffDaysVote.max         1.000000  21.000000  113.000000  221.750000   \n",
              "diffDaysVote.median      0.500000  10.500000   57.500000  118.500000   \n",
              "likes.mean               1.284000   3.640734    6.631448    7.000000   \n",
              "likes.min                0.000000   0.000000    2.344741    2.344741   \n",
              "likes.max                2.000000   7.000000   14.630043   15.750000   \n",
              "dislikes.mean            0.000000   0.285714    1.169380    1.169380   \n",
              "dislikes.min             0.000000   0.000000    0.000000    0.247118   \n",
              "dislikes.max             0.000000   1.000000    4.383285    4.383285   \n",
              "carac.mean              28.727619  51.574405   89.613631   89.613631   \n",
              "carac.min                6.000000  12.000000   31.292147   31.292147   \n",
              "carac.max               42.000000  98.000000  252.243876  252.243876   \n",
              "diffDaysComment.min      0.000000   2.000000    9.000000   22.000000   \n",
              "diffDaysComment.max     14.000000  80.000000  129.000000  171.000000   \n",
              "diffDaysComment.median   8.500000  49.000000   84.500000  120.000000   \n",
              "commentId.count          0.000000   0.000000    2.000000    9.000000   \n",
              "\n",
              "                               90%          99%      max  \n",
              "employee                464.000000   921.830000    999.0  \n",
              "stillExists               1.000000     1.000000      1.0  \n",
              "vote.mean                 3.832517     4.000000      4.0  \n",
              "vote.mode                 4.000000     4.000000      4.0  \n",
              "vote.min                  3.000000     4.000000      4.0  \n",
              "vote.max                  4.000000     4.000000      4.0  \n",
              "vote.count              148.300000   320.830000    740.0  \n",
              "diffDaysVote.min          0.000000     0.000000      7.0  \n",
              "diffDaysVote.max        317.000000   750.830000    770.0  \n",
              "diffDaysVote.median     175.000000   435.660000    708.5  \n",
              "likes.mean               12.500000    23.000000     46.0  \n",
              "likes.min                 5.000000    18.000000     46.0  \n",
              "likes.max                28.000000    52.000000     86.0  \n",
              "dislikes.mean             2.256818     7.000000     33.0  \n",
              "dislikes.min              0.247118     4.000000     33.0  \n",
              "dislikes.max              9.000000    24.000000     53.0  \n",
              "carac.mean              148.737500   358.603333    880.5  \n",
              "carac.min                54.000000   198.810000    672.0  \n",
              "carac.max               448.300000  1251.620000  29057.0  \n",
              "diffDaysComment.min      89.300000   292.490000    751.0  \n",
              "diffDaysComment.max     283.000000   691.490000    770.0  \n",
              "diffDaysComment.median  210.650000   515.660000    751.0  \n",
              "commentId.count          26.000000    88.830000    334.0  "
            ],
            "text/html": [
              "\n",
              "  <div id=\"df-fe3ae162-e75f-4cb6-b9c2-878121a6e078\">\n",
              "    <div class=\"colab-df-container\">\n",
              "      <div>\n",
              "<style scoped>\n",
              "    .dataframe tbody tr th:only-of-type {\n",
              "        vertical-align: middle;\n",
              "    }\n",
              "\n",
              "    .dataframe tbody tr th {\n",
              "        vertical-align: top;\n",
              "    }\n",
              "\n",
              "    .dataframe thead th {\n",
              "        text-align: right;\n",
              "    }\n",
              "</style>\n",
              "<table border=\"1\" class=\"dataframe\">\n",
              "  <thead>\n",
              "    <tr style=\"text-align: right;\">\n",
              "      <th></th>\n",
              "      <th>count</th>\n",
              "      <th>mean</th>\n",
              "      <th>std</th>\n",
              "      <th>min</th>\n",
              "      <th>1%</th>\n",
              "      <th>10%</th>\n",
              "      <th>25%</th>\n",
              "      <th>50%</th>\n",
              "      <th>75%</th>\n",
              "      <th>90%</th>\n",
              "      <th>99%</th>\n",
              "      <th>max</th>\n",
              "    </tr>\n",
              "  </thead>\n",
              "  <tbody>\n",
              "    <tr>\n",
              "      <th>employee</th>\n",
              "      <td>4118.0</td>\n",
              "      <td>191.079650</td>\n",
              "      <td>204.619376</td>\n",
              "      <td>1.00</td>\n",
              "      <td>2.170000</td>\n",
              "      <td>19.000000</td>\n",
              "      <td>51.000000</td>\n",
              "      <td>130.000000</td>\n",
              "      <td>241.000000</td>\n",
              "      <td>464.000000</td>\n",
              "      <td>921.830000</td>\n",
              "      <td>999.0</td>\n",
              "    </tr>\n",
              "    <tr>\n",
              "      <th>stillExists</th>\n",
              "      <td>4118.0</td>\n",
              "      <td>0.859641</td>\n",
              "      <td>0.347402</td>\n",
              "      <td>0.00</td>\n",
              "      <td>0.000000</td>\n",
              "      <td>0.000000</td>\n",
              "      <td>1.000000</td>\n",
              "      <td>1.000000</td>\n",
              "      <td>1.000000</td>\n",
              "      <td>1.000000</td>\n",
              "      <td>1.000000</td>\n",
              "      <td>1.0</td>\n",
              "    </tr>\n",
              "    <tr>\n",
              "      <th>vote.mean</th>\n",
              "      <td>4118.0</td>\n",
              "      <td>2.955089</td>\n",
              "      <td>0.638927</td>\n",
              "      <td>1.00</td>\n",
              "      <td>1.084565</td>\n",
              "      <td>2.045602</td>\n",
              "      <td>2.661076</td>\n",
              "      <td>3.000000</td>\n",
              "      <td>3.333333</td>\n",
              "      <td>3.832517</td>\n",
              "      <td>4.000000</td>\n",
              "      <td>4.0</td>\n",
              "    </tr>\n",
              "    <tr>\n",
              "      <th>vote.mode</th>\n",
              "      <td>4118.0</td>\n",
              "      <td>2.981302</td>\n",
              "      <td>0.834576</td>\n",
              "      <td>1.00</td>\n",
              "      <td>1.000000</td>\n",
              "      <td>2.000000</td>\n",
              "      <td>3.000000</td>\n",
              "      <td>3.000000</td>\n",
              "      <td>4.000000</td>\n",
              "      <td>4.000000</td>\n",
              "      <td>4.000000</td>\n",
              "      <td>4.0</td>\n",
              "    </tr>\n",
              "    <tr>\n",
              "      <th>vote.min</th>\n",
              "      <td>4118.0</td>\n",
              "      <td>1.894852</td>\n",
              "      <td>0.947168</td>\n",
              "      <td>1.00</td>\n",
              "      <td>1.000000</td>\n",
              "      <td>1.000000</td>\n",
              "      <td>1.000000</td>\n",
              "      <td>2.000000</td>\n",
              "      <td>3.000000</td>\n",
              "      <td>3.000000</td>\n",
              "      <td>4.000000</td>\n",
              "      <td>4.0</td>\n",
              "    </tr>\n",
              "    <tr>\n",
              "      <th>vote.max</th>\n",
              "      <td>4118.0</td>\n",
              "      <td>3.715639</td>\n",
              "      <td>0.533095</td>\n",
              "      <td>1.00</td>\n",
              "      <td>2.000000</td>\n",
              "      <td>3.000000</td>\n",
              "      <td>3.250000</td>\n",
              "      <td>4.000000</td>\n",
              "      <td>4.000000</td>\n",
              "      <td>4.000000</td>\n",
              "      <td>4.000000</td>\n",
              "      <td>4.0</td>\n",
              "    </tr>\n",
              "    <tr>\n",
              "      <th>vote.count</th>\n",
              "      <td>4118.0</td>\n",
              "      <td>52.481302</td>\n",
              "      <td>74.206072</td>\n",
              "      <td>1.00</td>\n",
              "      <td>1.000000</td>\n",
              "      <td>2.000000</td>\n",
              "      <td>6.000000</td>\n",
              "      <td>21.000000</td>\n",
              "      <td>70.000000</td>\n",
              "      <td>148.300000</td>\n",
              "      <td>320.830000</td>\n",
              "      <td>740.0</td>\n",
              "    </tr>\n",
              "    <tr>\n",
              "      <th>diffDaysVote.min</th>\n",
              "      <td>4118.0</td>\n",
              "      <td>0.004857</td>\n",
              "      <td>0.166332</td>\n",
              "      <td>0.00</td>\n",
              "      <td>0.000000</td>\n",
              "      <td>0.000000</td>\n",
              "      <td>0.000000</td>\n",
              "      <td>0.000000</td>\n",
              "      <td>0.000000</td>\n",
              "      <td>0.000000</td>\n",
              "      <td>0.000000</td>\n",
              "      <td>7.0</td>\n",
              "    </tr>\n",
              "    <tr>\n",
              "      <th>diffDaysVote.max</th>\n",
              "      <td>4118.0</td>\n",
              "      <td>147.064837</td>\n",
              "      <td>154.740693</td>\n",
              "      <td>0.00</td>\n",
              "      <td>0.000000</td>\n",
              "      <td>1.000000</td>\n",
              "      <td>21.000000</td>\n",
              "      <td>113.000000</td>\n",
              "      <td>221.750000</td>\n",
              "      <td>317.000000</td>\n",
              "      <td>750.830000</td>\n",
              "      <td>770.0</td>\n",
              "    </tr>\n",
              "    <tr>\n",
              "      <th>diffDaysVote.median</th>\n",
              "      <td>4118.0</td>\n",
              "      <td>79.198397</td>\n",
              "      <td>88.184382</td>\n",
              "      <td>0.00</td>\n",
              "      <td>0.000000</td>\n",
              "      <td>0.500000</td>\n",
              "      <td>10.500000</td>\n",
              "      <td>57.500000</td>\n",
              "      <td>118.500000</td>\n",
              "      <td>175.000000</td>\n",
              "      <td>435.660000</td>\n",
              "      <td>708.5</td>\n",
              "    </tr>\n",
              "    <tr>\n",
              "      <th>likes.mean</th>\n",
              "      <td>4118.0</td>\n",
              "      <td>6.631448</td>\n",
              "      <td>4.722696</td>\n",
              "      <td>0.00</td>\n",
              "      <td>0.000000</td>\n",
              "      <td>1.284000</td>\n",
              "      <td>3.640734</td>\n",
              "      <td>6.631448</td>\n",
              "      <td>7.000000</td>\n",
              "      <td>12.500000</td>\n",
              "      <td>23.000000</td>\n",
              "      <td>46.0</td>\n",
              "    </tr>\n",
              "    <tr>\n",
              "      <th>likes.min</th>\n",
              "      <td>4118.0</td>\n",
              "      <td>2.344741</td>\n",
              "      <td>3.475131</td>\n",
              "      <td>0.00</td>\n",
              "      <td>0.000000</td>\n",
              "      <td>0.000000</td>\n",
              "      <td>0.000000</td>\n",
              "      <td>2.344741</td>\n",
              "      <td>2.344741</td>\n",
              "      <td>5.000000</td>\n",
              "      <td>18.000000</td>\n",
              "      <td>46.0</td>\n",
              "    </tr>\n",
              "    <tr>\n",
              "      <th>likes.max</th>\n",
              "      <td>4118.0</td>\n",
              "      <td>14.630043</td>\n",
              "      <td>10.682844</td>\n",
              "      <td>0.00</td>\n",
              "      <td>0.000000</td>\n",
              "      <td>2.000000</td>\n",
              "      <td>7.000000</td>\n",
              "      <td>14.630043</td>\n",
              "      <td>15.750000</td>\n",
              "      <td>28.000000</td>\n",
              "      <td>52.000000</td>\n",
              "      <td>86.0</td>\n",
              "    </tr>\n",
              "    <tr>\n",
              "      <th>dislikes.mean</th>\n",
              "      <td>4118.0</td>\n",
              "      <td>1.169380</td>\n",
              "      <td>1.555470</td>\n",
              "      <td>0.00</td>\n",
              "      <td>0.000000</td>\n",
              "      <td>0.000000</td>\n",
              "      <td>0.285714</td>\n",
              "      <td>1.169380</td>\n",
              "      <td>1.169380</td>\n",
              "      <td>2.256818</td>\n",
              "      <td>7.000000</td>\n",
              "      <td>33.0</td>\n",
              "    </tr>\n",
              "    <tr>\n",
              "      <th>dislikes.min</th>\n",
              "      <td>4118.0</td>\n",
              "      <td>0.247118</td>\n",
              "      <td>1.133593</td>\n",
              "      <td>0.00</td>\n",
              "      <td>0.000000</td>\n",
              "      <td>0.000000</td>\n",
              "      <td>0.000000</td>\n",
              "      <td>0.000000</td>\n",
              "      <td>0.247118</td>\n",
              "      <td>0.247118</td>\n",
              "      <td>4.000000</td>\n",
              "      <td>33.0</td>\n",
              "    </tr>\n",
              "    <tr>\n",
              "      <th>dislikes.max</th>\n",
              "      <td>4118.0</td>\n",
              "      <td>4.383285</td>\n",
              "      <td>4.826053</td>\n",
              "      <td>0.00</td>\n",
              "      <td>0.000000</td>\n",
              "      <td>0.000000</td>\n",
              "      <td>1.000000</td>\n",
              "      <td>4.383285</td>\n",
              "      <td>4.383285</td>\n",
              "      <td>9.000000</td>\n",
              "      <td>24.000000</td>\n",
              "      <td>53.0</td>\n",
              "    </tr>\n",
              "    <tr>\n",
              "      <th>carac.mean</th>\n",
              "      <td>4118.0</td>\n",
              "      <td>89.613631</td>\n",
              "      <td>65.024076</td>\n",
              "      <td>0.75</td>\n",
              "      <td>6.085000</td>\n",
              "      <td>28.727619</td>\n",
              "      <td>51.574405</td>\n",
              "      <td>89.613631</td>\n",
              "      <td>89.613631</td>\n",
              "      <td>148.737500</td>\n",
              "      <td>358.603333</td>\n",
              "      <td>880.5</td>\n",
              "    </tr>\n",
              "    <tr>\n",
              "      <th>carac.min</th>\n",
              "      <td>4118.0</td>\n",
              "      <td>31.292147</td>\n",
              "      <td>38.243248</td>\n",
              "      <td>0.00</td>\n",
              "      <td>1.000000</td>\n",
              "      <td>6.000000</td>\n",
              "      <td>12.000000</td>\n",
              "      <td>31.292147</td>\n",
              "      <td>31.292147</td>\n",
              "      <td>54.000000</td>\n",
              "      <td>198.810000</td>\n",
              "      <td>672.0</td>\n",
              "    </tr>\n",
              "    <tr>\n",
              "      <th>carac.max</th>\n",
              "      <td>4118.0</td>\n",
              "      <td>252.243876</td>\n",
              "      <td>509.971805</td>\n",
              "      <td>1.00</td>\n",
              "      <td>7.000000</td>\n",
              "      <td>42.000000</td>\n",
              "      <td>98.000000</td>\n",
              "      <td>252.243876</td>\n",
              "      <td>252.243876</td>\n",
              "      <td>448.300000</td>\n",
              "      <td>1251.620000</td>\n",
              "      <td>29057.0</td>\n",
              "    </tr>\n",
              "    <tr>\n",
              "      <th>diffDaysComment.min</th>\n",
              "      <td>4118.0</td>\n",
              "      <td>30.184070</td>\n",
              "      <td>62.409424</td>\n",
              "      <td>0.00</td>\n",
              "      <td>0.000000</td>\n",
              "      <td>0.000000</td>\n",
              "      <td>2.000000</td>\n",
              "      <td>9.000000</td>\n",
              "      <td>22.000000</td>\n",
              "      <td>89.300000</td>\n",
              "      <td>292.490000</td>\n",
              "      <td>751.0</td>\n",
              "    </tr>\n",
              "    <tr>\n",
              "      <th>diffDaysComment.max</th>\n",
              "      <td>4118.0</td>\n",
              "      <td>147.034240</td>\n",
              "      <td>122.920458</td>\n",
              "      <td>0.00</td>\n",
              "      <td>0.000000</td>\n",
              "      <td>14.000000</td>\n",
              "      <td>80.000000</td>\n",
              "      <td>129.000000</td>\n",
              "      <td>171.000000</td>\n",
              "      <td>283.000000</td>\n",
              "      <td>691.490000</td>\n",
              "      <td>770.0</td>\n",
              "    </tr>\n",
              "    <tr>\n",
              "      <th>diffDaysComment.median</th>\n",
              "      <td>4118.0</td>\n",
              "      <td>100.927635</td>\n",
              "      <td>92.384116</td>\n",
              "      <td>0.00</td>\n",
              "      <td>0.000000</td>\n",
              "      <td>8.500000</td>\n",
              "      <td>49.000000</td>\n",
              "      <td>84.500000</td>\n",
              "      <td>120.000000</td>\n",
              "      <td>210.650000</td>\n",
              "      <td>515.660000</td>\n",
              "      <td>751.0</td>\n",
              "    </tr>\n",
              "    <tr>\n",
              "      <th>commentId.count</th>\n",
              "      <td>4118.0</td>\n",
              "      <td>9.302088</td>\n",
              "      <td>19.704609</td>\n",
              "      <td>0.00</td>\n",
              "      <td>0.000000</td>\n",
              "      <td>0.000000</td>\n",
              "      <td>0.000000</td>\n",
              "      <td>2.000000</td>\n",
              "      <td>9.000000</td>\n",
              "      <td>26.000000</td>\n",
              "      <td>88.830000</td>\n",
              "      <td>334.0</td>\n",
              "    </tr>\n",
              "  </tbody>\n",
              "</table>\n",
              "</div>\n",
              "      <button class=\"colab-df-convert\" onclick=\"convertToInteractive('df-fe3ae162-e75f-4cb6-b9c2-878121a6e078')\"\n",
              "              title=\"Convert this dataframe to an interactive table.\"\n",
              "              style=\"display:none;\">\n",
              "        \n",
              "  <svg xmlns=\"http://www.w3.org/2000/svg\" height=\"24px\"viewBox=\"0 0 24 24\"\n",
              "       width=\"24px\">\n",
              "    <path d=\"M0 0h24v24H0V0z\" fill=\"none\"/>\n",
              "    <path d=\"M18.56 5.44l.94 2.06.94-2.06 2.06-.94-2.06-.94-.94-2.06-.94 2.06-2.06.94zm-11 1L8.5 8.5l.94-2.06 2.06-.94-2.06-.94L8.5 2.5l-.94 2.06-2.06.94zm10 10l.94 2.06.94-2.06 2.06-.94-2.06-.94-.94-2.06-.94 2.06-2.06.94z\"/><path d=\"M17.41 7.96l-1.37-1.37c-.4-.4-.92-.59-1.43-.59-.52 0-1.04.2-1.43.59L10.3 9.45l-7.72 7.72c-.78.78-.78 2.05 0 2.83L4 21.41c.39.39.9.59 1.41.59.51 0 1.02-.2 1.41-.59l7.78-7.78 2.81-2.81c.8-.78.8-2.07 0-2.86zM5.41 20L4 18.59l7.72-7.72 1.47 1.35L5.41 20z\"/>\n",
              "  </svg>\n",
              "      </button>\n",
              "      \n",
              "  <style>\n",
              "    .colab-df-container {\n",
              "      display:flex;\n",
              "      flex-wrap:wrap;\n",
              "      gap: 12px;\n",
              "    }\n",
              "\n",
              "    .colab-df-convert {\n",
              "      background-color: #E8F0FE;\n",
              "      border: none;\n",
              "      border-radius: 50%;\n",
              "      cursor: pointer;\n",
              "      display: none;\n",
              "      fill: #1967D2;\n",
              "      height: 32px;\n",
              "      padding: 0 0 0 0;\n",
              "      width: 32px;\n",
              "    }\n",
              "\n",
              "    .colab-df-convert:hover {\n",
              "      background-color: #E2EBFA;\n",
              "      box-shadow: 0px 1px 2px rgba(60, 64, 67, 0.3), 0px 1px 3px 1px rgba(60, 64, 67, 0.15);\n",
              "      fill: #174EA6;\n",
              "    }\n",
              "\n",
              "    [theme=dark] .colab-df-convert {\n",
              "      background-color: #3B4455;\n",
              "      fill: #D2E3FC;\n",
              "    }\n",
              "\n",
              "    [theme=dark] .colab-df-convert:hover {\n",
              "      background-color: #434B5C;\n",
              "      box-shadow: 0px 1px 3px 1px rgba(0, 0, 0, 0.15);\n",
              "      filter: drop-shadow(0px 1px 2px rgba(0, 0, 0, 0.3));\n",
              "      fill: #FFFFFF;\n",
              "    }\n",
              "  </style>\n",
              "\n",
              "      <script>\n",
              "        const buttonEl =\n",
              "          document.querySelector('#df-fe3ae162-e75f-4cb6-b9c2-878121a6e078 button.colab-df-convert');\n",
              "        buttonEl.style.display =\n",
              "          google.colab.kernel.accessAllowed ? 'block' : 'none';\n",
              "\n",
              "        async function convertToInteractive(key) {\n",
              "          const element = document.querySelector('#df-fe3ae162-e75f-4cb6-b9c2-878121a6e078');\n",
              "          const dataTable =\n",
              "            await google.colab.kernel.invokeFunction('convertToInteractive',\n",
              "                                                     [key], {});\n",
              "          if (!dataTable) return;\n",
              "\n",
              "          const docLinkHtml = 'Like what you see? Visit the ' +\n",
              "            '<a target=\"_blank\" href=https://colab.research.google.com/notebooks/data_table.ipynb>data table notebook</a>'\n",
              "            + ' to learn more about interactive tables.';\n",
              "          element.innerHTML = '';\n",
              "          dataTable['output_type'] = 'display_data';\n",
              "          await google.colab.output.renderOutput(dataTable, element);\n",
              "          const docLink = document.createElement('div');\n",
              "          docLink.innerHTML = docLinkHtml;\n",
              "          element.appendChild(docLink);\n",
              "        }\n",
              "      </script>\n",
              "    </div>\n",
              "  </div>\n",
              "  "
            ]
          },
          "metadata": {},
          "execution_count": 102
        }
      ]
    },
    {
      "cell_type": "code",
      "source": [
        "outliers['out%'] = (\n",
        "    (outliers['max'] - outliers['99%']) / outliers['std']\n",
        "    )\n",
        "\n",
        "outliers[\n",
        "         ['std',\n",
        "         '99%',\n",
        "         'max',\n",
        "         'out%']\n",
        "         ].loc[outliers['out%'] >= 1]"
      ],
      "metadata": {
        "colab": {
          "base_uri": "https://localhost:8080/",
          "height": 520
        },
        "id": "RcRKNtRbeNUr",
        "outputId": "128c1037-96e9-445d-d168-12cd79fc7f92"
      },
      "execution_count": 103,
      "outputs": [
        {
          "output_type": "execute_result",
          "data": {
            "text/plain": [
              "                               std          99%      max       out%\n",
              "vote.count               74.206072   320.830000    740.0   5.648729\n",
              "diffDaysVote.min          0.166332     0.000000      7.0  42.084401\n",
              "diffDaysVote.median      88.184382   435.660000    708.5   3.093972\n",
              "likes.mean                4.722696    23.000000     46.0   4.870099\n",
              "likes.min                 3.475131    18.000000     46.0   8.057251\n",
              "likes.max                10.682844    52.000000     86.0   3.182673\n",
              "dislikes.mean             1.555470     7.000000     33.0  16.715210\n",
              "dislikes.min              1.133593     4.000000     33.0  25.582384\n",
              "dislikes.max              4.826053    24.000000     53.0   6.009051\n",
              "carac.mean               65.024076   358.603333    880.5   8.026207\n",
              "carac.min                38.243248   198.810000    672.0  12.373164\n",
              "carac.max               509.971805  1251.620000  29057.0  54.523367\n",
              "diffDaysComment.min      62.409424   292.490000    751.0   7.346807\n",
              "diffDaysComment.median   92.384116   515.660000    751.0   2.547408\n",
              "commentId.count          19.704609    88.830000    334.0  12.442267"
            ],
            "text/html": [
              "\n",
              "  <div id=\"df-f39b1720-b02c-41ac-9468-ad26f85b8a70\">\n",
              "    <div class=\"colab-df-container\">\n",
              "      <div>\n",
              "<style scoped>\n",
              "    .dataframe tbody tr th:only-of-type {\n",
              "        vertical-align: middle;\n",
              "    }\n",
              "\n",
              "    .dataframe tbody tr th {\n",
              "        vertical-align: top;\n",
              "    }\n",
              "\n",
              "    .dataframe thead th {\n",
              "        text-align: right;\n",
              "    }\n",
              "</style>\n",
              "<table border=\"1\" class=\"dataframe\">\n",
              "  <thead>\n",
              "    <tr style=\"text-align: right;\">\n",
              "      <th></th>\n",
              "      <th>std</th>\n",
              "      <th>99%</th>\n",
              "      <th>max</th>\n",
              "      <th>out%</th>\n",
              "    </tr>\n",
              "  </thead>\n",
              "  <tbody>\n",
              "    <tr>\n",
              "      <th>vote.count</th>\n",
              "      <td>74.206072</td>\n",
              "      <td>320.830000</td>\n",
              "      <td>740.0</td>\n",
              "      <td>5.648729</td>\n",
              "    </tr>\n",
              "    <tr>\n",
              "      <th>diffDaysVote.min</th>\n",
              "      <td>0.166332</td>\n",
              "      <td>0.000000</td>\n",
              "      <td>7.0</td>\n",
              "      <td>42.084401</td>\n",
              "    </tr>\n",
              "    <tr>\n",
              "      <th>diffDaysVote.median</th>\n",
              "      <td>88.184382</td>\n",
              "      <td>435.660000</td>\n",
              "      <td>708.5</td>\n",
              "      <td>3.093972</td>\n",
              "    </tr>\n",
              "    <tr>\n",
              "      <th>likes.mean</th>\n",
              "      <td>4.722696</td>\n",
              "      <td>23.000000</td>\n",
              "      <td>46.0</td>\n",
              "      <td>4.870099</td>\n",
              "    </tr>\n",
              "    <tr>\n",
              "      <th>likes.min</th>\n",
              "      <td>3.475131</td>\n",
              "      <td>18.000000</td>\n",
              "      <td>46.0</td>\n",
              "      <td>8.057251</td>\n",
              "    </tr>\n",
              "    <tr>\n",
              "      <th>likes.max</th>\n",
              "      <td>10.682844</td>\n",
              "      <td>52.000000</td>\n",
              "      <td>86.0</td>\n",
              "      <td>3.182673</td>\n",
              "    </tr>\n",
              "    <tr>\n",
              "      <th>dislikes.mean</th>\n",
              "      <td>1.555470</td>\n",
              "      <td>7.000000</td>\n",
              "      <td>33.0</td>\n",
              "      <td>16.715210</td>\n",
              "    </tr>\n",
              "    <tr>\n",
              "      <th>dislikes.min</th>\n",
              "      <td>1.133593</td>\n",
              "      <td>4.000000</td>\n",
              "      <td>33.0</td>\n",
              "      <td>25.582384</td>\n",
              "    </tr>\n",
              "    <tr>\n",
              "      <th>dislikes.max</th>\n",
              "      <td>4.826053</td>\n",
              "      <td>24.000000</td>\n",
              "      <td>53.0</td>\n",
              "      <td>6.009051</td>\n",
              "    </tr>\n",
              "    <tr>\n",
              "      <th>carac.mean</th>\n",
              "      <td>65.024076</td>\n",
              "      <td>358.603333</td>\n",
              "      <td>880.5</td>\n",
              "      <td>8.026207</td>\n",
              "    </tr>\n",
              "    <tr>\n",
              "      <th>carac.min</th>\n",
              "      <td>38.243248</td>\n",
              "      <td>198.810000</td>\n",
              "      <td>672.0</td>\n",
              "      <td>12.373164</td>\n",
              "    </tr>\n",
              "    <tr>\n",
              "      <th>carac.max</th>\n",
              "      <td>509.971805</td>\n",
              "      <td>1251.620000</td>\n",
              "      <td>29057.0</td>\n",
              "      <td>54.523367</td>\n",
              "    </tr>\n",
              "    <tr>\n",
              "      <th>diffDaysComment.min</th>\n",
              "      <td>62.409424</td>\n",
              "      <td>292.490000</td>\n",
              "      <td>751.0</td>\n",
              "      <td>7.346807</td>\n",
              "    </tr>\n",
              "    <tr>\n",
              "      <th>diffDaysComment.median</th>\n",
              "      <td>92.384116</td>\n",
              "      <td>515.660000</td>\n",
              "      <td>751.0</td>\n",
              "      <td>2.547408</td>\n",
              "    </tr>\n",
              "    <tr>\n",
              "      <th>commentId.count</th>\n",
              "      <td>19.704609</td>\n",
              "      <td>88.830000</td>\n",
              "      <td>334.0</td>\n",
              "      <td>12.442267</td>\n",
              "    </tr>\n",
              "  </tbody>\n",
              "</table>\n",
              "</div>\n",
              "      <button class=\"colab-df-convert\" onclick=\"convertToInteractive('df-f39b1720-b02c-41ac-9468-ad26f85b8a70')\"\n",
              "              title=\"Convert this dataframe to an interactive table.\"\n",
              "              style=\"display:none;\">\n",
              "        \n",
              "  <svg xmlns=\"http://www.w3.org/2000/svg\" height=\"24px\"viewBox=\"0 0 24 24\"\n",
              "       width=\"24px\">\n",
              "    <path d=\"M0 0h24v24H0V0z\" fill=\"none\"/>\n",
              "    <path d=\"M18.56 5.44l.94 2.06.94-2.06 2.06-.94-2.06-.94-.94-2.06-.94 2.06-2.06.94zm-11 1L8.5 8.5l.94-2.06 2.06-.94-2.06-.94L8.5 2.5l-.94 2.06-2.06.94zm10 10l.94 2.06.94-2.06 2.06-.94-2.06-.94-.94-2.06-.94 2.06-2.06.94z\"/><path d=\"M17.41 7.96l-1.37-1.37c-.4-.4-.92-.59-1.43-.59-.52 0-1.04.2-1.43.59L10.3 9.45l-7.72 7.72c-.78.78-.78 2.05 0 2.83L4 21.41c.39.39.9.59 1.41.59.51 0 1.02-.2 1.41-.59l7.78-7.78 2.81-2.81c.8-.78.8-2.07 0-2.86zM5.41 20L4 18.59l7.72-7.72 1.47 1.35L5.41 20z\"/>\n",
              "  </svg>\n",
              "      </button>\n",
              "      \n",
              "  <style>\n",
              "    .colab-df-container {\n",
              "      display:flex;\n",
              "      flex-wrap:wrap;\n",
              "      gap: 12px;\n",
              "    }\n",
              "\n",
              "    .colab-df-convert {\n",
              "      background-color: #E8F0FE;\n",
              "      border: none;\n",
              "      border-radius: 50%;\n",
              "      cursor: pointer;\n",
              "      display: none;\n",
              "      fill: #1967D2;\n",
              "      height: 32px;\n",
              "      padding: 0 0 0 0;\n",
              "      width: 32px;\n",
              "    }\n",
              "\n",
              "    .colab-df-convert:hover {\n",
              "      background-color: #E2EBFA;\n",
              "      box-shadow: 0px 1px 2px rgba(60, 64, 67, 0.3), 0px 1px 3px 1px rgba(60, 64, 67, 0.15);\n",
              "      fill: #174EA6;\n",
              "    }\n",
              "\n",
              "    [theme=dark] .colab-df-convert {\n",
              "      background-color: #3B4455;\n",
              "      fill: #D2E3FC;\n",
              "    }\n",
              "\n",
              "    [theme=dark] .colab-df-convert:hover {\n",
              "      background-color: #434B5C;\n",
              "      box-shadow: 0px 1px 3px 1px rgba(0, 0, 0, 0.15);\n",
              "      filter: drop-shadow(0px 1px 2px rgba(0, 0, 0, 0.3));\n",
              "      fill: #FFFFFF;\n",
              "    }\n",
              "  </style>\n",
              "\n",
              "      <script>\n",
              "        const buttonEl =\n",
              "          document.querySelector('#df-f39b1720-b02c-41ac-9468-ad26f85b8a70 button.colab-df-convert');\n",
              "        buttonEl.style.display =\n",
              "          google.colab.kernel.accessAllowed ? 'block' : 'none';\n",
              "\n",
              "        async function convertToInteractive(key) {\n",
              "          const element = document.querySelector('#df-f39b1720-b02c-41ac-9468-ad26f85b8a70');\n",
              "          const dataTable =\n",
              "            await google.colab.kernel.invokeFunction('convertToInteractive',\n",
              "                                                     [key], {});\n",
              "          if (!dataTable) return;\n",
              "\n",
              "          const docLinkHtml = 'Like what you see? Visit the ' +\n",
              "            '<a target=\"_blank\" href=https://colab.research.google.com/notebooks/data_table.ipynb>data table notebook</a>'\n",
              "            + ' to learn more about interactive tables.';\n",
              "          element.innerHTML = '';\n",
              "          dataTable['output_type'] = 'display_data';\n",
              "          await google.colab.output.renderOutput(dataTable, element);\n",
              "          const docLink = document.createElement('div');\n",
              "          docLink.innerHTML = docLinkHtml;\n",
              "          element.appendChild(docLink);\n",
              "        }\n",
              "      </script>\n",
              "    </div>\n",
              "  </div>\n",
              "  "
            ]
          },
          "metadata": {},
          "execution_count": 103
        }
      ]
    },
    {
      "cell_type": "markdown",
      "source": [
        "##### Visualizar as colunas com outliers superiores"
      ],
      "metadata": {
        "id": "1gsRfflkw8By"
      }
    },
    {
      "cell_type": "code",
      "source": [
        "outliers.reset_index(inplace=True)\n",
        "col_outliers = outliers['index'].loc[outliers['out%'] >= 1].tolist()"
      ],
      "metadata": {
        "id": "QJkORtDphPPT"
      },
      "execution_count": 104,
      "outputs": []
    },
    {
      "cell_type": "code",
      "source": [
        "plt.figure(figsize=(10,12))\n",
        "\n",
        "fig = sns.boxplot(data=churn_merge.filter(col_outliers, axis='columns'),\n",
        "                  orient='h', notch=True)\n",
        "\n",
        "\n",
        "fig.set_xscale('symlog')\n",
        "plt.xlim([-10,10**5])\n",
        "plt.title('Features com outliers superiores expressivos')\n",
        "plt.show()"
      ],
      "metadata": {
        "colab": {
          "base_uri": "https://localhost:8080/",
          "height": 720
        },
        "id": "7h9hoejth4cJ",
        "outputId": "ab4d78af-0388-4afd-aa38-e4b353fa65e5"
      },
      "execution_count": 105,
      "outputs": [
        {
          "output_type": "display_data",
          "data": {
            "text/plain": [
              "<Figure size 720x864 with 1 Axes>"
            ],
            "image/png": "[encoded data removed]"
          },
          "metadata": {
            "needs_background": "light"
          }
        }
      ]
    },
    {
      "cell_type": "markdown",
      "source": [
        "##### Calcular a quantidade de outiliers por coluna com o z-score, exceto **employee**"
      ],
      "metadata": {
        "id": "RSuVbPUTxgYs"
      }
    },
    {
      "cell_type": "code",
      "source": [
        "cols = outliers['index'].tolist()\n",
        "cols.remove('employee')\n",
        "\n",
        "col_outliers = []\n",
        "\n",
        "for col in cols:\n",
        "  z = np.abs(stats.zscore(churn_merge[col]))\n",
        "  if (churn_merge[z>3].shape[0]) > 0:\n",
        "    print(f\"{col} - quantidade de outliers: {churn_merge[z>3].shape[0]}\")\n",
        "    col_outliers.append(col)"
      ],
      "metadata": {
        "colab": {
          "base_uri": "https://localhost:8080/"
        },
        "id": "RwS6E3MczJha",
        "outputId": "3c8846b6-8d1c-442a-e80c-ad1ccfe66c80"
      },
      "execution_count": 106,
      "outputs": [
        {
          "output_type": "stream",
          "name": "stdout",
          "text": [
            "vote.mean - quantidade de outliers: 36\n",
            "vote.max - quantidade de outliers: 116\n",
            "vote.count - quantidade de outliers: 86\n",
            "diffDaysVote.min - quantidade de outliers: 4\n",
            "diffDaysVote.max - quantidade de outliers: 115\n",
            "diffDaysVote.median - quantidade de outliers: 81\n",
            "likes.mean - quantidade de outliers: 70\n",
            "likes.min - quantidade de outliers: 104\n",
            "likes.max - quantidade de outliers: 81\n",
            "dislikes.mean - quantidade de outliers: 66\n",
            "dislikes.min - quantidade de outliers: 45\n",
            "dislikes.max - quantidade de outliers: 105\n",
            "carac.mean - quantidade de outliers: 89\n",
            "carac.min - quantidade de outliers: 73\n",
            "carac.max - quantidade de outliers: 13\n",
            "diffDaysComment.min - quantidade de outliers: 98\n",
            "diffDaysComment.max - quantidade de outliers: 105\n",
            "diffDaysComment.median - quantidade de outliers: 80\n",
            "commentId.count - quantidade de outliers: 94\n"
          ]
        }
      ]
    },
    {
      "cell_type": "markdown",
      "source": [
        "##### Remover os outliers de **numVotes** para não adicionar ao modelo"
      ],
      "metadata": {
        "id": "VXodCFM-zE3Y"
      }
    },
    {
      "cell_type": "code",
      "source": [
        "churn_merge.shape"
      ],
      "metadata": {
        "colab": {
          "base_uri": "https://localhost:8080/"
        },
        "id": "6eJL4uKg2-TS",
        "outputId": "a2066c36-8b94-42df-a61d-95d3bc5cd952"
      },
      "execution_count": 107,
      "outputs": [
        {
          "output_type": "execute_result",
          "data": {
            "text/plain": [
              "(4118, 25)"
            ]
          },
          "metadata": {},
          "execution_count": 107
        }
      ]
    },
    {
      "cell_type": "code",
      "source": [
        "z = np.abs(stats.zscore(churn_merge['vote.count']))\n",
        "churn_merge = churn_merge[z < 3]\n",
        "churn_merge.shape"
      ],
      "metadata": {
        "colab": {
          "base_uri": "https://localhost:8080/"
        },
        "id": "cpLBo2Sc1-XI",
        "outputId": "8085febe-0f33-4b87-b7dc-791d90920c2a"
      },
      "execution_count": 108,
      "outputs": [
        {
          "output_type": "execute_result",
          "data": {
            "text/plain": [
              "(4032, 25)"
            ]
          },
          "metadata": {},
          "execution_count": 108
        }
      ]
    },
    {
      "cell_type": "markdown",
      "source": [
        "##### Nas demais colunas, substituir os outliers pelos limites superiores e inferiores"
      ],
      "metadata": {
        "id": "DSGTU4H16y01"
      }
    },
    {
      "cell_type": "code",
      "source": [
        "col_outliers.remove('vote.count')\n",
        "\n",
        "for col in col_outliers:\n",
        "  limite_inferior = churn_merge[col].mean() - 3 * churn_merge[col].std()\n",
        "  limite_superior = churn_merge[col].mean() + 3 * churn_merge[col].std()\n",
        "  churn_merge.loc[churn_merge[col] < limite_inferior, col] = int(limite_inferior)\n",
        "  churn_merge.loc[churn_merge[col] > limite_superior, col] = int(limite_superior)"
      ],
      "metadata": {
        "id": "id4qIIDU655g",
        "colab": {
          "base_uri": "https://localhost:8080/"
        },
        "outputId": "aabfde0f-f274-4c1d-9f17-70c2a9e0d04e"
      },
      "execution_count": 109,
      "outputs": [
        {
          "output_type": "stream",
          "name": "stderr",
          "text": [
            "/usr/local/lib/python3.7/dist-packages/pandas/core/indexing.py:1817: SettingWithCopyWarning: \n",
            "A value is trying to be set on a copy of a slice from a DataFrame.\n",
            "Try using .loc[row_indexer,col_indexer] = value instead\n",
            "\n",
            "See the caveats in the documentation: https://pandas.pydata.org/pandas-docs/stable/user_guide/indexing.html#returning-a-view-versus-a-copy\n",
            "  self._setitem_single_column(loc, value, pi)\n"
          ]
        }
      ]
    },
    {
      "cell_type": "code",
      "source": [
        "churn_merge.describe(percentiles=[0.01,\n",
        "                                  0.1,\n",
        "                                  0.25,\n",
        "                                  0.5,\n",
        "                                  0.75,\n",
        "                                  0.9,\n",
        "                                  0.99]\n",
        "                     ).T"
      ],
      "metadata": {
        "colab": {
          "base_uri": "https://localhost:8080/",
          "height": 815
        },
        "id": "JZN1Gpb89On9",
        "outputId": "6bed34f4-e875-4b5c-fef9-66a059cddac9"
      },
      "execution_count": 110,
      "outputs": [
        {
          "output_type": "execute_result",
          "data": {
            "text/plain": [
              "                         count        mean         std   min        1%  \\\n",
              "employee                4032.0  192.212054  205.965350  1.00  2.310000   \n",
              "stillExists             4032.0    0.860119    0.346906  0.00  0.000000   \n",
              "vote.mean               4032.0    2.960151    0.633997  1.00  1.092728   \n",
              "vote.mode               4032.0    2.986607    0.825252  1.00  1.000000   \n",
              "vote.min                4032.0    1.911706    0.948771  1.00  1.000000   \n",
              "vote.max                4032.0    3.716518    0.510612  2.00  2.000000   \n",
              "vote.count              4032.0   45.905506   57.910857  1.00  1.000000   \n",
              "diffDaysVote.min        4032.0    0.000000    0.000000  0.00  0.000000   \n",
              "diffDaysVote.max        4032.0  136.478671  133.881934  0.00  0.000000   \n",
              "diffDaysVote.median     4032.0   73.406746   73.931964  0.00  0.000000   \n",
              "likes.mean              4032.0    6.476628    4.329118  0.00  0.000000   \n",
              "likes.min               4032.0    2.190456    2.579601  0.00  0.000000   \n",
              "likes.max               4032.0   14.185855    9.778094  0.00  0.000000   \n",
              "dislikes.mean           4032.0    1.091546    1.067009  0.00  0.000000   \n",
              "dislikes.min            4032.0    0.192559    0.464077  0.00  0.000000   \n",
              "dislikes.max            4032.0    4.123376    3.986520  0.00  0.000000   \n",
              "carac.mean              4032.0   86.916058   53.824296  0.75  6.155000   \n",
              "carac.min               4032.0   29.881101   26.770394  0.00  1.000000   \n",
              "carac.max               4032.0  238.697932  219.904040  1.00  7.000000   \n",
              "diffDaysComment.min     4032.0   27.003472   47.030918  0.00  0.000000   \n",
              "diffDaysComment.max     4032.0  137.221478   98.739361  0.00  0.000000   \n",
              "diffDaysComment.median  4032.0   94.213790   74.009329  0.00  0.000000   \n",
              "commentId.count         4032.0    7.749256   12.938144  0.00  0.000000   \n",
              "\n",
              "                              10%        25%         50%         75%  \\\n",
              "employee                19.000000  51.000000  131.000000  243.000000   \n",
              "stillExists              0.000000   1.000000    1.000000    1.000000   \n",
              "vote.mean                2.058824   2.666667    3.000000    3.333333   \n",
              "vote.mode                2.000000   3.000000    3.000000    4.000000   \n",
              "vote.min                 1.000000   1.000000    2.000000    3.000000   \n",
              "vote.max                 3.000000   3.000000    4.000000    4.000000   \n",
              "vote.count               2.000000   6.000000   20.000000   65.000000   \n",
              "diffDaysVote.min         0.000000   0.000000    0.000000    0.000000   \n",
              "diffDaysVote.max         1.000000  21.000000  107.500000  208.000000   \n",
              "diffDaysVote.median      0.500000  10.500000   55.000000  113.625000   \n",
              "likes.mean               1.250000   3.500000    6.631448    6.916114   \n",
              "likes.min                0.000000   0.000000    2.344741    2.344741   \n",
              "likes.max                2.000000   7.000000   14.630043   15.000000   \n",
              "dislikes.mean            0.000000   0.285714    1.169380    1.169380   \n",
              "dislikes.min             0.000000   0.000000    0.000000    0.247118   \n",
              "dislikes.max             0.000000   1.000000    4.383285    4.383285   \n",
              "carac.mean              28.516667  51.247500   89.613631   89.613631   \n",
              "carac.min                6.000000  12.000000   31.292147   31.292147   \n",
              "carac.max               42.000000  97.000000  252.243876  252.243876   \n",
              "diffDaysComment.min      0.000000   2.000000    9.000000   21.000000   \n",
              "diffDaysComment.max     14.000000  77.000000  129.000000  165.000000   \n",
              "diffDaysComment.median   8.000000  47.000000   84.500000  114.500000   \n",
              "commentId.count          0.000000   0.000000    2.000000    9.000000   \n",
              "\n",
              "                               90%      99%          max  \n",
              "employee                468.000000   924.07   999.000000  \n",
              "stillExists               1.000000     1.00     1.000000  \n",
              "vote.mean                 3.830906     4.00     4.000000  \n",
              "vote.mode                 4.000000     4.00     4.000000  \n",
              "vote.min                  3.000000     4.00     4.000000  \n",
              "vote.max                  4.000000     4.00     4.000000  \n",
              "vote.count              133.000000   249.00   275.000000  \n",
              "diffDaysVote.min          0.000000     0.00     0.000000  \n",
              "diffDaysVote.max        300.000000   572.00   572.000000  \n",
              "diffDaysVote.median     167.500000   330.00   330.500000  \n",
              "likes.mean               12.374209    20.00    20.648649  \n",
              "likes.min                 5.000000    12.00    12.000000  \n",
              "likes.max                27.000000    45.00    45.000000  \n",
              "dislikes.mean             2.250000     5.00     5.666667  \n",
              "dislikes.min              0.247118     3.00     3.000000  \n",
              "dislikes.max              9.000000    18.00    18.000000  \n",
              "carac.mean              145.258750   283.00   283.000000  \n",
              "carac.min                55.000000   146.00   146.000000  \n",
              "carac.max               429.000000  1195.00  1770.000000  \n",
              "diffDaysComment.min      88.900000   210.00   210.000000  \n",
              "diffDaysComment.max     274.000000   473.00   473.000000  \n",
              "diffDaysComment.median  195.000000   352.00   352.000000  \n",
              "commentId.count          24.000000    59.00    59.000000  "
            ],
            "text/html": [
              "\n",
              "  <div id=\"df-c23ab081-31c9-4de5-8adc-7e6217ebea53\">\n",
              "    <div class=\"colab-df-container\">\n",
              "      <div>\n",
              "<style scoped>\n",
              "    .dataframe tbody tr th:only-of-type {\n",
              "        vertical-align: middle;\n",
              "    }\n",
              "\n",
              "    .dataframe tbody tr th {\n",
              "        vertical-align: top;\n",
              "    }\n",
              "\n",
              "    .dataframe thead th {\n",
              "        text-align: right;\n",
              "    }\n",
              "</style>\n",
              "<table border=\"1\" class=\"dataframe\">\n",
              "  <thead>\n",
              "    <tr style=\"text-align: right;\">\n",
              "      <th></th>\n",
              "      <th>count</th>\n",
              "      <th>mean</th>\n",
              "      <th>std</th>\n",
              "      <th>min</th>\n",
              "      <th>1%</th>\n",
              "      <th>10%</th>\n",
              "      <th>25%</th>\n",
              "      <th>50%</th>\n",
              "      <th>75%</th>\n",
              "      <th>90%</th>\n",
              "      <th>99%</th>\n",
              "      <th>max</th>\n",
              "    </tr>\n",
              "  </thead>\n",
              "  <tbody>\n",
              "    <tr>\n",
              "      <th>employee</th>\n",
              "      <td>4032.0</td>\n",
              "      <td>192.212054</td>\n",
              "      <td>205.965350</td>\n",
              "      <td>1.00</td>\n",
              "      <td>2.310000</td>\n",
              "      <td>19.000000</td>\n",
              "      <td>51.000000</td>\n",
              "      <td>131.000000</td>\n",
              "      <td>243.000000</td>\n",
              "      <td>468.000000</td>\n",
              "      <td>924.07</td>\n",
              "      <td>999.000000</td>\n",
              "    </tr>\n",
              "    <tr>\n",
              "      <th>stillExists</th>\n",
              "      <td>4032.0</td>\n",
              "      <td>0.860119</td>\n",
              "      <td>0.346906</td>\n",
              "      <td>0.00</td>\n",
              "      <td>0.000000</td>\n",
              "      <td>0.000000</td>\n",
              "      <td>1.000000</td>\n",
              "      <td>1.000000</td>\n",
              "      <td>1.000000</td>\n",
              "      <td>1.000000</td>\n",
              "      <td>1.00</td>\n",
              "      <td>1.000000</td>\n",
              "    </tr>\n",
              "    <tr>\n",
              "      <th>vote.mean</th>\n",
              "      <td>4032.0</td>\n",
              "      <td>2.960151</td>\n",
              "      <td>0.633997</td>\n",
              "      <td>1.00</td>\n",
              "      <td>1.092728</td>\n",
              "      <td>2.058824</td>\n",
              "      <td>2.666667</td>\n",
              "      <td>3.000000</td>\n",
              "      <td>3.333333</td>\n",
              "      <td>3.830906</td>\n",
              "      <td>4.00</td>\n",
              "      <td>4.000000</td>\n",
              "    </tr>\n",
              "    <tr>\n",
              "      <th>vote.mode</th>\n",
              "      <td>4032.0</td>\n",
              "      <td>2.986607</td>\n",
              "      <td>0.825252</td>\n",
              "      <td>1.00</td>\n",
              "      <td>1.000000</td>\n",
              "      <td>2.000000</td>\n",
              "      <td>3.000000</td>\n",
              "      <td>3.000000</td>\n",
              "      <td>4.000000</td>\n",
              "      <td>4.000000</td>\n",
              "      <td>4.00</td>\n",
              "      <td>4.000000</td>\n",
              "    </tr>\n",
              "    <tr>\n",
              "      <th>vote.min</th>\n",
              "      <td>4032.0</td>\n",
              "      <td>1.911706</td>\n",
              "      <td>0.948771</td>\n",
              "      <td>1.00</td>\n",
              "      <td>1.000000</td>\n",
              "      <td>1.000000</td>\n",
              "      <td>1.000000</td>\n",
              "      <td>2.000000</td>\n",
              "      <td>3.000000</td>\n",
              "      <td>3.000000</td>\n",
              "      <td>4.00</td>\n",
              "      <td>4.000000</td>\n",
              "    </tr>\n",
              "    <tr>\n",
              "      <th>vote.max</th>\n",
              "      <td>4032.0</td>\n",
              "      <td>3.716518</td>\n",
              "      <td>0.510612</td>\n",
              "      <td>2.00</td>\n",
              "      <td>2.000000</td>\n",
              "      <td>3.000000</td>\n",
              "      <td>3.000000</td>\n",
              "      <td>4.000000</td>\n",
              "      <td>4.000000</td>\n",
              "      <td>4.000000</td>\n",
              "      <td>4.00</td>\n",
              "      <td>4.000000</td>\n",
              "    </tr>\n",
              "    <tr>\n",
              "      <th>vote.count</th>\n",
              "      <td>4032.0</td>\n",
              "      <td>45.905506</td>\n",
              "      <td>57.910857</td>\n",
              "      <td>1.00</td>\n",
              "      <td>1.000000</td>\n",
              "      <td>2.000000</td>\n",
              "      <td>6.000000</td>\n",
              "      <td>20.000000</td>\n",
              "      <td>65.000000</td>\n",
              "      <td>133.000000</td>\n",
              "      <td>249.00</td>\n",
              "      <td>275.000000</td>\n",
              "    </tr>\n",
              "    <tr>\n",
              "      <th>diffDaysVote.min</th>\n",
              "      <td>4032.0</td>\n",
              "      <td>0.000000</td>\n",
              "      <td>0.000000</td>\n",
              "      <td>0.00</td>\n",
              "      <td>0.000000</td>\n",
              "      <td>0.000000</td>\n",
              "      <td>0.000000</td>\n",
              "      <td>0.000000</td>\n",
              "      <td>0.000000</td>\n",
              "      <td>0.000000</td>\n",
              "      <td>0.00</td>\n",
              "      <td>0.000000</td>\n",
              "    </tr>\n",
              "    <tr>\n",
              "      <th>diffDaysVote.max</th>\n",
              "      <td>4032.0</td>\n",
              "      <td>136.478671</td>\n",
              "      <td>133.881934</td>\n",
              "      <td>0.00</td>\n",
              "      <td>0.000000</td>\n",
              "      <td>1.000000</td>\n",
              "      <td>21.000000</td>\n",
              "      <td>107.500000</td>\n",
              "      <td>208.000000</td>\n",
              "      <td>300.000000</td>\n",
              "      <td>572.00</td>\n",
              "      <td>572.000000</td>\n",
              "    </tr>\n",
              "    <tr>\n",
              "      <th>diffDaysVote.median</th>\n",
              "      <td>4032.0</td>\n",
              "      <td>73.406746</td>\n",
              "      <td>73.931964</td>\n",
              "      <td>0.00</td>\n",
              "      <td>0.000000</td>\n",
              "      <td>0.500000</td>\n",
              "      <td>10.500000</td>\n",
              "      <td>55.000000</td>\n",
              "      <td>113.625000</td>\n",
              "      <td>167.500000</td>\n",
              "      <td>330.00</td>\n",
              "      <td>330.500000</td>\n",
              "    </tr>\n",
              "    <tr>\n",
              "      <th>likes.mean</th>\n",
              "      <td>4032.0</td>\n",
              "      <td>6.476628</td>\n",
              "      <td>4.329118</td>\n",
              "      <td>0.00</td>\n",
              "      <td>0.000000</td>\n",
              "      <td>1.250000</td>\n",
              "      <td>3.500000</td>\n",
              "      <td>6.631448</td>\n",
              "      <td>6.916114</td>\n",
              "      <td>12.374209</td>\n",
              "      <td>20.00</td>\n",
              "      <td>20.648649</td>\n",
              "    </tr>\n",
              "    <tr>\n",
              "      <th>likes.min</th>\n",
              "      <td>4032.0</td>\n",
              "      <td>2.190456</td>\n",
              "      <td>2.579601</td>\n",
              "      <td>0.00</td>\n",
              "      <td>0.000000</td>\n",
              "      <td>0.000000</td>\n",
              "      <td>0.000000</td>\n",
              "      <td>2.344741</td>\n",
              "      <td>2.344741</td>\n",
              "      <td>5.000000</td>\n",
              "      <td>12.00</td>\n",
              "      <td>12.000000</td>\n",
              "    </tr>\n",
              "    <tr>\n",
              "      <th>likes.max</th>\n",
              "      <td>4032.0</td>\n",
              "      <td>14.185855</td>\n",
              "      <td>9.778094</td>\n",
              "      <td>0.00</td>\n",
              "      <td>0.000000</td>\n",
              "      <td>2.000000</td>\n",
              "      <td>7.000000</td>\n",
              "      <td>14.630043</td>\n",
              "      <td>15.000000</td>\n",
              "      <td>27.000000</td>\n",
              "      <td>45.00</td>\n",
              "      <td>45.000000</td>\n",
              "    </tr>\n",
              "    <tr>\n",
              "      <th>dislikes.mean</th>\n",
              "      <td>4032.0</td>\n",
              "      <td>1.091546</td>\n",
              "      <td>1.067009</td>\n",
              "      <td>0.00</td>\n",
              "      <td>0.000000</td>\n",
              "      <td>0.000000</td>\n",
              "      <td>0.285714</td>\n",
              "      <td>1.169380</td>\n",
              "      <td>1.169380</td>\n",
              "      <td>2.250000</td>\n",
              "      <td>5.00</td>\n",
              "      <td>5.666667</td>\n",
              "    </tr>\n",
              "    <tr>\n",
              "      <th>dislikes.min</th>\n",
              "      <td>4032.0</td>\n",
              "      <td>0.192559</td>\n",
              "      <td>0.464077</td>\n",
              "      <td>0.00</td>\n",
              "      <td>0.000000</td>\n",
              "      <td>0.000000</td>\n",
              "      <td>0.000000</td>\n",
              "      <td>0.000000</td>\n",
              "      <td>0.247118</td>\n",
              "      <td>0.247118</td>\n",
              "      <td>3.00</td>\n",
              "      <td>3.000000</td>\n",
              "    </tr>\n",
              "    <tr>\n",
              "      <th>dislikes.max</th>\n",
              "      <td>4032.0</td>\n",
              "      <td>4.123376</td>\n",
              "      <td>3.986520</td>\n",
              "      <td>0.00</td>\n",
              "      <td>0.000000</td>\n",
              "      <td>0.000000</td>\n",
              "      <td>1.000000</td>\n",
              "      <td>4.383285</td>\n",
              "      <td>4.383285</td>\n",
              "      <td>9.000000</td>\n",
              "      <td>18.00</td>\n",
              "      <td>18.000000</td>\n",
              "    </tr>\n",
              "    <tr>\n",
              "      <th>carac.mean</th>\n",
              "      <td>4032.0</td>\n",
              "      <td>86.916058</td>\n",
              "      <td>53.824296</td>\n",
              "      <td>0.75</td>\n",
              "      <td>6.155000</td>\n",
              "      <td>28.516667</td>\n",
              "      <td>51.247500</td>\n",
              "      <td>89.613631</td>\n",
              "      <td>89.613631</td>\n",
              "      <td>145.258750</td>\n",
              "      <td>283.00</td>\n",
              "      <td>283.000000</td>\n",
              "    </tr>\n",
              "    <tr>\n",
              "      <th>carac.min</th>\n",
              "      <td>4032.0</td>\n",
              "      <td>29.881101</td>\n",
              "      <td>26.770394</td>\n",
              "      <td>0.00</td>\n",
              "      <td>1.000000</td>\n",
              "      <td>6.000000</td>\n",
              "      <td>12.000000</td>\n",
              "      <td>31.292147</td>\n",
              "      <td>31.292147</td>\n",
              "      <td>55.000000</td>\n",
              "      <td>146.00</td>\n",
              "      <td>146.000000</td>\n",
              "    </tr>\n",
              "    <tr>\n",
              "      <th>carac.max</th>\n",
              "      <td>4032.0</td>\n",
              "      <td>238.697932</td>\n",
              "      <td>219.904040</td>\n",
              "      <td>1.00</td>\n",
              "      <td>7.000000</td>\n",
              "      <td>42.000000</td>\n",
              "      <td>97.000000</td>\n",
              "      <td>252.243876</td>\n",
              "      <td>252.243876</td>\n",
              "      <td>429.000000</td>\n",
              "      <td>1195.00</td>\n",
              "      <td>1770.000000</td>\n",
              "    </tr>\n",
              "    <tr>\n",
              "      <th>diffDaysComment.min</th>\n",
              "      <td>4032.0</td>\n",
              "      <td>27.003472</td>\n",
              "      <td>47.030918</td>\n",
              "      <td>0.00</td>\n",
              "      <td>0.000000</td>\n",
              "      <td>0.000000</td>\n",
              "      <td>2.000000</td>\n",
              "      <td>9.000000</td>\n",
              "      <td>21.000000</td>\n",
              "      <td>88.900000</td>\n",
              "      <td>210.00</td>\n",
              "      <td>210.000000</td>\n",
              "    </tr>\n",
              "    <tr>\n",
              "      <th>diffDaysComment.max</th>\n",
              "      <td>4032.0</td>\n",
              "      <td>137.221478</td>\n",
              "      <td>98.739361</td>\n",
              "      <td>0.00</td>\n",
              "      <td>0.000000</td>\n",
              "      <td>14.000000</td>\n",
              "      <td>77.000000</td>\n",
              "      <td>129.000000</td>\n",
              "      <td>165.000000</td>\n",
              "      <td>274.000000</td>\n",
              "      <td>473.00</td>\n",
              "      <td>473.000000</td>\n",
              "    </tr>\n",
              "    <tr>\n",
              "      <th>diffDaysComment.median</th>\n",
              "      <td>4032.0</td>\n",
              "      <td>94.213790</td>\n",
              "      <td>74.009329</td>\n",
              "      <td>0.00</td>\n",
              "      <td>0.000000</td>\n",
              "      <td>8.000000</td>\n",
              "      <td>47.000000</td>\n",
              "      <td>84.500000</td>\n",
              "      <td>114.500000</td>\n",
              "      <td>195.000000</td>\n",
              "      <td>352.00</td>\n",
              "      <td>352.000000</td>\n",
              "    </tr>\n",
              "    <tr>\n",
              "      <th>commentId.count</th>\n",
              "      <td>4032.0</td>\n",
              "      <td>7.749256</td>\n",
              "      <td>12.938144</td>\n",
              "      <td>0.00</td>\n",
              "      <td>0.000000</td>\n",
              "      <td>0.000000</td>\n",
              "      <td>0.000000</td>\n",
              "      <td>2.000000</td>\n",
              "      <td>9.000000</td>\n",
              "      <td>24.000000</td>\n",
              "      <td>59.00</td>\n",
              "      <td>59.000000</td>\n",
              "    </tr>\n",
              "  </tbody>\n",
              "</table>\n",
              "</div>\n",
              "      <button class=\"colab-df-convert\" onclick=\"convertToInteractive('df-c23ab081-31c9-4de5-8adc-7e6217ebea53')\"\n",
              "              title=\"Convert this dataframe to an interactive table.\"\n",
              "              style=\"display:none;\">\n",
              "        \n",
              "  <svg xmlns=\"http://www.w3.org/2000/svg\" height=\"24px\"viewBox=\"0 0 24 24\"\n",
              "       width=\"24px\">\n",
              "    <path d=\"M0 0h24v24H0V0z\" fill=\"none\"/>\n",
              "    <path d=\"M18.56 5.44l.94 2.06.94-2.06 2.06-.94-2.06-.94-.94-2.06-.94 2.06-2.06.94zm-11 1L8.5 8.5l.94-2.06 2.06-.94-2.06-.94L8.5 2.5l-.94 2.06-2.06.94zm10 10l.94 2.06.94-2.06 2.06-.94-2.06-.94-.94-2.06-.94 2.06-2.06.94z\"/><path d=\"M17.41 7.96l-1.37-1.37c-.4-.4-.92-.59-1.43-.59-.52 0-1.04.2-1.43.59L10.3 9.45l-7.72 7.72c-.78.78-.78 2.05 0 2.83L4 21.41c.39.39.9.59 1.41.59.51 0 1.02-.2 1.41-.59l7.78-7.78 2.81-2.81c.8-.78.8-2.07 0-2.86zM5.41 20L4 18.59l7.72-7.72 1.47 1.35L5.41 20z\"/>\n",
              "  </svg>\n",
              "      </button>\n",
              "      \n",
              "  <style>\n",
              "    .colab-df-container {\n",
              "      display:flex;\n",
              "      flex-wrap:wrap;\n",
              "      gap: 12px;\n",
              "    }\n",
              "\n",
              "    .colab-df-convert {\n",
              "      background-color: #E8F0FE;\n",
              "      border: none;\n",
              "      border-radius: 50%;\n",
              "      cursor: pointer;\n",
              "      display: none;\n",
              "      fill: #1967D2;\n",
              "      height: 32px;\n",
              "      padding: 0 0 0 0;\n",
              "      width: 32px;\n",
              "    }\n",
              "\n",
              "    .colab-df-convert:hover {\n",
              "      background-color: #E2EBFA;\n",
              "      box-shadow: 0px 1px 2px rgba(60, 64, 67, 0.3), 0px 1px 3px 1px rgba(60, 64, 67, 0.15);\n",
              "      fill: #174EA6;\n",
              "    }\n",
              "\n",
              "    [theme=dark] .colab-df-convert {\n",
              "      background-color: #3B4455;\n",
              "      fill: #D2E3FC;\n",
              "    }\n",
              "\n",
              "    [theme=dark] .colab-df-convert:hover {\n",
              "      background-color: #434B5C;\n",
              "      box-shadow: 0px 1px 3px 1px rgba(0, 0, 0, 0.15);\n",
              "      filter: drop-shadow(0px 1px 2px rgba(0, 0, 0, 0.3));\n",
              "      fill: #FFFFFF;\n",
              "    }\n",
              "  </style>\n",
              "\n",
              "      <script>\n",
              "        const buttonEl =\n",
              "          document.querySelector('#df-c23ab081-31c9-4de5-8adc-7e6217ebea53 button.colab-df-convert');\n",
              "        buttonEl.style.display =\n",
              "          google.colab.kernel.accessAllowed ? 'block' : 'none';\n",
              "\n",
              "        async function convertToInteractive(key) {\n",
              "          const element = document.querySelector('#df-c23ab081-31c9-4de5-8adc-7e6217ebea53');\n",
              "          const dataTable =\n",
              "            await google.colab.kernel.invokeFunction('convertToInteractive',\n",
              "                                                     [key], {});\n",
              "          if (!dataTable) return;\n",
              "\n",
              "          const docLinkHtml = 'Like what you see? Visit the ' +\n",
              "            '<a target=\"_blank\" href=https://colab.research.google.com/notebooks/data_table.ipynb>data table notebook</a>'\n",
              "            + ' to learn more about interactive tables.';\n",
              "          element.innerHTML = '';\n",
              "          dataTable['output_type'] = 'display_data';\n",
              "          await google.colab.output.renderOutput(dataTable, element);\n",
              "          const docLink = document.createElement('div');\n",
              "          docLink.innerHTML = docLinkHtml;\n",
              "          element.appendChild(docLink);\n",
              "        }\n",
              "      </script>\n",
              "    </div>\n",
              "  </div>\n",
              "  "
            ]
          },
          "metadata": {},
          "execution_count": 110
        }
      ]
    },
    {
      "cell_type": "code",
      "source": [
        "plt.figure(figsize=(10,12))\n",
        "\n",
        "fig = sns.boxplot(data=churn_merge.filter(col_outliers, axis='columns'),\n",
        "                  orient='h', notch=True)\n",
        "\n",
        "\n",
        "fig.set_xscale('symlog')\n",
        "plt.xlim([-10,10**5])\n",
        "plt.title('Features com outliers superiores expressivos')\n",
        "plt.show()"
      ],
      "metadata": {
        "colab": {
          "base_uri": "https://localhost:8080/",
          "height": 720
        },
        "id": "KRYcVJNNceAI",
        "outputId": "5c6a5234-4bd8-40fa-a897-b4026c596fdc"
      },
      "execution_count": 111,
      "outputs": [
        {
          "output_type": "display_data",
          "data": {
            "text/plain": [
              "<Figure size 720x864 with 1 Axes>"
            ],
            "image/png": "[encoded data removed]"
          },
          "metadata": {
            "needs_background": "light"
          }
        }
      ]
    },
    {
      "cell_type": "markdown",
      "source": [
        "## Finalização\n",
        "\n",
        "Dataset concluído, em seguida veremos como enriquecer os dados a partir dos existentes"
      ],
      "metadata": {
        "id": "QzmyTJLHHlfd"
      }
    },
    {
      "cell_type": "code",
      "source": [
        "churn_merge.head()"
      ],
      "metadata": {
        "colab": {
          "base_uri": "https://localhost:8080/",
          "height": 300
        },
        "id": "X5k01mUJc_ge",
        "outputId": "7c6a3881-c241-4b94-d2f8-ade9832c67f9"
      },
      "execution_count": 112,
      "outputs": [
        {
          "output_type": "execute_result",
          "data": {
            "text/plain": [
              "                companyAlias  employee  stillExists lastParticipationDate  \\\n",
              "7   5370af43e4b0cff95558c12a        18            1   2017-03-12 01:00:00   \n",
              "8   5370af43e4b0cff95558c12a        20            1   2016-12-16 01:00:00   \n",
              "9   5370af43e4b0cff95558c12a        21            1   2016-12-27 01:00:00   \n",
              "10  5370af43e4b0cff95558c12a        22            0   2016-05-26 09:16:56   \n",
              "11  5370af43e4b0cff95558c12a        23            1   2016-11-12 01:00:00   \n",
              "\n",
              "    vote.mean  vote.mode  vote.min  vote.max  vote.count  diffDaysVote.min  \\\n",
              "7    3.192118          3         1         4         203                 0   \n",
              "8    3.666667          4         2         4          51                 0   \n",
              "9    3.680556          4         3         4          72                 0   \n",
              "10   3.250000          3         1         4          20                 0   \n",
              "11   3.117647          3         2         4          34                 0   \n",
              "\n",
              "    ...  dislikes.mean  dislikes.min  dislikes.max  carac.mean  carac.min  \\\n",
              "7   ...       0.580000           0.0           3.0   51.240000       14.0   \n",
              "8   ...       0.200000           0.0           1.0    8.200000        0.0   \n",
              "9   ...       0.333333           0.0           2.0   53.000000        8.0   \n",
              "10  ...       0.777778           0.0           4.0   71.777778       14.0   \n",
              "11  ...       0.000000           0.0           0.0   12.000000        8.0   \n",
              "\n",
              "    carac.max  diffDaysComment.min  diffDaysComment.max  \\\n",
              "7       139.0                 37.0                382.0   \n",
              "8        30.0                 16.0                238.0   \n",
              "9       168.0                  5.0                308.0   \n",
              "10      165.0                  0.0                 71.0   \n",
              "11       16.0                 53.0                239.0   \n",
              "\n",
              "    diffDaysComment.median  commentId.count  \n",
              "7                    326.0             50.0  \n",
              "8                     27.0              5.0  \n",
              "9                    268.0             12.0  \n",
              "10                    56.5             18.0  \n",
              "11                   146.0              2.0  \n",
              "\n",
              "[5 rows x 25 columns]"
            ],
            "text/html": [
              "\n",
              "  <div id=\"df-91ffb728-ce88-4513-a645-24f38a75a62d\">\n",
              "    <div class=\"colab-df-container\">\n",
              "      <div>\n",
              "<style scoped>\n",
              "    .dataframe tbody tr th:only-of-type {\n",
              "        vertical-align: middle;\n",
              "    }\n",
              "\n",
              "    .dataframe tbody tr th {\n",
              "        vertical-align: top;\n",
              "    }\n",
              "\n",
              "    .dataframe thead th {\n",
              "        text-align: right;\n",
              "    }\n",
              "</style>\n",
              "<table border=\"1\" class=\"dataframe\">\n",
              "  <thead>\n",
              "    <tr style=\"text-align: right;\">\n",
              "      <th></th>\n",
              "      <th>companyAlias</th>\n",
              "      <th>employee</th>\n",
              "      <th>stillExists</th>\n",
              "      <th>lastParticipationDate</th>\n",
              "      <th>vote.mean</th>\n",
              "      <th>vote.mode</th>\n",
              "      <th>vote.min</th>\n",
              "      <th>vote.max</th>\n",
              "      <th>vote.count</th>\n",
              "      <th>diffDaysVote.min</th>\n",
              "      <th>...</th>\n",
              "      <th>dislikes.mean</th>\n",
              "      <th>dislikes.min</th>\n",
              "      <th>dislikes.max</th>\n",
              "      <th>carac.mean</th>\n",
              "      <th>carac.min</th>\n",
              "      <th>carac.max</th>\n",
              "      <th>diffDaysComment.min</th>\n",
              "      <th>diffDaysComment.max</th>\n",
              "      <th>diffDaysComment.median</th>\n",
              "      <th>commentId.count</th>\n",
              "    </tr>\n",
              "  </thead>\n",
              "  <tbody>\n",
              "    <tr>\n",
              "      <th>7</th>\n",
              "      <td>5370af43e4b0cff95558c12a</td>\n",
              "      <td>18</td>\n",
              "      <td>1</td>\n",
              "      <td>2017-03-12 01:00:00</td>\n",
              "      <td>3.192118</td>\n",
              "      <td>3</td>\n",
              "      <td>1</td>\n",
              "      <td>4</td>\n",
              "      <td>203</td>\n",
              "      <td>0</td>\n",
              "      <td>...</td>\n",
              "      <td>0.580000</td>\n",
              "      <td>0.0</td>\n",
              "      <td>3.0</td>\n",
              "      <td>51.240000</td>\n",
              "      <td>14.0</td>\n",
              "      <td>139.0</td>\n",
              "      <td>37.0</td>\n",
              "      <td>382.0</td>\n",
              "      <td>326.0</td>\n",
              "      <td>50.0</td>\n",
              "    </tr>\n",
              "    <tr>\n",
              "      <th>8</th>\n",
              "      <td>5370af43e4b0cff95558c12a</td>\n",
              "      <td>20</td>\n",
              "      <td>1</td>\n",
              "      <td>2016-12-16 01:00:00</td>\n",
              "      <td>3.666667</td>\n",
              "      <td>4</td>\n",
              "      <td>2</td>\n",
              "      <td>4</td>\n",
              "      <td>51</td>\n",
              "      <td>0</td>\n",
              "      <td>...</td>\n",
              "      <td>0.200000</td>\n",
              "      <td>0.0</td>\n",
              "      <td>1.0</td>\n",
              "      <td>8.200000</td>\n",
              "      <td>0.0</td>\n",
              "      <td>30.0</td>\n",
              "      <td>16.0</td>\n",
              "      <td>238.0</td>\n",
              "      <td>27.0</td>\n",
              "      <td>5.0</td>\n",
              "    </tr>\n",
              "    <tr>\n",
              "      <th>9</th>\n",
              "      <td>5370af43e4b0cff95558c12a</td>\n",
              "      <td>21</td>\n",
              "      <td>1</td>\n",
              "      <td>2016-12-27 01:00:00</td>\n",
              "      <td>3.680556</td>\n",
              "      <td>4</td>\n",
              "      <td>3</td>\n",
              "      <td>4</td>\n",
              "      <td>72</td>\n",
              "      <td>0</td>\n",
              "      <td>...</td>\n",
              "      <td>0.333333</td>\n",
              "      <td>0.0</td>\n",
              "      <td>2.0</td>\n",
              "      <td>53.000000</td>\n",
              "      <td>8.0</td>\n",
              "      <td>168.0</td>\n",
              "      <td>5.0</td>\n",
              "      <td>308.0</td>\n",
              "      <td>268.0</td>\n",
              "      <td>12.0</td>\n",
              "    </tr>\n",
              "    <tr>\n",
              "      <th>10</th>\n",
              "      <td>5370af43e4b0cff95558c12a</td>\n",
              "      <td>22</td>\n",
              "      <td>0</td>\n",
              "      <td>2016-05-26 09:16:56</td>\n",
              "      <td>3.250000</td>\n",
              "      <td>3</td>\n",
              "      <td>1</td>\n",
              "      <td>4</td>\n",
              "      <td>20</td>\n",
              "      <td>0</td>\n",
              "      <td>...</td>\n",
              "      <td>0.777778</td>\n",
              "      <td>0.0</td>\n",
              "      <td>4.0</td>\n",
              "      <td>71.777778</td>\n",
              "      <td>14.0</td>\n",
              "      <td>165.0</td>\n",
              "      <td>0.0</td>\n",
              "      <td>71.0</td>\n",
              "      <td>56.5</td>\n",
              "      <td>18.0</td>\n",
              "    </tr>\n",
              "    <tr>\n",
              "      <th>11</th>\n",
              "      <td>5370af43e4b0cff95558c12a</td>\n",
              "      <td>23</td>\n",
              "      <td>1</td>\n",
              "      <td>2016-11-12 01:00:00</td>\n",
              "      <td>3.117647</td>\n",
              "      <td>3</td>\n",
              "      <td>2</td>\n",
              "      <td>4</td>\n",
              "      <td>34</td>\n",
              "      <td>0</td>\n",
              "      <td>...</td>\n",
              "      <td>0.000000</td>\n",
              "      <td>0.0</td>\n",
              "      <td>0.0</td>\n",
              "      <td>12.000000</td>\n",
              "      <td>8.0</td>\n",
              "      <td>16.0</td>\n",
              "      <td>53.0</td>\n",
              "      <td>239.0</td>\n",
              "      <td>146.0</td>\n",
              "      <td>2.0</td>\n",
              "    </tr>\n",
              "  </tbody>\n",
              "</table>\n",
              "<p>5 rows × 25 columns</p>\n",
              "</div>\n",
              "      <button class=\"colab-df-convert\" onclick=\"convertToInteractive('df-91ffb728-ce88-4513-a645-24f38a75a62d')\"\n",
              "              title=\"Convert this dataframe to an interactive table.\"\n",
              "              style=\"display:none;\">\n",
              "        \n",
              "  <svg xmlns=\"http://www.w3.org/2000/svg\" height=\"24px\"viewBox=\"0 0 24 24\"\n",
              "       width=\"24px\">\n",
              "    <path d=\"M0 0h24v24H0V0z\" fill=\"none\"/>\n",
              "    <path d=\"M18.56 5.44l.94 2.06.94-2.06 2.06-.94-2.06-.94-.94-2.06-.94 2.06-2.06.94zm-11 1L8.5 8.5l.94-2.06 2.06-.94-2.06-.94L8.5 2.5l-.94 2.06-2.06.94zm10 10l.94 2.06.94-2.06 2.06-.94-2.06-.94-.94-2.06-.94 2.06-2.06.94z\"/><path d=\"M17.41 7.96l-1.37-1.37c-.4-.4-.92-.59-1.43-.59-.52 0-1.04.2-1.43.59L10.3 9.45l-7.72 7.72c-.78.78-.78 2.05 0 2.83L4 21.41c.39.39.9.59 1.41.59.51 0 1.02-.2 1.41-.59l7.78-7.78 2.81-2.81c.8-.78.8-2.07 0-2.86zM5.41 20L4 18.59l7.72-7.72 1.47 1.35L5.41 20z\"/>\n",
              "  </svg>\n",
              "      </button>\n",
              "      \n",
              "  <style>\n",
              "    .colab-df-container {\n",
              "      display:flex;\n",
              "      flex-wrap:wrap;\n",
              "      gap: 12px;\n",
              "    }\n",
              "\n",
              "    .colab-df-convert {\n",
              "      background-color: #E8F0FE;\n",
              "      border: none;\n",
              "      border-radius: 50%;\n",
              "      cursor: pointer;\n",
              "      display: none;\n",
              "      fill: #1967D2;\n",
              "      height: 32px;\n",
              "      padding: 0 0 0 0;\n",
              "      width: 32px;\n",
              "    }\n",
              "\n",
              "    .colab-df-convert:hover {\n",
              "      background-color: #E2EBFA;\n",
              "      box-shadow: 0px 1px 2px rgba(60, 64, 67, 0.3), 0px 1px 3px 1px rgba(60, 64, 67, 0.15);\n",
              "      fill: #174EA6;\n",
              "    }\n",
              "\n",
              "    [theme=dark] .colab-df-convert {\n",
              "      background-color: #3B4455;\n",
              "      fill: #D2E3FC;\n",
              "    }\n",
              "\n",
              "    [theme=dark] .colab-df-convert:hover {\n",
              "      background-color: #434B5C;\n",
              "      box-shadow: 0px 1px 3px 1px rgba(0, 0, 0, 0.15);\n",
              "      filter: drop-shadow(0px 1px 2px rgba(0, 0, 0, 0.3));\n",
              "      fill: #FFFFFF;\n",
              "    }\n",
              "  </style>\n",
              "\n",
              "      <script>\n",
              "        const buttonEl =\n",
              "          document.querySelector('#df-91ffb728-ce88-4513-a645-24f38a75a62d button.colab-df-convert');\n",
              "        buttonEl.style.display =\n",
              "          google.colab.kernel.accessAllowed ? 'block' : 'none';\n",
              "\n",
              "        async function convertToInteractive(key) {\n",
              "          const element = document.querySelector('#df-91ffb728-ce88-4513-a645-24f38a75a62d');\n",
              "          const dataTable =\n",
              "            await google.colab.kernel.invokeFunction('convertToInteractive',\n",
              "                                                     [key], {});\n",
              "          if (!dataTable) return;\n",
              "\n",
              "          const docLinkHtml = 'Like what you see? Visit the ' +\n",
              "            '<a target=\"_blank\" href=https://colab.research.google.com/notebooks/data_table.ipynb>data table notebook</a>'\n",
              "            + ' to learn more about interactive tables.';\n",
              "          element.innerHTML = '';\n",
              "          dataTable['output_type'] = 'display_data';\n",
              "          await google.colab.output.renderOutput(dataTable, element);\n",
              "          const docLink = document.createElement('div');\n",
              "          docLink.innerHTML = docLinkHtml;\n",
              "          element.appendChild(docLink);\n",
              "        }\n",
              "      </script>\n",
              "    </div>\n",
              "  </div>\n",
              "  "
            ]
          },
          "metadata": {},
          "execution_count": 112
        }
      ]
    },
    {
      "cell_type": "markdown",
      "source": [
        "## Exportar arquivos"
      ],
      "metadata": {
        "id": "Vc9oiiTDHzaa"
      }
    },
    {
      "cell_type": "code",
      "source": [
        "churn_merge.to_csv('/content/churn_merge.csv')\n",
        "df_churn.to_csv('/content/churn_clean.csv')\n",
        "df_interactions.to_csv('/content/commentInteractions_clean.csv')\n",
        "df_comments.to_csv('/content/comments_clean_anonimized_clean.csv')\n",
        "df_votes.to_csv('/content/votes_clean.csv')"
      ],
      "metadata": {
        "id": "ICNl9GWdH95n"
      },
      "execution_count": 113,
      "outputs": []
    }
  ]
}