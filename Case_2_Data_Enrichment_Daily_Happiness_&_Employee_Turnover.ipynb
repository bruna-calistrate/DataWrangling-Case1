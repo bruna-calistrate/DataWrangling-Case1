{
  "nbformat": 4,
  "nbformat_minor": 0,
  "metadata": {
    "colab": {
      "name": "Case 2 - Data Enrichment - Daily Happiness & Employee Turnover.ipynb",
      "provenance": [],
      "authorship_tag": "ABX9TyPnR/gnE3iKjwVwxXJHvday",
      "include_colab_link": true
    },
    "kernelspec": {
      "name": "python3",
      "display_name": "Python 3"
    },
    "language_info": {
      "name": "python"
    }
  },
  "cells": [
    {
      "cell_type": "markdown",
      "metadata": {
        "id": "view-in-github",
        "colab_type": "text"
      },
      "source": [
        "<a href=\"https://colab.research.google.com/github/bruna-calistrate/DataWrangling-DailyHappiness/blob/main/Case_2_Data_Enrichment_Daily_Happiness_%26_Employee_Turnover.ipynb\" target=\"_parent\"><img src=\"https://colab.research.google.com/assets/colab-badge.svg\" alt=\"Open In Colab\"/></a>"
      ]
    },
    {
      "cell_type": "markdown",
      "source": [
        "# Enriquecimento dos dados\n",
        "\n",
        "Após o tratamento realizado no primeiro case, vamos dar continuidade ao proesso de limpeza e estruturação do dataset que será utilizado no modelo preditivo. \n",
        "\n",
        "Aqui, iremos enriquecer os dados através de combinação, criação de dimensões, box-cox e discretização."
      ],
      "metadata": {
        "id": "qv49lzL_Md1l"
      }
    },
    {
      "cell_type": "markdown",
      "source": [
        "## Importar bibliotecas"
      ],
      "metadata": {
        "id": "-PSOD6FjPJrA"
      }
    },
    {
      "cell_type": "code",
      "execution_count": 1,
      "metadata": {
        "id": "vGCsMB_JMKy7"
      },
      "outputs": [],
      "source": [
        "import pandas as pd\n",
        "import numpy as np\n",
        "import datetime as dt\n",
        "import matplotlib.pyplot as plt\n",
        "import seaborn as sns \n",
        "from sklearn.preprocessing import PowerTransformer, KBinsDiscretizer"
      ]
    },
    {
      "cell_type": "markdown",
      "source": [
        "## Importar arquivos "
      ],
      "metadata": {
        "id": "1saCFj7DhR8t"
      }
    },
    {
      "cell_type": "markdown",
      "source": [
        "### **churn**\n",
        "\n",
        "Descrição do status e comportamento do funcionário, se continua na empresa, última participação na pesquisa, padrão de votação e comentários\n",
        "\n",
        "**Tamanho**: 25 colunas e 4032 linhas\n",
        "* **companyAlias**: código hash da empresa\n",
        "  * tipo object, sem valores nulos\n",
        "* **employee**: número do funcionário (1-999)\n",
        "  * tipo int, sem valores nulos\n",
        "* **stillExists**: informa se o funcionário ainda está na empresa (0-1)\n",
        "  * tipo int, sem valores nulos\n",
        "  * True: 1\n",
        "  * False: 0\n",
        "* **lastParticipationDate**: data da última participação na pesquisa\n",
        "  * tipo object, deve ser convertido para datetime, sem valores nulos\n",
        "* **vote.mean**: média de votos do funcionário (1-4)\n",
        "  * tipo float, sem valores nulos\n",
        "* **vote.mode**: moda dos votos do funcionário (1-4)\n",
        "  * tipo int, sem valores nulos\n",
        "* **vote.min**: menor nota atribuída pelo funcionário (1-4)\n",
        "  * tipo int, sem valores nulos\n",
        "* **vote.max**: maior nota atribuída pelo funcionário (2-4)\n",
        "  * tipo int, sem valores nulos\n",
        "* **vote.count**: quantidade de votos por funcionário (1-275)\n",
        "  * tipo int, sem valores nulos\n",
        "* **diffDaysVote.min**: menor diferença em dias entre a última participação e o voto (0-0)\n",
        "  * tipo int, sem valores nulos\n",
        "  * pouco representativo, pode ser excluído\n",
        "* **diffDaysVote.max**: máxima diferença em dias entre a última participação e o voto (0-572)\n",
        "  * tipo int, sem valores nulos\n",
        "* **diffDaysVote.median**: diferença mediana de dias entre a última participação e o voto (0-330.5)\n",
        "  * tipo float, sem valores nulos\n",
        "* **likes.mean**: média de likes nos comentários do funcionário (0-20.6)\n",
        "  * tipo float, sem valores nulos\n",
        "* **likes.min**: menor quantidade de likes nos comentários do funcionário (0-12)\n",
        "  * tipo float, sem valores nulos\n",
        "* **likes.max**: maior quantidade de lilkes nos comentários do funcionário (0-45)\n",
        "  * tipo float, sem valores nulos\n",
        "* **dislikes.mean**: média de dislikes nos comentários do funcionário (0-5.7)\n",
        "  * tipo float, sem valores nulos\n",
        "* **dislikes.min**: menor quantidade de dislikes nos comentários do funcionário (0-3)\n",
        "  * tipo float, sem valores nulos\n",
        "* **dislikes.max**: maior quantidade de dislikes nos comentários do funcionário (0-18)\n",
        "  * tipo float, sem valores nulos\n",
        "* **carac.mean**: média de caracteres nos comentários do funcionário (0.8-283)\n",
        "  * tipo float, sem valores nulos\n",
        "* **carac.min**: menor quantidade de caracteres nos comentários do funcionário (0-146)\n",
        "  * tipo float, sem valores nulos\n",
        "* **carac.max**: maior quantidade de caracteres nos comentários do funcionário (1-1770)\n",
        "  * tipo float, sem valores nulos\n",
        "* **diffDaysComment.min**: menor diferença em dias entre a última participação e o comentário (0-210)\n",
        "  * tipo float, sem valores nulos\n",
        "* **diffDaysComment.max**: maior diferença em dias entre a última participação e o  comentário (0-473)\n",
        "  * tipo float, sem valores nulos\n",
        "* **diffDaysComment.median**: diferença mediana em dias entre a última participação e o comentário (0-352)\n",
        "  * tipo float, sem valores nulos\n",
        "* **commentId.count**: quantidade de comentários por funcionário (0-59)\n",
        "  * tipo float, sem valores nulos"
      ],
      "metadata": {
        "id": "osKPj625Mx7b"
      }
    },
    {
      "cell_type": "code",
      "source": [
        "pd.options.display.max_rows = 999\n",
        "pd.options.display.max_columns = 999"
      ],
      "metadata": {
        "id": "tHd-Auj3CL6A"
      },
      "execution_count": 2,
      "outputs": []
    },
    {
      "cell_type": "code",
      "source": [
        "churn = pd.read_csv('https://raw.githubusercontent.com/bruna-calistrate/DataWrangling-DailyHappiness/main/clean-data/churn_merge.csv').iloc[:,1:]\n",
        "\n",
        "churn.head(3)"
      ],
      "metadata": {
        "colab": {
          "base_uri": "https://localhost:8080/",
          "height": 207
        },
        "id": "RJrg1zUDPVdy",
        "outputId": "dc269883-7858-4945-9b7f-8acd4188637b"
      },
      "execution_count": 3,
      "outputs": [
        {
          "output_type": "execute_result",
          "data": {
            "text/plain": [
              "               companyAlias  employee  stillExists lastParticipationDate  \\\n",
              "0  5370af43e4b0cff95558c12a        18            1   2017-03-12 01:00:00   \n",
              "1  5370af43e4b0cff95558c12a        20            1   2016-12-16 01:00:00   \n",
              "2  5370af43e4b0cff95558c12a        21            1   2016-12-27 01:00:00   \n",
              "\n",
              "   vote.mean  vote.mode  vote.min  vote.max  vote.count  diffDaysVote.min  \\\n",
              "0   3.192118          3         1         4         203                 0   \n",
              "1   3.666667          4         2         4          51                 0   \n",
              "2   3.680556          4         3         4          72                 0   \n",
              "\n",
              "   diffDaysVote.max  diffDaysVote.median  likes.mean  likes.min  likes.max  \\\n",
              "0               384                281.0    5.480000        1.0       18.0   \n",
              "1               298                246.0    1.400000        0.0        3.0   \n",
              "2               309                200.5    3.416667        0.0        8.0   \n",
              "\n",
              "   dislikes.mean  dislikes.min  dislikes.max  carac.mean  carac.min  \\\n",
              "0       0.580000           0.0           3.0       51.24       14.0   \n",
              "1       0.200000           0.0           1.0        8.20        0.0   \n",
              "2       0.333333           0.0           2.0       53.00        8.0   \n",
              "\n",
              "   carac.max  diffDaysComment.min  diffDaysComment.max  \\\n",
              "0      139.0                 37.0                382.0   \n",
              "1       30.0                 16.0                238.0   \n",
              "2      168.0                  5.0                308.0   \n",
              "\n",
              "   diffDaysComment.median  commentId.count  \n",
              "0                   326.0             50.0  \n",
              "1                    27.0              5.0  \n",
              "2                   268.0             12.0  "
            ],
            "text/html": [
              "\n",
              "  <div id=\"df-cd6c1a6b-497f-49d2-8057-0a92958fa4c3\">\n",
              "    <div class=\"colab-df-container\">\n",
              "      <div>\n",
              "<style scoped>\n",
              "    .dataframe tbody tr th:only-of-type {\n",
              "        vertical-align: middle;\n",
              "    }\n",
              "\n",
              "    .dataframe tbody tr th {\n",
              "        vertical-align: top;\n",
              "    }\n",
              "\n",
              "    .dataframe thead th {\n",
              "        text-align: right;\n",
              "    }\n",
              "</style>\n",
              "<table border=\"1\" class=\"dataframe\">\n",
              "  <thead>\n",
              "    <tr style=\"text-align: right;\">\n",
              "      <th></th>\n",
              "      <th>companyAlias</th>\n",
              "      <th>employee</th>\n",
              "      <th>stillExists</th>\n",
              "      <th>lastParticipationDate</th>\n",
              "      <th>vote.mean</th>\n",
              "      <th>vote.mode</th>\n",
              "      <th>vote.min</th>\n",
              "      <th>vote.max</th>\n",
              "      <th>vote.count</th>\n",
              "      <th>diffDaysVote.min</th>\n",
              "      <th>diffDaysVote.max</th>\n",
              "      <th>diffDaysVote.median</th>\n",
              "      <th>likes.mean</th>\n",
              "      <th>likes.min</th>\n",
              "      <th>likes.max</th>\n",
              "      <th>dislikes.mean</th>\n",
              "      <th>dislikes.min</th>\n",
              "      <th>dislikes.max</th>\n",
              "      <th>carac.mean</th>\n",
              "      <th>carac.min</th>\n",
              "      <th>carac.max</th>\n",
              "      <th>diffDaysComment.min</th>\n",
              "      <th>diffDaysComment.max</th>\n",
              "      <th>diffDaysComment.median</th>\n",
              "      <th>commentId.count</th>\n",
              "    </tr>\n",
              "  </thead>\n",
              "  <tbody>\n",
              "    <tr>\n",
              "      <th>0</th>\n",
              "      <td>5370af43e4b0cff95558c12a</td>\n",
              "      <td>18</td>\n",
              "      <td>1</td>\n",
              "      <td>2017-03-12 01:00:00</td>\n",
              "      <td>3.192118</td>\n",
              "      <td>3</td>\n",
              "      <td>1</td>\n",
              "      <td>4</td>\n",
              "      <td>203</td>\n",
              "      <td>0</td>\n",
              "      <td>384</td>\n",
              "      <td>281.0</td>\n",
              "      <td>5.480000</td>\n",
              "      <td>1.0</td>\n",
              "      <td>18.0</td>\n",
              "      <td>0.580000</td>\n",
              "      <td>0.0</td>\n",
              "      <td>3.0</td>\n",
              "      <td>51.24</td>\n",
              "      <td>14.0</td>\n",
              "      <td>139.0</td>\n",
              "      <td>37.0</td>\n",
              "      <td>382.0</td>\n",
              "      <td>326.0</td>\n",
              "      <td>50.0</td>\n",
              "    </tr>\n",
              "    <tr>\n",
              "      <th>1</th>\n",
              "      <td>5370af43e4b0cff95558c12a</td>\n",
              "      <td>20</td>\n",
              "      <td>1</td>\n",
              "      <td>2016-12-16 01:00:00</td>\n",
              "      <td>3.666667</td>\n",
              "      <td>4</td>\n",
              "      <td>2</td>\n",
              "      <td>4</td>\n",
              "      <td>51</td>\n",
              "      <td>0</td>\n",
              "      <td>298</td>\n",
              "      <td>246.0</td>\n",
              "      <td>1.400000</td>\n",
              "      <td>0.0</td>\n",
              "      <td>3.0</td>\n",
              "      <td>0.200000</td>\n",
              "      <td>0.0</td>\n",
              "      <td>1.0</td>\n",
              "      <td>8.20</td>\n",
              "      <td>0.0</td>\n",
              "      <td>30.0</td>\n",
              "      <td>16.0</td>\n",
              "      <td>238.0</td>\n",
              "      <td>27.0</td>\n",
              "      <td>5.0</td>\n",
              "    </tr>\n",
              "    <tr>\n",
              "      <th>2</th>\n",
              "      <td>5370af43e4b0cff95558c12a</td>\n",
              "      <td>21</td>\n",
              "      <td>1</td>\n",
              "      <td>2016-12-27 01:00:00</td>\n",
              "      <td>3.680556</td>\n",
              "      <td>4</td>\n",
              "      <td>3</td>\n",
              "      <td>4</td>\n",
              "      <td>72</td>\n",
              "      <td>0</td>\n",
              "      <td>309</td>\n",
              "      <td>200.5</td>\n",
              "      <td>3.416667</td>\n",
              "      <td>0.0</td>\n",
              "      <td>8.0</td>\n",
              "      <td>0.333333</td>\n",
              "      <td>0.0</td>\n",
              "      <td>2.0</td>\n",
              "      <td>53.00</td>\n",
              "      <td>8.0</td>\n",
              "      <td>168.0</td>\n",
              "      <td>5.0</td>\n",
              "      <td>308.0</td>\n",
              "      <td>268.0</td>\n",
              "      <td>12.0</td>\n",
              "    </tr>\n",
              "  </tbody>\n",
              "</table>\n",
              "</div>\n",
              "      <button class=\"colab-df-convert\" onclick=\"convertToInteractive('df-cd6c1a6b-497f-49d2-8057-0a92958fa4c3')\"\n",
              "              title=\"Convert this dataframe to an interactive table.\"\n",
              "              style=\"display:none;\">\n",
              "        \n",
              "  <svg xmlns=\"http://www.w3.org/2000/svg\" height=\"24px\"viewBox=\"0 0 24 24\"\n",
              "       width=\"24px\">\n",
              "    <path d=\"M0 0h24v24H0V0z\" fill=\"none\"/>\n",
              "    <path d=\"M18.56 5.44l.94 2.06.94-2.06 2.06-.94-2.06-.94-.94-2.06-.94 2.06-2.06.94zm-11 1L8.5 8.5l.94-2.06 2.06-.94-2.06-.94L8.5 2.5l-.94 2.06-2.06.94zm10 10l.94 2.06.94-2.06 2.06-.94-2.06-.94-.94-2.06-.94 2.06-2.06.94z\"/><path d=\"M17.41 7.96l-1.37-1.37c-.4-.4-.92-.59-1.43-.59-.52 0-1.04.2-1.43.59L10.3 9.45l-7.72 7.72c-.78.78-.78 2.05 0 2.83L4 21.41c.39.39.9.59 1.41.59.51 0 1.02-.2 1.41-.59l7.78-7.78 2.81-2.81c.8-.78.8-2.07 0-2.86zM5.41 20L4 18.59l7.72-7.72 1.47 1.35L5.41 20z\"/>\n",
              "  </svg>\n",
              "      </button>\n",
              "      \n",
              "  <style>\n",
              "    .colab-df-container {\n",
              "      display:flex;\n",
              "      flex-wrap:wrap;\n",
              "      gap: 12px;\n",
              "    }\n",
              "\n",
              "    .colab-df-convert {\n",
              "      background-color: #E8F0FE;\n",
              "      border: none;\n",
              "      border-radius: 50%;\n",
              "      cursor: pointer;\n",
              "      display: none;\n",
              "      fill: #1967D2;\n",
              "      height: 32px;\n",
              "      padding: 0 0 0 0;\n",
              "      width: 32px;\n",
              "    }\n",
              "\n",
              "    .colab-df-convert:hover {\n",
              "      background-color: #E2EBFA;\n",
              "      box-shadow: 0px 1px 2px rgba(60, 64, 67, 0.3), 0px 1px 3px 1px rgba(60, 64, 67, 0.15);\n",
              "      fill: #174EA6;\n",
              "    }\n",
              "\n",
              "    [theme=dark] .colab-df-convert {\n",
              "      background-color: #3B4455;\n",
              "      fill: #D2E3FC;\n",
              "    }\n",
              "\n",
              "    [theme=dark] .colab-df-convert:hover {\n",
              "      background-color: #434B5C;\n",
              "      box-shadow: 0px 1px 3px 1px rgba(0, 0, 0, 0.15);\n",
              "      filter: drop-shadow(0px 1px 2px rgba(0, 0, 0, 0.3));\n",
              "      fill: #FFFFFF;\n",
              "    }\n",
              "  </style>\n",
              "\n",
              "      <script>\n",
              "        const buttonEl =\n",
              "          document.querySelector('#df-cd6c1a6b-497f-49d2-8057-0a92958fa4c3 button.colab-df-convert');\n",
              "        buttonEl.style.display =\n",
              "          google.colab.kernel.accessAllowed ? 'block' : 'none';\n",
              "\n",
              "        async function convertToInteractive(key) {\n",
              "          const element = document.querySelector('#df-cd6c1a6b-497f-49d2-8057-0a92958fa4c3');\n",
              "          const dataTable =\n",
              "            await google.colab.kernel.invokeFunction('convertToInteractive',\n",
              "                                                     [key], {});\n",
              "          if (!dataTable) return;\n",
              "\n",
              "          const docLinkHtml = 'Like what you see? Visit the ' +\n",
              "            '<a target=\"_blank\" href=https://colab.research.google.com/notebooks/data_table.ipynb>data table notebook</a>'\n",
              "            + ' to learn more about interactive tables.';\n",
              "          element.innerHTML = '';\n",
              "          dataTable['output_type'] = 'display_data';\n",
              "          await google.colab.output.renderOutput(dataTable, element);\n",
              "          const docLink = document.createElement('div');\n",
              "          docLink.innerHTML = docLinkHtml;\n",
              "          element.appendChild(docLink);\n",
              "        }\n",
              "      </script>\n",
              "    </div>\n",
              "  </div>\n",
              "  "
            ]
          },
          "metadata": {},
          "execution_count": 3
        }
      ]
    },
    {
      "cell_type": "code",
      "source": [
        "churn.info()"
      ],
      "metadata": {
        "colab": {
          "base_uri": "https://localhost:8080/"
        },
        "id": "NX0-8HSJX8Z8",
        "outputId": "379589ae-247b-4212-db2d-92532c2c017f"
      },
      "execution_count": 4,
      "outputs": [
        {
          "output_type": "stream",
          "name": "stdout",
          "text": [
            "<class 'pandas.core.frame.DataFrame'>\n",
            "RangeIndex: 4032 entries, 0 to 4031\n",
            "Data columns (total 25 columns):\n",
            " #   Column                  Non-Null Count  Dtype  \n",
            "---  ------                  --------------  -----  \n",
            " 0   companyAlias            4032 non-null   object \n",
            " 1   employee                4032 non-null   int64  \n",
            " 2   stillExists             4032 non-null   int64  \n",
            " 3   lastParticipationDate   4032 non-null   object \n",
            " 4   vote.mean               4032 non-null   float64\n",
            " 5   vote.mode               4032 non-null   int64  \n",
            " 6   vote.min                4032 non-null   int64  \n",
            " 7   vote.max                4032 non-null   int64  \n",
            " 8   vote.count              4032 non-null   int64  \n",
            " 9   diffDaysVote.min        4032 non-null   int64  \n",
            " 10  diffDaysVote.max        4032 non-null   int64  \n",
            " 11  diffDaysVote.median     4032 non-null   float64\n",
            " 12  likes.mean              4032 non-null   float64\n",
            " 13  likes.min               4032 non-null   float64\n",
            " 14  likes.max               4032 non-null   float64\n",
            " 15  dislikes.mean           4032 non-null   float64\n",
            " 16  dislikes.min            4032 non-null   float64\n",
            " 17  dislikes.max            4032 non-null   float64\n",
            " 18  carac.mean              4032 non-null   float64\n",
            " 19  carac.min               4032 non-null   float64\n",
            " 20  carac.max               4032 non-null   float64\n",
            " 21  diffDaysComment.min     4032 non-null   float64\n",
            " 22  diffDaysComment.max     4032 non-null   float64\n",
            " 23  diffDaysComment.median  4032 non-null   float64\n",
            " 24  commentId.count         4032 non-null   float64\n",
            "dtypes: float64(15), int64(8), object(2)\n",
            "memory usage: 787.6+ KB\n"
          ]
        }
      ]
    },
    {
      "cell_type": "code",
      "source": [
        "churn.describe().T"
      ],
      "metadata": {
        "colab": {
          "base_uri": "https://localhost:8080/",
          "height": 771
        },
        "id": "1bPzPL1ZYCR1",
        "outputId": "83061820-00a8-4142-c647-d56c3a7a5b04"
      },
      "execution_count": 5,
      "outputs": [
        {
          "output_type": "execute_result",
          "data": {
            "text/plain": [
              "                         count        mean         std   min        25%  \\\n",
              "employee                4032.0  192.212054  205.965350  1.00  51.000000   \n",
              "stillExists             4032.0    0.860119    0.346906  0.00   1.000000   \n",
              "vote.mean               4032.0    2.960151    0.633997  1.00   2.666667   \n",
              "vote.mode               4032.0    2.986607    0.825252  1.00   3.000000   \n",
              "vote.min                4032.0    1.911706    0.948771  1.00   1.000000   \n",
              "vote.max                4032.0    3.716518    0.510612  2.00   3.000000   \n",
              "vote.count              4032.0   45.905506   57.910857  1.00   6.000000   \n",
              "diffDaysVote.min        4032.0    0.000000    0.000000  0.00   0.000000   \n",
              "diffDaysVote.max        4032.0  136.478671  133.881934  0.00  21.000000   \n",
              "diffDaysVote.median     4032.0   73.406746   73.931964  0.00  10.500000   \n",
              "likes.mean              4032.0    6.476628    4.329118  0.00   3.500000   \n",
              "likes.min               4032.0    2.190456    2.579601  0.00   0.000000   \n",
              "likes.max               4032.0   14.185855    9.778094  0.00   7.000000   \n",
              "dislikes.mean           4032.0    1.091546    1.067009  0.00   0.285714   \n",
              "dislikes.min            4032.0    0.192559    0.464077  0.00   0.000000   \n",
              "dislikes.max            4032.0    4.123376    3.986520  0.00   1.000000   \n",
              "carac.mean              4032.0   86.916058   53.824296  0.75  51.247500   \n",
              "carac.min               4032.0   29.881101   26.770394  0.00  12.000000   \n",
              "carac.max               4032.0  238.697932  219.904040  1.00  97.000000   \n",
              "diffDaysComment.min     4032.0   27.003472   47.030918  0.00   2.000000   \n",
              "diffDaysComment.max     4032.0  137.221478   98.739361  0.00  77.000000   \n",
              "diffDaysComment.median  4032.0   94.213790   74.009329  0.00  47.000000   \n",
              "commentId.count         4032.0    7.749256   12.938144  0.00   0.000000   \n",
              "\n",
              "                               50%         75%          max  \n",
              "employee                131.000000  243.000000   999.000000  \n",
              "stillExists               1.000000    1.000000     1.000000  \n",
              "vote.mean                 3.000000    3.333333     4.000000  \n",
              "vote.mode                 3.000000    4.000000     4.000000  \n",
              "vote.min                  2.000000    3.000000     4.000000  \n",
              "vote.max                  4.000000    4.000000     4.000000  \n",
              "vote.count               20.000000   65.000000   275.000000  \n",
              "diffDaysVote.min          0.000000    0.000000     0.000000  \n",
              "diffDaysVote.max        107.500000  208.000000   572.000000  \n",
              "diffDaysVote.median      55.000000  113.625000   330.500000  \n",
              "likes.mean                6.631448    6.916114    20.648649  \n",
              "likes.min                 2.344741    2.344741    12.000000  \n",
              "likes.max                14.630043   15.000000    45.000000  \n",
              "dislikes.mean             1.169380    1.169380     5.666667  \n",
              "dislikes.min              0.000000    0.247118     3.000000  \n",
              "dislikes.max              4.383285    4.383285    18.000000  \n",
              "carac.mean               89.613631   89.613631   283.000000  \n",
              "carac.min                31.292147   31.292147   146.000000  \n",
              "carac.max               252.243876  252.243876  1770.000000  \n",
              "diffDaysComment.min       9.000000   21.000000   210.000000  \n",
              "diffDaysComment.max     129.000000  165.000000   473.000000  \n",
              "diffDaysComment.median   84.500000  114.500000   352.000000  \n",
              "commentId.count           2.000000    9.000000    59.000000  "
            ],
            "text/html": [
              "\n",
              "  <div id=\"df-667c1c8b-3d30-49b5-937c-4827c3a81ea2\">\n",
              "    <div class=\"colab-df-container\">\n",
              "      <div>\n",
              "<style scoped>\n",
              "    .dataframe tbody tr th:only-of-type {\n",
              "        vertical-align: middle;\n",
              "    }\n",
              "\n",
              "    .dataframe tbody tr th {\n",
              "        vertical-align: top;\n",
              "    }\n",
              "\n",
              "    .dataframe thead th {\n",
              "        text-align: right;\n",
              "    }\n",
              "</style>\n",
              "<table border=\"1\" class=\"dataframe\">\n",
              "  <thead>\n",
              "    <tr style=\"text-align: right;\">\n",
              "      <th></th>\n",
              "      <th>count</th>\n",
              "      <th>mean</th>\n",
              "      <th>std</th>\n",
              "      <th>min</th>\n",
              "      <th>25%</th>\n",
              "      <th>50%</th>\n",
              "      <th>75%</th>\n",
              "      <th>max</th>\n",
              "    </tr>\n",
              "  </thead>\n",
              "  <tbody>\n",
              "    <tr>\n",
              "      <th>employee</th>\n",
              "      <td>4032.0</td>\n",
              "      <td>192.212054</td>\n",
              "      <td>205.965350</td>\n",
              "      <td>1.00</td>\n",
              "      <td>51.000000</td>\n",
              "      <td>131.000000</td>\n",
              "      <td>243.000000</td>\n",
              "      <td>999.000000</td>\n",
              "    </tr>\n",
              "    <tr>\n",
              "      <th>stillExists</th>\n",
              "      <td>4032.0</td>\n",
              "      <td>0.860119</td>\n",
              "      <td>0.346906</td>\n",
              "      <td>0.00</td>\n",
              "      <td>1.000000</td>\n",
              "      <td>1.000000</td>\n",
              "      <td>1.000000</td>\n",
              "      <td>1.000000</td>\n",
              "    </tr>\n",
              "    <tr>\n",
              "      <th>vote.mean</th>\n",
              "      <td>4032.0</td>\n",
              "      <td>2.960151</td>\n",
              "      <td>0.633997</td>\n",
              "      <td>1.00</td>\n",
              "      <td>2.666667</td>\n",
              "      <td>3.000000</td>\n",
              "      <td>3.333333</td>\n",
              "      <td>4.000000</td>\n",
              "    </tr>\n",
              "    <tr>\n",
              "      <th>vote.mode</th>\n",
              "      <td>4032.0</td>\n",
              "      <td>2.986607</td>\n",
              "      <td>0.825252</td>\n",
              "      <td>1.00</td>\n",
              "      <td>3.000000</td>\n",
              "      <td>3.000000</td>\n",
              "      <td>4.000000</td>\n",
              "      <td>4.000000</td>\n",
              "    </tr>\n",
              "    <tr>\n",
              "      <th>vote.min</th>\n",
              "      <td>4032.0</td>\n",
              "      <td>1.911706</td>\n",
              "      <td>0.948771</td>\n",
              "      <td>1.00</td>\n",
              "      <td>1.000000</td>\n",
              "      <td>2.000000</td>\n",
              "      <td>3.000000</td>\n",
              "      <td>4.000000</td>\n",
              "    </tr>\n",
              "    <tr>\n",
              "      <th>vote.max</th>\n",
              "      <td>4032.0</td>\n",
              "      <td>3.716518</td>\n",
              "      <td>0.510612</td>\n",
              "      <td>2.00</td>\n",
              "      <td>3.000000</td>\n",
              "      <td>4.000000</td>\n",
              "      <td>4.000000</td>\n",
              "      <td>4.000000</td>\n",
              "    </tr>\n",
              "    <tr>\n",
              "      <th>vote.count</th>\n",
              "      <td>4032.0</td>\n",
              "      <td>45.905506</td>\n",
              "      <td>57.910857</td>\n",
              "      <td>1.00</td>\n",
              "      <td>6.000000</td>\n",
              "      <td>20.000000</td>\n",
              "      <td>65.000000</td>\n",
              "      <td>275.000000</td>\n",
              "    </tr>\n",
              "    <tr>\n",
              "      <th>diffDaysVote.min</th>\n",
              "      <td>4032.0</td>\n",
              "      <td>0.000000</td>\n",
              "      <td>0.000000</td>\n",
              "      <td>0.00</td>\n",
              "      <td>0.000000</td>\n",
              "      <td>0.000000</td>\n",
              "      <td>0.000000</td>\n",
              "      <td>0.000000</td>\n",
              "    </tr>\n",
              "    <tr>\n",
              "      <th>diffDaysVote.max</th>\n",
              "      <td>4032.0</td>\n",
              "      <td>136.478671</td>\n",
              "      <td>133.881934</td>\n",
              "      <td>0.00</td>\n",
              "      <td>21.000000</td>\n",
              "      <td>107.500000</td>\n",
              "      <td>208.000000</td>\n",
              "      <td>572.000000</td>\n",
              "    </tr>\n",
              "    <tr>\n",
              "      <th>diffDaysVote.median</th>\n",
              "      <td>4032.0</td>\n",
              "      <td>73.406746</td>\n",
              "      <td>73.931964</td>\n",
              "      <td>0.00</td>\n",
              "      <td>10.500000</td>\n",
              "      <td>55.000000</td>\n",
              "      <td>113.625000</td>\n",
              "      <td>330.500000</td>\n",
              "    </tr>\n",
              "    <tr>\n",
              "      <th>likes.mean</th>\n",
              "      <td>4032.0</td>\n",
              "      <td>6.476628</td>\n",
              "      <td>4.329118</td>\n",
              "      <td>0.00</td>\n",
              "      <td>3.500000</td>\n",
              "      <td>6.631448</td>\n",
              "      <td>6.916114</td>\n",
              "      <td>20.648649</td>\n",
              "    </tr>\n",
              "    <tr>\n",
              "      <th>likes.min</th>\n",
              "      <td>4032.0</td>\n",
              "      <td>2.190456</td>\n",
              "      <td>2.579601</td>\n",
              "      <td>0.00</td>\n",
              "      <td>0.000000</td>\n",
              "      <td>2.344741</td>\n",
              "      <td>2.344741</td>\n",
              "      <td>12.000000</td>\n",
              "    </tr>\n",
              "    <tr>\n",
              "      <th>likes.max</th>\n",
              "      <td>4032.0</td>\n",
              "      <td>14.185855</td>\n",
              "      <td>9.778094</td>\n",
              "      <td>0.00</td>\n",
              "      <td>7.000000</td>\n",
              "      <td>14.630043</td>\n",
              "      <td>15.000000</td>\n",
              "      <td>45.000000</td>\n",
              "    </tr>\n",
              "    <tr>\n",
              "      <th>dislikes.mean</th>\n",
              "      <td>4032.0</td>\n",
              "      <td>1.091546</td>\n",
              "      <td>1.067009</td>\n",
              "      <td>0.00</td>\n",
              "      <td>0.285714</td>\n",
              "      <td>1.169380</td>\n",
              "      <td>1.169380</td>\n",
              "      <td>5.666667</td>\n",
              "    </tr>\n",
              "    <tr>\n",
              "      <th>dislikes.min</th>\n",
              "      <td>4032.0</td>\n",
              "      <td>0.192559</td>\n",
              "      <td>0.464077</td>\n",
              "      <td>0.00</td>\n",
              "      <td>0.000000</td>\n",
              "      <td>0.000000</td>\n",
              "      <td>0.247118</td>\n",
              "      <td>3.000000</td>\n",
              "    </tr>\n",
              "    <tr>\n",
              "      <th>dislikes.max</th>\n",
              "      <td>4032.0</td>\n",
              "      <td>4.123376</td>\n",
              "      <td>3.986520</td>\n",
              "      <td>0.00</td>\n",
              "      <td>1.000000</td>\n",
              "      <td>4.383285</td>\n",
              "      <td>4.383285</td>\n",
              "      <td>18.000000</td>\n",
              "    </tr>\n",
              "    <tr>\n",
              "      <th>carac.mean</th>\n",
              "      <td>4032.0</td>\n",
              "      <td>86.916058</td>\n",
              "      <td>53.824296</td>\n",
              "      <td>0.75</td>\n",
              "      <td>51.247500</td>\n",
              "      <td>89.613631</td>\n",
              "      <td>89.613631</td>\n",
              "      <td>283.000000</td>\n",
              "    </tr>\n",
              "    <tr>\n",
              "      <th>carac.min</th>\n",
              "      <td>4032.0</td>\n",
              "      <td>29.881101</td>\n",
              "      <td>26.770394</td>\n",
              "      <td>0.00</td>\n",
              "      <td>12.000000</td>\n",
              "      <td>31.292147</td>\n",
              "      <td>31.292147</td>\n",
              "      <td>146.000000</td>\n",
              "    </tr>\n",
              "    <tr>\n",
              "      <th>carac.max</th>\n",
              "      <td>4032.0</td>\n",
              "      <td>238.697932</td>\n",
              "      <td>219.904040</td>\n",
              "      <td>1.00</td>\n",
              "      <td>97.000000</td>\n",
              "      <td>252.243876</td>\n",
              "      <td>252.243876</td>\n",
              "      <td>1770.000000</td>\n",
              "    </tr>\n",
              "    <tr>\n",
              "      <th>diffDaysComment.min</th>\n",
              "      <td>4032.0</td>\n",
              "      <td>27.003472</td>\n",
              "      <td>47.030918</td>\n",
              "      <td>0.00</td>\n",
              "      <td>2.000000</td>\n",
              "      <td>9.000000</td>\n",
              "      <td>21.000000</td>\n",
              "      <td>210.000000</td>\n",
              "    </tr>\n",
              "    <tr>\n",
              "      <th>diffDaysComment.max</th>\n",
              "      <td>4032.0</td>\n",
              "      <td>137.221478</td>\n",
              "      <td>98.739361</td>\n",
              "      <td>0.00</td>\n",
              "      <td>77.000000</td>\n",
              "      <td>129.000000</td>\n",
              "      <td>165.000000</td>\n",
              "      <td>473.000000</td>\n",
              "    </tr>\n",
              "    <tr>\n",
              "      <th>diffDaysComment.median</th>\n",
              "      <td>4032.0</td>\n",
              "      <td>94.213790</td>\n",
              "      <td>74.009329</td>\n",
              "      <td>0.00</td>\n",
              "      <td>47.000000</td>\n",
              "      <td>84.500000</td>\n",
              "      <td>114.500000</td>\n",
              "      <td>352.000000</td>\n",
              "    </tr>\n",
              "    <tr>\n",
              "      <th>commentId.count</th>\n",
              "      <td>4032.0</td>\n",
              "      <td>7.749256</td>\n",
              "      <td>12.938144</td>\n",
              "      <td>0.00</td>\n",
              "      <td>0.000000</td>\n",
              "      <td>2.000000</td>\n",
              "      <td>9.000000</td>\n",
              "      <td>59.000000</td>\n",
              "    </tr>\n",
              "  </tbody>\n",
              "</table>\n",
              "</div>\n",
              "      <button class=\"colab-df-convert\" onclick=\"convertToInteractive('df-667c1c8b-3d30-49b5-937c-4827c3a81ea2')\"\n",
              "              title=\"Convert this dataframe to an interactive table.\"\n",
              "              style=\"display:none;\">\n",
              "        \n",
              "  <svg xmlns=\"http://www.w3.org/2000/svg\" height=\"24px\"viewBox=\"0 0 24 24\"\n",
              "       width=\"24px\">\n",
              "    <path d=\"M0 0h24v24H0V0z\" fill=\"none\"/>\n",
              "    <path d=\"M18.56 5.44l.94 2.06.94-2.06 2.06-.94-2.06-.94-.94-2.06-.94 2.06-2.06.94zm-11 1L8.5 8.5l.94-2.06 2.06-.94-2.06-.94L8.5 2.5l-.94 2.06-2.06.94zm10 10l.94 2.06.94-2.06 2.06-.94-2.06-.94-.94-2.06-.94 2.06-2.06.94z\"/><path d=\"M17.41 7.96l-1.37-1.37c-.4-.4-.92-.59-1.43-.59-.52 0-1.04.2-1.43.59L10.3 9.45l-7.72 7.72c-.78.78-.78 2.05 0 2.83L4 21.41c.39.39.9.59 1.41.59.51 0 1.02-.2 1.41-.59l7.78-7.78 2.81-2.81c.8-.78.8-2.07 0-2.86zM5.41 20L4 18.59l7.72-7.72 1.47 1.35L5.41 20z\"/>\n",
              "  </svg>\n",
              "      </button>\n",
              "      \n",
              "  <style>\n",
              "    .colab-df-container {\n",
              "      display:flex;\n",
              "      flex-wrap:wrap;\n",
              "      gap: 12px;\n",
              "    }\n",
              "\n",
              "    .colab-df-convert {\n",
              "      background-color: #E8F0FE;\n",
              "      border: none;\n",
              "      border-radius: 50%;\n",
              "      cursor: pointer;\n",
              "      display: none;\n",
              "      fill: #1967D2;\n",
              "      height: 32px;\n",
              "      padding: 0 0 0 0;\n",
              "      width: 32px;\n",
              "    }\n",
              "\n",
              "    .colab-df-convert:hover {\n",
              "      background-color: #E2EBFA;\n",
              "      box-shadow: 0px 1px 2px rgba(60, 64, 67, 0.3), 0px 1px 3px 1px rgba(60, 64, 67, 0.15);\n",
              "      fill: #174EA6;\n",
              "    }\n",
              "\n",
              "    [theme=dark] .colab-df-convert {\n",
              "      background-color: #3B4455;\n",
              "      fill: #D2E3FC;\n",
              "    }\n",
              "\n",
              "    [theme=dark] .colab-df-convert:hover {\n",
              "      background-color: #434B5C;\n",
              "      box-shadow: 0px 1px 3px 1px rgba(0, 0, 0, 0.15);\n",
              "      filter: drop-shadow(0px 1px 2px rgba(0, 0, 0, 0.3));\n",
              "      fill: #FFFFFF;\n",
              "    }\n",
              "  </style>\n",
              "\n",
              "      <script>\n",
              "        const buttonEl =\n",
              "          document.querySelector('#df-667c1c8b-3d30-49b5-937c-4827c3a81ea2 button.colab-df-convert');\n",
              "        buttonEl.style.display =\n",
              "          google.colab.kernel.accessAllowed ? 'block' : 'none';\n",
              "\n",
              "        async function convertToInteractive(key) {\n",
              "          const element = document.querySelector('#df-667c1c8b-3d30-49b5-937c-4827c3a81ea2');\n",
              "          const dataTable =\n",
              "            await google.colab.kernel.invokeFunction('convertToInteractive',\n",
              "                                                     [key], {});\n",
              "          if (!dataTable) return;\n",
              "\n",
              "          const docLinkHtml = 'Like what you see? Visit the ' +\n",
              "            '<a target=\"_blank\" href=https://colab.research.google.com/notebooks/data_table.ipynb>data table notebook</a>'\n",
              "            + ' to learn more about interactive tables.';\n",
              "          element.innerHTML = '';\n",
              "          dataTable['output_type'] = 'display_data';\n",
              "          await google.colab.output.renderOutput(dataTable, element);\n",
              "          const docLink = document.createElement('div');\n",
              "          docLink.innerHTML = docLinkHtml;\n",
              "          element.appendChild(docLink);\n",
              "        }\n",
              "      </script>\n",
              "    </div>\n",
              "  </div>\n",
              "  "
            ]
          },
          "metadata": {},
          "execution_count": 5
        }
      ]
    },
    {
      "cell_type": "markdown",
      "source": [
        "### **churn_plus** \n",
        "Informações enriquecidas com gênero dos funcionários e tipo de empresa\n",
        "\n",
        "**Tamanho** - 4 colunas e 4064 linhas\n",
        "* **employee**: número do funcionário (1-999)\n",
        "  * tipo int, sem valores nulos\n",
        "* **companyAlias**: código hash da empresa\n",
        "  * tipo object, sem valores nulos\n",
        "* **companyType**: tipo de empresa\n",
        "  * tipo object, sem valores nulos\n",
        "* **gender**: gênero do funcionário (Female, Male)\n",
        "  * tipo object, sem valores nulos\n"
      ],
      "metadata": {
        "id": "wpqjRUmYWj0B"
      }
    },
    {
      "cell_type": "code",
      "source": [
        "churn_plus = pd.read_csv('https://raw.githubusercontent.com/bruna-calistrate/DataWrangling-DailyHappiness/main/clean-data/df_churn_enriq.csv',\n",
        "                         usecols=['employee', \n",
        "                                  'companyAlias',\n",
        "                                  'gender', \n",
        "                                  'companyType'])\n",
        "churn_plus.head(3)"
      ],
      "metadata": {
        "colab": {
          "base_uri": "https://localhost:8080/",
          "height": 143
        },
        "id": "5o_NeAVTWnWe",
        "outputId": "50def382-4779-4e09-fd36-1c4d1d019103"
      },
      "execution_count": 6,
      "outputs": [
        {
          "output_type": "execute_result",
          "data": {
            "text/plain": [
              "   employee              companyAlias companyType  gender\n",
              "0       512  56aec740f1ef260003e307d6     Product    Male\n",
              "1         2  56aec740f1ef260003e307d6     Product    Male\n",
              "2       487  56aec740f1ef260003e307d6     Product  Female"
            ],
            "text/html": [
              "\n",
              "  <div id=\"df-a463d200-8951-4cd7-9995-5a774865d73f\">\n",
              "    <div class=\"colab-df-container\">\n",
              "      <div>\n",
              "<style scoped>\n",
              "    .dataframe tbody tr th:only-of-type {\n",
              "        vertical-align: middle;\n",
              "    }\n",
              "\n",
              "    .dataframe tbody tr th {\n",
              "        vertical-align: top;\n",
              "    }\n",
              "\n",
              "    .dataframe thead th {\n",
              "        text-align: right;\n",
              "    }\n",
              "</style>\n",
              "<table border=\"1\" class=\"dataframe\">\n",
              "  <thead>\n",
              "    <tr style=\"text-align: right;\">\n",
              "      <th></th>\n",
              "      <th>employee</th>\n",
              "      <th>companyAlias</th>\n",
              "      <th>companyType</th>\n",
              "      <th>gender</th>\n",
              "    </tr>\n",
              "  </thead>\n",
              "  <tbody>\n",
              "    <tr>\n",
              "      <th>0</th>\n",
              "      <td>512</td>\n",
              "      <td>56aec740f1ef260003e307d6</td>\n",
              "      <td>Product</td>\n",
              "      <td>Male</td>\n",
              "    </tr>\n",
              "    <tr>\n",
              "      <th>1</th>\n",
              "      <td>2</td>\n",
              "      <td>56aec740f1ef260003e307d6</td>\n",
              "      <td>Product</td>\n",
              "      <td>Male</td>\n",
              "    </tr>\n",
              "    <tr>\n",
              "      <th>2</th>\n",
              "      <td>487</td>\n",
              "      <td>56aec740f1ef260003e307d6</td>\n",
              "      <td>Product</td>\n",
              "      <td>Female</td>\n",
              "    </tr>\n",
              "  </tbody>\n",
              "</table>\n",
              "</div>\n",
              "      <button class=\"colab-df-convert\" onclick=\"convertToInteractive('df-a463d200-8951-4cd7-9995-5a774865d73f')\"\n",
              "              title=\"Convert this dataframe to an interactive table.\"\n",
              "              style=\"display:none;\">\n",
              "        \n",
              "  <svg xmlns=\"http://www.w3.org/2000/svg\" height=\"24px\"viewBox=\"0 0 24 24\"\n",
              "       width=\"24px\">\n",
              "    <path d=\"M0 0h24v24H0V0z\" fill=\"none\"/>\n",
              "    <path d=\"M18.56 5.44l.94 2.06.94-2.06 2.06-.94-2.06-.94-.94-2.06-.94 2.06-2.06.94zm-11 1L8.5 8.5l.94-2.06 2.06-.94-2.06-.94L8.5 2.5l-.94 2.06-2.06.94zm10 10l.94 2.06.94-2.06 2.06-.94-2.06-.94-.94-2.06-.94 2.06-2.06.94z\"/><path d=\"M17.41 7.96l-1.37-1.37c-.4-.4-.92-.59-1.43-.59-.52 0-1.04.2-1.43.59L10.3 9.45l-7.72 7.72c-.78.78-.78 2.05 0 2.83L4 21.41c.39.39.9.59 1.41.59.51 0 1.02-.2 1.41-.59l7.78-7.78 2.81-2.81c.8-.78.8-2.07 0-2.86zM5.41 20L4 18.59l7.72-7.72 1.47 1.35L5.41 20z\"/>\n",
              "  </svg>\n",
              "      </button>\n",
              "      \n",
              "  <style>\n",
              "    .colab-df-container {\n",
              "      display:flex;\n",
              "      flex-wrap:wrap;\n",
              "      gap: 12px;\n",
              "    }\n",
              "\n",
              "    .colab-df-convert {\n",
              "      background-color: #E8F0FE;\n",
              "      border: none;\n",
              "      border-radius: 50%;\n",
              "      cursor: pointer;\n",
              "      display: none;\n",
              "      fill: #1967D2;\n",
              "      height: 32px;\n",
              "      padding: 0 0 0 0;\n",
              "      width: 32px;\n",
              "    }\n",
              "\n",
              "    .colab-df-convert:hover {\n",
              "      background-color: #E2EBFA;\n",
              "      box-shadow: 0px 1px 2px rgba(60, 64, 67, 0.3), 0px 1px 3px 1px rgba(60, 64, 67, 0.15);\n",
              "      fill: #174EA6;\n",
              "    }\n",
              "\n",
              "    [theme=dark] .colab-df-convert {\n",
              "      background-color: #3B4455;\n",
              "      fill: #D2E3FC;\n",
              "    }\n",
              "\n",
              "    [theme=dark] .colab-df-convert:hover {\n",
              "      background-color: #434B5C;\n",
              "      box-shadow: 0px 1px 3px 1px rgba(0, 0, 0, 0.15);\n",
              "      filter: drop-shadow(0px 1px 2px rgba(0, 0, 0, 0.3));\n",
              "      fill: #FFFFFF;\n",
              "    }\n",
              "  </style>\n",
              "\n",
              "      <script>\n",
              "        const buttonEl =\n",
              "          document.querySelector('#df-a463d200-8951-4cd7-9995-5a774865d73f button.colab-df-convert');\n",
              "        buttonEl.style.display =\n",
              "          google.colab.kernel.accessAllowed ? 'block' : 'none';\n",
              "\n",
              "        async function convertToInteractive(key) {\n",
              "          const element = document.querySelector('#df-a463d200-8951-4cd7-9995-5a774865d73f');\n",
              "          const dataTable =\n",
              "            await google.colab.kernel.invokeFunction('convertToInteractive',\n",
              "                                                     [key], {});\n",
              "          if (!dataTable) return;\n",
              "\n",
              "          const docLinkHtml = 'Like what you see? Visit the ' +\n",
              "            '<a target=\"_blank\" href=https://colab.research.google.com/notebooks/data_table.ipynb>data table notebook</a>'\n",
              "            + ' to learn more about interactive tables.';\n",
              "          element.innerHTML = '';\n",
              "          dataTable['output_type'] = 'display_data';\n",
              "          await google.colab.output.renderOutput(dataTable, element);\n",
              "          const docLink = document.createElement('div');\n",
              "          docLink.innerHTML = docLinkHtml;\n",
              "          element.appendChild(docLink);\n",
              "        }\n",
              "      </script>\n",
              "    </div>\n",
              "  </div>\n",
              "  "
            ]
          },
          "metadata": {},
          "execution_count": 6
        }
      ]
    },
    {
      "cell_type": "code",
      "source": [
        "churn_plus.info()"
      ],
      "metadata": {
        "colab": {
          "base_uri": "https://localhost:8080/"
        },
        "id": "hDzlFJ3FmPyF",
        "outputId": "c24bf9a9-575a-454d-804c-e72eb94065d7"
      },
      "execution_count": 7,
      "outputs": [
        {
          "output_type": "stream",
          "name": "stdout",
          "text": [
            "<class 'pandas.core.frame.DataFrame'>\n",
            "RangeIndex: 4064 entries, 0 to 4063\n",
            "Data columns (total 4 columns):\n",
            " #   Column        Non-Null Count  Dtype \n",
            "---  ------        --------------  ----- \n",
            " 0   employee      4064 non-null   int64 \n",
            " 1   companyAlias  4064 non-null   object\n",
            " 2   companyType   4064 non-null   object\n",
            " 3   gender        4064 non-null   object\n",
            "dtypes: int64(1), object(3)\n",
            "memory usage: 127.1+ KB\n"
          ]
        }
      ]
    },
    {
      "cell_type": "code",
      "source": [
        "churn_plus.describe().T"
      ],
      "metadata": {
        "colab": {
          "base_uri": "https://localhost:8080/",
          "height": 81
        },
        "id": "m8_0_X-Mi4JA",
        "outputId": "751809be-ed17-439f-ae99-f88bc14a1dd4"
      },
      "execution_count": 8,
      "outputs": [
        {
          "output_type": "execute_result",
          "data": {
            "text/plain": [
              "           count        mean         std  min   25%    50%    75%    max\n",
              "employee  4064.0  192.518455  206.118146  1.0  51.0  131.0  244.0  999.0"
            ],
            "text/html": [
              "\n",
              "  <div id=\"df-55ddaf0a-c8bb-412e-9c75-7ba1e029b850\">\n",
              "    <div class=\"colab-df-container\">\n",
              "      <div>\n",
              "<style scoped>\n",
              "    .dataframe tbody tr th:only-of-type {\n",
              "        vertical-align: middle;\n",
              "    }\n",
              "\n",
              "    .dataframe tbody tr th {\n",
              "        vertical-align: top;\n",
              "    }\n",
              "\n",
              "    .dataframe thead th {\n",
              "        text-align: right;\n",
              "    }\n",
              "</style>\n",
              "<table border=\"1\" class=\"dataframe\">\n",
              "  <thead>\n",
              "    <tr style=\"text-align: right;\">\n",
              "      <th></th>\n",
              "      <th>count</th>\n",
              "      <th>mean</th>\n",
              "      <th>std</th>\n",
              "      <th>min</th>\n",
              "      <th>25%</th>\n",
              "      <th>50%</th>\n",
              "      <th>75%</th>\n",
              "      <th>max</th>\n",
              "    </tr>\n",
              "  </thead>\n",
              "  <tbody>\n",
              "    <tr>\n",
              "      <th>employee</th>\n",
              "      <td>4064.0</td>\n",
              "      <td>192.518455</td>\n",
              "      <td>206.118146</td>\n",
              "      <td>1.0</td>\n",
              "      <td>51.0</td>\n",
              "      <td>131.0</td>\n",
              "      <td>244.0</td>\n",
              "      <td>999.0</td>\n",
              "    </tr>\n",
              "  </tbody>\n",
              "</table>\n",
              "</div>\n",
              "      <button class=\"colab-df-convert\" onclick=\"convertToInteractive('df-55ddaf0a-c8bb-412e-9c75-7ba1e029b850')\"\n",
              "              title=\"Convert this dataframe to an interactive table.\"\n",
              "              style=\"display:none;\">\n",
              "        \n",
              "  <svg xmlns=\"http://www.w3.org/2000/svg\" height=\"24px\"viewBox=\"0 0 24 24\"\n",
              "       width=\"24px\">\n",
              "    <path d=\"M0 0h24v24H0V0z\" fill=\"none\"/>\n",
              "    <path d=\"M18.56 5.44l.94 2.06.94-2.06 2.06-.94-2.06-.94-.94-2.06-.94 2.06-2.06.94zm-11 1L8.5 8.5l.94-2.06 2.06-.94-2.06-.94L8.5 2.5l-.94 2.06-2.06.94zm10 10l.94 2.06.94-2.06 2.06-.94-2.06-.94-.94-2.06-.94 2.06-2.06.94z\"/><path d=\"M17.41 7.96l-1.37-1.37c-.4-.4-.92-.59-1.43-.59-.52 0-1.04.2-1.43.59L10.3 9.45l-7.72 7.72c-.78.78-.78 2.05 0 2.83L4 21.41c.39.39.9.59 1.41.59.51 0 1.02-.2 1.41-.59l7.78-7.78 2.81-2.81c.8-.78.8-2.07 0-2.86zM5.41 20L4 18.59l7.72-7.72 1.47 1.35L5.41 20z\"/>\n",
              "  </svg>\n",
              "      </button>\n",
              "      \n",
              "  <style>\n",
              "    .colab-df-container {\n",
              "      display:flex;\n",
              "      flex-wrap:wrap;\n",
              "      gap: 12px;\n",
              "    }\n",
              "\n",
              "    .colab-df-convert {\n",
              "      background-color: #E8F0FE;\n",
              "      border: none;\n",
              "      border-radius: 50%;\n",
              "      cursor: pointer;\n",
              "      display: none;\n",
              "      fill: #1967D2;\n",
              "      height: 32px;\n",
              "      padding: 0 0 0 0;\n",
              "      width: 32px;\n",
              "    }\n",
              "\n",
              "    .colab-df-convert:hover {\n",
              "      background-color: #E2EBFA;\n",
              "      box-shadow: 0px 1px 2px rgba(60, 64, 67, 0.3), 0px 1px 3px 1px rgba(60, 64, 67, 0.15);\n",
              "      fill: #174EA6;\n",
              "    }\n",
              "\n",
              "    [theme=dark] .colab-df-convert {\n",
              "      background-color: #3B4455;\n",
              "      fill: #D2E3FC;\n",
              "    }\n",
              "\n",
              "    [theme=dark] .colab-df-convert:hover {\n",
              "      background-color: #434B5C;\n",
              "      box-shadow: 0px 1px 3px 1px rgba(0, 0, 0, 0.15);\n",
              "      filter: drop-shadow(0px 1px 2px rgba(0, 0, 0, 0.3));\n",
              "      fill: #FFFFFF;\n",
              "    }\n",
              "  </style>\n",
              "\n",
              "      <script>\n",
              "        const buttonEl =\n",
              "          document.querySelector('#df-55ddaf0a-c8bb-412e-9c75-7ba1e029b850 button.colab-df-convert');\n",
              "        buttonEl.style.display =\n",
              "          google.colab.kernel.accessAllowed ? 'block' : 'none';\n",
              "\n",
              "        async function convertToInteractive(key) {\n",
              "          const element = document.querySelector('#df-55ddaf0a-c8bb-412e-9c75-7ba1e029b850');\n",
              "          const dataTable =\n",
              "            await google.colab.kernel.invokeFunction('convertToInteractive',\n",
              "                                                     [key], {});\n",
              "          if (!dataTable) return;\n",
              "\n",
              "          const docLinkHtml = 'Like what you see? Visit the ' +\n",
              "            '<a target=\"_blank\" href=https://colab.research.google.com/notebooks/data_table.ipynb>data table notebook</a>'\n",
              "            + ' to learn more about interactive tables.';\n",
              "          element.innerHTML = '';\n",
              "          dataTable['output_type'] = 'display_data';\n",
              "          await google.colab.output.renderOutput(dataTable, element);\n",
              "          const docLink = document.createElement('div');\n",
              "          docLink.innerHTML = docLinkHtml;\n",
              "          element.appendChild(docLink);\n",
              "        }\n",
              "      </script>\n",
              "    </div>\n",
              "  </div>\n",
              "  "
            ]
          },
          "metadata": {},
          "execution_count": 8
        }
      ]
    },
    {
      "cell_type": "markdown",
      "source": [
        "### **comments_clean** \n",
        "Comentário dos funcionários após votação, explicando o seu sentimento e a reação dos colegas\n",
        "\n",
        "**Tamanho** - 7 colunas e 38993 linhas\n",
        "* **employee**: número do funcionário (1-999)\n",
        "  * tipo int, sem valores nulos\n",
        "* **companyAlias**: código hash da empresa\n",
        "  * tipo object, sem valores nulos\n",
        "* **commentId**: código hash do comentário\n",
        " * tipo object, sem valores nulos\n",
        "* **likes**: quantidade de curtidas (0-86)\n",
        "  * tipo int, sem valores nulos\n",
        "* **dislikes**: quantidade de descurtidas (0-53)\n",
        "  * tipo int, sem valores nulos\n",
        "* **commentDate**: data de postagem do comentário\n",
        "  * tipo object deve ser convertido para datetime, sem valores nulos\n",
        "* **carac**: quantidade de caracteres dos comentários (0-29057)\n",
        "  * tipo int, sem valores nulos"
      ],
      "metadata": {
        "id": "mF-AsbPkWdTB"
      }
    },
    {
      "cell_type": "code",
      "source": [
        "comments_clean = pd.read_csv('https://raw.githubusercontent.com/bruna-calistrate/DataWrangling-DailyHappiness/main/clean-data/comments_clean_anonimized_clean.csv').iloc[:,1:]\n",
        "comments_clean.head(3)"
      ],
      "metadata": {
        "colab": {
          "base_uri": "https://localhost:8080/",
          "height": 143
        },
        "id": "2bkbRWSbWRup",
        "outputId": "76bd1714-d8da-4311-997a-471068985330"
      },
      "execution_count": 9,
      "outputs": [
        {
          "output_type": "execute_result",
          "data": {
            "text/plain": [
              "   employee              companyAlias                 commentId  likes  \\\n",
              "0       307  56aec740f1ef260003e307d6  58d018d7e010990004e38070      4   \n",
              "1       382  56aec740f1ef260003e307d6  58d0179ae010990004e3806d      1   \n",
              "2       172  56aec740f1ef260003e307d6  58cff8cde010990004e37f6a      3   \n",
              "\n",
              "   dislikes          commentDate  carac  \n",
              "0         0  2017-03-20 19:00:17     62  \n",
              "1         2  2017-03-20 18:55:16     29  \n",
              "2         0  2017-03-20 16:44:02     27  "
            ],
            "text/html": [
              "\n",
              "  <div id=\"df-4f31c9ab-9a8a-4dc4-b8fd-fb1450d8e3fe\">\n",
              "    <div class=\"colab-df-container\">\n",
              "      <div>\n",
              "<style scoped>\n",
              "    .dataframe tbody tr th:only-of-type {\n",
              "        vertical-align: middle;\n",
              "    }\n",
              "\n",
              "    .dataframe tbody tr th {\n",
              "        vertical-align: top;\n",
              "    }\n",
              "\n",
              "    .dataframe thead th {\n",
              "        text-align: right;\n",
              "    }\n",
              "</style>\n",
              "<table border=\"1\" class=\"dataframe\">\n",
              "  <thead>\n",
              "    <tr style=\"text-align: right;\">\n",
              "      <th></th>\n",
              "      <th>employee</th>\n",
              "      <th>companyAlias</th>\n",
              "      <th>commentId</th>\n",
              "      <th>likes</th>\n",
              "      <th>dislikes</th>\n",
              "      <th>commentDate</th>\n",
              "      <th>carac</th>\n",
              "    </tr>\n",
              "  </thead>\n",
              "  <tbody>\n",
              "    <tr>\n",
              "      <th>0</th>\n",
              "      <td>307</td>\n",
              "      <td>56aec740f1ef260003e307d6</td>\n",
              "      <td>58d018d7e010990004e38070</td>\n",
              "      <td>4</td>\n",
              "      <td>0</td>\n",
              "      <td>2017-03-20 19:00:17</td>\n",
              "      <td>62</td>\n",
              "    </tr>\n",
              "    <tr>\n",
              "      <th>1</th>\n",
              "      <td>382</td>\n",
              "      <td>56aec740f1ef260003e307d6</td>\n",
              "      <td>58d0179ae010990004e3806d</td>\n",
              "      <td>1</td>\n",
              "      <td>2</td>\n",
              "      <td>2017-03-20 18:55:16</td>\n",
              "      <td>29</td>\n",
              "    </tr>\n",
              "    <tr>\n",
              "      <th>2</th>\n",
              "      <td>172</td>\n",
              "      <td>56aec740f1ef260003e307d6</td>\n",
              "      <td>58cff8cde010990004e37f6a</td>\n",
              "      <td>3</td>\n",
              "      <td>0</td>\n",
              "      <td>2017-03-20 16:44:02</td>\n",
              "      <td>27</td>\n",
              "    </tr>\n",
              "  </tbody>\n",
              "</table>\n",
              "</div>\n",
              "      <button class=\"colab-df-convert\" onclick=\"convertToInteractive('df-4f31c9ab-9a8a-4dc4-b8fd-fb1450d8e3fe')\"\n",
              "              title=\"Convert this dataframe to an interactive table.\"\n",
              "              style=\"display:none;\">\n",
              "        \n",
              "  <svg xmlns=\"http://www.w3.org/2000/svg\" height=\"24px\"viewBox=\"0 0 24 24\"\n",
              "       width=\"24px\">\n",
              "    <path d=\"M0 0h24v24H0V0z\" fill=\"none\"/>\n",
              "    <path d=\"M18.56 5.44l.94 2.06.94-2.06 2.06-.94-2.06-.94-.94-2.06-.94 2.06-2.06.94zm-11 1L8.5 8.5l.94-2.06 2.06-.94-2.06-.94L8.5 2.5l-.94 2.06-2.06.94zm10 10l.94 2.06.94-2.06 2.06-.94-2.06-.94-.94-2.06-.94 2.06-2.06.94z\"/><path d=\"M17.41 7.96l-1.37-1.37c-.4-.4-.92-.59-1.43-.59-.52 0-1.04.2-1.43.59L10.3 9.45l-7.72 7.72c-.78.78-.78 2.05 0 2.83L4 21.41c.39.39.9.59 1.41.59.51 0 1.02-.2 1.41-.59l7.78-7.78 2.81-2.81c.8-.78.8-2.07 0-2.86zM5.41 20L4 18.59l7.72-7.72 1.47 1.35L5.41 20z\"/>\n",
              "  </svg>\n",
              "      </button>\n",
              "      \n",
              "  <style>\n",
              "    .colab-df-container {\n",
              "      display:flex;\n",
              "      flex-wrap:wrap;\n",
              "      gap: 12px;\n",
              "    }\n",
              "\n",
              "    .colab-df-convert {\n",
              "      background-color: #E8F0FE;\n",
              "      border: none;\n",
              "      border-radius: 50%;\n",
              "      cursor: pointer;\n",
              "      display: none;\n",
              "      fill: #1967D2;\n",
              "      height: 32px;\n",
              "      padding: 0 0 0 0;\n",
              "      width: 32px;\n",
              "    }\n",
              "\n",
              "    .colab-df-convert:hover {\n",
              "      background-color: #E2EBFA;\n",
              "      box-shadow: 0px 1px 2px rgba(60, 64, 67, 0.3), 0px 1px 3px 1px rgba(60, 64, 67, 0.15);\n",
              "      fill: #174EA6;\n",
              "    }\n",
              "\n",
              "    [theme=dark] .colab-df-convert {\n",
              "      background-color: #3B4455;\n",
              "      fill: #D2E3FC;\n",
              "    }\n",
              "\n",
              "    [theme=dark] .colab-df-convert:hover {\n",
              "      background-color: #434B5C;\n",
              "      box-shadow: 0px 1px 3px 1px rgba(0, 0, 0, 0.15);\n",
              "      filter: drop-shadow(0px 1px 2px rgba(0, 0, 0, 0.3));\n",
              "      fill: #FFFFFF;\n",
              "    }\n",
              "  </style>\n",
              "\n",
              "      <script>\n",
              "        const buttonEl =\n",
              "          document.querySelector('#df-4f31c9ab-9a8a-4dc4-b8fd-fb1450d8e3fe button.colab-df-convert');\n",
              "        buttonEl.style.display =\n",
              "          google.colab.kernel.accessAllowed ? 'block' : 'none';\n",
              "\n",
              "        async function convertToInteractive(key) {\n",
              "          const element = document.querySelector('#df-4f31c9ab-9a8a-4dc4-b8fd-fb1450d8e3fe');\n",
              "          const dataTable =\n",
              "            await google.colab.kernel.invokeFunction('convertToInteractive',\n",
              "                                                     [key], {});\n",
              "          if (!dataTable) return;\n",
              "\n",
              "          const docLinkHtml = 'Like what you see? Visit the ' +\n",
              "            '<a target=\"_blank\" href=https://colab.research.google.com/notebooks/data_table.ipynb>data table notebook</a>'\n",
              "            + ' to learn more about interactive tables.';\n",
              "          element.innerHTML = '';\n",
              "          dataTable['output_type'] = 'display_data';\n",
              "          await google.colab.output.renderOutput(dataTable, element);\n",
              "          const docLink = document.createElement('div');\n",
              "          docLink.innerHTML = docLinkHtml;\n",
              "          element.appendChild(docLink);\n",
              "        }\n",
              "      </script>\n",
              "    </div>\n",
              "  </div>\n",
              "  "
            ]
          },
          "metadata": {},
          "execution_count": 9
        }
      ]
    },
    {
      "cell_type": "code",
      "source": [
        "comments_clean.info()"
      ],
      "metadata": {
        "colab": {
          "base_uri": "https://localhost:8080/"
        },
        "id": "qElXj1ggqIsy",
        "outputId": "c1b8855c-2289-48e2-fba1-90eb217e7d3b"
      },
      "execution_count": 10,
      "outputs": [
        {
          "output_type": "stream",
          "name": "stdout",
          "text": [
            "<class 'pandas.core.frame.DataFrame'>\n",
            "RangeIndex: 38993 entries, 0 to 38992\n",
            "Data columns (total 7 columns):\n",
            " #   Column        Non-Null Count  Dtype \n",
            "---  ------        --------------  ----- \n",
            " 0   employee      38993 non-null  int64 \n",
            " 1   companyAlias  38993 non-null  object\n",
            " 2   commentId     38993 non-null  object\n",
            " 3   likes         38993 non-null  int64 \n",
            " 4   dislikes      38993 non-null  int64 \n",
            " 5   commentDate   38993 non-null  object\n",
            " 6   carac         38993 non-null  int64 \n",
            "dtypes: int64(4), object(3)\n",
            "memory usage: 2.1+ MB\n"
          ]
        }
      ]
    },
    {
      "cell_type": "code",
      "source": [
        "comments_clean.describe().T"
      ],
      "metadata": {
        "colab": {
          "base_uri": "https://localhost:8080/",
          "height": 175
        },
        "id": "CikKNrD6qIPe",
        "outputId": "ab83d838-5b06-4406-fca2-ecf60d77c85c"
      },
      "execution_count": 11,
      "outputs": [
        {
          "output_type": "execute_result",
          "data": {
            "text/plain": [
              "            count        mean         std  min   25%    50%    75%      max\n",
              "employee  38993.0  150.951248  157.277902  1.0  38.0  112.0  207.0    999.0\n",
              "likes     38993.0    7.002488    7.773628  0.0   2.0    4.0   10.0     86.0\n",
              "dislikes  38993.0    1.297977    2.748012  0.0   0.0    0.0    1.0     53.0\n",
              "carac     38993.0  102.140128  202.662014  0.0  27.0   57.0  118.0  29057.0"
            ],
            "text/html": [
              "\n",
              "  <div id=\"df-d9878f39-7c9a-4d05-897d-4149770a4f90\">\n",
              "    <div class=\"colab-df-container\">\n",
              "      <div>\n",
              "<style scoped>\n",
              "    .dataframe tbody tr th:only-of-type {\n",
              "        vertical-align: middle;\n",
              "    }\n",
              "\n",
              "    .dataframe tbody tr th {\n",
              "        vertical-align: top;\n",
              "    }\n",
              "\n",
              "    .dataframe thead th {\n",
              "        text-align: right;\n",
              "    }\n",
              "</style>\n",
              "<table border=\"1\" class=\"dataframe\">\n",
              "  <thead>\n",
              "    <tr style=\"text-align: right;\">\n",
              "      <th></th>\n",
              "      <th>count</th>\n",
              "      <th>mean</th>\n",
              "      <th>std</th>\n",
              "      <th>min</th>\n",
              "      <th>25%</th>\n",
              "      <th>50%</th>\n",
              "      <th>75%</th>\n",
              "      <th>max</th>\n",
              "    </tr>\n",
              "  </thead>\n",
              "  <tbody>\n",
              "    <tr>\n",
              "      <th>employee</th>\n",
              "      <td>38993.0</td>\n",
              "      <td>150.951248</td>\n",
              "      <td>157.277902</td>\n",
              "      <td>1.0</td>\n",
              "      <td>38.0</td>\n",
              "      <td>112.0</td>\n",
              "      <td>207.0</td>\n",
              "      <td>999.0</td>\n",
              "    </tr>\n",
              "    <tr>\n",
              "      <th>likes</th>\n",
              "      <td>38993.0</td>\n",
              "      <td>7.002488</td>\n",
              "      <td>7.773628</td>\n",
              "      <td>0.0</td>\n",
              "      <td>2.0</td>\n",
              "      <td>4.0</td>\n",
              "      <td>10.0</td>\n",
              "      <td>86.0</td>\n",
              "    </tr>\n",
              "    <tr>\n",
              "      <th>dislikes</th>\n",
              "      <td>38993.0</td>\n",
              "      <td>1.297977</td>\n",
              "      <td>2.748012</td>\n",
              "      <td>0.0</td>\n",
              "      <td>0.0</td>\n",
              "      <td>0.0</td>\n",
              "      <td>1.0</td>\n",
              "      <td>53.0</td>\n",
              "    </tr>\n",
              "    <tr>\n",
              "      <th>carac</th>\n",
              "      <td>38993.0</td>\n",
              "      <td>102.140128</td>\n",
              "      <td>202.662014</td>\n",
              "      <td>0.0</td>\n",
              "      <td>27.0</td>\n",
              "      <td>57.0</td>\n",
              "      <td>118.0</td>\n",
              "      <td>29057.0</td>\n",
              "    </tr>\n",
              "  </tbody>\n",
              "</table>\n",
              "</div>\n",
              "      <button class=\"colab-df-convert\" onclick=\"convertToInteractive('df-d9878f39-7c9a-4d05-897d-4149770a4f90')\"\n",
              "              title=\"Convert this dataframe to an interactive table.\"\n",
              "              style=\"display:none;\">\n",
              "        \n",
              "  <svg xmlns=\"http://www.w3.org/2000/svg\" height=\"24px\"viewBox=\"0 0 24 24\"\n",
              "       width=\"24px\">\n",
              "    <path d=\"M0 0h24v24H0V0z\" fill=\"none\"/>\n",
              "    <path d=\"M18.56 5.44l.94 2.06.94-2.06 2.06-.94-2.06-.94-.94-2.06-.94 2.06-2.06.94zm-11 1L8.5 8.5l.94-2.06 2.06-.94-2.06-.94L8.5 2.5l-.94 2.06-2.06.94zm10 10l.94 2.06.94-2.06 2.06-.94-2.06-.94-.94-2.06-.94 2.06-2.06.94z\"/><path d=\"M17.41 7.96l-1.37-1.37c-.4-.4-.92-.59-1.43-.59-.52 0-1.04.2-1.43.59L10.3 9.45l-7.72 7.72c-.78.78-.78 2.05 0 2.83L4 21.41c.39.39.9.59 1.41.59.51 0 1.02-.2 1.41-.59l7.78-7.78 2.81-2.81c.8-.78.8-2.07 0-2.86zM5.41 20L4 18.59l7.72-7.72 1.47 1.35L5.41 20z\"/>\n",
              "  </svg>\n",
              "      </button>\n",
              "      \n",
              "  <style>\n",
              "    .colab-df-container {\n",
              "      display:flex;\n",
              "      flex-wrap:wrap;\n",
              "      gap: 12px;\n",
              "    }\n",
              "\n",
              "    .colab-df-convert {\n",
              "      background-color: #E8F0FE;\n",
              "      border: none;\n",
              "      border-radius: 50%;\n",
              "      cursor: pointer;\n",
              "      display: none;\n",
              "      fill: #1967D2;\n",
              "      height: 32px;\n",
              "      padding: 0 0 0 0;\n",
              "      width: 32px;\n",
              "    }\n",
              "\n",
              "    .colab-df-convert:hover {\n",
              "      background-color: #E2EBFA;\n",
              "      box-shadow: 0px 1px 2px rgba(60, 64, 67, 0.3), 0px 1px 3px 1px rgba(60, 64, 67, 0.15);\n",
              "      fill: #174EA6;\n",
              "    }\n",
              "\n",
              "    [theme=dark] .colab-df-convert {\n",
              "      background-color: #3B4455;\n",
              "      fill: #D2E3FC;\n",
              "    }\n",
              "\n",
              "    [theme=dark] .colab-df-convert:hover {\n",
              "      background-color: #434B5C;\n",
              "      box-shadow: 0px 1px 3px 1px rgba(0, 0, 0, 0.15);\n",
              "      filter: drop-shadow(0px 1px 2px rgba(0, 0, 0, 0.3));\n",
              "      fill: #FFFFFF;\n",
              "    }\n",
              "  </style>\n",
              "\n",
              "      <script>\n",
              "        const buttonEl =\n",
              "          document.querySelector('#df-d9878f39-7c9a-4d05-897d-4149770a4f90 button.colab-df-convert');\n",
              "        buttonEl.style.display =\n",
              "          google.colab.kernel.accessAllowed ? 'block' : 'none';\n",
              "\n",
              "        async function convertToInteractive(key) {\n",
              "          const element = document.querySelector('#df-d9878f39-7c9a-4d05-897d-4149770a4f90');\n",
              "          const dataTable =\n",
              "            await google.colab.kernel.invokeFunction('convertToInteractive',\n",
              "                                                     [key], {});\n",
              "          if (!dataTable) return;\n",
              "\n",
              "          const docLinkHtml = 'Like what you see? Visit the ' +\n",
              "            '<a target=\"_blank\" href=https://colab.research.google.com/notebooks/data_table.ipynb>data table notebook</a>'\n",
              "            + ' to learn more about interactive tables.';\n",
              "          element.innerHTML = '';\n",
              "          dataTable['output_type'] = 'display_data';\n",
              "          await google.colab.output.renderOutput(dataTable, element);\n",
              "          const docLink = document.createElement('div');\n",
              "          docLink.innerHTML = docLinkHtml;\n",
              "          element.appendChild(docLink);\n",
              "        }\n",
              "      </script>\n",
              "    </div>\n",
              "  </div>\n",
              "  "
            ]
          },
          "metadata": {},
          "execution_count": 11
        }
      ]
    },
    {
      "cell_type": "markdown",
      "source": [
        "### **interactions_clean** \n",
        "\n",
        "Interações dos funcionários com os comentários de outros colegas da empresa.\n",
        "\n",
        "**Tamanho** - 5 colunas e 324.471 linhas\n",
        "* **employee**: número do funcionário (1-999)\n",
        " * tipo int, sem valores nulos\n",
        "* **companyAlias**: código hash da empresa\n",
        " * tipo object, sem valores nulos\n",
        "* **liked**: sem ou com curtida (0-1)\n",
        " * tipo int, sem valores nulos\n",
        "* **disliked**: sem ou com descurtida (0-1)\n",
        " * tipo int, sem valores nulos\n",
        "* **commentId**: código do comentário\n",
        " * tipo object, sem valores nulos"
      ],
      "metadata": {
        "id": "W3JITYNsWVV_"
      }
    },
    {
      "cell_type": "code",
      "source": [
        "interactions_clean = pd.read_csv('https://raw.githubusercontent.com/bruna-calistrate/DataWrangling-DailyHappiness/main/clean-data/commentInteractions_clean.csv').iloc[:,1:]\n",
        "interactions_clean.head(3)"
      ],
      "metadata": {
        "colab": {
          "base_uri": "https://localhost:8080/",
          "height": 143
        },
        "id": "V32Jckj5WgrQ",
        "outputId": "6ad016db-6f42-41ca-b410-bc20730871b2"
      },
      "execution_count": 12,
      "outputs": [
        {
          "output_type": "execute_result",
          "data": {
            "text/plain": [
              "   employee              companyAlias  liked  disliked  \\\n",
              "0       307  56aec740f1ef260003e307d6      1         0   \n",
              "1        36  56aec740f1ef260003e307d6      1         0   \n",
              "2       276  56aec740f1ef260003e307d6      1         0   \n",
              "\n",
              "                  commentId  \n",
              "0  58d018d7e010990004e38070  \n",
              "1  58d018d7e010990004e38070  \n",
              "2  58d018d7e010990004e38070  "
            ],
            "text/html": [
              "\n",
              "  <div id=\"df-1a242d5d-a143-47cc-9b87-f32e37559fc6\">\n",
              "    <div class=\"colab-df-container\">\n",
              "      <div>\n",
              "<style scoped>\n",
              "    .dataframe tbody tr th:only-of-type {\n",
              "        vertical-align: middle;\n",
              "    }\n",
              "\n",
              "    .dataframe tbody tr th {\n",
              "        vertical-align: top;\n",
              "    }\n",
              "\n",
              "    .dataframe thead th {\n",
              "        text-align: right;\n",
              "    }\n",
              "</style>\n",
              "<table border=\"1\" class=\"dataframe\">\n",
              "  <thead>\n",
              "    <tr style=\"text-align: right;\">\n",
              "      <th></th>\n",
              "      <th>employee</th>\n",
              "      <th>companyAlias</th>\n",
              "      <th>liked</th>\n",
              "      <th>disliked</th>\n",
              "      <th>commentId</th>\n",
              "    </tr>\n",
              "  </thead>\n",
              "  <tbody>\n",
              "    <tr>\n",
              "      <th>0</th>\n",
              "      <td>307</td>\n",
              "      <td>56aec740f1ef260003e307d6</td>\n",
              "      <td>1</td>\n",
              "      <td>0</td>\n",
              "      <td>58d018d7e010990004e38070</td>\n",
              "    </tr>\n",
              "    <tr>\n",
              "      <th>1</th>\n",
              "      <td>36</td>\n",
              "      <td>56aec740f1ef260003e307d6</td>\n",
              "      <td>1</td>\n",
              "      <td>0</td>\n",
              "      <td>58d018d7e010990004e38070</td>\n",
              "    </tr>\n",
              "    <tr>\n",
              "      <th>2</th>\n",
              "      <td>276</td>\n",
              "      <td>56aec740f1ef260003e307d6</td>\n",
              "      <td>1</td>\n",
              "      <td>0</td>\n",
              "      <td>58d018d7e010990004e38070</td>\n",
              "    </tr>\n",
              "  </tbody>\n",
              "</table>\n",
              "</div>\n",
              "      <button class=\"colab-df-convert\" onclick=\"convertToInteractive('df-1a242d5d-a143-47cc-9b87-f32e37559fc6')\"\n",
              "              title=\"Convert this dataframe to an interactive table.\"\n",
              "              style=\"display:none;\">\n",
              "        \n",
              "  <svg xmlns=\"http://www.w3.org/2000/svg\" height=\"24px\"viewBox=\"0 0 24 24\"\n",
              "       width=\"24px\">\n",
              "    <path d=\"M0 0h24v24H0V0z\" fill=\"none\"/>\n",
              "    <path d=\"M18.56 5.44l.94 2.06.94-2.06 2.06-.94-2.06-.94-.94-2.06-.94 2.06-2.06.94zm-11 1L8.5 8.5l.94-2.06 2.06-.94-2.06-.94L8.5 2.5l-.94 2.06-2.06.94zm10 10l.94 2.06.94-2.06 2.06-.94-2.06-.94-.94-2.06-.94 2.06-2.06.94z\"/><path d=\"M17.41 7.96l-1.37-1.37c-.4-.4-.92-.59-1.43-.59-.52 0-1.04.2-1.43.59L10.3 9.45l-7.72 7.72c-.78.78-.78 2.05 0 2.83L4 21.41c.39.39.9.59 1.41.59.51 0 1.02-.2 1.41-.59l7.78-7.78 2.81-2.81c.8-.78.8-2.07 0-2.86zM5.41 20L4 18.59l7.72-7.72 1.47 1.35L5.41 20z\"/>\n",
              "  </svg>\n",
              "      </button>\n",
              "      \n",
              "  <style>\n",
              "    .colab-df-container {\n",
              "      display:flex;\n",
              "      flex-wrap:wrap;\n",
              "      gap: 12px;\n",
              "    }\n",
              "\n",
              "    .colab-df-convert {\n",
              "      background-color: #E8F0FE;\n",
              "      border: none;\n",
              "      border-radius: 50%;\n",
              "      cursor: pointer;\n",
              "      display: none;\n",
              "      fill: #1967D2;\n",
              "      height: 32px;\n",
              "      padding: 0 0 0 0;\n",
              "      width: 32px;\n",
              "    }\n",
              "\n",
              "    .colab-df-convert:hover {\n",
              "      background-color: #E2EBFA;\n",
              "      box-shadow: 0px 1px 2px rgba(60, 64, 67, 0.3), 0px 1px 3px 1px rgba(60, 64, 67, 0.15);\n",
              "      fill: #174EA6;\n",
              "    }\n",
              "\n",
              "    [theme=dark] .colab-df-convert {\n",
              "      background-color: #3B4455;\n",
              "      fill: #D2E3FC;\n",
              "    }\n",
              "\n",
              "    [theme=dark] .colab-df-convert:hover {\n",
              "      background-color: #434B5C;\n",
              "      box-shadow: 0px 1px 3px 1px rgba(0, 0, 0, 0.15);\n",
              "      filter: drop-shadow(0px 1px 2px rgba(0, 0, 0, 0.3));\n",
              "      fill: #FFFFFF;\n",
              "    }\n",
              "  </style>\n",
              "\n",
              "      <script>\n",
              "        const buttonEl =\n",
              "          document.querySelector('#df-1a242d5d-a143-47cc-9b87-f32e37559fc6 button.colab-df-convert');\n",
              "        buttonEl.style.display =\n",
              "          google.colab.kernel.accessAllowed ? 'block' : 'none';\n",
              "\n",
              "        async function convertToInteractive(key) {\n",
              "          const element = document.querySelector('#df-1a242d5d-a143-47cc-9b87-f32e37559fc6');\n",
              "          const dataTable =\n",
              "            await google.colab.kernel.invokeFunction('convertToInteractive',\n",
              "                                                     [key], {});\n",
              "          if (!dataTable) return;\n",
              "\n",
              "          const docLinkHtml = 'Like what you see? Visit the ' +\n",
              "            '<a target=\"_blank\" href=https://colab.research.google.com/notebooks/data_table.ipynb>data table notebook</a>'\n",
              "            + ' to learn more about interactive tables.';\n",
              "          element.innerHTML = '';\n",
              "          dataTable['output_type'] = 'display_data';\n",
              "          await google.colab.output.renderOutput(dataTable, element);\n",
              "          const docLink = document.createElement('div');\n",
              "          docLink.innerHTML = docLinkHtml;\n",
              "          element.appendChild(docLink);\n",
              "        }\n",
              "      </script>\n",
              "    </div>\n",
              "  </div>\n",
              "  "
            ]
          },
          "metadata": {},
          "execution_count": 12
        }
      ]
    },
    {
      "cell_type": "code",
      "source": [
        "interactions_clean.info()"
      ],
      "metadata": {
        "colab": {
          "base_uri": "https://localhost:8080/"
        },
        "id": "Fs9b82AHsb6P",
        "outputId": "219c13e7-fc06-4d08-e350-ba0476449e0b"
      },
      "execution_count": 13,
      "outputs": [
        {
          "output_type": "stream",
          "name": "stdout",
          "text": [
            "<class 'pandas.core.frame.DataFrame'>\n",
            "RangeIndex: 324471 entries, 0 to 324470\n",
            "Data columns (total 5 columns):\n",
            " #   Column        Non-Null Count   Dtype \n",
            "---  ------        --------------   ----- \n",
            " 0   employee      324471 non-null  int64 \n",
            " 1   companyAlias  324471 non-null  object\n",
            " 2   liked         324471 non-null  int64 \n",
            " 3   disliked      324471 non-null  int64 \n",
            " 4   commentId     324471 non-null  object\n",
            "dtypes: int64(3), object(2)\n",
            "memory usage: 12.4+ MB\n"
          ]
        }
      ]
    },
    {
      "cell_type": "code",
      "source": [
        "interactions_clean.describe().T"
      ],
      "metadata": {
        "colab": {
          "base_uri": "https://localhost:8080/",
          "height": 143
        },
        "id": "4ZVnTyBgscxV",
        "outputId": "2331bc74-c524-4157-bd7b-50b3309b5336"
      },
      "execution_count": 14,
      "outputs": [
        {
          "output_type": "execute_result",
          "data": {
            "text/plain": [
              "             count        mean         std  min   25%    50%    75%    max\n",
              "employee  324471.0  172.173411  178.699301  1.0  45.0  128.0  214.0  999.0\n",
              "liked     324471.0    0.843696    0.363144  0.0   1.0    1.0    1.0    1.0\n",
              "disliked  324471.0    0.156304    0.363144  0.0   0.0    0.0    0.0    1.0"
            ],
            "text/html": [
              "\n",
              "  <div id=\"df-f91b9c9c-ab62-433d-a9eb-31c1820c3f61\">\n",
              "    <div class=\"colab-df-container\">\n",
              "      <div>\n",
              "<style scoped>\n",
              "    .dataframe tbody tr th:only-of-type {\n",
              "        vertical-align: middle;\n",
              "    }\n",
              "\n",
              "    .dataframe tbody tr th {\n",
              "        vertical-align: top;\n",
              "    }\n",
              "\n",
              "    .dataframe thead th {\n",
              "        text-align: right;\n",
              "    }\n",
              "</style>\n",
              "<table border=\"1\" class=\"dataframe\">\n",
              "  <thead>\n",
              "    <tr style=\"text-align: right;\">\n",
              "      <th></th>\n",
              "      <th>count</th>\n",
              "      <th>mean</th>\n",
              "      <th>std</th>\n",
              "      <th>min</th>\n",
              "      <th>25%</th>\n",
              "      <th>50%</th>\n",
              "      <th>75%</th>\n",
              "      <th>max</th>\n",
              "    </tr>\n",
              "  </thead>\n",
              "  <tbody>\n",
              "    <tr>\n",
              "      <th>employee</th>\n",
              "      <td>324471.0</td>\n",
              "      <td>172.173411</td>\n",
              "      <td>178.699301</td>\n",
              "      <td>1.0</td>\n",
              "      <td>45.0</td>\n",
              "      <td>128.0</td>\n",
              "      <td>214.0</td>\n",
              "      <td>999.0</td>\n",
              "    </tr>\n",
              "    <tr>\n",
              "      <th>liked</th>\n",
              "      <td>324471.0</td>\n",
              "      <td>0.843696</td>\n",
              "      <td>0.363144</td>\n",
              "      <td>0.0</td>\n",
              "      <td>1.0</td>\n",
              "      <td>1.0</td>\n",
              "      <td>1.0</td>\n",
              "      <td>1.0</td>\n",
              "    </tr>\n",
              "    <tr>\n",
              "      <th>disliked</th>\n",
              "      <td>324471.0</td>\n",
              "      <td>0.156304</td>\n",
              "      <td>0.363144</td>\n",
              "      <td>0.0</td>\n",
              "      <td>0.0</td>\n",
              "      <td>0.0</td>\n",
              "      <td>0.0</td>\n",
              "      <td>1.0</td>\n",
              "    </tr>\n",
              "  </tbody>\n",
              "</table>\n",
              "</div>\n",
              "      <button class=\"colab-df-convert\" onclick=\"convertToInteractive('df-f91b9c9c-ab62-433d-a9eb-31c1820c3f61')\"\n",
              "              title=\"Convert this dataframe to an interactive table.\"\n",
              "              style=\"display:none;\">\n",
              "        \n",
              "  <svg xmlns=\"http://www.w3.org/2000/svg\" height=\"24px\"viewBox=\"0 0 24 24\"\n",
              "       width=\"24px\">\n",
              "    <path d=\"M0 0h24v24H0V0z\" fill=\"none\"/>\n",
              "    <path d=\"M18.56 5.44l.94 2.06.94-2.06 2.06-.94-2.06-.94-.94-2.06-.94 2.06-2.06.94zm-11 1L8.5 8.5l.94-2.06 2.06-.94-2.06-.94L8.5 2.5l-.94 2.06-2.06.94zm10 10l.94 2.06.94-2.06 2.06-.94-2.06-.94-.94-2.06-.94 2.06-2.06.94z\"/><path d=\"M17.41 7.96l-1.37-1.37c-.4-.4-.92-.59-1.43-.59-.52 0-1.04.2-1.43.59L10.3 9.45l-7.72 7.72c-.78.78-.78 2.05 0 2.83L4 21.41c.39.39.9.59 1.41.59.51 0 1.02-.2 1.41-.59l7.78-7.78 2.81-2.81c.8-.78.8-2.07 0-2.86zM5.41 20L4 18.59l7.72-7.72 1.47 1.35L5.41 20z\"/>\n",
              "  </svg>\n",
              "      </button>\n",
              "      \n",
              "  <style>\n",
              "    .colab-df-container {\n",
              "      display:flex;\n",
              "      flex-wrap:wrap;\n",
              "      gap: 12px;\n",
              "    }\n",
              "\n",
              "    .colab-df-convert {\n",
              "      background-color: #E8F0FE;\n",
              "      border: none;\n",
              "      border-radius: 50%;\n",
              "      cursor: pointer;\n",
              "      display: none;\n",
              "      fill: #1967D2;\n",
              "      height: 32px;\n",
              "      padding: 0 0 0 0;\n",
              "      width: 32px;\n",
              "    }\n",
              "\n",
              "    .colab-df-convert:hover {\n",
              "      background-color: #E2EBFA;\n",
              "      box-shadow: 0px 1px 2px rgba(60, 64, 67, 0.3), 0px 1px 3px 1px rgba(60, 64, 67, 0.15);\n",
              "      fill: #174EA6;\n",
              "    }\n",
              "\n",
              "    [theme=dark] .colab-df-convert {\n",
              "      background-color: #3B4455;\n",
              "      fill: #D2E3FC;\n",
              "    }\n",
              "\n",
              "    [theme=dark] .colab-df-convert:hover {\n",
              "      background-color: #434B5C;\n",
              "      box-shadow: 0px 1px 3px 1px rgba(0, 0, 0, 0.15);\n",
              "      filter: drop-shadow(0px 1px 2px rgba(0, 0, 0, 0.3));\n",
              "      fill: #FFFFFF;\n",
              "    }\n",
              "  </style>\n",
              "\n",
              "      <script>\n",
              "        const buttonEl =\n",
              "          document.querySelector('#df-f91b9c9c-ab62-433d-a9eb-31c1820c3f61 button.colab-df-convert');\n",
              "        buttonEl.style.display =\n",
              "          google.colab.kernel.accessAllowed ? 'block' : 'none';\n",
              "\n",
              "        async function convertToInteractive(key) {\n",
              "          const element = document.querySelector('#df-f91b9c9c-ab62-433d-a9eb-31c1820c3f61');\n",
              "          const dataTable =\n",
              "            await google.colab.kernel.invokeFunction('convertToInteractive',\n",
              "                                                     [key], {});\n",
              "          if (!dataTable) return;\n",
              "\n",
              "          const docLinkHtml = 'Like what you see? Visit the ' +\n",
              "            '<a target=\"_blank\" href=https://colab.research.google.com/notebooks/data_table.ipynb>data table notebook</a>'\n",
              "            + ' to learn more about interactive tables.';\n",
              "          element.innerHTML = '';\n",
              "          dataTable['output_type'] = 'display_data';\n",
              "          await google.colab.output.renderOutput(dataTable, element);\n",
              "          const docLink = document.createElement('div');\n",
              "          docLink.innerHTML = docLinkHtml;\n",
              "          element.appendChild(docLink);\n",
              "        }\n",
              "      </script>\n",
              "    </div>\n",
              "  </div>\n",
              "  "
            ]
          },
          "metadata": {},
          "execution_count": 14
        }
      ]
    },
    {
      "cell_type": "markdown",
      "source": [
        "## Tratamento inicial de dados\n",
        "\n",
        "Correção de variáveis para datetime e merge de **gender** e **companyType** na base de **churn**"
      ],
      "metadata": {
        "id": "ttr2LeLMtYhc"
      }
    },
    {
      "cell_type": "code",
      "source": [
        "churn.drop(columns=['diffDaysVote.min'], inplace=True)\n",
        "churn['lastParticipationDate'] = pd.to_datetime(\n",
        "    churn['lastParticipationDate'], infer_datetime_format=True\n",
        "    )"
      ],
      "metadata": {
        "id": "CzwpgDsVYrrw"
      },
      "execution_count": 15,
      "outputs": []
    },
    {
      "cell_type": "code",
      "source": [
        "comments_clean['commentDate'] = pd.to_datetime(\n",
        "    comments_clean['commentDate'], infer_datetime_format=True\n",
        "    )"
      ],
      "metadata": {
        "id": "u1qfIDymrdiy"
      },
      "execution_count": 16,
      "outputs": []
    },
    {
      "cell_type": "code",
      "source": [
        "churn = churn.merge(churn_plus,\n",
        "                          on=['companyAlias',\n",
        "                              'employee'],\n",
        "                          how='left')"
      ],
      "metadata": {
        "id": "ykfSWKC8t4FK"
      },
      "execution_count": 17,
      "outputs": []
    },
    {
      "cell_type": "code",
      "source": [
        "churn.info()"
      ],
      "metadata": {
        "colab": {
          "base_uri": "https://localhost:8080/"
        },
        "id": "upXt1JufzEmJ",
        "outputId": "3ec87f39-4b4b-4a2a-d138-8a1b785895a5"
      },
      "execution_count": 18,
      "outputs": [
        {
          "output_type": "stream",
          "name": "stdout",
          "text": [
            "<class 'pandas.core.frame.DataFrame'>\n",
            "Int64Index: 4067 entries, 0 to 4066\n",
            "Data columns (total 26 columns):\n",
            " #   Column                  Non-Null Count  Dtype         \n",
            "---  ------                  --------------  -----         \n",
            " 0   companyAlias            4067 non-null   object        \n",
            " 1   employee                4067 non-null   int64         \n",
            " 2   stillExists             4067 non-null   int64         \n",
            " 3   lastParticipationDate   4067 non-null   datetime64[ns]\n",
            " 4   vote.mean               4067 non-null   float64       \n",
            " 5   vote.mode               4067 non-null   int64         \n",
            " 6   vote.min                4067 non-null   int64         \n",
            " 7   vote.max                4067 non-null   int64         \n",
            " 8   vote.count              4067 non-null   int64         \n",
            " 9   diffDaysVote.max        4067 non-null   int64         \n",
            " 10  diffDaysVote.median     4067 non-null   float64       \n",
            " 11  likes.mean              4067 non-null   float64       \n",
            " 12  likes.min               4067 non-null   float64       \n",
            " 13  likes.max               4067 non-null   float64       \n",
            " 14  dislikes.mean           4067 non-null   float64       \n",
            " 15  dislikes.min            4067 non-null   float64       \n",
            " 16  dislikes.max            4067 non-null   float64       \n",
            " 17  carac.mean              4067 non-null   float64       \n",
            " 18  carac.min               4067 non-null   float64       \n",
            " 19  carac.max               4067 non-null   float64       \n",
            " 20  diffDaysComment.min     4067 non-null   float64       \n",
            " 21  diffDaysComment.max     4067 non-null   float64       \n",
            " 22  diffDaysComment.median  4067 non-null   float64       \n",
            " 23  commentId.count         4067 non-null   float64       \n",
            " 24  companyType             4064 non-null   object        \n",
            " 25  gender                  4064 non-null   object        \n",
            "dtypes: datetime64[ns](1), float64(15), int64(7), object(3)\n",
            "memory usage: 857.9+ KB\n"
          ]
        }
      ]
    },
    {
      "cell_type": "markdown",
      "source": [
        "Por serem poucos valores nulos, será utilizado o método ffill"
      ],
      "metadata": {
        "id": "b_MuOgf14iRZ"
      }
    },
    {
      "cell_type": "code",
      "source": [
        "churn.fillna(method='ffill', inplace=True)"
      ],
      "metadata": {
        "id": "YdLQtGZo3OFl"
      },
      "execution_count": 19,
      "outputs": []
    },
    {
      "cell_type": "markdown",
      "source": [
        "## Enriquecimento dos dados"
      ],
      "metadata": {
        "id": "xeUnc9j9Sipx"
      }
    },
    {
      "cell_type": "markdown",
      "source": [
        "### Combinação de variáveis"
      ],
      "metadata": {
        "id": "EzEg_0yyVmKQ"
      }
    },
    {
      "cell_type": "markdown",
      "source": [
        "#### a) Calcular a razão de likes.mean e dislikes.mean"
      ],
      "metadata": {
        "id": "m4vmAS54Vt5g"
      }
    },
    {
      "cell_type": "code",
      "source": [
        "churn['likesRatio'] = churn['likes.mean'] / churn['dislikes.mean']"
      ],
      "metadata": {
        "id": "xtIm8pZeVlc4"
      },
      "execution_count": 20,
      "outputs": []
    },
    {
      "cell_type": "markdown",
      "source": [
        "#### b) Verificar a existência de valores nulos e infinitos"
      ],
      "metadata": {
        "id": "7O-IaIRfV4K0"
      }
    },
    {
      "cell_type": "code",
      "source": [
        "churn.loc[churn['likesRatio'].isna()].shape"
      ],
      "metadata": {
        "colab": {
          "base_uri": "https://localhost:8080/"
        },
        "id": "fLjVpeCrSq3c",
        "outputId": "edff300a-97d5-4142-d51a-269e89deeba2"
      },
      "execution_count": 21,
      "outputs": [
        {
          "output_type": "execute_result",
          "data": {
            "text/plain": [
              "(106, 27)"
            ]
          },
          "metadata": {},
          "execution_count": 21
        }
      ]
    },
    {
      "cell_type": "code",
      "source": [
        "churn.loc[churn['likesRatio'] == np.inf].shape"
      ],
      "metadata": {
        "colab": {
          "base_uri": "https://localhost:8080/"
        },
        "id": "lUxUmaEv6CiR",
        "outputId": "d8ad5387-7d45-48fb-a82f-747885dad6f5"
      },
      "execution_count": 22,
      "outputs": [
        {
          "output_type": "execute_result",
          "data": {
            "text/plain": [
              "(622, 27)"
            ]
          },
          "metadata": {},
          "execution_count": 22
        }
      ]
    },
    {
      "cell_type": "markdown",
      "source": [
        "#### c) Preencher nulos como 1"
      ],
      "metadata": {
        "id": "95C9hmLh6pFh"
      }
    },
    {
      "cell_type": "code",
      "source": [
        "churn.loc[churn['likesRatio'].isna(), 'likesRatio'] = 1"
      ],
      "metadata": {
        "id": "LsmTgFdN7Djo"
      },
      "execution_count": 23,
      "outputs": []
    },
    {
      "cell_type": "code",
      "source": [
        "churn.loc[churn['likesRatio'].isna()].shape"
      ],
      "metadata": {
        "colab": {
          "base_uri": "https://localhost:8080/"
        },
        "id": "Y-eHt6lFBCvW",
        "outputId": "e029e41f-57dd-4d86-d998-cb91533ebd40"
      },
      "execution_count": 24,
      "outputs": [
        {
          "output_type": "execute_result",
          "data": {
            "text/plain": [
              "(0, 27)"
            ]
          },
          "metadata": {},
          "execution_count": 24
        }
      ]
    },
    {
      "cell_type": "markdown",
      "source": [
        "#### d) Plotar histograma\n",
        "Gerou um pico muito grande em 1, mas existem razões de valor muito superior, gerando uma longa cauda à distribuição e uma grande quantidade de outliers"
      ],
      "metadata": {
        "id": "x8TrDG6t9jbh"
      }
    },
    {
      "cell_type": "code",
      "source": [
        "plt.figure(figsize=(10,6))\n",
        "\n",
        "sns.histplot(data=churn,\n",
        "             x='likesRatio')\n",
        "\n",
        "plt.title(\"Razão de likes por dislikes\")\n",
        "plt.xlabel(\"Razão\")\n",
        "plt.ylabel('Quantidade')\n",
        "\n",
        "plt.show()"
      ],
      "metadata": {
        "colab": {
          "base_uri": "https://localhost:8080/",
          "height": 404
        },
        "id": "IvqMWfvJ9m6E",
        "outputId": "e6438810-cd5f-424f-e3e2-9f74fd3f980c"
      },
      "execution_count": 25,
      "outputs": [
        {
          "output_type": "display_data",
          "data": {
            "text/plain": [
              "<Figure size 720x432 with 1 Axes>"
            ],
            "image/png": "[encoded data removed]"
          },
          "metadata": {
            "needs_background": "light"
          }
        }
      ]
    },
    {
      "cell_type": "code",
      "source": [
        "plt.figure(figsize=(10,6))\n",
        "\n",
        "sns.boxplot(data=churn,\n",
        "             x='likesRatio')\n",
        "\n",
        "plt.title(\"Razão de likes por dislikes\")\n",
        "plt.xlabel(\"Razão\")\n",
        "plt.ylabel('Quantidade')\n",
        "\n",
        "plt.show()"
      ],
      "metadata": {
        "colab": {
          "base_uri": "https://localhost:8080/",
          "height": 404
        },
        "id": "MSzyaKsTAPki",
        "outputId": "c96c2c45-4d90-4af8-9fbd-17a48dd43b7e"
      },
      "execution_count": 26,
      "outputs": [
        {
          "output_type": "display_data",
          "data": {
            "text/plain": [
              "<Figure size 720x432 with 1 Axes>"
            ],
            "image/png": "[encoded data removed]"
          },
          "metadata": {
            "needs_background": "light"
          }
        }
      ]
    },
    {
      "cell_type": "markdown",
      "source": [
        "#### e) Como ela possui picos indesejados e uma cauda muito longa, aplicar a discretização por equal-frequency utilizando 3 bins\n",
        "\n",
        "Primeiro, atribuir um valor alto para os infinitos"
      ],
      "metadata": {
        "id": "uyeQJdseACZX"
      }
    },
    {
      "cell_type": "code",
      "source": [
        "churn.loc[churn['likesRatio'] == np.inf, 'likesRatio'] = 300"
      ],
      "metadata": {
        "id": "g-I8K8myAfgg"
      },
      "execution_count": 27,
      "outputs": []
    },
    {
      "cell_type": "code",
      "source": [
        "discretizer = KBinsDiscretizer(n_bins=3,\n",
        "                               encode='ordinal',\n",
        "                               strategy='quantile')\n",
        "\n",
        "discretizer.fit(churn[['likesRatio']].values)\n",
        "\n",
        "churn['likesRatio.d'] = discretizer.transform(churn[['likesRatio']]\n",
        "                                              .values)"
      ],
      "metadata": {
        "id": "UhS6zjZpEJaJ"
      },
      "execution_count": 28,
      "outputs": []
    },
    {
      "cell_type": "markdown",
      "source": [
        "#### f) Visualize a nova distribuição"
      ],
      "metadata": {
        "id": "tlpCepVkFaJj"
      }
    },
    {
      "cell_type": "code",
      "source": [
        "churn['likesRatio.d'].value_counts()"
      ],
      "metadata": {
        "colab": {
          "base_uri": "https://localhost:8080/"
        },
        "id": "tBOip4n_6kkP",
        "outputId": "fa8b42a2-baa5-4d72-b3c0-db623e280b48"
      },
      "execution_count": 29,
      "outputs": [
        {
          "output_type": "execute_result",
          "data": {
            "text/plain": [
              "1.0    1602\n",
              "2.0    1363\n",
              "0.0    1102\n",
              "Name: likesRatio.d, dtype: int64"
            ]
          },
          "metadata": {},
          "execution_count": 29
        }
      ]
    },
    {
      "cell_type": "code",
      "source": [
        "plt.figure(figsize=(10,6))\n",
        "\n",
        "sns.histplot(data=churn,\n",
        "             x='likesRatio.d',\n",
        "             discrete=True,\n",
        "             shrink=.98)\n",
        "\n",
        "plt.title(\"Razão de likes por dislikes\")\n",
        "plt.xlabel(\"Razão\")\n",
        "plt.ylabel('Quantidade')\n",
        "\n",
        "\n",
        "plt.show()"
      ],
      "metadata": {
        "colab": {
          "base_uri": "https://localhost:8080/",
          "height": 404
        },
        "id": "kBa5tVnOFdwx",
        "outputId": "b6fb293d-60c3-4c4b-d93e-066ca8517ac1"
      },
      "execution_count": 30,
      "outputs": [
        {
          "output_type": "display_data",
          "data": {
            "text/plain": [
              "<Figure size 720x432 with 1 Axes>"
            ],
            "image/png": "[encoded data removed]"
          },
          "metadata": {
            "needs_background": "light"
          }
        }
      ]
    },
    {
      "cell_type": "code",
      "source": [
        "plt.figure(figsize=(10,6))\n",
        "\n",
        "sns.boxplot(data=churn,\n",
        "             x='likesRatio.d')\n",
        "\n",
        "plt.title(\"Razão de likes por dislikes\")\n",
        "plt.xlabel(\"Razão\")\n",
        "plt.ylabel('Quantidade')\n",
        "\n",
        "plt.show()"
      ],
      "metadata": {
        "colab": {
          "base_uri": "https://localhost:8080/",
          "height": 404
        },
        "id": "v-tvF08xFeJp",
        "outputId": "6819e7bf-bc86-4dfa-f595-a3314e9dd7e0"
      },
      "execution_count": 31,
      "outputs": [
        {
          "output_type": "display_data",
          "data": {
            "text/plain": [
              "<Figure size 720x432 with 1 Axes>"
            ],
            "image/png": "[encoded data removed]"
          },
          "metadata": {
            "needs_background": "light"
          }
        }
      ]
    },
    {
      "cell_type": "markdown",
      "source": [
        "### Criar nova dimensão\n",
        "Vamos analizar os comentários, para isso será necessário calcular uma dimensão de comentários que indique se o autor do comentário saiu da empresa ou não.\n",
        "\n",
        "Isso pode indicar que um funcionário que dê like em comentários de quem saiu da empresa pode ser mais propenso a sair também."
      ],
      "metadata": {
        "id": "RwFgeeGZGbWr"
      }
    },
    {
      "cell_type": "markdown",
      "source": [
        "#### a) Fazer um merge entre **comments_clean** e **churn**, trazendo apenas o **stillExists**"
      ],
      "metadata": {
        "id": "pvWjceFsHA0l"
      }
    },
    {
      "cell_type": "code",
      "source": [
        "comments = comments_clean.merge(churn[['companyAlias', \n",
        "                                       'employee', \n",
        "                                       'stillExists']],\n",
        "                                on=['companyAlias',\n",
        "                                    'employee'],\n",
        "                                how='left')"
      ],
      "metadata": {
        "id": "PB0Z7M_VGeiQ"
      },
      "execution_count": 32,
      "outputs": []
    },
    {
      "cell_type": "markdown",
      "source": [
        "Os valores nulos representam funcionários que não estão na base **churn**, então serão excluídos."
      ],
      "metadata": {
        "id": "ZLejPM_JI_ac"
      }
    },
    {
      "cell_type": "code",
      "source": [
        "comments.shape"
      ],
      "metadata": {
        "colab": {
          "base_uri": "https://localhost:8080/"
        },
        "id": "uBOGqxVlNpDM",
        "outputId": "ad1da5ad-6124-46f0-b90c-83910e143e06"
      },
      "execution_count": 33,
      "outputs": [
        {
          "output_type": "execute_result",
          "data": {
            "text/plain": [
              "(39542, 8)"
            ]
          },
          "metadata": {},
          "execution_count": 33
        }
      ]
    },
    {
      "cell_type": "code",
      "source": [
        "comments.loc[comments['stillExists'].isna()].shape"
      ],
      "metadata": {
        "colab": {
          "base_uri": "https://localhost:8080/"
        },
        "id": "tcocARNMHsl3",
        "outputId": "b06f435f-3bb8-4b1c-aeef-da2683d7d4c1"
      },
      "execution_count": 34,
      "outputs": [
        {
          "output_type": "execute_result",
          "data": {
            "text/plain": [
              "(4852, 8)"
            ]
          },
          "metadata": {},
          "execution_count": 34
        }
      ]
    },
    {
      "cell_type": "code",
      "source": [
        "comments.dropna(axis='index', \n",
        "                how='any', \n",
        "                inplace=True)\n",
        "comments.shape"
      ],
      "metadata": {
        "colab": {
          "base_uri": "https://localhost:8080/"
        },
        "id": "K6pv1_tlH3Je",
        "outputId": "8d693957-fdbc-4cda-d224-2f7d25c0f9ca"
      },
      "execution_count": 35,
      "outputs": [
        {
          "output_type": "execute_result",
          "data": {
            "text/plain": [
              "(34690, 8)"
            ]
          },
          "metadata": {},
          "execution_count": 35
        }
      ]
    },
    {
      "cell_type": "code",
      "source": [
        "comments.head(3)"
      ],
      "metadata": {
        "colab": {
          "base_uri": "https://localhost:8080/",
          "height": 143
        },
        "id": "2Hv_VxuQJYgz",
        "outputId": "15367e55-48b7-400b-8ad0-402d22a9eeba"
      },
      "execution_count": 36,
      "outputs": [
        {
          "output_type": "execute_result",
          "data": {
            "text/plain": [
              "   employee              companyAlias                 commentId  likes  \\\n",
              "0       307  56aec740f1ef260003e307d6  58d018d7e010990004e38070      4   \n",
              "1       382  56aec740f1ef260003e307d6  58d0179ae010990004e3806d      1   \n",
              "2       172  56aec740f1ef260003e307d6  58cff8cde010990004e37f6a      3   \n",
              "\n",
              "   dislikes         commentDate  carac  stillExists  \n",
              "0         0 2017-03-20 19:00:17     62          1.0  \n",
              "1         2 2017-03-20 18:55:16     29          1.0  \n",
              "2         0 2017-03-20 16:44:02     27          1.0  "
            ],
            "text/html": [
              "\n",
              "  <div id=\"df-58bd838b-c6ac-40db-8451-ed8b9008191c\">\n",
              "    <div class=\"colab-df-container\">\n",
              "      <div>\n",
              "<style scoped>\n",
              "    .dataframe tbody tr th:only-of-type {\n",
              "        vertical-align: middle;\n",
              "    }\n",
              "\n",
              "    .dataframe tbody tr th {\n",
              "        vertical-align: top;\n",
              "    }\n",
              "\n",
              "    .dataframe thead th {\n",
              "        text-align: right;\n",
              "    }\n",
              "</style>\n",
              "<table border=\"1\" class=\"dataframe\">\n",
              "  <thead>\n",
              "    <tr style=\"text-align: right;\">\n",
              "      <th></th>\n",
              "      <th>employee</th>\n",
              "      <th>companyAlias</th>\n",
              "      <th>commentId</th>\n",
              "      <th>likes</th>\n",
              "      <th>dislikes</th>\n",
              "      <th>commentDate</th>\n",
              "      <th>carac</th>\n",
              "      <th>stillExists</th>\n",
              "    </tr>\n",
              "  </thead>\n",
              "  <tbody>\n",
              "    <tr>\n",
              "      <th>0</th>\n",
              "      <td>307</td>\n",
              "      <td>56aec740f1ef260003e307d6</td>\n",
              "      <td>58d018d7e010990004e38070</td>\n",
              "      <td>4</td>\n",
              "      <td>0</td>\n",
              "      <td>2017-03-20 19:00:17</td>\n",
              "      <td>62</td>\n",
              "      <td>1.0</td>\n",
              "    </tr>\n",
              "    <tr>\n",
              "      <th>1</th>\n",
              "      <td>382</td>\n",
              "      <td>56aec740f1ef260003e307d6</td>\n",
              "      <td>58d0179ae010990004e3806d</td>\n",
              "      <td>1</td>\n",
              "      <td>2</td>\n",
              "      <td>2017-03-20 18:55:16</td>\n",
              "      <td>29</td>\n",
              "      <td>1.0</td>\n",
              "    </tr>\n",
              "    <tr>\n",
              "      <th>2</th>\n",
              "      <td>172</td>\n",
              "      <td>56aec740f1ef260003e307d6</td>\n",
              "      <td>58cff8cde010990004e37f6a</td>\n",
              "      <td>3</td>\n",
              "      <td>0</td>\n",
              "      <td>2017-03-20 16:44:02</td>\n",
              "      <td>27</td>\n",
              "      <td>1.0</td>\n",
              "    </tr>\n",
              "  </tbody>\n",
              "</table>\n",
              "</div>\n",
              "      <button class=\"colab-df-convert\" onclick=\"convertToInteractive('df-58bd838b-c6ac-40db-8451-ed8b9008191c')\"\n",
              "              title=\"Convert this dataframe to an interactive table.\"\n",
              "              style=\"display:none;\">\n",
              "        \n",
              "  <svg xmlns=\"http://www.w3.org/2000/svg\" height=\"24px\"viewBox=\"0 0 24 24\"\n",
              "       width=\"24px\">\n",
              "    <path d=\"M0 0h24v24H0V0z\" fill=\"none\"/>\n",
              "    <path d=\"M18.56 5.44l.94 2.06.94-2.06 2.06-.94-2.06-.94-.94-2.06-.94 2.06-2.06.94zm-11 1L8.5 8.5l.94-2.06 2.06-.94-2.06-.94L8.5 2.5l-.94 2.06-2.06.94zm10 10l.94 2.06.94-2.06 2.06-.94-2.06-.94-.94-2.06-.94 2.06-2.06.94z\"/><path d=\"M17.41 7.96l-1.37-1.37c-.4-.4-.92-.59-1.43-.59-.52 0-1.04.2-1.43.59L10.3 9.45l-7.72 7.72c-.78.78-.78 2.05 0 2.83L4 21.41c.39.39.9.59 1.41.59.51 0 1.02-.2 1.41-.59l7.78-7.78 2.81-2.81c.8-.78.8-2.07 0-2.86zM5.41 20L4 18.59l7.72-7.72 1.47 1.35L5.41 20z\"/>\n",
              "  </svg>\n",
              "      </button>\n",
              "      \n",
              "  <style>\n",
              "    .colab-df-container {\n",
              "      display:flex;\n",
              "      flex-wrap:wrap;\n",
              "      gap: 12px;\n",
              "    }\n",
              "\n",
              "    .colab-df-convert {\n",
              "      background-color: #E8F0FE;\n",
              "      border: none;\n",
              "      border-radius: 50%;\n",
              "      cursor: pointer;\n",
              "      display: none;\n",
              "      fill: #1967D2;\n",
              "      height: 32px;\n",
              "      padding: 0 0 0 0;\n",
              "      width: 32px;\n",
              "    }\n",
              "\n",
              "    .colab-df-convert:hover {\n",
              "      background-color: #E2EBFA;\n",
              "      box-shadow: 0px 1px 2px rgba(60, 64, 67, 0.3), 0px 1px 3px 1px rgba(60, 64, 67, 0.15);\n",
              "      fill: #174EA6;\n",
              "    }\n",
              "\n",
              "    [theme=dark] .colab-df-convert {\n",
              "      background-color: #3B4455;\n",
              "      fill: #D2E3FC;\n",
              "    }\n",
              "\n",
              "    [theme=dark] .colab-df-convert:hover {\n",
              "      background-color: #434B5C;\n",
              "      box-shadow: 0px 1px 3px 1px rgba(0, 0, 0, 0.15);\n",
              "      filter: drop-shadow(0px 1px 2px rgba(0, 0, 0, 0.3));\n",
              "      fill: #FFFFFF;\n",
              "    }\n",
              "  </style>\n",
              "\n",
              "      <script>\n",
              "        const buttonEl =\n",
              "          document.querySelector('#df-58bd838b-c6ac-40db-8451-ed8b9008191c button.colab-df-convert');\n",
              "        buttonEl.style.display =\n",
              "          google.colab.kernel.accessAllowed ? 'block' : 'none';\n",
              "\n",
              "        async function convertToInteractive(key) {\n",
              "          const element = document.querySelector('#df-58bd838b-c6ac-40db-8451-ed8b9008191c');\n",
              "          const dataTable =\n",
              "            await google.colab.kernel.invokeFunction('convertToInteractive',\n",
              "                                                     [key], {});\n",
              "          if (!dataTable) return;\n",
              "\n",
              "          const docLinkHtml = 'Like what you see? Visit the ' +\n",
              "            '<a target=\"_blank\" href=https://colab.research.google.com/notebooks/data_table.ipynb>data table notebook</a>'\n",
              "            + ' to learn more about interactive tables.';\n",
              "          element.innerHTML = '';\n",
              "          dataTable['output_type'] = 'display_data';\n",
              "          await google.colab.output.renderOutput(dataTable, element);\n",
              "          const docLink = document.createElement('div');\n",
              "          docLink.innerHTML = docLinkHtml;\n",
              "          element.appendChild(docLink);\n",
              "        }\n",
              "      </script>\n",
              "    </div>\n",
              "  </div>\n",
              "  "
            ]
          },
          "metadata": {},
          "execution_count": 36
        }
      ]
    },
    {
      "cell_type": "markdown",
      "source": [
        "#### b) Fazer um merge entre **interactions_clean** e **comments**, trazendo apenas o **stillExists**\n",
        "\n",
        "Os valores nulos se referem a comentários inexistentes em **comments** e serão excluídos"
      ],
      "metadata": {
        "id": "OlYU3k05KXBg"
      }
    },
    {
      "cell_type": "code",
      "source": [
        "interactions = interactions_clean.merge(comments[['commentId', \n",
        "                                                  'stillExists']],\n",
        "                                        on=['commentId'],\n",
        "                                        how='left')"
      ],
      "metadata": {
        "id": "KGLTs6WcK4x9"
      },
      "execution_count": 37,
      "outputs": []
    },
    {
      "cell_type": "code",
      "source": [
        "interactions.shape"
      ],
      "metadata": {
        "colab": {
          "base_uri": "https://localhost:8080/"
        },
        "id": "RIGr8d_CN3QQ",
        "outputId": "3de7acb9-af93-46f9-8e6b-d07eddb6c69f"
      },
      "execution_count": 38,
      "outputs": [
        {
          "output_type": "execute_result",
          "data": {
            "text/plain": [
              "(330208, 6)"
            ]
          },
          "metadata": {},
          "execution_count": 38
        }
      ]
    },
    {
      "cell_type": "code",
      "source": [
        "interactions.loc[interactions['stillExists'].isna()].shape"
      ],
      "metadata": {
        "colab": {
          "base_uri": "https://localhost:8080/"
        },
        "id": "XamnCU4IMA-w",
        "outputId": "61ce98c5-9e61-4f2c-923a-33b4f4bf7613"
      },
      "execution_count": 39,
      "outputs": [
        {
          "output_type": "execute_result",
          "data": {
            "text/plain": [
              "(55152, 6)"
            ]
          },
          "metadata": {},
          "execution_count": 39
        }
      ]
    },
    {
      "cell_type": "code",
      "source": [
        "interactions.dropna(axis='index',\n",
        "                    how='any',\n",
        "                    inplace=True)\n",
        "interactions.shape"
      ],
      "metadata": {
        "colab": {
          "base_uri": "https://localhost:8080/"
        },
        "id": "hfq7OAAuN83v",
        "outputId": "dddd4c9d-410a-44fc-e2fe-3d7f316d9f2f"
      },
      "execution_count": 40,
      "outputs": [
        {
          "output_type": "execute_result",
          "data": {
            "text/plain": [
              "(275056, 6)"
            ]
          },
          "metadata": {},
          "execution_count": 40
        }
      ]
    },
    {
      "cell_type": "code",
      "source": [
        "interactions.head(3)"
      ],
      "metadata": {
        "colab": {
          "base_uri": "https://localhost:8080/",
          "height": 143
        },
        "id": "NUr9PYSAO4KN",
        "outputId": "01872b03-70f4-40a7-a616-9094f8954705"
      },
      "execution_count": 41,
      "outputs": [
        {
          "output_type": "execute_result",
          "data": {
            "text/plain": [
              "   employee              companyAlias  liked  disliked  \\\n",
              "0       307  56aec740f1ef260003e307d6      1         0   \n",
              "1        36  56aec740f1ef260003e307d6      1         0   \n",
              "2       276  56aec740f1ef260003e307d6      1         0   \n",
              "\n",
              "                  commentId  stillExists  \n",
              "0  58d018d7e010990004e38070          1.0  \n",
              "1  58d018d7e010990004e38070          1.0  \n",
              "2  58d018d7e010990004e38070          1.0  "
            ],
            "text/html": [
              "\n",
              "  <div id=\"df-96624b74-03d6-487e-9947-09676375a3e0\">\n",
              "    <div class=\"colab-df-container\">\n",
              "      <div>\n",
              "<style scoped>\n",
              "    .dataframe tbody tr th:only-of-type {\n",
              "        vertical-align: middle;\n",
              "    }\n",
              "\n",
              "    .dataframe tbody tr th {\n",
              "        vertical-align: top;\n",
              "    }\n",
              "\n",
              "    .dataframe thead th {\n",
              "        text-align: right;\n",
              "    }\n",
              "</style>\n",
              "<table border=\"1\" class=\"dataframe\">\n",
              "  <thead>\n",
              "    <tr style=\"text-align: right;\">\n",
              "      <th></th>\n",
              "      <th>employee</th>\n",
              "      <th>companyAlias</th>\n",
              "      <th>liked</th>\n",
              "      <th>disliked</th>\n",
              "      <th>commentId</th>\n",
              "      <th>stillExists</th>\n",
              "    </tr>\n",
              "  </thead>\n",
              "  <tbody>\n",
              "    <tr>\n",
              "      <th>0</th>\n",
              "      <td>307</td>\n",
              "      <td>56aec740f1ef260003e307d6</td>\n",
              "      <td>1</td>\n",
              "      <td>0</td>\n",
              "      <td>58d018d7e010990004e38070</td>\n",
              "      <td>1.0</td>\n",
              "    </tr>\n",
              "    <tr>\n",
              "      <th>1</th>\n",
              "      <td>36</td>\n",
              "      <td>56aec740f1ef260003e307d6</td>\n",
              "      <td>1</td>\n",
              "      <td>0</td>\n",
              "      <td>58d018d7e010990004e38070</td>\n",
              "      <td>1.0</td>\n",
              "    </tr>\n",
              "    <tr>\n",
              "      <th>2</th>\n",
              "      <td>276</td>\n",
              "      <td>56aec740f1ef260003e307d6</td>\n",
              "      <td>1</td>\n",
              "      <td>0</td>\n",
              "      <td>58d018d7e010990004e38070</td>\n",
              "      <td>1.0</td>\n",
              "    </tr>\n",
              "  </tbody>\n",
              "</table>\n",
              "</div>\n",
              "      <button class=\"colab-df-convert\" onclick=\"convertToInteractive('df-96624b74-03d6-487e-9947-09676375a3e0')\"\n",
              "              title=\"Convert this dataframe to an interactive table.\"\n",
              "              style=\"display:none;\">\n",
              "        \n",
              "  <svg xmlns=\"http://www.w3.org/2000/svg\" height=\"24px\"viewBox=\"0 0 24 24\"\n",
              "       width=\"24px\">\n",
              "    <path d=\"M0 0h24v24H0V0z\" fill=\"none\"/>\n",
              "    <path d=\"M18.56 5.44l.94 2.06.94-2.06 2.06-.94-2.06-.94-.94-2.06-.94 2.06-2.06.94zm-11 1L8.5 8.5l.94-2.06 2.06-.94-2.06-.94L8.5 2.5l-.94 2.06-2.06.94zm10 10l.94 2.06.94-2.06 2.06-.94-2.06-.94-.94-2.06-.94 2.06-2.06.94z\"/><path d=\"M17.41 7.96l-1.37-1.37c-.4-.4-.92-.59-1.43-.59-.52 0-1.04.2-1.43.59L10.3 9.45l-7.72 7.72c-.78.78-.78 2.05 0 2.83L4 21.41c.39.39.9.59 1.41.59.51 0 1.02-.2 1.41-.59l7.78-7.78 2.81-2.81c.8-.78.8-2.07 0-2.86zM5.41 20L4 18.59l7.72-7.72 1.47 1.35L5.41 20z\"/>\n",
              "  </svg>\n",
              "      </button>\n",
              "      \n",
              "  <style>\n",
              "    .colab-df-container {\n",
              "      display:flex;\n",
              "      flex-wrap:wrap;\n",
              "      gap: 12px;\n",
              "    }\n",
              "\n",
              "    .colab-df-convert {\n",
              "      background-color: #E8F0FE;\n",
              "      border: none;\n",
              "      border-radius: 50%;\n",
              "      cursor: pointer;\n",
              "      display: none;\n",
              "      fill: #1967D2;\n",
              "      height: 32px;\n",
              "      padding: 0 0 0 0;\n",
              "      width: 32px;\n",
              "    }\n",
              "\n",
              "    .colab-df-convert:hover {\n",
              "      background-color: #E2EBFA;\n",
              "      box-shadow: 0px 1px 2px rgba(60, 64, 67, 0.3), 0px 1px 3px 1px rgba(60, 64, 67, 0.15);\n",
              "      fill: #174EA6;\n",
              "    }\n",
              "\n",
              "    [theme=dark] .colab-df-convert {\n",
              "      background-color: #3B4455;\n",
              "      fill: #D2E3FC;\n",
              "    }\n",
              "\n",
              "    [theme=dark] .colab-df-convert:hover {\n",
              "      background-color: #434B5C;\n",
              "      box-shadow: 0px 1px 3px 1px rgba(0, 0, 0, 0.15);\n",
              "      filter: drop-shadow(0px 1px 2px rgba(0, 0, 0, 0.3));\n",
              "      fill: #FFFFFF;\n",
              "    }\n",
              "  </style>\n",
              "\n",
              "      <script>\n",
              "        const buttonEl =\n",
              "          document.querySelector('#df-96624b74-03d6-487e-9947-09676375a3e0 button.colab-df-convert');\n",
              "        buttonEl.style.display =\n",
              "          google.colab.kernel.accessAllowed ? 'block' : 'none';\n",
              "\n",
              "        async function convertToInteractive(key) {\n",
              "          const element = document.querySelector('#df-96624b74-03d6-487e-9947-09676375a3e0');\n",
              "          const dataTable =\n",
              "            await google.colab.kernel.invokeFunction('convertToInteractive',\n",
              "                                                     [key], {});\n",
              "          if (!dataTable) return;\n",
              "\n",
              "          const docLinkHtml = 'Like what you see? Visit the ' +\n",
              "            '<a target=\"_blank\" href=https://colab.research.google.com/notebooks/data_table.ipynb>data table notebook</a>'\n",
              "            + ' to learn more about interactive tables.';\n",
              "          element.innerHTML = '';\n",
              "          dataTable['output_type'] = 'display_data';\n",
              "          await google.colab.output.renderOutput(dataTable, element);\n",
              "          const docLink = document.createElement('div');\n",
              "          docLink.innerHTML = docLinkHtml;\n",
              "          element.appendChild(docLink);\n",
              "        }\n",
              "      </script>\n",
              "    </div>\n",
              "  </div>\n",
              "  "
            ]
          },
          "metadata": {},
          "execution_count": 41
        }
      ]
    },
    {
      "cell_type": "markdown",
      "source": [
        "#### c) Criar uma pivot table, calculando a média de **stillExists** para cada funcionário de acordo com **liked** e **disliked**"
      ],
      "metadata": {
        "id": "kZqbcBqlOg6d"
      }
    },
    {
      "cell_type": "code",
      "source": [
        "liked_comments = pd.pivot_table(interactions,\n",
        "                                values='stillExists',\n",
        "                                index=['companyAlias', 'employee'],\n",
        "                                columns=['liked', 'disliked'],\n",
        "                                aggfunc= np.mean,\n",
        "                                fill_value= 0)"
      ],
      "metadata": {
        "id": "wSh0tGqeQM6W"
      },
      "execution_count": 42,
      "outputs": []
    },
    {
      "cell_type": "code",
      "source": [
        "liked_comments.head()"
      ],
      "metadata": {
        "colab": {
          "base_uri": "https://localhost:8080/",
          "height": 269
        },
        "id": "Bb-pwA0PRH7E",
        "outputId": "9822aaca-a301-440e-aa28-4cf4e7c305de"
      },
      "execution_count": 43,
      "outputs": [
        {
          "output_type": "execute_result",
          "data": {
            "text/plain": [
              "liked                                     0         1\n",
              "disliked                                  1         0\n",
              "companyAlias             employee                    \n",
              "5370af43e4b0cff95558c12a 18        0.444444  0.589912\n",
              "                         20        0.000000  0.375000\n",
              "                         21        0.125000  0.595238\n",
              "                         22        0.500000  0.333333\n",
              "                         23        0.500000  0.500000"
            ],
            "text/html": [
              "\n",
              "  <div id=\"df-1cb80dbc-08d4-41e1-9897-27f91aaf8622\">\n",
              "    <div class=\"colab-df-container\">\n",
              "      <div>\n",
              "<style scoped>\n",
              "    .dataframe tbody tr th:only-of-type {\n",
              "        vertical-align: middle;\n",
              "    }\n",
              "\n",
              "    .dataframe tbody tr th {\n",
              "        vertical-align: top;\n",
              "    }\n",
              "\n",
              "    .dataframe thead tr th {\n",
              "        text-align: left;\n",
              "    }\n",
              "\n",
              "    .dataframe thead tr:last-of-type th {\n",
              "        text-align: right;\n",
              "    }\n",
              "</style>\n",
              "<table border=\"1\" class=\"dataframe\">\n",
              "  <thead>\n",
              "    <tr>\n",
              "      <th></th>\n",
              "      <th>liked</th>\n",
              "      <th>0</th>\n",
              "      <th>1</th>\n",
              "    </tr>\n",
              "    <tr>\n",
              "      <th></th>\n",
              "      <th>disliked</th>\n",
              "      <th>1</th>\n",
              "      <th>0</th>\n",
              "    </tr>\n",
              "    <tr>\n",
              "      <th>companyAlias</th>\n",
              "      <th>employee</th>\n",
              "      <th></th>\n",
              "      <th></th>\n",
              "    </tr>\n",
              "  </thead>\n",
              "  <tbody>\n",
              "    <tr>\n",
              "      <th rowspan=\"5\" valign=\"top\">5370af43e4b0cff95558c12a</th>\n",
              "      <th>18</th>\n",
              "      <td>0.444444</td>\n",
              "      <td>0.589912</td>\n",
              "    </tr>\n",
              "    <tr>\n",
              "      <th>20</th>\n",
              "      <td>0.000000</td>\n",
              "      <td>0.375000</td>\n",
              "    </tr>\n",
              "    <tr>\n",
              "      <th>21</th>\n",
              "      <td>0.125000</td>\n",
              "      <td>0.595238</td>\n",
              "    </tr>\n",
              "    <tr>\n",
              "      <th>22</th>\n",
              "      <td>0.500000</td>\n",
              "      <td>0.333333</td>\n",
              "    </tr>\n",
              "    <tr>\n",
              "      <th>23</th>\n",
              "      <td>0.500000</td>\n",
              "      <td>0.500000</td>\n",
              "    </tr>\n",
              "  </tbody>\n",
              "</table>\n",
              "</div>\n",
              "      <button class=\"colab-df-convert\" onclick=\"convertToInteractive('df-1cb80dbc-08d4-41e1-9897-27f91aaf8622')\"\n",
              "              title=\"Convert this dataframe to an interactive table.\"\n",
              "              style=\"display:none;\">\n",
              "        \n",
              "  <svg xmlns=\"http://www.w3.org/2000/svg\" height=\"24px\"viewBox=\"0 0 24 24\"\n",
              "       width=\"24px\">\n",
              "    <path d=\"M0 0h24v24H0V0z\" fill=\"none\"/>\n",
              "    <path d=\"M18.56 5.44l.94 2.06.94-2.06 2.06-.94-2.06-.94-.94-2.06-.94 2.06-2.06.94zm-11 1L8.5 8.5l.94-2.06 2.06-.94-2.06-.94L8.5 2.5l-.94 2.06-2.06.94zm10 10l.94 2.06.94-2.06 2.06-.94-2.06-.94-.94-2.06-.94 2.06-2.06.94z\"/><path d=\"M17.41 7.96l-1.37-1.37c-.4-.4-.92-.59-1.43-.59-.52 0-1.04.2-1.43.59L10.3 9.45l-7.72 7.72c-.78.78-.78 2.05 0 2.83L4 21.41c.39.39.9.59 1.41.59.51 0 1.02-.2 1.41-.59l7.78-7.78 2.81-2.81c.8-.78.8-2.07 0-2.86zM5.41 20L4 18.59l7.72-7.72 1.47 1.35L5.41 20z\"/>\n",
              "  </svg>\n",
              "      </button>\n",
              "      \n",
              "  <style>\n",
              "    .colab-df-container {\n",
              "      display:flex;\n",
              "      flex-wrap:wrap;\n",
              "      gap: 12px;\n",
              "    }\n",
              "\n",
              "    .colab-df-convert {\n",
              "      background-color: #E8F0FE;\n",
              "      border: none;\n",
              "      border-radius: 50%;\n",
              "      cursor: pointer;\n",
              "      display: none;\n",
              "      fill: #1967D2;\n",
              "      height: 32px;\n",
              "      padding: 0 0 0 0;\n",
              "      width: 32px;\n",
              "    }\n",
              "\n",
              "    .colab-df-convert:hover {\n",
              "      background-color: #E2EBFA;\n",
              "      box-shadow: 0px 1px 2px rgba(60, 64, 67, 0.3), 0px 1px 3px 1px rgba(60, 64, 67, 0.15);\n",
              "      fill: #174EA6;\n",
              "    }\n",
              "\n",
              "    [theme=dark] .colab-df-convert {\n",
              "      background-color: #3B4455;\n",
              "      fill: #D2E3FC;\n",
              "    }\n",
              "\n",
              "    [theme=dark] .colab-df-convert:hover {\n",
              "      background-color: #434B5C;\n",
              "      box-shadow: 0px 1px 3px 1px rgba(0, 0, 0, 0.15);\n",
              "      filter: drop-shadow(0px 1px 2px rgba(0, 0, 0, 0.3));\n",
              "      fill: #FFFFFF;\n",
              "    }\n",
              "  </style>\n",
              "\n",
              "      <script>\n",
              "        const buttonEl =\n",
              "          document.querySelector('#df-1cb80dbc-08d4-41e1-9897-27f91aaf8622 button.colab-df-convert');\n",
              "        buttonEl.style.display =\n",
              "          google.colab.kernel.accessAllowed ? 'block' : 'none';\n",
              "\n",
              "        async function convertToInteractive(key) {\n",
              "          const element = document.querySelector('#df-1cb80dbc-08d4-41e1-9897-27f91aaf8622');\n",
              "          const dataTable =\n",
              "            await google.colab.kernel.invokeFunction('convertToInteractive',\n",
              "                                                     [key], {});\n",
              "          if (!dataTable) return;\n",
              "\n",
              "          const docLinkHtml = 'Like what you see? Visit the ' +\n",
              "            '<a target=\"_blank\" href=https://colab.research.google.com/notebooks/data_table.ipynb>data table notebook</a>'\n",
              "            + ' to learn more about interactive tables.';\n",
              "          element.innerHTML = '';\n",
              "          dataTable['output_type'] = 'display_data';\n",
              "          await google.colab.output.renderOutput(dataTable, element);\n",
              "          const docLink = document.createElement('div');\n",
              "          docLink.innerHTML = docLinkHtml;\n",
              "          element.appendChild(docLink);\n",
              "        }\n",
              "      </script>\n",
              "    </div>\n",
              "  </div>\n",
              "  "
            ]
          },
          "metadata": {},
          "execution_count": 43
        }
      ]
    },
    {
      "cell_type": "code",
      "source": [
        "liked_comments.columns = ['disliked', 'liked']"
      ],
      "metadata": {
        "id": "lQlq5brSRcr6"
      },
      "execution_count": 44,
      "outputs": []
    },
    {
      "cell_type": "code",
      "source": [
        "liked_comments.reset_index(inplace=True)\n",
        "liked_comments.rename(columns={'liked': 'stillExists.meanLikedComments',\n",
        "                               'disliked': 'stillExists.meanDislikedComments'},\n",
        "                      inplace=True)"
      ],
      "metadata": {
        "id": "h7H7hGE_SFfJ"
      },
      "execution_count": 45,
      "outputs": []
    },
    {
      "cell_type": "code",
      "source": [
        "liked_comments.shape"
      ],
      "metadata": {
        "colab": {
          "base_uri": "https://localhost:8080/"
        },
        "id": "Y42ViofmVDdU",
        "outputId": "e3a37e9a-91b2-445c-84e6-369b1cc41b25"
      },
      "execution_count": 46,
      "outputs": [
        {
          "output_type": "execute_result",
          "data": {
            "text/plain": [
              "(3123, 4)"
            ]
          },
          "metadata": {},
          "execution_count": 46
        }
      ]
    },
    {
      "cell_type": "markdown",
      "source": [
        "#### d) Fazer um merge entre **churn** e **liked_comments**\n",
        "Transferindo as novas informações criadas para base original."
      ],
      "metadata": {
        "id": "5U_mwKuFU6Ge"
      }
    },
    {
      "cell_type": "code",
      "source": [
        "churn.shape"
      ],
      "metadata": {
        "colab": {
          "base_uri": "https://localhost:8080/"
        },
        "id": "2Z0GUBKkVIiL",
        "outputId": "72dbfd20-be62-4573-d8ff-977a80fde26d"
      },
      "execution_count": 47,
      "outputs": [
        {
          "output_type": "execute_result",
          "data": {
            "text/plain": [
              "(4067, 28)"
            ]
          },
          "metadata": {},
          "execution_count": 47
        }
      ]
    },
    {
      "cell_type": "code",
      "source": [
        "churn = churn.merge(liked_comments,\n",
        "                    on=['companyAlias', 'employee'],\n",
        "                    how='left')"
      ],
      "metadata": {
        "id": "-9Si0iDQVOel"
      },
      "execution_count": 48,
      "outputs": []
    },
    {
      "cell_type": "code",
      "source": [
        "churn.info()"
      ],
      "metadata": {
        "colab": {
          "base_uri": "https://localhost:8080/"
        },
        "id": "Hfh8SkTS2ALc",
        "outputId": "daaefd87-726c-40c7-ffdf-3e42556be748"
      },
      "execution_count": 49,
      "outputs": [
        {
          "output_type": "stream",
          "name": "stdout",
          "text": [
            "<class 'pandas.core.frame.DataFrame'>\n",
            "Int64Index: 4067 entries, 0 to 4066\n",
            "Data columns (total 30 columns):\n",
            " #   Column                            Non-Null Count  Dtype         \n",
            "---  ------                            --------------  -----         \n",
            " 0   companyAlias                      4067 non-null   object        \n",
            " 1   employee                          4067 non-null   int64         \n",
            " 2   stillExists                       4067 non-null   int64         \n",
            " 3   lastParticipationDate             4067 non-null   datetime64[ns]\n",
            " 4   vote.mean                         4067 non-null   float64       \n",
            " 5   vote.mode                         4067 non-null   int64         \n",
            " 6   vote.min                          4067 non-null   int64         \n",
            " 7   vote.max                          4067 non-null   int64         \n",
            " 8   vote.count                        4067 non-null   int64         \n",
            " 9   diffDaysVote.max                  4067 non-null   int64         \n",
            " 10  diffDaysVote.median               4067 non-null   float64       \n",
            " 11  likes.mean                        4067 non-null   float64       \n",
            " 12  likes.min                         4067 non-null   float64       \n",
            " 13  likes.max                         4067 non-null   float64       \n",
            " 14  dislikes.mean                     4067 non-null   float64       \n",
            " 15  dislikes.min                      4067 non-null   float64       \n",
            " 16  dislikes.max                      4067 non-null   float64       \n",
            " 17  carac.mean                        4067 non-null   float64       \n",
            " 18  carac.min                         4067 non-null   float64       \n",
            " 19  carac.max                         4067 non-null   float64       \n",
            " 20  diffDaysComment.min               4067 non-null   float64       \n",
            " 21  diffDaysComment.max               4067 non-null   float64       \n",
            " 22  diffDaysComment.median            4067 non-null   float64       \n",
            " 23  commentId.count                   4067 non-null   float64       \n",
            " 24  companyType                       4067 non-null   object        \n",
            " 25  gender                            4067 non-null   object        \n",
            " 26  likesRatio                        4067 non-null   float64       \n",
            " 27  likesRatio.d                      4067 non-null   float64       \n",
            " 28  stillExists.meanDislikedComments  3009 non-null   float64       \n",
            " 29  stillExists.meanLikedComments     3009 non-null   float64       \n",
            "dtypes: datetime64[ns](1), float64(19), int64(7), object(3)\n",
            "memory usage: 985.0+ KB\n"
          ]
        }
      ]
    },
    {
      "cell_type": "markdown",
      "source": [
        "Os valores nulos se referem a funcionários que não comentaram, ou cujos comentários não tivem interações, portanto serão preenchidos por 0"
      ],
      "metadata": {
        "id": "b4MZgVxoVnUx"
      }
    },
    {
      "cell_type": "code",
      "source": [
        "churn.loc[churn['stillExists.meanDislikedComments'].isna()].shape"
      ],
      "metadata": {
        "colab": {
          "base_uri": "https://localhost:8080/"
        },
        "id": "xVDSPmpoVg-X",
        "outputId": "23ad3ad3-a594-4087-bac2-f3df3e2ea122"
      },
      "execution_count": 50,
      "outputs": [
        {
          "output_type": "execute_result",
          "data": {
            "text/plain": [
              "(1058, 30)"
            ]
          },
          "metadata": {},
          "execution_count": 50
        }
      ]
    },
    {
      "cell_type": "code",
      "source": [
        "churn.loc[churn['stillExists.meanDislikedComments'].isna(), \n",
        "          ['stillExists.meanDislikedComments', \n",
        "           'stillExists.meanLikedComments']] = 0"
      ],
      "metadata": {
        "id": "U2IkuUMgWxrw"
      },
      "execution_count": 51,
      "outputs": []
    },
    {
      "cell_type": "code",
      "source": [
        "churn.describe().T"
      ],
      "metadata": {
        "colab": {
          "base_uri": "https://localhost:8080/",
          "height": 865
        },
        "id": "VQKR_IzWXP9s",
        "outputId": "dbfd070f-5307-4b1d-a7c0-2b7f1b8b2802"
      },
      "execution_count": 52,
      "outputs": [
        {
          "output_type": "execute_result",
          "data": {
            "text/plain": [
              "                                   count        mean         std   min  \\\n",
              "employee                          4067.0  192.624539  206.291948  1.00   \n",
              "stillExists                       4067.0    0.854438    0.352710  0.00   \n",
              "vote.mean                         4067.0    2.959289    0.635475  1.00   \n",
              "vote.mode                         4067.0    2.985739    0.826452  1.00   \n",
              "vote.min                          4067.0    1.913204    0.949844  1.00   \n",
              "vote.max                          4067.0    3.716007    0.510824  2.00   \n",
              "vote.count                        4067.0   45.848291   57.834256  1.00   \n",
              "diffDaysVote.max                  4067.0  136.111384  133.783987  0.00   \n",
              "diffDaysVote.median               4067.0   73.179862   73.901932  0.00   \n",
              "likes.mean                        4067.0    6.467529    4.338262  0.00   \n",
              "likes.min                         4067.0    2.185052    2.578090  0.00   \n",
              "likes.max                         4067.0   14.167108    9.807743  0.00   \n",
              "dislikes.mean                     4067.0    1.092855    1.071616  0.00   \n",
              "dislikes.min                      4067.0    0.191269    0.462564  0.00   \n",
              "dislikes.max                      4067.0    4.127420    4.007607  0.00   \n",
              "carac.mean                        4067.0   86.839001   53.885238  0.75   \n",
              "carac.min                         4067.0   29.820060   26.724018  0.00   \n",
              "carac.max                         4067.0  238.980465  221.852253  1.00   \n",
              "diffDaysComment.min               4067.0   26.920826   46.947078  0.00   \n",
              "diffDaysComment.max               4067.0  136.713548   98.754819  0.00   \n",
              "diffDaysComment.median            4067.0   93.833538   73.950597  0.00   \n",
              "commentId.count                   4067.0    7.774527   12.975555  0.00   \n",
              "likesRatio                        4067.0   52.648411  105.621990  0.00   \n",
              "likesRatio.d                      4067.0    1.064175    0.775969  0.00   \n",
              "stillExists.meanDislikedComments  4067.0    0.487102    0.480250  0.00   \n",
              "stillExists.meanLikedComments     4067.0    0.679346    0.436552  0.00   \n",
              "\n",
              "                                        25%         50%         75%  \\\n",
              "employee                          51.000000  131.000000  244.000000   \n",
              "stillExists                        1.000000    1.000000    1.000000   \n",
              "vote.mean                          2.666667    3.000000    3.333333   \n",
              "vote.mode                          3.000000    3.000000    4.000000   \n",
              "vote.min                           1.000000    2.000000    3.000000   \n",
              "vote.max                           3.000000    4.000000    4.000000   \n",
              "vote.count                         6.000000   20.000000   65.000000   \n",
              "diffDaysVote.max                  21.000000  107.000000  206.500000   \n",
              "diffDaysVote.median               10.500000   55.000000  113.000000   \n",
              "likes.mean                         3.500000    6.631448    6.918435   \n",
              "likes.min                          0.000000    2.344741    2.344741   \n",
              "likes.max                          7.000000   14.630043   15.000000   \n",
              "dislikes.mean                      0.277778    1.169380    1.169380   \n",
              "dislikes.min                       0.000000    0.000000    0.247118   \n",
              "dislikes.max                       1.000000    4.383285    4.383285   \n",
              "carac.mean                        50.973684   89.613631   89.613631   \n",
              "carac.min                         12.000000   31.292147   31.292147   \n",
              "carac.max                         96.000000  252.243876  252.243876   \n",
              "diffDaysComment.min                2.000000    9.000000   20.000000   \n",
              "diffDaysComment.max               75.000000  129.000000  165.000000   \n",
              "diffDaysComment.median            45.000000   84.500000  114.000000   \n",
              "commentId.count                    0.000000    2.000000    9.000000   \n",
              "likesRatio                         5.000000    5.670908   13.180556   \n",
              "likesRatio.d                       0.000000    1.000000    2.000000   \n",
              "stillExists.meanDislikedComments   0.000000    0.500000    1.000000   \n",
              "stillExists.meanLikedComments      0.000000    0.988372    1.000000   \n",
              "\n",
              "                                          max  \n",
              "employee                           999.000000  \n",
              "stillExists                          1.000000  \n",
              "vote.mean                            4.000000  \n",
              "vote.mode                            4.000000  \n",
              "vote.min                             4.000000  \n",
              "vote.max                             4.000000  \n",
              "vote.count                         275.000000  \n",
              "diffDaysVote.max                   572.000000  \n",
              "diffDaysVote.median                330.500000  \n",
              "likes.mean                          20.648649  \n",
              "likes.min                           12.000000  \n",
              "likes.max                           45.000000  \n",
              "dislikes.mean                        5.666667  \n",
              "dislikes.min                         3.000000  \n",
              "dislikes.max                        18.000000  \n",
              "carac.mean                         283.000000  \n",
              "carac.min                          146.000000  \n",
              "carac.max                         1770.000000  \n",
              "diffDaysComment.min                210.000000  \n",
              "diffDaysComment.max                473.000000  \n",
              "diffDaysComment.median             352.000000  \n",
              "commentId.count                     59.000000  \n",
              "likesRatio                         300.000000  \n",
              "likesRatio.d                         2.000000  \n",
              "stillExists.meanDislikedComments     1.000000  \n",
              "stillExists.meanLikedComments        1.000000  "
            ],
            "text/html": [
              "\n",
              "  <div id=\"df-f79b38bc-9796-4e50-a9f4-52d392fabe4e\">\n",
              "    <div class=\"colab-df-container\">\n",
              "      <div>\n",
              "<style scoped>\n",
              "    .dataframe tbody tr th:only-of-type {\n",
              "        vertical-align: middle;\n",
              "    }\n",
              "\n",
              "    .dataframe tbody tr th {\n",
              "        vertical-align: top;\n",
              "    }\n",
              "\n",
              "    .dataframe thead th {\n",
              "        text-align: right;\n",
              "    }\n",
              "</style>\n",
              "<table border=\"1\" class=\"dataframe\">\n",
              "  <thead>\n",
              "    <tr style=\"text-align: right;\">\n",
              "      <th></th>\n",
              "      <th>count</th>\n",
              "      <th>mean</th>\n",
              "      <th>std</th>\n",
              "      <th>min</th>\n",
              "      <th>25%</th>\n",
              "      <th>50%</th>\n",
              "      <th>75%</th>\n",
              "      <th>max</th>\n",
              "    </tr>\n",
              "  </thead>\n",
              "  <tbody>\n",
              "    <tr>\n",
              "      <th>employee</th>\n",
              "      <td>4067.0</td>\n",
              "      <td>192.624539</td>\n",
              "      <td>206.291948</td>\n",
              "      <td>1.00</td>\n",
              "      <td>51.000000</td>\n",
              "      <td>131.000000</td>\n",
              "      <td>244.000000</td>\n",
              "      <td>999.000000</td>\n",
              "    </tr>\n",
              "    <tr>\n",
              "      <th>stillExists</th>\n",
              "      <td>4067.0</td>\n",
              "      <td>0.854438</td>\n",
              "      <td>0.352710</td>\n",
              "      <td>0.00</td>\n",
              "      <td>1.000000</td>\n",
              "      <td>1.000000</td>\n",
              "      <td>1.000000</td>\n",
              "      <td>1.000000</td>\n",
              "    </tr>\n",
              "    <tr>\n",
              "      <th>vote.mean</th>\n",
              "      <td>4067.0</td>\n",
              "      <td>2.959289</td>\n",
              "      <td>0.635475</td>\n",
              "      <td>1.00</td>\n",
              "      <td>2.666667</td>\n",
              "      <td>3.000000</td>\n",
              "      <td>3.333333</td>\n",
              "      <td>4.000000</td>\n",
              "    </tr>\n",
              "    <tr>\n",
              "      <th>vote.mode</th>\n",
              "      <td>4067.0</td>\n",
              "      <td>2.985739</td>\n",
              "      <td>0.826452</td>\n",
              "      <td>1.00</td>\n",
              "      <td>3.000000</td>\n",
              "      <td>3.000000</td>\n",
              "      <td>4.000000</td>\n",
              "      <td>4.000000</td>\n",
              "    </tr>\n",
              "    <tr>\n",
              "      <th>vote.min</th>\n",
              "      <td>4067.0</td>\n",
              "      <td>1.913204</td>\n",
              "      <td>0.949844</td>\n",
              "      <td>1.00</td>\n",
              "      <td>1.000000</td>\n",
              "      <td>2.000000</td>\n",
              "      <td>3.000000</td>\n",
              "      <td>4.000000</td>\n",
              "    </tr>\n",
              "    <tr>\n",
              "      <th>vote.max</th>\n",
              "      <td>4067.0</td>\n",
              "      <td>3.716007</td>\n",
              "      <td>0.510824</td>\n",
              "      <td>2.00</td>\n",
              "      <td>3.000000</td>\n",
              "      <td>4.000000</td>\n",
              "      <td>4.000000</td>\n",
              "      <td>4.000000</td>\n",
              "    </tr>\n",
              "    <tr>\n",
              "      <th>vote.count</th>\n",
              "      <td>4067.0</td>\n",
              "      <td>45.848291</td>\n",
              "      <td>57.834256</td>\n",
              "      <td>1.00</td>\n",
              "      <td>6.000000</td>\n",
              "      <td>20.000000</td>\n",
              "      <td>65.000000</td>\n",
              "      <td>275.000000</td>\n",
              "    </tr>\n",
              "    <tr>\n",
              "      <th>diffDaysVote.max</th>\n",
              "      <td>4067.0</td>\n",
              "      <td>136.111384</td>\n",
              "      <td>133.783987</td>\n",
              "      <td>0.00</td>\n",
              "      <td>21.000000</td>\n",
              "      <td>107.000000</td>\n",
              "      <td>206.500000</td>\n",
              "      <td>572.000000</td>\n",
              "    </tr>\n",
              "    <tr>\n",
              "      <th>diffDaysVote.median</th>\n",
              "      <td>4067.0</td>\n",
              "      <td>73.179862</td>\n",
              "      <td>73.901932</td>\n",
              "      <td>0.00</td>\n",
              "      <td>10.500000</td>\n",
              "      <td>55.000000</td>\n",
              "      <td>113.000000</td>\n",
              "      <td>330.500000</td>\n",
              "    </tr>\n",
              "    <tr>\n",
              "      <th>likes.mean</th>\n",
              "      <td>4067.0</td>\n",
              "      <td>6.467529</td>\n",
              "      <td>4.338262</td>\n",
              "      <td>0.00</td>\n",
              "      <td>3.500000</td>\n",
              "      <td>6.631448</td>\n",
              "      <td>6.918435</td>\n",
              "      <td>20.648649</td>\n",
              "    </tr>\n",
              "    <tr>\n",
              "      <th>likes.min</th>\n",
              "      <td>4067.0</td>\n",
              "      <td>2.185052</td>\n",
              "      <td>2.578090</td>\n",
              "      <td>0.00</td>\n",
              "      <td>0.000000</td>\n",
              "      <td>2.344741</td>\n",
              "      <td>2.344741</td>\n",
              "      <td>12.000000</td>\n",
              "    </tr>\n",
              "    <tr>\n",
              "      <th>likes.max</th>\n",
              "      <td>4067.0</td>\n",
              "      <td>14.167108</td>\n",
              "      <td>9.807743</td>\n",
              "      <td>0.00</td>\n",
              "      <td>7.000000</td>\n",
              "      <td>14.630043</td>\n",
              "      <td>15.000000</td>\n",
              "      <td>45.000000</td>\n",
              "    </tr>\n",
              "    <tr>\n",
              "      <th>dislikes.mean</th>\n",
              "      <td>4067.0</td>\n",
              "      <td>1.092855</td>\n",
              "      <td>1.071616</td>\n",
              "      <td>0.00</td>\n",
              "      <td>0.277778</td>\n",
              "      <td>1.169380</td>\n",
              "      <td>1.169380</td>\n",
              "      <td>5.666667</td>\n",
              "    </tr>\n",
              "    <tr>\n",
              "      <th>dislikes.min</th>\n",
              "      <td>4067.0</td>\n",
              "      <td>0.191269</td>\n",
              "      <td>0.462564</td>\n",
              "      <td>0.00</td>\n",
              "      <td>0.000000</td>\n",
              "      <td>0.000000</td>\n",
              "      <td>0.247118</td>\n",
              "      <td>3.000000</td>\n",
              "    </tr>\n",
              "    <tr>\n",
              "      <th>dislikes.max</th>\n",
              "      <td>4067.0</td>\n",
              "      <td>4.127420</td>\n",
              "      <td>4.007607</td>\n",
              "      <td>0.00</td>\n",
              "      <td>1.000000</td>\n",
              "      <td>4.383285</td>\n",
              "      <td>4.383285</td>\n",
              "      <td>18.000000</td>\n",
              "    </tr>\n",
              "    <tr>\n",
              "      <th>carac.mean</th>\n",
              "      <td>4067.0</td>\n",
              "      <td>86.839001</td>\n",
              "      <td>53.885238</td>\n",
              "      <td>0.75</td>\n",
              "      <td>50.973684</td>\n",
              "      <td>89.613631</td>\n",
              "      <td>89.613631</td>\n",
              "      <td>283.000000</td>\n",
              "    </tr>\n",
              "    <tr>\n",
              "      <th>carac.min</th>\n",
              "      <td>4067.0</td>\n",
              "      <td>29.820060</td>\n",
              "      <td>26.724018</td>\n",
              "      <td>0.00</td>\n",
              "      <td>12.000000</td>\n",
              "      <td>31.292147</td>\n",
              "      <td>31.292147</td>\n",
              "      <td>146.000000</td>\n",
              "    </tr>\n",
              "    <tr>\n",
              "      <th>carac.max</th>\n",
              "      <td>4067.0</td>\n",
              "      <td>238.980465</td>\n",
              "      <td>221.852253</td>\n",
              "      <td>1.00</td>\n",
              "      <td>96.000000</td>\n",
              "      <td>252.243876</td>\n",
              "      <td>252.243876</td>\n",
              "      <td>1770.000000</td>\n",
              "    </tr>\n",
              "    <tr>\n",
              "      <th>diffDaysComment.min</th>\n",
              "      <td>4067.0</td>\n",
              "      <td>26.920826</td>\n",
              "      <td>46.947078</td>\n",
              "      <td>0.00</td>\n",
              "      <td>2.000000</td>\n",
              "      <td>9.000000</td>\n",
              "      <td>20.000000</td>\n",
              "      <td>210.000000</td>\n",
              "    </tr>\n",
              "    <tr>\n",
              "      <th>diffDaysComment.max</th>\n",
              "      <td>4067.0</td>\n",
              "      <td>136.713548</td>\n",
              "      <td>98.754819</td>\n",
              "      <td>0.00</td>\n",
              "      <td>75.000000</td>\n",
              "      <td>129.000000</td>\n",
              "      <td>165.000000</td>\n",
              "      <td>473.000000</td>\n",
              "    </tr>\n",
              "    <tr>\n",
              "      <th>diffDaysComment.median</th>\n",
              "      <td>4067.0</td>\n",
              "      <td>93.833538</td>\n",
              "      <td>73.950597</td>\n",
              "      <td>0.00</td>\n",
              "      <td>45.000000</td>\n",
              "      <td>84.500000</td>\n",
              "      <td>114.000000</td>\n",
              "      <td>352.000000</td>\n",
              "    </tr>\n",
              "    <tr>\n",
              "      <th>commentId.count</th>\n",
              "      <td>4067.0</td>\n",
              "      <td>7.774527</td>\n",
              "      <td>12.975555</td>\n",
              "      <td>0.00</td>\n",
              "      <td>0.000000</td>\n",
              "      <td>2.000000</td>\n",
              "      <td>9.000000</td>\n",
              "      <td>59.000000</td>\n",
              "    </tr>\n",
              "    <tr>\n",
              "      <th>likesRatio</th>\n",
              "      <td>4067.0</td>\n",
              "      <td>52.648411</td>\n",
              "      <td>105.621990</td>\n",
              "      <td>0.00</td>\n",
              "      <td>5.000000</td>\n",
              "      <td>5.670908</td>\n",
              "      <td>13.180556</td>\n",
              "      <td>300.000000</td>\n",
              "    </tr>\n",
              "    <tr>\n",
              "      <th>likesRatio.d</th>\n",
              "      <td>4067.0</td>\n",
              "      <td>1.064175</td>\n",
              "      <td>0.775969</td>\n",
              "      <td>0.00</td>\n",
              "      <td>0.000000</td>\n",
              "      <td>1.000000</td>\n",
              "      <td>2.000000</td>\n",
              "      <td>2.000000</td>\n",
              "    </tr>\n",
              "    <tr>\n",
              "      <th>stillExists.meanDislikedComments</th>\n",
              "      <td>4067.0</td>\n",
              "      <td>0.487102</td>\n",
              "      <td>0.480250</td>\n",
              "      <td>0.00</td>\n",
              "      <td>0.000000</td>\n",
              "      <td>0.500000</td>\n",
              "      <td>1.000000</td>\n",
              "      <td>1.000000</td>\n",
              "    </tr>\n",
              "    <tr>\n",
              "      <th>stillExists.meanLikedComments</th>\n",
              "      <td>4067.0</td>\n",
              "      <td>0.679346</td>\n",
              "      <td>0.436552</td>\n",
              "      <td>0.00</td>\n",
              "      <td>0.000000</td>\n",
              "      <td>0.988372</td>\n",
              "      <td>1.000000</td>\n",
              "      <td>1.000000</td>\n",
              "    </tr>\n",
              "  </tbody>\n",
              "</table>\n",
              "</div>\n",
              "      <button class=\"colab-df-convert\" onclick=\"convertToInteractive('df-f79b38bc-9796-4e50-a9f4-52d392fabe4e')\"\n",
              "              title=\"Convert this dataframe to an interactive table.\"\n",
              "              style=\"display:none;\">\n",
              "        \n",
              "  <svg xmlns=\"http://www.w3.org/2000/svg\" height=\"24px\"viewBox=\"0 0 24 24\"\n",
              "       width=\"24px\">\n",
              "    <path d=\"M0 0h24v24H0V0z\" fill=\"none\"/>\n",
              "    <path d=\"M18.56 5.44l.94 2.06.94-2.06 2.06-.94-2.06-.94-.94-2.06-.94 2.06-2.06.94zm-11 1L8.5 8.5l.94-2.06 2.06-.94-2.06-.94L8.5 2.5l-.94 2.06-2.06.94zm10 10l.94 2.06.94-2.06 2.06-.94-2.06-.94-.94-2.06-.94 2.06-2.06.94z\"/><path d=\"M17.41 7.96l-1.37-1.37c-.4-.4-.92-.59-1.43-.59-.52 0-1.04.2-1.43.59L10.3 9.45l-7.72 7.72c-.78.78-.78 2.05 0 2.83L4 21.41c.39.39.9.59 1.41.59.51 0 1.02-.2 1.41-.59l7.78-7.78 2.81-2.81c.8-.78.8-2.07 0-2.86zM5.41 20L4 18.59l7.72-7.72 1.47 1.35L5.41 20z\"/>\n",
              "  </svg>\n",
              "      </button>\n",
              "      \n",
              "  <style>\n",
              "    .colab-df-container {\n",
              "      display:flex;\n",
              "      flex-wrap:wrap;\n",
              "      gap: 12px;\n",
              "    }\n",
              "\n",
              "    .colab-df-convert {\n",
              "      background-color: #E8F0FE;\n",
              "      border: none;\n",
              "      border-radius: 50%;\n",
              "      cursor: pointer;\n",
              "      display: none;\n",
              "      fill: #1967D2;\n",
              "      height: 32px;\n",
              "      padding: 0 0 0 0;\n",
              "      width: 32px;\n",
              "    }\n",
              "\n",
              "    .colab-df-convert:hover {\n",
              "      background-color: #E2EBFA;\n",
              "      box-shadow: 0px 1px 2px rgba(60, 64, 67, 0.3), 0px 1px 3px 1px rgba(60, 64, 67, 0.15);\n",
              "      fill: #174EA6;\n",
              "    }\n",
              "\n",
              "    [theme=dark] .colab-df-convert {\n",
              "      background-color: #3B4455;\n",
              "      fill: #D2E3FC;\n",
              "    }\n",
              "\n",
              "    [theme=dark] .colab-df-convert:hover {\n",
              "      background-color: #434B5C;\n",
              "      box-shadow: 0px 1px 3px 1px rgba(0, 0, 0, 0.15);\n",
              "      filter: drop-shadow(0px 1px 2px rgba(0, 0, 0, 0.3));\n",
              "      fill: #FFFFFF;\n",
              "    }\n",
              "  </style>\n",
              "\n",
              "      <script>\n",
              "        const buttonEl =\n",
              "          document.querySelector('#df-f79b38bc-9796-4e50-a9f4-52d392fabe4e button.colab-df-convert');\n",
              "        buttonEl.style.display =\n",
              "          google.colab.kernel.accessAllowed ? 'block' : 'none';\n",
              "\n",
              "        async function convertToInteractive(key) {\n",
              "          const element = document.querySelector('#df-f79b38bc-9796-4e50-a9f4-52d392fabe4e');\n",
              "          const dataTable =\n",
              "            await google.colab.kernel.invokeFunction('convertToInteractive',\n",
              "                                                     [key], {});\n",
              "          if (!dataTable) return;\n",
              "\n",
              "          const docLinkHtml = 'Like what you see? Visit the ' +\n",
              "            '<a target=\"_blank\" href=https://colab.research.google.com/notebooks/data_table.ipynb>data table notebook</a>'\n",
              "            + ' to learn more about interactive tables.';\n",
              "          element.innerHTML = '';\n",
              "          dataTable['output_type'] = 'display_data';\n",
              "          await google.colab.output.renderOutput(dataTable, element);\n",
              "          const docLink = document.createElement('div');\n",
              "          docLink.innerHTML = docLinkHtml;\n",
              "          element.appendChild(docLink);\n",
              "        }\n",
              "      </script>\n",
              "    </div>\n",
              "  </div>\n",
              "  "
            ]
          },
          "metadata": {},
          "execution_count": 52
        }
      ]
    },
    {
      "cell_type": "markdown",
      "source": [
        "### Tratamento de variáveis numéricas\n"
      ],
      "metadata": {
        "id": "2Z19EHE5XjYq"
      }
    },
    {
      "cell_type": "markdown",
      "source": [
        "#### a) Plotar histogramas de cada variável numérica, as distribuições são normais?\n",
        "\n",
        "Não, muitas possuem caudas longas e precisam ser tratadas"
      ],
      "metadata": {
        "id": "bsWurDxVXruY"
      }
    },
    {
      "cell_type": "code",
      "source": [
        "num = ['vote.mean', 'vote.mode', 'vote.min', 'vote.max', 'vote.count',\n",
        "       'diffDaysVote.max', 'diffDaysVote.median', 'likes.mean', 'likes.min',\n",
        "       'likes.max', 'dislikes.mean', 'dislikes.min', 'dislikes.max',\n",
        "       'carac.mean', 'carac.min', 'carac.max', 'diffDaysComment.min',\n",
        "       'diffDaysComment.max', 'diffDaysComment.median', 'commentId.count',\n",
        "       'likesRatio.d', 'stillExists.meanDislikedComments',\n",
        "       'stillExists.meanLikedComments']\n",
        "cat = ['gender', 'companyType']"
      ],
      "metadata": {
        "id": "Q1ef6UqVYXKe"
      },
      "execution_count": 53,
      "outputs": []
    },
    {
      "cell_type": "code",
      "source": [
        "for col in num:\n",
        "  plt.figure(figsize=(15,6))\n",
        "  sns.histplot(churn,\n",
        "                x=col)\n",
        "  plt.show()"
      ],
      "metadata": {
        "colab": {
          "base_uri": "https://localhost:8080/",
          "height": 1000
        },
        "id": "4mEOQcrWZ7Gx",
        "outputId": "a7b76063-b2dd-4fb5-ac15-2dabf057049b"
      },
      "execution_count": 54,
      "outputs": [
        {
          "output_type": "display_data",
          "data": {
            "text/plain": [
              "<Figure size 1080x432 with 1 Axes>"
            ],
            "image/png": "[encoded data removed]"
          },
          "metadata": {
            "needs_background": "light"
          }
        },
        {
          "output_type": "display_data",
          "data": {
            "text/plain": [
              "<Figure size 1080x432 with 1 Axes>"
            ],
            "image/png": "[encoded data removed]"
          },
          "metadata": {
            "needs_background": "light"
          }
        },
        {
          "output_type": "display_data",
          "data": {
            "text/plain": [
              "<Figure size 1080x432 with 1 Axes>"
            ],
            "image/png": "[encoded data removed]"
          },
          "metadata": {
            "needs_background": "light"
          }
        },
        {
          "output_type": "display_data",
          "data": {
            "text/plain": [
              "<Figure size 1080x432 with 1 Axes>"
            ],
            "image/png": "[encoded data removed]"
          },
          "metadata": {
            "needs_background": "light"
          }
        },
        {
          "output_type": "display_data",
          "data": {
            "text/plain": [
              "<Figure size 1080x432 with 1 Axes>"
            ],
            "image/png": "[encoded data removed]"
          },
          "metadata": {
            "needs_background": "light"
          }
        },
        {
          "output_type": "display_data",
          "data": {
            "text/plain": [
              "<Figure size 1080x432 with 1 Axes>"
            ],
            "image/png": "[encoded data removed]"
          },
          "metadata": {
            "needs_background": "light"
          }
        },
        {
          "output_type": "display_data",
          "data": {
            "text/plain": [
              "<Figure size 1080x432 with 1 Axes>"
            ],
            "image/png": "[encoded data removed]"
          },
          "metadata": {
            "needs_background": "light"
          }
        },
        {
          "output_type": "display_data",
          "data": {
            "text/plain": [
              "<Figure size 1080x432 with 1 Axes>"
            ],
            "image/png": "[encoded data removed]"
          },
          "metadata": {
            "needs_background": "light"
          }
        },
        {
          "output_type": "display_data",
          "data": {
            "text/plain": [
              "<Figure size 1080x432 with 1 Axes>"
            ],
            "image/png": "[encoded data removed]"
          },
          "metadata": {
            "needs_background": "light"
          }
        },
        {
          "output_type": "display_data",
          "data": {
            "text/plain": [
              "<Figure size 1080x432 with 1 Axes>"
            ],
            "image/png": "[encoded data removed]"
          },
          "metadata": {
            "needs_background": "light"
          }
        },
        {
          "output_type": "display_data",
          "data": {
            "text/plain": [
              "<Figure size 1080x432 with 1 Axes>"
            ],
            "image/png": "[encoded data removed]"
          },
          "metadata": {
            "needs_background": "light"
          }
        },
        {
          "output_type": "display_data",
          "data": {
            "text/plain": [
              "<Figure size 1080x432 with 1 Axes>"
            ],
            "image/png": "[encoded data removed]"
          },
          "metadata": {
            "needs_background": "light"
          }
        },
        {
          "output_type": "display_data",
          "data": {
            "text/plain": [
              "<Figure size 1080x432 with 1 Axes>"
            ],
            "image/png": "[encoded data removed]"
          },
          "metadata": {
            "needs_background": "light"
          }
        },
        {
          "output_type": "display_data",
          "data": {
            "text/plain": [
              "<Figure size 1080x432 with 1 Axes>"
            ],
            "image/png": "[encoded data removed]"
          },
          "metadata": {
            "needs_background": "light"
          }
        },
        {
          "output_type": "display_data",
          "data": {
            "text/plain": [
              "<Figure size 1080x432 with 1 Axes>"
            ],
            "image/png": "[encoded data removed]"
          },
          "metadata": {
            "needs_background": "light"
          }
        },
        {
          "output_type": "display_data",
          "data": {
            "text/plain": [
              "<Figure size 1080x432 with 1 Axes>"
            ],
            "image/png": "[encoded data removed]"
          },
          "metadata": {
            "needs_background": "light"
          }
        },
        {
          "output_type": "display_data",
          "data": {
            "text/plain": [
              "<Figure size 1080x432 with 1 Axes>"
            ],
            "image/png": "[encoded data removed]"
          },
          "metadata": {
            "needs_background": "light"
          }
        },
        {
          "output_type": "display_data",
          "data": {
            "text/plain": [
              "<Figure size 1080x432 with 1 Axes>"
            ],
            "image/png": "[encoded data removed]"
          },
          "metadata": {
            "needs_background": "light"
          }
        },
        {
          "output_type": "display_data",
          "data": {
            "text/plain": [
              "<Figure size 1080x432 with 1 Axes>"
            ],
            "image/png": "[encoded data removed]"
          },
          "metadata": {
            "needs_background": "light"
          }
        },
        {
          "output_type": "display_data",
          "data": {
            "text/plain": [
              "<Figure size 1080x432 with 1 Axes>"
            ],
            "image/png": "[encoded data removed]"
          },
          "metadata": {
            "needs_background": "light"
          }
        },
        {
          "output_type": "display_data",
          "data": {
            "text/plain": [
              "<Figure size 1080x432 with 1 Axes>"
            ],
            "image/png": "[encoded data removed]"
          },
          "metadata": {
            "needs_background": "light"
          }
        },
        {
          "output_type": "display_data",
          "data": {
            "text/plain": [
              "<Figure size 1080x432 with 1 Axes>"
            ],
            "image/png": "[encoded data removed]"
          },
          "metadata": {
            "needs_background": "light"
          }
        },
        {
          "output_type": "display_data",
          "data": {
            "text/plain": [
              "<Figure size 1080x432 with 1 Axes>"
            ],
            "image/png": "[encoded data removed]"
          },
          "metadata": {
            "needs_background": "light"
          }
        }
      ]
    },
    {
      "cell_type": "markdown",
      "source": [
        "#### b) Muitas variáveis estão com cauda muito longa, aplicar box-cox transformation"
      ],
      "metadata": {
        "id": "a-MJn40jcGHM"
      }
    },
    {
      "cell_type": "markdown",
      "source": [
        "Selecionar as colunas com mais cauda para transformação"
      ],
      "metadata": {
        "id": "glvpwaGTgtbE"
      }
    },
    {
      "cell_type": "code",
      "source": [
        "cols = ['vote.count',\n",
        "        'diffDaysVote.max', \n",
        "        'diffDaysVote.median', \n",
        "        'carac.mean', \n",
        "        'carac.min', \n",
        "        'carac.max', \n",
        "        'diffDaysComment.min',\n",
        "        'diffDaysComment.max', \n",
        "        'diffDaysComment.median', \n",
        "        'commentId.count']"
      ],
      "metadata": {
        "id": "kQY2aWK-RUbd"
      },
      "execution_count": 55,
      "outputs": []
    },
    {
      "cell_type": "markdown",
      "source": [
        "Aplicar a transformação box-cox. Como ela utiliza base logaritmica, os valore devem ser maiores que zero para evitar erros."
      ],
      "metadata": {
        "id": "nacxL1m_hF7S"
      }
    },
    {
      "cell_type": "code",
      "source": [
        "boxcox_transformer = PowerTransformer(method='box-cox', standardize=False)"
      ],
      "metadata": {
        "id": "UJT1Zo1jcOPa"
      },
      "execution_count": 56,
      "outputs": []
    },
    {
      "cell_type": "code",
      "source": [
        "cols_pos = []\n",
        "cols_box = []\n",
        "\n",
        "for col in cols:\n",
        "  churn[f'{col}_pos'] = churn[col] + 1\n",
        "  cols_pos.append(f'{col}_pos')\n",
        "  cols_box.append(f'{col}_box-cox')\n"
      ],
      "metadata": {
        "id": "9zLZqedOYLqu"
      },
      "execution_count": 57,
      "outputs": []
    },
    {
      "cell_type": "code",
      "source": [
        "for pos, col in zip(cols_pos, cols):\n",
        "    churn[f'{col}_box-cox'] = boxcox_transformer.fit_transform(churn[[pos]])\n",
        "    churn.drop(columns=[pos], inplace=True)\n"
      ],
      "metadata": {
        "id": "PRukwy_sRHpo"
      },
      "execution_count": 58,
      "outputs": []
    },
    {
      "cell_type": "markdown",
      "source": [
        "#### c) Visualize os dados após a transformação"
      ],
      "metadata": {
        "id": "RPCorzUMXNDC"
      }
    },
    {
      "cell_type": "code",
      "source": [
        "for col in cols_box:\n",
        "  \n",
        "  plt.figure(figsize=(15,6))\n",
        "  sns.histplot(churn,\n",
        "                x=col)\n",
        "  plt.show()"
      ],
      "metadata": {
        "colab": {
          "base_uri": "https://localhost:8080/",
          "height": 1000
        },
        "id": "QgF5iirRXTmr",
        "outputId": "d9fc1cf0-2e3b-4042-b257-e0a03dbe41ed"
      },
      "execution_count": 59,
      "outputs": [
        {
          "output_type": "display_data",
          "data": {
            "text/plain": [
              "<Figure size 1080x432 with 1 Axes>"
            ],
            "image/png": "[encoded data removed]"
          },
          "metadata": {
            "needs_background": "light"
          }
        },
        {
          "output_type": "display_data",
          "data": {
            "text/plain": [
              "<Figure size 1080x432 with 1 Axes>"
            ],
            "image/png": "[encoded data removed]"
          },
          "metadata": {
            "needs_background": "light"
          }
        },
        {
          "output_type": "display_data",
          "data": {
            "text/plain": [
              "<Figure size 1080x432 with 1 Axes>"
            ],
            "image/png": "[encoded data removed]"
          },
          "metadata": {
            "needs_background": "light"
          }
        },
        {
          "output_type": "display_data",
          "data": {
            "text/plain": [
              "<Figure size 1080x432 with 1 Axes>"
            ],
            "image/png": "[encoded data removed]"
          },
          "metadata": {
            "needs_background": "light"
          }
        },
        {
          "output_type": "display_data",
          "data": {
            "text/plain": [
              "<Figure size 1080x432 with 1 Axes>"
            ],
            "image/png": "[encoded data removed]"
          },
          "metadata": {
            "needs_background": "light"
          }
        },
        {
          "output_type": "display_data",
          "data": {
            "text/plain": [
              "<Figure size 1080x432 with 1 Axes>"
            ],
            "image/png": "[encoded data removed]"
          },
          "metadata": {
            "needs_background": "light"
          }
        },
        {
          "output_type": "display_data",
          "data": {
            "text/plain": [
              "<Figure size 1080x432 with 1 Axes>"
            ],
            "image/png": "[encoded data removed]"
          },
          "metadata": {
            "needs_background": "light"
          }
        },
        {
          "output_type": "display_data",
          "data": {
            "text/plain": [
              "<Figure size 1080x432 with 1 Axes>"
            ],
            "image/png": "[encoded data removed]"
          },
          "metadata": {
            "needs_background": "light"
          }
        },
        {
          "output_type": "display_data",
          "data": {
            "text/plain": [
              "<Figure size 1080x432 with 1 Axes>"
            ],
            "image/png": "[encoded data removed]"
          },
          "metadata": {
            "needs_background": "light"
          }
        },
        {
          "output_type": "display_data",
          "data": {
            "text/plain": [
              "<Figure size 1080x432 with 1 Axes>"
            ],
            "image/png": "[encoded data removed]"
          },
          "metadata": {
            "needs_background": "light"
          }
        }
      ]
    },
    {
      "cell_type": "markdown",
      "source": [
        "### Variáveis categóricas\n"
      ],
      "metadata": {
        "id": "zIzcYdHC_LZT"
      }
    },
    {
      "cell_type": "markdown",
      "source": [
        "#### a) Faça um value_counts das variáveis categóricas"
      ],
      "metadata": {
        "id": "fjN58Kln_hwB"
      }
    },
    {
      "cell_type": "code",
      "source": [
        "churn[cat].value_counts()"
      ],
      "metadata": {
        "colab": {
          "base_uri": "https://localhost:8080/"
        },
        "id": "2eJSgjQr_PEq",
        "outputId": "0cb973cd-3d4b-423c-ce98-618b76dcb1da"
      },
      "execution_count": 60,
      "outputs": [
        {
          "output_type": "execute_result",
          "data": {
            "text/plain": [
              "gender  companyType\n",
              "Female  Service        1840\n",
              "Male    Service        1181\n",
              "Female  Product         653\n",
              "Male    Product         393\n",
              "dtype: int64"
            ]
          },
          "metadata": {},
          "execution_count": 60
        }
      ]
    },
    {
      "cell_type": "markdown",
      "source": [
        "#### b) Aplique o One-Hot Encoding para cada uma depas, aplicando o drop_first"
      ],
      "metadata": {
        "id": "YqsDez2q_urE"
      }
    },
    {
      "cell_type": "code",
      "source": [
        "churn[\n",
        "      ['genderMale', \n",
        "       'companyTypeService']\n",
        "      ] = pd.get_dummies(\n",
        "    churn[cat], \n",
        "    prefix=cat,\n",
        "    drop_first=True)"
      ],
      "metadata": {
        "id": "0zsCSjgh_1i7"
      },
      "execution_count": 61,
      "outputs": []
    },
    {
      "cell_type": "markdown",
      "source": [
        "Confirmar se transformação está correta e remover as colunas **gender** e **companyType**"
      ],
      "metadata": {
        "id": "WnqKxYp7hp8K"
      }
    },
    {
      "cell_type": "code",
      "source": [
        "churn[['gender', 'companyType', 'genderMale', 'companyTypeService']].head()"
      ],
      "metadata": {
        "colab": {
          "base_uri": "https://localhost:8080/",
          "height": 206
        },
        "id": "e6Mcv7niDnK-",
        "outputId": "551018a7-dcec-43f0-fb5c-258912b62bdd"
      },
      "execution_count": 62,
      "outputs": [
        {
          "output_type": "execute_result",
          "data": {
            "text/plain": [
              "   gender companyType  genderMale  companyTypeService\n",
              "0  Female     Service           0                   1\n",
              "1  Female     Service           0                   1\n",
              "2  Female     Service           0                   1\n",
              "3    Male     Service           1                   1\n",
              "4    Male     Service           1                   1"
            ],
            "text/html": [
              "\n",
              "  <div id=\"df-d19fe31d-f28c-42c7-a173-908d4d0bcdf1\">\n",
              "    <div class=\"colab-df-container\">\n",
              "      <div>\n",
              "<style scoped>\n",
              "    .dataframe tbody tr th:only-of-type {\n",
              "        vertical-align: middle;\n",
              "    }\n",
              "\n",
              "    .dataframe tbody tr th {\n",
              "        vertical-align: top;\n",
              "    }\n",
              "\n",
              "    .dataframe thead th {\n",
              "        text-align: right;\n",
              "    }\n",
              "</style>\n",
              "<table border=\"1\" class=\"dataframe\">\n",
              "  <thead>\n",
              "    <tr style=\"text-align: right;\">\n",
              "      <th></th>\n",
              "      <th>gender</th>\n",
              "      <th>companyType</th>\n",
              "      <th>genderMale</th>\n",
              "      <th>companyTypeService</th>\n",
              "    </tr>\n",
              "  </thead>\n",
              "  <tbody>\n",
              "    <tr>\n",
              "      <th>0</th>\n",
              "      <td>Female</td>\n",
              "      <td>Service</td>\n",
              "      <td>0</td>\n",
              "      <td>1</td>\n",
              "    </tr>\n",
              "    <tr>\n",
              "      <th>1</th>\n",
              "      <td>Female</td>\n",
              "      <td>Service</td>\n",
              "      <td>0</td>\n",
              "      <td>1</td>\n",
              "    </tr>\n",
              "    <tr>\n",
              "      <th>2</th>\n",
              "      <td>Female</td>\n",
              "      <td>Service</td>\n",
              "      <td>0</td>\n",
              "      <td>1</td>\n",
              "    </tr>\n",
              "    <tr>\n",
              "      <th>3</th>\n",
              "      <td>Male</td>\n",
              "      <td>Service</td>\n",
              "      <td>1</td>\n",
              "      <td>1</td>\n",
              "    </tr>\n",
              "    <tr>\n",
              "      <th>4</th>\n",
              "      <td>Male</td>\n",
              "      <td>Service</td>\n",
              "      <td>1</td>\n",
              "      <td>1</td>\n",
              "    </tr>\n",
              "  </tbody>\n",
              "</table>\n",
              "</div>\n",
              "      <button class=\"colab-df-convert\" onclick=\"convertToInteractive('df-d19fe31d-f28c-42c7-a173-908d4d0bcdf1')\"\n",
              "              title=\"Convert this dataframe to an interactive table.\"\n",
              "              style=\"display:none;\">\n",
              "        \n",
              "  <svg xmlns=\"http://www.w3.org/2000/svg\" height=\"24px\"viewBox=\"0 0 24 24\"\n",
              "       width=\"24px\">\n",
              "    <path d=\"M0 0h24v24H0V0z\" fill=\"none\"/>\n",
              "    <path d=\"M18.56 5.44l.94 2.06.94-2.06 2.06-.94-2.06-.94-.94-2.06-.94 2.06-2.06.94zm-11 1L8.5 8.5l.94-2.06 2.06-.94-2.06-.94L8.5 2.5l-.94 2.06-2.06.94zm10 10l.94 2.06.94-2.06 2.06-.94-2.06-.94-.94-2.06-.94 2.06-2.06.94z\"/><path d=\"M17.41 7.96l-1.37-1.37c-.4-.4-.92-.59-1.43-.59-.52 0-1.04.2-1.43.59L10.3 9.45l-7.72 7.72c-.78.78-.78 2.05 0 2.83L4 21.41c.39.39.9.59 1.41.59.51 0 1.02-.2 1.41-.59l7.78-7.78 2.81-2.81c.8-.78.8-2.07 0-2.86zM5.41 20L4 18.59l7.72-7.72 1.47 1.35L5.41 20z\"/>\n",
              "  </svg>\n",
              "      </button>\n",
              "      \n",
              "  <style>\n",
              "    .colab-df-container {\n",
              "      display:flex;\n",
              "      flex-wrap:wrap;\n",
              "      gap: 12px;\n",
              "    }\n",
              "\n",
              "    .colab-df-convert {\n",
              "      background-color: #E8F0FE;\n",
              "      border: none;\n",
              "      border-radius: 50%;\n",
              "      cursor: pointer;\n",
              "      display: none;\n",
              "      fill: #1967D2;\n",
              "      height: 32px;\n",
              "      padding: 0 0 0 0;\n",
              "      width: 32px;\n",
              "    }\n",
              "\n",
              "    .colab-df-convert:hover {\n",
              "      background-color: #E2EBFA;\n",
              "      box-shadow: 0px 1px 2px rgba(60, 64, 67, 0.3), 0px 1px 3px 1px rgba(60, 64, 67, 0.15);\n",
              "      fill: #174EA6;\n",
              "    }\n",
              "\n",
              "    [theme=dark] .colab-df-convert {\n",
              "      background-color: #3B4455;\n",
              "      fill: #D2E3FC;\n",
              "    }\n",
              "\n",
              "    [theme=dark] .colab-df-convert:hover {\n",
              "      background-color: #434B5C;\n",
              "      box-shadow: 0px 1px 3px 1px rgba(0, 0, 0, 0.15);\n",
              "      filter: drop-shadow(0px 1px 2px rgba(0, 0, 0, 0.3));\n",
              "      fill: #FFFFFF;\n",
              "    }\n",
              "  </style>\n",
              "\n",
              "      <script>\n",
              "        const buttonEl =\n",
              "          document.querySelector('#df-d19fe31d-f28c-42c7-a173-908d4d0bcdf1 button.colab-df-convert');\n",
              "        buttonEl.style.display =\n",
              "          google.colab.kernel.accessAllowed ? 'block' : 'none';\n",
              "\n",
              "        async function convertToInteractive(key) {\n",
              "          const element = document.querySelector('#df-d19fe31d-f28c-42c7-a173-908d4d0bcdf1');\n",
              "          const dataTable =\n",
              "            await google.colab.kernel.invokeFunction('convertToInteractive',\n",
              "                                                     [key], {});\n",
              "          if (!dataTable) return;\n",
              "\n",
              "          const docLinkHtml = 'Like what you see? Visit the ' +\n",
              "            '<a target=\"_blank\" href=https://colab.research.google.com/notebooks/data_table.ipynb>data table notebook</a>'\n",
              "            + ' to learn more about interactive tables.';\n",
              "          element.innerHTML = '';\n",
              "          dataTable['output_type'] = 'display_data';\n",
              "          await google.colab.output.renderOutput(dataTable, element);\n",
              "          const docLink = document.createElement('div');\n",
              "          docLink.innerHTML = docLinkHtml;\n",
              "          element.appendChild(docLink);\n",
              "        }\n",
              "      </script>\n",
              "    </div>\n",
              "  </div>\n",
              "  "
            ]
          },
          "metadata": {},
          "execution_count": 62
        }
      ]
    },
    {
      "cell_type": "code",
      "source": [
        "churn.drop(columns=['gender', 'companyType'], inplace=True)"
      ],
      "metadata": {
        "id": "NQe74Dd_EYg8"
      },
      "execution_count": 63,
      "outputs": []
    },
    {
      "cell_type": "markdown",
      "source": [
        "## Validação e limpeza final dos dados"
      ],
      "metadata": {
        "id": "KDlw6SVVFyYo"
      }
    },
    {
      "cell_type": "markdown",
      "source": [
        "#### a) Ver a correlação entre as variáveis numéricas e categóricas e a variável target **stillExists**\n",
        "\n",
        "A única correlação mais forte ocorre com **stillExists.meanLikedComments**, ou seja, a média de curtida de comentários aumenta se o funcionário ainda está na empresa."
      ],
      "metadata": {
        "id": "BAqp4WV8F4WW"
      }
    },
    {
      "cell_type": "code",
      "source": [
        "cols_corr = num + cols_box + ['genderMale', 'companyTypeService']"
      ],
      "metadata": {
        "id": "tgdup47KR48G"
      },
      "execution_count": 64,
      "outputs": []
    },
    {
      "cell_type": "code",
      "source": [
        "target = ['stillExists']\n",
        "\n",
        "corr = churn[target + cols_corr].corr()\n",
        "\n",
        "\n",
        "plt.figure(figsize=(28, 2))\n",
        "\n",
        "cmap = sns.diverging_palette(230, 20, as_cmap=True)\n",
        "sns.heatmap(data = corr.loc[target, cols_corr], \n",
        "            cmap = cmap, \n",
        "            vmin = -1, \n",
        "            vmax = 1,\n",
        "            annot = True)\n",
        "\n",
        "plt.show()"
      ],
      "metadata": {
        "colab": {
          "base_uri": "https://localhost:8080/",
          "height": 272
        },
        "id": "8xRuOU1QF32w",
        "outputId": "a492ba1d-9afd-4d7e-ffb4-dc7e61265b14"
      },
      "execution_count": 65,
      "outputs": [
        {
          "output_type": "display_data",
          "data": {
            "text/plain": [
              "<Figure size 2016x144 with 2 Axes>"
            ],
            "image/png": "[encoded data removed]"
          },
          "metadata": {
            "needs_background": "light"
          }
        }
      ]
    },
    {
      "cell_type": "markdown",
      "source": [
        "#### b) Verifique as distribuições e os tipos das variáveis restantes"
      ],
      "metadata": {
        "id": "BjoHMBgIUdj5"
      }
    },
    {
      "cell_type": "code",
      "source": [
        "churn.describe(percentiles=[0.05,\n",
        "                            0.25,\n",
        "                            0.50,\n",
        "                            0.75,\n",
        "                            0.90,\n",
        "                            0.99]\n",
        "                 ).T"
      ],
      "metadata": {
        "colab": {
          "base_uri": "https://localhost:8080/",
          "height": 1000
        },
        "id": "SzHB73m2UpZJ",
        "outputId": "9c8c4d69-e7b3-402c-b271-8a8895c5c7fb"
      },
      "execution_count": 66,
      "outputs": [
        {
          "output_type": "execute_result",
          "data": {
            "text/plain": [
              "                                   count        mean         std       min  \\\n",
              "employee                          4067.0  192.624539  206.291948  1.000000   \n",
              "stillExists                       4067.0    0.854438    0.352710  0.000000   \n",
              "vote.mean                         4067.0    2.959289    0.635475  1.000000   \n",
              "vote.mode                         4067.0    2.985739    0.826452  1.000000   \n",
              "vote.min                          4067.0    1.913204    0.949844  1.000000   \n",
              "vote.max                          4067.0    3.716007    0.510824  2.000000   \n",
              "vote.count                        4067.0   45.848291   57.834256  1.000000   \n",
              "diffDaysVote.max                  4067.0  136.111384  133.783987  0.000000   \n",
              "diffDaysVote.median               4067.0   73.179862   73.901932  0.000000   \n",
              "likes.mean                        4067.0    6.467529    4.338262  0.000000   \n",
              "likes.min                         4067.0    2.185052    2.578090  0.000000   \n",
              "likes.max                         4067.0   14.167108    9.807743  0.000000   \n",
              "dislikes.mean                     4067.0    1.092855    1.071616  0.000000   \n",
              "dislikes.min                      4067.0    0.191269    0.462564  0.000000   \n",
              "dislikes.max                      4067.0    4.127420    4.007607  0.000000   \n",
              "carac.mean                        4067.0   86.839001   53.885238  0.750000   \n",
              "carac.min                         4067.0   29.820060   26.724018  0.000000   \n",
              "carac.max                         4067.0  238.980465  221.852253  1.000000   \n",
              "diffDaysComment.min               4067.0   26.920826   46.947078  0.000000   \n",
              "diffDaysComment.max               4067.0  136.713548   98.754819  0.000000   \n",
              "diffDaysComment.median            4067.0   93.833538   73.950597  0.000000   \n",
              "commentId.count                   4067.0    7.774527   12.975555  0.000000   \n",
              "likesRatio                        4067.0   52.648411  105.621990  0.000000   \n",
              "likesRatio.d                      4067.0    1.064175    0.775969  0.000000   \n",
              "stillExists.meanDislikedComments  4067.0    0.487102    0.480250  0.000000   \n",
              "stillExists.meanLikedComments     4067.0    0.679346    0.436552  0.000000   \n",
              "vote.count_box-cox                4067.0    3.209930    1.525868  0.700739   \n",
              "diffDaysVote.max_box-cox          4067.0    9.895137    5.666618  0.000000   \n",
              "diffDaysVote.median_box-cox       4067.0    6.936511    4.097082  0.000000   \n",
              "carac.mean_box-cox                4067.0   11.138032    3.249259  0.623355   \n",
              "carac.min_box-cox                 4067.0    4.616510    1.668387  0.000000   \n",
              "carac.max_box-cox                 4067.0   11.584500    3.693466  0.763098   \n",
              "diffDaysComment.min_box-cox       4067.0    2.131161    1.413624  0.000000   \n",
              "diffDaysComment.max_box-cox       4067.0   21.723207   10.440553  0.000000   \n",
              "diffDaysComment.median_box-cox    4067.0   14.207883    6.879645  0.000000   \n",
              "commentId.count_box-cox           4067.0    0.985491    0.838498  0.000000   \n",
              "genderMale                        4067.0    0.387017    0.487128  0.000000   \n",
              "companyTypeService                4067.0    0.742808    0.437140  0.000000   \n",
              "\n",
              "                                         5%        25%         50%  \\\n",
              "employee                          10.000000  51.000000  131.000000   \n",
              "stillExists                        0.000000   1.000000    1.000000   \n",
              "vote.mean                          1.745513   2.666667    3.000000   \n",
              "vote.mode                          1.000000   3.000000    3.000000   \n",
              "vote.min                           1.000000   1.000000    2.000000   \n",
              "vote.max                           3.000000   3.000000    4.000000   \n",
              "vote.count                         1.000000   6.000000   20.000000   \n",
              "diffDaysVote.max                   0.000000  21.000000  107.000000   \n",
              "diffDaysVote.median                0.000000  10.500000   55.000000   \n",
              "likes.mean                         0.500000   3.500000    6.631448   \n",
              "likes.min                          0.000000   0.000000    2.344741   \n",
              "likes.max                          1.000000   7.000000   14.630043   \n",
              "dislikes.mean                      0.000000   0.277778    1.169380   \n",
              "dislikes.min                       0.000000   0.000000    0.000000   \n",
              "dislikes.max                       0.000000   1.000000    4.383285   \n",
              "carac.mean                        19.883333  50.973684   89.613631   \n",
              "carac.min                          4.000000  12.000000   31.292147   \n",
              "carac.max                         25.000000  96.000000  252.243876   \n",
              "diffDaysComment.min                0.000000   2.000000    9.000000   \n",
              "diffDaysComment.max                2.000000  75.000000  129.000000   \n",
              "diffDaysComment.median             1.000000  45.000000   84.500000   \n",
              "commentId.count                    0.000000   0.000000    2.000000   \n",
              "likesRatio                         1.000000   5.000000    5.670908   \n",
              "likesRatio.d                       0.000000   0.000000    1.000000   \n",
              "stillExists.meanDislikedComments   0.000000   0.000000    0.500000   \n",
              "stillExists.meanLikedComments      0.000000   0.000000    0.988372   \n",
              "vote.count_box-cox                 0.700739   2.006540    3.194675   \n",
              "diffDaysVote.max_box-cox           0.000000   5.293179   10.907369   \n",
              "diffDaysVote.median_box-cox        0.000000   3.548861    7.615406   \n",
              "carac.mean_box-cox                 5.707156   9.150685   11.914129   \n",
              "carac.min_box-cox                  1.932451   3.450025    5.225206   \n",
              "carac.max_box-cox                  5.253105   9.110667   12.937679   \n",
              "diffDaysComment.min_box-cox        0.000000   1.079616    2.220190   \n",
              "diffDaysComment.max_box-cox        1.490077  16.808027   22.951685   \n",
              "diffDaysComment.median_box-cox     0.818249  10.637482   14.920643   \n",
              "commentId.count_box-cox            0.000000   0.000000    0.951330   \n",
              "genderMale                         0.000000   0.000000    0.000000   \n",
              "companyTypeService                 0.000000   0.000000    1.000000   \n",
              "\n",
              "                                         75%         90%          99%  \\\n",
              "employee                          244.000000  470.400000   926.020000   \n",
              "stillExists                         1.000000    1.000000     1.000000   \n",
              "vote.mean                           3.333333    3.832634     4.000000   \n",
              "vote.mode                           4.000000    4.000000     4.000000   \n",
              "vote.min                            3.000000    3.000000     4.000000   \n",
              "vote.max                            4.000000    4.000000     4.000000   \n",
              "vote.count                         65.000000  133.000000   249.000000   \n",
              "diffDaysVote.max                  206.500000  300.000000   572.000000   \n",
              "diffDaysVote.median               113.000000  167.200000   330.000000   \n",
              "likes.mean                          6.918435   12.408421    20.000000   \n",
              "likes.min                           2.344741    5.000000    12.000000   \n",
              "likes.max                          15.000000   27.000000    45.000000   \n",
              "dislikes.mean                       1.169380    2.250000     5.000000   \n",
              "dislikes.min                        0.247118    0.247118     3.000000   \n",
              "dislikes.max                        4.383285    9.000000    18.000000   \n",
              "carac.mean                         89.613631  145.500000   283.000000   \n",
              "carac.min                          31.292147   54.400000   146.000000   \n",
              "carac.max                         252.243876  432.400000  1195.340000   \n",
              "diffDaysComment.min                20.000000   88.000000   210.000000   \n",
              "diffDaysComment.max               165.000000  273.400000   473.000000   \n",
              "diffDaysComment.median            114.000000  194.400000   352.000000   \n",
              "commentId.count                     9.000000   24.000000    59.000000   \n",
              "likesRatio                         13.180556  300.000000   300.000000   \n",
              "likesRatio.d                        2.000000    2.000000     2.000000   \n",
              "stillExists.meanDislikedComments    1.000000    1.000000     1.000000   \n",
              "stillExists.meanLikedComments       1.000000    1.000000     1.000000   \n",
              "vote.count_box-cox                  4.477494    5.294206     6.028575   \n",
              "diffDaysVote.max_box-cox           14.183016   16.380622    20.864137   \n",
              "diffDaysVote.median_box-cox        10.141679   11.760131    15.049682   \n",
              "carac.mean_box-cox                 11.914129   14.819094    19.794741   \n",
              "carac.min_box-cox                   5.225206    6.459591     9.101470   \n",
              "carac.max_box-cox                  12.937679   15.561270    21.704182   \n",
              "diffDaysComment.min_box-cox         2.901588    4.182579     4.920630   \n",
              "diffDaysComment.max_box-cox        26.382854   34.998789    47.375011   \n",
              "diffDaysComment.median_box-cox     17.449701   22.943362    30.908605   \n",
              "commentId.count_box-cox             1.717096    2.154648     2.483211   \n",
              "genderMale                          1.000000    1.000000     1.000000   \n",
              "companyTypeService                  1.000000    1.000000     1.000000   \n",
              "\n",
              "                                          max  \n",
              "employee                           999.000000  \n",
              "stillExists                          1.000000  \n",
              "vote.mean                            4.000000  \n",
              "vote.mode                            4.000000  \n",
              "vote.min                             4.000000  \n",
              "vote.max                             4.000000  \n",
              "vote.count                         275.000000  \n",
              "diffDaysVote.max                   572.000000  \n",
              "diffDaysVote.median                330.500000  \n",
              "likes.mean                          20.648649  \n",
              "likes.min                           12.000000  \n",
              "likes.max                           45.000000  \n",
              "dislikes.mean                        5.666667  \n",
              "dislikes.min                         3.000000  \n",
              "dislikes.max                        18.000000  \n",
              "carac.mean                         283.000000  \n",
              "carac.min                          146.000000  \n",
              "carac.max                         1770.000000  \n",
              "diffDaysComment.min                210.000000  \n",
              "diffDaysComment.max                473.000000  \n",
              "diffDaysComment.median             352.000000  \n",
              "commentId.count                     59.000000  \n",
              "likesRatio                         300.000000  \n",
              "likesRatio.d                         2.000000  \n",
              "stillExists.meanDislikedComments     1.000000  \n",
              "stillExists.meanLikedComments        1.000000  \n",
              "vote.count_box-cox                   6.146412  \n",
              "diffDaysVote.max_box-cox            20.864137  \n",
              "diffDaysVote.median_box-cox         15.057759  \n",
              "carac.mean_box-cox                  19.794741  \n",
              "carac.min_box-cox                    9.101470  \n",
              "carac.max_box-cox                   24.572603  \n",
              "diffDaysComment.min_box-cox          4.920630  \n",
              "diffDaysComment.max_box-cox         47.375011  \n",
              "diffDaysComment.median_box-cox      30.908605  \n",
              "commentId.count_box-cox              2.483211  \n",
              "genderMale                           1.000000  \n",
              "companyTypeService                   1.000000  "
            ],
            "text/html": [
              "\n",
              "  <div id=\"df-238df181-8cdd-4235-ba7a-8510f7a5e3fb\">\n",
              "    <div class=\"colab-df-container\">\n",
              "      <div>\n",
              "<style scoped>\n",
              "    .dataframe tbody tr th:only-of-type {\n",
              "        vertical-align: middle;\n",
              "    }\n",
              "\n",
              "    .dataframe tbody tr th {\n",
              "        vertical-align: top;\n",
              "    }\n",
              "\n",
              "    .dataframe thead th {\n",
              "        text-align: right;\n",
              "    }\n",
              "</style>\n",
              "<table border=\"1\" class=\"dataframe\">\n",
              "  <thead>\n",
              "    <tr style=\"text-align: right;\">\n",
              "      <th></th>\n",
              "      <th>count</th>\n",
              "      <th>mean</th>\n",
              "      <th>std</th>\n",
              "      <th>min</th>\n",
              "      <th>5%</th>\n",
              "      <th>25%</th>\n",
              "      <th>50%</th>\n",
              "      <th>75%</th>\n",
              "      <th>90%</th>\n",
              "      <th>99%</th>\n",
              "      <th>max</th>\n",
              "    </tr>\n",
              "  </thead>\n",
              "  <tbody>\n",
              "    <tr>\n",
              "      <th>employee</th>\n",
              "      <td>4067.0</td>\n",
              "      <td>192.624539</td>\n",
              "      <td>206.291948</td>\n",
              "      <td>1.000000</td>\n",
              "      <td>10.000000</td>\n",
              "      <td>51.000000</td>\n",
              "      <td>131.000000</td>\n",
              "      <td>244.000000</td>\n",
              "      <td>470.400000</td>\n",
              "      <td>926.020000</td>\n",
              "      <td>999.000000</td>\n",
              "    </tr>\n",
              "    <tr>\n",
              "      <th>stillExists</th>\n",
              "      <td>4067.0</td>\n",
              "      <td>0.854438</td>\n",
              "      <td>0.352710</td>\n",
              "      <td>0.000000</td>\n",
              "      <td>0.000000</td>\n",
              "      <td>1.000000</td>\n",
              "      <td>1.000000</td>\n",
              "      <td>1.000000</td>\n",
              "      <td>1.000000</td>\n",
              "      <td>1.000000</td>\n",
              "      <td>1.000000</td>\n",
              "    </tr>\n",
              "    <tr>\n",
              "      <th>vote.mean</th>\n",
              "      <td>4067.0</td>\n",
              "      <td>2.959289</td>\n",
              "      <td>0.635475</td>\n",
              "      <td>1.000000</td>\n",
              "      <td>1.745513</td>\n",
              "      <td>2.666667</td>\n",
              "      <td>3.000000</td>\n",
              "      <td>3.333333</td>\n",
              "      <td>3.832634</td>\n",
              "      <td>4.000000</td>\n",
              "      <td>4.000000</td>\n",
              "    </tr>\n",
              "    <tr>\n",
              "      <th>vote.mode</th>\n",
              "      <td>4067.0</td>\n",
              "      <td>2.985739</td>\n",
              "      <td>0.826452</td>\n",
              "      <td>1.000000</td>\n",
              "      <td>1.000000</td>\n",
              "      <td>3.000000</td>\n",
              "      <td>3.000000</td>\n",
              "      <td>4.000000</td>\n",
              "      <td>4.000000</td>\n",
              "      <td>4.000000</td>\n",
              "      <td>4.000000</td>\n",
              "    </tr>\n",
              "    <tr>\n",
              "      <th>vote.min</th>\n",
              "      <td>4067.0</td>\n",
              "      <td>1.913204</td>\n",
              "      <td>0.949844</td>\n",
              "      <td>1.000000</td>\n",
              "      <td>1.000000</td>\n",
              "      <td>1.000000</td>\n",
              "      <td>2.000000</td>\n",
              "      <td>3.000000</td>\n",
              "      <td>3.000000</td>\n",
              "      <td>4.000000</td>\n",
              "      <td>4.000000</td>\n",
              "    </tr>\n",
              "    <tr>\n",
              "      <th>vote.max</th>\n",
              "      <td>4067.0</td>\n",
              "      <td>3.716007</td>\n",
              "      <td>0.510824</td>\n",
              "      <td>2.000000</td>\n",
              "      <td>3.000000</td>\n",
              "      <td>3.000000</td>\n",
              "      <td>4.000000</td>\n",
              "      <td>4.000000</td>\n",
              "      <td>4.000000</td>\n",
              "      <td>4.000000</td>\n",
              "      <td>4.000000</td>\n",
              "    </tr>\n",
              "    <tr>\n",
              "      <th>vote.count</th>\n",
              "      <td>4067.0</td>\n",
              "      <td>45.848291</td>\n",
              "      <td>57.834256</td>\n",
              "      <td>1.000000</td>\n",
              "      <td>1.000000</td>\n",
              "      <td>6.000000</td>\n",
              "      <td>20.000000</td>\n",
              "      <td>65.000000</td>\n",
              "      <td>133.000000</td>\n",
              "      <td>249.000000</td>\n",
              "      <td>275.000000</td>\n",
              "    </tr>\n",
              "    <tr>\n",
              "      <th>diffDaysVote.max</th>\n",
              "      <td>4067.0</td>\n",
              "      <td>136.111384</td>\n",
              "      <td>133.783987</td>\n",
              "      <td>0.000000</td>\n",
              "      <td>0.000000</td>\n",
              "      <td>21.000000</td>\n",
              "      <td>107.000000</td>\n",
              "      <td>206.500000</td>\n",
              "      <td>300.000000</td>\n",
              "      <td>572.000000</td>\n",
              "      <td>572.000000</td>\n",
              "    </tr>\n",
              "    <tr>\n",
              "      <th>diffDaysVote.median</th>\n",
              "      <td>4067.0</td>\n",
              "      <td>73.179862</td>\n",
              "      <td>73.901932</td>\n",
              "      <td>0.000000</td>\n",
              "      <td>0.000000</td>\n",
              "      <td>10.500000</td>\n",
              "      <td>55.000000</td>\n",
              "      <td>113.000000</td>\n",
              "      <td>167.200000</td>\n",
              "      <td>330.000000</td>\n",
              "      <td>330.500000</td>\n",
              "    </tr>\n",
              "    <tr>\n",
              "      <th>likes.mean</th>\n",
              "      <td>4067.0</td>\n",
              "      <td>6.467529</td>\n",
              "      <td>4.338262</td>\n",
              "      <td>0.000000</td>\n",
              "      <td>0.500000</td>\n",
              "      <td>3.500000</td>\n",
              "      <td>6.631448</td>\n",
              "      <td>6.918435</td>\n",
              "      <td>12.408421</td>\n",
              "      <td>20.000000</td>\n",
              "      <td>20.648649</td>\n",
              "    </tr>\n",
              "    <tr>\n",
              "      <th>likes.min</th>\n",
              "      <td>4067.0</td>\n",
              "      <td>2.185052</td>\n",
              "      <td>2.578090</td>\n",
              "      <td>0.000000</td>\n",
              "      <td>0.000000</td>\n",
              "      <td>0.000000</td>\n",
              "      <td>2.344741</td>\n",
              "      <td>2.344741</td>\n",
              "      <td>5.000000</td>\n",
              "      <td>12.000000</td>\n",
              "      <td>12.000000</td>\n",
              "    </tr>\n",
              "    <tr>\n",
              "      <th>likes.max</th>\n",
              "      <td>4067.0</td>\n",
              "      <td>14.167108</td>\n",
              "      <td>9.807743</td>\n",
              "      <td>0.000000</td>\n",
              "      <td>1.000000</td>\n",
              "      <td>7.000000</td>\n",
              "      <td>14.630043</td>\n",
              "      <td>15.000000</td>\n",
              "      <td>27.000000</td>\n",
              "      <td>45.000000</td>\n",
              "      <td>45.000000</td>\n",
              "    </tr>\n",
              "    <tr>\n",
              "      <th>dislikes.mean</th>\n",
              "      <td>4067.0</td>\n",
              "      <td>1.092855</td>\n",
              "      <td>1.071616</td>\n",
              "      <td>0.000000</td>\n",
              "      <td>0.000000</td>\n",
              "      <td>0.277778</td>\n",
              "      <td>1.169380</td>\n",
              "      <td>1.169380</td>\n",
              "      <td>2.250000</td>\n",
              "      <td>5.000000</td>\n",
              "      <td>5.666667</td>\n",
              "    </tr>\n",
              "    <tr>\n",
              "      <th>dislikes.min</th>\n",
              "      <td>4067.0</td>\n",
              "      <td>0.191269</td>\n",
              "      <td>0.462564</td>\n",
              "      <td>0.000000</td>\n",
              "      <td>0.000000</td>\n",
              "      <td>0.000000</td>\n",
              "      <td>0.000000</td>\n",
              "      <td>0.247118</td>\n",
              "      <td>0.247118</td>\n",
              "      <td>3.000000</td>\n",
              "      <td>3.000000</td>\n",
              "    </tr>\n",
              "    <tr>\n",
              "      <th>dislikes.max</th>\n",
              "      <td>4067.0</td>\n",
              "      <td>4.127420</td>\n",
              "      <td>4.007607</td>\n",
              "      <td>0.000000</td>\n",
              "      <td>0.000000</td>\n",
              "      <td>1.000000</td>\n",
              "      <td>4.383285</td>\n",
              "      <td>4.383285</td>\n",
              "      <td>9.000000</td>\n",
              "      <td>18.000000</td>\n",
              "      <td>18.000000</td>\n",
              "    </tr>\n",
              "    <tr>\n",
              "      <th>carac.mean</th>\n",
              "      <td>4067.0</td>\n",
              "      <td>86.839001</td>\n",
              "      <td>53.885238</td>\n",
              "      <td>0.750000</td>\n",
              "      <td>19.883333</td>\n",
              "      <td>50.973684</td>\n",
              "      <td>89.613631</td>\n",
              "      <td>89.613631</td>\n",
              "      <td>145.500000</td>\n",
              "      <td>283.000000</td>\n",
              "      <td>283.000000</td>\n",
              "    </tr>\n",
              "    <tr>\n",
              "      <th>carac.min</th>\n",
              "      <td>4067.0</td>\n",
              "      <td>29.820060</td>\n",
              "      <td>26.724018</td>\n",
              "      <td>0.000000</td>\n",
              "      <td>4.000000</td>\n",
              "      <td>12.000000</td>\n",
              "      <td>31.292147</td>\n",
              "      <td>31.292147</td>\n",
              "      <td>54.400000</td>\n",
              "      <td>146.000000</td>\n",
              "      <td>146.000000</td>\n",
              "    </tr>\n",
              "    <tr>\n",
              "      <th>carac.max</th>\n",
              "      <td>4067.0</td>\n",
              "      <td>238.980465</td>\n",
              "      <td>221.852253</td>\n",
              "      <td>1.000000</td>\n",
              "      <td>25.000000</td>\n",
              "      <td>96.000000</td>\n",
              "      <td>252.243876</td>\n",
              "      <td>252.243876</td>\n",
              "      <td>432.400000</td>\n",
              "      <td>1195.340000</td>\n",
              "      <td>1770.000000</td>\n",
              "    </tr>\n",
              "    <tr>\n",
              "      <th>diffDaysComment.min</th>\n",
              "      <td>4067.0</td>\n",
              "      <td>26.920826</td>\n",
              "      <td>46.947078</td>\n",
              "      <td>0.000000</td>\n",
              "      <td>0.000000</td>\n",
              "      <td>2.000000</td>\n",
              "      <td>9.000000</td>\n",
              "      <td>20.000000</td>\n",
              "      <td>88.000000</td>\n",
              "      <td>210.000000</td>\n",
              "      <td>210.000000</td>\n",
              "    </tr>\n",
              "    <tr>\n",
              "      <th>diffDaysComment.max</th>\n",
              "      <td>4067.0</td>\n",
              "      <td>136.713548</td>\n",
              "      <td>98.754819</td>\n",
              "      <td>0.000000</td>\n",
              "      <td>2.000000</td>\n",
              "      <td>75.000000</td>\n",
              "      <td>129.000000</td>\n",
              "      <td>165.000000</td>\n",
              "      <td>273.400000</td>\n",
              "      <td>473.000000</td>\n",
              "      <td>473.000000</td>\n",
              "    </tr>\n",
              "    <tr>\n",
              "      <th>diffDaysComment.median</th>\n",
              "      <td>4067.0</td>\n",
              "      <td>93.833538</td>\n",
              "      <td>73.950597</td>\n",
              "      <td>0.000000</td>\n",
              "      <td>1.000000</td>\n",
              "      <td>45.000000</td>\n",
              "      <td>84.500000</td>\n",
              "      <td>114.000000</td>\n",
              "      <td>194.400000</td>\n",
              "      <td>352.000000</td>\n",
              "      <td>352.000000</td>\n",
              "    </tr>\n",
              "    <tr>\n",
              "      <th>commentId.count</th>\n",
              "      <td>4067.0</td>\n",
              "      <td>7.774527</td>\n",
              "      <td>12.975555</td>\n",
              "      <td>0.000000</td>\n",
              "      <td>0.000000</td>\n",
              "      <td>0.000000</td>\n",
              "      <td>2.000000</td>\n",
              "      <td>9.000000</td>\n",
              "      <td>24.000000</td>\n",
              "      <td>59.000000</td>\n",
              "      <td>59.000000</td>\n",
              "    </tr>\n",
              "    <tr>\n",
              "      <th>likesRatio</th>\n",
              "      <td>4067.0</td>\n",
              "      <td>52.648411</td>\n",
              "      <td>105.621990</td>\n",
              "      <td>0.000000</td>\n",
              "      <td>1.000000</td>\n",
              "      <td>5.000000</td>\n",
              "      <td>5.670908</td>\n",
              "      <td>13.180556</td>\n",
              "      <td>300.000000</td>\n",
              "      <td>300.000000</td>\n",
              "      <td>300.000000</td>\n",
              "    </tr>\n",
              "    <tr>\n",
              "      <th>likesRatio.d</th>\n",
              "      <td>4067.0</td>\n",
              "      <td>1.064175</td>\n",
              "      <td>0.775969</td>\n",
              "      <td>0.000000</td>\n",
              "      <td>0.000000</td>\n",
              "      <td>0.000000</td>\n",
              "      <td>1.000000</td>\n",
              "      <td>2.000000</td>\n",
              "      <td>2.000000</td>\n",
              "      <td>2.000000</td>\n",
              "      <td>2.000000</td>\n",
              "    </tr>\n",
              "    <tr>\n",
              "      <th>stillExists.meanDislikedComments</th>\n",
              "      <td>4067.0</td>\n",
              "      <td>0.487102</td>\n",
              "      <td>0.480250</td>\n",
              "      <td>0.000000</td>\n",
              "      <td>0.000000</td>\n",
              "      <td>0.000000</td>\n",
              "      <td>0.500000</td>\n",
              "      <td>1.000000</td>\n",
              "      <td>1.000000</td>\n",
              "      <td>1.000000</td>\n",
              "      <td>1.000000</td>\n",
              "    </tr>\n",
              "    <tr>\n",
              "      <th>stillExists.meanLikedComments</th>\n",
              "      <td>4067.0</td>\n",
              "      <td>0.679346</td>\n",
              "      <td>0.436552</td>\n",
              "      <td>0.000000</td>\n",
              "      <td>0.000000</td>\n",
              "      <td>0.000000</td>\n",
              "      <td>0.988372</td>\n",
              "      <td>1.000000</td>\n",
              "      <td>1.000000</td>\n",
              "      <td>1.000000</td>\n",
              "      <td>1.000000</td>\n",
              "    </tr>\n",
              "    <tr>\n",
              "      <th>vote.count_box-cox</th>\n",
              "      <td>4067.0</td>\n",
              "      <td>3.209930</td>\n",
              "      <td>1.525868</td>\n",
              "      <td>0.700739</td>\n",
              "      <td>0.700739</td>\n",
              "      <td>2.006540</td>\n",
              "      <td>3.194675</td>\n",
              "      <td>4.477494</td>\n",
              "      <td>5.294206</td>\n",
              "      <td>6.028575</td>\n",
              "      <td>6.146412</td>\n",
              "    </tr>\n",
              "    <tr>\n",
              "      <th>diffDaysVote.max_box-cox</th>\n",
              "      <td>4067.0</td>\n",
              "      <td>9.895137</td>\n",
              "      <td>5.666618</td>\n",
              "      <td>0.000000</td>\n",
              "      <td>0.000000</td>\n",
              "      <td>5.293179</td>\n",
              "      <td>10.907369</td>\n",
              "      <td>14.183016</td>\n",
              "      <td>16.380622</td>\n",
              "      <td>20.864137</td>\n",
              "      <td>20.864137</td>\n",
              "    </tr>\n",
              "    <tr>\n",
              "      <th>diffDaysVote.median_box-cox</th>\n",
              "      <td>4067.0</td>\n",
              "      <td>6.936511</td>\n",
              "      <td>4.097082</td>\n",
              "      <td>0.000000</td>\n",
              "      <td>0.000000</td>\n",
              "      <td>3.548861</td>\n",
              "      <td>7.615406</td>\n",
              "      <td>10.141679</td>\n",
              "      <td>11.760131</td>\n",
              "      <td>15.049682</td>\n",
              "      <td>15.057759</td>\n",
              "    </tr>\n",
              "    <tr>\n",
              "      <th>carac.mean_box-cox</th>\n",
              "      <td>4067.0</td>\n",
              "      <td>11.138032</td>\n",
              "      <td>3.249259</td>\n",
              "      <td>0.623355</td>\n",
              "      <td>5.707156</td>\n",
              "      <td>9.150685</td>\n",
              "      <td>11.914129</td>\n",
              "      <td>11.914129</td>\n",
              "      <td>14.819094</td>\n",
              "      <td>19.794741</td>\n",
              "      <td>19.794741</td>\n",
              "    </tr>\n",
              "    <tr>\n",
              "      <th>carac.min_box-cox</th>\n",
              "      <td>4067.0</td>\n",
              "      <td>4.616510</td>\n",
              "      <td>1.668387</td>\n",
              "      <td>0.000000</td>\n",
              "      <td>1.932451</td>\n",
              "      <td>3.450025</td>\n",
              "      <td>5.225206</td>\n",
              "      <td>5.225206</td>\n",
              "      <td>6.459591</td>\n",
              "      <td>9.101470</td>\n",
              "      <td>9.101470</td>\n",
              "    </tr>\n",
              "    <tr>\n",
              "      <th>carac.max_box-cox</th>\n",
              "      <td>4067.0</td>\n",
              "      <td>11.584500</td>\n",
              "      <td>3.693466</td>\n",
              "      <td>0.763098</td>\n",
              "      <td>5.253105</td>\n",
              "      <td>9.110667</td>\n",
              "      <td>12.937679</td>\n",
              "      <td>12.937679</td>\n",
              "      <td>15.561270</td>\n",
              "      <td>21.704182</td>\n",
              "      <td>24.572603</td>\n",
              "    </tr>\n",
              "    <tr>\n",
              "      <th>diffDaysComment.min_box-cox</th>\n",
              "      <td>4067.0</td>\n",
              "      <td>2.131161</td>\n",
              "      <td>1.413624</td>\n",
              "      <td>0.000000</td>\n",
              "      <td>0.000000</td>\n",
              "      <td>1.079616</td>\n",
              "      <td>2.220190</td>\n",
              "      <td>2.901588</td>\n",
              "      <td>4.182579</td>\n",
              "      <td>4.920630</td>\n",
              "      <td>4.920630</td>\n",
              "    </tr>\n",
              "    <tr>\n",
              "      <th>diffDaysComment.max_box-cox</th>\n",
              "      <td>4067.0</td>\n",
              "      <td>21.723207</td>\n",
              "      <td>10.440553</td>\n",
              "      <td>0.000000</td>\n",
              "      <td>1.490077</td>\n",
              "      <td>16.808027</td>\n",
              "      <td>22.951685</td>\n",
              "      <td>26.382854</td>\n",
              "      <td>34.998789</td>\n",
              "      <td>47.375011</td>\n",
              "      <td>47.375011</td>\n",
              "    </tr>\n",
              "    <tr>\n",
              "      <th>diffDaysComment.median_box-cox</th>\n",
              "      <td>4067.0</td>\n",
              "      <td>14.207883</td>\n",
              "      <td>6.879645</td>\n",
              "      <td>0.000000</td>\n",
              "      <td>0.818249</td>\n",
              "      <td>10.637482</td>\n",
              "      <td>14.920643</td>\n",
              "      <td>17.449701</td>\n",
              "      <td>22.943362</td>\n",
              "      <td>30.908605</td>\n",
              "      <td>30.908605</td>\n",
              "    </tr>\n",
              "    <tr>\n",
              "      <th>commentId.count_box-cox</th>\n",
              "      <td>4067.0</td>\n",
              "      <td>0.985491</td>\n",
              "      <td>0.838498</td>\n",
              "      <td>0.000000</td>\n",
              "      <td>0.000000</td>\n",
              "      <td>0.000000</td>\n",
              "      <td>0.951330</td>\n",
              "      <td>1.717096</td>\n",
              "      <td>2.154648</td>\n",
              "      <td>2.483211</td>\n",
              "      <td>2.483211</td>\n",
              "    </tr>\n",
              "    <tr>\n",
              "      <th>genderMale</th>\n",
              "      <td>4067.0</td>\n",
              "      <td>0.387017</td>\n",
              "      <td>0.487128</td>\n",
              "      <td>0.000000</td>\n",
              "      <td>0.000000</td>\n",
              "      <td>0.000000</td>\n",
              "      <td>0.000000</td>\n",
              "      <td>1.000000</td>\n",
              "      <td>1.000000</td>\n",
              "      <td>1.000000</td>\n",
              "      <td>1.000000</td>\n",
              "    </tr>\n",
              "    <tr>\n",
              "      <th>companyTypeService</th>\n",
              "      <td>4067.0</td>\n",
              "      <td>0.742808</td>\n",
              "      <td>0.437140</td>\n",
              "      <td>0.000000</td>\n",
              "      <td>0.000000</td>\n",
              "      <td>0.000000</td>\n",
              "      <td>1.000000</td>\n",
              "      <td>1.000000</td>\n",
              "      <td>1.000000</td>\n",
              "      <td>1.000000</td>\n",
              "      <td>1.000000</td>\n",
              "    </tr>\n",
              "  </tbody>\n",
              "</table>\n",
              "</div>\n",
              "      <button class=\"colab-df-convert\" onclick=\"convertToInteractive('df-238df181-8cdd-4235-ba7a-8510f7a5e3fb')\"\n",
              "              title=\"Convert this dataframe to an interactive table.\"\n",
              "              style=\"display:none;\">\n",
              "        \n",
              "  <svg xmlns=\"http://www.w3.org/2000/svg\" height=\"24px\"viewBox=\"0 0 24 24\"\n",
              "       width=\"24px\">\n",
              "    <path d=\"M0 0h24v24H0V0z\" fill=\"none\"/>\n",
              "    <path d=\"M18.56 5.44l.94 2.06.94-2.06 2.06-.94-2.06-.94-.94-2.06-.94 2.06-2.06.94zm-11 1L8.5 8.5l.94-2.06 2.06-.94-2.06-.94L8.5 2.5l-.94 2.06-2.06.94zm10 10l.94 2.06.94-2.06 2.06-.94-2.06-.94-.94-2.06-.94 2.06-2.06.94z\"/><path d=\"M17.41 7.96l-1.37-1.37c-.4-.4-.92-.59-1.43-.59-.52 0-1.04.2-1.43.59L10.3 9.45l-7.72 7.72c-.78.78-.78 2.05 0 2.83L4 21.41c.39.39.9.59 1.41.59.51 0 1.02-.2 1.41-.59l7.78-7.78 2.81-2.81c.8-.78.8-2.07 0-2.86zM5.41 20L4 18.59l7.72-7.72 1.47 1.35L5.41 20z\"/>\n",
              "  </svg>\n",
              "      </button>\n",
              "      \n",
              "  <style>\n",
              "    .colab-df-container {\n",
              "      display:flex;\n",
              "      flex-wrap:wrap;\n",
              "      gap: 12px;\n",
              "    }\n",
              "\n",
              "    .colab-df-convert {\n",
              "      background-color: #E8F0FE;\n",
              "      border: none;\n",
              "      border-radius: 50%;\n",
              "      cursor: pointer;\n",
              "      display: none;\n",
              "      fill: #1967D2;\n",
              "      height: 32px;\n",
              "      padding: 0 0 0 0;\n",
              "      width: 32px;\n",
              "    }\n",
              "\n",
              "    .colab-df-convert:hover {\n",
              "      background-color: #E2EBFA;\n",
              "      box-shadow: 0px 1px 2px rgba(60, 64, 67, 0.3), 0px 1px 3px 1px rgba(60, 64, 67, 0.15);\n",
              "      fill: #174EA6;\n",
              "    }\n",
              "\n",
              "    [theme=dark] .colab-df-convert {\n",
              "      background-color: #3B4455;\n",
              "      fill: #D2E3FC;\n",
              "    }\n",
              "\n",
              "    [theme=dark] .colab-df-convert:hover {\n",
              "      background-color: #434B5C;\n",
              "      box-shadow: 0px 1px 3px 1px rgba(0, 0, 0, 0.15);\n",
              "      filter: drop-shadow(0px 1px 2px rgba(0, 0, 0, 0.3));\n",
              "      fill: #FFFFFF;\n",
              "    }\n",
              "  </style>\n",
              "\n",
              "      <script>\n",
              "        const buttonEl =\n",
              "          document.querySelector('#df-238df181-8cdd-4235-ba7a-8510f7a5e3fb button.colab-df-convert');\n",
              "        buttonEl.style.display =\n",
              "          google.colab.kernel.accessAllowed ? 'block' : 'none';\n",
              "\n",
              "        async function convertToInteractive(key) {\n",
              "          const element = document.querySelector('#df-238df181-8cdd-4235-ba7a-8510f7a5e3fb');\n",
              "          const dataTable =\n",
              "            await google.colab.kernel.invokeFunction('convertToInteractive',\n",
              "                                                     [key], {});\n",
              "          if (!dataTable) return;\n",
              "\n",
              "          const docLinkHtml = 'Like what you see? Visit the ' +\n",
              "            '<a target=\"_blank\" href=https://colab.research.google.com/notebooks/data_table.ipynb>data table notebook</a>'\n",
              "            + ' to learn more about interactive tables.';\n",
              "          element.innerHTML = '';\n",
              "          dataTable['output_type'] = 'display_data';\n",
              "          await google.colab.output.renderOutput(dataTable, element);\n",
              "          const docLink = document.createElement('div');\n",
              "          docLink.innerHTML = docLinkHtml;\n",
              "          element.appendChild(docLink);\n",
              "        }\n",
              "      </script>\n",
              "    </div>\n",
              "  </div>\n",
              "  "
            ]
          },
          "metadata": {},
          "execution_count": 66
        }
      ]
    },
    {
      "cell_type": "code",
      "source": [
        "churn.info()"
      ],
      "metadata": {
        "colab": {
          "base_uri": "https://localhost:8080/"
        },
        "id": "RyYD_VKtW5tu",
        "outputId": "6954a146-6896-48e0-ed0f-6fc6d1ed66d9"
      },
      "execution_count": 67,
      "outputs": [
        {
          "output_type": "stream",
          "name": "stdout",
          "text": [
            "<class 'pandas.core.frame.DataFrame'>\n",
            "Int64Index: 4067 entries, 0 to 4066\n",
            "Data columns (total 40 columns):\n",
            " #   Column                            Non-Null Count  Dtype         \n",
            "---  ------                            --------------  -----         \n",
            " 0   companyAlias                      4067 non-null   object        \n",
            " 1   employee                          4067 non-null   int64         \n",
            " 2   stillExists                       4067 non-null   int64         \n",
            " 3   lastParticipationDate             4067 non-null   datetime64[ns]\n",
            " 4   vote.mean                         4067 non-null   float64       \n",
            " 5   vote.mode                         4067 non-null   int64         \n",
            " 6   vote.min                          4067 non-null   int64         \n",
            " 7   vote.max                          4067 non-null   int64         \n",
            " 8   vote.count                        4067 non-null   int64         \n",
            " 9   diffDaysVote.max                  4067 non-null   int64         \n",
            " 10  diffDaysVote.median               4067 non-null   float64       \n",
            " 11  likes.mean                        4067 non-null   float64       \n",
            " 12  likes.min                         4067 non-null   float64       \n",
            " 13  likes.max                         4067 non-null   float64       \n",
            " 14  dislikes.mean                     4067 non-null   float64       \n",
            " 15  dislikes.min                      4067 non-null   float64       \n",
            " 16  dislikes.max                      4067 non-null   float64       \n",
            " 17  carac.mean                        4067 non-null   float64       \n",
            " 18  carac.min                         4067 non-null   float64       \n",
            " 19  carac.max                         4067 non-null   float64       \n",
            " 20  diffDaysComment.min               4067 non-null   float64       \n",
            " 21  diffDaysComment.max               4067 non-null   float64       \n",
            " 22  diffDaysComment.median            4067 non-null   float64       \n",
            " 23  commentId.count                   4067 non-null   float64       \n",
            " 24  likesRatio                        4067 non-null   float64       \n",
            " 25  likesRatio.d                      4067 non-null   float64       \n",
            " 26  stillExists.meanDislikedComments  4067 non-null   float64       \n",
            " 27  stillExists.meanLikedComments     4067 non-null   float64       \n",
            " 28  vote.count_box-cox                4067 non-null   float64       \n",
            " 29  diffDaysVote.max_box-cox          4067 non-null   float64       \n",
            " 30  diffDaysVote.median_box-cox       4067 non-null   float64       \n",
            " 31  carac.mean_box-cox                4067 non-null   float64       \n",
            " 32  carac.min_box-cox                 4067 non-null   float64       \n",
            " 33  carac.max_box-cox                 4067 non-null   float64       \n",
            " 34  diffDaysComment.min_box-cox       4067 non-null   float64       \n",
            " 35  diffDaysComment.max_box-cox       4067 non-null   float64       \n",
            " 36  diffDaysComment.median_box-cox    4067 non-null   float64       \n",
            " 37  commentId.count_box-cox           4067 non-null   float64       \n",
            " 38  genderMale                        4067 non-null   uint8         \n",
            " 39  companyTypeService                4067 non-null   uint8         \n",
            "dtypes: datetime64[ns](1), float64(29), int64(7), object(1), uint8(2)\n",
            "memory usage: 1.3+ MB\n"
          ]
        }
      ]
    },
    {
      "cell_type": "markdown",
      "source": [
        "#### c) Verificar quais colunas manter\n",
        "\n",
        "As variáveis originais que foram transformadas e discretizadas podem ser retiradas"
      ],
      "metadata": {
        "id": "0k_3ZZIqXmOs"
      }
    },
    {
      "cell_type": "code",
      "source": [
        "churn.columns"
      ],
      "metadata": {
        "colab": {
          "base_uri": "https://localhost:8080/"
        },
        "id": "W_mGWSb9Xlor",
        "outputId": "944e0b4a-322e-461b-ca42-479e587c582b"
      },
      "execution_count": 68,
      "outputs": [
        {
          "output_type": "execute_result",
          "data": {
            "text/plain": [
              "Index(['companyAlias', 'employee', 'stillExists', 'lastParticipationDate',\n",
              "       'vote.mean', 'vote.mode', 'vote.min', 'vote.max', 'vote.count',\n",
              "       'diffDaysVote.max', 'diffDaysVote.median', 'likes.mean', 'likes.min',\n",
              "       'likes.max', 'dislikes.mean', 'dislikes.min', 'dislikes.max',\n",
              "       'carac.mean', 'carac.min', 'carac.max', 'diffDaysComment.min',\n",
              "       'diffDaysComment.max', 'diffDaysComment.median', 'commentId.count',\n",
              "       'likesRatio', 'likesRatio.d', 'stillExists.meanDislikedComments',\n",
              "       'stillExists.meanLikedComments', 'vote.count_box-cox',\n",
              "       'diffDaysVote.max_box-cox', 'diffDaysVote.median_box-cox',\n",
              "       'carac.mean_box-cox', 'carac.min_box-cox', 'carac.max_box-cox',\n",
              "       'diffDaysComment.min_box-cox', 'diffDaysComment.max_box-cox',\n",
              "       'diffDaysComment.median_box-cox', 'commentId.count_box-cox',\n",
              "       'genderMale', 'companyTypeService'],\n",
              "      dtype='object')"
            ]
          },
          "metadata": {},
          "execution_count": 68
        }
      ]
    },
    {
      "cell_type": "code",
      "source": [
        "churn_final = churn[['companyAlias',\n",
        "                    'employee',\n",
        "                    'stillExists',\n",
        "                    'lastParticipationDate',\n",
        "                    'vote.mean',\n",
        "                    'vote.mode',\n",
        "                    'vote.min',\n",
        "                    'vote.max',\n",
        "                    # 'vote.count',\n",
        "                    # 'diffDaysVote.max',\n",
        "                    # 'diffDaysVote.median',\n",
        "                    'likes.mean',\n",
        "                    'likes.min',\n",
        "                    'likes.max',\n",
        "                    'dislikes.mean',\n",
        "                    'dislikes.min',\n",
        "                    'dislikes.max',\n",
        "                    # 'carac.mean',\n",
        "                    # 'carac.min',\n",
        "                    # 'carac.max',\n",
        "                    # 'diffDaysComment.min',\n",
        "                    # 'diffDaysComment.max',\n",
        "                    # 'diffDaysComment.median',\n",
        "                    # 'commentId.count',\n",
        "                    # 'likesRatio',\n",
        "                    'likesRatio.d',\n",
        "                    'stillExists.meanDislikedComments',\n",
        "                    'stillExists.meanLikedComments',\n",
        "                    'vote.count_box-cox',\n",
        "                    'diffDaysVote.max_box-cox',\n",
        "                    'diffDaysVote.median_box-cox',\n",
        "                    'carac.mean_box-cox',\n",
        "                    'carac.min_box-cox',\n",
        "                    'carac.max_box-cox',\n",
        "                    'diffDaysComment.min_box-cox',\n",
        "                    'diffDaysComment.max_box-cox',\n",
        "                    'diffDaysComment.median_box-cox',\n",
        "                    'commentId.count_box-cox',\n",
        "                    'genderMale',\n",
        "                    'companyTypeService']]"
      ],
      "metadata": {
        "id": "Iw95_B0BXu9V"
      },
      "execution_count": 69,
      "outputs": []
    },
    {
      "cell_type": "code",
      "source": [
        "churn_final.head(3)"
      ],
      "metadata": {
        "colab": {
          "base_uri": "https://localhost:8080/",
          "height": 225
        },
        "id": "czM7VHLMagqN",
        "outputId": "e812dfb4-953d-4469-b087-52514b113448"
      },
      "execution_count": 70,
      "outputs": [
        {
          "output_type": "execute_result",
          "data": {
            "text/plain": [
              "               companyAlias  employee  stillExists lastParticipationDate  \\\n",
              "0  5370af43e4b0cff95558c12a        18            1   2017-03-12 01:00:00   \n",
              "1  5370af43e4b0cff95558c12a        20            1   2016-12-16 01:00:00   \n",
              "2  5370af43e4b0cff95558c12a        21            1   2016-12-27 01:00:00   \n",
              "\n",
              "   vote.mean  vote.mode  vote.min  vote.max  likes.mean  likes.min  likes.max  \\\n",
              "0   3.192118          3         1         4    5.480000        1.0       18.0   \n",
              "1   3.666667          4         2         4    1.400000        0.0        3.0   \n",
              "2   3.680556          4         3         4    3.416667        0.0        8.0   \n",
              "\n",
              "   dislikes.mean  dislikes.min  dislikes.max  likesRatio.d  \\\n",
              "0       0.580000           0.0           3.0           2.0   \n",
              "1       0.200000           0.0           1.0           1.0   \n",
              "2       0.333333           0.0           2.0           2.0   \n",
              "\n",
              "   stillExists.meanDislikedComments  stillExists.meanLikedComments  \\\n",
              "0                          0.444444                       0.589912   \n",
              "1                          0.000000                       0.375000   \n",
              "2                          0.125000                       0.595238   \n",
              "\n",
              "   vote.count_box-cox  diffDaysVote.max_box-cox  diffDaysVote.median_box-cox  \\\n",
              "0            5.787542                 17.986163                    14.212066   \n",
              "1            4.206605                 16.338878                    13.547952   \n",
              "2            4.592642                 16.566176                    12.575922   \n",
              "\n",
              "   carac.mean_box-cox  carac.min_box-cox  carac.max_box-cox  \\\n",
              "0            9.173535           3.706140          10.456914   \n",
              "1            3.479015           0.000000           5.691789   \n",
              "2            9.322751           2.827828          11.201784   \n",
              "\n",
              "   diffDaysComment.min_box-cox  diffDaysComment.max_box-cox  \\\n",
              "0                     3.434799                    42.118805   \n",
              "1                     2.709157                    32.398317   \n",
              "2                     1.741599                    37.391760   \n",
              "\n",
              "   diffDaysComment.median_box-cox  commentId.count_box-cox  genderMale  \\\n",
              "0                       29.750402                 2.427911           0   \n",
              "1                        7.996463                 1.422134           0   \n",
              "2                       26.975281                 1.853568           0   \n",
              "\n",
              "   companyTypeService  \n",
              "0                   1  \n",
              "1                   1  \n",
              "2                   1  "
            ],
            "text/html": [
              "\n",
              "  <div id=\"df-16c528fa-6f7c-4287-8807-20c3b496b613\">\n",
              "    <div class=\"colab-df-container\">\n",
              "      <div>\n",
              "<style scoped>\n",
              "    .dataframe tbody tr th:only-of-type {\n",
              "        vertical-align: middle;\n",
              "    }\n",
              "\n",
              "    .dataframe tbody tr th {\n",
              "        vertical-align: top;\n",
              "    }\n",
              "\n",
              "    .dataframe thead th {\n",
              "        text-align: right;\n",
              "    }\n",
              "</style>\n",
              "<table border=\"1\" class=\"dataframe\">\n",
              "  <thead>\n",
              "    <tr style=\"text-align: right;\">\n",
              "      <th></th>\n",
              "      <th>companyAlias</th>\n",
              "      <th>employee</th>\n",
              "      <th>stillExists</th>\n",
              "      <th>lastParticipationDate</th>\n",
              "      <th>vote.mean</th>\n",
              "      <th>vote.mode</th>\n",
              "      <th>vote.min</th>\n",
              "      <th>vote.max</th>\n",
              "      <th>likes.mean</th>\n",
              "      <th>likes.min</th>\n",
              "      <th>likes.max</th>\n",
              "      <th>dislikes.mean</th>\n",
              "      <th>dislikes.min</th>\n",
              "      <th>dislikes.max</th>\n",
              "      <th>likesRatio.d</th>\n",
              "      <th>stillExists.meanDislikedComments</th>\n",
              "      <th>stillExists.meanLikedComments</th>\n",
              "      <th>vote.count_box-cox</th>\n",
              "      <th>diffDaysVote.max_box-cox</th>\n",
              "      <th>diffDaysVote.median_box-cox</th>\n",
              "      <th>carac.mean_box-cox</th>\n",
              "      <th>carac.min_box-cox</th>\n",
              "      <th>carac.max_box-cox</th>\n",
              "      <th>diffDaysComment.min_box-cox</th>\n",
              "      <th>diffDaysComment.max_box-cox</th>\n",
              "      <th>diffDaysComment.median_box-cox</th>\n",
              "      <th>commentId.count_box-cox</th>\n",
              "      <th>genderMale</th>\n",
              "      <th>companyTypeService</th>\n",
              "    </tr>\n",
              "  </thead>\n",
              "  <tbody>\n",
              "    <tr>\n",
              "      <th>0</th>\n",
              "      <td>5370af43e4b0cff95558c12a</td>\n",
              "      <td>18</td>\n",
              "      <td>1</td>\n",
              "      <td>2017-03-12 01:00:00</td>\n",
              "      <td>3.192118</td>\n",
              "      <td>3</td>\n",
              "      <td>1</td>\n",
              "      <td>4</td>\n",
              "      <td>5.480000</td>\n",
              "      <td>1.0</td>\n",
              "      <td>18.0</td>\n",
              "      <td>0.580000</td>\n",
              "      <td>0.0</td>\n",
              "      <td>3.0</td>\n",
              "      <td>2.0</td>\n",
              "      <td>0.444444</td>\n",
              "      <td>0.589912</td>\n",
              "      <td>5.787542</td>\n",
              "      <td>17.986163</td>\n",
              "      <td>14.212066</td>\n",
              "      <td>9.173535</td>\n",
              "      <td>3.706140</td>\n",
              "      <td>10.456914</td>\n",
              "      <td>3.434799</td>\n",
              "      <td>42.118805</td>\n",
              "      <td>29.750402</td>\n",
              "      <td>2.427911</td>\n",
              "      <td>0</td>\n",
              "      <td>1</td>\n",
              "    </tr>\n",
              "    <tr>\n",
              "      <th>1</th>\n",
              "      <td>5370af43e4b0cff95558c12a</td>\n",
              "      <td>20</td>\n",
              "      <td>1</td>\n",
              "      <td>2016-12-16 01:00:00</td>\n",
              "      <td>3.666667</td>\n",
              "      <td>4</td>\n",
              "      <td>2</td>\n",
              "      <td>4</td>\n",
              "      <td>1.400000</td>\n",
              "      <td>0.0</td>\n",
              "      <td>3.0</td>\n",
              "      <td>0.200000</td>\n",
              "      <td>0.0</td>\n",
              "      <td>1.0</td>\n",
              "      <td>1.0</td>\n",
              "      <td>0.000000</td>\n",
              "      <td>0.375000</td>\n",
              "      <td>4.206605</td>\n",
              "      <td>16.338878</td>\n",
              "      <td>13.547952</td>\n",
              "      <td>3.479015</td>\n",
              "      <td>0.000000</td>\n",
              "      <td>5.691789</td>\n",
              "      <td>2.709157</td>\n",
              "      <td>32.398317</td>\n",
              "      <td>7.996463</td>\n",
              "      <td>1.422134</td>\n",
              "      <td>0</td>\n",
              "      <td>1</td>\n",
              "    </tr>\n",
              "    <tr>\n",
              "      <th>2</th>\n",
              "      <td>5370af43e4b0cff95558c12a</td>\n",
              "      <td>21</td>\n",
              "      <td>1</td>\n",
              "      <td>2016-12-27 01:00:00</td>\n",
              "      <td>3.680556</td>\n",
              "      <td>4</td>\n",
              "      <td>3</td>\n",
              "      <td>4</td>\n",
              "      <td>3.416667</td>\n",
              "      <td>0.0</td>\n",
              "      <td>8.0</td>\n",
              "      <td>0.333333</td>\n",
              "      <td>0.0</td>\n",
              "      <td>2.0</td>\n",
              "      <td>2.0</td>\n",
              "      <td>0.125000</td>\n",
              "      <td>0.595238</td>\n",
              "      <td>4.592642</td>\n",
              "      <td>16.566176</td>\n",
              "      <td>12.575922</td>\n",
              "      <td>9.322751</td>\n",
              "      <td>2.827828</td>\n",
              "      <td>11.201784</td>\n",
              "      <td>1.741599</td>\n",
              "      <td>37.391760</td>\n",
              "      <td>26.975281</td>\n",
              "      <td>1.853568</td>\n",
              "      <td>0</td>\n",
              "      <td>1</td>\n",
              "    </tr>\n",
              "  </tbody>\n",
              "</table>\n",
              "</div>\n",
              "      <button class=\"colab-df-convert\" onclick=\"convertToInteractive('df-16c528fa-6f7c-4287-8807-20c3b496b613')\"\n",
              "              title=\"Convert this dataframe to an interactive table.\"\n",
              "              style=\"display:none;\">\n",
              "        \n",
              "  <svg xmlns=\"http://www.w3.org/2000/svg\" height=\"24px\"viewBox=\"0 0 24 24\"\n",
              "       width=\"24px\">\n",
              "    <path d=\"M0 0h24v24H0V0z\" fill=\"none\"/>\n",
              "    <path d=\"M18.56 5.44l.94 2.06.94-2.06 2.06-.94-2.06-.94-.94-2.06-.94 2.06-2.06.94zm-11 1L8.5 8.5l.94-2.06 2.06-.94-2.06-.94L8.5 2.5l-.94 2.06-2.06.94zm10 10l.94 2.06.94-2.06 2.06-.94-2.06-.94-.94-2.06-.94 2.06-2.06.94z\"/><path d=\"M17.41 7.96l-1.37-1.37c-.4-.4-.92-.59-1.43-.59-.52 0-1.04.2-1.43.59L10.3 9.45l-7.72 7.72c-.78.78-.78 2.05 0 2.83L4 21.41c.39.39.9.59 1.41.59.51 0 1.02-.2 1.41-.59l7.78-7.78 2.81-2.81c.8-.78.8-2.07 0-2.86zM5.41 20L4 18.59l7.72-7.72 1.47 1.35L5.41 20z\"/>\n",
              "  </svg>\n",
              "      </button>\n",
              "      \n",
              "  <style>\n",
              "    .colab-df-container {\n",
              "      display:flex;\n",
              "      flex-wrap:wrap;\n",
              "      gap: 12px;\n",
              "    }\n",
              "\n",
              "    .colab-df-convert {\n",
              "      background-color: #E8F0FE;\n",
              "      border: none;\n",
              "      border-radius: 50%;\n",
              "      cursor: pointer;\n",
              "      display: none;\n",
              "      fill: #1967D2;\n",
              "      height: 32px;\n",
              "      padding: 0 0 0 0;\n",
              "      width: 32px;\n",
              "    }\n",
              "\n",
              "    .colab-df-convert:hover {\n",
              "      background-color: #E2EBFA;\n",
              "      box-shadow: 0px 1px 2px rgba(60, 64, 67, 0.3), 0px 1px 3px 1px rgba(60, 64, 67, 0.15);\n",
              "      fill: #174EA6;\n",
              "    }\n",
              "\n",
              "    [theme=dark] .colab-df-convert {\n",
              "      background-color: #3B4455;\n",
              "      fill: #D2E3FC;\n",
              "    }\n",
              "\n",
              "    [theme=dark] .colab-df-convert:hover {\n",
              "      background-color: #434B5C;\n",
              "      box-shadow: 0px 1px 3px 1px rgba(0, 0, 0, 0.15);\n",
              "      filter: drop-shadow(0px 1px 2px rgba(0, 0, 0, 0.3));\n",
              "      fill: #FFFFFF;\n",
              "    }\n",
              "  </style>\n",
              "\n",
              "      <script>\n",
              "        const buttonEl =\n",
              "          document.querySelector('#df-16c528fa-6f7c-4287-8807-20c3b496b613 button.colab-df-convert');\n",
              "        buttonEl.style.display =\n",
              "          google.colab.kernel.accessAllowed ? 'block' : 'none';\n",
              "\n",
              "        async function convertToInteractive(key) {\n",
              "          const element = document.querySelector('#df-16c528fa-6f7c-4287-8807-20c3b496b613');\n",
              "          const dataTable =\n",
              "            await google.colab.kernel.invokeFunction('convertToInteractive',\n",
              "                                                     [key], {});\n",
              "          if (!dataTable) return;\n",
              "\n",
              "          const docLinkHtml = 'Like what you see? Visit the ' +\n",
              "            '<a target=\"_blank\" href=https://colab.research.google.com/notebooks/data_table.ipynb>data table notebook</a>'\n",
              "            + ' to learn more about interactive tables.';\n",
              "          element.innerHTML = '';\n",
              "          dataTable['output_type'] = 'display_data';\n",
              "          await google.colab.output.renderOutput(dataTable, element);\n",
              "          const docLink = document.createElement('div');\n",
              "          docLink.innerHTML = docLinkHtml;\n",
              "          element.appendChild(docLink);\n",
              "        }\n",
              "      </script>\n",
              "    </div>\n",
              "  </div>\n",
              "  "
            ]
          },
          "metadata": {},
          "execution_count": 70
        }
      ]
    },
    {
      "cell_type": "markdown",
      "source": [
        "# Exportar arquivos"
      ],
      "metadata": {
        "id": "Xfon9603bb5v"
      }
    },
    {
      "cell_type": "code",
      "source": [
        "churn_final.to_csv('/content/churn_final.csv',\n",
        "                   index = False)"
      ],
      "metadata": {
        "id": "0mOXTfbzcMeI"
      },
      "execution_count": 71,
      "outputs": []
    }
  ]
}