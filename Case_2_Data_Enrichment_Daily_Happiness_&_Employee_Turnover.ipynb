{
  "nbformat": 4,
  "nbformat_minor": 0,
  "metadata": {
    "colab": {
      "name": "Case 2 - Data Enrichment - Daily Happiness & Employee Turnover.ipynb",
      "provenance": [],
      "toc_visible": true,
      "authorship_tag": "ABX9TyP0KBZd2dpLmuSxUqgdmGo2",
      "include_colab_link": true
    },
    "kernelspec": {
      "name": "python3",
      "display_name": "Python 3"
    },
    "language_info": {
      "name": "python"
    }
  },
  "cells": [
    {
      "cell_type": "markdown",
      "metadata": {
        "id": "view-in-github",
        "colab_type": "text"
      },
      "source": [
        "<a href=\"https://colab.research.google.com/github/bruna-calistrate/DataWrangling-DailyHappiness/blob/main/Case_2_Data_Enrichment_Daily_Happiness_%26_Employee_Turnover.ipynb\" target=\"_parent\"><img src=\"https://colab.research.google.com/assets/colab-badge.svg\" alt=\"Open In Colab\"/></a>"
      ]
    },
    {
      "cell_type": "markdown",
      "source": [
        "# Enriquecimento dos dados\n",
        "\n",
        "Após o tratamento realizado no primeiro case, vamos dar continuidade ao proesso de limpeza e estruturação do dataset que será utilizado no modelo preditivo. \n",
        "\n",
        "Aqui, iremos enriquecer os dados através de combinação, criação de dimensões, box-cox e discretização."
      ],
      "metadata": {
        "id": "qv49lzL_Md1l"
      }
    },
    {
      "cell_type": "markdown",
      "source": [
        "## Importar bibliotecas"
      ],
      "metadata": {
        "id": "-PSOD6FjPJrA"
      }
    },
    {
      "cell_type": "code",
      "execution_count": 152,
      "metadata": {
        "id": "vGCsMB_JMKy7"
      },
      "outputs": [],
      "source": [
        "import pandas as pd\n",
        "import numpy as np\n",
        "import datetime as dt\n",
        "import matplotlib.pyplot as plt\n",
        "import seaborn as sns \n",
        "from scipy import stats"
      ]
    },
    {
      "cell_type": "markdown",
      "source": [
        "## Importar arquivos "
      ],
      "metadata": {
        "id": "1saCFj7DhR8t"
      }
    },
    {
      "cell_type": "markdown",
      "source": [
        "### **churn_merge**\n",
        "\n",
        "Descrição do status e comportamento do funcionário, se continua na empresa, última participação na pesquisa, padrão de votação e comentários\n",
        "**Tamanho**: 25 colunas e 4032 linhas\n",
        "* **companyAlias**: código hash da empresa\n",
        "  * tipo object, sem valores nulos\n",
        "* **employee**: número do funcionário (1-999)\n",
        "  * tipo int, sem valores nulos\n",
        "* **stillExists**: informa se o funcionário ainda está na empresa (0-1)\n",
        "  * tipo int, sem valores nulos\n",
        "* **lastParticipationDate**: data da última participação na pesquisa\n",
        "  * tipo object, deve ser convertido para datetime, sem valores nulos\n",
        "* **vote.mean**: média de votos do funcionário (1-4)\n",
        "  * tipo float, sem valores nulos\n",
        "* **vote.mode**: moda dos votos do funcionário (1-4)\n",
        "  * tipo int, sem valores nulos\n",
        "* **vote.min**: menor nota atribuída pelo funcionário (1-4)\n",
        "  * tipo int, sem valores nulos\n",
        "* **vote.max**: maior nota atribuída pelo funcionário (2-4)\n",
        "  * tipo int, sem valores nulos\n",
        "* **vote.count**: quantidade de votos por funcionário (1-275)\n",
        "  * tipo int, sem valores nulos\n",
        "* **diffDaysVote.min**: menor diferença em dias entre a última participação e o voto (0-0)\n",
        "  * tipo int, sem valores nulos\n",
        "  * pouco representativo, pode ser excluído\n",
        "* **diffDaysVote.max**: máxima diferença em dias entre a última participação e o voto (0-572)\n",
        "  * tipo int, sem valores nulos\n",
        "* **diffDaysVote.median**: diferença mediana de dias entre a última participação e o voto (0-330.5)\n",
        "  * tipo float, sem valores nulos\n",
        "* **likes.mean**: média de likes nos comentários do funcionário (0-20.6)\n",
        "  * tipo float, sem valores nulos\n",
        "* **likes.min**: menor quantidade de likes nos comentários do funcionário (0-12)\n",
        "  * tipo float, sem valores nulos\n",
        "* **likes.max**: maior quantidade de lilkes nos comentários do funcionário (0-45)\n",
        "  * tipo float, sem valores nulos\n",
        "* **dislikes.mean**: média de dislikes nos comentários do funcionário (0-5.7)\n",
        "  * tipo float, sem valores nulos\n",
        "* **dislikes.min**: menor quantidade de dislikes nos comentários do funcionário (0-3)\n",
        "  * tipo float, sem valores nulos\n",
        "* **dislikes.max**: maior quantidade de dislikes nos comentários do funcionário (0-18)\n",
        "  * tipo float, sem valores nulos\n",
        "* **carac.mean**: média de caracteres nos comentários do funcionário (0.8-283)\n",
        "* **carac.min**: menor quantidade de caracteres nos comentários do funcionário (0-146)\n",
        "  * tipo float, sem valores nulos\n",
        "* **carac.max**: maior quantidade de caracteres nos comentários do funcionário (1-1770)\n",
        "  * tipo float, sem valores nulos\n",
        "* **diffDaysComment.min**: menor diferença em dias entre a última participação e o comentário (0-210)\n",
        "  * tipo float, sem valores nulos\n",
        "* **diffDaysComment.max**: maior diferença em dias entre a última participação e o  comentário (0-473)\n",
        "  * tipo float, sem valores nulos\n",
        "* **diffDaysComment.median**: diferença mediana em dias entre a última participação e o comentário (0-352)\n",
        "  * tipo float, sem valores nulos\n",
        "* **commentId.count**: quantidade de comentários por funcionário (0-59)\n",
        "  * tipo float, sem valores nulos"
      ],
      "metadata": {
        "id": "osKPj625Mx7b"
      }
    },
    {
      "cell_type": "code",
      "source": [
        "churn_merge = pd.read_csv('https://raw.githubusercontent.com/bruna-calistrate/DataWrangling-DailyHappiness/main/clean-data/churn_merge.csv').iloc[:,1:]\n",
        "\n",
        "churn_merge.head(3)"
      ],
      "metadata": {
        "colab": {
          "base_uri": "https://localhost:8080/",
          "height": 237
        },
        "id": "RJrg1zUDPVdy",
        "outputId": "3073b0f5-f7e7-4f70-e19f-da08c7e0517a"
      },
      "execution_count": 153,
      "outputs": [
        {
          "output_type": "execute_result",
          "data": {
            "text/plain": [
              "               companyAlias  employee  stillExists lastParticipationDate  \\\n",
              "0  5370af43e4b0cff95558c12a        18            1   2017-03-12 01:00:00   \n",
              "1  5370af43e4b0cff95558c12a        20            1   2016-12-16 01:00:00   \n",
              "2  5370af43e4b0cff95558c12a        21            1   2016-12-27 01:00:00   \n",
              "\n",
              "   vote.mean  vote.mode  vote.min  vote.max  vote.count  diffDaysVote.min  \\\n",
              "0   3.192118          3         1         4         203                 0   \n",
              "1   3.666667          4         2         4          51                 0   \n",
              "2   3.680556          4         3         4          72                 0   \n",
              "\n",
              "   ...  dislikes.mean  dislikes.min  dislikes.max  carac.mean  carac.min  \\\n",
              "0  ...       0.580000           0.0           3.0       51.24       14.0   \n",
              "1  ...       0.200000           0.0           1.0        8.20        0.0   \n",
              "2  ...       0.333333           0.0           2.0       53.00        8.0   \n",
              "\n",
              "   carac.max  diffDaysComment.min  diffDaysComment.max  \\\n",
              "0      139.0                 37.0                382.0   \n",
              "1       30.0                 16.0                238.0   \n",
              "2      168.0                  5.0                308.0   \n",
              "\n",
              "   diffDaysComment.median  commentId.count  \n",
              "0                   326.0             50.0  \n",
              "1                    27.0              5.0  \n",
              "2                   268.0             12.0  \n",
              "\n",
              "[3 rows x 25 columns]"
            ],
            "text/html": [
              "\n",
              "  <div id=\"df-0e8b6069-3c15-4393-a5f5-bc5a19d5a4eb\">\n",
              "    <div class=\"colab-df-container\">\n",
              "      <div>\n",
              "<style scoped>\n",
              "    .dataframe tbody tr th:only-of-type {\n",
              "        vertical-align: middle;\n",
              "    }\n",
              "\n",
              "    .dataframe tbody tr th {\n",
              "        vertical-align: top;\n",
              "    }\n",
              "\n",
              "    .dataframe thead th {\n",
              "        text-align: right;\n",
              "    }\n",
              "</style>\n",
              "<table border=\"1\" class=\"dataframe\">\n",
              "  <thead>\n",
              "    <tr style=\"text-align: right;\">\n",
              "      <th></th>\n",
              "      <th>companyAlias</th>\n",
              "      <th>employee</th>\n",
              "      <th>stillExists</th>\n",
              "      <th>lastParticipationDate</th>\n",
              "      <th>vote.mean</th>\n",
              "      <th>vote.mode</th>\n",
              "      <th>vote.min</th>\n",
              "      <th>vote.max</th>\n",
              "      <th>vote.count</th>\n",
              "      <th>diffDaysVote.min</th>\n",
              "      <th>...</th>\n",
              "      <th>dislikes.mean</th>\n",
              "      <th>dislikes.min</th>\n",
              "      <th>dislikes.max</th>\n",
              "      <th>carac.mean</th>\n",
              "      <th>carac.min</th>\n",
              "      <th>carac.max</th>\n",
              "      <th>diffDaysComment.min</th>\n",
              "      <th>diffDaysComment.max</th>\n",
              "      <th>diffDaysComment.median</th>\n",
              "      <th>commentId.count</th>\n",
              "    </tr>\n",
              "  </thead>\n",
              "  <tbody>\n",
              "    <tr>\n",
              "      <th>0</th>\n",
              "      <td>5370af43e4b0cff95558c12a</td>\n",
              "      <td>18</td>\n",
              "      <td>1</td>\n",
              "      <td>2017-03-12 01:00:00</td>\n",
              "      <td>3.192118</td>\n",
              "      <td>3</td>\n",
              "      <td>1</td>\n",
              "      <td>4</td>\n",
              "      <td>203</td>\n",
              "      <td>0</td>\n",
              "      <td>...</td>\n",
              "      <td>0.580000</td>\n",
              "      <td>0.0</td>\n",
              "      <td>3.0</td>\n",
              "      <td>51.24</td>\n",
              "      <td>14.0</td>\n",
              "      <td>139.0</td>\n",
              "      <td>37.0</td>\n",
              "      <td>382.0</td>\n",
              "      <td>326.0</td>\n",
              "      <td>50.0</td>\n",
              "    </tr>\n",
              "    <tr>\n",
              "      <th>1</th>\n",
              "      <td>5370af43e4b0cff95558c12a</td>\n",
              "      <td>20</td>\n",
              "      <td>1</td>\n",
              "      <td>2016-12-16 01:00:00</td>\n",
              "      <td>3.666667</td>\n",
              "      <td>4</td>\n",
              "      <td>2</td>\n",
              "      <td>4</td>\n",
              "      <td>51</td>\n",
              "      <td>0</td>\n",
              "      <td>...</td>\n",
              "      <td>0.200000</td>\n",
              "      <td>0.0</td>\n",
              "      <td>1.0</td>\n",
              "      <td>8.20</td>\n",
              "      <td>0.0</td>\n",
              "      <td>30.0</td>\n",
              "      <td>16.0</td>\n",
              "      <td>238.0</td>\n",
              "      <td>27.0</td>\n",
              "      <td>5.0</td>\n",
              "    </tr>\n",
              "    <tr>\n",
              "      <th>2</th>\n",
              "      <td>5370af43e4b0cff95558c12a</td>\n",
              "      <td>21</td>\n",
              "      <td>1</td>\n",
              "      <td>2016-12-27 01:00:00</td>\n",
              "      <td>3.680556</td>\n",
              "      <td>4</td>\n",
              "      <td>3</td>\n",
              "      <td>4</td>\n",
              "      <td>72</td>\n",
              "      <td>0</td>\n",
              "      <td>...</td>\n",
              "      <td>0.333333</td>\n",
              "      <td>0.0</td>\n",
              "      <td>2.0</td>\n",
              "      <td>53.00</td>\n",
              "      <td>8.0</td>\n",
              "      <td>168.0</td>\n",
              "      <td>5.0</td>\n",
              "      <td>308.0</td>\n",
              "      <td>268.0</td>\n",
              "      <td>12.0</td>\n",
              "    </tr>\n",
              "  </tbody>\n",
              "</table>\n",
              "<p>3 rows × 25 columns</p>\n",
              "</div>\n",
              "      <button class=\"colab-df-convert\" onclick=\"convertToInteractive('df-0e8b6069-3c15-4393-a5f5-bc5a19d5a4eb')\"\n",
              "              title=\"Convert this dataframe to an interactive table.\"\n",
              "              style=\"display:none;\">\n",
              "        \n",
              "  <svg xmlns=\"http://www.w3.org/2000/svg\" height=\"24px\"viewBox=\"0 0 24 24\"\n",
              "       width=\"24px\">\n",
              "    <path d=\"M0 0h24v24H0V0z\" fill=\"none\"/>\n",
              "    <path d=\"M18.56 5.44l.94 2.06.94-2.06 2.06-.94-2.06-.94-.94-2.06-.94 2.06-2.06.94zm-11 1L8.5 8.5l.94-2.06 2.06-.94-2.06-.94L8.5 2.5l-.94 2.06-2.06.94zm10 10l.94 2.06.94-2.06 2.06-.94-2.06-.94-.94-2.06-.94 2.06-2.06.94z\"/><path d=\"M17.41 7.96l-1.37-1.37c-.4-.4-.92-.59-1.43-.59-.52 0-1.04.2-1.43.59L10.3 9.45l-7.72 7.72c-.78.78-.78 2.05 0 2.83L4 21.41c.39.39.9.59 1.41.59.51 0 1.02-.2 1.41-.59l7.78-7.78 2.81-2.81c.8-.78.8-2.07 0-2.86zM5.41 20L4 18.59l7.72-7.72 1.47 1.35L5.41 20z\"/>\n",
              "  </svg>\n",
              "      </button>\n",
              "      \n",
              "  <style>\n",
              "    .colab-df-container {\n",
              "      display:flex;\n",
              "      flex-wrap:wrap;\n",
              "      gap: 12px;\n",
              "    }\n",
              "\n",
              "    .colab-df-convert {\n",
              "      background-color: #E8F0FE;\n",
              "      border: none;\n",
              "      border-radius: 50%;\n",
              "      cursor: pointer;\n",
              "      display: none;\n",
              "      fill: #1967D2;\n",
              "      height: 32px;\n",
              "      padding: 0 0 0 0;\n",
              "      width: 32px;\n",
              "    }\n",
              "\n",
              "    .colab-df-convert:hover {\n",
              "      background-color: #E2EBFA;\n",
              "      box-shadow: 0px 1px 2px rgba(60, 64, 67, 0.3), 0px 1px 3px 1px rgba(60, 64, 67, 0.15);\n",
              "      fill: #174EA6;\n",
              "    }\n",
              "\n",
              "    [theme=dark] .colab-df-convert {\n",
              "      background-color: #3B4455;\n",
              "      fill: #D2E3FC;\n",
              "    }\n",
              "\n",
              "    [theme=dark] .colab-df-convert:hover {\n",
              "      background-color: #434B5C;\n",
              "      box-shadow: 0px 1px 3px 1px rgba(0, 0, 0, 0.15);\n",
              "      filter: drop-shadow(0px 1px 2px rgba(0, 0, 0, 0.3));\n",
              "      fill: #FFFFFF;\n",
              "    }\n",
              "  </style>\n",
              "\n",
              "      <script>\n",
              "        const buttonEl =\n",
              "          document.querySelector('#df-0e8b6069-3c15-4393-a5f5-bc5a19d5a4eb button.colab-df-convert');\n",
              "        buttonEl.style.display =\n",
              "          google.colab.kernel.accessAllowed ? 'block' : 'none';\n",
              "\n",
              "        async function convertToInteractive(key) {\n",
              "          const element = document.querySelector('#df-0e8b6069-3c15-4393-a5f5-bc5a19d5a4eb');\n",
              "          const dataTable =\n",
              "            await google.colab.kernel.invokeFunction('convertToInteractive',\n",
              "                                                     [key], {});\n",
              "          if (!dataTable) return;\n",
              "\n",
              "          const docLinkHtml = 'Like what you see? Visit the ' +\n",
              "            '<a target=\"_blank\" href=https://colab.research.google.com/notebooks/data_table.ipynb>data table notebook</a>'\n",
              "            + ' to learn more about interactive tables.';\n",
              "          element.innerHTML = '';\n",
              "          dataTable['output_type'] = 'display_data';\n",
              "          await google.colab.output.renderOutput(dataTable, element);\n",
              "          const docLink = document.createElement('div');\n",
              "          docLink.innerHTML = docLinkHtml;\n",
              "          element.appendChild(docLink);\n",
              "        }\n",
              "      </script>\n",
              "    </div>\n",
              "  </div>\n",
              "  "
            ]
          },
          "metadata": {},
          "execution_count": 153
        }
      ]
    },
    {
      "cell_type": "code",
      "source": [
        "churn_merge.info()"
      ],
      "metadata": {
        "colab": {
          "base_uri": "https://localhost:8080/"
        },
        "id": "NX0-8HSJX8Z8",
        "outputId": "c64199a3-7325-40d2-eb28-317a9d18190e"
      },
      "execution_count": 154,
      "outputs": [
        {
          "output_type": "stream",
          "name": "stdout",
          "text": [
            "<class 'pandas.core.frame.DataFrame'>\n",
            "RangeIndex: 4032 entries, 0 to 4031\n",
            "Data columns (total 25 columns):\n",
            " #   Column                  Non-Null Count  Dtype  \n",
            "---  ------                  --------------  -----  \n",
            " 0   companyAlias            4032 non-null   object \n",
            " 1   employee                4032 non-null   int64  \n",
            " 2   stillExists             4032 non-null   int64  \n",
            " 3   lastParticipationDate   4032 non-null   object \n",
            " 4   vote.mean               4032 non-null   float64\n",
            " 5   vote.mode               4032 non-null   int64  \n",
            " 6   vote.min                4032 non-null   int64  \n",
            " 7   vote.max                4032 non-null   int64  \n",
            " 8   vote.count              4032 non-null   int64  \n",
            " 9   diffDaysVote.min        4032 non-null   int64  \n",
            " 10  diffDaysVote.max        4032 non-null   int64  \n",
            " 11  diffDaysVote.median     4032 non-null   float64\n",
            " 12  likes.mean              4032 non-null   float64\n",
            " 13  likes.min               4032 non-null   float64\n",
            " 14  likes.max               4032 non-null   float64\n",
            " 15  dislikes.mean           4032 non-null   float64\n",
            " 16  dislikes.min            4032 non-null   float64\n",
            " 17  dislikes.max            4032 non-null   float64\n",
            " 18  carac.mean              4032 non-null   float64\n",
            " 19  carac.min               4032 non-null   float64\n",
            " 20  carac.max               4032 non-null   float64\n",
            " 21  diffDaysComment.min     4032 non-null   float64\n",
            " 22  diffDaysComment.max     4032 non-null   float64\n",
            " 23  diffDaysComment.median  4032 non-null   float64\n",
            " 24  commentId.count         4032 non-null   float64\n",
            "dtypes: float64(15), int64(8), object(2)\n",
            "memory usage: 787.6+ KB\n"
          ]
        }
      ]
    },
    {
      "cell_type": "code",
      "source": [
        "churn_merge.describe().T"
      ],
      "metadata": {
        "colab": {
          "base_uri": "https://localhost:8080/",
          "height": 771
        },
        "id": "1bPzPL1ZYCR1",
        "outputId": "2037cdf8-6841-46c5-d59d-ce8fe751c4c5"
      },
      "execution_count": 155,
      "outputs": [
        {
          "output_type": "execute_result",
          "data": {
            "text/plain": [
              "                         count        mean         std   min        25%  \\\n",
              "employee                4032.0  192.212054  205.965350  1.00  51.000000   \n",
              "stillExists             4032.0    0.860119    0.346906  0.00   1.000000   \n",
              "vote.mean               4032.0    2.960151    0.633997  1.00   2.666667   \n",
              "vote.mode               4032.0    2.986607    0.825252  1.00   3.000000   \n",
              "vote.min                4032.0    1.911706    0.948771  1.00   1.000000   \n",
              "vote.max                4032.0    3.716518    0.510612  2.00   3.000000   \n",
              "vote.count              4032.0   45.905506   57.910857  1.00   6.000000   \n",
              "diffDaysVote.min        4032.0    0.000000    0.000000  0.00   0.000000   \n",
              "diffDaysVote.max        4032.0  136.478671  133.881934  0.00  21.000000   \n",
              "diffDaysVote.median     4032.0   73.406746   73.931964  0.00  10.500000   \n",
              "likes.mean              4032.0    6.476628    4.329118  0.00   3.500000   \n",
              "likes.min               4032.0    2.190456    2.579601  0.00   0.000000   \n",
              "likes.max               4032.0   14.185855    9.778094  0.00   7.000000   \n",
              "dislikes.mean           4032.0    1.091546    1.067009  0.00   0.285714   \n",
              "dislikes.min            4032.0    0.192559    0.464077  0.00   0.000000   \n",
              "dislikes.max            4032.0    4.123376    3.986520  0.00   1.000000   \n",
              "carac.mean              4032.0   86.916058   53.824296  0.75  51.247500   \n",
              "carac.min               4032.0   29.881101   26.770394  0.00  12.000000   \n",
              "carac.max               4032.0  238.697932  219.904040  1.00  97.000000   \n",
              "diffDaysComment.min     4032.0   27.003472   47.030918  0.00   2.000000   \n",
              "diffDaysComment.max     4032.0  137.221478   98.739361  0.00  77.000000   \n",
              "diffDaysComment.median  4032.0   94.213790   74.009329  0.00  47.000000   \n",
              "commentId.count         4032.0    7.749256   12.938144  0.00   0.000000   \n",
              "\n",
              "                               50%         75%          max  \n",
              "employee                131.000000  243.000000   999.000000  \n",
              "stillExists               1.000000    1.000000     1.000000  \n",
              "vote.mean                 3.000000    3.333333     4.000000  \n",
              "vote.mode                 3.000000    4.000000     4.000000  \n",
              "vote.min                  2.000000    3.000000     4.000000  \n",
              "vote.max                  4.000000    4.000000     4.000000  \n",
              "vote.count               20.000000   65.000000   275.000000  \n",
              "diffDaysVote.min          0.000000    0.000000     0.000000  \n",
              "diffDaysVote.max        107.500000  208.000000   572.000000  \n",
              "diffDaysVote.median      55.000000  113.625000   330.500000  \n",
              "likes.mean                6.631448    6.916114    20.648649  \n",
              "likes.min                 2.344741    2.344741    12.000000  \n",
              "likes.max                14.630043   15.000000    45.000000  \n",
              "dislikes.mean             1.169380    1.169380     5.666667  \n",
              "dislikes.min              0.000000    0.247118     3.000000  \n",
              "dislikes.max              4.383285    4.383285    18.000000  \n",
              "carac.mean               89.613631   89.613631   283.000000  \n",
              "carac.min                31.292147   31.292147   146.000000  \n",
              "carac.max               252.243876  252.243876  1770.000000  \n",
              "diffDaysComment.min       9.000000   21.000000   210.000000  \n",
              "diffDaysComment.max     129.000000  165.000000   473.000000  \n",
              "diffDaysComment.median   84.500000  114.500000   352.000000  \n",
              "commentId.count           2.000000    9.000000    59.000000  "
            ],
            "text/html": [
              "\n",
              "  <div id=\"df-db0c04f4-dfd5-4625-adea-f5c8fc1cd598\">\n",
              "    <div class=\"colab-df-container\">\n",
              "      <div>\n",
              "<style scoped>\n",
              "    .dataframe tbody tr th:only-of-type {\n",
              "        vertical-align: middle;\n",
              "    }\n",
              "\n",
              "    .dataframe tbody tr th {\n",
              "        vertical-align: top;\n",
              "    }\n",
              "\n",
              "    .dataframe thead th {\n",
              "        text-align: right;\n",
              "    }\n",
              "</style>\n",
              "<table border=\"1\" class=\"dataframe\">\n",
              "  <thead>\n",
              "    <tr style=\"text-align: right;\">\n",
              "      <th></th>\n",
              "      <th>count</th>\n",
              "      <th>mean</th>\n",
              "      <th>std</th>\n",
              "      <th>min</th>\n",
              "      <th>25%</th>\n",
              "      <th>50%</th>\n",
              "      <th>75%</th>\n",
              "      <th>max</th>\n",
              "    </tr>\n",
              "  </thead>\n",
              "  <tbody>\n",
              "    <tr>\n",
              "      <th>employee</th>\n",
              "      <td>4032.0</td>\n",
              "      <td>192.212054</td>\n",
              "      <td>205.965350</td>\n",
              "      <td>1.00</td>\n",
              "      <td>51.000000</td>\n",
              "      <td>131.000000</td>\n",
              "      <td>243.000000</td>\n",
              "      <td>999.000000</td>\n",
              "    </tr>\n",
              "    <tr>\n",
              "      <th>stillExists</th>\n",
              "      <td>4032.0</td>\n",
              "      <td>0.860119</td>\n",
              "      <td>0.346906</td>\n",
              "      <td>0.00</td>\n",
              "      <td>1.000000</td>\n",
              "      <td>1.000000</td>\n",
              "      <td>1.000000</td>\n",
              "      <td>1.000000</td>\n",
              "    </tr>\n",
              "    <tr>\n",
              "      <th>vote.mean</th>\n",
              "      <td>4032.0</td>\n",
              "      <td>2.960151</td>\n",
              "      <td>0.633997</td>\n",
              "      <td>1.00</td>\n",
              "      <td>2.666667</td>\n",
              "      <td>3.000000</td>\n",
              "      <td>3.333333</td>\n",
              "      <td>4.000000</td>\n",
              "    </tr>\n",
              "    <tr>\n",
              "      <th>vote.mode</th>\n",
              "      <td>4032.0</td>\n",
              "      <td>2.986607</td>\n",
              "      <td>0.825252</td>\n",
              "      <td>1.00</td>\n",
              "      <td>3.000000</td>\n",
              "      <td>3.000000</td>\n",
              "      <td>4.000000</td>\n",
              "      <td>4.000000</td>\n",
              "    </tr>\n",
              "    <tr>\n",
              "      <th>vote.min</th>\n",
              "      <td>4032.0</td>\n",
              "      <td>1.911706</td>\n",
              "      <td>0.948771</td>\n",
              "      <td>1.00</td>\n",
              "      <td>1.000000</td>\n",
              "      <td>2.000000</td>\n",
              "      <td>3.000000</td>\n",
              "      <td>4.000000</td>\n",
              "    </tr>\n",
              "    <tr>\n",
              "      <th>vote.max</th>\n",
              "      <td>4032.0</td>\n",
              "      <td>3.716518</td>\n",
              "      <td>0.510612</td>\n",
              "      <td>2.00</td>\n",
              "      <td>3.000000</td>\n",
              "      <td>4.000000</td>\n",
              "      <td>4.000000</td>\n",
              "      <td>4.000000</td>\n",
              "    </tr>\n",
              "    <tr>\n",
              "      <th>vote.count</th>\n",
              "      <td>4032.0</td>\n",
              "      <td>45.905506</td>\n",
              "      <td>57.910857</td>\n",
              "      <td>1.00</td>\n",
              "      <td>6.000000</td>\n",
              "      <td>20.000000</td>\n",
              "      <td>65.000000</td>\n",
              "      <td>275.000000</td>\n",
              "    </tr>\n",
              "    <tr>\n",
              "      <th>diffDaysVote.min</th>\n",
              "      <td>4032.0</td>\n",
              "      <td>0.000000</td>\n",
              "      <td>0.000000</td>\n",
              "      <td>0.00</td>\n",
              "      <td>0.000000</td>\n",
              "      <td>0.000000</td>\n",
              "      <td>0.000000</td>\n",
              "      <td>0.000000</td>\n",
              "    </tr>\n",
              "    <tr>\n",
              "      <th>diffDaysVote.max</th>\n",
              "      <td>4032.0</td>\n",
              "      <td>136.478671</td>\n",
              "      <td>133.881934</td>\n",
              "      <td>0.00</td>\n",
              "      <td>21.000000</td>\n",
              "      <td>107.500000</td>\n",
              "      <td>208.000000</td>\n",
              "      <td>572.000000</td>\n",
              "    </tr>\n",
              "    <tr>\n",
              "      <th>diffDaysVote.median</th>\n",
              "      <td>4032.0</td>\n",
              "      <td>73.406746</td>\n",
              "      <td>73.931964</td>\n",
              "      <td>0.00</td>\n",
              "      <td>10.500000</td>\n",
              "      <td>55.000000</td>\n",
              "      <td>113.625000</td>\n",
              "      <td>330.500000</td>\n",
              "    </tr>\n",
              "    <tr>\n",
              "      <th>likes.mean</th>\n",
              "      <td>4032.0</td>\n",
              "      <td>6.476628</td>\n",
              "      <td>4.329118</td>\n",
              "      <td>0.00</td>\n",
              "      <td>3.500000</td>\n",
              "      <td>6.631448</td>\n",
              "      <td>6.916114</td>\n",
              "      <td>20.648649</td>\n",
              "    </tr>\n",
              "    <tr>\n",
              "      <th>likes.min</th>\n",
              "      <td>4032.0</td>\n",
              "      <td>2.190456</td>\n",
              "      <td>2.579601</td>\n",
              "      <td>0.00</td>\n",
              "      <td>0.000000</td>\n",
              "      <td>2.344741</td>\n",
              "      <td>2.344741</td>\n",
              "      <td>12.000000</td>\n",
              "    </tr>\n",
              "    <tr>\n",
              "      <th>likes.max</th>\n",
              "      <td>4032.0</td>\n",
              "      <td>14.185855</td>\n",
              "      <td>9.778094</td>\n",
              "      <td>0.00</td>\n",
              "      <td>7.000000</td>\n",
              "      <td>14.630043</td>\n",
              "      <td>15.000000</td>\n",
              "      <td>45.000000</td>\n",
              "    </tr>\n",
              "    <tr>\n",
              "      <th>dislikes.mean</th>\n",
              "      <td>4032.0</td>\n",
              "      <td>1.091546</td>\n",
              "      <td>1.067009</td>\n",
              "      <td>0.00</td>\n",
              "      <td>0.285714</td>\n",
              "      <td>1.169380</td>\n",
              "      <td>1.169380</td>\n",
              "      <td>5.666667</td>\n",
              "    </tr>\n",
              "    <tr>\n",
              "      <th>dislikes.min</th>\n",
              "      <td>4032.0</td>\n",
              "      <td>0.192559</td>\n",
              "      <td>0.464077</td>\n",
              "      <td>0.00</td>\n",
              "      <td>0.000000</td>\n",
              "      <td>0.000000</td>\n",
              "      <td>0.247118</td>\n",
              "      <td>3.000000</td>\n",
              "    </tr>\n",
              "    <tr>\n",
              "      <th>dislikes.max</th>\n",
              "      <td>4032.0</td>\n",
              "      <td>4.123376</td>\n",
              "      <td>3.986520</td>\n",
              "      <td>0.00</td>\n",
              "      <td>1.000000</td>\n",
              "      <td>4.383285</td>\n",
              "      <td>4.383285</td>\n",
              "      <td>18.000000</td>\n",
              "    </tr>\n",
              "    <tr>\n",
              "      <th>carac.mean</th>\n",
              "      <td>4032.0</td>\n",
              "      <td>86.916058</td>\n",
              "      <td>53.824296</td>\n",
              "      <td>0.75</td>\n",
              "      <td>51.247500</td>\n",
              "      <td>89.613631</td>\n",
              "      <td>89.613631</td>\n",
              "      <td>283.000000</td>\n",
              "    </tr>\n",
              "    <tr>\n",
              "      <th>carac.min</th>\n",
              "      <td>4032.0</td>\n",
              "      <td>29.881101</td>\n",
              "      <td>26.770394</td>\n",
              "      <td>0.00</td>\n",
              "      <td>12.000000</td>\n",
              "      <td>31.292147</td>\n",
              "      <td>31.292147</td>\n",
              "      <td>146.000000</td>\n",
              "    </tr>\n",
              "    <tr>\n",
              "      <th>carac.max</th>\n",
              "      <td>4032.0</td>\n",
              "      <td>238.697932</td>\n",
              "      <td>219.904040</td>\n",
              "      <td>1.00</td>\n",
              "      <td>97.000000</td>\n",
              "      <td>252.243876</td>\n",
              "      <td>252.243876</td>\n",
              "      <td>1770.000000</td>\n",
              "    </tr>\n",
              "    <tr>\n",
              "      <th>diffDaysComment.min</th>\n",
              "      <td>4032.0</td>\n",
              "      <td>27.003472</td>\n",
              "      <td>47.030918</td>\n",
              "      <td>0.00</td>\n",
              "      <td>2.000000</td>\n",
              "      <td>9.000000</td>\n",
              "      <td>21.000000</td>\n",
              "      <td>210.000000</td>\n",
              "    </tr>\n",
              "    <tr>\n",
              "      <th>diffDaysComment.max</th>\n",
              "      <td>4032.0</td>\n",
              "      <td>137.221478</td>\n",
              "      <td>98.739361</td>\n",
              "      <td>0.00</td>\n",
              "      <td>77.000000</td>\n",
              "      <td>129.000000</td>\n",
              "      <td>165.000000</td>\n",
              "      <td>473.000000</td>\n",
              "    </tr>\n",
              "    <tr>\n",
              "      <th>diffDaysComment.median</th>\n",
              "      <td>4032.0</td>\n",
              "      <td>94.213790</td>\n",
              "      <td>74.009329</td>\n",
              "      <td>0.00</td>\n",
              "      <td>47.000000</td>\n",
              "      <td>84.500000</td>\n",
              "      <td>114.500000</td>\n",
              "      <td>352.000000</td>\n",
              "    </tr>\n",
              "    <tr>\n",
              "      <th>commentId.count</th>\n",
              "      <td>4032.0</td>\n",
              "      <td>7.749256</td>\n",
              "      <td>12.938144</td>\n",
              "      <td>0.00</td>\n",
              "      <td>0.000000</td>\n",
              "      <td>2.000000</td>\n",
              "      <td>9.000000</td>\n",
              "      <td>59.000000</td>\n",
              "    </tr>\n",
              "  </tbody>\n",
              "</table>\n",
              "</div>\n",
              "      <button class=\"colab-df-convert\" onclick=\"convertToInteractive('df-db0c04f4-dfd5-4625-adea-f5c8fc1cd598')\"\n",
              "              title=\"Convert this dataframe to an interactive table.\"\n",
              "              style=\"display:none;\">\n",
              "        \n",
              "  <svg xmlns=\"http://www.w3.org/2000/svg\" height=\"24px\"viewBox=\"0 0 24 24\"\n",
              "       width=\"24px\">\n",
              "    <path d=\"M0 0h24v24H0V0z\" fill=\"none\"/>\n",
              "    <path d=\"M18.56 5.44l.94 2.06.94-2.06 2.06-.94-2.06-.94-.94-2.06-.94 2.06-2.06.94zm-11 1L8.5 8.5l.94-2.06 2.06-.94-2.06-.94L8.5 2.5l-.94 2.06-2.06.94zm10 10l.94 2.06.94-2.06 2.06-.94-2.06-.94-.94-2.06-.94 2.06-2.06.94z\"/><path d=\"M17.41 7.96l-1.37-1.37c-.4-.4-.92-.59-1.43-.59-.52 0-1.04.2-1.43.59L10.3 9.45l-7.72 7.72c-.78.78-.78 2.05 0 2.83L4 21.41c.39.39.9.59 1.41.59.51 0 1.02-.2 1.41-.59l7.78-7.78 2.81-2.81c.8-.78.8-2.07 0-2.86zM5.41 20L4 18.59l7.72-7.72 1.47 1.35L5.41 20z\"/>\n",
              "  </svg>\n",
              "      </button>\n",
              "      \n",
              "  <style>\n",
              "    .colab-df-container {\n",
              "      display:flex;\n",
              "      flex-wrap:wrap;\n",
              "      gap: 12px;\n",
              "    }\n",
              "\n",
              "    .colab-df-convert {\n",
              "      background-color: #E8F0FE;\n",
              "      border: none;\n",
              "      border-radius: 50%;\n",
              "      cursor: pointer;\n",
              "      display: none;\n",
              "      fill: #1967D2;\n",
              "      height: 32px;\n",
              "      padding: 0 0 0 0;\n",
              "      width: 32px;\n",
              "    }\n",
              "\n",
              "    .colab-df-convert:hover {\n",
              "      background-color: #E2EBFA;\n",
              "      box-shadow: 0px 1px 2px rgba(60, 64, 67, 0.3), 0px 1px 3px 1px rgba(60, 64, 67, 0.15);\n",
              "      fill: #174EA6;\n",
              "    }\n",
              "\n",
              "    [theme=dark] .colab-df-convert {\n",
              "      background-color: #3B4455;\n",
              "      fill: #D2E3FC;\n",
              "    }\n",
              "\n",
              "    [theme=dark] .colab-df-convert:hover {\n",
              "      background-color: #434B5C;\n",
              "      box-shadow: 0px 1px 3px 1px rgba(0, 0, 0, 0.15);\n",
              "      filter: drop-shadow(0px 1px 2px rgba(0, 0, 0, 0.3));\n",
              "      fill: #FFFFFF;\n",
              "    }\n",
              "  </style>\n",
              "\n",
              "      <script>\n",
              "        const buttonEl =\n",
              "          document.querySelector('#df-db0c04f4-dfd5-4625-adea-f5c8fc1cd598 button.colab-df-convert');\n",
              "        buttonEl.style.display =\n",
              "          google.colab.kernel.accessAllowed ? 'block' : 'none';\n",
              "\n",
              "        async function convertToInteractive(key) {\n",
              "          const element = document.querySelector('#df-db0c04f4-dfd5-4625-adea-f5c8fc1cd598');\n",
              "          const dataTable =\n",
              "            await google.colab.kernel.invokeFunction('convertToInteractive',\n",
              "                                                     [key], {});\n",
              "          if (!dataTable) return;\n",
              "\n",
              "          const docLinkHtml = 'Like what you see? Visit the ' +\n",
              "            '<a target=\"_blank\" href=https://colab.research.google.com/notebooks/data_table.ipynb>data table notebook</a>'\n",
              "            + ' to learn more about interactive tables.';\n",
              "          element.innerHTML = '';\n",
              "          dataTable['output_type'] = 'display_data';\n",
              "          await google.colab.output.renderOutput(dataTable, element);\n",
              "          const docLink = document.createElement('div');\n",
              "          docLink.innerHTML = docLinkHtml;\n",
              "          element.appendChild(docLink);\n",
              "        }\n",
              "      </script>\n",
              "    </div>\n",
              "  </div>\n",
              "  "
            ]
          },
          "metadata": {},
          "execution_count": 155
        }
      ]
    },
    {
      "cell_type": "markdown",
      "source": [
        "### **churn_plus** \n",
        "Informações enriquecidas com gênero dos funcionários e tipo de empresa\n",
        "\n",
        "**Tamanho** - 4 colunas e 4064 linhas\n",
        "* **employee**: número do funcionário (1-999)\n",
        "  * tipo int, sem valores nulos\n",
        "* **companyAlias**: código hash da empresa\n",
        "  * tipo object, sem valores nulos\n",
        "* **companyType**: tipo de empresa\n",
        "  * tipo object, sem valores nulos\n",
        "* **gender**: gênero do funcionário (Female, Male)\n",
        "  * tipo object, sem valores nulos\n"
      ],
      "metadata": {
        "id": "wpqjRUmYWj0B"
      }
    },
    {
      "cell_type": "code",
      "source": [
        "churn_plus = pd.read_csv('https://raw.githubusercontent.com/bruna-calistrate/DataWrangling-DailyHappiness/main/clean-data/df_churn_enriq.csv',\n",
        "                         usecols=['employee', \n",
        "                                  'companyAlias',\n",
        "                                  'gender', \n",
        "                                  'companyType'])\n",
        "churn_plus.head(3)"
      ],
      "metadata": {
        "colab": {
          "base_uri": "https://localhost:8080/",
          "height": 143
        },
        "id": "5o_NeAVTWnWe",
        "outputId": "b1c93955-be92-4b6b-d886-943eaf8979fe"
      },
      "execution_count": 156,
      "outputs": [
        {
          "output_type": "execute_result",
          "data": {
            "text/plain": [
              "   employee              companyAlias companyType  gender\n",
              "0       512  56aec740f1ef260003e307d6     Product    Male\n",
              "1         2  56aec740f1ef260003e307d6     Product    Male\n",
              "2       487  56aec740f1ef260003e307d6     Product  Female"
            ],
            "text/html": [
              "\n",
              "  <div id=\"df-bdc10d7a-5caf-4b6a-ac83-f467f9be676f\">\n",
              "    <div class=\"colab-df-container\">\n",
              "      <div>\n",
              "<style scoped>\n",
              "    .dataframe tbody tr th:only-of-type {\n",
              "        vertical-align: middle;\n",
              "    }\n",
              "\n",
              "    .dataframe tbody tr th {\n",
              "        vertical-align: top;\n",
              "    }\n",
              "\n",
              "    .dataframe thead th {\n",
              "        text-align: right;\n",
              "    }\n",
              "</style>\n",
              "<table border=\"1\" class=\"dataframe\">\n",
              "  <thead>\n",
              "    <tr style=\"text-align: right;\">\n",
              "      <th></th>\n",
              "      <th>employee</th>\n",
              "      <th>companyAlias</th>\n",
              "      <th>companyType</th>\n",
              "      <th>gender</th>\n",
              "    </tr>\n",
              "  </thead>\n",
              "  <tbody>\n",
              "    <tr>\n",
              "      <th>0</th>\n",
              "      <td>512</td>\n",
              "      <td>56aec740f1ef260003e307d6</td>\n",
              "      <td>Product</td>\n",
              "      <td>Male</td>\n",
              "    </tr>\n",
              "    <tr>\n",
              "      <th>1</th>\n",
              "      <td>2</td>\n",
              "      <td>56aec740f1ef260003e307d6</td>\n",
              "      <td>Product</td>\n",
              "      <td>Male</td>\n",
              "    </tr>\n",
              "    <tr>\n",
              "      <th>2</th>\n",
              "      <td>487</td>\n",
              "      <td>56aec740f1ef260003e307d6</td>\n",
              "      <td>Product</td>\n",
              "      <td>Female</td>\n",
              "    </tr>\n",
              "  </tbody>\n",
              "</table>\n",
              "</div>\n",
              "      <button class=\"colab-df-convert\" onclick=\"convertToInteractive('df-bdc10d7a-5caf-4b6a-ac83-f467f9be676f')\"\n",
              "              title=\"Convert this dataframe to an interactive table.\"\n",
              "              style=\"display:none;\">\n",
              "        \n",
              "  <svg xmlns=\"http://www.w3.org/2000/svg\" height=\"24px\"viewBox=\"0 0 24 24\"\n",
              "       width=\"24px\">\n",
              "    <path d=\"M0 0h24v24H0V0z\" fill=\"none\"/>\n",
              "    <path d=\"M18.56 5.44l.94 2.06.94-2.06 2.06-.94-2.06-.94-.94-2.06-.94 2.06-2.06.94zm-11 1L8.5 8.5l.94-2.06 2.06-.94-2.06-.94L8.5 2.5l-.94 2.06-2.06.94zm10 10l.94 2.06.94-2.06 2.06-.94-2.06-.94-.94-2.06-.94 2.06-2.06.94z\"/><path d=\"M17.41 7.96l-1.37-1.37c-.4-.4-.92-.59-1.43-.59-.52 0-1.04.2-1.43.59L10.3 9.45l-7.72 7.72c-.78.78-.78 2.05 0 2.83L4 21.41c.39.39.9.59 1.41.59.51 0 1.02-.2 1.41-.59l7.78-7.78 2.81-2.81c.8-.78.8-2.07 0-2.86zM5.41 20L4 18.59l7.72-7.72 1.47 1.35L5.41 20z\"/>\n",
              "  </svg>\n",
              "      </button>\n",
              "      \n",
              "  <style>\n",
              "    .colab-df-container {\n",
              "      display:flex;\n",
              "      flex-wrap:wrap;\n",
              "      gap: 12px;\n",
              "    }\n",
              "\n",
              "    .colab-df-convert {\n",
              "      background-color: #E8F0FE;\n",
              "      border: none;\n",
              "      border-radius: 50%;\n",
              "      cursor: pointer;\n",
              "      display: none;\n",
              "      fill: #1967D2;\n",
              "      height: 32px;\n",
              "      padding: 0 0 0 0;\n",
              "      width: 32px;\n",
              "    }\n",
              "\n",
              "    .colab-df-convert:hover {\n",
              "      background-color: #E2EBFA;\n",
              "      box-shadow: 0px 1px 2px rgba(60, 64, 67, 0.3), 0px 1px 3px 1px rgba(60, 64, 67, 0.15);\n",
              "      fill: #174EA6;\n",
              "    }\n",
              "\n",
              "    [theme=dark] .colab-df-convert {\n",
              "      background-color: #3B4455;\n",
              "      fill: #D2E3FC;\n",
              "    }\n",
              "\n",
              "    [theme=dark] .colab-df-convert:hover {\n",
              "      background-color: #434B5C;\n",
              "      box-shadow: 0px 1px 3px 1px rgba(0, 0, 0, 0.15);\n",
              "      filter: drop-shadow(0px 1px 2px rgba(0, 0, 0, 0.3));\n",
              "      fill: #FFFFFF;\n",
              "    }\n",
              "  </style>\n",
              "\n",
              "      <script>\n",
              "        const buttonEl =\n",
              "          document.querySelector('#df-bdc10d7a-5caf-4b6a-ac83-f467f9be676f button.colab-df-convert');\n",
              "        buttonEl.style.display =\n",
              "          google.colab.kernel.accessAllowed ? 'block' : 'none';\n",
              "\n",
              "        async function convertToInteractive(key) {\n",
              "          const element = document.querySelector('#df-bdc10d7a-5caf-4b6a-ac83-f467f9be676f');\n",
              "          const dataTable =\n",
              "            await google.colab.kernel.invokeFunction('convertToInteractive',\n",
              "                                                     [key], {});\n",
              "          if (!dataTable) return;\n",
              "\n",
              "          const docLinkHtml = 'Like what you see? Visit the ' +\n",
              "            '<a target=\"_blank\" href=https://colab.research.google.com/notebooks/data_table.ipynb>data table notebook</a>'\n",
              "            + ' to learn more about interactive tables.';\n",
              "          element.innerHTML = '';\n",
              "          dataTable['output_type'] = 'display_data';\n",
              "          await google.colab.output.renderOutput(dataTable, element);\n",
              "          const docLink = document.createElement('div');\n",
              "          docLink.innerHTML = docLinkHtml;\n",
              "          element.appendChild(docLink);\n",
              "        }\n",
              "      </script>\n",
              "    </div>\n",
              "  </div>\n",
              "  "
            ]
          },
          "metadata": {},
          "execution_count": 156
        }
      ]
    },
    {
      "cell_type": "code",
      "source": [
        "churn_plus.info()"
      ],
      "metadata": {
        "colab": {
          "base_uri": "https://localhost:8080/"
        },
        "id": "hDzlFJ3FmPyF",
        "outputId": "0a3f50f0-ca62-43bc-dda1-0bb7aa938251"
      },
      "execution_count": 157,
      "outputs": [
        {
          "output_type": "stream",
          "name": "stdout",
          "text": [
            "<class 'pandas.core.frame.DataFrame'>\n",
            "RangeIndex: 4064 entries, 0 to 4063\n",
            "Data columns (total 4 columns):\n",
            " #   Column        Non-Null Count  Dtype \n",
            "---  ------        --------------  ----- \n",
            " 0   employee      4064 non-null   int64 \n",
            " 1   companyAlias  4064 non-null   object\n",
            " 2   companyType   4064 non-null   object\n",
            " 3   gender        4064 non-null   object\n",
            "dtypes: int64(1), object(3)\n",
            "memory usage: 127.1+ KB\n"
          ]
        }
      ]
    },
    {
      "cell_type": "code",
      "source": [
        "churn_plus.describe().T"
      ],
      "metadata": {
        "colab": {
          "base_uri": "https://localhost:8080/",
          "height": 81
        },
        "id": "m8_0_X-Mi4JA",
        "outputId": "429fb9cb-8136-41c2-f945-5f5a293c514e"
      },
      "execution_count": 158,
      "outputs": [
        {
          "output_type": "execute_result",
          "data": {
            "text/plain": [
              "           count        mean         std  min   25%    50%    75%    max\n",
              "employee  4064.0  192.518455  206.118146  1.0  51.0  131.0  244.0  999.0"
            ],
            "text/html": [
              "\n",
              "  <div id=\"df-65b8c0fc-828f-4320-9c41-a30ff22d6db0\">\n",
              "    <div class=\"colab-df-container\">\n",
              "      <div>\n",
              "<style scoped>\n",
              "    .dataframe tbody tr th:only-of-type {\n",
              "        vertical-align: middle;\n",
              "    }\n",
              "\n",
              "    .dataframe tbody tr th {\n",
              "        vertical-align: top;\n",
              "    }\n",
              "\n",
              "    .dataframe thead th {\n",
              "        text-align: right;\n",
              "    }\n",
              "</style>\n",
              "<table border=\"1\" class=\"dataframe\">\n",
              "  <thead>\n",
              "    <tr style=\"text-align: right;\">\n",
              "      <th></th>\n",
              "      <th>count</th>\n",
              "      <th>mean</th>\n",
              "      <th>std</th>\n",
              "      <th>min</th>\n",
              "      <th>25%</th>\n",
              "      <th>50%</th>\n",
              "      <th>75%</th>\n",
              "      <th>max</th>\n",
              "    </tr>\n",
              "  </thead>\n",
              "  <tbody>\n",
              "    <tr>\n",
              "      <th>employee</th>\n",
              "      <td>4064.0</td>\n",
              "      <td>192.518455</td>\n",
              "      <td>206.118146</td>\n",
              "      <td>1.0</td>\n",
              "      <td>51.0</td>\n",
              "      <td>131.0</td>\n",
              "      <td>244.0</td>\n",
              "      <td>999.0</td>\n",
              "    </tr>\n",
              "  </tbody>\n",
              "</table>\n",
              "</div>\n",
              "      <button class=\"colab-df-convert\" onclick=\"convertToInteractive('df-65b8c0fc-828f-4320-9c41-a30ff22d6db0')\"\n",
              "              title=\"Convert this dataframe to an interactive table.\"\n",
              "              style=\"display:none;\">\n",
              "        \n",
              "  <svg xmlns=\"http://www.w3.org/2000/svg\" height=\"24px\"viewBox=\"0 0 24 24\"\n",
              "       width=\"24px\">\n",
              "    <path d=\"M0 0h24v24H0V0z\" fill=\"none\"/>\n",
              "    <path d=\"M18.56 5.44l.94 2.06.94-2.06 2.06-.94-2.06-.94-.94-2.06-.94 2.06-2.06.94zm-11 1L8.5 8.5l.94-2.06 2.06-.94-2.06-.94L8.5 2.5l-.94 2.06-2.06.94zm10 10l.94 2.06.94-2.06 2.06-.94-2.06-.94-.94-2.06-.94 2.06-2.06.94z\"/><path d=\"M17.41 7.96l-1.37-1.37c-.4-.4-.92-.59-1.43-.59-.52 0-1.04.2-1.43.59L10.3 9.45l-7.72 7.72c-.78.78-.78 2.05 0 2.83L4 21.41c.39.39.9.59 1.41.59.51 0 1.02-.2 1.41-.59l7.78-7.78 2.81-2.81c.8-.78.8-2.07 0-2.86zM5.41 20L4 18.59l7.72-7.72 1.47 1.35L5.41 20z\"/>\n",
              "  </svg>\n",
              "      </button>\n",
              "      \n",
              "  <style>\n",
              "    .colab-df-container {\n",
              "      display:flex;\n",
              "      flex-wrap:wrap;\n",
              "      gap: 12px;\n",
              "    }\n",
              "\n",
              "    .colab-df-convert {\n",
              "      background-color: #E8F0FE;\n",
              "      border: none;\n",
              "      border-radius: 50%;\n",
              "      cursor: pointer;\n",
              "      display: none;\n",
              "      fill: #1967D2;\n",
              "      height: 32px;\n",
              "      padding: 0 0 0 0;\n",
              "      width: 32px;\n",
              "    }\n",
              "\n",
              "    .colab-df-convert:hover {\n",
              "      background-color: #E2EBFA;\n",
              "      box-shadow: 0px 1px 2px rgba(60, 64, 67, 0.3), 0px 1px 3px 1px rgba(60, 64, 67, 0.15);\n",
              "      fill: #174EA6;\n",
              "    }\n",
              "\n",
              "    [theme=dark] .colab-df-convert {\n",
              "      background-color: #3B4455;\n",
              "      fill: #D2E3FC;\n",
              "    }\n",
              "\n",
              "    [theme=dark] .colab-df-convert:hover {\n",
              "      background-color: #434B5C;\n",
              "      box-shadow: 0px 1px 3px 1px rgba(0, 0, 0, 0.15);\n",
              "      filter: drop-shadow(0px 1px 2px rgba(0, 0, 0, 0.3));\n",
              "      fill: #FFFFFF;\n",
              "    }\n",
              "  </style>\n",
              "\n",
              "      <script>\n",
              "        const buttonEl =\n",
              "          document.querySelector('#df-65b8c0fc-828f-4320-9c41-a30ff22d6db0 button.colab-df-convert');\n",
              "        buttonEl.style.display =\n",
              "          google.colab.kernel.accessAllowed ? 'block' : 'none';\n",
              "\n",
              "        async function convertToInteractive(key) {\n",
              "          const element = document.querySelector('#df-65b8c0fc-828f-4320-9c41-a30ff22d6db0');\n",
              "          const dataTable =\n",
              "            await google.colab.kernel.invokeFunction('convertToInteractive',\n",
              "                                                     [key], {});\n",
              "          if (!dataTable) return;\n",
              "\n",
              "          const docLinkHtml = 'Like what you see? Visit the ' +\n",
              "            '<a target=\"_blank\" href=https://colab.research.google.com/notebooks/data_table.ipynb>data table notebook</a>'\n",
              "            + ' to learn more about interactive tables.';\n",
              "          element.innerHTML = '';\n",
              "          dataTable['output_type'] = 'display_data';\n",
              "          await google.colab.output.renderOutput(dataTable, element);\n",
              "          const docLink = document.createElement('div');\n",
              "          docLink.innerHTML = docLinkHtml;\n",
              "          element.appendChild(docLink);\n",
              "        }\n",
              "      </script>\n",
              "    </div>\n",
              "  </div>\n",
              "  "
            ]
          },
          "metadata": {},
          "execution_count": 158
        }
      ]
    },
    {
      "cell_type": "markdown",
      "source": [
        "### **comments_clean** \n",
        "Comentário dos funcionários após votação, explicando o seu sentimento e a reação dos colegas\n",
        "\n",
        "**Tamanho** - 7 colunas e 38993 linhas\n",
        "* **employee**: número do funcionário (1-999)\n",
        "  * tipo int, sem valores nulos\n",
        "* **companyAlias**: código hash da empresa\n",
        "  * tipo object, sem valores nulos\n",
        "* **commentId**: código hash do comentário\n",
        " * tipo object, sem valores nulos\n",
        "* **likes**: quantidade de curtidas (0-86)\n",
        "  * tipo int, sem valores nulos\n",
        "* **dislikes**: quantidade de descurtidas (0-53)\n",
        "  * tipo int, sem valores nulos\n",
        "* **commentDate**: data de postagem do comentário\n",
        "  * tipo object deve ser convertido para datetime, sem valores nulos\n",
        "* **carac**: quantidade de caracteres dos comentários (0-29057)\n",
        "  * tipo int, sem valores nulos"
      ],
      "metadata": {
        "id": "mF-AsbPkWdTB"
      }
    },
    {
      "cell_type": "code",
      "source": [
        "comments_clean = pd.read_csv('https://raw.githubusercontent.com/bruna-calistrate/DataWrangling-DailyHappiness/main/clean-data/comments_clean_anonimized_clean.csv').iloc[:,1:]\n",
        "comments_clean.head(3)"
      ],
      "metadata": {
        "colab": {
          "base_uri": "https://localhost:8080/",
          "height": 143
        },
        "id": "2bkbRWSbWRup",
        "outputId": "3b8c5ccc-174e-4337-aff5-8c34a9f7e707"
      },
      "execution_count": 159,
      "outputs": [
        {
          "output_type": "execute_result",
          "data": {
            "text/plain": [
              "   employee              companyAlias                 commentId  likes  \\\n",
              "0       307  56aec740f1ef260003e307d6  58d018d7e010990004e38070      4   \n",
              "1       382  56aec740f1ef260003e307d6  58d0179ae010990004e3806d      1   \n",
              "2       172  56aec740f1ef260003e307d6  58cff8cde010990004e37f6a      3   \n",
              "\n",
              "   dislikes          commentDate  carac  \n",
              "0         0  2017-03-20 19:00:17     62  \n",
              "1         2  2017-03-20 18:55:16     29  \n",
              "2         0  2017-03-20 16:44:02     27  "
            ],
            "text/html": [
              "\n",
              "  <div id=\"df-fbf458eb-9139-4eab-b1a6-84bddbfa9c0a\">\n",
              "    <div class=\"colab-df-container\">\n",
              "      <div>\n",
              "<style scoped>\n",
              "    .dataframe tbody tr th:only-of-type {\n",
              "        vertical-align: middle;\n",
              "    }\n",
              "\n",
              "    .dataframe tbody tr th {\n",
              "        vertical-align: top;\n",
              "    }\n",
              "\n",
              "    .dataframe thead th {\n",
              "        text-align: right;\n",
              "    }\n",
              "</style>\n",
              "<table border=\"1\" class=\"dataframe\">\n",
              "  <thead>\n",
              "    <tr style=\"text-align: right;\">\n",
              "      <th></th>\n",
              "      <th>employee</th>\n",
              "      <th>companyAlias</th>\n",
              "      <th>commentId</th>\n",
              "      <th>likes</th>\n",
              "      <th>dislikes</th>\n",
              "      <th>commentDate</th>\n",
              "      <th>carac</th>\n",
              "    </tr>\n",
              "  </thead>\n",
              "  <tbody>\n",
              "    <tr>\n",
              "      <th>0</th>\n",
              "      <td>307</td>\n",
              "      <td>56aec740f1ef260003e307d6</td>\n",
              "      <td>58d018d7e010990004e38070</td>\n",
              "      <td>4</td>\n",
              "      <td>0</td>\n",
              "      <td>2017-03-20 19:00:17</td>\n",
              "      <td>62</td>\n",
              "    </tr>\n",
              "    <tr>\n",
              "      <th>1</th>\n",
              "      <td>382</td>\n",
              "      <td>56aec740f1ef260003e307d6</td>\n",
              "      <td>58d0179ae010990004e3806d</td>\n",
              "      <td>1</td>\n",
              "      <td>2</td>\n",
              "      <td>2017-03-20 18:55:16</td>\n",
              "      <td>29</td>\n",
              "    </tr>\n",
              "    <tr>\n",
              "      <th>2</th>\n",
              "      <td>172</td>\n",
              "      <td>56aec740f1ef260003e307d6</td>\n",
              "      <td>58cff8cde010990004e37f6a</td>\n",
              "      <td>3</td>\n",
              "      <td>0</td>\n",
              "      <td>2017-03-20 16:44:02</td>\n",
              "      <td>27</td>\n",
              "    </tr>\n",
              "  </tbody>\n",
              "</table>\n",
              "</div>\n",
              "      <button class=\"colab-df-convert\" onclick=\"convertToInteractive('df-fbf458eb-9139-4eab-b1a6-84bddbfa9c0a')\"\n",
              "              title=\"Convert this dataframe to an interactive table.\"\n",
              "              style=\"display:none;\">\n",
              "        \n",
              "  <svg xmlns=\"http://www.w3.org/2000/svg\" height=\"24px\"viewBox=\"0 0 24 24\"\n",
              "       width=\"24px\">\n",
              "    <path d=\"M0 0h24v24H0V0z\" fill=\"none\"/>\n",
              "    <path d=\"M18.56 5.44l.94 2.06.94-2.06 2.06-.94-2.06-.94-.94-2.06-.94 2.06-2.06.94zm-11 1L8.5 8.5l.94-2.06 2.06-.94-2.06-.94L8.5 2.5l-.94 2.06-2.06.94zm10 10l.94 2.06.94-2.06 2.06-.94-2.06-.94-.94-2.06-.94 2.06-2.06.94z\"/><path d=\"M17.41 7.96l-1.37-1.37c-.4-.4-.92-.59-1.43-.59-.52 0-1.04.2-1.43.59L10.3 9.45l-7.72 7.72c-.78.78-.78 2.05 0 2.83L4 21.41c.39.39.9.59 1.41.59.51 0 1.02-.2 1.41-.59l7.78-7.78 2.81-2.81c.8-.78.8-2.07 0-2.86zM5.41 20L4 18.59l7.72-7.72 1.47 1.35L5.41 20z\"/>\n",
              "  </svg>\n",
              "      </button>\n",
              "      \n",
              "  <style>\n",
              "    .colab-df-container {\n",
              "      display:flex;\n",
              "      flex-wrap:wrap;\n",
              "      gap: 12px;\n",
              "    }\n",
              "\n",
              "    .colab-df-convert {\n",
              "      background-color: #E8F0FE;\n",
              "      border: none;\n",
              "      border-radius: 50%;\n",
              "      cursor: pointer;\n",
              "      display: none;\n",
              "      fill: #1967D2;\n",
              "      height: 32px;\n",
              "      padding: 0 0 0 0;\n",
              "      width: 32px;\n",
              "    }\n",
              "\n",
              "    .colab-df-convert:hover {\n",
              "      background-color: #E2EBFA;\n",
              "      box-shadow: 0px 1px 2px rgba(60, 64, 67, 0.3), 0px 1px 3px 1px rgba(60, 64, 67, 0.15);\n",
              "      fill: #174EA6;\n",
              "    }\n",
              "\n",
              "    [theme=dark] .colab-df-convert {\n",
              "      background-color: #3B4455;\n",
              "      fill: #D2E3FC;\n",
              "    }\n",
              "\n",
              "    [theme=dark] .colab-df-convert:hover {\n",
              "      background-color: #434B5C;\n",
              "      box-shadow: 0px 1px 3px 1px rgba(0, 0, 0, 0.15);\n",
              "      filter: drop-shadow(0px 1px 2px rgba(0, 0, 0, 0.3));\n",
              "      fill: #FFFFFF;\n",
              "    }\n",
              "  </style>\n",
              "\n",
              "      <script>\n",
              "        const buttonEl =\n",
              "          document.querySelector('#df-fbf458eb-9139-4eab-b1a6-84bddbfa9c0a button.colab-df-convert');\n",
              "        buttonEl.style.display =\n",
              "          google.colab.kernel.accessAllowed ? 'block' : 'none';\n",
              "\n",
              "        async function convertToInteractive(key) {\n",
              "          const element = document.querySelector('#df-fbf458eb-9139-4eab-b1a6-84bddbfa9c0a');\n",
              "          const dataTable =\n",
              "            await google.colab.kernel.invokeFunction('convertToInteractive',\n",
              "                                                     [key], {});\n",
              "          if (!dataTable) return;\n",
              "\n",
              "          const docLinkHtml = 'Like what you see? Visit the ' +\n",
              "            '<a target=\"_blank\" href=https://colab.research.google.com/notebooks/data_table.ipynb>data table notebook</a>'\n",
              "            + ' to learn more about interactive tables.';\n",
              "          element.innerHTML = '';\n",
              "          dataTable['output_type'] = 'display_data';\n",
              "          await google.colab.output.renderOutput(dataTable, element);\n",
              "          const docLink = document.createElement('div');\n",
              "          docLink.innerHTML = docLinkHtml;\n",
              "          element.appendChild(docLink);\n",
              "        }\n",
              "      </script>\n",
              "    </div>\n",
              "  </div>\n",
              "  "
            ]
          },
          "metadata": {},
          "execution_count": 159
        }
      ]
    },
    {
      "cell_type": "code",
      "source": [
        "comments_clean.info()"
      ],
      "metadata": {
        "colab": {
          "base_uri": "https://localhost:8080/"
        },
        "id": "qElXj1ggqIsy",
        "outputId": "b70eb28c-13af-4cef-a003-08fb9459530e"
      },
      "execution_count": 160,
      "outputs": [
        {
          "output_type": "stream",
          "name": "stdout",
          "text": [
            "<class 'pandas.core.frame.DataFrame'>\n",
            "RangeIndex: 38993 entries, 0 to 38992\n",
            "Data columns (total 7 columns):\n",
            " #   Column        Non-Null Count  Dtype \n",
            "---  ------        --------------  ----- \n",
            " 0   employee      38993 non-null  int64 \n",
            " 1   companyAlias  38993 non-null  object\n",
            " 2   commentId     38993 non-null  object\n",
            " 3   likes         38993 non-null  int64 \n",
            " 4   dislikes      38993 non-null  int64 \n",
            " 5   commentDate   38993 non-null  object\n",
            " 6   carac         38993 non-null  int64 \n",
            "dtypes: int64(4), object(3)\n",
            "memory usage: 2.1+ MB\n"
          ]
        }
      ]
    },
    {
      "cell_type": "code",
      "source": [
        "comments_clean.describe().T"
      ],
      "metadata": {
        "colab": {
          "base_uri": "https://localhost:8080/",
          "height": 175
        },
        "id": "CikKNrD6qIPe",
        "outputId": "46526a54-d98f-4bcc-99b3-70a7a776badb"
      },
      "execution_count": 161,
      "outputs": [
        {
          "output_type": "execute_result",
          "data": {
            "text/plain": [
              "            count        mean         std  min   25%    50%    75%      max\n",
              "employee  38993.0  150.951248  157.277902  1.0  38.0  112.0  207.0    999.0\n",
              "likes     38993.0    7.002488    7.773628  0.0   2.0    4.0   10.0     86.0\n",
              "dislikes  38993.0    1.297977    2.748012  0.0   0.0    0.0    1.0     53.0\n",
              "carac     38993.0  102.140128  202.662014  0.0  27.0   57.0  118.0  29057.0"
            ],
            "text/html": [
              "\n",
              "  <div id=\"df-0909b0b4-ed0a-4909-8646-d544b0db0d66\">\n",
              "    <div class=\"colab-df-container\">\n",
              "      <div>\n",
              "<style scoped>\n",
              "    .dataframe tbody tr th:only-of-type {\n",
              "        vertical-align: middle;\n",
              "    }\n",
              "\n",
              "    .dataframe tbody tr th {\n",
              "        vertical-align: top;\n",
              "    }\n",
              "\n",
              "    .dataframe thead th {\n",
              "        text-align: right;\n",
              "    }\n",
              "</style>\n",
              "<table border=\"1\" class=\"dataframe\">\n",
              "  <thead>\n",
              "    <tr style=\"text-align: right;\">\n",
              "      <th></th>\n",
              "      <th>count</th>\n",
              "      <th>mean</th>\n",
              "      <th>std</th>\n",
              "      <th>min</th>\n",
              "      <th>25%</th>\n",
              "      <th>50%</th>\n",
              "      <th>75%</th>\n",
              "      <th>max</th>\n",
              "    </tr>\n",
              "  </thead>\n",
              "  <tbody>\n",
              "    <tr>\n",
              "      <th>employee</th>\n",
              "      <td>38993.0</td>\n",
              "      <td>150.951248</td>\n",
              "      <td>157.277902</td>\n",
              "      <td>1.0</td>\n",
              "      <td>38.0</td>\n",
              "      <td>112.0</td>\n",
              "      <td>207.0</td>\n",
              "      <td>999.0</td>\n",
              "    </tr>\n",
              "    <tr>\n",
              "      <th>likes</th>\n",
              "      <td>38993.0</td>\n",
              "      <td>7.002488</td>\n",
              "      <td>7.773628</td>\n",
              "      <td>0.0</td>\n",
              "      <td>2.0</td>\n",
              "      <td>4.0</td>\n",
              "      <td>10.0</td>\n",
              "      <td>86.0</td>\n",
              "    </tr>\n",
              "    <tr>\n",
              "      <th>dislikes</th>\n",
              "      <td>38993.0</td>\n",
              "      <td>1.297977</td>\n",
              "      <td>2.748012</td>\n",
              "      <td>0.0</td>\n",
              "      <td>0.0</td>\n",
              "      <td>0.0</td>\n",
              "      <td>1.0</td>\n",
              "      <td>53.0</td>\n",
              "    </tr>\n",
              "    <tr>\n",
              "      <th>carac</th>\n",
              "      <td>38993.0</td>\n",
              "      <td>102.140128</td>\n",
              "      <td>202.662014</td>\n",
              "      <td>0.0</td>\n",
              "      <td>27.0</td>\n",
              "      <td>57.0</td>\n",
              "      <td>118.0</td>\n",
              "      <td>29057.0</td>\n",
              "    </tr>\n",
              "  </tbody>\n",
              "</table>\n",
              "</div>\n",
              "      <button class=\"colab-df-convert\" onclick=\"convertToInteractive('df-0909b0b4-ed0a-4909-8646-d544b0db0d66')\"\n",
              "              title=\"Convert this dataframe to an interactive table.\"\n",
              "              style=\"display:none;\">\n",
              "        \n",
              "  <svg xmlns=\"http://www.w3.org/2000/svg\" height=\"24px\"viewBox=\"0 0 24 24\"\n",
              "       width=\"24px\">\n",
              "    <path d=\"M0 0h24v24H0V0z\" fill=\"none\"/>\n",
              "    <path d=\"M18.56 5.44l.94 2.06.94-2.06 2.06-.94-2.06-.94-.94-2.06-.94 2.06-2.06.94zm-11 1L8.5 8.5l.94-2.06 2.06-.94-2.06-.94L8.5 2.5l-.94 2.06-2.06.94zm10 10l.94 2.06.94-2.06 2.06-.94-2.06-.94-.94-2.06-.94 2.06-2.06.94z\"/><path d=\"M17.41 7.96l-1.37-1.37c-.4-.4-.92-.59-1.43-.59-.52 0-1.04.2-1.43.59L10.3 9.45l-7.72 7.72c-.78.78-.78 2.05 0 2.83L4 21.41c.39.39.9.59 1.41.59.51 0 1.02-.2 1.41-.59l7.78-7.78 2.81-2.81c.8-.78.8-2.07 0-2.86zM5.41 20L4 18.59l7.72-7.72 1.47 1.35L5.41 20z\"/>\n",
              "  </svg>\n",
              "      </button>\n",
              "      \n",
              "  <style>\n",
              "    .colab-df-container {\n",
              "      display:flex;\n",
              "      flex-wrap:wrap;\n",
              "      gap: 12px;\n",
              "    }\n",
              "\n",
              "    .colab-df-convert {\n",
              "      background-color: #E8F0FE;\n",
              "      border: none;\n",
              "      border-radius: 50%;\n",
              "      cursor: pointer;\n",
              "      display: none;\n",
              "      fill: #1967D2;\n",
              "      height: 32px;\n",
              "      padding: 0 0 0 0;\n",
              "      width: 32px;\n",
              "    }\n",
              "\n",
              "    .colab-df-convert:hover {\n",
              "      background-color: #E2EBFA;\n",
              "      box-shadow: 0px 1px 2px rgba(60, 64, 67, 0.3), 0px 1px 3px 1px rgba(60, 64, 67, 0.15);\n",
              "      fill: #174EA6;\n",
              "    }\n",
              "\n",
              "    [theme=dark] .colab-df-convert {\n",
              "      background-color: #3B4455;\n",
              "      fill: #D2E3FC;\n",
              "    }\n",
              "\n",
              "    [theme=dark] .colab-df-convert:hover {\n",
              "      background-color: #434B5C;\n",
              "      box-shadow: 0px 1px 3px 1px rgba(0, 0, 0, 0.15);\n",
              "      filter: drop-shadow(0px 1px 2px rgba(0, 0, 0, 0.3));\n",
              "      fill: #FFFFFF;\n",
              "    }\n",
              "  </style>\n",
              "\n",
              "      <script>\n",
              "        const buttonEl =\n",
              "          document.querySelector('#df-0909b0b4-ed0a-4909-8646-d544b0db0d66 button.colab-df-convert');\n",
              "        buttonEl.style.display =\n",
              "          google.colab.kernel.accessAllowed ? 'block' : 'none';\n",
              "\n",
              "        async function convertToInteractive(key) {\n",
              "          const element = document.querySelector('#df-0909b0b4-ed0a-4909-8646-d544b0db0d66');\n",
              "          const dataTable =\n",
              "            await google.colab.kernel.invokeFunction('convertToInteractive',\n",
              "                                                     [key], {});\n",
              "          if (!dataTable) return;\n",
              "\n",
              "          const docLinkHtml = 'Like what you see? Visit the ' +\n",
              "            '<a target=\"_blank\" href=https://colab.research.google.com/notebooks/data_table.ipynb>data table notebook</a>'\n",
              "            + ' to learn more about interactive tables.';\n",
              "          element.innerHTML = '';\n",
              "          dataTable['output_type'] = 'display_data';\n",
              "          await google.colab.output.renderOutput(dataTable, element);\n",
              "          const docLink = document.createElement('div');\n",
              "          docLink.innerHTML = docLinkHtml;\n",
              "          element.appendChild(docLink);\n",
              "        }\n",
              "      </script>\n",
              "    </div>\n",
              "  </div>\n",
              "  "
            ]
          },
          "metadata": {},
          "execution_count": 161
        }
      ]
    },
    {
      "cell_type": "markdown",
      "source": [
        "### **interactions_clean** \n",
        "\n",
        "Interações dos funcionários com os comentários de outros colegas da empresa.\n",
        "\n",
        "**Tamanho** - 5 colunas e 324.471 linhas\n",
        "* **employee**: número do funcionário (1-999)\n",
        " * tipo int, sem valores nulos\n",
        "* **companyAlias**: código hash da empresa\n",
        " * tipo object, sem valores nulos\n",
        "* **liked**: sem ou com curtida (0-1)\n",
        " * tipo int, sem valores nulos\n",
        "* **disliked**: sem ou com descurtida (0-1)\n",
        " * tipo int, sem valores nulos\n",
        "* **commentId**: código do comentário\n",
        " * tipo object, sem valores nulos"
      ],
      "metadata": {
        "id": "W3JITYNsWVV_"
      }
    },
    {
      "cell_type": "code",
      "source": [
        "interactions_clean = pd.read_csv('https://raw.githubusercontent.com/bruna-calistrate/DataWrangling-DailyHappiness/main/clean-data/commentInteractions_clean.csv').iloc[:,1:]\n",
        "interactions_clean.head(3)"
      ],
      "metadata": {
        "colab": {
          "base_uri": "https://localhost:8080/",
          "height": 143
        },
        "id": "V32Jckj5WgrQ",
        "outputId": "28fdf9f7-d9ed-4564-a3c5-f14876a302d6"
      },
      "execution_count": 162,
      "outputs": [
        {
          "output_type": "execute_result",
          "data": {
            "text/plain": [
              "   employee              companyAlias  liked  disliked  \\\n",
              "0       307  56aec740f1ef260003e307d6      1         0   \n",
              "1        36  56aec740f1ef260003e307d6      1         0   \n",
              "2       276  56aec740f1ef260003e307d6      1         0   \n",
              "\n",
              "                  commentId  \n",
              "0  58d018d7e010990004e38070  \n",
              "1  58d018d7e010990004e38070  \n",
              "2  58d018d7e010990004e38070  "
            ],
            "text/html": [
              "\n",
              "  <div id=\"df-0d1206f3-bd2c-47ea-8339-418aad37f028\">\n",
              "    <div class=\"colab-df-container\">\n",
              "      <div>\n",
              "<style scoped>\n",
              "    .dataframe tbody tr th:only-of-type {\n",
              "        vertical-align: middle;\n",
              "    }\n",
              "\n",
              "    .dataframe tbody tr th {\n",
              "        vertical-align: top;\n",
              "    }\n",
              "\n",
              "    .dataframe thead th {\n",
              "        text-align: right;\n",
              "    }\n",
              "</style>\n",
              "<table border=\"1\" class=\"dataframe\">\n",
              "  <thead>\n",
              "    <tr style=\"text-align: right;\">\n",
              "      <th></th>\n",
              "      <th>employee</th>\n",
              "      <th>companyAlias</th>\n",
              "      <th>liked</th>\n",
              "      <th>disliked</th>\n",
              "      <th>commentId</th>\n",
              "    </tr>\n",
              "  </thead>\n",
              "  <tbody>\n",
              "    <tr>\n",
              "      <th>0</th>\n",
              "      <td>307</td>\n",
              "      <td>56aec740f1ef260003e307d6</td>\n",
              "      <td>1</td>\n",
              "      <td>0</td>\n",
              "      <td>58d018d7e010990004e38070</td>\n",
              "    </tr>\n",
              "    <tr>\n",
              "      <th>1</th>\n",
              "      <td>36</td>\n",
              "      <td>56aec740f1ef260003e307d6</td>\n",
              "      <td>1</td>\n",
              "      <td>0</td>\n",
              "      <td>58d018d7e010990004e38070</td>\n",
              "    </tr>\n",
              "    <tr>\n",
              "      <th>2</th>\n",
              "      <td>276</td>\n",
              "      <td>56aec740f1ef260003e307d6</td>\n",
              "      <td>1</td>\n",
              "      <td>0</td>\n",
              "      <td>58d018d7e010990004e38070</td>\n",
              "    </tr>\n",
              "  </tbody>\n",
              "</table>\n",
              "</div>\n",
              "      <button class=\"colab-df-convert\" onclick=\"convertToInteractive('df-0d1206f3-bd2c-47ea-8339-418aad37f028')\"\n",
              "              title=\"Convert this dataframe to an interactive table.\"\n",
              "              style=\"display:none;\">\n",
              "        \n",
              "  <svg xmlns=\"http://www.w3.org/2000/svg\" height=\"24px\"viewBox=\"0 0 24 24\"\n",
              "       width=\"24px\">\n",
              "    <path d=\"M0 0h24v24H0V0z\" fill=\"none\"/>\n",
              "    <path d=\"M18.56 5.44l.94 2.06.94-2.06 2.06-.94-2.06-.94-.94-2.06-.94 2.06-2.06.94zm-11 1L8.5 8.5l.94-2.06 2.06-.94-2.06-.94L8.5 2.5l-.94 2.06-2.06.94zm10 10l.94 2.06.94-2.06 2.06-.94-2.06-.94-.94-2.06-.94 2.06-2.06.94z\"/><path d=\"M17.41 7.96l-1.37-1.37c-.4-.4-.92-.59-1.43-.59-.52 0-1.04.2-1.43.59L10.3 9.45l-7.72 7.72c-.78.78-.78 2.05 0 2.83L4 21.41c.39.39.9.59 1.41.59.51 0 1.02-.2 1.41-.59l7.78-7.78 2.81-2.81c.8-.78.8-2.07 0-2.86zM5.41 20L4 18.59l7.72-7.72 1.47 1.35L5.41 20z\"/>\n",
              "  </svg>\n",
              "      </button>\n",
              "      \n",
              "  <style>\n",
              "    .colab-df-container {\n",
              "      display:flex;\n",
              "      flex-wrap:wrap;\n",
              "      gap: 12px;\n",
              "    }\n",
              "\n",
              "    .colab-df-convert {\n",
              "      background-color: #E8F0FE;\n",
              "      border: none;\n",
              "      border-radius: 50%;\n",
              "      cursor: pointer;\n",
              "      display: none;\n",
              "      fill: #1967D2;\n",
              "      height: 32px;\n",
              "      padding: 0 0 0 0;\n",
              "      width: 32px;\n",
              "    }\n",
              "\n",
              "    .colab-df-convert:hover {\n",
              "      background-color: #E2EBFA;\n",
              "      box-shadow: 0px 1px 2px rgba(60, 64, 67, 0.3), 0px 1px 3px 1px rgba(60, 64, 67, 0.15);\n",
              "      fill: #174EA6;\n",
              "    }\n",
              "\n",
              "    [theme=dark] .colab-df-convert {\n",
              "      background-color: #3B4455;\n",
              "      fill: #D2E3FC;\n",
              "    }\n",
              "\n",
              "    [theme=dark] .colab-df-convert:hover {\n",
              "      background-color: #434B5C;\n",
              "      box-shadow: 0px 1px 3px 1px rgba(0, 0, 0, 0.15);\n",
              "      filter: drop-shadow(0px 1px 2px rgba(0, 0, 0, 0.3));\n",
              "      fill: #FFFFFF;\n",
              "    }\n",
              "  </style>\n",
              "\n",
              "      <script>\n",
              "        const buttonEl =\n",
              "          document.querySelector('#df-0d1206f3-bd2c-47ea-8339-418aad37f028 button.colab-df-convert');\n",
              "        buttonEl.style.display =\n",
              "          google.colab.kernel.accessAllowed ? 'block' : 'none';\n",
              "\n",
              "        async function convertToInteractive(key) {\n",
              "          const element = document.querySelector('#df-0d1206f3-bd2c-47ea-8339-418aad37f028');\n",
              "          const dataTable =\n",
              "            await google.colab.kernel.invokeFunction('convertToInteractive',\n",
              "                                                     [key], {});\n",
              "          if (!dataTable) return;\n",
              "\n",
              "          const docLinkHtml = 'Like what you see? Visit the ' +\n",
              "            '<a target=\"_blank\" href=https://colab.research.google.com/notebooks/data_table.ipynb>data table notebook</a>'\n",
              "            + ' to learn more about interactive tables.';\n",
              "          element.innerHTML = '';\n",
              "          dataTable['output_type'] = 'display_data';\n",
              "          await google.colab.output.renderOutput(dataTable, element);\n",
              "          const docLink = document.createElement('div');\n",
              "          docLink.innerHTML = docLinkHtml;\n",
              "          element.appendChild(docLink);\n",
              "        }\n",
              "      </script>\n",
              "    </div>\n",
              "  </div>\n",
              "  "
            ]
          },
          "metadata": {},
          "execution_count": 162
        }
      ]
    },
    {
      "cell_type": "code",
      "source": [
        "interactions_clean.info()"
      ],
      "metadata": {
        "colab": {
          "base_uri": "https://localhost:8080/"
        },
        "id": "Fs9b82AHsb6P",
        "outputId": "24ac72af-0ec1-43b2-b4f9-ec64a9bc8369"
      },
      "execution_count": 163,
      "outputs": [
        {
          "output_type": "stream",
          "name": "stdout",
          "text": [
            "<class 'pandas.core.frame.DataFrame'>\n",
            "RangeIndex: 324471 entries, 0 to 324470\n",
            "Data columns (total 5 columns):\n",
            " #   Column        Non-Null Count   Dtype \n",
            "---  ------        --------------   ----- \n",
            " 0   employee      324471 non-null  int64 \n",
            " 1   companyAlias  324471 non-null  object\n",
            " 2   liked         324471 non-null  int64 \n",
            " 3   disliked      324471 non-null  int64 \n",
            " 4   commentId     324471 non-null  object\n",
            "dtypes: int64(3), object(2)\n",
            "memory usage: 12.4+ MB\n"
          ]
        }
      ]
    },
    {
      "cell_type": "code",
      "source": [
        "interactions_clean.describe().T"
      ],
      "metadata": {
        "colab": {
          "base_uri": "https://localhost:8080/",
          "height": 143
        },
        "id": "4ZVnTyBgscxV",
        "outputId": "39fa5dc1-b2fe-4e27-e4a7-f9d91ac91d01"
      },
      "execution_count": 164,
      "outputs": [
        {
          "output_type": "execute_result",
          "data": {
            "text/plain": [
              "             count        mean         std  min   25%    50%    75%    max\n",
              "employee  324471.0  172.173411  178.699301  1.0  45.0  128.0  214.0  999.0\n",
              "liked     324471.0    0.843696    0.363144  0.0   1.0    1.0    1.0    1.0\n",
              "disliked  324471.0    0.156304    0.363144  0.0   0.0    0.0    0.0    1.0"
            ],
            "text/html": [
              "\n",
              "  <div id=\"df-2a8ff313-3386-40cc-8847-facea0d3effa\">\n",
              "    <div class=\"colab-df-container\">\n",
              "      <div>\n",
              "<style scoped>\n",
              "    .dataframe tbody tr th:only-of-type {\n",
              "        vertical-align: middle;\n",
              "    }\n",
              "\n",
              "    .dataframe tbody tr th {\n",
              "        vertical-align: top;\n",
              "    }\n",
              "\n",
              "    .dataframe thead th {\n",
              "        text-align: right;\n",
              "    }\n",
              "</style>\n",
              "<table border=\"1\" class=\"dataframe\">\n",
              "  <thead>\n",
              "    <tr style=\"text-align: right;\">\n",
              "      <th></th>\n",
              "      <th>count</th>\n",
              "      <th>mean</th>\n",
              "      <th>std</th>\n",
              "      <th>min</th>\n",
              "      <th>25%</th>\n",
              "      <th>50%</th>\n",
              "      <th>75%</th>\n",
              "      <th>max</th>\n",
              "    </tr>\n",
              "  </thead>\n",
              "  <tbody>\n",
              "    <tr>\n",
              "      <th>employee</th>\n",
              "      <td>324471.0</td>\n",
              "      <td>172.173411</td>\n",
              "      <td>178.699301</td>\n",
              "      <td>1.0</td>\n",
              "      <td>45.0</td>\n",
              "      <td>128.0</td>\n",
              "      <td>214.0</td>\n",
              "      <td>999.0</td>\n",
              "    </tr>\n",
              "    <tr>\n",
              "      <th>liked</th>\n",
              "      <td>324471.0</td>\n",
              "      <td>0.843696</td>\n",
              "      <td>0.363144</td>\n",
              "      <td>0.0</td>\n",
              "      <td>1.0</td>\n",
              "      <td>1.0</td>\n",
              "      <td>1.0</td>\n",
              "      <td>1.0</td>\n",
              "    </tr>\n",
              "    <tr>\n",
              "      <th>disliked</th>\n",
              "      <td>324471.0</td>\n",
              "      <td>0.156304</td>\n",
              "      <td>0.363144</td>\n",
              "      <td>0.0</td>\n",
              "      <td>0.0</td>\n",
              "      <td>0.0</td>\n",
              "      <td>0.0</td>\n",
              "      <td>1.0</td>\n",
              "    </tr>\n",
              "  </tbody>\n",
              "</table>\n",
              "</div>\n",
              "      <button class=\"colab-df-convert\" onclick=\"convertToInteractive('df-2a8ff313-3386-40cc-8847-facea0d3effa')\"\n",
              "              title=\"Convert this dataframe to an interactive table.\"\n",
              "              style=\"display:none;\">\n",
              "        \n",
              "  <svg xmlns=\"http://www.w3.org/2000/svg\" height=\"24px\"viewBox=\"0 0 24 24\"\n",
              "       width=\"24px\">\n",
              "    <path d=\"M0 0h24v24H0V0z\" fill=\"none\"/>\n",
              "    <path d=\"M18.56 5.44l.94 2.06.94-2.06 2.06-.94-2.06-.94-.94-2.06-.94 2.06-2.06.94zm-11 1L8.5 8.5l.94-2.06 2.06-.94-2.06-.94L8.5 2.5l-.94 2.06-2.06.94zm10 10l.94 2.06.94-2.06 2.06-.94-2.06-.94-.94-2.06-.94 2.06-2.06.94z\"/><path d=\"M17.41 7.96l-1.37-1.37c-.4-.4-.92-.59-1.43-.59-.52 0-1.04.2-1.43.59L10.3 9.45l-7.72 7.72c-.78.78-.78 2.05 0 2.83L4 21.41c.39.39.9.59 1.41.59.51 0 1.02-.2 1.41-.59l7.78-7.78 2.81-2.81c.8-.78.8-2.07 0-2.86zM5.41 20L4 18.59l7.72-7.72 1.47 1.35L5.41 20z\"/>\n",
              "  </svg>\n",
              "      </button>\n",
              "      \n",
              "  <style>\n",
              "    .colab-df-container {\n",
              "      display:flex;\n",
              "      flex-wrap:wrap;\n",
              "      gap: 12px;\n",
              "    }\n",
              "\n",
              "    .colab-df-convert {\n",
              "      background-color: #E8F0FE;\n",
              "      border: none;\n",
              "      border-radius: 50%;\n",
              "      cursor: pointer;\n",
              "      display: none;\n",
              "      fill: #1967D2;\n",
              "      height: 32px;\n",
              "      padding: 0 0 0 0;\n",
              "      width: 32px;\n",
              "    }\n",
              "\n",
              "    .colab-df-convert:hover {\n",
              "      background-color: #E2EBFA;\n",
              "      box-shadow: 0px 1px 2px rgba(60, 64, 67, 0.3), 0px 1px 3px 1px rgba(60, 64, 67, 0.15);\n",
              "      fill: #174EA6;\n",
              "    }\n",
              "\n",
              "    [theme=dark] .colab-df-convert {\n",
              "      background-color: #3B4455;\n",
              "      fill: #D2E3FC;\n",
              "    }\n",
              "\n",
              "    [theme=dark] .colab-df-convert:hover {\n",
              "      background-color: #434B5C;\n",
              "      box-shadow: 0px 1px 3px 1px rgba(0, 0, 0, 0.15);\n",
              "      filter: drop-shadow(0px 1px 2px rgba(0, 0, 0, 0.3));\n",
              "      fill: #FFFFFF;\n",
              "    }\n",
              "  </style>\n",
              "\n",
              "      <script>\n",
              "        const buttonEl =\n",
              "          document.querySelector('#df-2a8ff313-3386-40cc-8847-facea0d3effa button.colab-df-convert');\n",
              "        buttonEl.style.display =\n",
              "          google.colab.kernel.accessAllowed ? 'block' : 'none';\n",
              "\n",
              "        async function convertToInteractive(key) {\n",
              "          const element = document.querySelector('#df-2a8ff313-3386-40cc-8847-facea0d3effa');\n",
              "          const dataTable =\n",
              "            await google.colab.kernel.invokeFunction('convertToInteractive',\n",
              "                                                     [key], {});\n",
              "          if (!dataTable) return;\n",
              "\n",
              "          const docLinkHtml = 'Like what you see? Visit the ' +\n",
              "            '<a target=\"_blank\" href=https://colab.research.google.com/notebooks/data_table.ipynb>data table notebook</a>'\n",
              "            + ' to learn more about interactive tables.';\n",
              "          element.innerHTML = '';\n",
              "          dataTable['output_type'] = 'display_data';\n",
              "          await google.colab.output.renderOutput(dataTable, element);\n",
              "          const docLink = document.createElement('div');\n",
              "          docLink.innerHTML = docLinkHtml;\n",
              "          element.appendChild(docLink);\n",
              "        }\n",
              "      </script>\n",
              "    </div>\n",
              "  </div>\n",
              "  "
            ]
          },
          "metadata": {},
          "execution_count": 164
        }
      ]
    },
    {
      "cell_type": "markdown",
      "source": [
        "## Tratamento inicial de dados\n",
        "\n",
        "Correção de variáveis e merge de **gender** e **companyType** na base de **churn_merge**"
      ],
      "metadata": {
        "id": "ttr2LeLMtYhc"
      }
    },
    {
      "cell_type": "code",
      "source": [
        "churn_merge.drop(columns=['diffDaysVote.min'], inplace=True)\n",
        "churn_merge['lastParticipationDate'] = pd.to_datetime(\n",
        "    churn_merge['lastParticipationDate'], infer_datetime_format=True\n",
        "    )\n",
        "churn_merge.info()"
      ],
      "metadata": {
        "colab": {
          "base_uri": "https://localhost:8080/"
        },
        "id": "CzwpgDsVYrrw",
        "outputId": "88f198b0-4922-4353-ca2f-01c99f1d5568"
      },
      "execution_count": 165,
      "outputs": [
        {
          "output_type": "stream",
          "name": "stdout",
          "text": [
            "<class 'pandas.core.frame.DataFrame'>\n",
            "RangeIndex: 4032 entries, 0 to 4031\n",
            "Data columns (total 24 columns):\n",
            " #   Column                  Non-Null Count  Dtype         \n",
            "---  ------                  --------------  -----         \n",
            " 0   companyAlias            4032 non-null   object        \n",
            " 1   employee                4032 non-null   int64         \n",
            " 2   stillExists             4032 non-null   int64         \n",
            " 3   lastParticipationDate   4032 non-null   datetime64[ns]\n",
            " 4   vote.mean               4032 non-null   float64       \n",
            " 5   vote.mode               4032 non-null   int64         \n",
            " 6   vote.min                4032 non-null   int64         \n",
            " 7   vote.max                4032 non-null   int64         \n",
            " 8   vote.count              4032 non-null   int64         \n",
            " 9   diffDaysVote.max        4032 non-null   int64         \n",
            " 10  diffDaysVote.median     4032 non-null   float64       \n",
            " 11  likes.mean              4032 non-null   float64       \n",
            " 12  likes.min               4032 non-null   float64       \n",
            " 13  likes.max               4032 non-null   float64       \n",
            " 14  dislikes.mean           4032 non-null   float64       \n",
            " 15  dislikes.min            4032 non-null   float64       \n",
            " 16  dislikes.max            4032 non-null   float64       \n",
            " 17  carac.mean              4032 non-null   float64       \n",
            " 18  carac.min               4032 non-null   float64       \n",
            " 19  carac.max               4032 non-null   float64       \n",
            " 20  diffDaysComment.min     4032 non-null   float64       \n",
            " 21  diffDaysComment.max     4032 non-null   float64       \n",
            " 22  diffDaysComment.median  4032 non-null   float64       \n",
            " 23  commentId.count         4032 non-null   float64       \n",
            "dtypes: datetime64[ns](1), float64(15), int64(7), object(1)\n",
            "memory usage: 756.1+ KB\n"
          ]
        }
      ]
    },
    {
      "cell_type": "code",
      "source": [
        "comments_clean['commentDate'] = pd.to_datetime(\n",
        "    comments_clean['commentDate'], infer_datetime_format=True\n",
        "    )\n",
        "comments_clean.info()"
      ],
      "metadata": {
        "colab": {
          "base_uri": "https://localhost:8080/"
        },
        "id": "u1qfIDymrdiy",
        "outputId": "5be3a73e-7e8b-4eec-8192-65e9167353ed"
      },
      "execution_count": 166,
      "outputs": [
        {
          "output_type": "stream",
          "name": "stdout",
          "text": [
            "<class 'pandas.core.frame.DataFrame'>\n",
            "RangeIndex: 38993 entries, 0 to 38992\n",
            "Data columns (total 7 columns):\n",
            " #   Column        Non-Null Count  Dtype         \n",
            "---  ------        --------------  -----         \n",
            " 0   employee      38993 non-null  int64         \n",
            " 1   companyAlias  38993 non-null  object        \n",
            " 2   commentId     38993 non-null  object        \n",
            " 3   likes         38993 non-null  int64         \n",
            " 4   dislikes      38993 non-null  int64         \n",
            " 5   commentDate   38993 non-null  datetime64[ns]\n",
            " 6   carac         38993 non-null  int64         \n",
            "dtypes: datetime64[ns](1), int64(4), object(2)\n",
            "memory usage: 2.1+ MB\n"
          ]
        }
      ]
    },
    {
      "cell_type": "code",
      "source": [
        "churn = churn_merge.merge(churn_plus,\n",
        "                          on=['companyAlias',\n",
        "                              'employee'],\n",
        "                          how='left')"
      ],
      "metadata": {
        "id": "ykfSWKC8t4FK"
      },
      "execution_count": 167,
      "outputs": []
    },
    {
      "cell_type": "code",
      "source": [
        "churn.info()"
      ],
      "metadata": {
        "colab": {
          "base_uri": "https://localhost:8080/"
        },
        "id": "upXt1JufzEmJ",
        "outputId": "ac36b310-c6da-4963-a657-32038ff02e09"
      },
      "execution_count": 168,
      "outputs": [
        {
          "output_type": "stream",
          "name": "stdout",
          "text": [
            "<class 'pandas.core.frame.DataFrame'>\n",
            "Int64Index: 4067 entries, 0 to 4066\n",
            "Data columns (total 26 columns):\n",
            " #   Column                  Non-Null Count  Dtype         \n",
            "---  ------                  --------------  -----         \n",
            " 0   companyAlias            4067 non-null   object        \n",
            " 1   employee                4067 non-null   int64         \n",
            " 2   stillExists             4067 non-null   int64         \n",
            " 3   lastParticipationDate   4067 non-null   datetime64[ns]\n",
            " 4   vote.mean               4067 non-null   float64       \n",
            " 5   vote.mode               4067 non-null   int64         \n",
            " 6   vote.min                4067 non-null   int64         \n",
            " 7   vote.max                4067 non-null   int64         \n",
            " 8   vote.count              4067 non-null   int64         \n",
            " 9   diffDaysVote.max        4067 non-null   int64         \n",
            " 10  diffDaysVote.median     4067 non-null   float64       \n",
            " 11  likes.mean              4067 non-null   float64       \n",
            " 12  likes.min               4067 non-null   float64       \n",
            " 13  likes.max               4067 non-null   float64       \n",
            " 14  dislikes.mean           4067 non-null   float64       \n",
            " 15  dislikes.min            4067 non-null   float64       \n",
            " 16  dislikes.max            4067 non-null   float64       \n",
            " 17  carac.mean              4067 non-null   float64       \n",
            " 18  carac.min               4067 non-null   float64       \n",
            " 19  carac.max               4067 non-null   float64       \n",
            " 20  diffDaysComment.min     4067 non-null   float64       \n",
            " 21  diffDaysComment.max     4067 non-null   float64       \n",
            " 22  diffDaysComment.median  4067 non-null   float64       \n",
            " 23  commentId.count         4067 non-null   float64       \n",
            " 24  companyType             4064 non-null   object        \n",
            " 25  gender                  4064 non-null   object        \n",
            "dtypes: datetime64[ns](1), float64(15), int64(7), object(3)\n",
            "memory usage: 857.9+ KB\n"
          ]
        }
      ]
    },
    {
      "cell_type": "markdown",
      "source": [
        "Por serem poucos valores nulos, será utilizado o método ffill"
      ],
      "metadata": {
        "id": "b_MuOgf14iRZ"
      }
    },
    {
      "cell_type": "code",
      "source": [
        "churn.fillna(method='ffill', inplace=True)"
      ],
      "metadata": {
        "id": "YdLQtGZo3OFl"
      },
      "execution_count": 169,
      "outputs": []
    },
    {
      "cell_type": "markdown",
      "source": [
        "## Enriquecimento dos dados"
      ],
      "metadata": {
        "id": "xeUnc9j9Sipx"
      }
    },
    {
      "cell_type": "markdown",
      "source": [
        "### Combinação de variáveis"
      ],
      "metadata": {
        "id": "EzEg_0yyVmKQ"
      }
    },
    {
      "cell_type": "markdown",
      "source": [
        "#### a) Calcular a razão de likes.mean e dislikes.mean"
      ],
      "metadata": {
        "id": "m4vmAS54Vt5g"
      }
    },
    {
      "cell_type": "code",
      "source": [
        "churn['likesRatio'] = churn['likes.mean'] / churn['dislikes.mean']"
      ],
      "metadata": {
        "id": "xtIm8pZeVlc4"
      },
      "execution_count": 170,
      "outputs": []
    },
    {
      "cell_type": "markdown",
      "source": [
        "#### b) Verificar a existência de valores nulos e infinitos"
      ],
      "metadata": {
        "id": "7O-IaIRfV4K0"
      }
    },
    {
      "cell_type": "code",
      "source": [
        "churn.loc[churn['likesRatio'].isna()].shape"
      ],
      "metadata": {
        "colab": {
          "base_uri": "https://localhost:8080/"
        },
        "id": "fLjVpeCrSq3c",
        "outputId": "2c1bf4e8-1187-4650-bde3-34b8d824a559"
      },
      "execution_count": 171,
      "outputs": [
        {
          "output_type": "execute_result",
          "data": {
            "text/plain": [
              "(106, 27)"
            ]
          },
          "metadata": {},
          "execution_count": 171
        }
      ]
    },
    {
      "cell_type": "code",
      "source": [
        "churn.loc[churn['likesRatio'] == np.inf].shape"
      ],
      "metadata": {
        "colab": {
          "base_uri": "https://localhost:8080/"
        },
        "id": "lUxUmaEv6CiR",
        "outputId": "f713eca2-1d43-45be-d01c-28b3fd1f35f8"
      },
      "execution_count": 172,
      "outputs": [
        {
          "output_type": "execute_result",
          "data": {
            "text/plain": [
              "(622, 27)"
            ]
          },
          "metadata": {},
          "execution_count": 172
        }
      ]
    },
    {
      "cell_type": "markdown",
      "source": [
        "#### c) Preencher nulos como 1"
      ],
      "metadata": {
        "id": "95C9hmLh6pFh"
      }
    },
    {
      "cell_type": "code",
      "source": [
        "churn.loc[churn['likesRatio'].isna(), 'likesRatio'] = 1"
      ],
      "metadata": {
        "id": "LsmTgFdN7Djo"
      },
      "execution_count": 173,
      "outputs": []
    },
    {
      "cell_type": "code",
      "source": [
        "churn.loc[churn['likesRatio'].isna()].shape"
      ],
      "metadata": {
        "colab": {
          "base_uri": "https://localhost:8080/"
        },
        "id": "Y-eHt6lFBCvW",
        "outputId": "ca43f4fc-3c67-46dc-b72a-70979739cccc"
      },
      "execution_count": 174,
      "outputs": [
        {
          "output_type": "execute_result",
          "data": {
            "text/plain": [
              "(0, 27)"
            ]
          },
          "metadata": {},
          "execution_count": 174
        }
      ]
    },
    {
      "cell_type": "markdown",
      "source": [
        "#### d) Plotar histograma"
      ],
      "metadata": {
        "id": "x8TrDG6t9jbh"
      }
    },
    {
      "cell_type": "code",
      "source": [
        "plt.figure(figsize=(10,6))\n",
        "\n",
        "sns.histplot(data=churn,\n",
        "             x='likesRatio')\n",
        "\n",
        "plt.title(\"Razão de likes por dislikes\")\n",
        "plt.xlabel(\"Razão\")\n",
        "plt.ylabel('Quantidade')\n",
        "\n",
        "plt.show()"
      ],
      "metadata": {
        "colab": {
          "base_uri": "https://localhost:8080/",
          "height": 404
        },
        "id": "IvqMWfvJ9m6E",
        "outputId": "109d972e-82e4-4676-f270-f96211c85787"
      },
      "execution_count": 175,
      "outputs": [
        {
          "output_type": "display_data",
          "data": {
            "text/plain": [
              "<Figure size 720x432 with 1 Axes>"
            ],
            "image/png": "[encoded data removed]"
          },
          "metadata": {
            "needs_background": "light"
          }
        }
      ]
    },
    {
      "cell_type": "code",
      "source": [
        "plt.figure(figsize=(10,6))\n",
        "\n",
        "sns.boxplot(data=churn,\n",
        "             x='likesRatio')\n",
        "\n",
        "plt.title(\"Razão de likes por dislikes\")\n",
        "plt.xlabel(\"Razão\")\n",
        "plt.ylabel('Quantidade')\n",
        "\n",
        "plt.show()"
      ],
      "metadata": {
        "colab": {
          "base_uri": "https://localhost:8080/",
          "height": 404
        },
        "id": "MSzyaKsTAPki",
        "outputId": "afde0ddd-0e0d-4014-ab6d-ebaaa9257167"
      },
      "execution_count": 176,
      "outputs": [
        {
          "output_type": "display_data",
          "data": {
            "text/plain": [
              "<Figure size 720x432 with 1 Axes>"
            ],
            "image/png": "[encoded data removed]"
          },
          "metadata": {
            "needs_background": "light"
          }
        }
      ]
    },
    {
      "cell_type": "markdown",
      "source": [
        "#### e) Como ela possui picos indesejados e uma cauda muito longa, aplicar a discretização por equal-frequency utilizando 3 bins\n",
        "\n",
        "Primeiro, atribuir um valor alto para os infinitos"
      ],
      "metadata": {
        "id": "uyeQJdseACZX"
      }
    },
    {
      "cell_type": "code",
      "source": [
        "churn.loc[churn['likesRatio'] == np.inf, 'likesRatio'] = 300"
      ],
      "metadata": {
        "id": "g-I8K8myAfgg"
      },
      "execution_count": 177,
      "outputs": []
    },
    {
      "cell_type": "code",
      "source": [
        "churn['likesRatio'].describe()"
      ],
      "metadata": {
        "colab": {
          "base_uri": "https://localhost:8080/"
        },
        "id": "eObuS2NZBrTm",
        "outputId": "a2679ec4-266f-4a78-ed77-ebc24cc3da61"
      },
      "execution_count": 178,
      "outputs": [
        {
          "output_type": "execute_result",
          "data": {
            "text/plain": [
              "count    4067.000000\n",
              "mean       52.648411\n",
              "std       105.621990\n",
              "min         0.000000\n",
              "25%         5.000000\n",
              "50%         5.670908\n",
              "75%        13.180556\n",
              "max       300.000000\n",
              "Name: likesRatio, dtype: float64"
            ]
          },
          "metadata": {},
          "execution_count": 178
        }
      ]
    },
    {
      "cell_type": "code",
      "source": [
        "from sklearn.preprocessing import KBinsDiscretizer\n",
        "\n",
        "discretizer = KBinsDiscretizer(n_bins=3,\n",
        "                               encode='ordinal',\n",
        "                               strategy='quantile')\n",
        "\n",
        "discretizer.fit(churn[['likesRatio']].values)\n",
        "\n",
        "churn['likesRatio.d'] = discretizer.transform(churn[['likesRatio']]\n",
        "                                              .values)"
      ],
      "metadata": {
        "id": "UhS6zjZpEJaJ"
      },
      "execution_count": 179,
      "outputs": []
    },
    {
      "cell_type": "markdown",
      "source": [
        "#### f) Visualize a nova distribuição"
      ],
      "metadata": {
        "id": "tlpCepVkFaJj"
      }
    },
    {
      "cell_type": "code",
      "source": [
        "plt.figure(figsize=(10,6))\n",
        "\n",
        "sns.histplot(data=churn,\n",
        "             x='likesRatio.d',\n",
        "             discrete=True,\n",
        "             shrink=.98)\n",
        "\n",
        "plt.title(\"Razão de likes por dislikes\")\n",
        "plt.xlabel(\"Razão\")\n",
        "plt.ylabel('Quantidade')\n",
        "\n",
        "\n",
        "plt.show()"
      ],
      "metadata": {
        "colab": {
          "base_uri": "https://localhost:8080/",
          "height": 404
        },
        "id": "kBa5tVnOFdwx",
        "outputId": "a2b57852-7427-4060-ef48-e1b2ce279550"
      },
      "execution_count": 180,
      "outputs": [
        {
          "output_type": "display_data",
          "data": {
            "text/plain": [
              "<Figure size 720x432 with 1 Axes>"
            ],
            "image/png": "[encoded data removed]"
          },
          "metadata": {
            "needs_background": "light"
          }
        }
      ]
    },
    {
      "cell_type": "code",
      "source": [
        "plt.figure(figsize=(10,6))\n",
        "\n",
        "sns.boxplot(data=churn,\n",
        "             x='likesRatio.d')\n",
        "\n",
        "plt.title(\"Razão de likes por dislikes\")\n",
        "plt.xlabel(\"Razão\")\n",
        "plt.ylabel('Quantidade')\n",
        "\n",
        "plt.show()"
      ],
      "metadata": {
        "colab": {
          "base_uri": "https://localhost:8080/",
          "height": 404
        },
        "id": "v-tvF08xFeJp",
        "outputId": "0a6780b4-4fe9-4560-b439-89c65c23e6ff"
      },
      "execution_count": 181,
      "outputs": [
        {
          "output_type": "display_data",
          "data": {
            "text/plain": [
              "<Figure size 720x432 with 1 Axes>"
            ],
            "image/png": "[encoded data removed]"
          },
          "metadata": {
            "needs_background": "light"
          }
        }
      ]
    },
    {
      "cell_type": "markdown",
      "source": [
        "### Criar nova dimensão\n",
        "Vamos analizar os comentários, para isso será necessário calcular uma dimensão de comentários que indique se o autor do comentário saiu da empresa ou não.\n",
        "\n",
        "Isso pode indicar que um funcionário que dê like em comentários de quem saiu da empresa pode ser mais propenso a sair também."
      ],
      "metadata": {
        "id": "RwFgeeGZGbWr"
      }
    },
    {
      "cell_type": "markdown",
      "source": [
        "#### a) Fazer um merge entre **comments_clean** e **churn**, trazendo apenas o **stillExists**"
      ],
      "metadata": {
        "id": "pvWjceFsHA0l"
      }
    },
    {
      "cell_type": "code",
      "source": [
        "comments = comments_clean.merge(churn[['companyAlias', \n",
        "                                       'employee', \n",
        "                                       'stillExists']],\n",
        "                                on=['companyAlias',\n",
        "                                    'employee'],\n",
        "                                how='left')"
      ],
      "metadata": {
        "id": "PB0Z7M_VGeiQ"
      },
      "execution_count": 182,
      "outputs": []
    },
    {
      "cell_type": "markdown",
      "source": [
        "Os valores nulos representam funcionários que não estão na base churn, então serão excluídos."
      ],
      "metadata": {
        "id": "ZLejPM_JI_ac"
      }
    },
    {
      "cell_type": "code",
      "source": [
        "comments.shape"
      ],
      "metadata": {
        "colab": {
          "base_uri": "https://localhost:8080/"
        },
        "id": "uBOGqxVlNpDM",
        "outputId": "fc0e5273-55be-4963-a6df-0d4b07efff2e"
      },
      "execution_count": 183,
      "outputs": [
        {
          "output_type": "execute_result",
          "data": {
            "text/plain": [
              "(39542, 8)"
            ]
          },
          "metadata": {},
          "execution_count": 183
        }
      ]
    },
    {
      "cell_type": "code",
      "source": [
        "comments.loc[comments['stillExists'].isna()].shape"
      ],
      "metadata": {
        "colab": {
          "base_uri": "https://localhost:8080/"
        },
        "id": "tcocARNMHsl3",
        "outputId": "d91d013e-0628-4c82-fe51-3349604747ac"
      },
      "execution_count": 184,
      "outputs": [
        {
          "output_type": "execute_result",
          "data": {
            "text/plain": [
              "(4852, 8)"
            ]
          },
          "metadata": {},
          "execution_count": 184
        }
      ]
    },
    {
      "cell_type": "code",
      "source": [
        "comments.dropna(axis='index', \n",
        "                how='any', \n",
        "                inplace=True)\n",
        "comments.shape"
      ],
      "metadata": {
        "colab": {
          "base_uri": "https://localhost:8080/"
        },
        "id": "K6pv1_tlH3Je",
        "outputId": "8a3c4ccd-1497-4e03-97a6-2f7f91151bea"
      },
      "execution_count": 185,
      "outputs": [
        {
          "output_type": "execute_result",
          "data": {
            "text/plain": [
              "(34690, 8)"
            ]
          },
          "metadata": {},
          "execution_count": 185
        }
      ]
    },
    {
      "cell_type": "code",
      "source": [
        "comments.head(3)"
      ],
      "metadata": {
        "colab": {
          "base_uri": "https://localhost:8080/",
          "height": 143
        },
        "id": "2Hv_VxuQJYgz",
        "outputId": "8d0fad6c-0f6c-42a9-9e06-621c30597e07"
      },
      "execution_count": 186,
      "outputs": [
        {
          "output_type": "execute_result",
          "data": {
            "text/plain": [
              "   employee              companyAlias                 commentId  likes  \\\n",
              "0       307  56aec740f1ef260003e307d6  58d018d7e010990004e38070      4   \n",
              "1       382  56aec740f1ef260003e307d6  58d0179ae010990004e3806d      1   \n",
              "2       172  56aec740f1ef260003e307d6  58cff8cde010990004e37f6a      3   \n",
              "\n",
              "   dislikes         commentDate  carac  stillExists  \n",
              "0         0 2017-03-20 19:00:17     62          1.0  \n",
              "1         2 2017-03-20 18:55:16     29          1.0  \n",
              "2         0 2017-03-20 16:44:02     27          1.0  "
            ],
            "text/html": [
              "\n",
              "  <div id=\"df-8888dc70-a711-4b79-868e-a3b3afb6f9d1\">\n",
              "    <div class=\"colab-df-container\">\n",
              "      <div>\n",
              "<style scoped>\n",
              "    .dataframe tbody tr th:only-of-type {\n",
              "        vertical-align: middle;\n",
              "    }\n",
              "\n",
              "    .dataframe tbody tr th {\n",
              "        vertical-align: top;\n",
              "    }\n",
              "\n",
              "    .dataframe thead th {\n",
              "        text-align: right;\n",
              "    }\n",
              "</style>\n",
              "<table border=\"1\" class=\"dataframe\">\n",
              "  <thead>\n",
              "    <tr style=\"text-align: right;\">\n",
              "      <th></th>\n",
              "      <th>employee</th>\n",
              "      <th>companyAlias</th>\n",
              "      <th>commentId</th>\n",
              "      <th>likes</th>\n",
              "      <th>dislikes</th>\n",
              "      <th>commentDate</th>\n",
              "      <th>carac</th>\n",
              "      <th>stillExists</th>\n",
              "    </tr>\n",
              "  </thead>\n",
              "  <tbody>\n",
              "    <tr>\n",
              "      <th>0</th>\n",
              "      <td>307</td>\n",
              "      <td>56aec740f1ef260003e307d6</td>\n",
              "      <td>58d018d7e010990004e38070</td>\n",
              "      <td>4</td>\n",
              "      <td>0</td>\n",
              "      <td>2017-03-20 19:00:17</td>\n",
              "      <td>62</td>\n",
              "      <td>1.0</td>\n",
              "    </tr>\n",
              "    <tr>\n",
              "      <th>1</th>\n",
              "      <td>382</td>\n",
              "      <td>56aec740f1ef260003e307d6</td>\n",
              "      <td>58d0179ae010990004e3806d</td>\n",
              "      <td>1</td>\n",
              "      <td>2</td>\n",
              "      <td>2017-03-20 18:55:16</td>\n",
              "      <td>29</td>\n",
              "      <td>1.0</td>\n",
              "    </tr>\n",
              "    <tr>\n",
              "      <th>2</th>\n",
              "      <td>172</td>\n",
              "      <td>56aec740f1ef260003e307d6</td>\n",
              "      <td>58cff8cde010990004e37f6a</td>\n",
              "      <td>3</td>\n",
              "      <td>0</td>\n",
              "      <td>2017-03-20 16:44:02</td>\n",
              "      <td>27</td>\n",
              "      <td>1.0</td>\n",
              "    </tr>\n",
              "  </tbody>\n",
              "</table>\n",
              "</div>\n",
              "      <button class=\"colab-df-convert\" onclick=\"convertToInteractive('df-8888dc70-a711-4b79-868e-a3b3afb6f9d1')\"\n",
              "              title=\"Convert this dataframe to an interactive table.\"\n",
              "              style=\"display:none;\">\n",
              "        \n",
              "  <svg xmlns=\"http://www.w3.org/2000/svg\" height=\"24px\"viewBox=\"0 0 24 24\"\n",
              "       width=\"24px\">\n",
              "    <path d=\"M0 0h24v24H0V0z\" fill=\"none\"/>\n",
              "    <path d=\"M18.56 5.44l.94 2.06.94-2.06 2.06-.94-2.06-.94-.94-2.06-.94 2.06-2.06.94zm-11 1L8.5 8.5l.94-2.06 2.06-.94-2.06-.94L8.5 2.5l-.94 2.06-2.06.94zm10 10l.94 2.06.94-2.06 2.06-.94-2.06-.94-.94-2.06-.94 2.06-2.06.94z\"/><path d=\"M17.41 7.96l-1.37-1.37c-.4-.4-.92-.59-1.43-.59-.52 0-1.04.2-1.43.59L10.3 9.45l-7.72 7.72c-.78.78-.78 2.05 0 2.83L4 21.41c.39.39.9.59 1.41.59.51 0 1.02-.2 1.41-.59l7.78-7.78 2.81-2.81c.8-.78.8-2.07 0-2.86zM5.41 20L4 18.59l7.72-7.72 1.47 1.35L5.41 20z\"/>\n",
              "  </svg>\n",
              "      </button>\n",
              "      \n",
              "  <style>\n",
              "    .colab-df-container {\n",
              "      display:flex;\n",
              "      flex-wrap:wrap;\n",
              "      gap: 12px;\n",
              "    }\n",
              "\n",
              "    .colab-df-convert {\n",
              "      background-color: #E8F0FE;\n",
              "      border: none;\n",
              "      border-radius: 50%;\n",
              "      cursor: pointer;\n",
              "      display: none;\n",
              "      fill: #1967D2;\n",
              "      height: 32px;\n",
              "      padding: 0 0 0 0;\n",
              "      width: 32px;\n",
              "    }\n",
              "\n",
              "    .colab-df-convert:hover {\n",
              "      background-color: #E2EBFA;\n",
              "      box-shadow: 0px 1px 2px rgba(60, 64, 67, 0.3), 0px 1px 3px 1px rgba(60, 64, 67, 0.15);\n",
              "      fill: #174EA6;\n",
              "    }\n",
              "\n",
              "    [theme=dark] .colab-df-convert {\n",
              "      background-color: #3B4455;\n",
              "      fill: #D2E3FC;\n",
              "    }\n",
              "\n",
              "    [theme=dark] .colab-df-convert:hover {\n",
              "      background-color: #434B5C;\n",
              "      box-shadow: 0px 1px 3px 1px rgba(0, 0, 0, 0.15);\n",
              "      filter: drop-shadow(0px 1px 2px rgba(0, 0, 0, 0.3));\n",
              "      fill: #FFFFFF;\n",
              "    }\n",
              "  </style>\n",
              "\n",
              "      <script>\n",
              "        const buttonEl =\n",
              "          document.querySelector('#df-8888dc70-a711-4b79-868e-a3b3afb6f9d1 button.colab-df-convert');\n",
              "        buttonEl.style.display =\n",
              "          google.colab.kernel.accessAllowed ? 'block' : 'none';\n",
              "\n",
              "        async function convertToInteractive(key) {\n",
              "          const element = document.querySelector('#df-8888dc70-a711-4b79-868e-a3b3afb6f9d1');\n",
              "          const dataTable =\n",
              "            await google.colab.kernel.invokeFunction('convertToInteractive',\n",
              "                                                     [key], {});\n",
              "          if (!dataTable) return;\n",
              "\n",
              "          const docLinkHtml = 'Like what you see? Visit the ' +\n",
              "            '<a target=\"_blank\" href=https://colab.research.google.com/notebooks/data_table.ipynb>data table notebook</a>'\n",
              "            + ' to learn more about interactive tables.';\n",
              "          element.innerHTML = '';\n",
              "          dataTable['output_type'] = 'display_data';\n",
              "          await google.colab.output.renderOutput(dataTable, element);\n",
              "          const docLink = document.createElement('div');\n",
              "          docLink.innerHTML = docLinkHtml;\n",
              "          element.appendChild(docLink);\n",
              "        }\n",
              "      </script>\n",
              "    </div>\n",
              "  </div>\n",
              "  "
            ]
          },
          "metadata": {},
          "execution_count": 186
        }
      ]
    },
    {
      "cell_type": "markdown",
      "source": [
        "#### b) Fazer um merge entre **interactions_clean** e **comments**, trazendo apenas o **stillExists**\n",
        "\n",
        "Os valores nulos se referem a comentários inexistentes em **comments** e serão excluídos"
      ],
      "metadata": {
        "id": "OlYU3k05KXBg"
      }
    },
    {
      "cell_type": "code",
      "source": [
        "interactions = interactions_clean.merge(comments[['commentId', \n",
        "                                                  'stillExists']],\n",
        "                                        on=['commentId'],\n",
        "                                        how='left')"
      ],
      "metadata": {
        "id": "KGLTs6WcK4x9"
      },
      "execution_count": 187,
      "outputs": []
    },
    {
      "cell_type": "code",
      "source": [
        "interactions.shape"
      ],
      "metadata": {
        "colab": {
          "base_uri": "https://localhost:8080/"
        },
        "id": "RIGr8d_CN3QQ",
        "outputId": "4949be0e-e943-4d0e-d5e7-b53c791c07d7"
      },
      "execution_count": 188,
      "outputs": [
        {
          "output_type": "execute_result",
          "data": {
            "text/plain": [
              "(330208, 6)"
            ]
          },
          "metadata": {},
          "execution_count": 188
        }
      ]
    },
    {
      "cell_type": "code",
      "source": [
        "interactions.loc[interactions['stillExists'].isna()].shape"
      ],
      "metadata": {
        "colab": {
          "base_uri": "https://localhost:8080/"
        },
        "id": "XamnCU4IMA-w",
        "outputId": "59a11edc-3c38-4a27-ad5f-f21f25b8e90a"
      },
      "execution_count": 189,
      "outputs": [
        {
          "output_type": "execute_result",
          "data": {
            "text/plain": [
              "(55152, 6)"
            ]
          },
          "metadata": {},
          "execution_count": 189
        }
      ]
    },
    {
      "cell_type": "code",
      "source": [
        "interactions.dropna(axis='index',\n",
        "                    how='any',\n",
        "                    inplace=True)\n",
        "interactions.shape"
      ],
      "metadata": {
        "colab": {
          "base_uri": "https://localhost:8080/"
        },
        "id": "hfq7OAAuN83v",
        "outputId": "49056c4d-443a-4296-fcb8-cf138ed2978d"
      },
      "execution_count": 190,
      "outputs": [
        {
          "output_type": "execute_result",
          "data": {
            "text/plain": [
              "(275056, 6)"
            ]
          },
          "metadata": {},
          "execution_count": 190
        }
      ]
    },
    {
      "cell_type": "code",
      "source": [
        "interactions.head(3)"
      ],
      "metadata": {
        "colab": {
          "base_uri": "https://localhost:8080/",
          "height": 143
        },
        "id": "NUr9PYSAO4KN",
        "outputId": "cff7db2e-cdf5-4fba-e724-20ed7eccbc9c"
      },
      "execution_count": 191,
      "outputs": [
        {
          "output_type": "execute_result",
          "data": {
            "text/plain": [
              "   employee              companyAlias  liked  disliked  \\\n",
              "0       307  56aec740f1ef260003e307d6      1         0   \n",
              "1        36  56aec740f1ef260003e307d6      1         0   \n",
              "2       276  56aec740f1ef260003e307d6      1         0   \n",
              "\n",
              "                  commentId  stillExists  \n",
              "0  58d018d7e010990004e38070          1.0  \n",
              "1  58d018d7e010990004e38070          1.0  \n",
              "2  58d018d7e010990004e38070          1.0  "
            ],
            "text/html": [
              "\n",
              "  <div id=\"df-7dab736b-fada-40b5-8d78-99ee262c33ac\">\n",
              "    <div class=\"colab-df-container\">\n",
              "      <div>\n",
              "<style scoped>\n",
              "    .dataframe tbody tr th:only-of-type {\n",
              "        vertical-align: middle;\n",
              "    }\n",
              "\n",
              "    .dataframe tbody tr th {\n",
              "        vertical-align: top;\n",
              "    }\n",
              "\n",
              "    .dataframe thead th {\n",
              "        text-align: right;\n",
              "    }\n",
              "</style>\n",
              "<table border=\"1\" class=\"dataframe\">\n",
              "  <thead>\n",
              "    <tr style=\"text-align: right;\">\n",
              "      <th></th>\n",
              "      <th>employee</th>\n",
              "      <th>companyAlias</th>\n",
              "      <th>liked</th>\n",
              "      <th>disliked</th>\n",
              "      <th>commentId</th>\n",
              "      <th>stillExists</th>\n",
              "    </tr>\n",
              "  </thead>\n",
              "  <tbody>\n",
              "    <tr>\n",
              "      <th>0</th>\n",
              "      <td>307</td>\n",
              "      <td>56aec740f1ef260003e307d6</td>\n",
              "      <td>1</td>\n",
              "      <td>0</td>\n",
              "      <td>58d018d7e010990004e38070</td>\n",
              "      <td>1.0</td>\n",
              "    </tr>\n",
              "    <tr>\n",
              "      <th>1</th>\n",
              "      <td>36</td>\n",
              "      <td>56aec740f1ef260003e307d6</td>\n",
              "      <td>1</td>\n",
              "      <td>0</td>\n",
              "      <td>58d018d7e010990004e38070</td>\n",
              "      <td>1.0</td>\n",
              "    </tr>\n",
              "    <tr>\n",
              "      <th>2</th>\n",
              "      <td>276</td>\n",
              "      <td>56aec740f1ef260003e307d6</td>\n",
              "      <td>1</td>\n",
              "      <td>0</td>\n",
              "      <td>58d018d7e010990004e38070</td>\n",
              "      <td>1.0</td>\n",
              "    </tr>\n",
              "  </tbody>\n",
              "</table>\n",
              "</div>\n",
              "      <button class=\"colab-df-convert\" onclick=\"convertToInteractive('df-7dab736b-fada-40b5-8d78-99ee262c33ac')\"\n",
              "              title=\"Convert this dataframe to an interactive table.\"\n",
              "              style=\"display:none;\">\n",
              "        \n",
              "  <svg xmlns=\"http://www.w3.org/2000/svg\" height=\"24px\"viewBox=\"0 0 24 24\"\n",
              "       width=\"24px\">\n",
              "    <path d=\"M0 0h24v24H0V0z\" fill=\"none\"/>\n",
              "    <path d=\"M18.56 5.44l.94 2.06.94-2.06 2.06-.94-2.06-.94-.94-2.06-.94 2.06-2.06.94zm-11 1L8.5 8.5l.94-2.06 2.06-.94-2.06-.94L8.5 2.5l-.94 2.06-2.06.94zm10 10l.94 2.06.94-2.06 2.06-.94-2.06-.94-.94-2.06-.94 2.06-2.06.94z\"/><path d=\"M17.41 7.96l-1.37-1.37c-.4-.4-.92-.59-1.43-.59-.52 0-1.04.2-1.43.59L10.3 9.45l-7.72 7.72c-.78.78-.78 2.05 0 2.83L4 21.41c.39.39.9.59 1.41.59.51 0 1.02-.2 1.41-.59l7.78-7.78 2.81-2.81c.8-.78.8-2.07 0-2.86zM5.41 20L4 18.59l7.72-7.72 1.47 1.35L5.41 20z\"/>\n",
              "  </svg>\n",
              "      </button>\n",
              "      \n",
              "  <style>\n",
              "    .colab-df-container {\n",
              "      display:flex;\n",
              "      flex-wrap:wrap;\n",
              "      gap: 12px;\n",
              "    }\n",
              "\n",
              "    .colab-df-convert {\n",
              "      background-color: #E8F0FE;\n",
              "      border: none;\n",
              "      border-radius: 50%;\n",
              "      cursor: pointer;\n",
              "      display: none;\n",
              "      fill: #1967D2;\n",
              "      height: 32px;\n",
              "      padding: 0 0 0 0;\n",
              "      width: 32px;\n",
              "    }\n",
              "\n",
              "    .colab-df-convert:hover {\n",
              "      background-color: #E2EBFA;\n",
              "      box-shadow: 0px 1px 2px rgba(60, 64, 67, 0.3), 0px 1px 3px 1px rgba(60, 64, 67, 0.15);\n",
              "      fill: #174EA6;\n",
              "    }\n",
              "\n",
              "    [theme=dark] .colab-df-convert {\n",
              "      background-color: #3B4455;\n",
              "      fill: #D2E3FC;\n",
              "    }\n",
              "\n",
              "    [theme=dark] .colab-df-convert:hover {\n",
              "      background-color: #434B5C;\n",
              "      box-shadow: 0px 1px 3px 1px rgba(0, 0, 0, 0.15);\n",
              "      filter: drop-shadow(0px 1px 2px rgba(0, 0, 0, 0.3));\n",
              "      fill: #FFFFFF;\n",
              "    }\n",
              "  </style>\n",
              "\n",
              "      <script>\n",
              "        const buttonEl =\n",
              "          document.querySelector('#df-7dab736b-fada-40b5-8d78-99ee262c33ac button.colab-df-convert');\n",
              "        buttonEl.style.display =\n",
              "          google.colab.kernel.accessAllowed ? 'block' : 'none';\n",
              "\n",
              "        async function convertToInteractive(key) {\n",
              "          const element = document.querySelector('#df-7dab736b-fada-40b5-8d78-99ee262c33ac');\n",
              "          const dataTable =\n",
              "            await google.colab.kernel.invokeFunction('convertToInteractive',\n",
              "                                                     [key], {});\n",
              "          if (!dataTable) return;\n",
              "\n",
              "          const docLinkHtml = 'Like what you see? Visit the ' +\n",
              "            '<a target=\"_blank\" href=https://colab.research.google.com/notebooks/data_table.ipynb>data table notebook</a>'\n",
              "            + ' to learn more about interactive tables.';\n",
              "          element.innerHTML = '';\n",
              "          dataTable['output_type'] = 'display_data';\n",
              "          await google.colab.output.renderOutput(dataTable, element);\n",
              "          const docLink = document.createElement('div');\n",
              "          docLink.innerHTML = docLinkHtml;\n",
              "          element.appendChild(docLink);\n",
              "        }\n",
              "      </script>\n",
              "    </div>\n",
              "  </div>\n",
              "  "
            ]
          },
          "metadata": {},
          "execution_count": 191
        }
      ]
    },
    {
      "cell_type": "markdown",
      "source": [
        "#### c) Criar uma pivot table, calculando a média de stillExists para cada funcionário de acordo com liked e disliked"
      ],
      "metadata": {
        "id": "kZqbcBqlOg6d"
      }
    },
    {
      "cell_type": "code",
      "source": [
        "liked_comments = pd.pivot_table(interactions,\n",
        "                                values='stillExists',\n",
        "                                index=['companyAlias', 'employee'],\n",
        "                                columns=['liked', 'disliked'],\n",
        "                                aggfunc= np.mean,\n",
        "                                fill_value= 0)"
      ],
      "metadata": {
        "id": "wSh0tGqeQM6W"
      },
      "execution_count": 192,
      "outputs": []
    },
    {
      "cell_type": "code",
      "source": [
        "liked_comments.head(10)"
      ],
      "metadata": {
        "colab": {
          "base_uri": "https://localhost:8080/",
          "height": 426
        },
        "id": "Bb-pwA0PRH7E",
        "outputId": "e84c4370-b89b-411f-9c98-2613be8a6e54"
      },
      "execution_count": 193,
      "outputs": [
        {
          "output_type": "execute_result",
          "data": {
            "text/plain": [
              "liked                                     0         1\n",
              "disliked                                  1         0\n",
              "companyAlias             employee                    \n",
              "5370af43e4b0cff95558c12a 18        0.444444  0.589912\n",
              "                         20        0.000000  0.375000\n",
              "                         21        0.125000  0.595238\n",
              "                         22        0.500000  0.333333\n",
              "                         23        0.500000  0.500000\n",
              "                         24        0.500000  0.450704\n",
              "                         25        0.590909  0.556738\n",
              "                         26        0.000000  0.500000\n",
              "                         27        0.428571  0.548387\n",
              "                         28        0.666667  0.617647"
            ],
            "text/html": [
              "\n",
              "  <div id=\"df-f0197a2f-fc7b-4dad-9d0a-90b2a8d98935\">\n",
              "    <div class=\"colab-df-container\">\n",
              "      <div>\n",
              "<style scoped>\n",
              "    .dataframe tbody tr th:only-of-type {\n",
              "        vertical-align: middle;\n",
              "    }\n",
              "\n",
              "    .dataframe tbody tr th {\n",
              "        vertical-align: top;\n",
              "    }\n",
              "\n",
              "    .dataframe thead tr th {\n",
              "        text-align: left;\n",
              "    }\n",
              "\n",
              "    .dataframe thead tr:last-of-type th {\n",
              "        text-align: right;\n",
              "    }\n",
              "</style>\n",
              "<table border=\"1\" class=\"dataframe\">\n",
              "  <thead>\n",
              "    <tr>\n",
              "      <th></th>\n",
              "      <th>liked</th>\n",
              "      <th>0</th>\n",
              "      <th>1</th>\n",
              "    </tr>\n",
              "    <tr>\n",
              "      <th></th>\n",
              "      <th>disliked</th>\n",
              "      <th>1</th>\n",
              "      <th>0</th>\n",
              "    </tr>\n",
              "    <tr>\n",
              "      <th>companyAlias</th>\n",
              "      <th>employee</th>\n",
              "      <th></th>\n",
              "      <th></th>\n",
              "    </tr>\n",
              "  </thead>\n",
              "  <tbody>\n",
              "    <tr>\n",
              "      <th rowspan=\"10\" valign=\"top\">5370af43e4b0cff95558c12a</th>\n",
              "      <th>18</th>\n",
              "      <td>0.444444</td>\n",
              "      <td>0.589912</td>\n",
              "    </tr>\n",
              "    <tr>\n",
              "      <th>20</th>\n",
              "      <td>0.000000</td>\n",
              "      <td>0.375000</td>\n",
              "    </tr>\n",
              "    <tr>\n",
              "      <th>21</th>\n",
              "      <td>0.125000</td>\n",
              "      <td>0.595238</td>\n",
              "    </tr>\n",
              "    <tr>\n",
              "      <th>22</th>\n",
              "      <td>0.500000</td>\n",
              "      <td>0.333333</td>\n",
              "    </tr>\n",
              "    <tr>\n",
              "      <th>23</th>\n",
              "      <td>0.500000</td>\n",
              "      <td>0.500000</td>\n",
              "    </tr>\n",
              "    <tr>\n",
              "      <th>24</th>\n",
              "      <td>0.500000</td>\n",
              "      <td>0.450704</td>\n",
              "    </tr>\n",
              "    <tr>\n",
              "      <th>25</th>\n",
              "      <td>0.590909</td>\n",
              "      <td>0.556738</td>\n",
              "    </tr>\n",
              "    <tr>\n",
              "      <th>26</th>\n",
              "      <td>0.000000</td>\n",
              "      <td>0.500000</td>\n",
              "    </tr>\n",
              "    <tr>\n",
              "      <th>27</th>\n",
              "      <td>0.428571</td>\n",
              "      <td>0.548387</td>\n",
              "    </tr>\n",
              "    <tr>\n",
              "      <th>28</th>\n",
              "      <td>0.666667</td>\n",
              "      <td>0.617647</td>\n",
              "    </tr>\n",
              "  </tbody>\n",
              "</table>\n",
              "</div>\n",
              "      <button class=\"colab-df-convert\" onclick=\"convertToInteractive('df-f0197a2f-fc7b-4dad-9d0a-90b2a8d98935')\"\n",
              "              title=\"Convert this dataframe to an interactive table.\"\n",
              "              style=\"display:none;\">\n",
              "        \n",
              "  <svg xmlns=\"http://www.w3.org/2000/svg\" height=\"24px\"viewBox=\"0 0 24 24\"\n",
              "       width=\"24px\">\n",
              "    <path d=\"M0 0h24v24H0V0z\" fill=\"none\"/>\n",
              "    <path d=\"M18.56 5.44l.94 2.06.94-2.06 2.06-.94-2.06-.94-.94-2.06-.94 2.06-2.06.94zm-11 1L8.5 8.5l.94-2.06 2.06-.94-2.06-.94L8.5 2.5l-.94 2.06-2.06.94zm10 10l.94 2.06.94-2.06 2.06-.94-2.06-.94-.94-2.06-.94 2.06-2.06.94z\"/><path d=\"M17.41 7.96l-1.37-1.37c-.4-.4-.92-.59-1.43-.59-.52 0-1.04.2-1.43.59L10.3 9.45l-7.72 7.72c-.78.78-.78 2.05 0 2.83L4 21.41c.39.39.9.59 1.41.59.51 0 1.02-.2 1.41-.59l7.78-7.78 2.81-2.81c.8-.78.8-2.07 0-2.86zM5.41 20L4 18.59l7.72-7.72 1.47 1.35L5.41 20z\"/>\n",
              "  </svg>\n",
              "      </button>\n",
              "      \n",
              "  <style>\n",
              "    .colab-df-container {\n",
              "      display:flex;\n",
              "      flex-wrap:wrap;\n",
              "      gap: 12px;\n",
              "    }\n",
              "\n",
              "    .colab-df-convert {\n",
              "      background-color: #E8F0FE;\n",
              "      border: none;\n",
              "      border-radius: 50%;\n",
              "      cursor: pointer;\n",
              "      display: none;\n",
              "      fill: #1967D2;\n",
              "      height: 32px;\n",
              "      padding: 0 0 0 0;\n",
              "      width: 32px;\n",
              "    }\n",
              "\n",
              "    .colab-df-convert:hover {\n",
              "      background-color: #E2EBFA;\n",
              "      box-shadow: 0px 1px 2px rgba(60, 64, 67, 0.3), 0px 1px 3px 1px rgba(60, 64, 67, 0.15);\n",
              "      fill: #174EA6;\n",
              "    }\n",
              "\n",
              "    [theme=dark] .colab-df-convert {\n",
              "      background-color: #3B4455;\n",
              "      fill: #D2E3FC;\n",
              "    }\n",
              "\n",
              "    [theme=dark] .colab-df-convert:hover {\n",
              "      background-color: #434B5C;\n",
              "      box-shadow: 0px 1px 3px 1px rgba(0, 0, 0, 0.15);\n",
              "      filter: drop-shadow(0px 1px 2px rgba(0, 0, 0, 0.3));\n",
              "      fill: #FFFFFF;\n",
              "    }\n",
              "  </style>\n",
              "\n",
              "      <script>\n",
              "        const buttonEl =\n",
              "          document.querySelector('#df-f0197a2f-fc7b-4dad-9d0a-90b2a8d98935 button.colab-df-convert');\n",
              "        buttonEl.style.display =\n",
              "          google.colab.kernel.accessAllowed ? 'block' : 'none';\n",
              "\n",
              "        async function convertToInteractive(key) {\n",
              "          const element = document.querySelector('#df-f0197a2f-fc7b-4dad-9d0a-90b2a8d98935');\n",
              "          const dataTable =\n",
              "            await google.colab.kernel.invokeFunction('convertToInteractive',\n",
              "                                                     [key], {});\n",
              "          if (!dataTable) return;\n",
              "\n",
              "          const docLinkHtml = 'Like what you see? Visit the ' +\n",
              "            '<a target=\"_blank\" href=https://colab.research.google.com/notebooks/data_table.ipynb>data table notebook</a>'\n",
              "            + ' to learn more about interactive tables.';\n",
              "          element.innerHTML = '';\n",
              "          dataTable['output_type'] = 'display_data';\n",
              "          await google.colab.output.renderOutput(dataTable, element);\n",
              "          const docLink = document.createElement('div');\n",
              "          docLink.innerHTML = docLinkHtml;\n",
              "          element.appendChild(docLink);\n",
              "        }\n",
              "      </script>\n",
              "    </div>\n",
              "  </div>\n",
              "  "
            ]
          },
          "metadata": {},
          "execution_count": 193
        }
      ]
    },
    {
      "cell_type": "code",
      "source": [
        "liked_comments.columns = ['disliked', 'liked']"
      ],
      "metadata": {
        "id": "lQlq5brSRcr6"
      },
      "execution_count": 194,
      "outputs": []
    },
    {
      "cell_type": "code",
      "source": [
        "liked_comments.reset_index(inplace=True)\n",
        "liked_comments.rename(columns={'liked': 'stillExists.meanLikedComments',\n",
        "                               'disliked': 'stillExists.meanDislikedComments'},\n",
        "                      inplace=True)"
      ],
      "metadata": {
        "id": "h7H7hGE_SFfJ"
      },
      "execution_count": 195,
      "outputs": []
    },
    {
      "cell_type": "code",
      "source": [
        "liked_comments.shape"
      ],
      "metadata": {
        "colab": {
          "base_uri": "https://localhost:8080/"
        },
        "id": "Y42ViofmVDdU",
        "outputId": "cc56beb9-0b42-4058-d3aa-1d3b8373d245"
      },
      "execution_count": 198,
      "outputs": [
        {
          "output_type": "execute_result",
          "data": {
            "text/plain": [
              "(3123, 4)"
            ]
          },
          "metadata": {},
          "execution_count": 198
        }
      ]
    },
    {
      "cell_type": "code",
      "source": [
        "liked_comments.head()"
      ],
      "metadata": {
        "colab": {
          "base_uri": "https://localhost:8080/",
          "height": 206
        },
        "id": "d1uWsI-tUQef",
        "outputId": "7dd0e718-2361-493d-e603-3768b680500a"
      },
      "execution_count": 197,
      "outputs": [
        {
          "output_type": "execute_result",
          "data": {
            "text/plain": [
              "               companyAlias  employee  stillExists.meanDislikedComments  \\\n",
              "0  5370af43e4b0cff95558c12a        18                          0.444444   \n",
              "1  5370af43e4b0cff95558c12a        20                          0.000000   \n",
              "2  5370af43e4b0cff95558c12a        21                          0.125000   \n",
              "3  5370af43e4b0cff95558c12a        22                          0.500000   \n",
              "4  5370af43e4b0cff95558c12a        23                          0.500000   \n",
              "\n",
              "   stillExists.meanLikedComments  \n",
              "0                       0.589912  \n",
              "1                       0.375000  \n",
              "2                       0.595238  \n",
              "3                       0.333333  \n",
              "4                       0.500000  "
            ],
            "text/html": [
              "\n",
              "  <div id=\"df-3ba08453-d475-46fc-b2d8-b473c27e15f0\">\n",
              "    <div class=\"colab-df-container\">\n",
              "      <div>\n",
              "<style scoped>\n",
              "    .dataframe tbody tr th:only-of-type {\n",
              "        vertical-align: middle;\n",
              "    }\n",
              "\n",
              "    .dataframe tbody tr th {\n",
              "        vertical-align: top;\n",
              "    }\n",
              "\n",
              "    .dataframe thead th {\n",
              "        text-align: right;\n",
              "    }\n",
              "</style>\n",
              "<table border=\"1\" class=\"dataframe\">\n",
              "  <thead>\n",
              "    <tr style=\"text-align: right;\">\n",
              "      <th></th>\n",
              "      <th>companyAlias</th>\n",
              "      <th>employee</th>\n",
              "      <th>stillExists.meanDislikedComments</th>\n",
              "      <th>stillExists.meanLikedComments</th>\n",
              "    </tr>\n",
              "  </thead>\n",
              "  <tbody>\n",
              "    <tr>\n",
              "      <th>0</th>\n",
              "      <td>5370af43e4b0cff95558c12a</td>\n",
              "      <td>18</td>\n",
              "      <td>0.444444</td>\n",
              "      <td>0.589912</td>\n",
              "    </tr>\n",
              "    <tr>\n",
              "      <th>1</th>\n",
              "      <td>5370af43e4b0cff95558c12a</td>\n",
              "      <td>20</td>\n",
              "      <td>0.000000</td>\n",
              "      <td>0.375000</td>\n",
              "    </tr>\n",
              "    <tr>\n",
              "      <th>2</th>\n",
              "      <td>5370af43e4b0cff95558c12a</td>\n",
              "      <td>21</td>\n",
              "      <td>0.125000</td>\n",
              "      <td>0.595238</td>\n",
              "    </tr>\n",
              "    <tr>\n",
              "      <th>3</th>\n",
              "      <td>5370af43e4b0cff95558c12a</td>\n",
              "      <td>22</td>\n",
              "      <td>0.500000</td>\n",
              "      <td>0.333333</td>\n",
              "    </tr>\n",
              "    <tr>\n",
              "      <th>4</th>\n",
              "      <td>5370af43e4b0cff95558c12a</td>\n",
              "      <td>23</td>\n",
              "      <td>0.500000</td>\n",
              "      <td>0.500000</td>\n",
              "    </tr>\n",
              "  </tbody>\n",
              "</table>\n",
              "</div>\n",
              "      <button class=\"colab-df-convert\" onclick=\"convertToInteractive('df-3ba08453-d475-46fc-b2d8-b473c27e15f0')\"\n",
              "              title=\"Convert this dataframe to an interactive table.\"\n",
              "              style=\"display:none;\">\n",
              "        \n",
              "  <svg xmlns=\"http://www.w3.org/2000/svg\" height=\"24px\"viewBox=\"0 0 24 24\"\n",
              "       width=\"24px\">\n",
              "    <path d=\"M0 0h24v24H0V0z\" fill=\"none\"/>\n",
              "    <path d=\"M18.56 5.44l.94 2.06.94-2.06 2.06-.94-2.06-.94-.94-2.06-.94 2.06-2.06.94zm-11 1L8.5 8.5l.94-2.06 2.06-.94-2.06-.94L8.5 2.5l-.94 2.06-2.06.94zm10 10l.94 2.06.94-2.06 2.06-.94-2.06-.94-.94-2.06-.94 2.06-2.06.94z\"/><path d=\"M17.41 7.96l-1.37-1.37c-.4-.4-.92-.59-1.43-.59-.52 0-1.04.2-1.43.59L10.3 9.45l-7.72 7.72c-.78.78-.78 2.05 0 2.83L4 21.41c.39.39.9.59 1.41.59.51 0 1.02-.2 1.41-.59l7.78-7.78 2.81-2.81c.8-.78.8-2.07 0-2.86zM5.41 20L4 18.59l7.72-7.72 1.47 1.35L5.41 20z\"/>\n",
              "  </svg>\n",
              "      </button>\n",
              "      \n",
              "  <style>\n",
              "    .colab-df-container {\n",
              "      display:flex;\n",
              "      flex-wrap:wrap;\n",
              "      gap: 12px;\n",
              "    }\n",
              "\n",
              "    .colab-df-convert {\n",
              "      background-color: #E8F0FE;\n",
              "      border: none;\n",
              "      border-radius: 50%;\n",
              "      cursor: pointer;\n",
              "      display: none;\n",
              "      fill: #1967D2;\n",
              "      height: 32px;\n",
              "      padding: 0 0 0 0;\n",
              "      width: 32px;\n",
              "    }\n",
              "\n",
              "    .colab-df-convert:hover {\n",
              "      background-color: #E2EBFA;\n",
              "      box-shadow: 0px 1px 2px rgba(60, 64, 67, 0.3), 0px 1px 3px 1px rgba(60, 64, 67, 0.15);\n",
              "      fill: #174EA6;\n",
              "    }\n",
              "\n",
              "    [theme=dark] .colab-df-convert {\n",
              "      background-color: #3B4455;\n",
              "      fill: #D2E3FC;\n",
              "    }\n",
              "\n",
              "    [theme=dark] .colab-df-convert:hover {\n",
              "      background-color: #434B5C;\n",
              "      box-shadow: 0px 1px 3px 1px rgba(0, 0, 0, 0.15);\n",
              "      filter: drop-shadow(0px 1px 2px rgba(0, 0, 0, 0.3));\n",
              "      fill: #FFFFFF;\n",
              "    }\n",
              "  </style>\n",
              "\n",
              "      <script>\n",
              "        const buttonEl =\n",
              "          document.querySelector('#df-3ba08453-d475-46fc-b2d8-b473c27e15f0 button.colab-df-convert');\n",
              "        buttonEl.style.display =\n",
              "          google.colab.kernel.accessAllowed ? 'block' : 'none';\n",
              "\n",
              "        async function convertToInteractive(key) {\n",
              "          const element = document.querySelector('#df-3ba08453-d475-46fc-b2d8-b473c27e15f0');\n",
              "          const dataTable =\n",
              "            await google.colab.kernel.invokeFunction('convertToInteractive',\n",
              "                                                     [key], {});\n",
              "          if (!dataTable) return;\n",
              "\n",
              "          const docLinkHtml = 'Like what you see? Visit the ' +\n",
              "            '<a target=\"_blank\" href=https://colab.research.google.com/notebooks/data_table.ipynb>data table notebook</a>'\n",
              "            + ' to learn more about interactive tables.';\n",
              "          element.innerHTML = '';\n",
              "          dataTable['output_type'] = 'display_data';\n",
              "          await google.colab.output.renderOutput(dataTable, element);\n",
              "          const docLink = document.createElement('div');\n",
              "          docLink.innerHTML = docLinkHtml;\n",
              "          element.appendChild(docLink);\n",
              "        }\n",
              "      </script>\n",
              "    </div>\n",
              "  </div>\n",
              "  "
            ]
          },
          "metadata": {},
          "execution_count": 197
        }
      ]
    },
    {
      "cell_type": "markdown",
      "source": [
        "#### d) Fazer um merge entre **churn** e **liked_comments**"
      ],
      "metadata": {
        "id": "5U_mwKuFU6Ge"
      }
    },
    {
      "cell_type": "code",
      "source": [
        "churn.shape"
      ],
      "metadata": {
        "colab": {
          "base_uri": "https://localhost:8080/"
        },
        "id": "2Z0GUBKkVIiL",
        "outputId": "4ff6cd27-588c-48ab-edd5-49111cf19aa3"
      },
      "execution_count": 199,
      "outputs": [
        {
          "output_type": "execute_result",
          "data": {
            "text/plain": [
              "(4067, 28)"
            ]
          },
          "metadata": {},
          "execution_count": 199
        }
      ]
    },
    {
      "cell_type": "code",
      "source": [
        "churn = churn.merge(liked_comments,\n",
        "                    on=['companyAlias', 'employee'],\n",
        "                    how='left')"
      ],
      "metadata": {
        "id": "-9Si0iDQVOel"
      },
      "execution_count": 200,
      "outputs": []
    },
    {
      "cell_type": "markdown",
      "source": [
        "Os valores nulos se referem a funcionários que não comentaram, ou cujos comentários não tivem interações, portanto serão preenchidos por 0"
      ],
      "metadata": {
        "id": "b4MZgVxoVnUx"
      }
    },
    {
      "cell_type": "code",
      "source": [
        "churn.loc[churn['stillExists.meanDislikedComments'].isna()].shape"
      ],
      "metadata": {
        "colab": {
          "base_uri": "https://localhost:8080/"
        },
        "id": "xVDSPmpoVg-X",
        "outputId": "07876ad4-4134-4d5f-9688-d8de4e01e0a9"
      },
      "execution_count": 204,
      "outputs": [
        {
          "output_type": "execute_result",
          "data": {
            "text/plain": [
              "(1058, 30)"
            ]
          },
          "metadata": {},
          "execution_count": 204
        }
      ]
    },
    {
      "cell_type": "code",
      "source": [
        "churn.loc[churn['stillExists.meanDislikedComments'].isna(), \n",
        "          ['stillExists.meanDislikedComments', \n",
        "           'stillExists.meanLikedComments']] = 0"
      ],
      "metadata": {
        "id": "U2IkuUMgWxrw"
      },
      "execution_count": 205,
      "outputs": []
    },
    {
      "cell_type": "code",
      "source": [
        "churn.describe().T"
      ],
      "metadata": {
        "colab": {
          "base_uri": "https://localhost:8080/",
          "height": 865
        },
        "id": "VQKR_IzWXP9s",
        "outputId": "faa542b0-a47b-4d49-c5a8-33d7c35bac1f"
      },
      "execution_count": 206,
      "outputs": [
        {
          "output_type": "execute_result",
          "data": {
            "text/plain": [
              "                                   count        mean         std   min  \\\n",
              "employee                          4067.0  192.624539  206.291948  1.00   \n",
              "stillExists                       4067.0    0.854438    0.352710  0.00   \n",
              "vote.mean                         4067.0    2.959289    0.635475  1.00   \n",
              "vote.mode                         4067.0    2.985739    0.826452  1.00   \n",
              "vote.min                          4067.0    1.913204    0.949844  1.00   \n",
              "vote.max                          4067.0    3.716007    0.510824  2.00   \n",
              "vote.count                        4067.0   45.848291   57.834256  1.00   \n",
              "diffDaysVote.max                  4067.0  136.111384  133.783987  0.00   \n",
              "diffDaysVote.median               4067.0   73.179862   73.901932  0.00   \n",
              "likes.mean                        4067.0    6.467529    4.338262  0.00   \n",
              "likes.min                         4067.0    2.185052    2.578090  0.00   \n",
              "likes.max                         4067.0   14.167108    9.807743  0.00   \n",
              "dislikes.mean                     4067.0    1.092855    1.071616  0.00   \n",
              "dislikes.min                      4067.0    0.191269    0.462564  0.00   \n",
              "dislikes.max                      4067.0    4.127420    4.007607  0.00   \n",
              "carac.mean                        4067.0   86.839001   53.885238  0.75   \n",
              "carac.min                         4067.0   29.820060   26.724018  0.00   \n",
              "carac.max                         4067.0  238.980465  221.852253  1.00   \n",
              "diffDaysComment.min               4067.0   26.920826   46.947078  0.00   \n",
              "diffDaysComment.max               4067.0  136.713548   98.754819  0.00   \n",
              "diffDaysComment.median            4067.0   93.833538   73.950597  0.00   \n",
              "commentId.count                   4067.0    7.774527   12.975555  0.00   \n",
              "likesRatio                        4067.0   52.648411  105.621990  0.00   \n",
              "likesRatio.d                      4067.0    1.064175    0.775969  0.00   \n",
              "stillExists.meanDislikedComments  4067.0    0.487102    0.480250  0.00   \n",
              "stillExists.meanLikedComments     4067.0    0.679346    0.436552  0.00   \n",
              "\n",
              "                                        25%         50%         75%  \\\n",
              "employee                          51.000000  131.000000  244.000000   \n",
              "stillExists                        1.000000    1.000000    1.000000   \n",
              "vote.mean                          2.666667    3.000000    3.333333   \n",
              "vote.mode                          3.000000    3.000000    4.000000   \n",
              "vote.min                           1.000000    2.000000    3.000000   \n",
              "vote.max                           3.000000    4.000000    4.000000   \n",
              "vote.count                         6.000000   20.000000   65.000000   \n",
              "diffDaysVote.max                  21.000000  107.000000  206.500000   \n",
              "diffDaysVote.median               10.500000   55.000000  113.000000   \n",
              "likes.mean                         3.500000    6.631448    6.918435   \n",
              "likes.min                          0.000000    2.344741    2.344741   \n",
              "likes.max                          7.000000   14.630043   15.000000   \n",
              "dislikes.mean                      0.277778    1.169380    1.169380   \n",
              "dislikes.min                       0.000000    0.000000    0.247118   \n",
              "dislikes.max                       1.000000    4.383285    4.383285   \n",
              "carac.mean                        50.973684   89.613631   89.613631   \n",
              "carac.min                         12.000000   31.292147   31.292147   \n",
              "carac.max                         96.000000  252.243876  252.243876   \n",
              "diffDaysComment.min                2.000000    9.000000   20.000000   \n",
              "diffDaysComment.max               75.000000  129.000000  165.000000   \n",
              "diffDaysComment.median            45.000000   84.500000  114.000000   \n",
              "commentId.count                    0.000000    2.000000    9.000000   \n",
              "likesRatio                         5.000000    5.670908   13.180556   \n",
              "likesRatio.d                       0.000000    1.000000    2.000000   \n",
              "stillExists.meanDislikedComments   0.000000    0.500000    1.000000   \n",
              "stillExists.meanLikedComments      0.000000    0.988372    1.000000   \n",
              "\n",
              "                                          max  \n",
              "employee                           999.000000  \n",
              "stillExists                          1.000000  \n",
              "vote.mean                            4.000000  \n",
              "vote.mode                            4.000000  \n",
              "vote.min                             4.000000  \n",
              "vote.max                             4.000000  \n",
              "vote.count                         275.000000  \n",
              "diffDaysVote.max                   572.000000  \n",
              "diffDaysVote.median                330.500000  \n",
              "likes.mean                          20.648649  \n",
              "likes.min                           12.000000  \n",
              "likes.max                           45.000000  \n",
              "dislikes.mean                        5.666667  \n",
              "dislikes.min                         3.000000  \n",
              "dislikes.max                        18.000000  \n",
              "carac.mean                         283.000000  \n",
              "carac.min                          146.000000  \n",
              "carac.max                         1770.000000  \n",
              "diffDaysComment.min                210.000000  \n",
              "diffDaysComment.max                473.000000  \n",
              "diffDaysComment.median             352.000000  \n",
              "commentId.count                     59.000000  \n",
              "likesRatio                         300.000000  \n",
              "likesRatio.d                         2.000000  \n",
              "stillExists.meanDislikedComments     1.000000  \n",
              "stillExists.meanLikedComments        1.000000  "
            ],
            "text/html": [
              "\n",
              "  <div id=\"df-d5822b28-8364-4c25-aa8a-d39cc6ba34a8\">\n",
              "    <div class=\"colab-df-container\">\n",
              "      <div>\n",
              "<style scoped>\n",
              "    .dataframe tbody tr th:only-of-type {\n",
              "        vertical-align: middle;\n",
              "    }\n",
              "\n",
              "    .dataframe tbody tr th {\n",
              "        vertical-align: top;\n",
              "    }\n",
              "\n",
              "    .dataframe thead th {\n",
              "        text-align: right;\n",
              "    }\n",
              "</style>\n",
              "<table border=\"1\" class=\"dataframe\">\n",
              "  <thead>\n",
              "    <tr style=\"text-align: right;\">\n",
              "      <th></th>\n",
              "      <th>count</th>\n",
              "      <th>mean</th>\n",
              "      <th>std</th>\n",
              "      <th>min</th>\n",
              "      <th>25%</th>\n",
              "      <th>50%</th>\n",
              "      <th>75%</th>\n",
              "      <th>max</th>\n",
              "    </tr>\n",
              "  </thead>\n",
              "  <tbody>\n",
              "    <tr>\n",
              "      <th>employee</th>\n",
              "      <td>4067.0</td>\n",
              "      <td>192.624539</td>\n",
              "      <td>206.291948</td>\n",
              "      <td>1.00</td>\n",
              "      <td>51.000000</td>\n",
              "      <td>131.000000</td>\n",
              "      <td>244.000000</td>\n",
              "      <td>999.000000</td>\n",
              "    </tr>\n",
              "    <tr>\n",
              "      <th>stillExists</th>\n",
              "      <td>4067.0</td>\n",
              "      <td>0.854438</td>\n",
              "      <td>0.352710</td>\n",
              "      <td>0.00</td>\n",
              "      <td>1.000000</td>\n",
              "      <td>1.000000</td>\n",
              "      <td>1.000000</td>\n",
              "      <td>1.000000</td>\n",
              "    </tr>\n",
              "    <tr>\n",
              "      <th>vote.mean</th>\n",
              "      <td>4067.0</td>\n",
              "      <td>2.959289</td>\n",
              "      <td>0.635475</td>\n",
              "      <td>1.00</td>\n",
              "      <td>2.666667</td>\n",
              "      <td>3.000000</td>\n",
              "      <td>3.333333</td>\n",
              "      <td>4.000000</td>\n",
              "    </tr>\n",
              "    <tr>\n",
              "      <th>vote.mode</th>\n",
              "      <td>4067.0</td>\n",
              "      <td>2.985739</td>\n",
              "      <td>0.826452</td>\n",
              "      <td>1.00</td>\n",
              "      <td>3.000000</td>\n",
              "      <td>3.000000</td>\n",
              "      <td>4.000000</td>\n",
              "      <td>4.000000</td>\n",
              "    </tr>\n",
              "    <tr>\n",
              "      <th>vote.min</th>\n",
              "      <td>4067.0</td>\n",
              "      <td>1.913204</td>\n",
              "      <td>0.949844</td>\n",
              "      <td>1.00</td>\n",
              "      <td>1.000000</td>\n",
              "      <td>2.000000</td>\n",
              "      <td>3.000000</td>\n",
              "      <td>4.000000</td>\n",
              "    </tr>\n",
              "    <tr>\n",
              "      <th>vote.max</th>\n",
              "      <td>4067.0</td>\n",
              "      <td>3.716007</td>\n",
              "      <td>0.510824</td>\n",
              "      <td>2.00</td>\n",
              "      <td>3.000000</td>\n",
              "      <td>4.000000</td>\n",
              "      <td>4.000000</td>\n",
              "      <td>4.000000</td>\n",
              "    </tr>\n",
              "    <tr>\n",
              "      <th>vote.count</th>\n",
              "      <td>4067.0</td>\n",
              "      <td>45.848291</td>\n",
              "      <td>57.834256</td>\n",
              "      <td>1.00</td>\n",
              "      <td>6.000000</td>\n",
              "      <td>20.000000</td>\n",
              "      <td>65.000000</td>\n",
              "      <td>275.000000</td>\n",
              "    </tr>\n",
              "    <tr>\n",
              "      <th>diffDaysVote.max</th>\n",
              "      <td>4067.0</td>\n",
              "      <td>136.111384</td>\n",
              "      <td>133.783987</td>\n",
              "      <td>0.00</td>\n",
              "      <td>21.000000</td>\n",
              "      <td>107.000000</td>\n",
              "      <td>206.500000</td>\n",
              "      <td>572.000000</td>\n",
              "    </tr>\n",
              "    <tr>\n",
              "      <th>diffDaysVote.median</th>\n",
              "      <td>4067.0</td>\n",
              "      <td>73.179862</td>\n",
              "      <td>73.901932</td>\n",
              "      <td>0.00</td>\n",
              "      <td>10.500000</td>\n",
              "      <td>55.000000</td>\n",
              "      <td>113.000000</td>\n",
              "      <td>330.500000</td>\n",
              "    </tr>\n",
              "    <tr>\n",
              "      <th>likes.mean</th>\n",
              "      <td>4067.0</td>\n",
              "      <td>6.467529</td>\n",
              "      <td>4.338262</td>\n",
              "      <td>0.00</td>\n",
              "      <td>3.500000</td>\n",
              "      <td>6.631448</td>\n",
              "      <td>6.918435</td>\n",
              "      <td>20.648649</td>\n",
              "    </tr>\n",
              "    <tr>\n",
              "      <th>likes.min</th>\n",
              "      <td>4067.0</td>\n",
              "      <td>2.185052</td>\n",
              "      <td>2.578090</td>\n",
              "      <td>0.00</td>\n",
              "      <td>0.000000</td>\n",
              "      <td>2.344741</td>\n",
              "      <td>2.344741</td>\n",
              "      <td>12.000000</td>\n",
              "    </tr>\n",
              "    <tr>\n",
              "      <th>likes.max</th>\n",
              "      <td>4067.0</td>\n",
              "      <td>14.167108</td>\n",
              "      <td>9.807743</td>\n",
              "      <td>0.00</td>\n",
              "      <td>7.000000</td>\n",
              "      <td>14.630043</td>\n",
              "      <td>15.000000</td>\n",
              "      <td>45.000000</td>\n",
              "    </tr>\n",
              "    <tr>\n",
              "      <th>dislikes.mean</th>\n",
              "      <td>4067.0</td>\n",
              "      <td>1.092855</td>\n",
              "      <td>1.071616</td>\n",
              "      <td>0.00</td>\n",
              "      <td>0.277778</td>\n",
              "      <td>1.169380</td>\n",
              "      <td>1.169380</td>\n",
              "      <td>5.666667</td>\n",
              "    </tr>\n",
              "    <tr>\n",
              "      <th>dislikes.min</th>\n",
              "      <td>4067.0</td>\n",
              "      <td>0.191269</td>\n",
              "      <td>0.462564</td>\n",
              "      <td>0.00</td>\n",
              "      <td>0.000000</td>\n",
              "      <td>0.000000</td>\n",
              "      <td>0.247118</td>\n",
              "      <td>3.000000</td>\n",
              "    </tr>\n",
              "    <tr>\n",
              "      <th>dislikes.max</th>\n",
              "      <td>4067.0</td>\n",
              "      <td>4.127420</td>\n",
              "      <td>4.007607</td>\n",
              "      <td>0.00</td>\n",
              "      <td>1.000000</td>\n",
              "      <td>4.383285</td>\n",
              "      <td>4.383285</td>\n",
              "      <td>18.000000</td>\n",
              "    </tr>\n",
              "    <tr>\n",
              "      <th>carac.mean</th>\n",
              "      <td>4067.0</td>\n",
              "      <td>86.839001</td>\n",
              "      <td>53.885238</td>\n",
              "      <td>0.75</td>\n",
              "      <td>50.973684</td>\n",
              "      <td>89.613631</td>\n",
              "      <td>89.613631</td>\n",
              "      <td>283.000000</td>\n",
              "    </tr>\n",
              "    <tr>\n",
              "      <th>carac.min</th>\n",
              "      <td>4067.0</td>\n",
              "      <td>29.820060</td>\n",
              "      <td>26.724018</td>\n",
              "      <td>0.00</td>\n",
              "      <td>12.000000</td>\n",
              "      <td>31.292147</td>\n",
              "      <td>31.292147</td>\n",
              "      <td>146.000000</td>\n",
              "    </tr>\n",
              "    <tr>\n",
              "      <th>carac.max</th>\n",
              "      <td>4067.0</td>\n",
              "      <td>238.980465</td>\n",
              "      <td>221.852253</td>\n",
              "      <td>1.00</td>\n",
              "      <td>96.000000</td>\n",
              "      <td>252.243876</td>\n",
              "      <td>252.243876</td>\n",
              "      <td>1770.000000</td>\n",
              "    </tr>\n",
              "    <tr>\n",
              "      <th>diffDaysComment.min</th>\n",
              "      <td>4067.0</td>\n",
              "      <td>26.920826</td>\n",
              "      <td>46.947078</td>\n",
              "      <td>0.00</td>\n",
              "      <td>2.000000</td>\n",
              "      <td>9.000000</td>\n",
              "      <td>20.000000</td>\n",
              "      <td>210.000000</td>\n",
              "    </tr>\n",
              "    <tr>\n",
              "      <th>diffDaysComment.max</th>\n",
              "      <td>4067.0</td>\n",
              "      <td>136.713548</td>\n",
              "      <td>98.754819</td>\n",
              "      <td>0.00</td>\n",
              "      <td>75.000000</td>\n",
              "      <td>129.000000</td>\n",
              "      <td>165.000000</td>\n",
              "      <td>473.000000</td>\n",
              "    </tr>\n",
              "    <tr>\n",
              "      <th>diffDaysComment.median</th>\n",
              "      <td>4067.0</td>\n",
              "      <td>93.833538</td>\n",
              "      <td>73.950597</td>\n",
              "      <td>0.00</td>\n",
              "      <td>45.000000</td>\n",
              "      <td>84.500000</td>\n",
              "      <td>114.000000</td>\n",
              "      <td>352.000000</td>\n",
              "    </tr>\n",
              "    <tr>\n",
              "      <th>commentId.count</th>\n",
              "      <td>4067.0</td>\n",
              "      <td>7.774527</td>\n",
              "      <td>12.975555</td>\n",
              "      <td>0.00</td>\n",
              "      <td>0.000000</td>\n",
              "      <td>2.000000</td>\n",
              "      <td>9.000000</td>\n",
              "      <td>59.000000</td>\n",
              "    </tr>\n",
              "    <tr>\n",
              "      <th>likesRatio</th>\n",
              "      <td>4067.0</td>\n",
              "      <td>52.648411</td>\n",
              "      <td>105.621990</td>\n",
              "      <td>0.00</td>\n",
              "      <td>5.000000</td>\n",
              "      <td>5.670908</td>\n",
              "      <td>13.180556</td>\n",
              "      <td>300.000000</td>\n",
              "    </tr>\n",
              "    <tr>\n",
              "      <th>likesRatio.d</th>\n",
              "      <td>4067.0</td>\n",
              "      <td>1.064175</td>\n",
              "      <td>0.775969</td>\n",
              "      <td>0.00</td>\n",
              "      <td>0.000000</td>\n",
              "      <td>1.000000</td>\n",
              "      <td>2.000000</td>\n",
              "      <td>2.000000</td>\n",
              "    </tr>\n",
              "    <tr>\n",
              "      <th>stillExists.meanDislikedComments</th>\n",
              "      <td>4067.0</td>\n",
              "      <td>0.487102</td>\n",
              "      <td>0.480250</td>\n",
              "      <td>0.00</td>\n",
              "      <td>0.000000</td>\n",
              "      <td>0.500000</td>\n",
              "      <td>1.000000</td>\n",
              "      <td>1.000000</td>\n",
              "    </tr>\n",
              "    <tr>\n",
              "      <th>stillExists.meanLikedComments</th>\n",
              "      <td>4067.0</td>\n",
              "      <td>0.679346</td>\n",
              "      <td>0.436552</td>\n",
              "      <td>0.00</td>\n",
              "      <td>0.000000</td>\n",
              "      <td>0.988372</td>\n",
              "      <td>1.000000</td>\n",
              "      <td>1.000000</td>\n",
              "    </tr>\n",
              "  </tbody>\n",
              "</table>\n",
              "</div>\n",
              "      <button class=\"colab-df-convert\" onclick=\"convertToInteractive('df-d5822b28-8364-4c25-aa8a-d39cc6ba34a8')\"\n",
              "              title=\"Convert this dataframe to an interactive table.\"\n",
              "              style=\"display:none;\">\n",
              "        \n",
              "  <svg xmlns=\"http://www.w3.org/2000/svg\" height=\"24px\"viewBox=\"0 0 24 24\"\n",
              "       width=\"24px\">\n",
              "    <path d=\"M0 0h24v24H0V0z\" fill=\"none\"/>\n",
              "    <path d=\"M18.56 5.44l.94 2.06.94-2.06 2.06-.94-2.06-.94-.94-2.06-.94 2.06-2.06.94zm-11 1L8.5 8.5l.94-2.06 2.06-.94-2.06-.94L8.5 2.5l-.94 2.06-2.06.94zm10 10l.94 2.06.94-2.06 2.06-.94-2.06-.94-.94-2.06-.94 2.06-2.06.94z\"/><path d=\"M17.41 7.96l-1.37-1.37c-.4-.4-.92-.59-1.43-.59-.52 0-1.04.2-1.43.59L10.3 9.45l-7.72 7.72c-.78.78-.78 2.05 0 2.83L4 21.41c.39.39.9.59 1.41.59.51 0 1.02-.2 1.41-.59l7.78-7.78 2.81-2.81c.8-.78.8-2.07 0-2.86zM5.41 20L4 18.59l7.72-7.72 1.47 1.35L5.41 20z\"/>\n",
              "  </svg>\n",
              "      </button>\n",
              "      \n",
              "  <style>\n",
              "    .colab-df-container {\n",
              "      display:flex;\n",
              "      flex-wrap:wrap;\n",
              "      gap: 12px;\n",
              "    }\n",
              "\n",
              "    .colab-df-convert {\n",
              "      background-color: #E8F0FE;\n",
              "      border: none;\n",
              "      border-radius: 50%;\n",
              "      cursor: pointer;\n",
              "      display: none;\n",
              "      fill: #1967D2;\n",
              "      height: 32px;\n",
              "      padding: 0 0 0 0;\n",
              "      width: 32px;\n",
              "    }\n",
              "\n",
              "    .colab-df-convert:hover {\n",
              "      background-color: #E2EBFA;\n",
              "      box-shadow: 0px 1px 2px rgba(60, 64, 67, 0.3), 0px 1px 3px 1px rgba(60, 64, 67, 0.15);\n",
              "      fill: #174EA6;\n",
              "    }\n",
              "\n",
              "    [theme=dark] .colab-df-convert {\n",
              "      background-color: #3B4455;\n",
              "      fill: #D2E3FC;\n",
              "    }\n",
              "\n",
              "    [theme=dark] .colab-df-convert:hover {\n",
              "      background-color: #434B5C;\n",
              "      box-shadow: 0px 1px 3px 1px rgba(0, 0, 0, 0.15);\n",
              "      filter: drop-shadow(0px 1px 2px rgba(0, 0, 0, 0.3));\n",
              "      fill: #FFFFFF;\n",
              "    }\n",
              "  </style>\n",
              "\n",
              "      <script>\n",
              "        const buttonEl =\n",
              "          document.querySelector('#df-d5822b28-8364-4c25-aa8a-d39cc6ba34a8 button.colab-df-convert');\n",
              "        buttonEl.style.display =\n",
              "          google.colab.kernel.accessAllowed ? 'block' : 'none';\n",
              "\n",
              "        async function convertToInteractive(key) {\n",
              "          const element = document.querySelector('#df-d5822b28-8364-4c25-aa8a-d39cc6ba34a8');\n",
              "          const dataTable =\n",
              "            await google.colab.kernel.invokeFunction('convertToInteractive',\n",
              "                                                     [key], {});\n",
              "          if (!dataTable) return;\n",
              "\n",
              "          const docLinkHtml = 'Like what you see? Visit the ' +\n",
              "            '<a target=\"_blank\" href=https://colab.research.google.com/notebooks/data_table.ipynb>data table notebook</a>'\n",
              "            + ' to learn more about interactive tables.';\n",
              "          element.innerHTML = '';\n",
              "          dataTable['output_type'] = 'display_data';\n",
              "          await google.colab.output.renderOutput(dataTable, element);\n",
              "          const docLink = document.createElement('div');\n",
              "          docLink.innerHTML = docLinkHtml;\n",
              "          element.appendChild(docLink);\n",
              "        }\n",
              "      </script>\n",
              "    </div>\n",
              "  </div>\n",
              "  "
            ]
          },
          "metadata": {},
          "execution_count": 206
        }
      ]
    },
    {
      "cell_type": "markdown",
      "source": [
        "### Tratamento de variáveis"
      ],
      "metadata": {
        "id": "2Z19EHE5XjYq"
      }
    },
    {
      "cell_type": "markdown",
      "source": [
        "#### a) Plotar histogramas de cada variável numérica, as distribuições são normais?"
      ],
      "metadata": {
        "id": "bsWurDxVXruY"
      }
    },
    {
      "cell_type": "code",
      "source": [
        "churn.info()"
      ],
      "metadata": {
        "colab": {
          "base_uri": "https://localhost:8080/"
        },
        "id": "7KoDLb8XXn6w",
        "outputId": "306e6863-2cdd-4c69-bb6c-10e2c593f1f5"
      },
      "execution_count": 207,
      "outputs": [
        {
          "output_type": "stream",
          "name": "stdout",
          "text": [
            "<class 'pandas.core.frame.DataFrame'>\n",
            "Int64Index: 4067 entries, 0 to 4066\n",
            "Data columns (total 30 columns):\n",
            " #   Column                            Non-Null Count  Dtype         \n",
            "---  ------                            --------------  -----         \n",
            " 0   companyAlias                      4067 non-null   object        \n",
            " 1   employee                          4067 non-null   int64         \n",
            " 2   stillExists                       4067 non-null   int64         \n",
            " 3   lastParticipationDate             4067 non-null   datetime64[ns]\n",
            " 4   vote.mean                         4067 non-null   float64       \n",
            " 5   vote.mode                         4067 non-null   int64         \n",
            " 6   vote.min                          4067 non-null   int64         \n",
            " 7   vote.max                          4067 non-null   int64         \n",
            " 8   vote.count                        4067 non-null   int64         \n",
            " 9   diffDaysVote.max                  4067 non-null   int64         \n",
            " 10  diffDaysVote.median               4067 non-null   float64       \n",
            " 11  likes.mean                        4067 non-null   float64       \n",
            " 12  likes.min                         4067 non-null   float64       \n",
            " 13  likes.max                         4067 non-null   float64       \n",
            " 14  dislikes.mean                     4067 non-null   float64       \n",
            " 15  dislikes.min                      4067 non-null   float64       \n",
            " 16  dislikes.max                      4067 non-null   float64       \n",
            " 17  carac.mean                        4067 non-null   float64       \n",
            " 18  carac.min                         4067 non-null   float64       \n",
            " 19  carac.max                         4067 non-null   float64       \n",
            " 20  diffDaysComment.min               4067 non-null   float64       \n",
            " 21  diffDaysComment.max               4067 non-null   float64       \n",
            " 22  diffDaysComment.median            4067 non-null   float64       \n",
            " 23  commentId.count                   4067 non-null   float64       \n",
            " 24  companyType                       4067 non-null   object        \n",
            " 25  gender                            4067 non-null   object        \n",
            " 26  likesRatio                        4067 non-null   float64       \n",
            " 27  likesRatio.d                      4067 non-null   float64       \n",
            " 28  stillExists.meanDislikedComments  4067 non-null   float64       \n",
            " 29  stillExists.meanLikedComments     4067 non-null   float64       \n",
            "dtypes: datetime64[ns](1), float64(19), int64(7), object(3)\n",
            "memory usage: 985.0+ KB\n"
          ]
        }
      ]
    },
    {
      "cell_type": "code",
      "source": [
        "num = ['vote.mean', 'vote.mode', 'vote.min', 'vote.max', 'vote.count',\n",
        "       'diffDaysVote.max', 'diffDaysVote.median', 'likes.mean', 'likes.min',\n",
        "       'likes.max', 'dislikes.mean', 'dislikes.min', 'dislikes.max',\n",
        "       'carac.mean', 'carac.min', 'carac.max', 'diffDaysComment.min',\n",
        "       'diffDaysComment.max', 'diffDaysComment.median', 'commentId.count',\n",
        "       'likesRatio.d', 'stillExists.meanDislikedComments',\n",
        "       'stillExists.meanLikedComments']\n",
        "cat = ['stillExists', 'gender', 'companyType']"
      ],
      "metadata": {
        "id": "Q1ef6UqVYXKe"
      },
      "execution_count": 211,
      "outputs": []
    },
    {
      "cell_type": "code",
      "source": [
        "for col in num:\n",
        "  plt.figure(figsize=(15,6))\n",
        "  sns.histplot(churn,\n",
        "                x=col)\n",
        "  plt.show()"
      ],
      "metadata": {
        "colab": {
          "base_uri": "https://localhost:8080/",
          "height": 1000
        },
        "id": "4mEOQcrWZ7Gx",
        "outputId": "80b00bf9-a4d7-4973-c3f1-3c58da310725"
      },
      "execution_count": 215,
      "outputs": [
        {
          "output_type": "display_data",
          "data": {
            "text/plain": [
              "<Figure size 1080x432 with 1 Axes>"
            ],
            "image/png": "[encoded data removed]"
          },
          "metadata": {
            "needs_background": "light"
          }
        },
        {
          "output_type": "display_data",
          "data": {
            "text/plain": [
              "<Figure size 1080x432 with 1 Axes>"
            ],
            "image/png": "[encoded data removed]"
          },
          "metadata": {
            "needs_background": "light"
          }
        },
        {
          "output_type": "display_data",
          "data": {
            "text/plain": [
              "<Figure size 1080x432 with 1 Axes>"
            ],
            "image/png": "[encoded data removed]"
          },
          "metadata": {
            "needs_background": "light"
          }
        },
        {
          "output_type": "display_data",
          "data": {
            "text/plain": [
              "<Figure size 1080x432 with 1 Axes>"
            ],
            "image/png": "[encoded data removed]"
          },
          "metadata": {
            "needs_background": "light"
          }
        },
        {
          "output_type": "display_data",
          "data": {
            "text/plain": [
              "<Figure size 1080x432 with 1 Axes>"
            ],
            "image/png": "[encoded data removed]"
          },
          "metadata": {
            "needs_background": "light"
          }
        },
        {
          "output_type": "display_data",
          "data": {
            "text/plain": [
              "<Figure size 1080x432 with 1 Axes>"
            ],
            "image/png": "[encoded data removed]"
          },
          "metadata": {
            "needs_background": "light"
          }
        },
        {
          "output_type": "display_data",
          "data": {
            "text/plain": [
              "<Figure size 1080x432 with 1 Axes>"
            ],
            "image/png": "[encoded data removed]"
          },
          "metadata": {
            "needs_background": "light"
          }
        },
        {
          "output_type": "display_data",
          "data": {
            "text/plain": [
              "<Figure size 1080x432 with 1 Axes>"
            ],
            "image/png": "[encoded data removed]"
          },
          "metadata": {
            "needs_background": "light"
          }
        },
        {
          "output_type": "display_data",
          "data": {
            "text/plain": [
              "<Figure size 1080x432 with 1 Axes>"
            ],
            "image/png": "[encoded data removed]"
          },
          "metadata": {
            "needs_background": "light"
          }
        },
        {
          "output_type": "display_data",
          "data": {
            "text/plain": [
              "<Figure size 1080x432 with 1 Axes>"
            ],
            "image/png": "[encoded data removed]"
          },
          "metadata": {
            "needs_background": "light"
          }
        },
        {
          "output_type": "display_data",
          "data": {
            "text/plain": [
              "<Figure size 1080x432 with 1 Axes>"
            ],
            "image/png": "[encoded data removed]"
          },
          "metadata": {
            "needs_background": "light"
          }
        },
        {
          "output_type": "display_data",
          "data": {
            "text/plain": [
              "<Figure size 1080x432 with 1 Axes>"
            ],
            "image/png": "[encoded data removed]"
          },
          "metadata": {
            "needs_background": "light"
          }
        },
        {
          "output_type": "display_data",
          "data": {
            "text/plain": [
              "<Figure size 1080x432 with 1 Axes>"
            ],
            "image/png": "[encoded data removed]"
          },
          "metadata": {
            "needs_background": "light"
          }
        },
        {
          "output_type": "display_data",
          "data": {
            "text/plain": [
              "<Figure size 1080x432 with 1 Axes>"
            ],
            "image/png": "[encoded data removed]"
          },
          "metadata": {
            "needs_background": "light"
          }
        },
        {
          "output_type": "display_data",
          "data": {
            "text/plain": [
              "<Figure size 1080x432 with 1 Axes>"
            ],
            "image/png": "[encoded data removed]"
          },
          "metadata": {
            "needs_background": "light"
          }
        },
        {
          "output_type": "display_data",
          "data": {
            "text/plain": [
              "<Figure size 1080x432 with 1 Axes>"
            ],
            "image/png": "[encoded data removed]"
          },
          "metadata": {
            "needs_background": "light"
          }
        },
        {
          "output_type": "display_data",
          "data": {
            "text/plain": [
              "<Figure size 1080x432 with 1 Axes>"
            ],
            "image/png": "[encoded data removed]"
          },
          "metadata": {
            "needs_background": "light"
          }
        },
        {
          "output_type": "display_data",
          "data": {
            "text/plain": [
              "<Figure size 1080x432 with 1 Axes>"
            ],
            "image/png": "[encoded data removed]"
          },
          "metadata": {
            "needs_background": "light"
          }
        },
        {
          "output_type": "display_data",
          "data": {
            "text/plain": [
              "<Figure size 1080x432 with 1 Axes>"
            ],
            "image/png": "[encoded data removed]"
          },
          "metadata": {
            "needs_background": "light"
          }
        },
        {
          "output_type": "display_data",
          "data": {
            "text/plain": [
              "<Figure size 1080x432 with 1 Axes>"
            ],
            "image/png": "[encoded data removed]"
          },
          "metadata": {
            "needs_background": "light"
          }
        },
        {
          "output_type": "display_data",
          "data": {
            "text/plain": [
              "<Figure size 1080x432 with 1 Axes>"
            ],
            "image/png": "[encoded data removed]"
          },
          "metadata": {
            "needs_background": "light"
          }
        },
        {
          "output_type": "display_data",
          "data": {
            "text/plain": [
              "<Figure size 1080x432 with 1 Axes>"
            ],
            "image/png": "[encoded data removed]"
          },
          "metadata": {
            "needs_background": "light"
          }
        },
        {
          "output_type": "display_data",
          "data": {
            "text/plain": [
              "<Figure size 1080x432 with 1 Axes>"
            ],
            "image/png": "[encoded data removed]"
          },
          "metadata": {
            "needs_background": "light"
          }
        }
      ]
    },
    {
      "cell_type": "markdown",
      "source": [
        "#### b) Muitas variáveis estão com cauda muito longa, aplicar box-cox transformation"
      ],
      "metadata": {
        "id": "a-MJn40jcGHM"
      }
    },
    {
      "cell_type": "code",
      "source": [
        ""
      ],
      "metadata": {
        "id": "UJT1Zo1jcOPa"
      },
      "execution_count": null,
      "outputs": []
    }
  ]
}